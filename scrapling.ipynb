{
 "cells": [
  {
   "cell_type": "code",
   "execution_count": 11,
   "metadata": {},
   "outputs": [],
   "source": [
    "from scrapling import Fetcher"
   ]
  },
  {
   "cell_type": "markdown",
   "metadata": {},
   "source": [
    "# Fetcher"
   ]
  },
  {
   "cell_type": "markdown",
   "metadata": {},
   "source": [
    "Do http GET request to a web page and create an Adaptor instance"
   ]
  },
  {
   "cell_type": "code",
   "execution_count": 66,
   "metadata": {},
   "outputs": [
    {
     "name": "stderr",
     "output_type": "stream",
     "text": [
      "[2025-03-06 17:25:28] INFO: Fetched (200) <GET https://quotes.toscrape.com/> (referer: https://www.google.com/search?q=toscrape)\n"
     ]
    }
   ],
   "source": [
    "fetcher = Fetcher(auto_match=False)\n",
    "\n",
    "page = fetcher.get(\"https://quotes.toscrape.com/\", stealthy_headers=True)"
   ]
  },
  {
   "cell_type": "markdown",
   "metadata": {},
   "source": [
    "Get all text content from all HTML tags in the page except 'script' and 'style' tags"
   ]
  },
  {
   "cell_type": "code",
   "execution_count": 15,
   "metadata": {},
   "outputs": [
    {
     "name": "stdout",
     "output_type": "stream",
     "text": [
      "Quotes to Scrape\n",
      "\n",
      "    \n",
      "\n",
      "        \n",
      "\n",
      "            \n",
      "\n",
      "                \n",
      "\n",
      "                    \n",
      "Quotes to Scrape\n",
      "\n",
      "                \n",
      "\n",
      "                \n",
      "                    \n",
      "Login\n",
      "\n",
      "    \n",
      "\n",
      "\n",
      "    \n",
      "\n",
      "        \n",
      "“The world as we have created it is a process of our thinking. It cannot be changed without changing our thinking.”\n",
      "by \n",
      "Albert Einstein\n",
      "(about)\n",
      "\n",
      "            Tags:\n",
      "            \n",
      "change\n",
      "deep-thoughts\n",
      "thinking\n",
      "world\n",
      "\n",
      "        \n",
      "“It is our choices, Harry, that show what we truly are, far more than our abilities.”\n",
      "by \n",
      "J.K. Rowling\n",
      "(about)\n",
      "\n",
      "            Tags:\n",
      "            \n",
      "abilities\n",
      "choices\n",
      "\n",
      "        \n",
      "“There are only two ways to live your life. One is as though nothing is a miracle. The other is as though everything is a miracle.”\n",
      "by \n",
      "Albert Einstein\n",
      "(about)\n",
      "\n",
      "            Tags:\n",
      "            \n",
      "inspirational\n",
      "life\n",
      "live\n",
      "miracle\n",
      "miracles\n",
      "\n",
      "        \n",
      "“The person, be it gentleman or lady, who has not pleasure in a good novel, must be intolerably stupid.”\n",
      "by \n",
      "Jane Austen\n",
      "(about)\n",
      "\n",
      "            Tags:\n",
      "            \n",
      "aliteracy\n",
      "books\n",
      "classic\n",
      "humor\n",
      "\n",
      "        \n",
      "“Imperfection is beauty, madness is genius and it's better to be absolutely ridiculous than absolutely boring.”\n",
      "by \n",
      "Marilyn Monroe\n",
      "(about)\n",
      "\n",
      "            Tags:\n",
      "            \n",
      "be-yourself\n",
      "inspirational\n",
      "\n",
      "        \n",
      "“Try not to become a man of success. Rather become a man of value.”\n",
      "by \n",
      "Albert Einstein\n",
      "(about)\n",
      "\n",
      "            Tags:\n",
      "            \n",
      "adulthood\n",
      "success\n",
      "value\n",
      "\n",
      "        \n",
      "“It is better to be hated for what you are than to be loved for what you are not.”\n",
      "by \n",
      "André Gide\n",
      "(about)\n",
      "\n",
      "            Tags:\n",
      "            \n",
      "life\n",
      "love\n",
      "\n",
      "        \n",
      "“I have not failed. I've just found 10,000 ways that won't work.”\n",
      "by \n",
      "Thomas A. Edison\n",
      "(about)\n",
      "\n",
      "            Tags:\n",
      "            \n",
      "edison\n",
      "failure\n",
      "inspirational\n",
      "paraphrased\n",
      "\n",
      "        \n",
      "“A woman is like a tea bag; you never know how strong it is until it's in hot water.”\n",
      "by \n",
      "Eleanor Roosevelt\n",
      "(about)\n",
      "\n",
      "            Tags:\n",
      "            \n",
      "misattributed-eleanor-roosevelt\n",
      "\n",
      "        \n",
      "“A day without sunshine is like, you know, night.”\n",
      "by \n",
      "Steve Martin\n",
      "(about)\n",
      "\n",
      "            Tags:\n",
      "            \n",
      "humor\n",
      "obvious\n",
      "simile\n",
      "\n",
      "                \n",
      "Next \n",
      "→\n",
      "\n",
      "        \n",
      "            \n",
      "Top Ten tags\n",
      "\n",
      "            \n",
      "love\n",
      "\n",
      "            \n",
      "inspirational\n",
      "\n",
      "            \n",
      "life\n",
      "\n",
      "            \n",
      "humor\n",
      "\n",
      "            \n",
      "books\n",
      "\n",
      "            \n",
      "reading\n",
      "\n",
      "            \n",
      "friendship\n",
      "\n",
      "            \n",
      "friends\n",
      "\n",
      "            \n",
      "truth\n",
      "\n",
      "            \n",
      "simile\n",
      "\n",
      "            \n",
      "\n",
      "                Quotes by: \n",
      "GoodReads.com\n",
      "\n",
      "                Made with \n",
      "❤\n",
      "Zyte\n"
     ]
    }
   ],
   "source": [
    "text = page.get_all_text(ignore_tags=(\"script\", \"style\"))\n",
    "print(text)"
   ]
  },
  {
   "cell_type": "markdown",
   "metadata": {},
   "source": [
    "Get quotes elements by CSS selector\n",
    "- \".quote .text::text\" -> get text content from HTML elements that contains both 'quote' and 'text' class "
   ]
  },
  {
   "cell_type": "code",
   "execution_count": 16,
   "metadata": {},
   "outputs": [
    {
     "data": {
      "text/plain": [
       "['“The world as we have created it is a process of our thinking. It cannot be changed without changing our thinking.”',\n",
       " '“It is our choices, Harry, that show what we truly are, far more than our abilities.”',\n",
       " '“There are only two ways to live your life. One is as though nothing is a miracle. The other is as though everything is a miracle.”',\n",
       " '“The person, be it gentleman or lady, who has not pleasure in a good novel, must be intolerably stupid.”',\n",
       " \"“Imperfection is beauty, madness is genius and it's better to be absolutely ridiculous than absolutely boring.”\",\n",
       " '“Try not to become a man of success. Rather become a man of value.”',\n",
       " '“It is better to be hated for what you are than to be loved for what you are not.”',\n",
       " \"“I have not failed. I've just found 10,000 ways that won't work.”\",\n",
       " \"“A woman is like a tea bag; you never know how strong it is until it's in hot water.”\",\n",
       " '“A day without sunshine is like, you know, night.”']"
      ]
     },
     "execution_count": 16,
     "metadata": {},
     "output_type": "execute_result"
    }
   ],
   "source": [
    "quotes = page.css(\".quote .text::text\") # CSS selector\n",
    "quotes"
   ]
  },
  {
   "cell_type": "markdown",
   "metadata": {},
   "source": [
    "\"//span[@class='text']/text()\": This is the XPath expression that specifies what to select.\n",
    "\n",
    "- // -> This means \"select nodes in the document from the current node that match the selection, regardless of their location.\" In simpler terms, it searches the entire document.\n",
    "- span -> This specifies that you are looking for <span> elements.\n",
    "- [@class='text'] -> This part filters the <span> elements to only those that have a class attribute equal to \"text\".\n",
    "- /text() -> This indicates that you want to extract the text content of the selected <span> elements, not the elements themselves."
   ]
  },
  {
   "cell_type": "code",
   "execution_count": 17,
   "metadata": {},
   "outputs": [
    {
     "data": {
      "text/plain": [
       "['“The world as we have created it is a process of our thinking. It cannot be changed without changing our thinking.”',\n",
       " '“It is our choices, Harry, that show what we truly are, far more than our abilities.”',\n",
       " '“There are only two ways to live your life. One is as though nothing is a miracle. The other is as though everything is a miracle.”',\n",
       " '“The person, be it gentleman or lady, who has not pleasure in a good novel, must be intolerably stupid.”',\n",
       " \"“Imperfection is beauty, madness is genius and it's better to be absolutely ridiculous than absolutely boring.”\",\n",
       " '“Try not to become a man of success. Rather become a man of value.”',\n",
       " '“It is better to be hated for what you are than to be loved for what you are not.”',\n",
       " \"“I have not failed. I've just found 10,000 ways that won't work.”\",\n",
       " \"“A woman is like a tea bag; you never know how strong it is until it's in hot water.”\",\n",
       " '“A day without sunshine is like, you know, night.”']"
      ]
     },
     "execution_count": 17,
     "metadata": {},
     "output_type": "execute_result"
    }
   ],
   "source": [
    "quotes = page.xpath(\"//span[@class='text']/text()\")\n",
    "quotes"
   ]
  },
  {
   "cell_type": "markdown",
   "metadata": {},
   "source": [
    "Chain selectors"
   ]
  },
  {
   "cell_type": "code",
   "execution_count": 18,
   "metadata": {},
   "outputs": [
    {
     "data": {
      "text/plain": [
       "['“The world as we have created it is a process of our thinking. It cannot be changed without changing our thinking.”',\n",
       " '“It is our choices, Harry, that show what we truly are, far more than our abilities.”',\n",
       " '“There are only two ways to live your life. One is as though nothing is a miracle. The other is as though everything is a miracle.”',\n",
       " '“The person, be it gentleman or lady, who has not pleasure in a good novel, must be intolerably stupid.”',\n",
       " \"“Imperfection is beauty, madness is genius and it's better to be absolutely ridiculous than absolutely boring.”\",\n",
       " '“Try not to become a man of success. Rather become a man of value.”',\n",
       " '“It is better to be hated for what you are than to be loved for what you are not.”',\n",
       " \"“I have not failed. I've just found 10,000 ways that won't work.”\",\n",
       " \"“A woman is like a tea bag; you never know how strong it is until it's in hot water.”\",\n",
       " '“A day without sunshine is like, you know, night.”']"
      ]
     },
     "execution_count": 18,
     "metadata": {},
     "output_type": "execute_result"
    }
   ],
   "source": [
    "quotes = page.css('.quote').css('.text::text')\n",
    "quotes"
   ]
  },
  {
   "cell_type": "markdown",
   "metadata": {},
   "source": [
    "Slower than bulk query above"
   ]
  },
  {
   "cell_type": "code",
   "execution_count": 19,
   "metadata": {},
   "outputs": [
    {
     "data": {
      "text/plain": [
       "['“The world as we have created it is a process of our thinking. It cannot be changed without changing our thinking.”',\n",
       " '“It is our choices, Harry, that show what we truly are, far more than our abilities.”',\n",
       " '“There are only two ways to live your life. One is as though nothing is a miracle. The other is as though everything is a miracle.”',\n",
       " '“The person, be it gentleman or lady, who has not pleasure in a good novel, must be intolerably stupid.”',\n",
       " \"“Imperfection is beauty, madness is genius and it's better to be absolutely ridiculous than absolutely boring.”\",\n",
       " '“Try not to become a man of success. Rather become a man of value.”',\n",
       " '“It is better to be hated for what you are than to be loved for what you are not.”',\n",
       " \"“I have not failed. I've just found 10,000 ways that won't work.”\",\n",
       " \"“A woman is like a tea bag; you never know how strong it is until it's in hot water.”\",\n",
       " '“A day without sunshine is like, you know, night.”']"
      ]
     },
     "execution_count": 19,
     "metadata": {},
     "output_type": "execute_result"
    }
   ],
   "source": [
    "quotes = [element.text for element in page.css('.quote .text')]\n",
    "quotes"
   ]
  },
  {
   "cell_type": "markdown",
   "metadata": {},
   "source": [
    "Get first quote element\n",
    "- Same as page.css(\".quote\").first\n",
    "- Same as page.css(\".quote\")[0]"
   ]
  },
  {
   "cell_type": "code",
   "execution_count": 22,
   "metadata": {},
   "outputs": [
    {
     "data": {
      "text/plain": [
       "'“The world as we have created it is a process of our thinking. It cannot be changed without changing our thinking.”'"
      ]
     },
     "execution_count": 22,
     "metadata": {},
     "output_type": "execute_result"
    }
   ],
   "source": [
    "quote = page.css_first(\".quote .text::text\")\n",
    "quote"
   ]
  },
  {
   "cell_type": "code",
   "execution_count": 30,
   "metadata": {},
   "outputs": [
    {
     "data": {
      "text/plain": [
       "'“The world as we have created it is a process of our thinking. It cannot be changed without changing our thinking.”'"
      ]
     },
     "execution_count": 30,
     "metadata": {},
     "output_type": "execute_result"
    }
   ],
   "source": [
    "quote = page.css(\".quote .text\").first.text\n",
    "quote"
   ]
  },
  {
   "cell_type": "code",
   "execution_count": 27,
   "metadata": {},
   "outputs": [
    {
     "data": {
      "text/plain": [
       "'“The world as we have created it is a process of our thinking. It cannot be changed without changing our thinking.”'"
      ]
     },
     "execution_count": 27,
     "metadata": {},
     "output_type": "execute_result"
    }
   ],
   "source": [
    "quote = page.css(\".quote .text::text\")[0]\n",
    "quote"
   ]
  },
  {
   "cell_type": "markdown",
   "metadata": {},
   "source": [
    "Get all 'div' HTML tags that one of its 'class' values is 'quote'\n",
    "\n",
    "- quotes = page.find_all(\"div\", {\"class\": \"quote\"})\n",
    "- quotes = page.find_all('div', class_='quote')\n",
    "- quotes = page.find_all(['div'], class_='quote')\n",
    "- quotes = page.find_all(class_='quote')"
   ]
  },
  {
   "cell_type": "code",
   "execution_count": 31,
   "metadata": {},
   "outputs": [
    {
     "data": {
      "text/plain": [
       "[<data='<div class=\"quote\" itemscope itemtype=\"h...' parent='<div class=\"col-md-8\"> <div class=\"quote...'>,\n",
       " <data='<div class=\"quote\" itemscope itemtype=\"h...' parent='<div class=\"col-md-8\"> <div class=\"quote...'>,\n",
       " <data='<div class=\"quote\" itemscope itemtype=\"h...' parent='<div class=\"col-md-8\"> <div class=\"quote...'>,\n",
       " <data='<div class=\"quote\" itemscope itemtype=\"h...' parent='<div class=\"col-md-8\"> <div class=\"quote...'>,\n",
       " <data='<div class=\"quote\" itemscope itemtype=\"h...' parent='<div class=\"col-md-8\"> <div class=\"quote...'>,\n",
       " <data='<div class=\"quote\" itemscope itemtype=\"h...' parent='<div class=\"col-md-8\"> <div class=\"quote...'>,\n",
       " <data='<div class=\"quote\" itemscope itemtype=\"h...' parent='<div class=\"col-md-8\"> <div class=\"quote...'>,\n",
       " <data='<div class=\"quote\" itemscope itemtype=\"h...' parent='<div class=\"col-md-8\"> <div class=\"quote...'>,\n",
       " <data='<div class=\"quote\" itemscope itemtype=\"h...' parent='<div class=\"col-md-8\"> <div class=\"quote...'>,\n",
       " <data='<div class=\"quote\" itemscope itemtype=\"h...' parent='<div class=\"col-md-8\"> <div class=\"quote...'>]"
      ]
     },
     "execution_count": 31,
     "metadata": {},
     "output_type": "execute_result"
    }
   ],
   "source": [
    "quotes = page.find_all(\"div\", {\"class\": \"quote\"})\n",
    "quotes"
   ]
  },
  {
   "cell_type": "code",
   "execution_count": 35,
   "metadata": {},
   "outputs": [
    {
     "data": {
      "text/plain": [
       "[<data='<div class=\"quote\" itemscope itemtype=\"h...' parent='<div class=\"col-md-8\"> <div class=\"quote...'>,\n",
       " <data='<div class=\"quote\" itemscope itemtype=\"h...' parent='<div class=\"col-md-8\"> <div class=\"quote...'>,\n",
       " <data='<div class=\"quote\" itemscope itemtype=\"h...' parent='<div class=\"col-md-8\"> <div class=\"quote...'>,\n",
       " <data='<div class=\"quote\" itemscope itemtype=\"h...' parent='<div class=\"col-md-8\"> <div class=\"quote...'>,\n",
       " <data='<div class=\"quote\" itemscope itemtype=\"h...' parent='<div class=\"col-md-8\"> <div class=\"quote...'>,\n",
       " <data='<div class=\"quote\" itemscope itemtype=\"h...' parent='<div class=\"col-md-8\"> <div class=\"quote...'>,\n",
       " <data='<div class=\"quote\" itemscope itemtype=\"h...' parent='<div class=\"col-md-8\"> <div class=\"quote...'>,\n",
       " <data='<div class=\"quote\" itemscope itemtype=\"h...' parent='<div class=\"col-md-8\"> <div class=\"quote...'>,\n",
       " <data='<div class=\"quote\" itemscope itemtype=\"h...' parent='<div class=\"col-md-8\"> <div class=\"quote...'>,\n",
       " <data='<div class=\"quote\" itemscope itemtype=\"h...' parent='<div class=\"col-md-8\"> <div class=\"quote...'>]"
      ]
     },
     "execution_count": 35,
     "metadata": {},
     "output_type": "execute_result"
    }
   ],
   "source": [
    "quotes = page.find_all('div', class_='quote')\n",
    "quotes"
   ]
  },
  {
   "cell_type": "markdown",
   "metadata": {},
   "source": [
    "Get inner HTML of this element"
   ]
  },
  {
   "cell_type": "code",
   "execution_count": 69,
   "metadata": {},
   "outputs": [
    {
     "name": "stdout",
     "output_type": "stream",
     "text": [
      "<div class=\"quote\" itemscope itemtype=\"http://schema.org/CreativeWork\">\n",
      "        <span class=\"text\" itemprop=\"text\">“The world as we have created it is a process of our thinking. It cannot be changed without changing our thinking.”</span>\n",
      "        <span>by <small class=\"author\" itemprop=\"author\">Albert Einstein</small>\n",
      "        <a href=\"/author/Albert-Einstein\">(about)</a>\n",
      "        </span>\n",
      "        <div class=\"tags\">\n",
      "            Tags:\n",
      "            <meta class=\"keywords\" itemprop=\"keywords\" content=\"change,deep-thoughts,thinking,world\"><a class=\"tag\" href=\"/tag/change/page/1/\">change</a>\n",
      "            \n",
      "            <a class=\"tag\" href=\"/tag/deep-thoughts/page/1/\">deep-thoughts</a>\n",
      "            \n",
      "            <a class=\"tag\" href=\"/tag/thinking/page/1/\">thinking</a>\n",
      "            \n",
      "            <a class=\"tag\" href=\"/tag/world/page/1/\">world</a>\n",
      "            \n",
      "        </div>\n",
      "    </div>\n"
     ]
    }
   ],
   "source": [
    "print(quotes[0].html_content)"
   ]
  },
  {
   "cell_type": "markdown",
   "metadata": {},
   "source": [
    "Prettified version of Inner HTML above"
   ]
  },
  {
   "cell_type": "code",
   "execution_count": 43,
   "metadata": {},
   "outputs": [
    {
     "name": "stdout",
     "output_type": "stream",
     "text": [
      "<div class=\"quote\" itemscope itemtype=\"http://schema.org/CreativeWork\">\n",
      "        <span class=\"text\" itemprop=\"text\">“The world as we have created it is a process of our thinking. It cannot be changed without changing our thinking.”</span>\n",
      "        <span>by <small class=\"author\" itemprop=\"author\">Albert Einstein</small>\n",
      "        <a href=\"/author/Albert-Einstein\">(about)</a>\n",
      "        </span>\n",
      "        <div class=\"tags\">\n",
      "            Tags:\n",
      "            <meta class=\"keywords\" itemprop=\"keywords\" content=\"change,deep-thoughts,thinking,world\">\n",
      "<a class=\"tag\" href=\"/tag/change/page/1/\">change</a>\n",
      "            \n",
      "            <a class=\"tag\" href=\"/tag/deep-thoughts/page/1/\">deep-thoughts</a>\n",
      "            \n",
      "            <a class=\"tag\" href=\"/tag/thinking/page/1/\">thinking</a>\n",
      "            \n",
      "            <a class=\"tag\" href=\"/tag/world/page/1/\">world</a>\n",
      "            \n",
      "        </div>\n",
      "    </div>\n",
      "\n"
     ]
    }
   ],
   "source": [
    "print(quote.prettify())"
   ]
  },
  {
   "cell_type": "markdown",
   "metadata": {},
   "source": [
    "Get element's attributes"
   ]
  },
  {
   "cell_type": "code",
   "execution_count": 45,
   "metadata": {},
   "outputs": [
    {
     "data": {
      "text/plain": [
       "AttributesHandler({'class': 'quote', 'itemscope': '', 'itemtype': 'http://schema.org/CreativeWork'})"
      ]
     },
     "execution_count": 45,
     "metadata": {},
     "output_type": "execute_result"
    }
   ],
   "source": [
    "quote.attrib"
   ]
  },
  {
   "cell_type": "markdown",
   "metadata": {},
   "source": [
    "DOM path to element (List of all ancestors from <html> tag till the element itself)"
   ]
  },
  {
   "cell_type": "code",
   "execution_count": 46,
   "metadata": {},
   "outputs": [
    {
     "data": {
      "text/plain": [
       "[<data='<div class=\"col-md-8\"> <div class=\"quote...' parent='<div class=\"row\"> <div class=\"col-md-8\">...'>,\n",
       " <data='<div class=\"row\"> <div class=\"col-md-8\">...' parent='<div class=\"container\"> <div class=\"row...'>,\n",
       " <data='<div class=\"container\"> <div class=\"row...' parent='<body> <div class=\"container\"> <div clas...'>,\n",
       " <data='<body> <div class=\"container\"> <div clas...' parent='<html lang=\"en\"><head><meta charset=\"UTF...'>,\n",
       " <data='<html lang=\"en\"><head><meta charset=\"UTF...'>]"
      ]
     },
     "execution_count": 46,
     "metadata": {},
     "output_type": "execute_result"
    }
   ],
   "source": [
    "quote.path"
   ]
  },
  {
   "cell_type": "code",
   "execution_count": 54,
   "metadata": {},
   "outputs": [
    {
     "name": "stderr",
     "output_type": "stream",
     "text": [
      "[2025-03-06 17:09:55] INFO: Fetched (200) <GET https://httpbin.org/get> (referer: https://www.google.com/search?q=httpbin)\n"
     ]
    },
    {
     "data": {
      "text/plain": [
       "<data='<html><body><p>{ \"args\": {}, \"headers\":...'>"
      ]
     },
     "execution_count": 54,
     "metadata": {},
     "output_type": "execute_result"
    }
   ],
   "source": [
    "page = Fetcher().get('https://httpbin.org/get', stealthy_headers=True, follow_redirects=True)\n",
    "page"
   ]
  },
  {
   "cell_type": "code",
   "execution_count": 56,
   "metadata": {},
   "outputs": [
    {
     "name": "stdout",
     "output_type": "stream",
     "text": [
      "{\n",
      "  \"args\": {}, \n",
      "  \"headers\": {\n",
      "    \"Accept\": \"text/html,application/xhtml+xml,application/xml;q=0.9,image/avif,image/webp,image/apng,*/*;q=0.8,application/signed-exchange;v=b3;q=0.7\", \n",
      "    \"Accept-Encoding\": \"gzip, deflate, br, zstd\", \n",
      "    \"Accept-Language\": \"en-US;q=1.0\", \n",
      "    \"Host\": \"httpbin.org\", \n",
      "    \"Referer\": \"https://www.google.com/search?q=httpbin\", \n",
      "    \"Sec-Ch-Ua\": \"\\\"Microsoft Edge\\\";v=\\\"131\\\", \\\"Chromium\\\";v=\\\"131\\\", \\\"Not_A Brand\\\";v=\\\"24\\\"\", \n",
      "    \"Sec-Ch-Ua-Mobile\": \"?0\", \n",
      "    \"Sec-Ch-Ua-Platform\": \"\\\"Windows\\\"\", \n",
      "    \"Sec-Fetch-Dest\": \"navigate\", \n",
      "    \"Sec-Fetch-Mode\": \"same-site\", \n",
      "    \"Sec-Fetch-Site\": \"?1\", \n",
      "    \"Sec-Fetch-User\": \"document\", \n",
      "    \"Upgrade-Insecure-Requests\": \"1\", \n",
      "    \"User-Agent\": \"Mozilla/5.0 (Windows NT 10.0; Win64; x64) AppleWebKit/537.36 (KHTML, like Gecko) Chrome/131.0.0.0 Safari/537.36 Edg/131.0.0.0\", \n",
      "    \"X-Amzn-Trace-Id\": \"Root=1-67c96663-3e8406e76ecceb586c5fe7b4\"\n",
      "  }, \n",
      "  \"origin\": \"129.126.150.210\", \n",
      "  \"url\": \"https://httpbin.org/get\"\n",
      "}\n"
     ]
    }
   ],
   "source": [
    "print(page.get_all_text())"
   ]
  },
  {
   "cell_type": "code",
   "execution_count": 70,
   "metadata": {},
   "outputs": [
    {
     "data": {
      "text/plain": [
       "'div'"
      ]
     },
     "execution_count": 70,
     "metadata": {},
     "output_type": "execute_result"
    }
   ],
   "source": [
    "quotes[0].tag"
   ]
  },
  {
   "cell_type": "markdown",
   "metadata": {},
   "source": [
    "# AsyncFetcher"
   ]
  },
  {
   "cell_type": "code",
   "execution_count": 57,
   "metadata": {},
   "outputs": [
    {
     "name": "stderr",
     "output_type": "stream",
     "text": [
      "[2025-03-06 17:12:52] INFO: Fetched (200) <GET https://httpbin.org/get> (referer: https://www.google.com/search?q=httpbin)\n"
     ]
    },
    {
     "data": {
      "text/plain": [
       "'{\\n  \"args\": {}, \\n  \"headers\": {\\n    \"Accept\": \"text/html,application/xhtml+xml,application/xml;q=0.9,image/avif,image/webp,image/apng,*/*;q=0.8,application/signed-exchange;v=b3;q=0.7\", \\n    \"Accept-Encoding\": \"gzip, deflate, br, zstd\", \\n    \"Accept-Language\": \"en-US;q=1.0\", \\n    \"Host\": \"httpbin.org\", \\n    \"Referer\": \"https://www.google.com/search?q=httpbin\", \\n    \"Sec-Ch-Ua\": \"\\\\\"Google Chrome\\\\\";v=\\\\\"131\\\\\", \\\\\"Chromium\\\\\";v=\\\\\"131\\\\\", \\\\\"Not_A Brand\\\\\";v=\\\\\"24\\\\\"\", \\n    \"Sec-Ch-Ua-Mobile\": \"?0\", \\n    \"Sec-Ch-Ua-Platform\": \"\\\\\"macOS\\\\\"\", \\n    \"Sec-Fetch-Dest\": \"navigate\", \\n    \"Sec-Fetch-Mode\": \"same-site\", \\n    \"Sec-Fetch-Site\": \"?1\", \\n    \"Sec-Fetch-User\": \"document\", \\n    \"Upgrade-Insecure-Requests\": \"1\", \\n    \"User-Agent\": \"Mozilla/5.0 (Macintosh; Intel Mac OS X 10_15_7) AppleWebKit/537.36 (KHTML, like Gecko) Chrome/131.0.0.0 Safari/537.36\", \\n    \"X-Amzn-Trace-Id\": \"Root=1-67c96714-3743e02b5d263a805b887b9c\"\\n  }, \\n  \"origin\": \"129.126.150.210\", \\n  \"url\": \"https://httpbin.org/get\"\\n}'"
      ]
     },
     "execution_count": 57,
     "metadata": {},
     "output_type": "execute_result"
    }
   ],
   "source": [
    "from scrapling import AsyncFetcher\n",
    "page = await AsyncFetcher().get(\"https://httpbin.org/get\", stealthy_headers=True, follow_redirects=True)\n",
    "page.get_all_text()"
   ]
  },
  {
   "cell_type": "markdown",
   "metadata": {},
   "source": [
    "# StealthyFetcher\n",
    "\n",
    "- Only allows 'async_fetch'."
   ]
  },
  {
   "cell_type": "code",
   "execution_count": 61,
   "metadata": {},
   "outputs": [
    {
     "name": "stderr",
     "output_type": "stream",
     "text": [
      "/home/aw/miniconda3/envs/web/lib/python3.13/site-packages/pyee/base.py:186: RuntimeWarning: coroutine 'StealthyFetcher.async_fetch' was never awaited\n",
      "  funcs = list(self._events.get(event, OrderedDict()).values())\n",
      "RuntimeWarning: Enable tracemalloc to get the object allocation traceback\n",
      "[2025-03-06 17:15:30] INFO: Fetched (200) <GET https://www.browserscan.net/bot-detection> (referer: https://www.google.com/search?q=browserscan)\n"
     ]
    },
    {
     "data": {
      "text/plain": [
       "200"
      ]
     },
     "execution_count": 61,
     "metadata": {},
     "output_type": "execute_result"
    }
   ],
   "source": [
    "from scrapling import StealthyFetcher\n",
    "\n",
    "page = await StealthyFetcher().async_fetch('https://www.browserscan.net/bot-detection')\n",
    "page.status"
   ]
  },
  {
   "cell_type": "markdown",
   "metadata": {},
   "source": [
    "# PlayWrightFetcher\n",
    "\n",
    "- Same as StealthyFetcher i.e. only available in async mode.\n",
    "- Unable to bypass Google."
   ]
  },
  {
   "cell_type": "code",
   "execution_count": 72,
   "metadata": {},
   "outputs": [
    {
     "name": "stderr",
     "output_type": "stream",
     "text": [
      "[2025-03-06 17:38:46] INFO: Fetched (200) <GET https://www.google.com/sorry/index?continue=https://www.google.com/search%3Fq%3D%2522Scrapling%2522%26sei%3DJW3JZ_L6D63H4-EP_POE2AU&q=EgSBfpbSGKXapb4GIjD2KM1FR4nx3HACT1hG2Xla6TOjdDi1MbgU775PlEFeAqH4uqMs2Q3fDcTWL8IRAgwyAXJaAUM> (referer: https://www.google.com/search?q=google)\n"
     ]
    }
   ],
   "source": [
    "from scrapling import PlayWrightFetcher\n",
    "\n",
    "page = await PlayWrightFetcher().async_fetch('https://www.google.com/search?q=%22Scrapling%22', disable_resources=True)  # Vanilla Playwright option\n",
    "page.css_first(\"#search a::attr(href)\")"
   ]
  },
  {
   "cell_type": "code",
   "execution_count": 73,
   "metadata": {},
   "outputs": [
    {
     "data": {
      "text/plain": [
       "'https://www.google.com/search?q=%22Scrapling%22&sei=JW3JZ_L6D63H4-EP_POE2AU\\n\\n\\n\\n\\n\\n\\n\\n\\n\\n  In order to continue, please enable javascript on your web browser.\\n\\n\\n\\nAbout this page\\nWhy did this happen?\\n\\nThis page appears when Google automatically detects requests coming from your computer network which appear to be in violation of the \\nTerms of Service\\nLearn more'"
      ]
     },
     "execution_count": 73,
     "metadata": {},
     "output_type": "execute_result"
    }
   ],
   "source": [
    "page.get_all_text()"
   ]
  }
 ],
 "metadata": {
  "kernelspec": {
   "display_name": "web",
   "language": "python",
   "name": "python3"
  },
  "language_info": {
   "codemirror_mode": {
    "name": "ipython",
    "version": 3
   },
   "file_extension": ".py",
   "mimetype": "text/x-python",
   "name": "python",
   "nbconvert_exporter": "python",
   "pygments_lexer": "ipython3",
   "version": "3.13.2"
  }
 },
 "nbformat": 4,
 "nbformat_minor": 2
}
