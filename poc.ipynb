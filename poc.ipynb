{
 "cells": [
  {
   "cell_type": "markdown",
   "metadata": {},
   "source": [
    "# Table of Contents\n",
    "\n",
    "1. [Select Stocks](#select-stocks)\n",
    "2. [Scrapling](#scrapling)\n",
    "3. [Yahoo API]()\n",
    "4. [Selenium](#selenium)\n",
    "5. [Playwright](#playwright)\n",
    "6. [Perplexity Results](#perplexity-results-gpt-4o)\n",
    "   - 3.1 [Prompt](#prompt)\n",
    "   - 3.2 [Response](#response)\n",
    "   - 3.3 [Cointegration](#cointegration)\n",
    "   - 3.4 [Correlation](#correlation)\n",
    "7. [Cointegration](#cointegration)\n",
    "8. [Sentiment](#sentiment)\n",
    "9. [Trade Results](#trade-results)\n",
    "10. [Overall Summary](#overall-summary)\n",
    "11. [Breakdown Summary](#breakdown-summary)\n",
    "12. [Future Works](#future-works)\n"
   ]
  },
  {
   "cell_type": "markdown",
   "metadata": {},
   "source": [
    "# POC\n",
    "\n",
    "Methodology for POC:\n",
    "\n",
    "1. Choose \"AAPL\".\n",
    "2. Scrape news (from Yahoo Finance), for Apple stock via scrapling\n",
    "3. Use ChatGPT to determine the sentiment of each news on scale of 1 to 5:\n",
    "\n",
    "- 1 -> Negative\n",
    "- 2 -> Moderate negative\n",
    "- 3 -> Neutral\n",
    "- 4 -> Moderate positive\n",
    "- 5 -> Positive\n",
    "\n",
    "4. Use ChatGPT to determine the stock that has highest cointegration with Apple\n",
    "\n",
    "5. Use Selenium to load more news article\n"
   ]
  },
  {
   "cell_type": "code",
   "execution_count": 2,
   "metadata": {},
   "outputs": [
    {
     "name": "stdout",
     "output_type": "stream",
     "text": [
      "The autoreload extension is already loaded. To reload it, use:\n",
      "  %reload_ext autoreload\n"
     ]
    }
   ],
   "source": [
    "import pandas as pd\n",
    "import random\n",
    "import sys\n",
    "from pathlib import Path\n",
    "import scrapling\n",
    "from scrapling import Fetcher\n",
    "from selenium import webdriver\n",
    "from selenium.webdriver.common.by import By\n",
    "import time\n",
    "from bs4 import BeautifulSoup\n",
    "import re\n",
    "from datetime import datetime, timedelta\n",
    "import yfinance as yf\n",
    "import numpy as np\n",
    "from collections import Counter\n",
    "import math\n",
    "from pprint import pformat\n",
    "from decimal import Decimal\n",
    "from scipy import stats\n",
    "\n",
    "repo_dir = Path.cwd().as_posix()\n",
    "\n",
    "if repo_dir not in sys.path:\n",
    "    sys.path.append(repo_dir)\n",
    "\n",
    "%load_ext autoreload\n",
    "%autoreload 2\n",
    "\n",
    "from src.utils import utils, yahoo_utils\n",
    "from src.gen_data import GenData\n",
    "from src.sentiment import SentimentRater\n",
    "# from src.cointegrate import CoIntegrate\n",
    "from src.gen_price_action import GenPriceAction\n",
    "from src.cal_profit_loss import StockTrade\n",
    "from src.cal_profit_loss import CalProfitLoss\n",
    "from src.analyze_coint import AnalyzeCoint\n"
   ]
  },
  {
   "cell_type": "markdown",
   "metadata": {},
   "source": [
    "# [Select Stocks](#table-of-contents)\n",
    "\n",
    "- Test \"AAPL\", \"NVDA\", and \"PG\" for POC.\n",
    "- If time permits, then test the randomly selected stocks for each GICS Sector: ['PWR', 'INCY', 'CDW', 'CEG', 'BAC', 'LIN', 'BWA', 'ARE', 'CHTR', 'KDP', 'PSX']\n"
   ]
  },
  {
   "cell_type": "code",
   "execution_count": 33,
   "metadata": {},
   "outputs": [
    {
     "data": {
      "text/plain": [
       "{'Industrials': 'PWR',\n",
       " 'Health Care': 'INCY',\n",
       " 'Information Technology': 'CDW',\n",
       " 'Utilities': 'CEG',\n",
       " 'Financials': 'BAC',\n",
       " 'Materials': 'LIN',\n",
       " 'Consumer Discretionary': 'BWA',\n",
       " 'Real Estate': 'ARE',\n",
       " 'Communication Services': 'CHTR',\n",
       " 'Consumer Staples': 'KDP',\n",
       " 'Energy': 'PSX'}"
      ]
     },
     "execution_count": 33,
     "metadata": {},
     "output_type": "execute_result"
    }
   ],
   "source": [
    "stock_list = utils.gen_stock_list()\n",
    "stock_list"
   ]
  },
  {
   "cell_type": "code",
   "execution_count": 36,
   "metadata": {},
   "outputs": [
    {
     "data": {
      "text/plain": [
       "{'AAPL': 'Information Technology',\n",
       " 'MSFT': 'Information Technology',\n",
       " 'NVDA': 'Information Technology',\n",
       " 'GOOGL': 'Communication Services',\n",
       " 'META': 'Communication Services',\n",
       " 'XOM': 'Energy',\n",
       " 'CRM': 'Information Technology',\n",
       " 'HD': 'Consumer Discretionary',\n",
       " 'PG': 'Consumer Staples'}"
      ]
     },
     "execution_count": 36,
     "metadata": {},
     "output_type": "execute_result"
    }
   ],
   "source": [
    "utils.get_gics_sector(\n",
    "    [\"AAPL\", \"MSFT\", \"NVDA\", \"GOOGL\", \"META\", \"XOM\", \"CRM\", \"HD\", \"PG\"]\n",
    ")"
   ]
  },
  {
   "cell_type": "markdown",
   "metadata": {},
   "source": [
    "# [Scrapling](#table-of-contents)\n",
    "\n",
    "- https://finance.yahoo.com/quote/AAPL/news/\n",
    "- Scrapling aren't able to web scrap fully since the news are loaded when user scroll to the end of screen.\n"
   ]
  },
  {
   "cell_type": "code",
   "execution_count": 98,
   "metadata": {},
   "outputs": [
    {
     "name": "stderr",
     "output_type": "stream",
     "text": [
      "[2025-03-08 21:01:29] INFO: Fetched (200) <GET https://finance.yahoo.com/quote/AAPL/news/> (referer: https://www.google.com/search?q=yahoo)\n"
     ]
    },
    {
     "data": {
      "text/plain": [
       "[{'publisher': 'Motley Fool',\n",
       "  'period': datetime.timedelta(seconds=7200),\n",
       "  'title': 'Could Apple Be a Millionaire-Maker Stock?',\n",
       "  'content': 'During its rise to become a dominant tech enterprise, Apple (NASDAQ: AAPL) has certainly made its early investors some serious money. In the past two decades, shares have generated a total return of greater than 18,000%, boosted by the introduction of popular hardware devices and services. Could Apple be a millionaire-maker stock?'},\n",
       " {'publisher': 'Insider Monkey',\n",
       "  'period': datetime.timedelta(seconds=43200),\n",
       "  'title': 'Apple Inc. (AAPL) Unveils AI-Powered MacBook Air with M4 Chip',\n",
       "  'content': 'We recently compiled a list of the 10 Hot AI News Updates Analysts are Monitoring. In this article, we are going to take a look at where Apple Inc. (NASDAQ:AAPL) stands against the other AI stocks. According to Goldman Sachs, the AI-powered rally in Chinese equities could boost other markets as well. Consequently, the firm has […]'},\n",
       " {'publisher': 'Zacks',\n",
       "  'period': datetime.timedelta(seconds=50400),\n",
       "  'title': 'Apple (AAPL) Beats Stock Market Upswing: What Investors Need to Know',\n",
       "  'content': 'In the most recent trading session, Apple (AAPL) closed at $239.07, indicating a +1.59% shift from the previous trading day.'},\n",
       " {'publisher': 'Bloomberg',\n",
       "  'period': datetime.timedelta(seconds=50400),\n",
       "  'title': 'Apple Delays Siri Upgrade Indefinitely as AI Concerns Escalate',\n",
       "  'content': '(Bloomberg) -- Apple Inc.’s turmoil in its AI division reached new heights on Friday, with the company delaying promised updates to the Siri digital assistant for the foreseeable future. Most Read from BloombergNJ College to Merge With State School After Financial StressTrump Administration Plans to Eliminate Dozens of Housing OfficesRepublican Mayor Braces for Tariffs: ‘We Didn’t Budget for This’How Upzoning in Cambridge Broke the YIMBY MoldNYC’s Finances Are Sinking With Gauge Falling to 11-Ye'},\n",
       " {'publisher': 'Investopedia',\n",
       "  'period': datetime.timedelta(seconds=54000),\n",
       "  'title': 'Apple Is Pushing Back AI-Driven Siri Features to 2026, Report Says',\n",
       "  'content': 'Apple plans to push back the launch of certain AI-driven Siri features until 2026, including one that would allow the voice assistant to perform tasks within other apps.'},\n",
       " {'publisher': 'The Wall Street Journal',\n",
       "  'period': datetime.timedelta(seconds=54000),\n",
       "  'title': 'Apple Says Some AI-Powered Enhancements to Siri to Be Delayed',\n",
       "  'content': 'The company, which has faced slumping iPhone sales in recent months, said that it would take it longer than expected to make Siri more personalized.'},\n",
       " {'publisher': 'MT Newswires',\n",
       "  'period': datetime.timedelta(seconds=57600),\n",
       "  'title': 'Sector Update: Tech Stocks Advance Late Afternoon',\n",
       "  'content': 'Tech stocks rose late Friday afternoon, with the Technology Select Sector SPDR Fund (XLK) adding 1.2'},\n",
       " {'publisher': \"Investor's Business Daily\",\n",
       "  'period': datetime.timedelta(seconds=64800),\n",
       "  'title': 'Magnificent Seven Stocks: Nvidia Reverses Higher; Amazon, Meta, Tesla Slide',\n",
       "  'content': 'Dubbed the Magnificent Seven stocks, Apple, Microsoft, Google parent Alphabet, Amazon.com, Nvidia, Meta Platforms and Tesla lived up to their name in 2024 with solid gains. Through the first two months of 2025, however, performance for these mega-cap stocks has been mostly negative thus far.'},\n",
       " {'publisher': 'Reuters',\n",
       "  'period': datetime.timedelta(seconds=68400),\n",
       "  'title': 'Apple says some AI improvements to Siri delayed to 2026',\n",
       "  'content': \"Some artificial intelligence improvements to Apple's voice assistant Siri will be delayed until 2026, the company said on Friday. Apple did not give a reason for the delays. Last year, Apple announced a range of AI-driven features called Apple Intelligence that included new capabilities such as rewriting emails and summarizing a cluttered inbox.\"},\n",
       " {'publisher': 'GuruFocus.com',\n",
       "  'period': datetime.timedelta(seconds=68400),\n",
       "  'title': \"Apple's First Foldable iPhone Could Launch in 2026 With Premium Pricing and AI Features\",\n",
       "  'content': 'The device could be priced above $2,000 and up to $2,500.'},\n",
       " {'publisher': 'Insider Monkey',\n",
       "  'period': datetime.timedelta(seconds=72000),\n",
       "  'title': 'Apple Inc. (AAPL): Jim Cramer Cautions – ‘I Could See the Stock Going Lower!’',\n",
       "  'content': 'We recently published a list of Jim Cramer Discusses These 13 Stocks & Criticizes Billionaires. In this article, we are going to take a look at where Apple Inc. (NASDAQ:AAPL) stands against other stocks that Jim Cramer discusses. In a recent appearance on CNBC’s Squawk on the Street, Jim Cramer continued to warn users to […]'},\n",
       " {'publisher': 'GuruFocus.com',\n",
       "  'period': datetime.timedelta(seconds=75600),\n",
       "  'title': 'Apple Secures Local Content Certifications in Indonesia but Faces Additional Regulatory Hurdles',\n",
       "  'content': 'Apple secures local content certificates for 20 products in Indonesia, including the iPhone 16.'},\n",
       " {'publisher': 'Insider Monkey',\n",
       "  'period': datetime.timedelta(seconds=75600),\n",
       "  'title': 'Is Apple Inc. (AAPL) Among the Best Warren Buffett Stock to Buy Right Now?',\n",
       "  'content': 'We recently compiled a list of the 10 Best Warren Buffett Stocks to Buy Right Now. In this article, we are going to take a look at where Apple Inc. (NASDAQ:AAPL) stands against the other Warren Buffett Stocks. Warren Buffett is one of the most successful investors the world has known. Additionally, he is arguably one […]'},\n",
       " {'publisher': 'Barrons.com',\n",
       "  'period': datetime.timedelta(seconds=79200),\n",
       "  'title': 'The Mag 7 Stocks Are No Longer Magnificent. Where the Charts Say They Go Next.',\n",
       "  'content': 'The good news for the tech heavyweights is that the stocks look due for a bounce. Here’s the technical case for buying the Mag 7.'},\n",
       " {'publisher': 'Bloomberg',\n",
       "  'period': datetime.timedelta(seconds=79200),\n",
       "  'title': 'Broadcom Shares Jump as AI Growth Fuels Upbeat Forecast',\n",
       "  'content': '(Bloomberg) -- Broadcom Inc. shares jumped after the chip supplier for Apple Inc. and other big tech companies gave an upbeat forecast, reassuring investors that spending on artificial intelligence computing remains healthy.Most Read from BloombergTrump Administration Plans to Eliminate Dozens of Housing OfficesNJ College to Merge With State School After Financial StressRepublican Mayor Braces for Tariffs: ‘We Didn’t Budget for This’How Upzoning in Cambridge Broke the YIMBY MoldNYC’s Finances Ar'},\n",
       " {'publisher': 'GuruFocus.com',\n",
       "  'period': datetime.timedelta(seconds=79200),\n",
       "  'title': 'Major Breakthrough: New Certificates Propel Apple iPhone 16 into Indonesia',\n",
       "  'content': 'Apple Certifies 20 Products, Paving the Way for iPhone 16 in Indonesia'},\n",
       " {'publisher': \"Investor's Business Daily\",\n",
       "  'period': datetime.timedelta(days=1),\n",
       "  'title': 'In Rotten Market, Top Funds Harvest Apple Stock — And 10 Others',\n",
       "  'content': 'The best mutual funds bet big on Apple stock, Meta, Robinhood, Walmart and seven others while Nasdaq turns bearish.'},\n",
       " {'publisher': 'GuruFocus.com',\n",
       "  'period': datetime.timedelta(days=1),\n",
       "  'title': \"Apple's iPhone 16 Still on Hold in Indonesia Despite Key Certification Win\",\n",
       "  'content': 'Apple clears a regulatory hurdle in Indonesia but must obtain more permits before selling its latest devices'},\n",
       " {'publisher': 'Simply Wall St.',\n",
       "  'period': datetime.timedelta(days=1),\n",
       "  'title': 'Cloud AI Today - Cirrascale Launches Inference Cloud For Scalable AI Integration',\n",
       "  'content': 'Cirrascale Cloud Services has introduced an Inference Cloud powered by the Qualcomm AI Inference Suite, enabling businesses to deploy AI models and applications efficiently with a single click. This new offering addresses the increasing demand for generative AI, providing scalable AI solutions from the cloud. The suite supports a variety of AI workloads including large language models. With cost-effective access through API interfaces, companies can integrate AI capabilities into applications...'},\n",
       " {'publisher': 'Motley Fool',\n",
       "  'period': datetime.timedelta(days=1),\n",
       "  'title': \"38% of Berkshire Hathaway's Portfolio Is Invested in These 3 Unstoppable Dividend Stocks\",\n",
       "  'content': 'There are several things Warren Buffett is known for as an investor. First, the Oracle of Omaha has consistently emphasized the importance of having a long-term mindset when investing in stocks. Second, he famously loves dividends.'}]"
      ]
     },
     "execution_count": 98,
     "metadata": {},
     "output_type": "execute_result"
    }
   ],
   "source": [
    "# Extract news related to AAPL from Yahoo Finance\n",
    "news_info = yahoo_utils.extract_news_briefs(\n",
    "    \"https://finance.yahoo.com/quote/AAPL/news/\"\n",
    ")\n",
    "news_info"
   ]
  },
  {
   "cell_type": "markdown",
   "metadata": {},
   "source": [
    "# [Yahoo API](#table-of-contents)\n",
    "\n",
    "- Yahoo API gives very detailed news as info but limited to max 10 news article.\n"
   ]
  },
  {
   "cell_type": "code",
   "execution_count": null,
   "metadata": {},
   "outputs": [
    {
     "data": {
      "text/plain": [
       "[{'id': 'ee08c516-d812-48ab-9787-b73c34782bf7',\n",
       "  'content': {'id': 'ee08c516-d812-48ab-9787-b73c34782bf7',\n",
       "   'contentType': 'STORY',\n",
       "   'title': \"Wall Street's souring view on the US stock market isn't just about the economy — it's about AI too\",\n",
       "   'description': '',\n",
       "   'summary': \"As economic uncertainty has spawned a stock market sell-off, one of investors' favorite trades of the past two years is going through its own rerating of expectations.\",\n",
       "   'pubDate': '2025-03-11T17:44:49Z',\n",
       "   'displayTime': '2025-03-11T17:44:49Z',\n",
       "   'isHosted': True,\n",
       "   'bypassModal': False,\n",
       "   'previewUrl': None,\n",
       "   'thumbnail': {'originalUrl': 'https://s.yimg.com/os/creatr-uploaded-images/2025-03/88bc1fd0-fb15-11ef-8dbd-ea4aea580f37',\n",
       "    'originalWidth': 4500,\n",
       "    'originalHeight': 3001,\n",
       "    'caption': '',\n",
       "    'resolutions': [{'url': 'https://s.yimg.com/uu/api/res/1.2/CAOKVOjTmaybJSdSciq_vQ--~B/aD0zMDAxO3c9NDUwMDthcHBpZD15dGFjaHlvbg--/https://s.yimg.com/os/creatr-uploaded-images/2025-03/88bc1fd0-fb15-11ef-8dbd-ea4aea580f37',\n",
       "      'width': 4500,\n",
       "      'height': 3001,\n",
       "      'tag': 'original'},\n",
       "     {'url': 'https://s.yimg.com/uu/api/res/1.2/2C63LjfNAgHbaG9KvHHfiQ--~B/Zmk9c3RyaW07aD0xMjg7dz0xNzA7YXBwaWQ9eXRhY2h5b24-/https://s.yimg.com/os/creatr-uploaded-images/2025-03/88bc1fd0-fb15-11ef-8dbd-ea4aea580f37',\n",
       "      'width': 170,\n",
       "      'height': 128,\n",
       "      'tag': '170x128'}]},\n",
       "   'provider': {'displayName': 'Yahoo Finance',\n",
       "    'url': 'http://finance.yahoo.com/'},\n",
       "   'canonicalUrl': {'url': 'https://finance.yahoo.com/news/wall-streets-souring-view-on-the-us-stock-market-isnt-just-about-the-economy--its-about-ai-too-174449008.html',\n",
       "    'site': 'finance',\n",
       "    'region': 'US',\n",
       "    'lang': 'en-US'},\n",
       "   'clickThroughUrl': {'url': 'https://finance.yahoo.com/news/wall-streets-souring-view-on-the-us-stock-market-isnt-just-about-the-economy--its-about-ai-too-174449008.html',\n",
       "    'site': 'finance',\n",
       "    'region': 'US',\n",
       "    'lang': 'en-US'},\n",
       "   'metadata': {'editorsPick': True},\n",
       "   'finance': {'premiumFinance': {'isPremiumNews': False,\n",
       "     'isPremiumFreeNews': False}},\n",
       "   'storyline': {'storylineItems': [{'content': {'id': 'd1f0aa73-06db-33c2-bffe-2edef6817ed5',\n",
       "       'contentType': 'VIDEO',\n",
       "       'isHosted': True,\n",
       "       'title': \"Apple to delay Siri's AI enhancement until 2026\",\n",
       "       'thumbnail': {'originalUrl': 'https://s.yimg.com/os/creatr-uploaded-images/2025-03/268a9610-fe9a-11ef-a7fb-0354060d763f',\n",
       "        'originalWidth': 6692,\n",
       "        'originalHeight': 3768,\n",
       "        'caption': '',\n",
       "        'resolutions': None},\n",
       "       'provider': {'displayName': 'Yahoo Finance Video',\n",
       "        'sourceId': 'video.yahoofinance.com'},\n",
       "       'previewUrl': None,\n",
       "       'providerContentUrl': '',\n",
       "       'canonicalUrl': {'url': 'https://finance.yahoo.com/video/apple-delay-siris-ai-enhancement-165959040.html'},\n",
       "       'clickThroughUrl': {'url': 'https://finance.yahoo.com/video/apple-delay-siris-ai-enhancement-165959040.html'}}},\n",
       "     {'content': {'id': '61d99264-cf34-31b9-b878-80261469ce34',\n",
       "       'contentType': 'VIDEO',\n",
       "       'isHosted': True,\n",
       "       'title': 'Top S&P 500 stocks lost $2.5T market cap in 2025 market slump',\n",
       "       'thumbnail': {'originalUrl': 'https://s.yimg.com/os/creatr-uploaded-images/2025-03/78491ec0-fe88-11ef-8bfe-a5bce2a09261',\n",
       "        'originalWidth': 5472,\n",
       "        'originalHeight': 3081,\n",
       "        'caption': '',\n",
       "        'resolutions': None},\n",
       "       'provider': {'displayName': 'Yahoo Finance Video',\n",
       "        'sourceId': 'video.yahoofinance.com'},\n",
       "       'previewUrl': None,\n",
       "       'providerContentUrl': '',\n",
       "       'canonicalUrl': {'url': 'https://finance.yahoo.com/video/top-p-500-stocks-lost-151459180.html'},\n",
       "       'clickThroughUrl': {'url': 'https://finance.yahoo.com/video/top-p-500-stocks-lost-151459180.html'}}}]}}},\n",
       " {'id': '78fe6067-7c02-42f4-af98-3c89c3825afe',\n",
       "  'content': {'id': '78fe6067-7c02-42f4-af98-3c89c3825afe',\n",
       "   'contentType': 'STORY',\n",
       "   'title': \"Trump's DOJ wants a Google breakup but is willing to leave AI alone\",\n",
       "   'description': '',\n",
       "   'summary': 'President Trump and his predecessor Joe Biden now largely agree on a major question that has the potential to reshape the tech world: Google should be broken up. Where they differ is what the tech giant should do with its AI investments.',\n",
       "   'pubDate': '2025-03-11T08:00:16Z',\n",
       "   'displayTime': '2025-03-11T13:33:04Z',\n",
       "   'isHosted': True,\n",
       "   'bypassModal': False,\n",
       "   'previewUrl': None,\n",
       "   'thumbnail': {'originalUrl': 'https://s.yimg.com/os/creatr-uploaded-images/2024-10/0d645080-84c0-11ef-9cff-d41476dcacd2',\n",
       "    'originalWidth': 5246,\n",
       "    'originalHeight': 3497,\n",
       "    'caption': '',\n",
       "    'resolutions': [{'url': 'https://s.yimg.com/uu/api/res/1.2/inEvSR3ptXdVW_3drLB0oA--~B/aD0zNDk3O3c9NTI0NjthcHBpZD15dGFjaHlvbg--/https://s.yimg.com/os/creatr-uploaded-images/2024-10/0d645080-84c0-11ef-9cff-d41476dcacd2',\n",
       "      'width': 5246,\n",
       "      'height': 3497,\n",
       "      'tag': 'original'},\n",
       "     {'url': 'https://s.yimg.com/uu/api/res/1.2/dWIgT6gEom9_L4KPxQJKKA--~B/Zmk9c3RyaW07aD0xMjg7dz0xNzA7YXBwaWQ9eXRhY2h5b24-/https://s.yimg.com/os/creatr-uploaded-images/2024-10/0d645080-84c0-11ef-9cff-d41476dcacd2',\n",
       "      'width': 170,\n",
       "      'height': 128,\n",
       "      'tag': '170x128'}]},\n",
       "   'provider': {'displayName': 'Yahoo Finance',\n",
       "    'url': 'http://finance.yahoo.com/'},\n",
       "   'canonicalUrl': {'url': 'https://finance.yahoo.com/news/trumps-doj-wants-a-google-breakup-but-is-willing-to-leave-ai-alone-080016759.html',\n",
       "    'site': 'finance',\n",
       "    'region': 'US',\n",
       "    'lang': 'en-US'},\n",
       "   'clickThroughUrl': {'url': 'https://finance.yahoo.com/news/trumps-doj-wants-a-google-breakup-but-is-willing-to-leave-ai-alone-080016759.html',\n",
       "    'site': 'finance',\n",
       "    'region': 'US',\n",
       "    'lang': 'en-US'},\n",
       "   'metadata': {'editorsPick': True},\n",
       "   'finance': {'premiumFinance': {'isPremiumNews': False,\n",
       "     'isPremiumFreeNews': False}},\n",
       "   'storyline': {'storylineItems': [{'content': {'id': 'dbb33827-a786-4ca6-b465-ff7d5168950a',\n",
       "       'contentType': 'STORY',\n",
       "       'isHosted': True,\n",
       "       'title': \"Why 1 'Magnificent 7' stock hasn't gotten crushed\",\n",
       "       'thumbnail': {'originalUrl': 'https://s.yimg.com/os/creatr-uploaded-images/2025-03/864c98d0-fe6a-11ef-b7eb-6ef068bece75',\n",
       "        'originalWidth': 5737,\n",
       "        'originalHeight': 3893,\n",
       "        'caption': '',\n",
       "        'resolutions': None},\n",
       "       'provider': {'displayName': 'Yahoo Finance',\n",
       "        'sourceId': 'yahoofinance.com'},\n",
       "       'previewUrl': None,\n",
       "       'providerContentUrl': '',\n",
       "       'canonicalUrl': {'url': 'https://finance.yahoo.com/news/why-1-magnificent-7-stock-hasnt-gotten-crushed-132630163.html'},\n",
       "       'clickThroughUrl': {'url': 'https://finance.yahoo.com/news/why-1-magnificent-7-stock-hasnt-gotten-crushed-132630163.html'}}},\n",
       "     {'content': {'id': '8fa558f8-84c2-4bb0-95bf-1348c8da4d77',\n",
       "       'contentType': 'STORY',\n",
       "       'isHosted': True,\n",
       "       'title': 'Amazon stock is trading cheaply on 1 valuation metric after broader stock market rout',\n",
       "       'thumbnail': {'originalUrl': 'https://s.yimg.com/os/creatr-uploaded-images/2025-02/4480d5f0-e9f8-11ef-beff-15e2f2db7bff',\n",
       "        'originalWidth': 5078,\n",
       "        'originalHeight': 3696,\n",
       "        'caption': '',\n",
       "        'resolutions': None},\n",
       "       'provider': {'displayName': 'Yahoo Finance',\n",
       "        'sourceId': 'yahoofinance.com'},\n",
       "       'previewUrl': None,\n",
       "       'providerContentUrl': '',\n",
       "       'canonicalUrl': {'url': 'https://finance.yahoo.com/news/amazon-stock-is-trading-cheaply-on-1-valuation-metric-after-broader-stock-market-rout-123250389.html'},\n",
       "       'clickThroughUrl': {'url': 'https://finance.yahoo.com/news/amazon-stock-is-trading-cheaply-on-1-valuation-metric-after-broader-stock-market-rout-123250389.html'}}}]}}},\n",
       " {'id': 'df6d8fd2-8761-377a-ba0b-2576a722ec51',\n",
       "  'content': {'id': 'df6d8fd2-8761-377a-ba0b-2576a722ec51',\n",
       "   'contentType': 'STORY',\n",
       "   'title': 'These Stocks Are Moving the Most Today: Tesla, Nvidia, Verizon, Delta, Southwest, Nucor, Kohl’s, Oracle, and More',\n",
       "   'description': '',\n",
       "   'summary': 'Tesla stock rises after tumbling 15% in Monday’s tech-led selloff, Verizon says it’s experiencing a ‘challenging’ quarter, Delta slashes its first-quarter earnings and revenue estimates, and Nucor rises after President Trump raises tariffs on Canadian steel and aluminum.',\n",
       "   'pubDate': '2025-03-11T21:18:00Z',\n",
       "   'displayTime': '2025-03-11T21:18:00Z',\n",
       "   'isHosted': False,\n",
       "   'bypassModal': False,\n",
       "   'previewUrl': 'https://finance.yahoo.com/m/df6d8fd2-8761-377a-ba0b-2576a722ec51/these-stocks-are-moving-the.html',\n",
       "   'thumbnail': {'originalUrl': 'https://media.zenfs.com/en/Barrons.com/76e7c96012531db82debcdffb0d70745',\n",
       "    'originalWidth': 1280,\n",
       "    'originalHeight': 640,\n",
       "    'caption': '',\n",
       "    'resolutions': [{'url': 'https://s.yimg.com/uu/api/res/1.2/H_QdiWdYxy3v0BEHxmD0DQ--~B/aD02NDA7dz0xMjgwO2FwcGlkPXl0YWNoeW9u/https://media.zenfs.com/en/Barrons.com/76e7c96012531db82debcdffb0d70745',\n",
       "      'width': 1280,\n",
       "      'height': 640,\n",
       "      'tag': 'original'},\n",
       "     {'url': 'https://s.yimg.com/uu/api/res/1.2/p9XTikXe30FbD3.GRiROsQ--~B/Zmk9c3RyaW07aD0xMjg7dz0xNzA7YXBwaWQ9eXRhY2h5b24-/https://media.zenfs.com/en/Barrons.com/76e7c96012531db82debcdffb0d70745',\n",
       "      'width': 170,\n",
       "      'height': 128,\n",
       "      'tag': '170x128'}]},\n",
       "   'provider': {'displayName': 'Barrons.com',\n",
       "    'url': 'http://www.barrons.com/'},\n",
       "   'canonicalUrl': {'url': 'https://www.barrons.com/articles/stock-market-movers-3363bc3b?siteid=yhoof2&yptr=yahoo',\n",
       "    'site': 'finance',\n",
       "    'region': 'US',\n",
       "    'lang': 'en-US'},\n",
       "   'clickThroughUrl': None,\n",
       "   'metadata': {'editorsPick': False},\n",
       "   'finance': {'premiumFinance': {'isPremiumNews': False,\n",
       "     'isPremiumFreeNews': False}},\n",
       "   'storyline': None}},\n",
       " {'id': 'e34a4bc4-43ff-38ff-8dcf-2a6b48bb35b2',\n",
       "  'content': {'id': 'e34a4bc4-43ff-38ff-8dcf-2a6b48bb35b2',\n",
       "   'contentType': 'STORY',\n",
       "   'title': 'Apple Dominates Smart Tag Market With AirTags',\n",
       "   'description': '',\n",
       "   'summary': 'Apple dominates the still-small market for smart tags – those little devices used to locate missing items like keys and luggage.',\n",
       "   'pubDate': '2025-03-11T20:41:28Z',\n",
       "   'displayTime': '2025-03-11T20:41:28Z',\n",
       "   'isHosted': False,\n",
       "   'bypassModal': False,\n",
       "   'previewUrl': 'https://finance.yahoo.com/m/e34a4bc4-43ff-38ff-8dcf-2a6b48bb35b2/apple-dominates-smart-tag.html',\n",
       "   'thumbnail': {'originalUrl': 'https://media.zenfs.com/en/ibd.com/dbe0d0f9bf4df2424fdc30ce3f34240f',\n",
       "    'originalWidth': 1000,\n",
       "    'originalHeight': 511,\n",
       "    'caption': '',\n",
       "    'resolutions': [{'url': 'https://s.yimg.com/uu/api/res/1.2/4cgX367TsCpJ21WwK6sHxQ--~B/aD01MTE7dz0xMDAwO2FwcGlkPXl0YWNoeW9u/https://media.zenfs.com/en/ibd.com/dbe0d0f9bf4df2424fdc30ce3f34240f',\n",
       "      'width': 1000,\n",
       "      'height': 511,\n",
       "      'tag': 'original'},\n",
       "     {'url': 'https://s.yimg.com/uu/api/res/1.2/4aUbFeBiQ68rdJKsa6bWGg--~B/Zmk9c3RyaW07aD0xMjg7dz0xNzA7YXBwaWQ9eXRhY2h5b24-/https://media.zenfs.com/en/ibd.com/dbe0d0f9bf4df2424fdc30ce3f34240f',\n",
       "      'width': 170,\n",
       "      'height': 128,\n",
       "      'tag': '170x128'}]},\n",
       "   'provider': {'displayName': \"Investor's Business Daily\",\n",
       "    'url': 'http://www.investors.com/'},\n",
       "   'canonicalUrl': {'url': 'https://www.investors.com/news/technology/apple-stock-airtags-dominate-smart-tag-market/?src=A00220&yptr=yahoo',\n",
       "    'site': 'finance',\n",
       "    'region': 'US',\n",
       "    'lang': 'en-US'},\n",
       "   'clickThroughUrl': None,\n",
       "   'metadata': {'editorsPick': False},\n",
       "   'finance': {'premiumFinance': {'isPremiumNews': False,\n",
       "     'isPremiumFreeNews': False}},\n",
       "   'storyline': None}},\n",
       " {'id': 'af4cdd96-07e8-328c-b651-0aef76a50522',\n",
       "  'content': {'id': 'af4cdd96-07e8-328c-b651-0aef76a50522',\n",
       "   'contentType': 'STORY',\n",
       "   'title': 'Apple Watch Sales Drop 19%-Is AI the Key to a 2025 Comeback?',\n",
       "   'description': '',\n",
       "   'summary': 'Apple led a 7% decline in global smartwatch shipments in 2024, but analysts expect AI-powered health features to drive a 2025 rebound',\n",
       "   'pubDate': '2025-03-11T20:38:30Z',\n",
       "   'displayTime': '2025-03-11T20:38:30Z',\n",
       "   'isHosted': True,\n",
       "   'bypassModal': False,\n",
       "   'previewUrl': None,\n",
       "   'thumbnail': {'originalUrl': 'https://media.zenfs.com/en/us.finance.gurufocus/b3bdeaa8bbcaaef7d764d6a0b08ff6b8',\n",
       "    'originalWidth': 550,\n",
       "    'originalHeight': 475,\n",
       "    'caption': '',\n",
       "    'resolutions': [{'url': 'https://s.yimg.com/uu/api/res/1.2/0y.fLTbHepNRlzX9490YSQ--~B/aD00NzU7dz01NTA7YXBwaWQ9eXRhY2h5b24-/https://media.zenfs.com/en/us.finance.gurufocus/b3bdeaa8bbcaaef7d764d6a0b08ff6b8',\n",
       "      'width': 550,\n",
       "      'height': 475,\n",
       "      'tag': 'original'},\n",
       "     {'url': 'https://s.yimg.com/uu/api/res/1.2/qyu.XK0O5AdUbWxEPL2_KA--~B/Zmk9c3RyaW07aD0xMjg7dz0xNzA7YXBwaWQ9eXRhY2h5b24-/https://media.zenfs.com/en/us.finance.gurufocus/b3bdeaa8bbcaaef7d764d6a0b08ff6b8',\n",
       "      'width': 170,\n",
       "      'height': 128,\n",
       "      'tag': '170x128'}]},\n",
       "   'provider': {'displayName': 'GuruFocus.com',\n",
       "    'url': 'http://www.gurufocus.com/'},\n",
       "   'canonicalUrl': {'url': 'https://finance.yahoo.com/news/apple-watch-sales-drop-19-203830564.html',\n",
       "    'site': 'finance',\n",
       "    'region': 'US',\n",
       "    'lang': 'en-US'},\n",
       "   'clickThroughUrl': {'url': 'https://finance.yahoo.com/news/apple-watch-sales-drop-19-203830564.html',\n",
       "    'site': 'finance',\n",
       "    'region': 'US',\n",
       "    'lang': 'en-US'},\n",
       "   'metadata': {'editorsPick': False},\n",
       "   'finance': {'premiumFinance': {'isPremiumNews': False,\n",
       "     'isPremiumFreeNews': False}},\n",
       "   'storyline': None}},\n",
       " {'id': '4205eaa9-f620-3a0b-a81a-0e82c7c9fd0b',\n",
       "  'content': {'id': '4205eaa9-f620-3a0b-a81a-0e82c7c9fd0b',\n",
       "   'contentType': 'STORY',\n",
       "   'title': 'Magnificent Seven Stocks: Nvidia, Tesla Rally, But Apple Dives Below Key Level',\n",
       "   'description': '',\n",
       "   'summary': 'Dubbed the Magnificent Seven stocks, Apple, Microsoft, Google parent Alphabet, Amazon.com, Nvidia, Meta Platforms and Tesla lived up to their name in 2024 with solid gains. Through the first two months of 2025, however, performance for these mega-cap stocks has been mostly negative thus far.',\n",
       "   'pubDate': '2025-03-11T19:56:42Z',\n",
       "   'displayTime': '2025-03-11T19:56:42Z',\n",
       "   'isHosted': False,\n",
       "   'bypassModal': False,\n",
       "   'previewUrl': 'https://finance.yahoo.com/m/4205eaa9-f620-3a0b-a81a-0e82c7c9fd0b/magnificent-seven-stocks-.html',\n",
       "   'thumbnail': {'originalUrl': 'https://media.zenfs.com/en/ibd.com/0682fdd5dad13df00d702863d79378a1',\n",
       "    'originalWidth': 1000,\n",
       "    'originalHeight': 563,\n",
       "    'caption': '',\n",
       "    'resolutions': [{'url': 'https://s.yimg.com/uu/api/res/1.2/dH2T4UlHg7A40njz2aVZLw--~B/aD01NjM7dz0xMDAwO2FwcGlkPXl0YWNoeW9u/https://media.zenfs.com/en/ibd.com/0682fdd5dad13df00d702863d79378a1',\n",
       "      'width': 1000,\n",
       "      'height': 563,\n",
       "      'tag': 'original'},\n",
       "     {'url': 'https://s.yimg.com/uu/api/res/1.2/uNyO8ptuWsHDEOneeaLn9A--~B/Zmk9c3RyaW07aD0xMjg7dz0xNzA7YXBwaWQ9eXRhY2h5b24-/https://media.zenfs.com/en/ibd.com/0682fdd5dad13df00d702863d79378a1',\n",
       "      'width': 170,\n",
       "      'height': 128,\n",
       "      'tag': '170x128'}]},\n",
       "   'provider': {'displayName': \"Investor's Business Daily\",\n",
       "    'url': 'http://www.investors.com/'},\n",
       "   'canonicalUrl': {'url': 'https://www.investors.com/research/magnificent-seven-stocks-march-2025/?src=A00220&yptr=yahoo',\n",
       "    'site': 'finance',\n",
       "    'region': 'US',\n",
       "    'lang': 'en-US'},\n",
       "   'clickThroughUrl': None,\n",
       "   'metadata': {'editorsPick': False},\n",
       "   'finance': {'premiumFinance': {'isPremiumNews': False,\n",
       "     'isPremiumFreeNews': False}},\n",
       "   'storyline': None}},\n",
       " {'id': 'cf2ca7e1-c1ab-3b56-a579-277eb84f53d3',\n",
       "  'content': {'id': 'cf2ca7e1-c1ab-3b56-a579-277eb84f53d3',\n",
       "   'contentType': 'STORY',\n",
       "   'title': 'NTNs: OEMs and MNOs reach for the stars',\n",
       "   'description': '',\n",
       "   'summary': 'The integration of terrestrial and NTNs aims to ensure that users are never without a signal.',\n",
       "   'pubDate': '2025-03-11T18:22:52Z',\n",
       "   'displayTime': '2025-03-11T18:22:52Z',\n",
       "   'isHosted': True,\n",
       "   'bypassModal': False,\n",
       "   'previewUrl': None,\n",
       "   'thumbnail': {'originalUrl': 'https://media.zenfs.com/en/verdict_626/6e91a91cd9ec71e44787e8fa0edf4ba3',\n",
       "    'originalWidth': 1000,\n",
       "    'originalHeight': 667,\n",
       "    'caption': 'Satellite operators such as Starlink and AST SpaceMobile are at the forefront',\n",
       "    'resolutions': [{'url': 'https://s.yimg.com/uu/api/res/1.2/1sr.p_mOnnlrY_.oNfGCTg--~B/aD02Njc7dz0xMDAwO2FwcGlkPXl0YWNoeW9u/https://media.zenfs.com/en/verdict_626/6e91a91cd9ec71e44787e8fa0edf4ba3',\n",
       "      'width': 1000,\n",
       "      'height': 667,\n",
       "      'tag': 'original'},\n",
       "     {'url': 'https://s.yimg.com/uu/api/res/1.2/ktnThZH5_QP.uSwTehH7lA--~B/Zmk9c3RyaW07aD0xMjg7dz0xNzA7YXBwaWQ9eXRhY2h5b24-/https://media.zenfs.com/en/verdict_626/6e91a91cd9ec71e44787e8fa0edf4ba3',\n",
       "      'width': 170,\n",
       "      'height': 128,\n",
       "      'tag': '170x128'}]},\n",
       "   'provider': {'displayName': 'Verdict',\n",
       "    'url': 'https://www.globaldata.com/'},\n",
       "   'canonicalUrl': {'url': 'https://www.verdict.co.uk/ntns-mnos-oems-uninterrupted-connectivity/',\n",
       "    'site': 'finance',\n",
       "    'region': 'US',\n",
       "    'lang': 'en-US'},\n",
       "   'clickThroughUrl': {'url': 'https://finance.yahoo.com/news/ntns-oems-mnos-reach-stars-182252656.html',\n",
       "    'site': 'finance',\n",
       "    'region': 'US',\n",
       "    'lang': 'en-US'},\n",
       "   'metadata': {'editorsPick': False},\n",
       "   'finance': {'premiumFinance': {'isPremiumNews': False,\n",
       "     'isPremiumFreeNews': False}},\n",
       "   'storyline': None}},\n",
       " {'id': '25e06975-ba48-376f-be4d-cb3968376d77',\n",
       "  'content': {'id': '25e06975-ba48-376f-be4d-cb3968376d77',\n",
       "   'contentType': 'STORY',\n",
       "   'title': 'Nasdaq Sell-Off: The 3 Best \"Magnificent Seven\" Stocks to Buy Now',\n",
       "   'description': '',\n",
       "   'summary': 'The Nasdaq has entered correction territory, and just as the so-called \"Magnificent Seven\" stocks led the market higher during the bull run, these stocks have helped lead the market lower during this recent correction.  The \"Magnificent Seven\" consist of seven leading technology companies: Alphabet (NASDAQ: GOOGL) (NASDAQ: GOOG), Amazon (NASDAQ: AMZN), Apple, Meta Platforms, Microsoft, Nvidia (NASDAQ: NVDA), and Tesla, all of which trade on the Nasdaq stock exchange.',\n",
       "   'pubDate': '2025-03-11T17:55:00Z',\n",
       "   'displayTime': '2025-03-11T17:55:00Z',\n",
       "   'isHosted': True,\n",
       "   'bypassModal': False,\n",
       "   'previewUrl': None,\n",
       "   'thumbnail': {'originalUrl': 'https://media.zenfs.com/en/motleyfool.com/fa93a8c04ee88d3848658b22ac2ac1b3',\n",
       "    'originalWidth': 1400,\n",
       "    'originalHeight': 787,\n",
       "    'caption': 'Artist rendering of AI chip.',\n",
       "    'resolutions': [{'url': 'https://s.yimg.com/uu/api/res/1.2/ixqy0rDn2FpPVSLRWRnH0g--~B/aD03ODc7dz0xNDAwO2FwcGlkPXl0YWNoeW9u/https://media.zenfs.com/en/motleyfool.com/fa93a8c04ee88d3848658b22ac2ac1b3',\n",
       "      'width': 1400,\n",
       "      'height': 787,\n",
       "      'tag': 'original'},\n",
       "     {'url': 'https://s.yimg.com/uu/api/res/1.2/jz6YMk0WHqFJfXtQq0AcvA--~B/Zmk9c3RyaW07aD0xMjg7dz0xNzA7YXBwaWQ9eXRhY2h5b24-/https://media.zenfs.com/en/motleyfool.com/fa93a8c04ee88d3848658b22ac2ac1b3',\n",
       "      'width': 170,\n",
       "      'height': 128,\n",
       "      'tag': '170x128'}]},\n",
       "   'provider': {'displayName': 'Motley Fool', 'url': 'http://www.fool.com/'},\n",
       "   'canonicalUrl': {'url': 'https://www.fool.com/investing/2025/03/11/nasdaq-sell-off-the-3-best-magnificent-seven-stock/?source=eptyholnk0000202&utm_source=yahoo-host-full&utm_medium=feed&utm_campaign=article&referring_guid=205fe275-b304-4428-9aef-d797ab0662ca',\n",
       "    'site': 'finance',\n",
       "    'region': 'US',\n",
       "    'lang': 'en-US'},\n",
       "   'clickThroughUrl': {'url': 'https://finance.yahoo.com/news/nasdaq-sell-off-3-best-175500327.html',\n",
       "    'site': 'finance',\n",
       "    'region': 'US',\n",
       "    'lang': 'en-US'},\n",
       "   'metadata': {'editorsPick': False},\n",
       "   'finance': {'premiumFinance': {'isPremiumNews': False,\n",
       "     'isPremiumFreeNews': False}},\n",
       "   'storyline': None}},\n",
       " {'id': 'f9ba4b8f-d9bd-30c0-bfea-2db26d10e440',\n",
       "  'content': {'id': 'f9ba4b8f-d9bd-30c0-bfea-2db26d10e440',\n",
       "   'contentType': 'STORY',\n",
       "   'title': 'Is QUALCOMM Incorporated (QCOM) the Top Semiconductor Stock to Buy Now?',\n",
       "   'description': '',\n",
       "   'summary': 'We recently published a list of Top 10 Semiconductor Stocks to Buy Now. In this article, we are going to take a look at where QUALCOMM Incorporated (NASDAQ:QCOM) stands against other top semiconductor stocks to buy now. The global semiconductor industry reported a collective revenue of $626 billion in 2024, an 18.1% increase YoY, as […]',\n",
       "   'pubDate': '2025-03-11T17:37:32Z',\n",
       "   'displayTime': '2025-03-11T17:37:32Z',\n",
       "   'isHosted': True,\n",
       "   'bypassModal': False,\n",
       "   'previewUrl': None,\n",
       "   'thumbnail': {'originalUrl': 'https://media.zenfs.com/en/insidermonkey.com/bf239181af82feb5942c98aebc2bc334',\n",
       "    'originalWidth': 1456,\n",
       "    'originalHeight': 816,\n",
       "    'caption': 'Is QUALCOMM Incorporated (QCOM) the Top Semiconductor Stock to Buy Now?',\n",
       "    'resolutions': [{'url': 'https://s.yimg.com/uu/api/res/1.2/RuUh6VhcRSErN797jpnJJQ--~B/aD04MTY7dz0xNDU2O2FwcGlkPXl0YWNoeW9u/https://media.zenfs.com/en/insidermonkey.com/bf239181af82feb5942c98aebc2bc334',\n",
       "      'width': 1456,\n",
       "      'height': 816,\n",
       "      'tag': 'original'},\n",
       "     {'url': 'https://s.yimg.com/uu/api/res/1.2/kpOKLa33Q8_ZRfAK_P2e2A--~B/Zmk9c3RyaW07aD0xMjg7dz0xNzA7YXBwaWQ9eXRhY2h5b24-/https://media.zenfs.com/en/insidermonkey.com/bf239181af82feb5942c98aebc2bc334',\n",
       "      'width': 170,\n",
       "      'height': 128,\n",
       "      'tag': '170x128'}]},\n",
       "   'provider': {'displayName': 'Insider Monkey',\n",
       "    'url': 'http://www.insidermonkey.com'},\n",
       "   'canonicalUrl': {'url': 'https://finance.yahoo.com/news/qualcomm-incorporated-qcom-top-semiconductor-173732842.html',\n",
       "    'site': 'finance',\n",
       "    'region': 'US',\n",
       "    'lang': 'en-US'},\n",
       "   'clickThroughUrl': {'url': 'https://finance.yahoo.com/news/qualcomm-incorporated-qcom-top-semiconductor-173732842.html',\n",
       "    'site': 'finance',\n",
       "    'region': 'US',\n",
       "    'lang': 'en-US'},\n",
       "   'metadata': {'editorsPick': False},\n",
       "   'finance': {'premiumFinance': {'isPremiumNews': False,\n",
       "     'isPremiumFreeNews': False}},\n",
       "   'storyline': None}},\n",
       " {'id': '05c02b29-3be3-3c71-961e-360ba2943167',\n",
       "  'content': {'id': '05c02b29-3be3-3c71-961e-360ba2943167',\n",
       "   'contentType': 'STORY',\n",
       "   'title': \"Apple's Smartwatch Empire Is Cracking--And Rivals Are Moving In Fast\",\n",
       "   'description': '',\n",
       "   'summary': \"Apple's market share is slipping, competitors are surging, and the smartwatch race is getting brutal. Can Apple fight back?\",\n",
       "   'pubDate': '2025-03-11T17:19:46Z',\n",
       "   'displayTime': '2025-03-11T17:19:46Z',\n",
       "   'isHosted': True,\n",
       "   'bypassModal': False,\n",
       "   'previewUrl': None,\n",
       "   'thumbnail': {'originalUrl': 'https://media.zenfs.com/en/us.finance.gurufocus/40a12a1b7769c635ead36fab47a12566',\n",
       "    'originalWidth': 400,\n",
       "    'originalHeight': 400,\n",
       "    'caption': '',\n",
       "    'resolutions': [{'url': 'https://s.yimg.com/uu/api/res/1.2/IcEDHtzDwTA4hQbvBfYYrg--~B/aD00MDA7dz00MDA7YXBwaWQ9eXRhY2h5b24-/https://media.zenfs.com/en/us.finance.gurufocus/40a12a1b7769c635ead36fab47a12566',\n",
       "      'width': 400,\n",
       "      'height': 400,\n",
       "      'tag': 'original'},\n",
       "     {'url': 'https://s.yimg.com/uu/api/res/1.2/64L6XoMOqcmOFRmvlYxLdQ--~B/Zmk9c3RyaW07aD0xMjg7dz0xNzA7YXBwaWQ9eXRhY2h5b24-/https://media.zenfs.com/en/us.finance.gurufocus/40a12a1b7769c635ead36fab47a12566',\n",
       "      'width': 170,\n",
       "      'height': 128,\n",
       "      'tag': '170x128'}]},\n",
       "   'provider': {'displayName': 'GuruFocus.com',\n",
       "    'url': 'http://www.gurufocus.com/'},\n",
       "   'canonicalUrl': {'url': 'https://finance.yahoo.com/news/apples-smartwatch-empire-cracking-rivals-171946812.html',\n",
       "    'site': 'finance',\n",
       "    'region': 'US',\n",
       "    'lang': 'en-US'},\n",
       "   'clickThroughUrl': {'url': 'https://finance.yahoo.com/news/apples-smartwatch-empire-cracking-rivals-171946812.html',\n",
       "    'site': 'finance',\n",
       "    'region': 'US',\n",
       "    'lang': 'en-US'},\n",
       "   'metadata': {'editorsPick': False},\n",
       "   'finance': {'premiumFinance': {'isPremiumNews': False,\n",
       "     'isPremiumFreeNews': False}},\n",
       "   'storyline': None}}]"
      ]
     },
     "metadata": {},
     "output_type": "display_data"
    }
   ],
   "source": [
    "ticker = yf.Ticker(\"AAPL\")\n",
    "ticker.news"
   ]
  },
  {
   "cell_type": "markdown",
   "metadata": {},
   "source": [
    "# [Selenium](#table-of-contents)\n",
    "\n",
    "- Selenium is not suitable as it occasionally run into ReadTimeoutError causing the code to break. Hence we are not able to perform scrolling to required level.\n",
    "- Running in Jupyter Notebook causes timeout error due to async operation of Jupyter Notebook.\n"
   ]
  },
  {
   "cell_type": "code",
   "execution_count": null,
   "metadata": {},
   "outputs": [
    {
     "ename": "ReadTimeoutError",
     "evalue": "HTTPConnectionPool(host='localhost', port=37797): Read timed out. (read timeout=120)",
     "output_type": "error",
     "traceback": [
      "\u001b[31m---------------------------------------------------------------------------\u001b[39m\n",
      "\u001b[31mTimeoutError\u001b[39m                              Traceback (most recent call last)\n",
      "\u001b[36mFile \u001b[39m\u001b[32m~/miniconda3/envs/web/lib/python3.13/site-packages/urllib3/connectionpool.py:534\u001b[39m, in \u001b[36mHTTPConnectionPool._make_request\u001b[39m\u001b[34m(self, conn, method, url, body, headers, retries, timeout, chunked, response_conn, preload_content, decode_content, enforce_content_length)\u001b[39m\n",
      "\u001b[32m    533\u001b[39m \u001b[38;5;28;01mtry\u001b[39;00m:\n",
      "\u001b[32m--> \u001b[39m\u001b[32m534\u001b[39m     response = \u001b[43mconn\u001b[49m\u001b[43m.\u001b[49m\u001b[43mgetresponse\u001b[49m\u001b[43m(\u001b[49m\u001b[43m)\u001b[49m\n",
      "\u001b[32m    535\u001b[39m \u001b[38;5;28;01mexcept\u001b[39;00m (BaseSSLError, \u001b[38;5;167;01mOSError\u001b[39;00m) \u001b[38;5;28;01mas\u001b[39;00m e:\n",
      "\n",
      "\u001b[36mFile \u001b[39m\u001b[32m~/miniconda3/envs/web/lib/python3.13/site-packages/urllib3/connection.py:516\u001b[39m, in \u001b[36mHTTPConnection.getresponse\u001b[39m\u001b[34m(self)\u001b[39m\n",
      "\u001b[32m    515\u001b[39m \u001b[38;5;66;03m# Get the response from http.client.HTTPConnection\u001b[39;00m\n",
      "\u001b[32m--> \u001b[39m\u001b[32m516\u001b[39m httplib_response = \u001b[38;5;28;43msuper\u001b[39;49m\u001b[43m(\u001b[49m\u001b[43m)\u001b[49m\u001b[43m.\u001b[49m\u001b[43mgetresponse\u001b[49m\u001b[43m(\u001b[49m\u001b[43m)\u001b[49m\n",
      "\u001b[32m    518\u001b[39m \u001b[38;5;28;01mtry\u001b[39;00m:\n",
      "\n",
      "\u001b[36mFile \u001b[39m\u001b[32m~/miniconda3/envs/web/lib/python3.13/http/client.py:1430\u001b[39m, in \u001b[36mHTTPConnection.getresponse\u001b[39m\u001b[34m(self)\u001b[39m\n",
      "\u001b[32m   1429\u001b[39m \u001b[38;5;28;01mtry\u001b[39;00m:\n",
      "\u001b[32m-> \u001b[39m\u001b[32m1430\u001b[39m     \u001b[43mresponse\u001b[49m\u001b[43m.\u001b[49m\u001b[43mbegin\u001b[49m\u001b[43m(\u001b[49m\u001b[43m)\u001b[49m\n",
      "\u001b[32m   1431\u001b[39m \u001b[38;5;28;01mexcept\u001b[39;00m \u001b[38;5;167;01mConnectionError\u001b[39;00m:\n",
      "\n",
      "\u001b[36mFile \u001b[39m\u001b[32m~/miniconda3/envs/web/lib/python3.13/http/client.py:331\u001b[39m, in \u001b[36mHTTPResponse.begin\u001b[39m\u001b[34m(self)\u001b[39m\n",
      "\u001b[32m    330\u001b[39m \u001b[38;5;28;01mwhile\u001b[39;00m \u001b[38;5;28;01mTrue\u001b[39;00m:\n",
      "\u001b[32m--> \u001b[39m\u001b[32m331\u001b[39m     version, status, reason = \u001b[38;5;28;43mself\u001b[39;49m\u001b[43m.\u001b[49m\u001b[43m_read_status\u001b[49m\u001b[43m(\u001b[49m\u001b[43m)\u001b[49m\n",
      "\u001b[32m    332\u001b[39m     \u001b[38;5;28;01mif\u001b[39;00m status != CONTINUE:\n",
      "\n",
      "\u001b[36mFile \u001b[39m\u001b[32m~/miniconda3/envs/web/lib/python3.13/http/client.py:292\u001b[39m, in \u001b[36mHTTPResponse._read_status\u001b[39m\u001b[34m(self)\u001b[39m\n",
      "\u001b[32m    291\u001b[39m \u001b[38;5;28;01mdef\u001b[39;00m\u001b[38;5;250m \u001b[39m\u001b[34m_read_status\u001b[39m(\u001b[38;5;28mself\u001b[39m):\n",
      "\u001b[32m--> \u001b[39m\u001b[32m292\u001b[39m     line = \u001b[38;5;28mstr\u001b[39m(\u001b[38;5;28;43mself\u001b[39;49m\u001b[43m.\u001b[49m\u001b[43mfp\u001b[49m\u001b[43m.\u001b[49m\u001b[43mreadline\u001b[49m\u001b[43m(\u001b[49m\u001b[43m_MAXLINE\u001b[49m\u001b[43m \u001b[49m\u001b[43m+\u001b[49m\u001b[43m \u001b[49m\u001b[32;43m1\u001b[39;49m\u001b[43m)\u001b[49m, \u001b[33m\"\u001b[39m\u001b[33miso-8859-1\u001b[39m\u001b[33m\"\u001b[39m)\n",
      "\u001b[32m    293\u001b[39m     \u001b[38;5;28;01mif\u001b[39;00m \u001b[38;5;28mlen\u001b[39m(line) > _MAXLINE:\n",
      "\n",
      "\u001b[36mFile \u001b[39m\u001b[32m~/miniconda3/envs/web/lib/python3.13/socket.py:719\u001b[39m, in \u001b[36mSocketIO.readinto\u001b[39m\u001b[34m(self, b)\u001b[39m\n",
      "\u001b[32m    718\u001b[39m \u001b[38;5;28;01mtry\u001b[39;00m:\n",
      "\u001b[32m--> \u001b[39m\u001b[32m719\u001b[39m     \u001b[38;5;28;01mreturn\u001b[39;00m \u001b[38;5;28;43mself\u001b[39;49m\u001b[43m.\u001b[49m\u001b[43m_sock\u001b[49m\u001b[43m.\u001b[49m\u001b[43mrecv_into\u001b[49m\u001b[43m(\u001b[49m\u001b[43mb\u001b[49m\u001b[43m)\u001b[49m\n",
      "\u001b[32m    720\u001b[39m \u001b[38;5;28;01mexcept\u001b[39;00m timeout:\n",
      "\n",
      "\u001b[31mTimeoutError\u001b[39m: timed out\n",
      "\n",
      "The above exception was the direct cause of the following exception:\n",
      "\n",
      "\u001b[31mReadTimeoutError\u001b[39m                          Traceback (most recent call last)\n",
      "\u001b[36mCell\u001b[39m\u001b[36m \u001b[39m\u001b[32mIn[2]\u001b[39m\u001b[32m, line 5\u001b[39m\n",
      "\u001b[32m      2\u001b[39m scroll_limit = \u001b[32m5\u001b[39m\n",
      "\u001b[32m      4\u001b[39m driver = webdriver.Chrome()\n",
      "\u001b[32m----> \u001b[39m\u001b[32m5\u001b[39m \u001b[43mdriver\u001b[49m\u001b[43m.\u001b[49m\u001b[43mget\u001b[49m\u001b[43m(\u001b[49m\u001b[43murl\u001b[49m\u001b[43m)\u001b[49m\n",
      "\u001b[32m      7\u001b[39m \u001b[38;5;66;03m# Locate <a> tag and navigate to its parent <div>\u001b[39;00m\n",
      "\u001b[32m      8\u001b[39m parent_div = driver.find_elements(\n",
      "\u001b[32m      9\u001b[39m     By.XPATH,\n",
      "\u001b[32m     10\u001b[39m     \u001b[33m\"\u001b[39m\u001b[33m//div[@class=\u001b[39m\u001b[33m'\u001b[39m\u001b[33mcontent yf-82qtw3\u001b[39m\u001b[33m'\u001b[39m\u001b[33m]\u001b[39m\u001b[33m\"\u001b[39m\n",
      "\u001b[32m     11\u001b[39m )\n",
      "\n",
      "\u001b[36mFile \u001b[39m\u001b[32m~/miniconda3/envs/web/lib/python3.13/site-packages/selenium/webdriver/remote/webdriver.py:454\u001b[39m, in \u001b[36mWebDriver.get\u001b[39m\u001b[34m(self, url)\u001b[39m\n",
      "\u001b[32m    436\u001b[39m \u001b[38;5;28;01mdef\u001b[39;00m\u001b[38;5;250m \u001b[39m\u001b[34mget\u001b[39m(\u001b[38;5;28mself\u001b[39m, url: \u001b[38;5;28mstr\u001b[39m) -> \u001b[38;5;28;01mNone\u001b[39;00m:\n",
      "\u001b[32m    437\u001b[39m \u001b[38;5;250m    \u001b[39m\u001b[33;03m\"\"\"Navigate the browser to the specified URL in the current window or\u001b[39;00m\n",
      "\u001b[32m    438\u001b[39m \u001b[33;03m    tab.\u001b[39;00m\n",
      "\u001b[32m    439\u001b[39m \n",
      "\u001b[32m   (...)\u001b[39m\u001b[32m    452\u001b[39m \u001b[33;03m    >>> driver.get(\"https://example.com\")\u001b[39;00m\n",
      "\u001b[32m    453\u001b[39m \u001b[33;03m    \"\"\"\u001b[39;00m\n",
      "\u001b[32m--> \u001b[39m\u001b[32m454\u001b[39m     \u001b[38;5;28;43mself\u001b[39;49m\u001b[43m.\u001b[49m\u001b[43mexecute\u001b[49m\u001b[43m(\u001b[49m\u001b[43mCommand\u001b[49m\u001b[43m.\u001b[49m\u001b[43mGET\u001b[49m\u001b[43m,\u001b[49m\u001b[43m \u001b[49m\u001b[43m{\u001b[49m\u001b[33;43m\"\u001b[39;49m\u001b[33;43murl\u001b[39;49m\u001b[33;43m\"\u001b[39;49m\u001b[43m:\u001b[49m\u001b[43m \u001b[49m\u001b[43murl\u001b[49m\u001b[43m}\u001b[49m\u001b[43m)\u001b[49m\n",
      "\n",
      "\u001b[36mFile \u001b[39m\u001b[32m~/miniconda3/envs/web/lib/python3.13/site-packages/selenium/webdriver/remote/webdriver.py:427\u001b[39m, in \u001b[36mWebDriver.execute\u001b[39m\u001b[34m(self, driver_command, params)\u001b[39m\n",
      "\u001b[32m    424\u001b[39m     \u001b[38;5;28;01melif\u001b[39;00m \u001b[33m\"\u001b[39m\u001b[33msessionId\u001b[39m\u001b[33m\"\u001b[39m \u001b[38;5;129;01mnot\u001b[39;00m \u001b[38;5;129;01min\u001b[39;00m params:\n",
      "\u001b[32m    425\u001b[39m         params[\u001b[33m\"\u001b[39m\u001b[33msessionId\u001b[39m\u001b[33m\"\u001b[39m] = \u001b[38;5;28mself\u001b[39m.session_id\n",
      "\u001b[32m--> \u001b[39m\u001b[32m427\u001b[39m response = \u001b[38;5;28;43mself\u001b[39;49m\u001b[43m.\u001b[49m\u001b[43mcommand_executor\u001b[49m\u001b[43m.\u001b[49m\u001b[43mexecute\u001b[49m\u001b[43m(\u001b[49m\u001b[43mdriver_command\u001b[49m\u001b[43m,\u001b[49m\u001b[43m \u001b[49m\u001b[43mparams\u001b[49m\u001b[43m)\u001b[49m\n",
      "\u001b[32m    428\u001b[39m \u001b[38;5;28;01mif\u001b[39;00m response:\n",
      "\u001b[32m    429\u001b[39m     \u001b[38;5;28mself\u001b[39m.error_handler.check_response(response)\n",
      "\n",
      "\u001b[36mFile \u001b[39m\u001b[32m~/miniconda3/envs/web/lib/python3.13/site-packages/selenium/webdriver/remote/remote_connection.py:404\u001b[39m, in \u001b[36mRemoteConnection.execute\u001b[39m\u001b[34m(self, command, params)\u001b[39m\n",
      "\u001b[32m    402\u001b[39m trimmed = \u001b[38;5;28mself\u001b[39m._trim_large_entries(params)\n",
      "\u001b[32m    403\u001b[39m LOGGER.debug(\u001b[33m\"\u001b[39m\u001b[38;5;132;01m%s\u001b[39;00m\u001b[33m \u001b[39m\u001b[38;5;132;01m%s\u001b[39;00m\u001b[33m \u001b[39m\u001b[38;5;132;01m%s\u001b[39;00m\u001b[33m\"\u001b[39m, command_info[\u001b[32m0\u001b[39m], url, \u001b[38;5;28mstr\u001b[39m(trimmed))\n",
      "\u001b[32m--> \u001b[39m\u001b[32m404\u001b[39m \u001b[38;5;28;01mreturn\u001b[39;00m \u001b[38;5;28;43mself\u001b[39;49m\u001b[43m.\u001b[49m\u001b[43m_request\u001b[49m\u001b[43m(\u001b[49m\u001b[43mcommand_info\u001b[49m\u001b[43m[\u001b[49m\u001b[32;43m0\u001b[39;49m\u001b[43m]\u001b[49m\u001b[43m,\u001b[49m\u001b[43m \u001b[49m\u001b[43murl\u001b[49m\u001b[43m,\u001b[49m\u001b[43m \u001b[49m\u001b[43mbody\u001b[49m\u001b[43m=\u001b[49m\u001b[43mdata\u001b[49m\u001b[43m)\u001b[49m\n",
      "\n",
      "\u001b[36mFile \u001b[39m\u001b[32m~/miniconda3/envs/web/lib/python3.13/site-packages/selenium/webdriver/remote/remote_connection.py:428\u001b[39m, in \u001b[36mRemoteConnection._request\u001b[39m\u001b[34m(self, method, url, body)\u001b[39m\n",
      "\u001b[32m    425\u001b[39m     body = \u001b[38;5;28;01mNone\u001b[39;00m\n",
      "\u001b[32m    427\u001b[39m \u001b[38;5;28;01mif\u001b[39;00m \u001b[38;5;28mself\u001b[39m._client_config.keep_alive:\n",
      "\u001b[32m--> \u001b[39m\u001b[32m428\u001b[39m     response = \u001b[38;5;28;43mself\u001b[39;49m\u001b[43m.\u001b[49m\u001b[43m_conn\u001b[49m\u001b[43m.\u001b[49m\u001b[43mrequest\u001b[49m\u001b[43m(\u001b[49m\u001b[43mmethod\u001b[49m\u001b[43m,\u001b[49m\u001b[43m \u001b[49m\u001b[43murl\u001b[49m\u001b[43m,\u001b[49m\u001b[43m \u001b[49m\u001b[43mbody\u001b[49m\u001b[43m=\u001b[49m\u001b[43mbody\u001b[49m\u001b[43m,\u001b[49m\u001b[43m \u001b[49m\u001b[43mheaders\u001b[49m\u001b[43m=\u001b[49m\u001b[43mheaders\u001b[49m\u001b[43m,\u001b[49m\u001b[43m \u001b[49m\u001b[43mtimeout\u001b[49m\u001b[43m=\u001b[49m\u001b[38;5;28;43mself\u001b[39;49m\u001b[43m.\u001b[49m\u001b[43m_client_config\u001b[49m\u001b[43m.\u001b[49m\u001b[43mtimeout\u001b[49m\u001b[43m)\u001b[49m\n",
      "\u001b[32m    429\u001b[39m     statuscode = response.status\n",
      "\u001b[32m    430\u001b[39m \u001b[38;5;28;01melse\u001b[39;00m:\n",
      "\n",
      "\u001b[36mFile \u001b[39m\u001b[32m~/miniconda3/envs/web/lib/python3.13/site-packages/urllib3/_request_methods.py:143\u001b[39m, in \u001b[36mRequestMethods.request\u001b[39m\u001b[34m(self, method, url, body, fields, headers, json, **urlopen_kw)\u001b[39m\n",
      "\u001b[32m    135\u001b[39m     \u001b[38;5;28;01mreturn\u001b[39;00m \u001b[38;5;28mself\u001b[39m.request_encode_url(\n",
      "\u001b[32m    136\u001b[39m         method,\n",
      "\u001b[32m    137\u001b[39m         url,\n",
      "\u001b[32m   (...)\u001b[39m\u001b[32m    140\u001b[39m         **urlopen_kw,\n",
      "\u001b[32m    141\u001b[39m     )\n",
      "\u001b[32m    142\u001b[39m \u001b[38;5;28;01melse\u001b[39;00m:\n",
      "\u001b[32m--> \u001b[39m\u001b[32m143\u001b[39m     \u001b[38;5;28;01mreturn\u001b[39;00m \u001b[38;5;28;43mself\u001b[39;49m\u001b[43m.\u001b[49m\u001b[43mrequest_encode_body\u001b[49m\u001b[43m(\u001b[49m\n",
      "\u001b[32m    144\u001b[39m \u001b[43m        \u001b[49m\u001b[43mmethod\u001b[49m\u001b[43m,\u001b[49m\u001b[43m \u001b[49m\u001b[43murl\u001b[49m\u001b[43m,\u001b[49m\u001b[43m \u001b[49m\u001b[43mfields\u001b[49m\u001b[43m=\u001b[49m\u001b[43mfields\u001b[49m\u001b[43m,\u001b[49m\u001b[43m \u001b[49m\u001b[43mheaders\u001b[49m\u001b[43m=\u001b[49m\u001b[43mheaders\u001b[49m\u001b[43m,\u001b[49m\u001b[43m \u001b[49m\u001b[43m*\u001b[49m\u001b[43m*\u001b[49m\u001b[43murlopen_kw\u001b[49m\n",
      "\u001b[32m    145\u001b[39m \u001b[43m    \u001b[49m\u001b[43m)\u001b[49m\n",
      "\n",
      "\u001b[36mFile \u001b[39m\u001b[32m~/miniconda3/envs/web/lib/python3.13/site-packages/urllib3/_request_methods.py:278\u001b[39m, in \u001b[36mRequestMethods.request_encode_body\u001b[39m\u001b[34m(self, method, url, fields, headers, encode_multipart, multipart_boundary, **urlopen_kw)\u001b[39m\n",
      "\u001b[32m    274\u001b[39m     extra_kw[\u001b[33m\"\u001b[39m\u001b[33mheaders\u001b[39m\u001b[33m\"\u001b[39m].setdefault(\u001b[33m\"\u001b[39m\u001b[33mContent-Type\u001b[39m\u001b[33m\"\u001b[39m, content_type)\n",
      "\u001b[32m    276\u001b[39m extra_kw.update(urlopen_kw)\n",
      "\u001b[32m--> \u001b[39m\u001b[32m278\u001b[39m \u001b[38;5;28;01mreturn\u001b[39;00m \u001b[38;5;28;43mself\u001b[39;49m\u001b[43m.\u001b[49m\u001b[43murlopen\u001b[49m\u001b[43m(\u001b[49m\u001b[43mmethod\u001b[49m\u001b[43m,\u001b[49m\u001b[43m \u001b[49m\u001b[43murl\u001b[49m\u001b[43m,\u001b[49m\u001b[43m \u001b[49m\u001b[43m*\u001b[49m\u001b[43m*\u001b[49m\u001b[43mextra_kw\u001b[49m\u001b[43m)\u001b[49m\n",
      "\n",
      "\u001b[36mFile \u001b[39m\u001b[32m~/miniconda3/envs/web/lib/python3.13/site-packages/urllib3/poolmanager.py:443\u001b[39m, in \u001b[36mPoolManager.urlopen\u001b[39m\u001b[34m(self, method, url, redirect, **kw)\u001b[39m\n",
      "\u001b[32m    441\u001b[39m     response = conn.urlopen(method, url, **kw)\n",
      "\u001b[32m    442\u001b[39m \u001b[38;5;28;01melse\u001b[39;00m:\n",
      "\u001b[32m--> \u001b[39m\u001b[32m443\u001b[39m     response = \u001b[43mconn\u001b[49m\u001b[43m.\u001b[49m\u001b[43murlopen\u001b[49m\u001b[43m(\u001b[49m\u001b[43mmethod\u001b[49m\u001b[43m,\u001b[49m\u001b[43m \u001b[49m\u001b[43mu\u001b[49m\u001b[43m.\u001b[49m\u001b[43mrequest_uri\u001b[49m\u001b[43m,\u001b[49m\u001b[43m \u001b[49m\u001b[43m*\u001b[49m\u001b[43m*\u001b[49m\u001b[43mkw\u001b[49m\u001b[43m)\u001b[49m\n",
      "\u001b[32m    445\u001b[39m redirect_location = redirect \u001b[38;5;129;01mand\u001b[39;00m response.get_redirect_location()\n",
      "\u001b[32m    446\u001b[39m \u001b[38;5;28;01mif\u001b[39;00m \u001b[38;5;129;01mnot\u001b[39;00m redirect_location:\n",
      "\n",
      "\u001b[36mFile \u001b[39m\u001b[32m~/miniconda3/envs/web/lib/python3.13/site-packages/urllib3/connectionpool.py:841\u001b[39m, in \u001b[36mHTTPConnectionPool.urlopen\u001b[39m\u001b[34m(self, method, url, body, headers, retries, redirect, assert_same_host, timeout, pool_timeout, release_conn, chunked, body_pos, preload_content, decode_content, **response_kw)\u001b[39m\n",
      "\u001b[32m    838\u001b[39m \u001b[38;5;28;01melif\u001b[39;00m \u001b[38;5;28misinstance\u001b[39m(new_e, (\u001b[38;5;167;01mOSError\u001b[39;00m, HTTPException)):\n",
      "\u001b[32m    839\u001b[39m     new_e = ProtocolError(\u001b[33m\"\u001b[39m\u001b[33mConnection aborted.\u001b[39m\u001b[33m\"\u001b[39m, new_e)\n",
      "\u001b[32m--> \u001b[39m\u001b[32m841\u001b[39m retries = \u001b[43mretries\u001b[49m\u001b[43m.\u001b[49m\u001b[43mincrement\u001b[49m\u001b[43m(\u001b[49m\n",
      "\u001b[32m    842\u001b[39m \u001b[43m    \u001b[49m\u001b[43mmethod\u001b[49m\u001b[43m,\u001b[49m\u001b[43m \u001b[49m\u001b[43murl\u001b[49m\u001b[43m,\u001b[49m\u001b[43m \u001b[49m\u001b[43merror\u001b[49m\u001b[43m=\u001b[49m\u001b[43mnew_e\u001b[49m\u001b[43m,\u001b[49m\u001b[43m \u001b[49m\u001b[43m_pool\u001b[49m\u001b[43m=\u001b[49m\u001b[38;5;28;43mself\u001b[39;49m\u001b[43m,\u001b[49m\u001b[43m \u001b[49m\u001b[43m_stacktrace\u001b[49m\u001b[43m=\u001b[49m\u001b[43msys\u001b[49m\u001b[43m.\u001b[49m\u001b[43mexc_info\u001b[49m\u001b[43m(\u001b[49m\u001b[43m)\u001b[49m\u001b[43m[\u001b[49m\u001b[32;43m2\u001b[39;49m\u001b[43m]\u001b[49m\n",
      "\u001b[32m    843\u001b[39m \u001b[43m\u001b[49m\u001b[43m)\u001b[49m\n",
      "\u001b[32m    844\u001b[39m retries.sleep()\n",
      "\u001b[32m    846\u001b[39m \u001b[38;5;66;03m# Keep track of the error for the retry warning.\u001b[39;00m\n",
      "\n",
      "\u001b[36mFile \u001b[39m\u001b[32m~/miniconda3/envs/web/lib/python3.13/site-packages/urllib3/util/retry.py:474\u001b[39m, in \u001b[36mRetry.increment\u001b[39m\u001b[34m(self, method, url, response, error, _pool, _stacktrace)\u001b[39m\n",
      "\u001b[32m    471\u001b[39m \u001b[38;5;28;01melif\u001b[39;00m error \u001b[38;5;129;01mand\u001b[39;00m \u001b[38;5;28mself\u001b[39m._is_read_error(error):\n",
      "\u001b[32m    472\u001b[39m     \u001b[38;5;66;03m# Read retry?\u001b[39;00m\n",
      "\u001b[32m    473\u001b[39m     \u001b[38;5;28;01mif\u001b[39;00m read \u001b[38;5;129;01mis\u001b[39;00m \u001b[38;5;28;01mFalse\u001b[39;00m \u001b[38;5;129;01mor\u001b[39;00m method \u001b[38;5;129;01mis\u001b[39;00m \u001b[38;5;28;01mNone\u001b[39;00m \u001b[38;5;129;01mor\u001b[39;00m \u001b[38;5;129;01mnot\u001b[39;00m \u001b[38;5;28mself\u001b[39m._is_method_retryable(method):\n",
      "\u001b[32m--> \u001b[39m\u001b[32m474\u001b[39m         \u001b[38;5;28;01mraise\u001b[39;00m \u001b[43mreraise\u001b[49m\u001b[43m(\u001b[49m\u001b[38;5;28;43mtype\u001b[39;49m\u001b[43m(\u001b[49m\u001b[43merror\u001b[49m\u001b[43m)\u001b[49m\u001b[43m,\u001b[49m\u001b[43m \u001b[49m\u001b[43merror\u001b[49m\u001b[43m,\u001b[49m\u001b[43m \u001b[49m\u001b[43m_stacktrace\u001b[49m\u001b[43m)\u001b[49m\n",
      "\u001b[32m    475\u001b[39m     \u001b[38;5;28;01melif\u001b[39;00m read \u001b[38;5;129;01mis\u001b[39;00m \u001b[38;5;129;01mnot\u001b[39;00m \u001b[38;5;28;01mNone\u001b[39;00m:\n",
      "\u001b[32m    476\u001b[39m         read -= \u001b[32m1\u001b[39m\n",
      "\n",
      "\u001b[36mFile \u001b[39m\u001b[32m~/miniconda3/envs/web/lib/python3.13/site-packages/urllib3/util/util.py:39\u001b[39m, in \u001b[36mreraise\u001b[39m\u001b[34m(tp, value, tb)\u001b[39m\n",
      "\u001b[32m     37\u001b[39m     \u001b[38;5;28;01mif\u001b[39;00m value.__traceback__ \u001b[38;5;129;01mis\u001b[39;00m \u001b[38;5;129;01mnot\u001b[39;00m tb:\n",
      "\u001b[32m     38\u001b[39m         \u001b[38;5;28;01mraise\u001b[39;00m value.with_traceback(tb)\n",
      "\u001b[32m---> \u001b[39m\u001b[32m39\u001b[39m     \u001b[38;5;28;01mraise\u001b[39;00m value\n",
      "\u001b[32m     40\u001b[39m \u001b[38;5;28;01mfinally\u001b[39;00m:\n",
      "\u001b[32m     41\u001b[39m     value = \u001b[38;5;28;01mNone\u001b[39;00m  \u001b[38;5;66;03m# type: ignore[assignment]\u001b[39;00m\n",
      "\n",
      "\u001b[36mFile \u001b[39m\u001b[32m~/miniconda3/envs/web/lib/python3.13/site-packages/urllib3/connectionpool.py:787\u001b[39m, in \u001b[36mHTTPConnectionPool.urlopen\u001b[39m\u001b[34m(self, method, url, body, headers, retries, redirect, assert_same_host, timeout, pool_timeout, release_conn, chunked, body_pos, preload_content, decode_content, **response_kw)\u001b[39m\n",
      "\u001b[32m    784\u001b[39m response_conn = conn \u001b[38;5;28;01mif\u001b[39;00m \u001b[38;5;129;01mnot\u001b[39;00m release_conn \u001b[38;5;28;01melse\u001b[39;00m \u001b[38;5;28;01mNone\u001b[39;00m\n",
      "\u001b[32m    786\u001b[39m \u001b[38;5;66;03m# Make the request on the HTTPConnection object\u001b[39;00m\n",
      "\u001b[32m--> \u001b[39m\u001b[32m787\u001b[39m response = \u001b[38;5;28;43mself\u001b[39;49m\u001b[43m.\u001b[49m\u001b[43m_make_request\u001b[49m\u001b[43m(\u001b[49m\n",
      "\u001b[32m    788\u001b[39m \u001b[43m    \u001b[49m\u001b[43mconn\u001b[49m\u001b[43m,\u001b[49m\n",
      "\u001b[32m    789\u001b[39m \u001b[43m    \u001b[49m\u001b[43mmethod\u001b[49m\u001b[43m,\u001b[49m\n",
      "\u001b[32m    790\u001b[39m \u001b[43m    \u001b[49m\u001b[43murl\u001b[49m\u001b[43m,\u001b[49m\n",
      "\u001b[32m    791\u001b[39m \u001b[43m    \u001b[49m\u001b[43mtimeout\u001b[49m\u001b[43m=\u001b[49m\u001b[43mtimeout_obj\u001b[49m\u001b[43m,\u001b[49m\n",
      "\u001b[32m    792\u001b[39m \u001b[43m    \u001b[49m\u001b[43mbody\u001b[49m\u001b[43m=\u001b[49m\u001b[43mbody\u001b[49m\u001b[43m,\u001b[49m\n",
      "\u001b[32m    793\u001b[39m \u001b[43m    \u001b[49m\u001b[43mheaders\u001b[49m\u001b[43m=\u001b[49m\u001b[43mheaders\u001b[49m\u001b[43m,\u001b[49m\n",
      "\u001b[32m    794\u001b[39m \u001b[43m    \u001b[49m\u001b[43mchunked\u001b[49m\u001b[43m=\u001b[49m\u001b[43mchunked\u001b[49m\u001b[43m,\u001b[49m\n",
      "\u001b[32m    795\u001b[39m \u001b[43m    \u001b[49m\u001b[43mretries\u001b[49m\u001b[43m=\u001b[49m\u001b[43mretries\u001b[49m\u001b[43m,\u001b[49m\n",
      "\u001b[32m    796\u001b[39m \u001b[43m    \u001b[49m\u001b[43mresponse_conn\u001b[49m\u001b[43m=\u001b[49m\u001b[43mresponse_conn\u001b[49m\u001b[43m,\u001b[49m\n",
      "\u001b[32m    797\u001b[39m \u001b[43m    \u001b[49m\u001b[43mpreload_content\u001b[49m\u001b[43m=\u001b[49m\u001b[43mpreload_content\u001b[49m\u001b[43m,\u001b[49m\n",
      "\u001b[32m    798\u001b[39m \u001b[43m    \u001b[49m\u001b[43mdecode_content\u001b[49m\u001b[43m=\u001b[49m\u001b[43mdecode_content\u001b[49m\u001b[43m,\u001b[49m\n",
      "\u001b[32m    799\u001b[39m \u001b[43m    \u001b[49m\u001b[43m*\u001b[49m\u001b[43m*\u001b[49m\u001b[43mresponse_kw\u001b[49m\u001b[43m,\u001b[49m\n",
      "\u001b[32m    800\u001b[39m \u001b[43m\u001b[49m\u001b[43m)\u001b[49m\n",
      "\u001b[32m    802\u001b[39m \u001b[38;5;66;03m# Everything went great!\u001b[39;00m\n",
      "\u001b[32m    803\u001b[39m clean_exit = \u001b[38;5;28;01mTrue\u001b[39;00m\n",
      "\n",
      "\u001b[36mFile \u001b[39m\u001b[32m~/miniconda3/envs/web/lib/python3.13/site-packages/urllib3/connectionpool.py:536\u001b[39m, in \u001b[36mHTTPConnectionPool._make_request\u001b[39m\u001b[34m(self, conn, method, url, body, headers, retries, timeout, chunked, response_conn, preload_content, decode_content, enforce_content_length)\u001b[39m\n",
      "\u001b[32m    534\u001b[39m     response = conn.getresponse()\n",
      "\u001b[32m    535\u001b[39m \u001b[38;5;28;01mexcept\u001b[39;00m (BaseSSLError, \u001b[38;5;167;01mOSError\u001b[39;00m) \u001b[38;5;28;01mas\u001b[39;00m e:\n",
      "\u001b[32m--> \u001b[39m\u001b[32m536\u001b[39m     \u001b[38;5;28;43mself\u001b[39;49m\u001b[43m.\u001b[49m\u001b[43m_raise_timeout\u001b[49m\u001b[43m(\u001b[49m\u001b[43merr\u001b[49m\u001b[43m=\u001b[49m\u001b[43me\u001b[49m\u001b[43m,\u001b[49m\u001b[43m \u001b[49m\u001b[43murl\u001b[49m\u001b[43m=\u001b[49m\u001b[43murl\u001b[49m\u001b[43m,\u001b[49m\u001b[43m \u001b[49m\u001b[43mtimeout_value\u001b[49m\u001b[43m=\u001b[49m\u001b[43mread_timeout\u001b[49m\u001b[43m)\u001b[49m\n",
      "\u001b[32m    537\u001b[39m     \u001b[38;5;28;01mraise\u001b[39;00m\n",
      "\u001b[32m    539\u001b[39m \u001b[38;5;66;03m# Set properties that are used by the pooling layer.\u001b[39;00m\n",
      "\n",
      "\u001b[36mFile \u001b[39m\u001b[32m~/miniconda3/envs/web/lib/python3.13/site-packages/urllib3/connectionpool.py:367\u001b[39m, in \u001b[36mHTTPConnectionPool._raise_timeout\u001b[39m\u001b[34m(self, err, url, timeout_value)\u001b[39m\n",
      "\u001b[32m    364\u001b[39m \u001b[38;5;250m\u001b[39m\u001b[33;03m\"\"\"Is the error actually a timeout? Will raise a ReadTimeout or pass\"\"\"\u001b[39;00m\n",
      "\u001b[32m    366\u001b[39m \u001b[38;5;28;01mif\u001b[39;00m \u001b[38;5;28misinstance\u001b[39m(err, SocketTimeout):\n",
      "\u001b[32m--> \u001b[39m\u001b[32m367\u001b[39m     \u001b[38;5;28;01mraise\u001b[39;00m ReadTimeoutError(\n",
      "\u001b[32m    368\u001b[39m         \u001b[38;5;28mself\u001b[39m, url, \u001b[33mf\u001b[39m\u001b[33m\"\u001b[39m\u001b[33mRead timed out. (read timeout=\u001b[39m\u001b[38;5;132;01m{\u001b[39;00mtimeout_value\u001b[38;5;132;01m}\u001b[39;00m\u001b[33m)\u001b[39m\u001b[33m\"\u001b[39m\n",
      "\u001b[32m    369\u001b[39m     ) \u001b[38;5;28;01mfrom\u001b[39;00m\u001b[38;5;250m \u001b[39m\u001b[34;01merr\u001b[39;00m\n",
      "\u001b[32m    371\u001b[39m \u001b[38;5;66;03m# See the above comment about EAGAIN in Python 3.\u001b[39;00m\n",
      "\u001b[32m    372\u001b[39m \u001b[38;5;28;01mif\u001b[39;00m \u001b[38;5;28mhasattr\u001b[39m(err, \u001b[33m\"\u001b[39m\u001b[33merrno\u001b[39m\u001b[33m\"\u001b[39m) \u001b[38;5;129;01mand\u001b[39;00m err.errno \u001b[38;5;129;01min\u001b[39;00m _blocking_errnos:\n",
      "\n",
      "\u001b[31mReadTimeoutError\u001b[39m: HTTPConnectionPool(host='localhost', port=37797): Read timed out. (read timeout=120)"
     ]
    }
   ],
   "source": [
    "url = \"https://finance.yahoo.com/quote/AAPL/news/\"\n",
    "scroll_limit = 5\n",
    "\n",
    "driver = webdriver.Chrome()\n",
    "driver.get(url)\n",
    "\n",
    "# Locate <a> tag and navigate to its parent <div>\n",
    "parent_div = driver.find_elements(By.XPATH, \"//div[@class='content yf-82qtw3']\")\n",
    "\n",
    "# parent_div.get_attribute(\"class\")\n",
    "\n",
    "# # Print the class attribute of the parent <div>\n",
    "# title_element = parent_div.find_element(By.XPATH, \".//h3[contains(@class, 'yf-82qtw3)]\")\n",
    "# title_element.text"
   ]
  },
  {
   "cell_type": "markdown",
   "metadata": {},
   "source": [
    "# [Playwright](#table-of-contents)\n",
    "\n",
    "- Able to perform scrolling to extract required number of articles as html content.\n",
    "- Use BeautifulSoup on the generated html content to extract the relevant HTML tags.\n"
   ]
  },
  {
   "cell_type": "code",
   "execution_count": null,
   "metadata": {
    "vscode": {
     "languageId": "html"
    }
   },
   "outputs": [],
   "source": [
    "<div class=\"content yf-82qtw3\"><a class=\"subtle-link fin-size-small titles noUnderline yf-1xqzjha\"\n",
    "        data-ylk=\"elm:hdln;elmt:link;itc:0;ct:story;slk:Shareholders%20are%20showing%20signs%20of%20DEI%20fatigue%20as%20activists%20push%20for%20more%20votes;sec:qsp-news;subsec:all;cpos:1;g:a42c9cba-3739-4dae-8402-e5acaa0ad944\"\n",
    "        href=\"https://finance.yahoo.com/news/shareholders-are-showing-signs-of-dei-fatigue-as-activists-push-for-more-votes-140136546.html\"\n",
    "        aria-label=\"Shareholders are showing signs of DEI fatigue as activists push for more votes\"\n",
    "        title=\"Shareholders are showing signs of DEI fatigue as activists push for more votes\" data-rapid_p=\"23\"\n",
    "        data-v9y=\"1\">\n",
    "        <h3 class=\"clamp  yf-82qtw3\">Shareholders are showing signs of DEI fatigue as activists push for more votes</h3>\n",
    "        <p class=\"clamp  yf-82qtw3\">Champions and critics of DEI policies are again pushing American companies to either\n",
    "            bolster or diminish their diversity policies. But so far this year, none of the proposals are garnering\n",
    "            shareholder support.</p>\n",
    "    </a>\n",
    "    <div class=\"footer yf-82qtw3\">\n",
    "        <div class=\"publishing yf-1weyqlp\">Yahoo Finance <i aria-hidden=\"true\" data-svelte-h=\"svelte-sg6bkb\">•</i> 13\n",
    "            hours ago</div>\n",
    "        <div class=\"taxonomy-links yf-13tszyc\"><a data-testid=\"ticker-container\"\n",
    "                class=\"ticker x-small hover2 border streaming yf-1fqyif7\" aria-label=\"DE\"\n",
    "                data-ylk=\"elm:qte;elmt:link;itc:0;sec:qsp-news;slk:DE;subsec:all;cpos:1\" href=\"/quote/DE/\" title=\"DE\"\n",
    "                data-rapid_p=\"24\" data-v9y=\"1\">\n",
    "                <div class=\"name yf-1fqyif7\"><span class=\"symbol yf-1fqyif7\">DE </span> </div> <fin-streamer\n",
    "                    class=\"percentChange yf-1fqyif7\" data-symbol=\"DE\" data-field=\"regularMarketChangePercent\"\n",
    "                    data-trend=\"txt\" data-pricehint=\"2\" data-tstyle=\"default\" active=\"\"><span\n",
    "                        class=\"d60f3b00 c4af00a5\">+3.48%</span></fin-streamer>\n",
    "            </a> <a data-testid=\"ticker-container\" class=\"ticker x-small hover2 border streaming yf-1fqyif7\"\n",
    "                aria-label=\"COST\" data-ylk=\"elm:qte;elmt:link;itc:0;sec:qsp-news;slk:COST;subsec:all;cpos:1\"\n",
    "                href=\"/quote/COST/\" title=\"COST\" data-rapid_p=\"25\" data-v9y=\"1\">\n",
    "                <div class=\"name yf-1fqyif7\"><span class=\"symbol yf-1fqyif7\">COST </span> </div> <fin-streamer\n",
    "                    class=\"percentChange yf-1fqyif7\" data-symbol=\"COST\" data-field=\"regularMarketChangePercent\"\n",
    "                    data-trend=\"txt\" data-pricehint=\"2\" data-tstyle=\"default\" active=\"\"><span\n",
    "                        class=\"d60f3b00 d5882186\">-6.07%</span></fin-streamer>\n",
    "            </a> <a data-testid=\"ticker-container\" class=\"ticker x-small hover2 border streaming yf-1fqyif7\"\n",
    "                aria-label=\"AAPL\" data-ylk=\"elm:qte;elmt:link;itc:0;sec:qsp-news;slk:AAPL;subsec:all;cpos:1\"\n",
    "                href=\"/quote/AAPL/\" title=\"AAPL\" data-rapid_p=\"26\" data-v9y=\"1\">\n",
    "                <div class=\"name yf-1fqyif7\"><span class=\"symbol yf-1fqyif7\">AAPL </span> </div> <fin-streamer\n",
    "                    class=\"percentChange yf-1fqyif7\" data-symbol=\"AAPL\" data-field=\"regularMarketChangePercent\"\n",
    "                    data-trend=\"txt\" data-pricehint=\"2\" data-tstyle=\"default\" active=\"\"><span\n",
    "                        class=\"d60f3b00 c4af00a5\">+1.59%</span></fin-streamer>\n",
    "            </a> </div>\n",
    "    </div>\n",
    "</div>"
   ]
  },
  {
   "cell_type": "markdown",
   "metadata": {},
   "source": [
    "# [Perplexity Results (GPT-4o)](#table-of-contents)\n"
   ]
  },
  {
   "cell_type": "markdown",
   "metadata": {},
   "source": [
    "## [Prompt](#table-of-contents)\n",
    "\n",
    "The list of dictionaries are attached with the following prompt in Perplexity:\n",
    "\n",
    "```\n",
    "You are a stock analysis expert.\n",
    "\n",
    "I've attached list of dictionaries containing news info specifically:\n",
    "\n",
    "1. publisher = Source where news are generated\n",
    "2. period = Amount of time lapsed after news release\n",
    "3. title = News title\n",
    "4. content = News content in brief\n",
    "\n",
    "Each dictionary is supposed to be related to Apple stock.\n",
    "\n",
    "Your task:\n",
    "1. Review the 'title' and 'content' keys in each dictionary to access the sentiment related to Apple stock.\n",
    "2. Use ONLY following rating:\n",
    "\n",
    "    1 = Negative\n",
    "    2 = Moderate negative\n",
    "    3 = Neutral\n",
    "    4 = Moderate positive\n",
    "    5 = Positive\n",
    "\n",
    "3. If the news are not related to a Apple stock, please give a rating of 3.\n",
    "4. Please review all dictionary items in the attached list and provide the corresponding rating.\n",
    "5. After reviewing all dictionary items, kindly provide an overall sentiment rating for Apple stock.\n",
    "```\n"
   ]
  },
  {
   "cell_type": "markdown",
   "metadata": {},
   "source": [
    "## [Response](#table-of-contents)\n",
    "\n",
    "Response from Perplexity (ChatGPT 4-o):\n",
    "\n",
    "```\n",
    "Sentiment Ratings for Each News Item\n",
    "Title: \"Could Apple Be a Millionaire-Maker Stock?\"\n",
    "Content: Highlights Apple's historical success and potential for future gains.\n",
    "Rating: 5 (Positive)\n",
    "\n",
    "Title: \"Apple Inc. (AAPL) Unveils AI-Powered MacBook Air with M4 Chip\"\n",
    "Content: Discusses the launch of an innovative product, indicating progress in AI.\n",
    "Rating: 5 (Positive)\n",
    "\n",
    "Title: \"Apple (AAPL) Beats Stock Market Upswing: What Investors Need to Know\"\n",
    "Content: Reports a positive trading session for Apple stock.\n",
    "Rating: 4 (Moderate positive)\n",
    "\n",
    "Title: \"Apple Delays Siri Upgrade Indefinitely as AI Concerns Escalate\"\n",
    "Content: Focuses on delays in Apple's AI projects, raising concerns.\n",
    "Rating: 2 (Moderate negative)\n",
    "\n",
    "Title: \"Apple Is Pushing Back AI-Driven Siri Features to 2026, Report Says\"\n",
    "Content: Similar to the previous item, emphasizes delays in Siri enhancements.\n",
    "Rating: 2 (Moderate negative)\n",
    "\n",
    "Title: \"Apple Says Some AI-Powered Enhancements to Siri to Be Delayed\"\n",
    "Content: Mentions delays in Siri updates amid slumping iPhone sales.\n",
    "Rating: 2 (Moderate negative)\n",
    "\n",
    "Title: \"Sector Update: Tech Stocks Advance Late Afternoon\"\n",
    "Content: General update on tech stocks without specific focus on Apple.\n",
    "Rating: 3 (Neutral)\n",
    "\n",
    "Title: \"Magnificent Seven Stocks: Nvidia Reverses Higher; Amazon, Meta, Tesla Slide\"\n",
    "Content: Discusses multiple tech stocks, with a brief mention of Apple’s mixed performance in 2025.\n",
    "Rating: 3 (Neutral)\n",
    "\n",
    "Title: \"Apple says some AI improvements to Siri delayed to 2026\"\n",
    "Content: Reiterates delays in Siri's AI features, consistent with earlier reports.\n",
    "Rating: 2 (Moderate negative)\n",
    "\n",
    "Title: \"Apple's First Foldable iPhone Could Launch in 2026 With Premium Pricing and AI Features\"\n",
    "Content: Speculates on a high-priced foldable iPhone with advanced features, suggesting innovation but no immediate impact.\n",
    "Rating: 4 (Moderate positive)\n",
    "\n",
    "Title: \"Apple Inc. (AAPL): Jim Cramer Cautions – ‘I Could See the Stock Going Lower!’\"\n",
    "Content: Warns of potential downside for Apple stock, reflecting negativity.\n",
    "Rating: 1 (Negative)\n",
    "\n",
    "Title: \"Apple Secures Local Content Certifications in Indonesia but Faces Additional Regulatory Hurdles\"\n",
    "Content: Notes progress in regulatory compliance but highlights challenges ahead.\n",
    "Rating: 3 (Neutral)\n",
    "\n",
    "Title: \"Is Apple Inc. (AAPL) Among the Best Warren Buffett Stock to Buy Right Now?\"\n",
    "Content: Discusses Apple's position as a strong investment option under Warren Buffett’s philosophy, implying positivity.\n",
    "Rating: 4 (Moderate positive)\n",
    "\n",
    "Title: \"The Mag 7 Stocks Are No Longer Magnificent. Where the Charts Say They Go Next.\"\n",
    "Content: Broad commentary on tech stocks, including Apple, with no clear sentiment focus on Apple itself.\n",
    "Rating: 3 (Neutral)\n",
    "\n",
    "Title: \"Broadcom Shares Jump as AI Growth Fuels Upbeat Forecast\"\n",
    "Content: Primarily about Broadcom, with indirect relevance to Apple as a client company.\n",
    "Rating: 3 (Neutral)\n",
    "\n",
    "Title: \"Major Breakthrough: New Certificates Propel Apple iPhone 16 into Indonesia\"\n",
    "Content: Highlights progress in regulatory certification for iPhone sales in Indonesia, indicating positive developments for Apple’s market expansion.\n",
    "Rating: 4 (Moderate positive)\n",
    "\n",
    "Title: \"In Rotten Market, Top Funds Harvest Apple Stock — And 10 Others\"\n",
    "Content: Indicates institutional confidence in Apple stock despite broader market challenges, reflecting positivity.\n",
    "Rating: 4 (Moderate positive)\n",
    "\n",
    "Title: \"Apple's iPhone 16 Still on Hold in Indonesia Despite Key Certification Win\"\n",
    "Content: Acknowledges regulatory progress but emphasizes ongoing hurdles for product launch in Indonesia.\n",
    "Rating: 3 (Neutral)\n",
    "\n",
    "Title: \"Cloud AI Today - Cirrascale Launches Inference Cloud For Scalable AI Integration\"\n",
    "Content: Not related to Apple stock specifically but mentions general AI developments in the industry.\n",
    "Rating: 3 (Neutral)\n",
    "\n",
    "Title: \"38% of Berkshire Hathaway's Portfolio Is Invested in These 3 Unstoppable Dividend Stocks\"\n",
    "Content: General commentary on Warren Buffett’s portfolio with no specific focus on Apple stock sentiment.\n",
    "Rating: 3 (Neutral)\n",
    "\n",
    "Overall Sentiment Rating for Apple Stock\n",
    "The individual ratings suggest a mix of sentiments:\n",
    "\n",
    "Positive/Moderate Positive Ratings (5 or 4): 8 items\n",
    "\n",
    "Neutral Ratings (3): 8 items\n",
    "\n",
    "Negative/Moderate Negative Ratings (1 or 2): 4 items\n",
    "\n",
    "The overall sentiment leans toward moderately positive for Apple stock, reflecting optimism tempered by some concerns over delays and market challenges.\n",
    "\n",
    "Final Overall Sentiment Rating:\n",
    "4 (Moderate positive)\n",
    "```\n"
   ]
  },
  {
   "cell_type": "markdown",
   "metadata": {},
   "source": [
    "## [Cointegration](#table-of-contents)\n",
    "\n",
    "ChatGPT is not able to provide the stock with highest cointegration value with Apple stock:\n",
    "\n",
    "```\n",
    "The query about which S&P 500 stock has the highest cointegration value with Apple stock cannot be answered directly using the provided search results. Cointegration analysis requires statistical computations based on historical price data of Apple stock and other S&P 500 stocks. This involves time-series analysis to determine the long-term equilibrium relationship between Apple and other stocks.\n",
    "\n",
    "If you have access to historical price data for Apple and other S&P 500 stocks, you can calculate cointegration values using statistical software or programming languages such as Python or R. The process typically involves:\n",
    "\n",
    "Collecting Data: Obtain historical price data for Apple (AAPL) and other S&P 500 stocks over a specific period.\n",
    "\n",
    "Stationarity Testing: Use tests like the Augmented Dickey-Fuller (ADF) test to ensure the time series are stationary.\n",
    "\n",
    "Cointegration Testing: Apply tests such as the Engle-Granger two-step method or Johansen test to identify stocks with high cointegration values with Apple.\n",
    "\n",
    "If you provide relevant price data or specify tools available, I can guide you further on how to perform this analysis.\n",
    "```\n"
   ]
  },
  {
   "cell_type": "markdown",
   "metadata": {},
   "source": [
    "## [Correlation](#table-of-contents)\n",
    "\n",
    "ChatGPT 4-o stated Microsoft has the highest degree of correlation:\n",
    "\n",
    "```\n",
    "The stock most correlated with Apple (AAPL) among S&P 500 companies is Microsoft (MSFT). Historically, Apple and Microsoft have shown a high degree of correlation due to their positions as leading technology companies and their exposure to similar market dynamics, such as consumer electronics, cloud computing, and software services.\n",
    "\n",
    "While specific numerical correlation values for S&P 500 stocks are not provided in the search results, Microsoft is widely recognized as one of Apple’s closest peers in terms of performance trends and market behavior. If you need precise correlation coefficients, you would need to calculate them using historical price data for Apple and other S&P 500 stocks over a specific period. Tools like Python, R, or financial platforms can help generate a correlation matrix for this purpose.\n",
    "```\n"
   ]
  },
  {
   "cell_type": "markdown",
   "metadata": {},
   "source": [
    "# [Compute Cointegration](#table-of-contents)\n",
    "\n",
    "A number of issues with downloading OHLCV data via yfinance:\n",
    "\n",
    "1. API misuse happen randomly dispite rate limtting and caching.\n",
    "2. Inaccurate download of OHLCV data using yf.download(<ticker_list>) e.g.\n",
    "\n",
    "- ['MMM', 'AOS', 'ABT', 'ABBV', 'ACN', 'ADBE', 'AMD', 'AES', 'AFL', 'A'] -> ABBV not downloaded but ABNB downloaded instead.\n",
    "- ABNB downloaded twice.\n",
    "\n",
    "As such, we have to resort to downloading individual ticker separately. Note that yfinance do not have OHLCV data for 'CTAS', 'BRK.B' and 'BF.B' tickers; therefore they are under the ignored_list.\n"
   ]
  },
  {
   "cell_type": "code",
   "execution_count": 4,
   "metadata": {},
   "outputs": [
    {
     "name": "stdout",
     "output_type": "stream",
     "text": [
      "YF.download() has changed argument auto_adjust default to True\n"
     ]
    },
    {
     "name": "stderr",
     "output_type": "stream",
     "text": [
      "[*********************100%***********************]  1 of 1 completed\n"
     ]
    },
    {
     "name": "stdout",
     "output_type": "stream",
     "text": [
      "    1) MMM    : 1305\n",
      "\n"
     ]
    },
    {
     "name": "stderr",
     "output_type": "stream",
     "text": [
      "[*********************100%***********************]  1 of 1 completed\n"
     ]
    },
    {
     "name": "stdout",
     "output_type": "stream",
     "text": [
      "    2) AOS    : 1305\n",
      "\n"
     ]
    },
    {
     "name": "stderr",
     "output_type": "stream",
     "text": [
      "[*********************100%***********************]  1 of 1 completed\n"
     ]
    },
    {
     "name": "stdout",
     "output_type": "stream",
     "text": [
      "    3) ABT    : 1305\n",
      "\n"
     ]
    },
    {
     "name": "stderr",
     "output_type": "stream",
     "text": [
      "[*********************100%***********************]  1 of 1 completed\n"
     ]
    },
    {
     "name": "stdout",
     "output_type": "stream",
     "text": [
      "    4) ABBV   : 1305\n",
      "\n"
     ]
    },
    {
     "name": "stderr",
     "output_type": "stream",
     "text": [
      "[*********************100%***********************]  1 of 1 completed\n"
     ]
    },
    {
     "name": "stdout",
     "output_type": "stream",
     "text": [
      "    5) ACN    : 1305\n",
      "\n"
     ]
    },
    {
     "name": "stderr",
     "output_type": "stream",
     "text": [
      "[*********************100%***********************]  1 of 1 completed\n"
     ]
    },
    {
     "name": "stdout",
     "output_type": "stream",
     "text": [
      "    6) ADBE   : 1305\n",
      "\n"
     ]
    },
    {
     "name": "stderr",
     "output_type": "stream",
     "text": [
      "[*********************100%***********************]  1 of 1 completed\n"
     ]
    },
    {
     "name": "stdout",
     "output_type": "stream",
     "text": [
      "    7) AMD    : 1305\n",
      "\n"
     ]
    },
    {
     "name": "stderr",
     "output_type": "stream",
     "text": [
      "[*********************100%***********************]  1 of 1 completed\n"
     ]
    },
    {
     "name": "stdout",
     "output_type": "stream",
     "text": [
      "    8) AES    : 1305\n",
      "\n"
     ]
    },
    {
     "name": "stderr",
     "output_type": "stream",
     "text": [
      "[*********************100%***********************]  1 of 1 completed\n"
     ]
    },
    {
     "name": "stdout",
     "output_type": "stream",
     "text": [
      "    9) AFL    : 1305\n",
      "\n"
     ]
    },
    {
     "name": "stderr",
     "output_type": "stream",
     "text": [
      "[*********************100%***********************]  1 of 1 completed\n"
     ]
    },
    {
     "name": "stdout",
     "output_type": "stream",
     "text": [
      "   10) A      : 1305\n",
      "\n"
     ]
    },
    {
     "name": "stderr",
     "output_type": "stream",
     "text": [
      "[*********************100%***********************]  1 of 1 completed\n"
     ]
    },
    {
     "name": "stdout",
     "output_type": "stream",
     "text": [
      "   11) APD    : 1305\n",
      "\n"
     ]
    },
    {
     "name": "stderr",
     "output_type": "stream",
     "text": [
      "[*********************100%***********************]  1 of 1 completed\n"
     ]
    },
    {
     "name": "stdout",
     "output_type": "stream",
     "text": [
      "   12) ABNB   : 1067\n",
      "\n"
     ]
    },
    {
     "name": "stderr",
     "output_type": "stream",
     "text": [
      "[*********************100%***********************]  1 of 1 completed\n"
     ]
    },
    {
     "name": "stdout",
     "output_type": "stream",
     "text": [
      "   13) AKAM   : 1305\n",
      "\n"
     ]
    },
    {
     "name": "stderr",
     "output_type": "stream",
     "text": [
      "[*********************100%***********************]  1 of 1 completed\n"
     ]
    },
    {
     "name": "stdout",
     "output_type": "stream",
     "text": [
      "   14) ALB    : 1305\n",
      "\n"
     ]
    },
    {
     "name": "stderr",
     "output_type": "stream",
     "text": [
      "[*********************100%***********************]  1 of 1 completed\n"
     ]
    },
    {
     "name": "stdout",
     "output_type": "stream",
     "text": [
      "   15) ARE    : 1305\n",
      "\n"
     ]
    },
    {
     "name": "stderr",
     "output_type": "stream",
     "text": [
      "[*********************100%***********************]  1 of 1 completed\n"
     ]
    },
    {
     "name": "stdout",
     "output_type": "stream",
     "text": [
      "   16) ALGN   : 1305\n",
      "\n"
     ]
    },
    {
     "name": "stderr",
     "output_type": "stream",
     "text": [
      "[*********************100%***********************]  1 of 1 completed\n"
     ]
    },
    {
     "name": "stdout",
     "output_type": "stream",
     "text": [
      "   17) ALLE   : 1305\n",
      "\n"
     ]
    },
    {
     "name": "stderr",
     "output_type": "stream",
     "text": [
      "[*********************100%***********************]  1 of 1 completed\n"
     ]
    },
    {
     "name": "stdout",
     "output_type": "stream",
     "text": [
      "   18) LNT    : 1305\n",
      "\n"
     ]
    },
    {
     "name": "stderr",
     "output_type": "stream",
     "text": [
      "[*********************100%***********************]  1 of 1 completed\n"
     ]
    },
    {
     "name": "stdout",
     "output_type": "stream",
     "text": [
      "   19) ALL    : 1305\n",
      "\n"
     ]
    },
    {
     "name": "stderr",
     "output_type": "stream",
     "text": [
      "[*********************100%***********************]  1 of 1 completed\n"
     ]
    },
    {
     "name": "stdout",
     "output_type": "stream",
     "text": [
      "   20) GOOGL  : 1305\n",
      "\n"
     ]
    },
    {
     "name": "stderr",
     "output_type": "stream",
     "text": [
      "[*********************100%***********************]  1 of 1 completed\n"
     ]
    },
    {
     "name": "stdout",
     "output_type": "stream",
     "text": [
      "   21) GOOG   : 1305\n",
      "\n"
     ]
    },
    {
     "name": "stderr",
     "output_type": "stream",
     "text": [
      "[*********************100%***********************]  1 of 1 completed\n"
     ]
    },
    {
     "name": "stdout",
     "output_type": "stream",
     "text": [
      "   22) MO     : 1305\n",
      "\n"
     ]
    },
    {
     "name": "stderr",
     "output_type": "stream",
     "text": [
      "[*********************100%***********************]  1 of 1 completed\n"
     ]
    },
    {
     "name": "stdout",
     "output_type": "stream",
     "text": [
      "   23) AMZN   : 1305\n",
      "\n"
     ]
    },
    {
     "name": "stderr",
     "output_type": "stream",
     "text": [
      "[*********************100%***********************]  1 of 1 completed\n"
     ]
    },
    {
     "name": "stdout",
     "output_type": "stream",
     "text": [
      "   24) AMCR   : 1305\n",
      "\n"
     ]
    },
    {
     "name": "stderr",
     "output_type": "stream",
     "text": [
      "[*********************100%***********************]  1 of 1 completed\n"
     ]
    },
    {
     "name": "stdout",
     "output_type": "stream",
     "text": [
      "   25) AEE    : 1305\n",
      "\n"
     ]
    },
    {
     "name": "stderr",
     "output_type": "stream",
     "text": [
      "[*********************100%***********************]  1 of 1 completed\n"
     ]
    },
    {
     "name": "stdout",
     "output_type": "stream",
     "text": [
      "   26) AEP    : 1305\n",
      "\n"
     ]
    },
    {
     "name": "stderr",
     "output_type": "stream",
     "text": [
      "[*********************100%***********************]  1 of 1 completed\n"
     ]
    },
    {
     "name": "stdout",
     "output_type": "stream",
     "text": [
      "   27) AXP    : 1305\n",
      "\n"
     ]
    },
    {
     "name": "stderr",
     "output_type": "stream",
     "text": [
      "[*********************100%***********************]  1 of 1 completed\n"
     ]
    },
    {
     "name": "stdout",
     "output_type": "stream",
     "text": [
      "   28) AIG    : 1305\n",
      "\n"
     ]
    },
    {
     "name": "stderr",
     "output_type": "stream",
     "text": [
      "[*********************100%***********************]  1 of 1 completed\n"
     ]
    },
    {
     "name": "stdout",
     "output_type": "stream",
     "text": [
      "   29) AMT    : 1305\n",
      "\n"
     ]
    },
    {
     "name": "stderr",
     "output_type": "stream",
     "text": [
      "[*********************100%***********************]  1 of 1 completed\n"
     ]
    },
    {
     "name": "stdout",
     "output_type": "stream",
     "text": [
      "   30) AWK    : 1305\n",
      "\n"
     ]
    },
    {
     "name": "stderr",
     "output_type": "stream",
     "text": [
      "[*********************100%***********************]  1 of 1 completed\n"
     ]
    },
    {
     "name": "stdout",
     "output_type": "stream",
     "text": [
      "   31) AMP    : 1305\n",
      "\n"
     ]
    },
    {
     "name": "stderr",
     "output_type": "stream",
     "text": [
      "[*********************100%***********************]  1 of 1 completed\n"
     ]
    },
    {
     "name": "stdout",
     "output_type": "stream",
     "text": [
      "   32) AME    : 1305\n",
      "\n"
     ]
    },
    {
     "name": "stderr",
     "output_type": "stream",
     "text": [
      "[*********************100%***********************]  1 of 1 completed\n"
     ]
    },
    {
     "name": "stdout",
     "output_type": "stream",
     "text": [
      "   33) AMGN   : 1305\n",
      "\n"
     ]
    },
    {
     "name": "stderr",
     "output_type": "stream",
     "text": [
      "[*********************100%***********************]  1 of 1 completed\n"
     ]
    },
    {
     "name": "stdout",
     "output_type": "stream",
     "text": [
      "   34) APH    : 1305\n",
      "\n"
     ]
    },
    {
     "name": "stderr",
     "output_type": "stream",
     "text": [
      "[*********************100%***********************]  1 of 1 completed\n"
     ]
    },
    {
     "name": "stdout",
     "output_type": "stream",
     "text": [
      "   35) ADI    : 1305\n",
      "\n"
     ]
    },
    {
     "name": "stderr",
     "output_type": "stream",
     "text": [
      "[*********************100%***********************]  1 of 1 completed\n"
     ]
    },
    {
     "name": "stdout",
     "output_type": "stream",
     "text": [
      "   36) ANSS   : 1305\n",
      "\n"
     ]
    },
    {
     "name": "stderr",
     "output_type": "stream",
     "text": [
      "[*********************100%***********************]  1 of 1 completed\n"
     ]
    },
    {
     "name": "stdout",
     "output_type": "stream",
     "text": [
      "   37) AON    : 1305\n",
      "\n"
     ]
    },
    {
     "name": "stderr",
     "output_type": "stream",
     "text": [
      "[*********************100%***********************]  1 of 1 completed\n"
     ]
    },
    {
     "name": "stdout",
     "output_type": "stream",
     "text": [
      "   38) APA    : 1305\n",
      "\n"
     ]
    },
    {
     "name": "stderr",
     "output_type": "stream",
     "text": [
      "[*********************100%***********************]  1 of 1 completed\n"
     ]
    },
    {
     "name": "stdout",
     "output_type": "stream",
     "text": [
      "   39) APO    : 1305\n",
      "\n"
     ]
    },
    {
     "name": "stderr",
     "output_type": "stream",
     "text": [
      "[*********************100%***********************]  1 of 1 completed\n"
     ]
    },
    {
     "name": "stdout",
     "output_type": "stream",
     "text": [
      "   40) AAPL   : 1305\n",
      "\n"
     ]
    },
    {
     "name": "stderr",
     "output_type": "stream",
     "text": [
      "[*********************100%***********************]  1 of 1 completed\n"
     ]
    },
    {
     "name": "stdout",
     "output_type": "stream",
     "text": [
      "   41) AMAT   : 1305\n",
      "\n"
     ]
    },
    {
     "name": "stderr",
     "output_type": "stream",
     "text": [
      "[*********************100%***********************]  1 of 1 completed\n"
     ]
    },
    {
     "name": "stdout",
     "output_type": "stream",
     "text": [
      "   42) APTV   : 1305\n",
      "\n"
     ]
    },
    {
     "name": "stderr",
     "output_type": "stream",
     "text": [
      "[*********************100%***********************]  1 of 1 completed\n"
     ]
    },
    {
     "name": "stdout",
     "output_type": "stream",
     "text": [
      "   43) ACGL   : 1305\n",
      "\n"
     ]
    },
    {
     "name": "stderr",
     "output_type": "stream",
     "text": [
      "[*********************100%***********************]  1 of 1 completed\n"
     ]
    },
    {
     "name": "stdout",
     "output_type": "stream",
     "text": [
      "   44) ADM    : 1305\n",
      "\n"
     ]
    },
    {
     "name": "stderr",
     "output_type": "stream",
     "text": [
      "[*********************100%***********************]  1 of 1 completed\n"
     ]
    },
    {
     "name": "stdout",
     "output_type": "stream",
     "text": [
      "   45) ANET   : 1305\n",
      "\n"
     ]
    },
    {
     "name": "stderr",
     "output_type": "stream",
     "text": [
      "[*********************100%***********************]  1 of 1 completed\n"
     ]
    },
    {
     "name": "stdout",
     "output_type": "stream",
     "text": [
      "   46) AJG    : 1305\n",
      "\n"
     ]
    },
    {
     "name": "stderr",
     "output_type": "stream",
     "text": [
      "[*********************100%***********************]  1 of 1 completed\n"
     ]
    },
    {
     "name": "stdout",
     "output_type": "stream",
     "text": [
      "   47) AIZ    : 1305\n",
      "\n"
     ]
    },
    {
     "name": "stderr",
     "output_type": "stream",
     "text": [
      "[*********************100%***********************]  1 of 1 completed\n"
     ]
    },
    {
     "name": "stdout",
     "output_type": "stream",
     "text": [
      "   48) T      : 1305\n",
      "\n"
     ]
    },
    {
     "name": "stderr",
     "output_type": "stream",
     "text": [
      "[*********************100%***********************]  1 of 1 completed\n"
     ]
    },
    {
     "name": "stdout",
     "output_type": "stream",
     "text": [
      "   49) ATO    : 1305\n",
      "\n"
     ]
    },
    {
     "name": "stderr",
     "output_type": "stream",
     "text": [
      "[*********************100%***********************]  1 of 1 completed\n"
     ]
    },
    {
     "name": "stdout",
     "output_type": "stream",
     "text": [
      "   50) ADSK   : 1305\n",
      "\n"
     ]
    },
    {
     "name": "stderr",
     "output_type": "stream",
     "text": [
      "[*********************100%***********************]  1 of 1 completed\n"
     ]
    },
    {
     "name": "stdout",
     "output_type": "stream",
     "text": [
      "   51) ADP    : 1305\n",
      "\n"
     ]
    },
    {
     "name": "stderr",
     "output_type": "stream",
     "text": [
      "[*********************100%***********************]  1 of 1 completed\n"
     ]
    },
    {
     "name": "stdout",
     "output_type": "stream",
     "text": [
      "   52) AZO    : 1305\n",
      "\n"
     ]
    },
    {
     "name": "stderr",
     "output_type": "stream",
     "text": [
      "[*********************100%***********************]  1 of 1 completed\n"
     ]
    },
    {
     "name": "stdout",
     "output_type": "stream",
     "text": [
      "   53) AVB    : 1305\n",
      "\n"
     ]
    },
    {
     "name": "stderr",
     "output_type": "stream",
     "text": [
      "[*********************100%***********************]  1 of 1 completed\n"
     ]
    },
    {
     "name": "stdout",
     "output_type": "stream",
     "text": [
      "   54) AVY    : 1305\n",
      "\n"
     ]
    },
    {
     "name": "stderr",
     "output_type": "stream",
     "text": [
      "[*********************100%***********************]  1 of 1 completed\n"
     ]
    },
    {
     "name": "stdout",
     "output_type": "stream",
     "text": [
      "   55) AXON   : 1305\n",
      "\n"
     ]
    },
    {
     "name": "stderr",
     "output_type": "stream",
     "text": [
      "[*********************100%***********************]  1 of 1 completed\n"
     ]
    },
    {
     "name": "stdout",
     "output_type": "stream",
     "text": [
      "   56) BKR    : 1305\n",
      "\n"
     ]
    },
    {
     "name": "stderr",
     "output_type": "stream",
     "text": [
      "[*********************100%***********************]  1 of 1 completed\n"
     ]
    },
    {
     "name": "stdout",
     "output_type": "stream",
     "text": [
      "   57) BALL   : 1305\n",
      "\n"
     ]
    },
    {
     "name": "stderr",
     "output_type": "stream",
     "text": [
      "[*********************100%***********************]  1 of 1 completed\n"
     ]
    },
    {
     "name": "stdout",
     "output_type": "stream",
     "text": [
      "   58) BAC    : 1305\n",
      "\n"
     ]
    },
    {
     "name": "stderr",
     "output_type": "stream",
     "text": [
      "[*********************100%***********************]  1 of 1 completed\n"
     ]
    },
    {
     "name": "stdout",
     "output_type": "stream",
     "text": [
      "   59) BAX    : 1305\n",
      "\n"
     ]
    },
    {
     "name": "stderr",
     "output_type": "stream",
     "text": [
      "[*********************100%***********************]  1 of 1 completed\n"
     ]
    },
    {
     "name": "stdout",
     "output_type": "stream",
     "text": [
      "   60) BDX    : 1305\n",
      "\n"
     ]
    },
    {
     "name": "stderr",
     "output_type": "stream",
     "text": [
      "[*********************100%***********************]  1 of 1 completed\n"
     ]
    },
    {
     "name": "stdout",
     "output_type": "stream",
     "text": [
      "   61) BBY    : 1305\n",
      "\n"
     ]
    },
    {
     "name": "stderr",
     "output_type": "stream",
     "text": [
      "[*********************100%***********************]  1 of 1 completed\n"
     ]
    },
    {
     "name": "stdout",
     "output_type": "stream",
     "text": [
      "   62) TECH   : 1305\n",
      "\n"
     ]
    },
    {
     "name": "stderr",
     "output_type": "stream",
     "text": [
      "[*********************100%***********************]  1 of 1 completed\n"
     ]
    },
    {
     "name": "stdout",
     "output_type": "stream",
     "text": [
      "   63) BIIB   : 1305\n",
      "\n"
     ]
    },
    {
     "name": "stderr",
     "output_type": "stream",
     "text": [
      "[*********************100%***********************]  1 of 1 completed\n"
     ]
    },
    {
     "name": "stdout",
     "output_type": "stream",
     "text": [
      "   64) BLK    : 1305\n",
      "\n"
     ]
    },
    {
     "name": "stderr",
     "output_type": "stream",
     "text": [
      "[*********************100%***********************]  1 of 1 completed\n"
     ]
    },
    {
     "name": "stdout",
     "output_type": "stream",
     "text": [
      "   65) BX     : 1305\n",
      "\n"
     ]
    },
    {
     "name": "stderr",
     "output_type": "stream",
     "text": [
      "[*********************100%***********************]  1 of 1 completed\n"
     ]
    },
    {
     "name": "stdout",
     "output_type": "stream",
     "text": [
      "   66) BK     : 1305\n",
      "\n"
     ]
    },
    {
     "name": "stderr",
     "output_type": "stream",
     "text": [
      "[*********************100%***********************]  1 of 1 completed\n"
     ]
    },
    {
     "name": "stdout",
     "output_type": "stream",
     "text": [
      "   67) BA     : 1305\n",
      "\n"
     ]
    },
    {
     "name": "stderr",
     "output_type": "stream",
     "text": [
      "[*********************100%***********************]  1 of 1 completed\n"
     ]
    },
    {
     "name": "stdout",
     "output_type": "stream",
     "text": [
      "   68) BKNG   : 1305\n",
      "\n"
     ]
    },
    {
     "name": "stderr",
     "output_type": "stream",
     "text": [
      "[*********************100%***********************]  1 of 1 completed\n"
     ]
    },
    {
     "name": "stdout",
     "output_type": "stream",
     "text": [
      "   69) BWA    : 1305\n",
      "\n"
     ]
    },
    {
     "name": "stderr",
     "output_type": "stream",
     "text": [
      "[*********************100%***********************]  1 of 1 completed\n"
     ]
    },
    {
     "name": "stdout",
     "output_type": "stream",
     "text": [
      "   70) BSX    : 1305\n",
      "\n"
     ]
    },
    {
     "name": "stderr",
     "output_type": "stream",
     "text": [
      "[*********************100%***********************]  1 of 1 completed\n"
     ]
    },
    {
     "name": "stdout",
     "output_type": "stream",
     "text": [
      "   71) BMY    : 1305\n",
      "\n"
     ]
    },
    {
     "name": "stderr",
     "output_type": "stream",
     "text": [
      "[*********************100%***********************]  1 of 1 completed\n"
     ]
    },
    {
     "name": "stdout",
     "output_type": "stream",
     "text": [
      "   72) AVGO   : 1305\n",
      "\n"
     ]
    },
    {
     "name": "stderr",
     "output_type": "stream",
     "text": [
      "[*********************100%***********************]  1 of 1 completed\n"
     ]
    },
    {
     "name": "stdout",
     "output_type": "stream",
     "text": [
      "   73) BR     : 1305\n",
      "\n"
     ]
    },
    {
     "name": "stderr",
     "output_type": "stream",
     "text": [
      "[*********************100%***********************]  1 of 1 completed\n"
     ]
    },
    {
     "name": "stdout",
     "output_type": "stream",
     "text": [
      "   74) BRO    : 1305\n",
      "\n"
     ]
    },
    {
     "name": "stderr",
     "output_type": "stream",
     "text": [
      "[*********************100%***********************]  1 of 1 completed\n"
     ]
    },
    {
     "name": "stdout",
     "output_type": "stream",
     "text": [
      "   75) BLDR   : 1305\n",
      "\n"
     ]
    },
    {
     "name": "stderr",
     "output_type": "stream",
     "text": [
      "[*********************100%***********************]  1 of 1 completed\n"
     ]
    },
    {
     "name": "stdout",
     "output_type": "stream",
     "text": [
      "   76) BG     : 1305\n",
      "\n"
     ]
    },
    {
     "name": "stderr",
     "output_type": "stream",
     "text": [
      "[*********************100%***********************]  1 of 1 completed\n"
     ]
    },
    {
     "name": "stdout",
     "output_type": "stream",
     "text": [
      "   77) BXP    : 1305\n",
      "\n"
     ]
    },
    {
     "name": "stderr",
     "output_type": "stream",
     "text": [
      "[*********************100%***********************]  1 of 1 completed\n"
     ]
    },
    {
     "name": "stdout",
     "output_type": "stream",
     "text": [
      "   78) CHRW   : 1305\n",
      "\n"
     ]
    },
    {
     "name": "stderr",
     "output_type": "stream",
     "text": [
      "[*********************100%***********************]  1 of 1 completed\n"
     ]
    },
    {
     "name": "stdout",
     "output_type": "stream",
     "text": [
      "   79) CDNS   : 1305\n",
      "\n"
     ]
    },
    {
     "name": "stderr",
     "output_type": "stream",
     "text": [
      "[*********************100%***********************]  1 of 1 completed\n"
     ]
    },
    {
     "name": "stdout",
     "output_type": "stream",
     "text": [
      "   80) CZR    : 1305\n",
      "\n"
     ]
    },
    {
     "name": "stderr",
     "output_type": "stream",
     "text": [
      "[*********************100%***********************]  1 of 1 completed\n"
     ]
    },
    {
     "name": "stdout",
     "output_type": "stream",
     "text": [
      "   81) CPT    : 1305\n",
      "\n"
     ]
    },
    {
     "name": "stderr",
     "output_type": "stream",
     "text": [
      "[*********************100%***********************]  1 of 1 completed\n"
     ]
    },
    {
     "name": "stdout",
     "output_type": "stream",
     "text": [
      "   82) CPB    : 1305\n",
      "\n"
     ]
    },
    {
     "name": "stderr",
     "output_type": "stream",
     "text": [
      "[*********************100%***********************]  1 of 1 completed\n"
     ]
    },
    {
     "name": "stdout",
     "output_type": "stream",
     "text": [
      "   83) COF    : 1305\n",
      "\n"
     ]
    },
    {
     "name": "stderr",
     "output_type": "stream",
     "text": [
      "[*********************100%***********************]  1 of 1 completed\n"
     ]
    },
    {
     "name": "stdout",
     "output_type": "stream",
     "text": [
      "   84) CAH    : 1305\n",
      "\n"
     ]
    },
    {
     "name": "stderr",
     "output_type": "stream",
     "text": [
      "[*********************100%***********************]  1 of 1 completed\n"
     ]
    },
    {
     "name": "stdout",
     "output_type": "stream",
     "text": [
      "   85) KMX    : 1305\n",
      "\n"
     ]
    },
    {
     "name": "stderr",
     "output_type": "stream",
     "text": [
      "[*********************100%***********************]  1 of 1 completed\n"
     ]
    },
    {
     "name": "stdout",
     "output_type": "stream",
     "text": [
      "   86) CCL    : 1305\n",
      "\n"
     ]
    },
    {
     "name": "stderr",
     "output_type": "stream",
     "text": [
      "[*********************100%***********************]  1 of 1 completed\n"
     ]
    },
    {
     "name": "stdout",
     "output_type": "stream",
     "text": [
      "   87) CARR   : 1252\n",
      "\n"
     ]
    },
    {
     "name": "stderr",
     "output_type": "stream",
     "text": [
      "[*********************100%***********************]  1 of 1 completed\n"
     ]
    },
    {
     "name": "stdout",
     "output_type": "stream",
     "text": [
      "   88) CAT    : 1305\n",
      "\n"
     ]
    },
    {
     "name": "stderr",
     "output_type": "stream",
     "text": [
      "[*********************100%***********************]  1 of 1 completed\n"
     ]
    },
    {
     "name": "stdout",
     "output_type": "stream",
     "text": [
      "   89) CBOE   : 1305\n",
      "\n"
     ]
    },
    {
     "name": "stderr",
     "output_type": "stream",
     "text": [
      "[*********************100%***********************]  1 of 1 completed\n"
     ]
    },
    {
     "name": "stdout",
     "output_type": "stream",
     "text": [
      "   90) CBRE   : 1305\n",
      "\n"
     ]
    },
    {
     "name": "stderr",
     "output_type": "stream",
     "text": [
      "[*********************100%***********************]  1 of 1 completed\n"
     ]
    },
    {
     "name": "stdout",
     "output_type": "stream",
     "text": [
      "   91) CDW    : 1305\n",
      "\n"
     ]
    },
    {
     "name": "stderr",
     "output_type": "stream",
     "text": [
      "[*********************100%***********************]  1 of 1 completed\n"
     ]
    },
    {
     "name": "stdout",
     "output_type": "stream",
     "text": [
      "   92) CE     : 1305\n",
      "\n"
     ]
    },
    {
     "name": "stderr",
     "output_type": "stream",
     "text": [
      "[*********************100%***********************]  1 of 1 completed\n"
     ]
    },
    {
     "name": "stdout",
     "output_type": "stream",
     "text": [
      "   93) COR    : 1305\n",
      "\n"
     ]
    },
    {
     "name": "stderr",
     "output_type": "stream",
     "text": [
      "[*********************100%***********************]  1 of 1 completed\n"
     ]
    },
    {
     "name": "stdout",
     "output_type": "stream",
     "text": [
      "   94) CNC    : 1305\n",
      "\n"
     ]
    },
    {
     "name": "stderr",
     "output_type": "stream",
     "text": [
      "[*********************100%***********************]  1 of 1 completed\n"
     ]
    },
    {
     "name": "stdout",
     "output_type": "stream",
     "text": [
      "   95) CNP    : 1305\n",
      "\n"
     ]
    },
    {
     "name": "stderr",
     "output_type": "stream",
     "text": [
      "[*********************100%***********************]  1 of 1 completed\n"
     ]
    },
    {
     "name": "stdout",
     "output_type": "stream",
     "text": [
      "   96) CF     : 1305\n",
      "\n"
     ]
    },
    {
     "name": "stderr",
     "output_type": "stream",
     "text": [
      "[*********************100%***********************]  1 of 1 completed\n"
     ]
    },
    {
     "name": "stdout",
     "output_type": "stream",
     "text": [
      "   97) CRL    : 1305\n",
      "\n"
     ]
    },
    {
     "name": "stderr",
     "output_type": "stream",
     "text": [
      "[*********************100%***********************]  1 of 1 completed\n"
     ]
    },
    {
     "name": "stdout",
     "output_type": "stream",
     "text": [
      "   98) SCHW   : 1305\n",
      "\n"
     ]
    },
    {
     "name": "stderr",
     "output_type": "stream",
     "text": [
      "[*********************100%***********************]  1 of 1 completed\n"
     ]
    },
    {
     "name": "stdout",
     "output_type": "stream",
     "text": [
      "   99) CHTR   : 1305\n",
      "\n"
     ]
    },
    {
     "name": "stderr",
     "output_type": "stream",
     "text": [
      "[*********************100%***********************]  1 of 1 completed\n"
     ]
    },
    {
     "name": "stdout",
     "output_type": "stream",
     "text": [
      "  100) CVX    : 1305\n",
      "\n"
     ]
    },
    {
     "name": "stderr",
     "output_type": "stream",
     "text": [
      "[*********************100%***********************]  1 of 1 completed\n"
     ]
    },
    {
     "name": "stdout",
     "output_type": "stream",
     "text": [
      "  101) CMG    : 1305\n",
      "\n"
     ]
    },
    {
     "name": "stderr",
     "output_type": "stream",
     "text": [
      "[*********************100%***********************]  1 of 1 completed\n"
     ]
    },
    {
     "name": "stdout",
     "output_type": "stream",
     "text": [
      "  102) CB     : 1305\n",
      "\n"
     ]
    },
    {
     "name": "stderr",
     "output_type": "stream",
     "text": [
      "[*********************100%***********************]  1 of 1 completed\n"
     ]
    },
    {
     "name": "stdout",
     "output_type": "stream",
     "text": [
      "  103) CHD    : 1305\n",
      "\n"
     ]
    },
    {
     "name": "stderr",
     "output_type": "stream",
     "text": [
      "[*********************100%***********************]  1 of 1 completed\n"
     ]
    },
    {
     "name": "stdout",
     "output_type": "stream",
     "text": [
      "  104) CI     : 1305\n",
      "\n"
     ]
    },
    {
     "name": "stderr",
     "output_type": "stream",
     "text": [
      "[*********************100%***********************]  1 of 1 completed\n"
     ]
    },
    {
     "name": "stdout",
     "output_type": "stream",
     "text": [
      "  105) CINF   : 1305\n",
      "\n"
     ]
    },
    {
     "name": "stderr",
     "output_type": "stream",
     "text": [
      "[*********************100%***********************]  1 of 1 completed\n",
      "\n",
      "1 Failed download:\n",
      "['CTAS']: YFPricesMissingError('possibly delisted; no price data found  (1d 2020-01-01 -> 2025-03-13)')\n"
     ]
    },
    {
     "name": "stdout",
     "output_type": "stream",
     "text": [
      "  106) CTAS   : 0\n",
      "\n"
     ]
    },
    {
     "name": "stderr",
     "output_type": "stream",
     "text": [
      "[*********************100%***********************]  1 of 1 completed\n"
     ]
    },
    {
     "name": "stdout",
     "output_type": "stream",
     "text": [
      "  107) CSCO   : 1305\n",
      "\n"
     ]
    },
    {
     "name": "stderr",
     "output_type": "stream",
     "text": [
      "[*********************100%***********************]  1 of 1 completed\n"
     ]
    },
    {
     "name": "stdout",
     "output_type": "stream",
     "text": [
      "  108) C      : 1305\n",
      "\n"
     ]
    },
    {
     "name": "stderr",
     "output_type": "stream",
     "text": [
      "[*********************100%***********************]  1 of 1 completed\n"
     ]
    },
    {
     "name": "stdout",
     "output_type": "stream",
     "text": [
      "  109) CFG    : 1305\n",
      "\n"
     ]
    },
    {
     "name": "stderr",
     "output_type": "stream",
     "text": [
      "[*********************100%***********************]  1 of 1 completed\n"
     ]
    },
    {
     "name": "stdout",
     "output_type": "stream",
     "text": [
      "  110) CLX    : 1305\n",
      "\n"
     ]
    },
    {
     "name": "stderr",
     "output_type": "stream",
     "text": [
      "[*********************100%***********************]  1 of 1 completed\n"
     ]
    },
    {
     "name": "stdout",
     "output_type": "stream",
     "text": [
      "  111) CME    : 1305\n",
      "\n"
     ]
    },
    {
     "name": "stderr",
     "output_type": "stream",
     "text": [
      "[*********************100%***********************]  1 of 1 completed\n"
     ]
    },
    {
     "name": "stdout",
     "output_type": "stream",
     "text": [
      "  112) CMS    : 1305\n",
      "\n"
     ]
    },
    {
     "name": "stderr",
     "output_type": "stream",
     "text": [
      "[*********************100%***********************]  1 of 1 completed\n"
     ]
    },
    {
     "name": "stdout",
     "output_type": "stream",
     "text": [
      "  113) KO     : 1305\n",
      "\n"
     ]
    },
    {
     "name": "stderr",
     "output_type": "stream",
     "text": [
      "[*********************100%***********************]  1 of 1 completed\n"
     ]
    },
    {
     "name": "stdout",
     "output_type": "stream",
     "text": [
      "  114) CTSH   : 1305\n",
      "\n"
     ]
    },
    {
     "name": "stderr",
     "output_type": "stream",
     "text": [
      "[*********************100%***********************]  1 of 1 completed\n"
     ]
    },
    {
     "name": "stdout",
     "output_type": "stream",
     "text": [
      "  115) CL     : 1305\n",
      "\n"
     ]
    },
    {
     "name": "stderr",
     "output_type": "stream",
     "text": [
      "[*********************100%***********************]  1 of 1 completed\n"
     ]
    },
    {
     "name": "stdout",
     "output_type": "stream",
     "text": [
      "  116) CMCSA  : 1305\n",
      "\n"
     ]
    },
    {
     "name": "stderr",
     "output_type": "stream",
     "text": [
      "[*********************100%***********************]  1 of 1 completed\n"
     ]
    },
    {
     "name": "stdout",
     "output_type": "stream",
     "text": [
      "  117) CAG    : 1305\n",
      "\n"
     ]
    },
    {
     "name": "stderr",
     "output_type": "stream",
     "text": [
      "[*********************100%***********************]  1 of 1 completed\n"
     ]
    },
    {
     "name": "stdout",
     "output_type": "stream",
     "text": [
      "  118) COP    : 1305\n",
      "\n"
     ]
    },
    {
     "name": "stderr",
     "output_type": "stream",
     "text": [
      "[*********************100%***********************]  1 of 1 completed\n"
     ]
    },
    {
     "name": "stdout",
     "output_type": "stream",
     "text": [
      "  119) ED     : 1305\n",
      "\n"
     ]
    },
    {
     "name": "stderr",
     "output_type": "stream",
     "text": [
      "[*********************100%***********************]  1 of 1 completed\n"
     ]
    },
    {
     "name": "stdout",
     "output_type": "stream",
     "text": [
      "  120) STZ    : 1305\n",
      "\n"
     ]
    },
    {
     "name": "stderr",
     "output_type": "stream",
     "text": [
      "[*********************100%***********************]  1 of 1 completed\n"
     ]
    },
    {
     "name": "stdout",
     "output_type": "stream",
     "text": [
      "  121) CEG    : 789\n",
      "\n"
     ]
    },
    {
     "name": "stderr",
     "output_type": "stream",
     "text": [
      "[*********************100%***********************]  1 of 1 completed\n"
     ]
    },
    {
     "name": "stdout",
     "output_type": "stream",
     "text": [
      "  122) COO    : 1305\n",
      "\n"
     ]
    },
    {
     "name": "stderr",
     "output_type": "stream",
     "text": [
      "[*********************100%***********************]  1 of 1 completed\n"
     ]
    },
    {
     "name": "stdout",
     "output_type": "stream",
     "text": [
      "  123) CPRT   : 1305\n",
      "\n"
     ]
    },
    {
     "name": "stderr",
     "output_type": "stream",
     "text": [
      "[*********************100%***********************]  1 of 1 completed\n"
     ]
    },
    {
     "name": "stdout",
     "output_type": "stream",
     "text": [
      "  124) GLW    : 1305\n",
      "\n"
     ]
    },
    {
     "name": "stderr",
     "output_type": "stream",
     "text": [
      "[*********************100%***********************]  1 of 1 completed\n"
     ]
    },
    {
     "name": "stdout",
     "output_type": "stream",
     "text": [
      "  125) CPAY   : 1305\n",
      "\n"
     ]
    },
    {
     "name": "stderr",
     "output_type": "stream",
     "text": [
      "[*********************100%***********************]  1 of 1 completed\n"
     ]
    },
    {
     "name": "stdout",
     "output_type": "stream",
     "text": [
      "  126) CTVA   : 1305\n",
      "\n"
     ]
    },
    {
     "name": "stderr",
     "output_type": "stream",
     "text": [
      "[*********************100%***********************]  1 of 1 completed\n"
     ]
    },
    {
     "name": "stdout",
     "output_type": "stream",
     "text": [
      "  127) CSGP   : 1305\n",
      "\n"
     ]
    },
    {
     "name": "stderr",
     "output_type": "stream",
     "text": [
      "[*********************100%***********************]  1 of 1 completed\n"
     ]
    },
    {
     "name": "stdout",
     "output_type": "stream",
     "text": [
      "  128) COST   : 1305\n",
      "\n"
     ]
    },
    {
     "name": "stderr",
     "output_type": "stream",
     "text": [
      "[*********************100%***********************]  1 of 1 completed\n"
     ]
    },
    {
     "name": "stdout",
     "output_type": "stream",
     "text": [
      "  129) CTRA   : 1305\n",
      "\n"
     ]
    },
    {
     "name": "stderr",
     "output_type": "stream",
     "text": [
      "[*********************100%***********************]  1 of 1 completed\n"
     ]
    },
    {
     "name": "stdout",
     "output_type": "stream",
     "text": [
      "  130) CRWD   : 1305\n",
      "\n"
     ]
    },
    {
     "name": "stderr",
     "output_type": "stream",
     "text": [
      "[*********************100%***********************]  1 of 1 completed\n"
     ]
    },
    {
     "name": "stdout",
     "output_type": "stream",
     "text": [
      "  131) CCI    : 1305\n",
      "\n"
     ]
    },
    {
     "name": "stderr",
     "output_type": "stream",
     "text": [
      "[*********************100%***********************]  1 of 1 completed\n"
     ]
    },
    {
     "name": "stdout",
     "output_type": "stream",
     "text": [
      "  132) CSX    : 1305\n",
      "\n"
     ]
    },
    {
     "name": "stderr",
     "output_type": "stream",
     "text": [
      "[*********************100%***********************]  1 of 1 completed\n"
     ]
    },
    {
     "name": "stdout",
     "output_type": "stream",
     "text": [
      "  133) CMI    : 1305\n",
      "\n"
     ]
    },
    {
     "name": "stderr",
     "output_type": "stream",
     "text": [
      "[*********************100%***********************]  1 of 1 completed\n"
     ]
    },
    {
     "name": "stdout",
     "output_type": "stream",
     "text": [
      "  134) CVS    : 1305\n",
      "\n"
     ]
    },
    {
     "name": "stderr",
     "output_type": "stream",
     "text": [
      "[*********************100%***********************]  1 of 1 completed\n"
     ]
    },
    {
     "name": "stdout",
     "output_type": "stream",
     "text": [
      "  135) DHR    : 1305\n",
      "\n"
     ]
    },
    {
     "name": "stderr",
     "output_type": "stream",
     "text": [
      "[*********************100%***********************]  1 of 1 completed\n"
     ]
    },
    {
     "name": "stdout",
     "output_type": "stream",
     "text": [
      "  136) DRI    : 1305\n",
      "\n"
     ]
    },
    {
     "name": "stderr",
     "output_type": "stream",
     "text": [
      "[*********************100%***********************]  1 of 1 completed\n"
     ]
    },
    {
     "name": "stdout",
     "output_type": "stream",
     "text": [
      "  137) DVA    : 1305\n",
      "\n"
     ]
    },
    {
     "name": "stderr",
     "output_type": "stream",
     "text": [
      "[*********************100%***********************]  1 of 1 completed\n"
     ]
    },
    {
     "name": "stdout",
     "output_type": "stream",
     "text": [
      "  138) DAY    : 1305\n",
      "\n"
     ]
    },
    {
     "name": "stderr",
     "output_type": "stream",
     "text": [
      "[*********************100%***********************]  1 of 1 completed\n"
     ]
    },
    {
     "name": "stdout",
     "output_type": "stream",
     "text": [
      "  139) DECK   : 1305\n",
      "\n"
     ]
    },
    {
     "name": "stderr",
     "output_type": "stream",
     "text": [
      "[*********************100%***********************]  1 of 1 completed\n"
     ]
    },
    {
     "name": "stdout",
     "output_type": "stream",
     "text": [
      "  140) DE     : 1305\n",
      "\n"
     ]
    },
    {
     "name": "stderr",
     "output_type": "stream",
     "text": [
      "[*********************100%***********************]  1 of 1 completed\n"
     ]
    },
    {
     "name": "stdout",
     "output_type": "stream",
     "text": [
      "  141) DELL   : 1305\n",
      "\n"
     ]
    },
    {
     "name": "stderr",
     "output_type": "stream",
     "text": [
      "[*********************100%***********************]  1 of 1 completed\n"
     ]
    },
    {
     "name": "stdout",
     "output_type": "stream",
     "text": [
      "  142) DAL    : 1305\n",
      "\n"
     ]
    },
    {
     "name": "stderr",
     "output_type": "stream",
     "text": [
      "[*********************100%***********************]  1 of 1 completed\n"
     ]
    },
    {
     "name": "stdout",
     "output_type": "stream",
     "text": [
      "  143) DVN    : 1305\n",
      "\n"
     ]
    },
    {
     "name": "stderr",
     "output_type": "stream",
     "text": [
      "[*********************100%***********************]  1 of 1 completed\n"
     ]
    },
    {
     "name": "stdout",
     "output_type": "stream",
     "text": [
      "  144) DXCM   : 1305\n",
      "\n"
     ]
    },
    {
     "name": "stderr",
     "output_type": "stream",
     "text": [
      "[*********************100%***********************]  1 of 1 completed\n"
     ]
    },
    {
     "name": "stdout",
     "output_type": "stream",
     "text": [
      "  145) FANG   : 1305\n",
      "\n"
     ]
    },
    {
     "name": "stderr",
     "output_type": "stream",
     "text": [
      "[*********************100%***********************]  1 of 1 completed\n"
     ]
    },
    {
     "name": "stdout",
     "output_type": "stream",
     "text": [
      "  146) DLR    : 1305\n",
      "\n"
     ]
    },
    {
     "name": "stderr",
     "output_type": "stream",
     "text": [
      "[*********************100%***********************]  1 of 1 completed\n"
     ]
    },
    {
     "name": "stdout",
     "output_type": "stream",
     "text": [
      "  147) DFS    : 1305\n",
      "\n"
     ]
    },
    {
     "name": "stderr",
     "output_type": "stream",
     "text": [
      "[*********************100%***********************]  1 of 1 completed\n"
     ]
    },
    {
     "name": "stdout",
     "output_type": "stream",
     "text": [
      "  148) DG     : 1305\n",
      "\n"
     ]
    },
    {
     "name": "stderr",
     "output_type": "stream",
     "text": [
      "[*********************100%***********************]  1 of 1 completed\n"
     ]
    },
    {
     "name": "stdout",
     "output_type": "stream",
     "text": [
      "  149) DLTR   : 1305\n",
      "\n"
     ]
    },
    {
     "name": "stderr",
     "output_type": "stream",
     "text": [
      "[*********************100%***********************]  1 of 1 completed\n"
     ]
    },
    {
     "name": "stdout",
     "output_type": "stream",
     "text": [
      "  150) D      : 1305\n",
      "\n"
     ]
    },
    {
     "name": "stderr",
     "output_type": "stream",
     "text": [
      "[*********************100%***********************]  1 of 1 completed\n"
     ]
    },
    {
     "name": "stdout",
     "output_type": "stream",
     "text": [
      "  151) DPZ    : 1305\n",
      "\n"
     ]
    },
    {
     "name": "stderr",
     "output_type": "stream",
     "text": [
      "[*********************100%***********************]  1 of 1 completed\n"
     ]
    },
    {
     "name": "stdout",
     "output_type": "stream",
     "text": [
      "  152) DOV    : 1305\n",
      "\n"
     ]
    },
    {
     "name": "stderr",
     "output_type": "stream",
     "text": [
      "[*********************100%***********************]  1 of 1 completed\n"
     ]
    },
    {
     "name": "stdout",
     "output_type": "stream",
     "text": [
      "  153) DOW    : 1305\n",
      "\n"
     ]
    },
    {
     "name": "stderr",
     "output_type": "stream",
     "text": [
      "[*********************100%***********************]  1 of 1 completed\n"
     ]
    },
    {
     "name": "stdout",
     "output_type": "stream",
     "text": [
      "  154) DHI    : 1305\n",
      "\n"
     ]
    },
    {
     "name": "stderr",
     "output_type": "stream",
     "text": [
      "[*********************100%***********************]  1 of 1 completed\n"
     ]
    },
    {
     "name": "stdout",
     "output_type": "stream",
     "text": [
      "  155) DTE    : 1305\n",
      "\n"
     ]
    },
    {
     "name": "stderr",
     "output_type": "stream",
     "text": [
      "[*********************100%***********************]  1 of 1 completed\n"
     ]
    },
    {
     "name": "stdout",
     "output_type": "stream",
     "text": [
      "  156) DUK    : 1305\n",
      "\n"
     ]
    },
    {
     "name": "stderr",
     "output_type": "stream",
     "text": [
      "[*********************100%***********************]  1 of 1 completed\n"
     ]
    },
    {
     "name": "stdout",
     "output_type": "stream",
     "text": [
      "  157) DD     : 1305\n",
      "\n"
     ]
    },
    {
     "name": "stderr",
     "output_type": "stream",
     "text": [
      "[*********************100%***********************]  1 of 1 completed\n"
     ]
    },
    {
     "name": "stdout",
     "output_type": "stream",
     "text": [
      "  158) EMN    : 1305\n",
      "\n"
     ]
    },
    {
     "name": "stderr",
     "output_type": "stream",
     "text": [
      "[*********************100%***********************]  1 of 1 completed\n"
     ]
    },
    {
     "name": "stdout",
     "output_type": "stream",
     "text": [
      "  159) ETN    : 1305\n",
      "\n"
     ]
    },
    {
     "name": "stderr",
     "output_type": "stream",
     "text": [
      "[*********************100%***********************]  1 of 1 completed\n"
     ]
    },
    {
     "name": "stdout",
     "output_type": "stream",
     "text": [
      "  160) EBAY   : 1305\n",
      "\n"
     ]
    },
    {
     "name": "stderr",
     "output_type": "stream",
     "text": [
      "[*********************100%***********************]  1 of 1 completed\n"
     ]
    },
    {
     "name": "stdout",
     "output_type": "stream",
     "text": [
      "  161) ECL    : 1305\n",
      "\n"
     ]
    },
    {
     "name": "stderr",
     "output_type": "stream",
     "text": [
      "[*********************100%***********************]  1 of 1 completed\n"
     ]
    },
    {
     "name": "stdout",
     "output_type": "stream",
     "text": [
      "  162) EIX    : 1305\n",
      "\n"
     ]
    },
    {
     "name": "stderr",
     "output_type": "stream",
     "text": [
      "[*********************100%***********************]  1 of 1 completed\n"
     ]
    },
    {
     "name": "stdout",
     "output_type": "stream",
     "text": [
      "  163) EW     : 1305\n",
      "\n"
     ]
    },
    {
     "name": "stderr",
     "output_type": "stream",
     "text": [
      "[*********************100%***********************]  1 of 1 completed\n"
     ]
    },
    {
     "name": "stdout",
     "output_type": "stream",
     "text": [
      "  164) EA     : 1305\n",
      "\n"
     ]
    },
    {
     "name": "stderr",
     "output_type": "stream",
     "text": [
      "[*********************100%***********************]  1 of 1 completed\n"
     ]
    },
    {
     "name": "stdout",
     "output_type": "stream",
     "text": [
      "  165) ELV    : 1305\n",
      "\n"
     ]
    },
    {
     "name": "stderr",
     "output_type": "stream",
     "text": [
      "[*********************100%***********************]  1 of 1 completed\n"
     ]
    },
    {
     "name": "stdout",
     "output_type": "stream",
     "text": [
      "  166) EMR    : 1305\n",
      "\n"
     ]
    },
    {
     "name": "stderr",
     "output_type": "stream",
     "text": [
      "[*********************100%***********************]  1 of 1 completed\n"
     ]
    },
    {
     "name": "stdout",
     "output_type": "stream",
     "text": [
      "  167) ENPH   : 1305\n",
      "\n"
     ]
    },
    {
     "name": "stderr",
     "output_type": "stream",
     "text": [
      "[*********************100%***********************]  1 of 1 completed\n"
     ]
    },
    {
     "name": "stdout",
     "output_type": "stream",
     "text": [
      "  168) ETR    : 1305\n",
      "\n"
     ]
    },
    {
     "name": "stderr",
     "output_type": "stream",
     "text": [
      "[*********************100%***********************]  1 of 1 completed\n"
     ]
    },
    {
     "name": "stdout",
     "output_type": "stream",
     "text": [
      "  169) EOG    : 1305\n",
      "\n"
     ]
    },
    {
     "name": "stderr",
     "output_type": "stream",
     "text": [
      "[*********************100%***********************]  1 of 1 completed\n"
     ]
    },
    {
     "name": "stdout",
     "output_type": "stream",
     "text": [
      "  170) EPAM   : 1305\n",
      "\n"
     ]
    },
    {
     "name": "stderr",
     "output_type": "stream",
     "text": [
      "[*********************100%***********************]  1 of 1 completed\n"
     ]
    },
    {
     "name": "stdout",
     "output_type": "stream",
     "text": [
      "  171) EQT    : 1305\n",
      "\n"
     ]
    },
    {
     "name": "stderr",
     "output_type": "stream",
     "text": [
      "[*********************100%***********************]  1 of 1 completed\n"
     ]
    },
    {
     "name": "stdout",
     "output_type": "stream",
     "text": [
      "  172) EFX    : 1305\n",
      "\n"
     ]
    },
    {
     "name": "stderr",
     "output_type": "stream",
     "text": [
      "[*********************100%***********************]  1 of 1 completed\n"
     ]
    },
    {
     "name": "stdout",
     "output_type": "stream",
     "text": [
      "  173) EQIX   : 1305\n",
      "\n"
     ]
    },
    {
     "name": "stderr",
     "output_type": "stream",
     "text": [
      "[*********************100%***********************]  1 of 1 completed\n"
     ]
    },
    {
     "name": "stdout",
     "output_type": "stream",
     "text": [
      "  174) EQR    : 1305\n",
      "\n"
     ]
    },
    {
     "name": "stderr",
     "output_type": "stream",
     "text": [
      "[*********************100%***********************]  1 of 1 completed\n"
     ]
    },
    {
     "name": "stdout",
     "output_type": "stream",
     "text": [
      "  175) ERIE   : 1305\n",
      "\n"
     ]
    },
    {
     "name": "stderr",
     "output_type": "stream",
     "text": [
      "[*********************100%***********************]  1 of 1 completed\n"
     ]
    },
    {
     "name": "stdout",
     "output_type": "stream",
     "text": [
      "  176) ESS    : 1305\n",
      "\n"
     ]
    },
    {
     "name": "stderr",
     "output_type": "stream",
     "text": [
      "[*********************100%***********************]  1 of 1 completed\n"
     ]
    },
    {
     "name": "stdout",
     "output_type": "stream",
     "text": [
      "  177) EL     : 1305\n",
      "\n"
     ]
    },
    {
     "name": "stderr",
     "output_type": "stream",
     "text": [
      "[*********************100%***********************]  1 of 1 completed\n"
     ]
    },
    {
     "name": "stdout",
     "output_type": "stream",
     "text": [
      "  178) EG     : 1305\n",
      "\n"
     ]
    },
    {
     "name": "stderr",
     "output_type": "stream",
     "text": [
      "[*********************100%***********************]  1 of 1 completed\n"
     ]
    },
    {
     "name": "stdout",
     "output_type": "stream",
     "text": [
      "  179) EVRG   : 1305\n",
      "\n"
     ]
    },
    {
     "name": "stderr",
     "output_type": "stream",
     "text": [
      "[*********************100%***********************]  1 of 1 completed\n"
     ]
    },
    {
     "name": "stdout",
     "output_type": "stream",
     "text": [
      "  180) ES     : 1305\n",
      "\n"
     ]
    },
    {
     "name": "stderr",
     "output_type": "stream",
     "text": [
      "[*********************100%***********************]  1 of 1 completed\n"
     ]
    },
    {
     "name": "stdout",
     "output_type": "stream",
     "text": [
      "  181) EXC    : 1305\n",
      "\n"
     ]
    },
    {
     "name": "stderr",
     "output_type": "stream",
     "text": [
      "[*********************100%***********************]  1 of 1 completed\n"
     ]
    },
    {
     "name": "stdout",
     "output_type": "stream",
     "text": [
      "  182) EXPE   : 1305\n",
      "\n"
     ]
    },
    {
     "name": "stderr",
     "output_type": "stream",
     "text": [
      "[*********************100%***********************]  1 of 1 completed\n"
     ]
    },
    {
     "name": "stdout",
     "output_type": "stream",
     "text": [
      "  183) EXPD   : 1305\n",
      "\n"
     ]
    },
    {
     "name": "stderr",
     "output_type": "stream",
     "text": [
      "[*********************100%***********************]  1 of 1 completed\n"
     ]
    },
    {
     "name": "stdout",
     "output_type": "stream",
     "text": [
      "  184) EXR    : 1305\n",
      "\n"
     ]
    },
    {
     "name": "stderr",
     "output_type": "stream",
     "text": [
      "[*********************100%***********************]  1 of 1 completed\n"
     ]
    },
    {
     "name": "stdout",
     "output_type": "stream",
     "text": [
      "  185) XOM    : 1305\n",
      "\n"
     ]
    },
    {
     "name": "stderr",
     "output_type": "stream",
     "text": [
      "[*********************100%***********************]  1 of 1 completed\n"
     ]
    },
    {
     "name": "stdout",
     "output_type": "stream",
     "text": [
      "  186) FFIV   : 1305\n",
      "\n"
     ]
    },
    {
     "name": "stderr",
     "output_type": "stream",
     "text": [
      "[*********************100%***********************]  1 of 1 completed\n"
     ]
    },
    {
     "name": "stdout",
     "output_type": "stream",
     "text": [
      "  187) FDS    : 1305\n",
      "\n"
     ]
    },
    {
     "name": "stderr",
     "output_type": "stream",
     "text": [
      "[*********************100%***********************]  1 of 1 completed\n"
     ]
    },
    {
     "name": "stdout",
     "output_type": "stream",
     "text": [
      "  188) FICO   : 1305\n",
      "\n"
     ]
    },
    {
     "name": "stderr",
     "output_type": "stream",
     "text": [
      "[*********************100%***********************]  1 of 1 completed\n"
     ]
    },
    {
     "name": "stdout",
     "output_type": "stream",
     "text": [
      "  189) FAST   : 1305\n",
      "\n"
     ]
    },
    {
     "name": "stderr",
     "output_type": "stream",
     "text": [
      "[*********************100%***********************]  1 of 1 completed\n"
     ]
    },
    {
     "name": "stdout",
     "output_type": "stream",
     "text": [
      "  190) FRT    : 1305\n",
      "\n"
     ]
    },
    {
     "name": "stderr",
     "output_type": "stream",
     "text": [
      "[*********************100%***********************]  1 of 1 completed\n"
     ]
    },
    {
     "name": "stdout",
     "output_type": "stream",
     "text": [
      "  191) FDX    : 1305\n",
      "\n"
     ]
    },
    {
     "name": "stderr",
     "output_type": "stream",
     "text": [
      "[*********************100%***********************]  1 of 1 completed\n"
     ]
    },
    {
     "name": "stdout",
     "output_type": "stream",
     "text": [
      "  192) FIS    : 1305\n",
      "\n"
     ]
    },
    {
     "name": "stderr",
     "output_type": "stream",
     "text": [
      "[*********************100%***********************]  1 of 1 completed\n"
     ]
    },
    {
     "name": "stdout",
     "output_type": "stream",
     "text": [
      "  193) FITB   : 1305\n",
      "\n"
     ]
    },
    {
     "name": "stderr",
     "output_type": "stream",
     "text": [
      "[*********************100%***********************]  1 of 1 completed\n"
     ]
    },
    {
     "name": "stdout",
     "output_type": "stream",
     "text": [
      "  194) FSLR   : 1305\n",
      "\n"
     ]
    },
    {
     "name": "stderr",
     "output_type": "stream",
     "text": [
      "[*********************100%***********************]  1 of 1 completed\n"
     ]
    },
    {
     "name": "stdout",
     "output_type": "stream",
     "text": [
      "  195) FE     : 1305\n",
      "\n"
     ]
    },
    {
     "name": "stderr",
     "output_type": "stream",
     "text": [
      "[*********************100%***********************]  1 of 1 completed\n"
     ]
    },
    {
     "name": "stdout",
     "output_type": "stream",
     "text": [
      "  196) FI     : 1305\n",
      "\n"
     ]
    },
    {
     "name": "stderr",
     "output_type": "stream",
     "text": [
      "[*********************100%***********************]  1 of 1 completed\n"
     ]
    },
    {
     "name": "stdout",
     "output_type": "stream",
     "text": [
      "  197) FMC    : 1305\n",
      "\n"
     ]
    },
    {
     "name": "stderr",
     "output_type": "stream",
     "text": [
      "[*********************100%***********************]  1 of 1 completed\n"
     ]
    },
    {
     "name": "stdout",
     "output_type": "stream",
     "text": [
      "  198) F      : 1305\n",
      "\n"
     ]
    },
    {
     "name": "stderr",
     "output_type": "stream",
     "text": [
      "[*********************100%***********************]  1 of 1 completed\n"
     ]
    },
    {
     "name": "stdout",
     "output_type": "stream",
     "text": [
      "  199) FTNT   : 1305\n",
      "\n"
     ]
    },
    {
     "name": "stderr",
     "output_type": "stream",
     "text": [
      "[*********************100%***********************]  1 of 1 completed\n"
     ]
    },
    {
     "name": "stdout",
     "output_type": "stream",
     "text": [
      "  200) FTV    : 1305\n",
      "\n"
     ]
    },
    {
     "name": "stderr",
     "output_type": "stream",
     "text": [
      "[*********************100%***********************]  1 of 1 completed\n"
     ]
    },
    {
     "name": "stdout",
     "output_type": "stream",
     "text": [
      "  201) FOXA   : 1305\n",
      "\n"
     ]
    },
    {
     "name": "stderr",
     "output_type": "stream",
     "text": [
      "[*********************100%***********************]  1 of 1 completed\n"
     ]
    },
    {
     "name": "stdout",
     "output_type": "stream",
     "text": [
      "  202) FOX    : 1305\n",
      "\n"
     ]
    },
    {
     "name": "stderr",
     "output_type": "stream",
     "text": [
      "[*********************100%***********************]  1 of 1 completed\n"
     ]
    },
    {
     "name": "stdout",
     "output_type": "stream",
     "text": [
      "  203) BEN    : 1305\n",
      "\n"
     ]
    },
    {
     "name": "stderr",
     "output_type": "stream",
     "text": [
      "[*********************100%***********************]  1 of 1 completed\n"
     ]
    },
    {
     "name": "stdout",
     "output_type": "stream",
     "text": [
      "  204) FCX    : 1305\n",
      "\n"
     ]
    },
    {
     "name": "stderr",
     "output_type": "stream",
     "text": [
      "[*********************100%***********************]  1 of 1 completed\n"
     ]
    },
    {
     "name": "stdout",
     "output_type": "stream",
     "text": [
      "  205) GRMN   : 1305\n",
      "\n"
     ]
    },
    {
     "name": "stderr",
     "output_type": "stream",
     "text": [
      "[*********************100%***********************]  1 of 1 completed\n"
     ]
    },
    {
     "name": "stdout",
     "output_type": "stream",
     "text": [
      "  206) IT     : 1305\n",
      "\n"
     ]
    },
    {
     "name": "stderr",
     "output_type": "stream",
     "text": [
      "[*********************100%***********************]  1 of 1 completed\n"
     ]
    },
    {
     "name": "stdout",
     "output_type": "stream",
     "text": [
      "  207) GE     : 1305\n",
      "\n"
     ]
    },
    {
     "name": "stderr",
     "output_type": "stream",
     "text": [
      "[*********************100%***********************]  1 of 1 completed\n"
     ]
    },
    {
     "name": "stdout",
     "output_type": "stream",
     "text": [
      "  208) GEHC   : 560\n",
      "\n"
     ]
    },
    {
     "name": "stderr",
     "output_type": "stream",
     "text": [
      "[*********************100%***********************]  1 of 1 completed\n"
     ]
    },
    {
     "name": "stdout",
     "output_type": "stream",
     "text": [
      "  209) GEV    : 238\n",
      "\n"
     ]
    },
    {
     "name": "stderr",
     "output_type": "stream",
     "text": [
      "[*********************100%***********************]  1 of 1 completed\n"
     ]
    },
    {
     "name": "stdout",
     "output_type": "stream",
     "text": [
      "  210) GEN    : 1305\n",
      "\n"
     ]
    },
    {
     "name": "stderr",
     "output_type": "stream",
     "text": [
      "[*********************100%***********************]  1 of 1 completed\n"
     ]
    },
    {
     "name": "stdout",
     "output_type": "stream",
     "text": [
      "  211) GNRC   : 1305\n",
      "\n"
     ]
    },
    {
     "name": "stderr",
     "output_type": "stream",
     "text": [
      "[*********************100%***********************]  1 of 1 completed\n"
     ]
    },
    {
     "name": "stdout",
     "output_type": "stream",
     "text": [
      "  212) GD     : 1305\n",
      "\n"
     ]
    },
    {
     "name": "stderr",
     "output_type": "stream",
     "text": [
      "[*********************100%***********************]  1 of 1 completed\n"
     ]
    },
    {
     "name": "stdout",
     "output_type": "stream",
     "text": [
      "  213) GIS    : 1305\n",
      "\n"
     ]
    },
    {
     "name": "stderr",
     "output_type": "stream",
     "text": [
      "[*********************100%***********************]  1 of 1 completed\n"
     ]
    },
    {
     "name": "stdout",
     "output_type": "stream",
     "text": [
      "  214) GM     : 1305\n",
      "\n"
     ]
    },
    {
     "name": "stderr",
     "output_type": "stream",
     "text": [
      "[*********************100%***********************]  1 of 1 completed\n"
     ]
    },
    {
     "name": "stdout",
     "output_type": "stream",
     "text": [
      "  215) GPC    : 1305\n",
      "\n"
     ]
    },
    {
     "name": "stderr",
     "output_type": "stream",
     "text": [
      "[*********************100%***********************]  1 of 1 completed\n"
     ]
    },
    {
     "name": "stdout",
     "output_type": "stream",
     "text": [
      "  216) GILD   : 1305\n",
      "\n"
     ]
    },
    {
     "name": "stderr",
     "output_type": "stream",
     "text": [
      "[*********************100%***********************]  1 of 1 completed\n"
     ]
    },
    {
     "name": "stdout",
     "output_type": "stream",
     "text": [
      "  217) GPN    : 1305\n",
      "\n"
     ]
    },
    {
     "name": "stderr",
     "output_type": "stream",
     "text": [
      "[*********************100%***********************]  1 of 1 completed\n"
     ]
    },
    {
     "name": "stdout",
     "output_type": "stream",
     "text": [
      "  218) GL     : 1305\n",
      "\n"
     ]
    },
    {
     "name": "stderr",
     "output_type": "stream",
     "text": [
      "[*********************100%***********************]  1 of 1 completed\n"
     ]
    },
    {
     "name": "stdout",
     "output_type": "stream",
     "text": [
      "  219) GDDY   : 1305\n",
      "\n"
     ]
    },
    {
     "name": "stderr",
     "output_type": "stream",
     "text": [
      "[*********************100%***********************]  1 of 1 completed\n"
     ]
    },
    {
     "name": "stdout",
     "output_type": "stream",
     "text": [
      "  220) GS     : 1305\n",
      "\n"
     ]
    },
    {
     "name": "stderr",
     "output_type": "stream",
     "text": [
      "[*********************100%***********************]  1 of 1 completed\n"
     ]
    },
    {
     "name": "stdout",
     "output_type": "stream",
     "text": [
      "  221) HAL    : 1305\n",
      "\n"
     ]
    },
    {
     "name": "stderr",
     "output_type": "stream",
     "text": [
      "[*********************100%***********************]  1 of 1 completed\n"
     ]
    },
    {
     "name": "stdout",
     "output_type": "stream",
     "text": [
      "  222) HIG    : 1305\n",
      "\n"
     ]
    },
    {
     "name": "stderr",
     "output_type": "stream",
     "text": [
      "[*********************100%***********************]  1 of 1 completed\n"
     ]
    },
    {
     "name": "stdout",
     "output_type": "stream",
     "text": [
      "  223) HAS    : 1305\n",
      "\n"
     ]
    },
    {
     "name": "stderr",
     "output_type": "stream",
     "text": [
      "[*********************100%***********************]  1 of 1 completed\n"
     ]
    },
    {
     "name": "stdout",
     "output_type": "stream",
     "text": [
      "  224) HCA    : 1305\n",
      "\n"
     ]
    },
    {
     "name": "stderr",
     "output_type": "stream",
     "text": [
      "[*********************100%***********************]  1 of 1 completed\n"
     ]
    },
    {
     "name": "stdout",
     "output_type": "stream",
     "text": [
      "  225) DOC    : 1305\n",
      "\n"
     ]
    },
    {
     "name": "stderr",
     "output_type": "stream",
     "text": [
      "[*********************100%***********************]  1 of 1 completed\n"
     ]
    },
    {
     "name": "stdout",
     "output_type": "stream",
     "text": [
      "  226) HSIC   : 1305\n",
      "\n"
     ]
    },
    {
     "name": "stderr",
     "output_type": "stream",
     "text": [
      "[*********************100%***********************]  1 of 1 completed\n"
     ]
    },
    {
     "name": "stdout",
     "output_type": "stream",
     "text": [
      "  227) HSY    : 1305\n",
      "\n"
     ]
    },
    {
     "name": "stderr",
     "output_type": "stream",
     "text": [
      "[*********************100%***********************]  1 of 1 completed\n"
     ]
    },
    {
     "name": "stdout",
     "output_type": "stream",
     "text": [
      "  228) HES    : 1305\n",
      "\n"
     ]
    },
    {
     "name": "stderr",
     "output_type": "stream",
     "text": [
      "[*********************100%***********************]  1 of 1 completed\n"
     ]
    },
    {
     "name": "stdout",
     "output_type": "stream",
     "text": [
      "  229) HPE    : 1305\n",
      "\n"
     ]
    },
    {
     "name": "stderr",
     "output_type": "stream",
     "text": [
      "[*********************100%***********************]  1 of 1 completed\n"
     ]
    },
    {
     "name": "stdout",
     "output_type": "stream",
     "text": [
      "  230) HLT    : 1305\n",
      "\n"
     ]
    },
    {
     "name": "stderr",
     "output_type": "stream",
     "text": [
      "[*********************100%***********************]  1 of 1 completed\n"
     ]
    },
    {
     "name": "stdout",
     "output_type": "stream",
     "text": [
      "  231) HOLX   : 1305\n",
      "\n"
     ]
    },
    {
     "name": "stderr",
     "output_type": "stream",
     "text": [
      "[*********************100%***********************]  1 of 1 completed\n"
     ]
    },
    {
     "name": "stdout",
     "output_type": "stream",
     "text": [
      "  232) HD     : 1305\n",
      "\n"
     ]
    },
    {
     "name": "stderr",
     "output_type": "stream",
     "text": [
      "[*********************100%***********************]  1 of 1 completed\n"
     ]
    },
    {
     "name": "stdout",
     "output_type": "stream",
     "text": [
      "  233) HON    : 1305\n",
      "\n"
     ]
    },
    {
     "name": "stderr",
     "output_type": "stream",
     "text": [
      "[*********************100%***********************]  1 of 1 completed\n"
     ]
    },
    {
     "name": "stdout",
     "output_type": "stream",
     "text": [
      "  234) HRL    : 1305\n",
      "\n"
     ]
    },
    {
     "name": "stderr",
     "output_type": "stream",
     "text": [
      "[*********************100%***********************]  1 of 1 completed\n"
     ]
    },
    {
     "name": "stdout",
     "output_type": "stream",
     "text": [
      "  235) HST    : 1305\n",
      "\n"
     ]
    },
    {
     "name": "stderr",
     "output_type": "stream",
     "text": [
      "[*********************100%***********************]  1 of 1 completed\n"
     ]
    },
    {
     "name": "stdout",
     "output_type": "stream",
     "text": [
      "  236) HWM    : 1305\n",
      "\n"
     ]
    },
    {
     "name": "stderr",
     "output_type": "stream",
     "text": [
      "[*********************100%***********************]  1 of 1 completed\n"
     ]
    },
    {
     "name": "stdout",
     "output_type": "stream",
     "text": [
      "  237) HPQ    : 1305\n",
      "\n"
     ]
    },
    {
     "name": "stderr",
     "output_type": "stream",
     "text": [
      "[*********************100%***********************]  1 of 1 completed\n"
     ]
    },
    {
     "name": "stdout",
     "output_type": "stream",
     "text": [
      "  238) HUBB   : 1305\n",
      "\n"
     ]
    },
    {
     "name": "stderr",
     "output_type": "stream",
     "text": [
      "[*********************100%***********************]  1 of 1 completed\n"
     ]
    },
    {
     "name": "stdout",
     "output_type": "stream",
     "text": [
      "  239) HUM    : 1305\n",
      "\n"
     ]
    },
    {
     "name": "stderr",
     "output_type": "stream",
     "text": [
      "[*********************100%***********************]  1 of 1 completed\n"
     ]
    },
    {
     "name": "stdout",
     "output_type": "stream",
     "text": [
      "  240) HBAN   : 1305\n",
      "\n"
     ]
    },
    {
     "name": "stderr",
     "output_type": "stream",
     "text": [
      "[*********************100%***********************]  1 of 1 completed\n"
     ]
    },
    {
     "name": "stdout",
     "output_type": "stream",
     "text": [
      "  241) HII    : 1305\n",
      "\n"
     ]
    },
    {
     "name": "stderr",
     "output_type": "stream",
     "text": [
      "[*********************100%***********************]  1 of 1 completed\n"
     ]
    },
    {
     "name": "stdout",
     "output_type": "stream",
     "text": [
      "  242) IBM    : 1305\n",
      "\n"
     ]
    },
    {
     "name": "stderr",
     "output_type": "stream",
     "text": [
      "[*********************100%***********************]  1 of 1 completed\n"
     ]
    },
    {
     "name": "stdout",
     "output_type": "stream",
     "text": [
      "  243) IEX    : 1305\n",
      "\n"
     ]
    },
    {
     "name": "stderr",
     "output_type": "stream",
     "text": [
      "[*********************100%***********************]  1 of 1 completed\n"
     ]
    },
    {
     "name": "stdout",
     "output_type": "stream",
     "text": [
      "  244) IDXX   : 1305\n",
      "\n"
     ]
    },
    {
     "name": "stderr",
     "output_type": "stream",
     "text": [
      "[*********************100%***********************]  1 of 1 completed\n"
     ]
    },
    {
     "name": "stdout",
     "output_type": "stream",
     "text": [
      "  245) ITW    : 1305\n",
      "\n"
     ]
    },
    {
     "name": "stderr",
     "output_type": "stream",
     "text": [
      "[*********************100%***********************]  1 of 1 completed\n"
     ]
    },
    {
     "name": "stdout",
     "output_type": "stream",
     "text": [
      "  246) INCY   : 1305\n",
      "\n"
     ]
    },
    {
     "name": "stderr",
     "output_type": "stream",
     "text": [
      "[*********************100%***********************]  1 of 1 completed\n"
     ]
    },
    {
     "name": "stdout",
     "output_type": "stream",
     "text": [
      "  247) IR     : 1305\n",
      "\n"
     ]
    },
    {
     "name": "stderr",
     "output_type": "stream",
     "text": [
      "[*********************100%***********************]  1 of 1 completed\n"
     ]
    },
    {
     "name": "stdout",
     "output_type": "stream",
     "text": [
      "  248) PODD   : 1305\n",
      "\n"
     ]
    },
    {
     "name": "stderr",
     "output_type": "stream",
     "text": [
      "[*********************100%***********************]  1 of 1 completed\n"
     ]
    },
    {
     "name": "stdout",
     "output_type": "stream",
     "text": [
      "  249) INTC   : 1305\n",
      "\n"
     ]
    },
    {
     "name": "stderr",
     "output_type": "stream",
     "text": [
      "[*********************100%***********************]  1 of 1 completed\n"
     ]
    },
    {
     "name": "stdout",
     "output_type": "stream",
     "text": [
      "  250) ICE    : 1305\n",
      "\n"
     ]
    },
    {
     "name": "stderr",
     "output_type": "stream",
     "text": [
      "[*********************100%***********************]  1 of 1 completed\n"
     ]
    },
    {
     "name": "stdout",
     "output_type": "stream",
     "text": [
      "  251) IFF    : 1305\n",
      "\n"
     ]
    },
    {
     "name": "stderr",
     "output_type": "stream",
     "text": [
      "[*********************100%***********************]  1 of 1 completed\n"
     ]
    },
    {
     "name": "stdout",
     "output_type": "stream",
     "text": [
      "  252) IP     : 1305\n",
      "\n"
     ]
    },
    {
     "name": "stderr",
     "output_type": "stream",
     "text": [
      "[*********************100%***********************]  1 of 1 completed\n"
     ]
    },
    {
     "name": "stdout",
     "output_type": "stream",
     "text": [
      "  253) IPG    : 1305\n",
      "\n"
     ]
    },
    {
     "name": "stderr",
     "output_type": "stream",
     "text": [
      "[*********************100%***********************]  1 of 1 completed\n"
     ]
    },
    {
     "name": "stdout",
     "output_type": "stream",
     "text": [
      "  254) INTU   : 1305\n",
      "\n"
     ]
    },
    {
     "name": "stderr",
     "output_type": "stream",
     "text": [
      "[*********************100%***********************]  1 of 1 completed\n"
     ]
    },
    {
     "name": "stdout",
     "output_type": "stream",
     "text": [
      "  255) ISRG   : 1305\n",
      "\n"
     ]
    },
    {
     "name": "stderr",
     "output_type": "stream",
     "text": [
      "[*********************100%***********************]  1 of 1 completed\n"
     ]
    },
    {
     "name": "stdout",
     "output_type": "stream",
     "text": [
      "  256) IVZ    : 1305\n",
      "\n"
     ]
    },
    {
     "name": "stderr",
     "output_type": "stream",
     "text": [
      "[*********************100%***********************]  1 of 1 completed\n"
     ]
    },
    {
     "name": "stdout",
     "output_type": "stream",
     "text": [
      "  257) INVH   : 1305\n",
      "\n"
     ]
    },
    {
     "name": "stderr",
     "output_type": "stream",
     "text": [
      "[*********************100%***********************]  1 of 1 completed\n"
     ]
    },
    {
     "name": "stdout",
     "output_type": "stream",
     "text": [
      "  258) IQV    : 1305\n",
      "\n"
     ]
    },
    {
     "name": "stderr",
     "output_type": "stream",
     "text": [
      "[*********************100%***********************]  1 of 1 completed\n"
     ]
    },
    {
     "name": "stdout",
     "output_type": "stream",
     "text": [
      "  259) IRM    : 1305\n",
      "\n"
     ]
    },
    {
     "name": "stderr",
     "output_type": "stream",
     "text": [
      "[*********************100%***********************]  1 of 1 completed\n"
     ]
    },
    {
     "name": "stdout",
     "output_type": "stream",
     "text": [
      "  260) JBHT   : 1305\n",
      "\n"
     ]
    },
    {
     "name": "stderr",
     "output_type": "stream",
     "text": [
      "[*********************100%***********************]  1 of 1 completed\n"
     ]
    },
    {
     "name": "stdout",
     "output_type": "stream",
     "text": [
      "  261) JBL    : 1305\n",
      "\n"
     ]
    },
    {
     "name": "stderr",
     "output_type": "stream",
     "text": [
      "[*********************100%***********************]  1 of 1 completed\n"
     ]
    },
    {
     "name": "stdout",
     "output_type": "stream",
     "text": [
      "  262) JKHY   : 1305\n",
      "\n"
     ]
    },
    {
     "name": "stderr",
     "output_type": "stream",
     "text": [
      "[*********************100%***********************]  1 of 1 completed\n"
     ]
    },
    {
     "name": "stdout",
     "output_type": "stream",
     "text": [
      "  263) J      : 1305\n",
      "\n"
     ]
    },
    {
     "name": "stderr",
     "output_type": "stream",
     "text": [
      "[*********************100%***********************]  1 of 1 completed\n"
     ]
    },
    {
     "name": "stdout",
     "output_type": "stream",
     "text": [
      "  264) JNJ    : 1305\n",
      "\n"
     ]
    },
    {
     "name": "stderr",
     "output_type": "stream",
     "text": [
      "[*********************100%***********************]  1 of 1 completed\n"
     ]
    },
    {
     "name": "stdout",
     "output_type": "stream",
     "text": [
      "  265) JCI    : 1305\n",
      "\n"
     ]
    },
    {
     "name": "stderr",
     "output_type": "stream",
     "text": [
      "[*********************100%***********************]  1 of 1 completed\n"
     ]
    },
    {
     "name": "stdout",
     "output_type": "stream",
     "text": [
      "  266) JPM    : 1305\n",
      "\n"
     ]
    },
    {
     "name": "stderr",
     "output_type": "stream",
     "text": [
      "[*********************100%***********************]  1 of 1 completed\n"
     ]
    },
    {
     "name": "stdout",
     "output_type": "stream",
     "text": [
      "  267) JNPR   : 1305\n",
      "\n"
     ]
    },
    {
     "name": "stderr",
     "output_type": "stream",
     "text": [
      "[*********************100%***********************]  1 of 1 completed\n"
     ]
    },
    {
     "name": "stdout",
     "output_type": "stream",
     "text": [
      "  268) K      : 1305\n",
      "\n"
     ]
    },
    {
     "name": "stderr",
     "output_type": "stream",
     "text": [
      "[*********************100%***********************]  1 of 1 completed\n"
     ]
    },
    {
     "name": "stdout",
     "output_type": "stream",
     "text": [
      "  269) KVUE   : 465\n",
      "\n"
     ]
    },
    {
     "name": "stderr",
     "output_type": "stream",
     "text": [
      "[*********************100%***********************]  1 of 1 completed\n"
     ]
    },
    {
     "name": "stdout",
     "output_type": "stream",
     "text": [
      "  270) KDP    : 1305\n",
      "\n"
     ]
    },
    {
     "name": "stderr",
     "output_type": "stream",
     "text": [
      "[*********************100%***********************]  1 of 1 completed\n"
     ]
    },
    {
     "name": "stdout",
     "output_type": "stream",
     "text": [
      "  271) KEY    : 1305\n",
      "\n"
     ]
    },
    {
     "name": "stderr",
     "output_type": "stream",
     "text": [
      "[*********************100%***********************]  1 of 1 completed\n"
     ]
    },
    {
     "name": "stdout",
     "output_type": "stream",
     "text": [
      "  272) KEYS   : 1305\n",
      "\n"
     ]
    },
    {
     "name": "stderr",
     "output_type": "stream",
     "text": [
      "[*********************100%***********************]  1 of 1 completed\n"
     ]
    },
    {
     "name": "stdout",
     "output_type": "stream",
     "text": [
      "  273) KMB    : 1305\n",
      "\n"
     ]
    },
    {
     "name": "stderr",
     "output_type": "stream",
     "text": [
      "[*********************100%***********************]  1 of 1 completed\n"
     ]
    },
    {
     "name": "stdout",
     "output_type": "stream",
     "text": [
      "  274) KIM    : 1305\n",
      "\n"
     ]
    },
    {
     "name": "stderr",
     "output_type": "stream",
     "text": [
      "[*********************100%***********************]  1 of 1 completed\n"
     ]
    },
    {
     "name": "stdout",
     "output_type": "stream",
     "text": [
      "  275) KMI    : 1305\n",
      "\n"
     ]
    },
    {
     "name": "stderr",
     "output_type": "stream",
     "text": [
      "[*********************100%***********************]  1 of 1 completed\n"
     ]
    },
    {
     "name": "stdout",
     "output_type": "stream",
     "text": [
      "  276) KKR    : 1305\n",
      "\n"
     ]
    },
    {
     "name": "stderr",
     "output_type": "stream",
     "text": [
      "[*********************100%***********************]  1 of 1 completed\n"
     ]
    },
    {
     "name": "stdout",
     "output_type": "stream",
     "text": [
      "  277) KLAC   : 1305\n",
      "\n"
     ]
    },
    {
     "name": "stderr",
     "output_type": "stream",
     "text": [
      "[*********************100%***********************]  1 of 1 completed\n"
     ]
    },
    {
     "name": "stdout",
     "output_type": "stream",
     "text": [
      "  278) KHC    : 1305\n",
      "\n"
     ]
    },
    {
     "name": "stderr",
     "output_type": "stream",
     "text": [
      "[*********************100%***********************]  1 of 1 completed\n"
     ]
    },
    {
     "name": "stdout",
     "output_type": "stream",
     "text": [
      "  279) KR     : 1305\n",
      "\n"
     ]
    },
    {
     "name": "stderr",
     "output_type": "stream",
     "text": [
      "[*********************100%***********************]  1 of 1 completed\n"
     ]
    },
    {
     "name": "stdout",
     "output_type": "stream",
     "text": [
      "  280) LHX    : 1305\n",
      "\n"
     ]
    },
    {
     "name": "stderr",
     "output_type": "stream",
     "text": [
      "[*********************100%***********************]  1 of 1 completed\n"
     ]
    },
    {
     "name": "stdout",
     "output_type": "stream",
     "text": [
      "  281) LH     : 1305\n",
      "\n"
     ]
    },
    {
     "name": "stderr",
     "output_type": "stream",
     "text": [
      "[*********************100%***********************]  1 of 1 completed\n"
     ]
    },
    {
     "name": "stdout",
     "output_type": "stream",
     "text": [
      "  282) LRCX   : 1305\n",
      "\n"
     ]
    },
    {
     "name": "stderr",
     "output_type": "stream",
     "text": [
      "[*********************100%***********************]  1 of 1 completed\n"
     ]
    },
    {
     "name": "stdout",
     "output_type": "stream",
     "text": [
      "  283) LW     : 1305\n",
      "\n"
     ]
    },
    {
     "name": "stderr",
     "output_type": "stream",
     "text": [
      "[*********************100%***********************]  1 of 1 completed\n"
     ]
    },
    {
     "name": "stdout",
     "output_type": "stream",
     "text": [
      "  284) LVS    : 1305\n",
      "\n"
     ]
    },
    {
     "name": "stderr",
     "output_type": "stream",
     "text": [
      "[*********************100%***********************]  1 of 1 completed\n"
     ]
    },
    {
     "name": "stdout",
     "output_type": "stream",
     "text": [
      "  285) LDOS   : 1305\n",
      "\n"
     ]
    },
    {
     "name": "stderr",
     "output_type": "stream",
     "text": [
      "[*********************100%***********************]  1 of 1 completed\n"
     ]
    },
    {
     "name": "stdout",
     "output_type": "stream",
     "text": [
      "  286) LEN    : 1305\n",
      "\n"
     ]
    },
    {
     "name": "stderr",
     "output_type": "stream",
     "text": [
      "[*********************100%***********************]  1 of 1 completed\n"
     ]
    },
    {
     "name": "stdout",
     "output_type": "stream",
     "text": [
      "  287) LII    : 1305\n",
      "\n"
     ]
    },
    {
     "name": "stderr",
     "output_type": "stream",
     "text": [
      "[*********************100%***********************]  1 of 1 completed\n"
     ]
    },
    {
     "name": "stdout",
     "output_type": "stream",
     "text": [
      "  288) LLY    : 1305\n",
      "\n"
     ]
    },
    {
     "name": "stderr",
     "output_type": "stream",
     "text": [
      "[*********************100%***********************]  1 of 1 completed\n"
     ]
    },
    {
     "name": "stdout",
     "output_type": "stream",
     "text": [
      "  289) LIN    : 1305\n",
      "\n"
     ]
    },
    {
     "name": "stderr",
     "output_type": "stream",
     "text": [
      "[*********************100%***********************]  1 of 1 completed\n"
     ]
    },
    {
     "name": "stdout",
     "output_type": "stream",
     "text": [
      "  290) LYV    : 1305\n",
      "\n"
     ]
    },
    {
     "name": "stderr",
     "output_type": "stream",
     "text": [
      "[*********************100%***********************]  1 of 1 completed\n"
     ]
    },
    {
     "name": "stdout",
     "output_type": "stream",
     "text": [
      "  291) LKQ    : 1305\n",
      "\n"
     ]
    },
    {
     "name": "stderr",
     "output_type": "stream",
     "text": [
      "[*********************100%***********************]  1 of 1 completed\n"
     ]
    },
    {
     "name": "stdout",
     "output_type": "stream",
     "text": [
      "  292) LMT    : 1305\n",
      "\n"
     ]
    },
    {
     "name": "stderr",
     "output_type": "stream",
     "text": [
      "[*********************100%***********************]  1 of 1 completed\n"
     ]
    },
    {
     "name": "stdout",
     "output_type": "stream",
     "text": [
      "  293) L      : 1305\n",
      "\n"
     ]
    },
    {
     "name": "stderr",
     "output_type": "stream",
     "text": [
      "[*********************100%***********************]  1 of 1 completed\n"
     ]
    },
    {
     "name": "stdout",
     "output_type": "stream",
     "text": [
      "  294) LOW    : 1305\n",
      "\n"
     ]
    },
    {
     "name": "stderr",
     "output_type": "stream",
     "text": [
      "[*********************100%***********************]  1 of 1 completed\n"
     ]
    },
    {
     "name": "stdout",
     "output_type": "stream",
     "text": [
      "  295) LULU   : 1305\n",
      "\n"
     ]
    },
    {
     "name": "stderr",
     "output_type": "stream",
     "text": [
      "[*********************100%***********************]  1 of 1 completed\n"
     ]
    },
    {
     "name": "stdout",
     "output_type": "stream",
     "text": [
      "  296) LYB    : 1305\n",
      "\n"
     ]
    },
    {
     "name": "stderr",
     "output_type": "stream",
     "text": [
      "[*********************100%***********************]  1 of 1 completed\n"
     ]
    },
    {
     "name": "stdout",
     "output_type": "stream",
     "text": [
      "  297) MTB    : 1305\n",
      "\n"
     ]
    },
    {
     "name": "stderr",
     "output_type": "stream",
     "text": [
      "[*********************100%***********************]  1 of 1 completed\n"
     ]
    },
    {
     "name": "stdout",
     "output_type": "stream",
     "text": [
      "  298) MPC    : 1305\n",
      "\n"
     ]
    },
    {
     "name": "stderr",
     "output_type": "stream",
     "text": [
      "[*********************100%***********************]  1 of 1 completed\n"
     ]
    },
    {
     "name": "stdout",
     "output_type": "stream",
     "text": [
      "  299) MKTX   : 1305\n",
      "\n"
     ]
    },
    {
     "name": "stderr",
     "output_type": "stream",
     "text": [
      "[*********************100%***********************]  1 of 1 completed\n"
     ]
    },
    {
     "name": "stdout",
     "output_type": "stream",
     "text": [
      "  300) MAR    : 1305\n",
      "\n"
     ]
    },
    {
     "name": "stderr",
     "output_type": "stream",
     "text": [
      "[*********************100%***********************]  1 of 1 completed\n"
     ]
    },
    {
     "name": "stdout",
     "output_type": "stream",
     "text": [
      "  301) MMC    : 1305\n",
      "\n"
     ]
    },
    {
     "name": "stderr",
     "output_type": "stream",
     "text": [
      "[*********************100%***********************]  1 of 1 completed\n"
     ]
    },
    {
     "name": "stdout",
     "output_type": "stream",
     "text": [
      "  302) MLM    : 1305\n",
      "\n"
     ]
    },
    {
     "name": "stderr",
     "output_type": "stream",
     "text": [
      "[*********************100%***********************]  1 of 1 completed\n"
     ]
    },
    {
     "name": "stdout",
     "output_type": "stream",
     "text": [
      "  303) MAS    : 1305\n",
      "\n"
     ]
    },
    {
     "name": "stderr",
     "output_type": "stream",
     "text": [
      "[*********************100%***********************]  1 of 1 completed\n"
     ]
    },
    {
     "name": "stdout",
     "output_type": "stream",
     "text": [
      "  304) MA     : 1305\n",
      "\n"
     ]
    },
    {
     "name": "stderr",
     "output_type": "stream",
     "text": [
      "[*********************100%***********************]  1 of 1 completed\n"
     ]
    },
    {
     "name": "stdout",
     "output_type": "stream",
     "text": [
      "  305) MTCH   : 1305\n",
      "\n"
     ]
    },
    {
     "name": "stderr",
     "output_type": "stream",
     "text": [
      "[*********************100%***********************]  1 of 1 completed\n"
     ]
    },
    {
     "name": "stdout",
     "output_type": "stream",
     "text": [
      "  306) MKC    : 1305\n",
      "\n"
     ]
    },
    {
     "name": "stderr",
     "output_type": "stream",
     "text": [
      "[*********************100%***********************]  1 of 1 completed\n"
     ]
    },
    {
     "name": "stdout",
     "output_type": "stream",
     "text": [
      "  307) MCD    : 1305\n",
      "\n"
     ]
    },
    {
     "name": "stderr",
     "output_type": "stream",
     "text": [
      "[*********************100%***********************]  1 of 1 completed\n"
     ]
    },
    {
     "name": "stdout",
     "output_type": "stream",
     "text": [
      "  308) MCK    : 1305\n",
      "\n"
     ]
    },
    {
     "name": "stderr",
     "output_type": "stream",
     "text": [
      "[*********************100%***********************]  1 of 1 completed\n"
     ]
    },
    {
     "name": "stdout",
     "output_type": "stream",
     "text": [
      "  309) MDT    : 1305\n",
      "\n"
     ]
    },
    {
     "name": "stderr",
     "output_type": "stream",
     "text": [
      "[*********************100%***********************]  1 of 1 completed\n"
     ]
    },
    {
     "name": "stdout",
     "output_type": "stream",
     "text": [
      "  310) MRK    : 1305\n",
      "\n"
     ]
    },
    {
     "name": "stderr",
     "output_type": "stream",
     "text": [
      "[*********************100%***********************]  1 of 1 completed\n"
     ]
    },
    {
     "name": "stdout",
     "output_type": "stream",
     "text": [
      "  311) META   : 1305\n",
      "\n"
     ]
    },
    {
     "name": "stderr",
     "output_type": "stream",
     "text": [
      "[*********************100%***********************]  1 of 1 completed\n"
     ]
    },
    {
     "name": "stdout",
     "output_type": "stream",
     "text": [
      "  312) MET    : 1305\n",
      "\n"
     ]
    },
    {
     "name": "stderr",
     "output_type": "stream",
     "text": [
      "[*********************100%***********************]  1 of 1 completed\n"
     ]
    },
    {
     "name": "stdout",
     "output_type": "stream",
     "text": [
      "  313) MTD    : 1305\n",
      "\n"
     ]
    },
    {
     "name": "stderr",
     "output_type": "stream",
     "text": [
      "[*********************100%***********************]  1 of 1 completed\n"
     ]
    },
    {
     "name": "stdout",
     "output_type": "stream",
     "text": [
      "  314) MGM    : 1305\n",
      "\n"
     ]
    },
    {
     "name": "stderr",
     "output_type": "stream",
     "text": [
      "[*********************100%***********************]  1 of 1 completed\n"
     ]
    },
    {
     "name": "stdout",
     "output_type": "stream",
     "text": [
      "  315) MCHP   : 1305\n",
      "\n"
     ]
    },
    {
     "name": "stderr",
     "output_type": "stream",
     "text": [
      "[*********************100%***********************]  1 of 1 completed\n"
     ]
    },
    {
     "name": "stdout",
     "output_type": "stream",
     "text": [
      "  316) MU     : 1305\n",
      "\n"
     ]
    },
    {
     "name": "stderr",
     "output_type": "stream",
     "text": [
      "[*********************100%***********************]  1 of 1 completed\n"
     ]
    },
    {
     "name": "stdout",
     "output_type": "stream",
     "text": [
      "  317) MSFT   : 1305\n",
      "\n"
     ]
    },
    {
     "name": "stderr",
     "output_type": "stream",
     "text": [
      "[*********************100%***********************]  1 of 1 completed\n"
     ]
    },
    {
     "name": "stdout",
     "output_type": "stream",
     "text": [
      "  318) MAA    : 1305\n",
      "\n"
     ]
    },
    {
     "name": "stderr",
     "output_type": "stream",
     "text": [
      "[*********************100%***********************]  1 of 1 completed\n"
     ]
    },
    {
     "name": "stdout",
     "output_type": "stream",
     "text": [
      "  319) MRNA   : 1305\n",
      "\n"
     ]
    },
    {
     "name": "stderr",
     "output_type": "stream",
     "text": [
      "[*********************100%***********************]  1 of 1 completed\n"
     ]
    },
    {
     "name": "stdout",
     "output_type": "stream",
     "text": [
      "  320) MHK    : 1305\n",
      "\n"
     ]
    },
    {
     "name": "stderr",
     "output_type": "stream",
     "text": [
      "[*********************100%***********************]  1 of 1 completed\n"
     ]
    },
    {
     "name": "stdout",
     "output_type": "stream",
     "text": [
      "  321) MOH    : 1305\n",
      "\n"
     ]
    },
    {
     "name": "stderr",
     "output_type": "stream",
     "text": [
      "[*********************100%***********************]  1 of 1 completed\n"
     ]
    },
    {
     "name": "stdout",
     "output_type": "stream",
     "text": [
      "  322) TAP    : 1305\n",
      "\n"
     ]
    },
    {
     "name": "stderr",
     "output_type": "stream",
     "text": [
      "[*********************100%***********************]  1 of 1 completed\n"
     ]
    },
    {
     "name": "stdout",
     "output_type": "stream",
     "text": [
      "  323) MDLZ   : 1305\n",
      "\n"
     ]
    },
    {
     "name": "stderr",
     "output_type": "stream",
     "text": [
      "[*********************100%***********************]  1 of 1 completed\n"
     ]
    },
    {
     "name": "stdout",
     "output_type": "stream",
     "text": [
      "  324) MPWR   : 1305\n",
      "\n"
     ]
    },
    {
     "name": "stderr",
     "output_type": "stream",
     "text": [
      "[*********************100%***********************]  1 of 1 completed\n"
     ]
    },
    {
     "name": "stdout",
     "output_type": "stream",
     "text": [
      "  325) MNST   : 1305\n",
      "\n"
     ]
    },
    {
     "name": "stderr",
     "output_type": "stream",
     "text": [
      "[*********************100%***********************]  1 of 1 completed\n"
     ]
    },
    {
     "name": "stdout",
     "output_type": "stream",
     "text": [
      "  326) MCO    : 1305\n",
      "\n"
     ]
    },
    {
     "name": "stderr",
     "output_type": "stream",
     "text": [
      "[*********************100%***********************]  1 of 1 completed\n"
     ]
    },
    {
     "name": "stdout",
     "output_type": "stream",
     "text": [
      "  327) MS     : 1305\n",
      "\n"
     ]
    },
    {
     "name": "stderr",
     "output_type": "stream",
     "text": [
      "[*********************100%***********************]  1 of 1 completed\n"
     ]
    },
    {
     "name": "stdout",
     "output_type": "stream",
     "text": [
      "  328) MOS    : 1305\n",
      "\n"
     ]
    },
    {
     "name": "stderr",
     "output_type": "stream",
     "text": [
      "[*********************100%***********************]  1 of 1 completed\n"
     ]
    },
    {
     "name": "stdout",
     "output_type": "stream",
     "text": [
      "  329) MSI    : 1305\n",
      "\n"
     ]
    },
    {
     "name": "stderr",
     "output_type": "stream",
     "text": [
      "[*********************100%***********************]  1 of 1 completed\n"
     ]
    },
    {
     "name": "stdout",
     "output_type": "stream",
     "text": [
      "  330) MSCI   : 1305\n",
      "\n"
     ]
    },
    {
     "name": "stderr",
     "output_type": "stream",
     "text": [
      "[*********************100%***********************]  1 of 1 completed\n"
     ]
    },
    {
     "name": "stdout",
     "output_type": "stream",
     "text": [
      "  331) NDAQ   : 1305\n",
      "\n"
     ]
    },
    {
     "name": "stderr",
     "output_type": "stream",
     "text": [
      "[*********************100%***********************]  1 of 1 completed\n"
     ]
    },
    {
     "name": "stdout",
     "output_type": "stream",
     "text": [
      "  332) NTAP   : 1305\n",
      "\n"
     ]
    },
    {
     "name": "stderr",
     "output_type": "stream",
     "text": [
      "[*********************100%***********************]  1 of 1 completed\n"
     ]
    },
    {
     "name": "stdout",
     "output_type": "stream",
     "text": [
      "  333) NFLX   : 1305\n",
      "\n"
     ]
    },
    {
     "name": "stderr",
     "output_type": "stream",
     "text": [
      "[*********************100%***********************]  1 of 1 completed\n"
     ]
    },
    {
     "name": "stdout",
     "output_type": "stream",
     "text": [
      "  334) NEM    : 1305\n",
      "\n"
     ]
    },
    {
     "name": "stderr",
     "output_type": "stream",
     "text": [
      "[*********************100%***********************]  1 of 1 completed\n"
     ]
    },
    {
     "name": "stdout",
     "output_type": "stream",
     "text": [
      "  335) NWSA   : 1305\n",
      "\n"
     ]
    },
    {
     "name": "stderr",
     "output_type": "stream",
     "text": [
      "[*********************100%***********************]  1 of 1 completed\n"
     ]
    },
    {
     "name": "stdout",
     "output_type": "stream",
     "text": [
      "  336) NWS    : 1305\n",
      "\n"
     ]
    },
    {
     "name": "stderr",
     "output_type": "stream",
     "text": [
      "[*********************100%***********************]  1 of 1 completed\n"
     ]
    },
    {
     "name": "stdout",
     "output_type": "stream",
     "text": [
      "  337) NEE    : 1305\n",
      "\n"
     ]
    },
    {
     "name": "stderr",
     "output_type": "stream",
     "text": [
      "[*********************100%***********************]  1 of 1 completed\n"
     ]
    },
    {
     "name": "stdout",
     "output_type": "stream",
     "text": [
      "  338) NKE    : 1305\n",
      "\n"
     ]
    },
    {
     "name": "stderr",
     "output_type": "stream",
     "text": [
      "[*********************100%***********************]  1 of 1 completed\n"
     ]
    },
    {
     "name": "stdout",
     "output_type": "stream",
     "text": [
      "  339) NI     : 1305\n",
      "\n"
     ]
    },
    {
     "name": "stderr",
     "output_type": "stream",
     "text": [
      "[*********************100%***********************]  1 of 1 completed\n"
     ]
    },
    {
     "name": "stdout",
     "output_type": "stream",
     "text": [
      "  340) NDSN   : 1305\n",
      "\n"
     ]
    },
    {
     "name": "stderr",
     "output_type": "stream",
     "text": [
      "[*********************100%***********************]  1 of 1 completed\n"
     ]
    },
    {
     "name": "stdout",
     "output_type": "stream",
     "text": [
      "  341) NSC    : 1305\n",
      "\n"
     ]
    },
    {
     "name": "stderr",
     "output_type": "stream",
     "text": [
      "[*********************100%***********************]  1 of 1 completed\n"
     ]
    },
    {
     "name": "stdout",
     "output_type": "stream",
     "text": [
      "  342) NTRS   : 1305\n",
      "\n"
     ]
    },
    {
     "name": "stderr",
     "output_type": "stream",
     "text": [
      "[*********************100%***********************]  1 of 1 completed\n"
     ]
    },
    {
     "name": "stdout",
     "output_type": "stream",
     "text": [
      "  343) NOC    : 1305\n",
      "\n"
     ]
    },
    {
     "name": "stderr",
     "output_type": "stream",
     "text": [
      "[*********************100%***********************]  1 of 1 completed\n"
     ]
    },
    {
     "name": "stdout",
     "output_type": "stream",
     "text": [
      "  344) NCLH   : 1305\n",
      "\n"
     ]
    },
    {
     "name": "stderr",
     "output_type": "stream",
     "text": [
      "[*********************100%***********************]  1 of 1 completed\n"
     ]
    },
    {
     "name": "stdout",
     "output_type": "stream",
     "text": [
      "  345) NRG    : 1305\n",
      "\n"
     ]
    },
    {
     "name": "stderr",
     "output_type": "stream",
     "text": [
      "[*********************100%***********************]  1 of 1 completed\n"
     ]
    },
    {
     "name": "stdout",
     "output_type": "stream",
     "text": [
      "  346) NUE    : 1305\n",
      "\n"
     ]
    },
    {
     "name": "stderr",
     "output_type": "stream",
     "text": [
      "[*********************100%***********************]  1 of 1 completed\n"
     ]
    },
    {
     "name": "stdout",
     "output_type": "stream",
     "text": [
      "  347) NVDA   : 1305\n",
      "\n"
     ]
    },
    {
     "name": "stderr",
     "output_type": "stream",
     "text": [
      "[*********************100%***********************]  1 of 1 completed\n"
     ]
    },
    {
     "name": "stdout",
     "output_type": "stream",
     "text": [
      "  348) NVR    : 1305\n",
      "\n"
     ]
    },
    {
     "name": "stderr",
     "output_type": "stream",
     "text": [
      "[*********************100%***********************]  1 of 1 completed\n"
     ]
    },
    {
     "name": "stdout",
     "output_type": "stream",
     "text": [
      "  349) NXPI   : 1305\n",
      "\n"
     ]
    },
    {
     "name": "stderr",
     "output_type": "stream",
     "text": [
      "[*********************100%***********************]  1 of 1 completed\n"
     ]
    },
    {
     "name": "stdout",
     "output_type": "stream",
     "text": [
      "  350) ORLY   : 1305\n",
      "\n"
     ]
    },
    {
     "name": "stderr",
     "output_type": "stream",
     "text": [
      "[*********************100%***********************]  1 of 1 completed\n"
     ]
    },
    {
     "name": "stdout",
     "output_type": "stream",
     "text": [
      "  351) OXY    : 1305\n",
      "\n"
     ]
    },
    {
     "name": "stderr",
     "output_type": "stream",
     "text": [
      "[*********************100%***********************]  1 of 1 completed\n"
     ]
    },
    {
     "name": "stdout",
     "output_type": "stream",
     "text": [
      "  352) ODFL   : 1305\n",
      "\n"
     ]
    },
    {
     "name": "stderr",
     "output_type": "stream",
     "text": [
      "[*********************100%***********************]  1 of 1 completed\n"
     ]
    },
    {
     "name": "stdout",
     "output_type": "stream",
     "text": [
      "  353) OMC    : 1305\n",
      "\n"
     ]
    },
    {
     "name": "stderr",
     "output_type": "stream",
     "text": [
      "[*********************100%***********************]  1 of 1 completed\n"
     ]
    },
    {
     "name": "stdout",
     "output_type": "stream",
     "text": [
      "  354) ON     : 1305\n",
      "\n"
     ]
    },
    {
     "name": "stderr",
     "output_type": "stream",
     "text": [
      "[*********************100%***********************]  1 of 1 completed\n"
     ]
    },
    {
     "name": "stdout",
     "output_type": "stream",
     "text": [
      "  355) OKE    : 1305\n",
      "\n"
     ]
    },
    {
     "name": "stderr",
     "output_type": "stream",
     "text": [
      "[*********************100%***********************]  1 of 1 completed\n"
     ]
    },
    {
     "name": "stdout",
     "output_type": "stream",
     "text": [
      "  356) ORCL   : 1305\n",
      "\n"
     ]
    },
    {
     "name": "stderr",
     "output_type": "stream",
     "text": [
      "[*********************100%***********************]  1 of 1 completed\n"
     ]
    },
    {
     "name": "stdout",
     "output_type": "stream",
     "text": [
      "  357) OTIS   : 1252\n",
      "\n"
     ]
    },
    {
     "name": "stderr",
     "output_type": "stream",
     "text": [
      "[*********************100%***********************]  1 of 1 completed\n"
     ]
    },
    {
     "name": "stdout",
     "output_type": "stream",
     "text": [
      "  358) PCAR   : 1305\n",
      "\n"
     ]
    },
    {
     "name": "stderr",
     "output_type": "stream",
     "text": [
      "[*********************100%***********************]  1 of 1 completed\n"
     ]
    },
    {
     "name": "stdout",
     "output_type": "stream",
     "text": [
      "  359) PKG    : 1305\n",
      "\n"
     ]
    },
    {
     "name": "stderr",
     "output_type": "stream",
     "text": [
      "[*********************100%***********************]  1 of 1 completed\n"
     ]
    },
    {
     "name": "stdout",
     "output_type": "stream",
     "text": [
      "  360) PLTR   : 1117\n",
      "\n"
     ]
    },
    {
     "name": "stderr",
     "output_type": "stream",
     "text": [
      "[*********************100%***********************]  1 of 1 completed\n"
     ]
    },
    {
     "name": "stdout",
     "output_type": "stream",
     "text": [
      "  361) PANW   : 1305\n",
      "\n"
     ]
    },
    {
     "name": "stderr",
     "output_type": "stream",
     "text": [
      "[*********************100%***********************]  1 of 1 completed\n"
     ]
    },
    {
     "name": "stdout",
     "output_type": "stream",
     "text": [
      "  362) PARA   : 1305\n",
      "\n"
     ]
    },
    {
     "name": "stderr",
     "output_type": "stream",
     "text": [
      "[*********************100%***********************]  1 of 1 completed\n"
     ]
    },
    {
     "name": "stdout",
     "output_type": "stream",
     "text": [
      "  363) PH     : 1305\n",
      "\n"
     ]
    },
    {
     "name": "stderr",
     "output_type": "stream",
     "text": [
      "[*********************100%***********************]  1 of 1 completed\n"
     ]
    },
    {
     "name": "stdout",
     "output_type": "stream",
     "text": [
      "  364) PAYX   : 1305\n",
      "\n"
     ]
    },
    {
     "name": "stderr",
     "output_type": "stream",
     "text": [
      "[*********************100%***********************]  1 of 1 completed\n"
     ]
    },
    {
     "name": "stdout",
     "output_type": "stream",
     "text": [
      "  365) PAYC   : 1305\n",
      "\n"
     ]
    },
    {
     "name": "stderr",
     "output_type": "stream",
     "text": [
      "[*********************100%***********************]  1 of 1 completed\n"
     ]
    },
    {
     "name": "stdout",
     "output_type": "stream",
     "text": [
      "  366) PYPL   : 1305\n",
      "\n"
     ]
    },
    {
     "name": "stderr",
     "output_type": "stream",
     "text": [
      "[*********************100%***********************]  1 of 1 completed\n"
     ]
    },
    {
     "name": "stdout",
     "output_type": "stream",
     "text": [
      "  367) PNR    : 1305\n",
      "\n"
     ]
    },
    {
     "name": "stderr",
     "output_type": "stream",
     "text": [
      "[*********************100%***********************]  1 of 1 completed\n"
     ]
    },
    {
     "name": "stdout",
     "output_type": "stream",
     "text": [
      "  368) PEP    : 1305\n",
      "\n"
     ]
    },
    {
     "name": "stderr",
     "output_type": "stream",
     "text": [
      "[*********************100%***********************]  1 of 1 completed\n"
     ]
    },
    {
     "name": "stdout",
     "output_type": "stream",
     "text": [
      "  369) PFE    : 1305\n",
      "\n"
     ]
    },
    {
     "name": "stderr",
     "output_type": "stream",
     "text": [
      "[*********************100%***********************]  1 of 1 completed\n"
     ]
    },
    {
     "name": "stdout",
     "output_type": "stream",
     "text": [
      "  370) PCG    : 1305\n",
      "\n"
     ]
    },
    {
     "name": "stderr",
     "output_type": "stream",
     "text": [
      "[*********************100%***********************]  1 of 1 completed\n"
     ]
    },
    {
     "name": "stdout",
     "output_type": "stream",
     "text": [
      "  371) PM     : 1305\n",
      "\n"
     ]
    },
    {
     "name": "stderr",
     "output_type": "stream",
     "text": [
      "[*********************100%***********************]  1 of 1 completed\n"
     ]
    },
    {
     "name": "stdout",
     "output_type": "stream",
     "text": [
      "  372) PSX    : 1305\n",
      "\n"
     ]
    },
    {
     "name": "stderr",
     "output_type": "stream",
     "text": [
      "[*********************100%***********************]  1 of 1 completed\n"
     ]
    },
    {
     "name": "stdout",
     "output_type": "stream",
     "text": [
      "  373) PNW    : 1305\n",
      "\n"
     ]
    },
    {
     "name": "stderr",
     "output_type": "stream",
     "text": [
      "[*********************100%***********************]  1 of 1 completed\n"
     ]
    },
    {
     "name": "stdout",
     "output_type": "stream",
     "text": [
      "  374) PNC    : 1305\n",
      "\n"
     ]
    },
    {
     "name": "stderr",
     "output_type": "stream",
     "text": [
      "[*********************100%***********************]  1 of 1 completed\n"
     ]
    },
    {
     "name": "stdout",
     "output_type": "stream",
     "text": [
      "  375) POOL   : 1305\n",
      "\n"
     ]
    },
    {
     "name": "stderr",
     "output_type": "stream",
     "text": [
      "[*********************100%***********************]  1 of 1 completed\n"
     ]
    },
    {
     "name": "stdout",
     "output_type": "stream",
     "text": [
      "  376) PPG    : 1305\n",
      "\n"
     ]
    },
    {
     "name": "stderr",
     "output_type": "stream",
     "text": [
      "[*********************100%***********************]  1 of 1 completed\n"
     ]
    },
    {
     "name": "stdout",
     "output_type": "stream",
     "text": [
      "  377) PPL    : 1305\n",
      "\n"
     ]
    },
    {
     "name": "stderr",
     "output_type": "stream",
     "text": [
      "[*********************100%***********************]  1 of 1 completed\n"
     ]
    },
    {
     "name": "stdout",
     "output_type": "stream",
     "text": [
      "  378) PFG    : 1305\n",
      "\n"
     ]
    },
    {
     "name": "stderr",
     "output_type": "stream",
     "text": [
      "[*********************100%***********************]  1 of 1 completed\n"
     ]
    },
    {
     "name": "stdout",
     "output_type": "stream",
     "text": [
      "  379) PG     : 1305\n",
      "\n"
     ]
    },
    {
     "name": "stderr",
     "output_type": "stream",
     "text": [
      "[*********************100%***********************]  1 of 1 completed\n"
     ]
    },
    {
     "name": "stdout",
     "output_type": "stream",
     "text": [
      "  380) PGR    : 1305\n",
      "\n"
     ]
    },
    {
     "name": "stderr",
     "output_type": "stream",
     "text": [
      "[*********************100%***********************]  1 of 1 completed\n"
     ]
    },
    {
     "name": "stdout",
     "output_type": "stream",
     "text": [
      "  381) PLD    : 1305\n",
      "\n"
     ]
    },
    {
     "name": "stderr",
     "output_type": "stream",
     "text": [
      "[*********************100%***********************]  1 of 1 completed\n"
     ]
    },
    {
     "name": "stdout",
     "output_type": "stream",
     "text": [
      "  382) PRU    : 1305\n",
      "\n"
     ]
    },
    {
     "name": "stderr",
     "output_type": "stream",
     "text": [
      "[*********************100%***********************]  1 of 1 completed\n"
     ]
    },
    {
     "name": "stdout",
     "output_type": "stream",
     "text": [
      "  383) PEG    : 1305\n",
      "\n"
     ]
    },
    {
     "name": "stderr",
     "output_type": "stream",
     "text": [
      "[*********************100%***********************]  1 of 1 completed\n"
     ]
    },
    {
     "name": "stdout",
     "output_type": "stream",
     "text": [
      "  384) PTC    : 1305\n",
      "\n"
     ]
    },
    {
     "name": "stderr",
     "output_type": "stream",
     "text": [
      "[*********************100%***********************]  1 of 1 completed\n"
     ]
    },
    {
     "name": "stdout",
     "output_type": "stream",
     "text": [
      "  385) PSA    : 1305\n",
      "\n"
     ]
    },
    {
     "name": "stderr",
     "output_type": "stream",
     "text": [
      "[*********************100%***********************]  1 of 1 completed\n"
     ]
    },
    {
     "name": "stdout",
     "output_type": "stream",
     "text": [
      "  386) PHM    : 1305\n",
      "\n"
     ]
    },
    {
     "name": "stderr",
     "output_type": "stream",
     "text": [
      "[*********************100%***********************]  1 of 1 completed\n"
     ]
    },
    {
     "name": "stdout",
     "output_type": "stream",
     "text": [
      "  387) PWR    : 1305\n",
      "\n"
     ]
    },
    {
     "name": "stderr",
     "output_type": "stream",
     "text": [
      "[*********************100%***********************]  1 of 1 completed\n"
     ]
    },
    {
     "name": "stdout",
     "output_type": "stream",
     "text": [
      "  388) QCOM   : 1305\n",
      "\n"
     ]
    },
    {
     "name": "stderr",
     "output_type": "stream",
     "text": [
      "[*********************100%***********************]  1 of 1 completed\n"
     ]
    },
    {
     "name": "stdout",
     "output_type": "stream",
     "text": [
      "  389) DGX    : 1305\n",
      "\n"
     ]
    },
    {
     "name": "stderr",
     "output_type": "stream",
     "text": [
      "[*********************100%***********************]  1 of 1 completed\n"
     ]
    },
    {
     "name": "stdout",
     "output_type": "stream",
     "text": [
      "  390) RL     : 1305\n",
      "\n"
     ]
    },
    {
     "name": "stderr",
     "output_type": "stream",
     "text": [
      "[*********************100%***********************]  1 of 1 completed\n"
     ]
    },
    {
     "name": "stdout",
     "output_type": "stream",
     "text": [
      "  391) RJF    : 1305\n",
      "\n"
     ]
    },
    {
     "name": "stderr",
     "output_type": "stream",
     "text": [
      "[*********************100%***********************]  1 of 1 completed\n"
     ]
    },
    {
     "name": "stdout",
     "output_type": "stream",
     "text": [
      "  392) RTX    : 1305\n",
      "\n"
     ]
    },
    {
     "name": "stderr",
     "output_type": "stream",
     "text": [
      "[*********************100%***********************]  1 of 1 completed\n"
     ]
    },
    {
     "name": "stdout",
     "output_type": "stream",
     "text": [
      "  393) O      : 1305\n",
      "\n"
     ]
    },
    {
     "name": "stderr",
     "output_type": "stream",
     "text": [
      "[*********************100%***********************]  1 of 1 completed\n"
     ]
    },
    {
     "name": "stdout",
     "output_type": "stream",
     "text": [
      "  394) REG    : 1305\n",
      "\n"
     ]
    },
    {
     "name": "stderr",
     "output_type": "stream",
     "text": [
      "[*********************100%***********************]  1 of 1 completed\n"
     ]
    },
    {
     "name": "stdout",
     "output_type": "stream",
     "text": [
      "  395) REGN   : 1305\n",
      "\n"
     ]
    },
    {
     "name": "stderr",
     "output_type": "stream",
     "text": [
      "[*********************100%***********************]  1 of 1 completed\n"
     ]
    },
    {
     "name": "stdout",
     "output_type": "stream",
     "text": [
      "  396) RF     : 1305\n",
      "\n"
     ]
    },
    {
     "name": "stderr",
     "output_type": "stream",
     "text": [
      "[*********************100%***********************]  1 of 1 completed\n"
     ]
    },
    {
     "name": "stdout",
     "output_type": "stream",
     "text": [
      "  397) RSG    : 1305\n",
      "\n"
     ]
    },
    {
     "name": "stderr",
     "output_type": "stream",
     "text": [
      "[*********************100%***********************]  1 of 1 completed\n"
     ]
    },
    {
     "name": "stdout",
     "output_type": "stream",
     "text": [
      "  398) RMD    : 1305\n",
      "\n"
     ]
    },
    {
     "name": "stderr",
     "output_type": "stream",
     "text": [
      "[*********************100%***********************]  1 of 1 completed\n"
     ]
    },
    {
     "name": "stdout",
     "output_type": "stream",
     "text": [
      "  399) RVTY   : 1305\n",
      "\n"
     ]
    },
    {
     "name": "stderr",
     "output_type": "stream",
     "text": [
      "[*********************100%***********************]  1 of 1 completed\n"
     ]
    },
    {
     "name": "stdout",
     "output_type": "stream",
     "text": [
      "  400) ROK    : 1305\n",
      "\n"
     ]
    },
    {
     "name": "stderr",
     "output_type": "stream",
     "text": [
      "[*********************100%***********************]  1 of 1 completed\n"
     ]
    },
    {
     "name": "stdout",
     "output_type": "stream",
     "text": [
      "  401) ROL    : 1305\n",
      "\n"
     ]
    },
    {
     "name": "stderr",
     "output_type": "stream",
     "text": [
      "[*********************100%***********************]  1 of 1 completed\n"
     ]
    },
    {
     "name": "stdout",
     "output_type": "stream",
     "text": [
      "  402) ROP    : 1305\n",
      "\n"
     ]
    },
    {
     "name": "stderr",
     "output_type": "stream",
     "text": [
      "[*********************100%***********************]  1 of 1 completed\n"
     ]
    },
    {
     "name": "stdout",
     "output_type": "stream",
     "text": [
      "  403) ROST   : 1305\n",
      "\n"
     ]
    },
    {
     "name": "stderr",
     "output_type": "stream",
     "text": [
      "[*********************100%***********************]  1 of 1 completed\n"
     ]
    },
    {
     "name": "stdout",
     "output_type": "stream",
     "text": [
      "  404) RCL    : 1305\n",
      "\n"
     ]
    },
    {
     "name": "stderr",
     "output_type": "stream",
     "text": [
      "[*********************100%***********************]  1 of 1 completed\n"
     ]
    },
    {
     "name": "stdout",
     "output_type": "stream",
     "text": [
      "  405) SPGI   : 1305\n",
      "\n"
     ]
    },
    {
     "name": "stderr",
     "output_type": "stream",
     "text": [
      "[*********************100%***********************]  1 of 1 completed\n"
     ]
    },
    {
     "name": "stdout",
     "output_type": "stream",
     "text": [
      "  406) CRM    : 1305\n",
      "\n"
     ]
    },
    {
     "name": "stderr",
     "output_type": "stream",
     "text": [
      "[*********************100%***********************]  1 of 1 completed\n"
     ]
    },
    {
     "name": "stdout",
     "output_type": "stream",
     "text": [
      "  407) SBAC   : 1305\n",
      "\n"
     ]
    },
    {
     "name": "stderr",
     "output_type": "stream",
     "text": [
      "[*********************100%***********************]  1 of 1 completed\n"
     ]
    },
    {
     "name": "stdout",
     "output_type": "stream",
     "text": [
      "  408) SLB    : 1305\n",
      "\n"
     ]
    },
    {
     "name": "stderr",
     "output_type": "stream",
     "text": [
      "[*********************100%***********************]  1 of 1 completed\n"
     ]
    },
    {
     "name": "stdout",
     "output_type": "stream",
     "text": [
      "  409) STX    : 1305\n",
      "\n"
     ]
    },
    {
     "name": "stderr",
     "output_type": "stream",
     "text": [
      "[*********************100%***********************]  1 of 1 completed\n"
     ]
    },
    {
     "name": "stdout",
     "output_type": "stream",
     "text": [
      "  410) SRE    : 1305\n",
      "\n"
     ]
    },
    {
     "name": "stderr",
     "output_type": "stream",
     "text": [
      "[*********************100%***********************]  1 of 1 completed\n"
     ]
    },
    {
     "name": "stdout",
     "output_type": "stream",
     "text": [
      "  411) NOW    : 1305\n",
      "\n"
     ]
    },
    {
     "name": "stderr",
     "output_type": "stream",
     "text": [
      "[*********************100%***********************]  1 of 1 completed\n"
     ]
    },
    {
     "name": "stdout",
     "output_type": "stream",
     "text": [
      "  412) SHW    : 1305\n",
      "\n"
     ]
    },
    {
     "name": "stderr",
     "output_type": "stream",
     "text": [
      "[*********************100%***********************]  1 of 1 completed\n"
     ]
    },
    {
     "name": "stdout",
     "output_type": "stream",
     "text": [
      "  413) SPG    : 1305\n",
      "\n"
     ]
    },
    {
     "name": "stderr",
     "output_type": "stream",
     "text": [
      "[*********************100%***********************]  1 of 1 completed\n"
     ]
    },
    {
     "name": "stdout",
     "output_type": "stream",
     "text": [
      "  414) SWKS   : 1305\n",
      "\n"
     ]
    },
    {
     "name": "stderr",
     "output_type": "stream",
     "text": [
      "[*********************100%***********************]  1 of 1 completed\n"
     ]
    },
    {
     "name": "stdout",
     "output_type": "stream",
     "text": [
      "  415) SJM    : 1305\n",
      "\n"
     ]
    },
    {
     "name": "stderr",
     "output_type": "stream",
     "text": [
      "[*********************100%***********************]  1 of 1 completed\n"
     ]
    },
    {
     "name": "stdout",
     "output_type": "stream",
     "text": [
      "  416) SW     : 171\n",
      "\n"
     ]
    },
    {
     "name": "stderr",
     "output_type": "stream",
     "text": [
      "[*********************100%***********************]  1 of 1 completed\n"
     ]
    },
    {
     "name": "stdout",
     "output_type": "stream",
     "text": [
      "  417) SNA    : 1305\n",
      "\n"
     ]
    },
    {
     "name": "stderr",
     "output_type": "stream",
     "text": [
      "[*********************100%***********************]  1 of 1 completed\n"
     ]
    },
    {
     "name": "stdout",
     "output_type": "stream",
     "text": [
      "  418) SOLV   : 238\n",
      "\n"
     ]
    },
    {
     "name": "stderr",
     "output_type": "stream",
     "text": [
      "[*********************100%***********************]  1 of 1 completed\n"
     ]
    },
    {
     "name": "stdout",
     "output_type": "stream",
     "text": [
      "  419) SO     : 1305\n",
      "\n"
     ]
    },
    {
     "name": "stderr",
     "output_type": "stream",
     "text": [
      "[*********************100%***********************]  1 of 1 completed\n"
     ]
    },
    {
     "name": "stdout",
     "output_type": "stream",
     "text": [
      "  420) LUV    : 1305\n",
      "\n"
     ]
    },
    {
     "name": "stderr",
     "output_type": "stream",
     "text": [
      "[*********************100%***********************]  1 of 1 completed\n"
     ]
    },
    {
     "name": "stdout",
     "output_type": "stream",
     "text": [
      "  421) SWK    : 1305\n",
      "\n"
     ]
    },
    {
     "name": "stderr",
     "output_type": "stream",
     "text": [
      "[*********************100%***********************]  1 of 1 completed\n"
     ]
    },
    {
     "name": "stdout",
     "output_type": "stream",
     "text": [
      "  422) SBUX   : 1305\n",
      "\n"
     ]
    },
    {
     "name": "stderr",
     "output_type": "stream",
     "text": [
      "[*********************100%***********************]  1 of 1 completed\n"
     ]
    },
    {
     "name": "stdout",
     "output_type": "stream",
     "text": [
      "  423) STT    : 1305\n",
      "\n"
     ]
    },
    {
     "name": "stderr",
     "output_type": "stream",
     "text": [
      "[*********************100%***********************]  1 of 1 completed\n"
     ]
    },
    {
     "name": "stdout",
     "output_type": "stream",
     "text": [
      "  424) STLD   : 1305\n",
      "\n"
     ]
    },
    {
     "name": "stderr",
     "output_type": "stream",
     "text": [
      "[*********************100%***********************]  1 of 1 completed\n"
     ]
    },
    {
     "name": "stdout",
     "output_type": "stream",
     "text": [
      "  425) STE    : 1305\n",
      "\n"
     ]
    },
    {
     "name": "stderr",
     "output_type": "stream",
     "text": [
      "[*********************100%***********************]  1 of 1 completed\n"
     ]
    },
    {
     "name": "stdout",
     "output_type": "stream",
     "text": [
      "  426) SYK    : 1305\n",
      "\n"
     ]
    },
    {
     "name": "stderr",
     "output_type": "stream",
     "text": [
      "[*********************100%***********************]  1 of 1 completed\n"
     ]
    },
    {
     "name": "stdout",
     "output_type": "stream",
     "text": [
      "  427) SMCI   : 1305\n",
      "\n"
     ]
    },
    {
     "name": "stderr",
     "output_type": "stream",
     "text": [
      "[*********************100%***********************]  1 of 1 completed\n"
     ]
    },
    {
     "name": "stdout",
     "output_type": "stream",
     "text": [
      "  428) SYF    : 1305\n",
      "\n"
     ]
    },
    {
     "name": "stderr",
     "output_type": "stream",
     "text": [
      "[*********************100%***********************]  1 of 1 completed\n"
     ]
    },
    {
     "name": "stdout",
     "output_type": "stream",
     "text": [
      "  429) SNPS   : 1305\n",
      "\n"
     ]
    },
    {
     "name": "stderr",
     "output_type": "stream",
     "text": [
      "[*********************100%***********************]  1 of 1 completed\n"
     ]
    },
    {
     "name": "stdout",
     "output_type": "stream",
     "text": [
      "  430) SYY    : 1305\n",
      "\n"
     ]
    },
    {
     "name": "stderr",
     "output_type": "stream",
     "text": [
      "[*********************100%***********************]  1 of 1 completed\n"
     ]
    },
    {
     "name": "stdout",
     "output_type": "stream",
     "text": [
      "  431) TMUS   : 1305\n",
      "\n"
     ]
    },
    {
     "name": "stderr",
     "output_type": "stream",
     "text": [
      "[*********************100%***********************]  1 of 1 completed\n"
     ]
    },
    {
     "name": "stdout",
     "output_type": "stream",
     "text": [
      "  432) TROW   : 1305\n",
      "\n"
     ]
    },
    {
     "name": "stderr",
     "output_type": "stream",
     "text": [
      "[*********************100%***********************]  1 of 1 completed\n"
     ]
    },
    {
     "name": "stdout",
     "output_type": "stream",
     "text": [
      "  433) TTWO   : 1305\n",
      "\n"
     ]
    },
    {
     "name": "stderr",
     "output_type": "stream",
     "text": [
      "[*********************100%***********************]  1 of 1 completed\n"
     ]
    },
    {
     "name": "stdout",
     "output_type": "stream",
     "text": [
      "  434) TPR    : 1305\n",
      "\n"
     ]
    },
    {
     "name": "stderr",
     "output_type": "stream",
     "text": [
      "[*********************100%***********************]  1 of 1 completed\n"
     ]
    },
    {
     "name": "stdout",
     "output_type": "stream",
     "text": [
      "  435) TRGP   : 1305\n",
      "\n"
     ]
    },
    {
     "name": "stderr",
     "output_type": "stream",
     "text": [
      "[*********************100%***********************]  1 of 1 completed\n"
     ]
    },
    {
     "name": "stdout",
     "output_type": "stream",
     "text": [
      "  436) TGT    : 1305\n",
      "\n"
     ]
    },
    {
     "name": "stderr",
     "output_type": "stream",
     "text": [
      "[*********************100%***********************]  1 of 1 completed\n"
     ]
    },
    {
     "name": "stdout",
     "output_type": "stream",
     "text": [
      "  437) TEL    : 1305\n",
      "\n"
     ]
    },
    {
     "name": "stderr",
     "output_type": "stream",
     "text": [
      "[*********************100%***********************]  1 of 1 completed\n"
     ]
    },
    {
     "name": "stdout",
     "output_type": "stream",
     "text": [
      "  438) TDY    : 1305\n",
      "\n"
     ]
    },
    {
     "name": "stderr",
     "output_type": "stream",
     "text": [
      "[*********************100%***********************]  1 of 1 completed\n"
     ]
    },
    {
     "name": "stdout",
     "output_type": "stream",
     "text": [
      "  439) TFX    : 1305\n",
      "\n"
     ]
    },
    {
     "name": "stderr",
     "output_type": "stream",
     "text": [
      "[*********************100%***********************]  1 of 1 completed\n"
     ]
    },
    {
     "name": "stdout",
     "output_type": "stream",
     "text": [
      "  440) TER    : 1305\n",
      "\n"
     ]
    },
    {
     "name": "stderr",
     "output_type": "stream",
     "text": [
      "[*********************100%***********************]  1 of 1 completed\n"
     ]
    },
    {
     "name": "stdout",
     "output_type": "stream",
     "text": [
      "  441) TSLA   : 1305\n",
      "\n"
     ]
    },
    {
     "name": "stderr",
     "output_type": "stream",
     "text": [
      "[*********************100%***********************]  1 of 1 completed\n"
     ]
    },
    {
     "name": "stdout",
     "output_type": "stream",
     "text": [
      "  442) TXN    : 1305\n",
      "\n"
     ]
    },
    {
     "name": "stderr",
     "output_type": "stream",
     "text": [
      "[*********************100%***********************]  1 of 1 completed\n"
     ]
    },
    {
     "name": "stdout",
     "output_type": "stream",
     "text": [
      "  443) TPL    : 1305\n",
      "\n"
     ]
    },
    {
     "name": "stderr",
     "output_type": "stream",
     "text": [
      "[*********************100%***********************]  1 of 1 completed\n"
     ]
    },
    {
     "name": "stdout",
     "output_type": "stream",
     "text": [
      "  444) TXT    : 1305\n",
      "\n"
     ]
    },
    {
     "name": "stderr",
     "output_type": "stream",
     "text": [
      "[*********************100%***********************]  1 of 1 completed\n"
     ]
    },
    {
     "name": "stdout",
     "output_type": "stream",
     "text": [
      "  445) TMO    : 1305\n",
      "\n"
     ]
    },
    {
     "name": "stderr",
     "output_type": "stream",
     "text": [
      "[*********************100%***********************]  1 of 1 completed\n"
     ]
    },
    {
     "name": "stdout",
     "output_type": "stream",
     "text": [
      "  446) TJX    : 1305\n",
      "\n"
     ]
    },
    {
     "name": "stderr",
     "output_type": "stream",
     "text": [
      "[*********************100%***********************]  1 of 1 completed\n"
     ]
    },
    {
     "name": "stdout",
     "output_type": "stream",
     "text": [
      "  447) TSCO   : 1305\n",
      "\n"
     ]
    },
    {
     "name": "stderr",
     "output_type": "stream",
     "text": [
      "[*********************100%***********************]  1 of 1 completed\n"
     ]
    },
    {
     "name": "stdout",
     "output_type": "stream",
     "text": [
      "  448) TT     : 1305\n",
      "\n"
     ]
    },
    {
     "name": "stderr",
     "output_type": "stream",
     "text": [
      "[*********************100%***********************]  1 of 1 completed\n"
     ]
    },
    {
     "name": "stdout",
     "output_type": "stream",
     "text": [
      "  449) TDG    : 1305\n",
      "\n"
     ]
    },
    {
     "name": "stderr",
     "output_type": "stream",
     "text": [
      "[*********************100%***********************]  1 of 1 completed\n"
     ]
    },
    {
     "name": "stdout",
     "output_type": "stream",
     "text": [
      "  450) TRV    : 1305\n",
      "\n"
     ]
    },
    {
     "name": "stderr",
     "output_type": "stream",
     "text": [
      "[*********************100%***********************]  1 of 1 completed\n"
     ]
    },
    {
     "name": "stdout",
     "output_type": "stream",
     "text": [
      "  451) TRMB   : 1305\n",
      "\n"
     ]
    },
    {
     "name": "stderr",
     "output_type": "stream",
     "text": [
      "[*********************100%***********************]  1 of 1 completed\n"
     ]
    },
    {
     "name": "stdout",
     "output_type": "stream",
     "text": [
      "  452) TFC    : 1305\n",
      "\n"
     ]
    },
    {
     "name": "stderr",
     "output_type": "stream",
     "text": [
      "[*********************100%***********************]  1 of 1 completed\n"
     ]
    },
    {
     "name": "stdout",
     "output_type": "stream",
     "text": [
      "  453) TYL    : 1305\n",
      "\n"
     ]
    },
    {
     "name": "stderr",
     "output_type": "stream",
     "text": [
      "[*********************100%***********************]  1 of 1 completed\n"
     ]
    },
    {
     "name": "stdout",
     "output_type": "stream",
     "text": [
      "  454) TSN    : 1305\n",
      "\n"
     ]
    },
    {
     "name": "stderr",
     "output_type": "stream",
     "text": [
      "[*********************100%***********************]  1 of 1 completed\n"
     ]
    },
    {
     "name": "stdout",
     "output_type": "stream",
     "text": [
      "  455) USB    : 1305\n",
      "\n"
     ]
    },
    {
     "name": "stderr",
     "output_type": "stream",
     "text": [
      "[*********************100%***********************]  1 of 1 completed\n"
     ]
    },
    {
     "name": "stdout",
     "output_type": "stream",
     "text": [
      "  456) UBER   : 1305\n",
      "\n"
     ]
    },
    {
     "name": "stderr",
     "output_type": "stream",
     "text": [
      "[*********************100%***********************]  1 of 1 completed\n"
     ]
    },
    {
     "name": "stdout",
     "output_type": "stream",
     "text": [
      "  457) UDR    : 1305\n",
      "\n"
     ]
    },
    {
     "name": "stderr",
     "output_type": "stream",
     "text": [
      "[*********************100%***********************]  1 of 1 completed\n"
     ]
    },
    {
     "name": "stdout",
     "output_type": "stream",
     "text": [
      "  458) ULTA   : 1305\n",
      "\n"
     ]
    },
    {
     "name": "stderr",
     "output_type": "stream",
     "text": [
      "[*********************100%***********************]  1 of 1 completed\n"
     ]
    },
    {
     "name": "stdout",
     "output_type": "stream",
     "text": [
      "  459) UNP    : 1305\n",
      "\n"
     ]
    },
    {
     "name": "stderr",
     "output_type": "stream",
     "text": [
      "[*********************100%***********************]  1 of 1 completed\n"
     ]
    },
    {
     "name": "stdout",
     "output_type": "stream",
     "text": [
      "  460) UAL    : 1305\n",
      "\n"
     ]
    },
    {
     "name": "stderr",
     "output_type": "stream",
     "text": [
      "[*********************100%***********************]  1 of 1 completed\n"
     ]
    },
    {
     "name": "stdout",
     "output_type": "stream",
     "text": [
      "  461) UPS    : 1305\n",
      "\n"
     ]
    },
    {
     "name": "stderr",
     "output_type": "stream",
     "text": [
      "[*********************100%***********************]  1 of 1 completed\n"
     ]
    },
    {
     "name": "stdout",
     "output_type": "stream",
     "text": [
      "  462) URI    : 1305\n",
      "\n"
     ]
    },
    {
     "name": "stderr",
     "output_type": "stream",
     "text": [
      "[*********************100%***********************]  1 of 1 completed\n"
     ]
    },
    {
     "name": "stdout",
     "output_type": "stream",
     "text": [
      "  463) UNH    : 1305\n",
      "\n"
     ]
    },
    {
     "name": "stderr",
     "output_type": "stream",
     "text": [
      "[*********************100%***********************]  1 of 1 completed\n"
     ]
    },
    {
     "name": "stdout",
     "output_type": "stream",
     "text": [
      "  464) UHS    : 1305\n",
      "\n"
     ]
    },
    {
     "name": "stderr",
     "output_type": "stream",
     "text": [
      "[*********************100%***********************]  1 of 1 completed\n"
     ]
    },
    {
     "name": "stdout",
     "output_type": "stream",
     "text": [
      "  465) VLO    : 1305\n",
      "\n"
     ]
    },
    {
     "name": "stderr",
     "output_type": "stream",
     "text": [
      "[*********************100%***********************]  1 of 1 completed\n"
     ]
    },
    {
     "name": "stdout",
     "output_type": "stream",
     "text": [
      "  466) VTR    : 1305\n",
      "\n"
     ]
    },
    {
     "name": "stderr",
     "output_type": "stream",
     "text": [
      "[*********************100%***********************]  1 of 1 completed\n"
     ]
    },
    {
     "name": "stdout",
     "output_type": "stream",
     "text": [
      "  467) VLTO   : 360\n",
      "\n"
     ]
    },
    {
     "name": "stderr",
     "output_type": "stream",
     "text": [
      "[*********************100%***********************]  1 of 1 completed\n"
     ]
    },
    {
     "name": "stdout",
     "output_type": "stream",
     "text": [
      "  468) VRSN   : 1305\n",
      "\n"
     ]
    },
    {
     "name": "stderr",
     "output_type": "stream",
     "text": [
      "[*********************100%***********************]  1 of 1 completed\n"
     ]
    },
    {
     "name": "stdout",
     "output_type": "stream",
     "text": [
      "  469) VRSK   : 1305\n",
      "\n"
     ]
    },
    {
     "name": "stderr",
     "output_type": "stream",
     "text": [
      "[*********************100%***********************]  1 of 1 completed\n"
     ]
    },
    {
     "name": "stdout",
     "output_type": "stream",
     "text": [
      "  470) VZ     : 1305\n",
      "\n"
     ]
    },
    {
     "name": "stderr",
     "output_type": "stream",
     "text": [
      "[*********************100%***********************]  1 of 1 completed\n"
     ]
    },
    {
     "name": "stdout",
     "output_type": "stream",
     "text": [
      "  471) VRTX   : 1305\n",
      "\n"
     ]
    },
    {
     "name": "stderr",
     "output_type": "stream",
     "text": [
      "[*********************100%***********************]  1 of 1 completed\n"
     ]
    },
    {
     "name": "stdout",
     "output_type": "stream",
     "text": [
      "  472) VTRS   : 1305\n",
      "\n"
     ]
    },
    {
     "name": "stderr",
     "output_type": "stream",
     "text": [
      "[*********************100%***********************]  1 of 1 completed\n"
     ]
    },
    {
     "name": "stdout",
     "output_type": "stream",
     "text": [
      "  473) VICI   : 1305\n",
      "\n"
     ]
    },
    {
     "name": "stderr",
     "output_type": "stream",
     "text": [
      "[*********************100%***********************]  1 of 1 completed\n"
     ]
    },
    {
     "name": "stdout",
     "output_type": "stream",
     "text": [
      "  474) V      : 1305\n",
      "\n"
     ]
    },
    {
     "name": "stderr",
     "output_type": "stream",
     "text": [
      "[*********************100%***********************]  1 of 1 completed\n"
     ]
    },
    {
     "name": "stdout",
     "output_type": "stream",
     "text": [
      "  475) VST    : 1305\n",
      "\n"
     ]
    },
    {
     "name": "stderr",
     "output_type": "stream",
     "text": [
      "[*********************100%***********************]  1 of 1 completed\n"
     ]
    },
    {
     "name": "stdout",
     "output_type": "stream",
     "text": [
      "  476) VMC    : 1305\n",
      "\n"
     ]
    },
    {
     "name": "stderr",
     "output_type": "stream",
     "text": [
      "[*********************100%***********************]  1 of 1 completed\n"
     ]
    },
    {
     "name": "stdout",
     "output_type": "stream",
     "text": [
      "  477) WRB    : 1305\n",
      "\n"
     ]
    },
    {
     "name": "stderr",
     "output_type": "stream",
     "text": [
      "[*********************100%***********************]  1 of 1 completed\n"
     ]
    },
    {
     "name": "stdout",
     "output_type": "stream",
     "text": [
      "  478) GWW    : 1305\n",
      "\n"
     ]
    },
    {
     "name": "stderr",
     "output_type": "stream",
     "text": [
      "[*********************100%***********************]  1 of 1 completed\n"
     ]
    },
    {
     "name": "stdout",
     "output_type": "stream",
     "text": [
      "  479) WAB    : 1305\n",
      "\n"
     ]
    },
    {
     "name": "stderr",
     "output_type": "stream",
     "text": [
      "[*********************100%***********************]  1 of 1 completed\n"
     ]
    },
    {
     "name": "stdout",
     "output_type": "stream",
     "text": [
      "  480) WBA    : 1305\n",
      "\n"
     ]
    },
    {
     "name": "stderr",
     "output_type": "stream",
     "text": [
      "[*********************100%***********************]  1 of 1 completed\n"
     ]
    },
    {
     "name": "stdout",
     "output_type": "stream",
     "text": [
      "  481) WMT    : 1305\n",
      "\n"
     ]
    },
    {
     "name": "stderr",
     "output_type": "stream",
     "text": [
      "[*********************100%***********************]  1 of 1 completed\n"
     ]
    },
    {
     "name": "stdout",
     "output_type": "stream",
     "text": [
      "  482) DIS    : 1305\n",
      "\n"
     ]
    },
    {
     "name": "stderr",
     "output_type": "stream",
     "text": [
      "[*********************100%***********************]  1 of 1 completed\n"
     ]
    },
    {
     "name": "stdout",
     "output_type": "stream",
     "text": [
      "  483) WBD    : 1305\n",
      "\n"
     ]
    },
    {
     "name": "stderr",
     "output_type": "stream",
     "text": [
      "[*********************100%***********************]  1 of 1 completed\n"
     ]
    },
    {
     "name": "stdout",
     "output_type": "stream",
     "text": [
      "  484) WM     : 1305\n",
      "\n"
     ]
    },
    {
     "name": "stderr",
     "output_type": "stream",
     "text": [
      "[*********************100%***********************]  1 of 1 completed\n"
     ]
    },
    {
     "name": "stdout",
     "output_type": "stream",
     "text": [
      "  485) WAT    : 1305\n",
      "\n"
     ]
    },
    {
     "name": "stderr",
     "output_type": "stream",
     "text": [
      "[*********************100%***********************]  1 of 1 completed\n"
     ]
    },
    {
     "name": "stdout",
     "output_type": "stream",
     "text": [
      "  486) WEC    : 1305\n",
      "\n"
     ]
    },
    {
     "name": "stderr",
     "output_type": "stream",
     "text": [
      "[*********************100%***********************]  1 of 1 completed\n"
     ]
    },
    {
     "name": "stdout",
     "output_type": "stream",
     "text": [
      "  487) WFC    : 1305\n",
      "\n"
     ]
    },
    {
     "name": "stderr",
     "output_type": "stream",
     "text": [
      "[*********************100%***********************]  1 of 1 completed\n"
     ]
    },
    {
     "name": "stdout",
     "output_type": "stream",
     "text": [
      "  488) WELL   : 1305\n",
      "\n"
     ]
    },
    {
     "name": "stderr",
     "output_type": "stream",
     "text": [
      "[*********************100%***********************]  1 of 1 completed\n"
     ]
    },
    {
     "name": "stdout",
     "output_type": "stream",
     "text": [
      "  489) WST    : 1305\n",
      "\n"
     ]
    },
    {
     "name": "stderr",
     "output_type": "stream",
     "text": [
      "[*********************100%***********************]  1 of 1 completed\n"
     ]
    },
    {
     "name": "stdout",
     "output_type": "stream",
     "text": [
      "  490) WDC    : 1305\n",
      "\n"
     ]
    },
    {
     "name": "stderr",
     "output_type": "stream",
     "text": [
      "[*********************100%***********************]  1 of 1 completed\n"
     ]
    },
    {
     "name": "stdout",
     "output_type": "stream",
     "text": [
      "  491) WY     : 1305\n",
      "\n"
     ]
    },
    {
     "name": "stderr",
     "output_type": "stream",
     "text": [
      "[*********************100%***********************]  1 of 1 completed\n"
     ]
    },
    {
     "name": "stdout",
     "output_type": "stream",
     "text": [
      "  492) WMB    : 1305\n",
      "\n"
     ]
    },
    {
     "name": "stderr",
     "output_type": "stream",
     "text": [
      "[*********************100%***********************]  1 of 1 completed\n"
     ]
    },
    {
     "name": "stdout",
     "output_type": "stream",
     "text": [
      "  493) WTW    : 1305\n",
      "\n"
     ]
    },
    {
     "name": "stderr",
     "output_type": "stream",
     "text": [
      "[*********************100%***********************]  1 of 1 completed\n"
     ]
    },
    {
     "name": "stdout",
     "output_type": "stream",
     "text": [
      "  494) WDAY   : 1305\n",
      "\n"
     ]
    },
    {
     "name": "stderr",
     "output_type": "stream",
     "text": [
      "[*********************100%***********************]  1 of 1 completed\n"
     ]
    },
    {
     "name": "stdout",
     "output_type": "stream",
     "text": [
      "  495) WYNN   : 1305\n",
      "\n"
     ]
    },
    {
     "name": "stderr",
     "output_type": "stream",
     "text": [
      "[*********************100%***********************]  1 of 1 completed\n"
     ]
    },
    {
     "name": "stdout",
     "output_type": "stream",
     "text": [
      "  496) XEL    : 1305\n",
      "\n"
     ]
    },
    {
     "name": "stderr",
     "output_type": "stream",
     "text": [
      "[*********************100%***********************]  1 of 1 completed\n"
     ]
    },
    {
     "name": "stdout",
     "output_type": "stream",
     "text": [
      "  497) XYL    : 1305\n",
      "\n"
     ]
    },
    {
     "name": "stderr",
     "output_type": "stream",
     "text": [
      "[*********************100%***********************]  1 of 1 completed\n"
     ]
    },
    {
     "name": "stdout",
     "output_type": "stream",
     "text": [
      "  498) YUM    : 1305\n",
      "\n"
     ]
    },
    {
     "name": "stderr",
     "output_type": "stream",
     "text": [
      "[*********************100%***********************]  1 of 1 completed\n"
     ]
    },
    {
     "name": "stdout",
     "output_type": "stream",
     "text": [
      "  499) ZBRA   : 1305\n",
      "\n"
     ]
    },
    {
     "name": "stderr",
     "output_type": "stream",
     "text": [
      "[*********************100%***********************]  1 of 1 completed\n"
     ]
    },
    {
     "name": "stdout",
     "output_type": "stream",
     "text": [
      "  500) ZBH    : 1305\n",
      "\n"
     ]
    },
    {
     "name": "stderr",
     "output_type": "stream",
     "text": [
      "[*********************100%***********************]  1 of 1 completed"
     ]
    },
    {
     "name": "stdout",
     "output_type": "stream",
     "text": [
      "  501) ZTS    : 1305\n",
      "\n"
     ]
    },
    {
     "name": "stderr",
     "output_type": "stream",
     "text": [
      "\n"
     ]
    }
   ],
   "source": [
    "co_integrate = CoIntegrate()\n",
    "co_integrate.run()"
   ]
  },
  {
   "cell_type": "code",
   "execution_count": null,
   "metadata": {},
   "outputs": [
    {
     "name": "stderr",
     "output_type": "stream",
     "text": [
      "[*********************100%***********************]  1 of 1 completed\n",
      "\n",
      "1 Failed download:\n",
      "['CTAS']: YFPricesMissingError('possibly delisted; no price data found  (1d 2020-01-01 -> 2025-03-13)')\n"
     ]
    },
    {
     "data": {
      "text/html": [
       "<div>\n",
       "<style scoped>\n",
       "    .dataframe tbody tr th:only-of-type {\n",
       "        vertical-align: middle;\n",
       "    }\n",
       "\n",
       "    .dataframe tbody tr th {\n",
       "        vertical-align: top;\n",
       "    }\n",
       "\n",
       "    .dataframe thead tr th {\n",
       "        text-align: left;\n",
       "    }\n",
       "\n",
       "    .dataframe thead tr:last-of-type th {\n",
       "        text-align: right;\n",
       "    }\n",
       "</style>\n",
       "<table border=\"1\" class=\"dataframe\">\n",
       "  <thead>\n",
       "    <tr>\n",
       "      <th>Price</th>\n",
       "      <th>Adj Close</th>\n",
       "      <th>Close</th>\n",
       "      <th>High</th>\n",
       "      <th>Low</th>\n",
       "      <th>Open</th>\n",
       "      <th>Volume</th>\n",
       "    </tr>\n",
       "    <tr>\n",
       "      <th>Ticker</th>\n",
       "      <th>CTAS</th>\n",
       "      <th>CTAS</th>\n",
       "      <th>CTAS</th>\n",
       "      <th>CTAS</th>\n",
       "      <th>CTAS</th>\n",
       "      <th>CTAS</th>\n",
       "    </tr>\n",
       "    <tr>\n",
       "      <th>Date</th>\n",
       "      <th></th>\n",
       "      <th></th>\n",
       "      <th></th>\n",
       "      <th></th>\n",
       "      <th></th>\n",
       "      <th></th>\n",
       "    </tr>\n",
       "  </thead>\n",
       "  <tbody>\n",
       "  </tbody>\n",
       "</table>\n",
       "</div>"
      ],
      "text/plain": [
       "Empty DataFrame\n",
       "Columns: [(Adj Close, CTAS), (Close, CTAS), (High, CTAS), (Low, CTAS), (Open, CTAS), (Volume, CTAS)]\n",
       "Index: []"
      ]
     },
     "execution_count": 7,
     "metadata": {},
     "output_type": "execute_result"
    }
   ],
   "source": [
    "# 'CTAS' OHLCV dta is not available in yfinance\n",
    "yf.download(\"CTAS\", start=\"2020-01-01\")"
   ]
  },
  {
   "cell_type": "code",
   "execution_count": 4,
   "metadata": {},
   "outputs": [
    {
     "data": {
      "text/html": [
       "<div>\n",
       "<style scoped>\n",
       "    .dataframe tbody tr th:only-of-type {\n",
       "        vertical-align: middle;\n",
       "    }\n",
       "\n",
       "    .dataframe tbody tr th {\n",
       "        vertical-align: top;\n",
       "    }\n",
       "\n",
       "    .dataframe thead th {\n",
       "        text-align: right;\n",
       "    }\n",
       "</style>\n",
       "<table border=\"1\" class=\"dataframe\">\n",
       "  <thead>\n",
       "    <tr style=\"text-align: right;\">\n",
       "      <th></th>\n",
       "      <th>ticker1</th>\n",
       "      <th>ticker2</th>\n",
       "      <th>pvalue</th>\n",
       "      <th>coint_t</th>\n",
       "      <th>percent_1</th>\n",
       "      <th>percent_5</th>\n",
       "      <th>percent_10</th>\n",
       "      <th>cointegrate</th>\n",
       "    </tr>\n",
       "  </thead>\n",
       "  <tbody>\n",
       "    <tr>\n",
       "      <th>18170</th>\n",
       "      <td>AAPL</td>\n",
       "      <td>PG</td>\n",
       "      <td>0.000914</td>\n",
       "      <td>-4.576653</td>\n",
       "      <td>-3.905181</td>\n",
       "      <td>-3.340999</td>\n",
       "      <td>-3.047828</td>\n",
       "      <td>1</td>\n",
       "    </tr>\n",
       "    <tr>\n",
       "      <th>18039</th>\n",
       "      <td>AAPL</td>\n",
       "      <td>INCY</td>\n",
       "      <td>0.005623</td>\n",
       "      <td>-4.073665</td>\n",
       "      <td>-3.905181</td>\n",
       "      <td>-3.340999</td>\n",
       "      <td>-3.047828</td>\n",
       "      <td>1</td>\n",
       "    </tr>\n",
       "    <tr>\n",
       "      <th>18121</th>\n",
       "      <td>AAPL</td>\n",
       "      <td>MSI</td>\n",
       "      <td>0.006085</td>\n",
       "      <td>-4.050084</td>\n",
       "      <td>-3.905181</td>\n",
       "      <td>-3.340999</td>\n",
       "      <td>-3.047828</td>\n",
       "      <td>1</td>\n",
       "    </tr>\n",
       "    <tr>\n",
       "      <th>18208</th>\n",
       "      <td>AAPL</td>\n",
       "      <td>SO</td>\n",
       "      <td>0.006984</td>\n",
       "      <td>-4.008461</td>\n",
       "      <td>-3.905181</td>\n",
       "      <td>-3.340999</td>\n",
       "      <td>-3.047828</td>\n",
       "      <td>1</td>\n",
       "    </tr>\n",
       "    <tr>\n",
       "      <th>18148</th>\n",
       "      <td>AAPL</td>\n",
       "      <td>ORCL</td>\n",
       "      <td>0.007844</td>\n",
       "      <td>-3.972982</td>\n",
       "      <td>-3.905181</td>\n",
       "      <td>-3.340999</td>\n",
       "      <td>-3.047828</td>\n",
       "      <td>1</td>\n",
       "    </tr>\n",
       "    <tr>\n",
       "      <th>17845</th>\n",
       "      <td>AAPL</td>\n",
       "      <td>ANET</td>\n",
       "      <td>0.008812</td>\n",
       "      <td>-3.937046</td>\n",
       "      <td>-3.905181</td>\n",
       "      <td>-3.340999</td>\n",
       "      <td>-3.047828</td>\n",
       "      <td>1</td>\n",
       "    </tr>\n",
       "    <tr>\n",
       "      <th>18022</th>\n",
       "      <td>AAPL</td>\n",
       "      <td>HPE</td>\n",
       "      <td>0.009419</td>\n",
       "      <td>-3.916261</td>\n",
       "      <td>-3.905181</td>\n",
       "      <td>-3.340999</td>\n",
       "      <td>-3.047828</td>\n",
       "      <td>1</td>\n",
       "    </tr>\n",
       "    <tr>\n",
       "      <th>18152</th>\n",
       "      <td>AAPL</td>\n",
       "      <td>PANW</td>\n",
       "      <td>0.010237</td>\n",
       "      <td>-3.890069</td>\n",
       "      <td>-3.905181</td>\n",
       "      <td>-3.340999</td>\n",
       "      <td>-3.047828</td>\n",
       "      <td>1</td>\n",
       "    </tr>\n",
       "    <tr>\n",
       "      <th>18178</th>\n",
       "      <td>AAPL</td>\n",
       "      <td>PWR</td>\n",
       "      <td>0.010473</td>\n",
       "      <td>-3.882867</td>\n",
       "      <td>-3.905181</td>\n",
       "      <td>-3.340999</td>\n",
       "      <td>-3.047828</td>\n",
       "      <td>1</td>\n",
       "    </tr>\n",
       "    <tr>\n",
       "      <th>17944</th>\n",
       "      <td>AAPL</td>\n",
       "      <td>DG</td>\n",
       "      <td>0.011050</td>\n",
       "      <td>-3.865832</td>\n",
       "      <td>-3.905181</td>\n",
       "      <td>-3.340999</td>\n",
       "      <td>-3.047828</td>\n",
       "      <td>1</td>\n",
       "    </tr>\n",
       "    <tr>\n",
       "      <th>18023</th>\n",
       "      <td>AAPL</td>\n",
       "      <td>HLT</td>\n",
       "      <td>0.012626</td>\n",
       "      <td>-3.823058</td>\n",
       "      <td>-3.905181</td>\n",
       "      <td>-3.340999</td>\n",
       "      <td>-3.047828</td>\n",
       "      <td>1</td>\n",
       "    </tr>\n",
       "    <tr>\n",
       "      <th>17856</th>\n",
       "      <td>AAPL</td>\n",
       "      <td>BKR</td>\n",
       "      <td>0.014014</td>\n",
       "      <td>-3.789144</td>\n",
       "      <td>-3.905181</td>\n",
       "      <td>-3.340999</td>\n",
       "      <td>-3.047828</td>\n",
       "      <td>1</td>\n",
       "    </tr>\n",
       "    <tr>\n",
       "      <th>18085</th>\n",
       "      <td>AAPL</td>\n",
       "      <td>L</td>\n",
       "      <td>0.014618</td>\n",
       "      <td>-3.775306</td>\n",
       "      <td>-3.905181</td>\n",
       "      <td>-3.340999</td>\n",
       "      <td>-3.047828</td>\n",
       "      <td>1</td>\n",
       "    </tr>\n",
       "    <tr>\n",
       "      <th>18147</th>\n",
       "      <td>AAPL</td>\n",
       "      <td>OKE</td>\n",
       "      <td>0.014662</td>\n",
       "      <td>-3.774318</td>\n",
       "      <td>-3.905181</td>\n",
       "      <td>-3.340999</td>\n",
       "      <td>-3.047828</td>\n",
       "      <td>1</td>\n",
       "    </tr>\n",
       "    <tr>\n",
       "      <th>18027</th>\n",
       "      <td>AAPL</td>\n",
       "      <td>HRL</td>\n",
       "      <td>0.015148</td>\n",
       "      <td>-3.763589</td>\n",
       "      <td>-3.905181</td>\n",
       "      <td>-3.340999</td>\n",
       "      <td>-3.047828</td>\n",
       "      <td>1</td>\n",
       "    </tr>\n",
       "    <tr>\n",
       "      <th>18174</th>\n",
       "      <td>AAPL</td>\n",
       "      <td>PEG</td>\n",
       "      <td>0.015544</td>\n",
       "      <td>-3.755050</td>\n",
       "      <td>-3.905181</td>\n",
       "      <td>-3.340999</td>\n",
       "      <td>-3.047828</td>\n",
       "      <td>1</td>\n",
       "    </tr>\n",
       "    <tr>\n",
       "      <th>18052</th>\n",
       "      <td>AAPL</td>\n",
       "      <td>IRM</td>\n",
       "      <td>0.015839</td>\n",
       "      <td>-3.748830</td>\n",
       "      <td>-3.905181</td>\n",
       "      <td>-3.340999</td>\n",
       "      <td>-3.047828</td>\n",
       "      <td>1</td>\n",
       "    </tr>\n",
       "    <tr>\n",
       "      <th>17924</th>\n",
       "      <td>AAPL</td>\n",
       "      <td>COST</td>\n",
       "      <td>0.016530</td>\n",
       "      <td>-3.734621</td>\n",
       "      <td>-3.905181</td>\n",
       "      <td>-3.340999</td>\n",
       "      <td>-3.047828</td>\n",
       "      <td>1</td>\n",
       "    </tr>\n",
       "    <tr>\n",
       "      <th>17888</th>\n",
       "      <td>AAPL</td>\n",
       "      <td>CBOE</td>\n",
       "      <td>0.016910</td>\n",
       "      <td>-3.727030</td>\n",
       "      <td>-3.905181</td>\n",
       "      <td>-3.340999</td>\n",
       "      <td>-3.047828</td>\n",
       "      <td>1</td>\n",
       "    </tr>\n",
       "    <tr>\n",
       "      <th>17916</th>\n",
       "      <td>AAPL</td>\n",
       "      <td>ED</td>\n",
       "      <td>0.019577</td>\n",
       "      <td>-3.677586</td>\n",
       "      <td>-3.905181</td>\n",
       "      <td>-3.340999</td>\n",
       "      <td>-3.047828</td>\n",
       "      <td>1</td>\n",
       "    </tr>\n",
       "    <tr>\n",
       "      <th>18092</th>\n",
       "      <td>AAPL</td>\n",
       "      <td>MAR</td>\n",
       "      <td>0.020426</td>\n",
       "      <td>-3.663081</td>\n",
       "      <td>-3.905181</td>\n",
       "      <td>-3.340999</td>\n",
       "      <td>-3.047828</td>\n",
       "      <td>1</td>\n",
       "    </tr>\n",
       "    <tr>\n",
       "      <th>17871</th>\n",
       "      <td>AAPL</td>\n",
       "      <td>AVGO</td>\n",
       "      <td>0.022105</td>\n",
       "      <td>-3.635877</td>\n",
       "      <td>-3.905181</td>\n",
       "      <td>-3.340999</td>\n",
       "      <td>-3.047828</td>\n",
       "      <td>1</td>\n",
       "    </tr>\n",
       "    <tr>\n",
       "      <th>17900</th>\n",
       "      <td>AAPL</td>\n",
       "      <td>CB</td>\n",
       "      <td>0.022818</td>\n",
       "      <td>-3.624868</td>\n",
       "      <td>-3.905181</td>\n",
       "      <td>-3.340999</td>\n",
       "      <td>-3.047828</td>\n",
       "      <td>1</td>\n",
       "    </tr>\n",
       "    <tr>\n",
       "      <th>18151</th>\n",
       "      <td>AAPL</td>\n",
       "      <td>PKG</td>\n",
       "      <td>0.023483</td>\n",
       "      <td>-3.614868</td>\n",
       "      <td>-3.905181</td>\n",
       "      <td>-3.340999</td>\n",
       "      <td>-3.047828</td>\n",
       "      <td>1</td>\n",
       "    </tr>\n",
       "    <tr>\n",
       "      <th>17846</th>\n",
       "      <td>AAPL</td>\n",
       "      <td>AJG</td>\n",
       "      <td>0.025093</td>\n",
       "      <td>-3.591620</td>\n",
       "      <td>-3.905181</td>\n",
       "      <td>-3.340999</td>\n",
       "      <td>-3.047828</td>\n",
       "      <td>1</td>\n",
       "    </tr>\n",
       "    <tr>\n",
       "      <th>18093</th>\n",
       "      <td>AAPL</td>\n",
       "      <td>MMC</td>\n",
       "      <td>0.025353</td>\n",
       "      <td>-3.587980</td>\n",
       "      <td>-3.905181</td>\n",
       "      <td>-3.340999</td>\n",
       "      <td>-3.047828</td>\n",
       "      <td>1</td>\n",
       "    </tr>\n",
       "    <tr>\n",
       "      <th>18091</th>\n",
       "      <td>AAPL</td>\n",
       "      <td>MKTX</td>\n",
       "      <td>0.026650</td>\n",
       "      <td>-3.570330</td>\n",
       "      <td>-3.905181</td>\n",
       "      <td>-3.340999</td>\n",
       "      <td>-3.047828</td>\n",
       "      <td>1</td>\n",
       "    </tr>\n",
       "    <tr>\n",
       "      <th>18224</th>\n",
       "      <td>AAPL</td>\n",
       "      <td>TRGP</td>\n",
       "      <td>0.028001</td>\n",
       "      <td>-3.552693</td>\n",
       "      <td>-3.905181</td>\n",
       "      <td>-3.340999</td>\n",
       "      <td>-3.047828</td>\n",
       "      <td>1</td>\n",
       "    </tr>\n",
       "    <tr>\n",
       "      <th>18267</th>\n",
       "      <td>AAPL</td>\n",
       "      <td>WAB</td>\n",
       "      <td>0.029928</td>\n",
       "      <td>-3.528774</td>\n",
       "      <td>-3.905181</td>\n",
       "      <td>-3.340999</td>\n",
       "      <td>-3.047828</td>\n",
       "      <td>1</td>\n",
       "    </tr>\n",
       "    <tr>\n",
       "      <th>4862</th>\n",
       "      <td>APD</td>\n",
       "      <td>AAPL</td>\n",
       "      <td>0.032147</td>\n",
       "      <td>-3.502809</td>\n",
       "      <td>-3.905181</td>\n",
       "      <td>-3.340999</td>\n",
       "      <td>-3.047828</td>\n",
       "      <td>1</td>\n",
       "    </tr>\n",
       "    <tr>\n",
       "      <th>17873</th>\n",
       "      <td>AAPL</td>\n",
       "      <td>BRO</td>\n",
       "      <td>0.033052</td>\n",
       "      <td>-3.492653</td>\n",
       "      <td>-3.905181</td>\n",
       "      <td>-3.340999</td>\n",
       "      <td>-3.047828</td>\n",
       "      <td>1</td>\n",
       "    </tr>\n",
       "    <tr>\n",
       "      <th>18139</th>\n",
       "      <td>AAPL</td>\n",
       "      <td>NVDA</td>\n",
       "      <td>0.033088</td>\n",
       "      <td>-3.492255</td>\n",
       "      <td>-3.905181</td>\n",
       "      <td>-3.340999</td>\n",
       "      <td>-3.047828</td>\n",
       "      <td>1</td>\n",
       "    </tr>\n",
       "    <tr>\n",
       "      <th>18236</th>\n",
       "      <td>AAPL</td>\n",
       "      <td>TSCO</td>\n",
       "      <td>0.033363</td>\n",
       "      <td>-3.489220</td>\n",
       "      <td>-3.905181</td>\n",
       "      <td>-3.340999</td>\n",
       "      <td>-3.047828</td>\n",
       "      <td>1</td>\n",
       "    </tr>\n",
       "    <tr>\n",
       "      <th>18188</th>\n",
       "      <td>AAPL</td>\n",
       "      <td>RSG</td>\n",
       "      <td>0.033761</td>\n",
       "      <td>-3.484864</td>\n",
       "      <td>-3.905181</td>\n",
       "      <td>-3.340999</td>\n",
       "      <td>-3.047828</td>\n",
       "      <td>1</td>\n",
       "    </tr>\n",
       "    <tr>\n",
       "      <th>18264</th>\n",
       "      <td>AAPL</td>\n",
       "      <td>VMC</td>\n",
       "      <td>0.034732</td>\n",
       "      <td>-3.474417</td>\n",
       "      <td>-3.905181</td>\n",
       "      <td>-3.340999</td>\n",
       "      <td>-3.047828</td>\n",
       "      <td>1</td>\n",
       "    </tr>\n",
       "    <tr>\n",
       "      <th>18183</th>\n",
       "      <td>AAPL</td>\n",
       "      <td>RTX</td>\n",
       "      <td>0.034835</td>\n",
       "      <td>-3.473316</td>\n",
       "      <td>-3.905181</td>\n",
       "      <td>-3.340999</td>\n",
       "      <td>-3.047828</td>\n",
       "      <td>1</td>\n",
       "    </tr>\n",
       "    <tr>\n",
       "      <th>18272</th>\n",
       "      <td>AAPL</td>\n",
       "      <td>WM</td>\n",
       "      <td>0.035288</td>\n",
       "      <td>-3.468542</td>\n",
       "      <td>-3.905181</td>\n",
       "      <td>-3.340999</td>\n",
       "      <td>-3.047828</td>\n",
       "      <td>1</td>\n",
       "    </tr>\n",
       "    <tr>\n",
       "      <th>17887</th>\n",
       "      <td>AAPL</td>\n",
       "      <td>CAT</td>\n",
       "      <td>0.036236</td>\n",
       "      <td>-3.458708</td>\n",
       "      <td>-3.905181</td>\n",
       "      <td>-3.340999</td>\n",
       "      <td>-3.047828</td>\n",
       "      <td>1</td>\n",
       "    </tr>\n",
       "    <tr>\n",
       "      <th>18275</th>\n",
       "      <td>AAPL</td>\n",
       "      <td>WFC</td>\n",
       "      <td>0.037567</td>\n",
       "      <td>-3.445249</td>\n",
       "      <td>-3.905181</td>\n",
       "      <td>-3.340999</td>\n",
       "      <td>-3.047828</td>\n",
       "      <td>1</td>\n",
       "    </tr>\n",
       "    <tr>\n",
       "      <th>18071</th>\n",
       "      <td>AAPL</td>\n",
       "      <td>KR</td>\n",
       "      <td>0.039127</td>\n",
       "      <td>-3.429988</td>\n",
       "      <td>-3.905181</td>\n",
       "      <td>-3.340999</td>\n",
       "      <td>-3.047828</td>\n",
       "      <td>1</td>\n",
       "    </tr>\n",
       "    <tr>\n",
       "      <th>18164</th>\n",
       "      <td>AAPL</td>\n",
       "      <td>PNW</td>\n",
       "      <td>0.039300</td>\n",
       "      <td>-3.428333</td>\n",
       "      <td>-3.905181</td>\n",
       "      <td>-3.340999</td>\n",
       "      <td>-3.047828</td>\n",
       "      <td>1</td>\n",
       "    </tr>\n",
       "    <tr>\n",
       "      <th>17843</th>\n",
       "      <td>AAPL</td>\n",
       "      <td>ACGL</td>\n",
       "      <td>0.040337</td>\n",
       "      <td>-3.418497</td>\n",
       "      <td>-3.905181</td>\n",
       "      <td>-3.340999</td>\n",
       "      <td>-3.047828</td>\n",
       "      <td>1</td>\n",
       "    </tr>\n",
       "    <tr>\n",
       "      <th>18015</th>\n",
       "      <td>AAPL</td>\n",
       "      <td>HIG</td>\n",
       "      <td>0.043868</td>\n",
       "      <td>-3.386541</td>\n",
       "      <td>-3.905181</td>\n",
       "      <td>-3.340999</td>\n",
       "      <td>-3.047828</td>\n",
       "      <td>1</td>\n",
       "    </tr>\n",
       "    <tr>\n",
       "      <th>10520</th>\n",
       "      <td>AMCR</td>\n",
       "      <td>AAPL</td>\n",
       "      <td>0.045204</td>\n",
       "      <td>-3.375000</td>\n",
       "      <td>-3.905181</td>\n",
       "      <td>-3.340999</td>\n",
       "      <td>-3.047828</td>\n",
       "      <td>1</td>\n",
       "    </tr>\n",
       "    <tr>\n",
       "      <th>18080</th>\n",
       "      <td>AAPL</td>\n",
       "      <td>LLY</td>\n",
       "      <td>0.045516</td>\n",
       "      <td>-3.372351</td>\n",
       "      <td>-3.905181</td>\n",
       "      <td>-3.340999</td>\n",
       "      <td>-3.047828</td>\n",
       "      <td>1</td>\n",
       "    </tr>\n",
       "    <tr>\n",
       "      <th>17891</th>\n",
       "      <td>AAPL</td>\n",
       "      <td>COR</td>\n",
       "      <td>0.045592</td>\n",
       "      <td>-3.371706</td>\n",
       "      <td>-3.905181</td>\n",
       "      <td>-3.340999</td>\n",
       "      <td>-3.047828</td>\n",
       "      <td>1</td>\n",
       "    </tr>\n",
       "    <tr>\n",
       "      <th>17955</th>\n",
       "      <td>AAPL</td>\n",
       "      <td>ETN</td>\n",
       "      <td>0.045951</td>\n",
       "      <td>-3.368677</td>\n",
       "      <td>-3.905181</td>\n",
       "      <td>-3.340999</td>\n",
       "      <td>-3.047828</td>\n",
       "      <td>1</td>\n",
       "    </tr>\n",
       "    <tr>\n",
       "      <th>17973</th>\n",
       "      <td>AAPL</td>\n",
       "      <td>EL</td>\n",
       "      <td>0.046249</td>\n",
       "      <td>-3.366175</td>\n",
       "      <td>-3.905181</td>\n",
       "      <td>-3.340999</td>\n",
       "      <td>-3.047828</td>\n",
       "      <td>1</td>\n",
       "    </tr>\n",
       "    <tr>\n",
       "      <th>18131</th>\n",
       "      <td>AAPL</td>\n",
       "      <td>NI</td>\n",
       "      <td>0.046499</td>\n",
       "      <td>-3.364089</td>\n",
       "      <td>-3.905181</td>\n",
       "      <td>-3.340999</td>\n",
       "      <td>-3.047828</td>\n",
       "      <td>1</td>\n",
       "    </tr>\n",
       "    <tr>\n",
       "      <th>18100</th>\n",
       "      <td>AAPL</td>\n",
       "      <td>MCK</td>\n",
       "      <td>0.046922</td>\n",
       "      <td>-3.360574</td>\n",
       "      <td>-3.905181</td>\n",
       "      <td>-3.340999</td>\n",
       "      <td>-3.047828</td>\n",
       "      <td>1</td>\n",
       "    </tr>\n",
       "    <tr>\n",
       "      <th>3905</th>\n",
       "      <td>AFL</td>\n",
       "      <td>AAPL</td>\n",
       "      <td>0.047391</td>\n",
       "      <td>-3.356712</td>\n",
       "      <td>-3.905181</td>\n",
       "      <td>-3.340999</td>\n",
       "      <td>-3.047828</td>\n",
       "      <td>1</td>\n",
       "    </tr>\n",
       "  </tbody>\n",
       "</table>\n",
       "</div>"
      ],
      "text/plain": [
       "      ticker1 ticker2    pvalue   coint_t  percent_1  percent_5  percent_10  \\\n",
       "18170    AAPL      PG  0.000914 -4.576653  -3.905181  -3.340999   -3.047828   \n",
       "18039    AAPL    INCY  0.005623 -4.073665  -3.905181  -3.340999   -3.047828   \n",
       "18121    AAPL     MSI  0.006085 -4.050084  -3.905181  -3.340999   -3.047828   \n",
       "18208    AAPL      SO  0.006984 -4.008461  -3.905181  -3.340999   -3.047828   \n",
       "18148    AAPL    ORCL  0.007844 -3.972982  -3.905181  -3.340999   -3.047828   \n",
       "17845    AAPL    ANET  0.008812 -3.937046  -3.905181  -3.340999   -3.047828   \n",
       "18022    AAPL     HPE  0.009419 -3.916261  -3.905181  -3.340999   -3.047828   \n",
       "18152    AAPL    PANW  0.010237 -3.890069  -3.905181  -3.340999   -3.047828   \n",
       "18178    AAPL     PWR  0.010473 -3.882867  -3.905181  -3.340999   -3.047828   \n",
       "17944    AAPL      DG  0.011050 -3.865832  -3.905181  -3.340999   -3.047828   \n",
       "18023    AAPL     HLT  0.012626 -3.823058  -3.905181  -3.340999   -3.047828   \n",
       "17856    AAPL     BKR  0.014014 -3.789144  -3.905181  -3.340999   -3.047828   \n",
       "18085    AAPL       L  0.014618 -3.775306  -3.905181  -3.340999   -3.047828   \n",
       "18147    AAPL     OKE  0.014662 -3.774318  -3.905181  -3.340999   -3.047828   \n",
       "18027    AAPL     HRL  0.015148 -3.763589  -3.905181  -3.340999   -3.047828   \n",
       "18174    AAPL     PEG  0.015544 -3.755050  -3.905181  -3.340999   -3.047828   \n",
       "18052    AAPL     IRM  0.015839 -3.748830  -3.905181  -3.340999   -3.047828   \n",
       "17924    AAPL    COST  0.016530 -3.734621  -3.905181  -3.340999   -3.047828   \n",
       "17888    AAPL    CBOE  0.016910 -3.727030  -3.905181  -3.340999   -3.047828   \n",
       "17916    AAPL      ED  0.019577 -3.677586  -3.905181  -3.340999   -3.047828   \n",
       "18092    AAPL     MAR  0.020426 -3.663081  -3.905181  -3.340999   -3.047828   \n",
       "17871    AAPL    AVGO  0.022105 -3.635877  -3.905181  -3.340999   -3.047828   \n",
       "17900    AAPL      CB  0.022818 -3.624868  -3.905181  -3.340999   -3.047828   \n",
       "18151    AAPL     PKG  0.023483 -3.614868  -3.905181  -3.340999   -3.047828   \n",
       "17846    AAPL     AJG  0.025093 -3.591620  -3.905181  -3.340999   -3.047828   \n",
       "18093    AAPL     MMC  0.025353 -3.587980  -3.905181  -3.340999   -3.047828   \n",
       "18091    AAPL    MKTX  0.026650 -3.570330  -3.905181  -3.340999   -3.047828   \n",
       "18224    AAPL    TRGP  0.028001 -3.552693  -3.905181  -3.340999   -3.047828   \n",
       "18267    AAPL     WAB  0.029928 -3.528774  -3.905181  -3.340999   -3.047828   \n",
       "4862      APD    AAPL  0.032147 -3.502809  -3.905181  -3.340999   -3.047828   \n",
       "17873    AAPL     BRO  0.033052 -3.492653  -3.905181  -3.340999   -3.047828   \n",
       "18139    AAPL    NVDA  0.033088 -3.492255  -3.905181  -3.340999   -3.047828   \n",
       "18236    AAPL    TSCO  0.033363 -3.489220  -3.905181  -3.340999   -3.047828   \n",
       "18188    AAPL     RSG  0.033761 -3.484864  -3.905181  -3.340999   -3.047828   \n",
       "18264    AAPL     VMC  0.034732 -3.474417  -3.905181  -3.340999   -3.047828   \n",
       "18183    AAPL     RTX  0.034835 -3.473316  -3.905181  -3.340999   -3.047828   \n",
       "18272    AAPL      WM  0.035288 -3.468542  -3.905181  -3.340999   -3.047828   \n",
       "17887    AAPL     CAT  0.036236 -3.458708  -3.905181  -3.340999   -3.047828   \n",
       "18275    AAPL     WFC  0.037567 -3.445249  -3.905181  -3.340999   -3.047828   \n",
       "18071    AAPL      KR  0.039127 -3.429988  -3.905181  -3.340999   -3.047828   \n",
       "18164    AAPL     PNW  0.039300 -3.428333  -3.905181  -3.340999   -3.047828   \n",
       "17843    AAPL    ACGL  0.040337 -3.418497  -3.905181  -3.340999   -3.047828   \n",
       "18015    AAPL     HIG  0.043868 -3.386541  -3.905181  -3.340999   -3.047828   \n",
       "10520    AMCR    AAPL  0.045204 -3.375000  -3.905181  -3.340999   -3.047828   \n",
       "18080    AAPL     LLY  0.045516 -3.372351  -3.905181  -3.340999   -3.047828   \n",
       "17891    AAPL     COR  0.045592 -3.371706  -3.905181  -3.340999   -3.047828   \n",
       "17955    AAPL     ETN  0.045951 -3.368677  -3.905181  -3.340999   -3.047828   \n",
       "17973    AAPL      EL  0.046249 -3.366175  -3.905181  -3.340999   -3.047828   \n",
       "18131    AAPL      NI  0.046499 -3.364089  -3.905181  -3.340999   -3.047828   \n",
       "18100    AAPL     MCK  0.046922 -3.360574  -3.905181  -3.340999   -3.047828   \n",
       "3905      AFL    AAPL  0.047391 -3.356712  -3.905181  -3.340999   -3.047828   \n",
       "\n",
       "       cointegrate  \n",
       "18170            1  \n",
       "18039            1  \n",
       "18121            1  \n",
       "18208            1  \n",
       "18148            1  \n",
       "17845            1  \n",
       "18022            1  \n",
       "18152            1  \n",
       "18178            1  \n",
       "17944            1  \n",
       "18023            1  \n",
       "17856            1  \n",
       "18085            1  \n",
       "18147            1  \n",
       "18027            1  \n",
       "18174            1  \n",
       "18052            1  \n",
       "17924            1  \n",
       "17888            1  \n",
       "17916            1  \n",
       "18092            1  \n",
       "17871            1  \n",
       "17900            1  \n",
       "18151            1  \n",
       "17846            1  \n",
       "18093            1  \n",
       "18091            1  \n",
       "18224            1  \n",
       "18267            1  \n",
       "4862             1  \n",
       "17873            1  \n",
       "18139            1  \n",
       "18236            1  \n",
       "18188            1  \n",
       "18264            1  \n",
       "18183            1  \n",
       "18272            1  \n",
       "17887            1  \n",
       "18275            1  \n",
       "18071            1  \n",
       "18164            1  \n",
       "17843            1  \n",
       "18015            1  \n",
       "10520            1  \n",
       "18080            1  \n",
       "17891            1  \n",
       "17955            1  \n",
       "17973            1  \n",
       "18131            1  \n",
       "18100            1  \n",
       "3905             1  "
      ]
     },
     "execution_count": 4,
     "metadata": {},
     "output_type": "execute_result"
    }
   ],
   "source": [
    "# Cointegration stocks with 'AAPL' ticker\n",
    "df_28 = utils.get_coint_ticker(\"AAPL\", \"2025-03-28\")\n",
    "df_28"
   ]
  },
  {
   "cell_type": "code",
   "execution_count": 3,
   "metadata": {},
   "outputs": [
    {
     "data": {
      "text/plain": [
       "(np.float64(0.8207826816681233), np.float64(0.08858700531354381))"
      ]
     },
     "execution_count": 3,
     "metadata": {},
     "output_type": "execute_result"
    }
   ],
   "source": [
    "from scipy import stats\n",
    "\n",
    "res = stats.spearmanr([1, 2, 3, 4, 5], [5, 6, 7, 8, 7])\n",
    "res.statistic, res.pvalue"
   ]
  },
  {
   "cell_type": "code",
   "execution_count": 4,
   "metadata": {},
   "outputs": [
    {
     "data": {
      "text/plain": [
       "(np.float64(0.8320502943378436), np.float64(0.0805095732984986))"
      ]
     },
     "execution_count": 4,
     "metadata": {},
     "output_type": "execute_result"
    }
   ],
   "source": [
    "res = stats.pearsonr([1, 2, 3, 4, 5], [5, 6, 7, 8, 7])\n",
    "res.statistic, res.pvalue"
   ]
  },
  {
   "cell_type": "code",
   "execution_count": 5,
   "metadata": {},
   "outputs": [
    {
     "data": {
      "text/plain": [
       "(np.float64(0.7378647873726218), np.float64(0.07697417298126674))"
      ]
     },
     "execution_count": 5,
     "metadata": {},
     "output_type": "execute_result"
    }
   ],
   "source": [
    "res = stats.kendalltau([1, 2, 3, 4, 5], [5, 6, 7, 8, 7])\n",
    "res.statistic, res.pvalue"
   ]
  },
  {
   "cell_type": "markdown",
   "metadata": {},
   "source": [
    "## Analyze AAPL\n"
   ]
  },
  {
   "cell_type": "code",
   "execution_count": 5,
   "metadata": {},
   "outputs": [
    {
     "data": {
      "text/html": [
       "<div>\n",
       "<style scoped>\n",
       "    .dataframe tbody tr th:only-of-type {\n",
       "        vertical-align: middle;\n",
       "    }\n",
       "\n",
       "    .dataframe tbody tr th {\n",
       "        vertical-align: top;\n",
       "    }\n",
       "\n",
       "    .dataframe thead th {\n",
       "        text-align: right;\n",
       "    }\n",
       "</style>\n",
       "<table border=\"1\" class=\"dataframe\">\n",
       "  <thead>\n",
       "    <tr style=\"text-align: right;\">\n",
       "      <th></th>\n",
       "      <th>date1</th>\n",
       "      <th>period1</th>\n",
       "      <th>top_20_tickers1</th>\n",
       "      <th>date2</th>\n",
       "      <th>period2</th>\n",
       "      <th>top_20_tickers2</th>\n",
       "      <th>num_common</th>\n",
       "      <th>common_tickers</th>\n",
       "    </tr>\n",
       "  </thead>\n",
       "  <tbody>\n",
       "    <tr>\n",
       "      <th>0</th>\n",
       "      <td>2025-03-13</td>\n",
       "      <td>1</td>\n",
       "      <td>VLO, PSX, CSGP, COP, TJX, LII, MOS, MPC, EQIX,...</td>\n",
       "      <td>2025-03-13</td>\n",
       "      <td>3</td>\n",
       "      <td>DVN, APA, OXY, VRSK, TYL, ORCL, SPGI, EL, LKQ,...</td>\n",
       "      <td>1</td>\n",
       "      <td>EQIX</td>\n",
       "    </tr>\n",
       "    <tr>\n",
       "      <th>1</th>\n",
       "      <td>2025-03-13</td>\n",
       "      <td>1</td>\n",
       "      <td>VLO, PSX, CSGP, COP, TJX, LII, MOS, MPC, EQIX,...</td>\n",
       "      <td>2025-03-13</td>\n",
       "      <td>5</td>\n",
       "      <td>PG, OKE, BKR, HPE, MAR, L, PEG, WFC, SPG, PPL,...</td>\n",
       "      <td>0</td>\n",
       "      <td></td>\n",
       "    </tr>\n",
       "    <tr>\n",
       "      <th>2</th>\n",
       "      <td>2025-03-13</td>\n",
       "      <td>1</td>\n",
       "      <td>VLO, PSX, CSGP, COP, TJX, LII, MOS, MPC, EQIX,...</td>\n",
       "      <td>2025-03-26</td>\n",
       "      <td>1</td>\n",
       "      <td>LII, MOS, PSX, TJX, VLO, CSGP, ZBH, GEN, NVDA,...</td>\n",
       "      <td>8</td>\n",
       "      <td>VLO, PSX, CSGP, COP, TJX, LII, MOS, ZBH</td>\n",
       "    </tr>\n",
       "    <tr>\n",
       "      <th>3</th>\n",
       "      <td>2025-03-13</td>\n",
       "      <td>1</td>\n",
       "      <td>VLO, PSX, CSGP, COP, TJX, LII, MOS, MPC, EQIX,...</td>\n",
       "      <td>2025-03-26</td>\n",
       "      <td>3</td>\n",
       "      <td>APA, VRSK, ORCL, DVN, EL, WBA, TYL, OXY, ARE, ...</td>\n",
       "      <td>2</td>\n",
       "      <td>MOS, EQIX</td>\n",
       "    </tr>\n",
       "    <tr>\n",
       "      <th>4</th>\n",
       "      <td>2025-03-13</td>\n",
       "      <td>1</td>\n",
       "      <td>VLO, PSX, CSGP, COP, TJX, LII, MOS, MPC, EQIX,...</td>\n",
       "      <td>2025-03-26</td>\n",
       "      <td>5</td>\n",
       "      <td>PG, OKE, MSI, HRL, HPE, PANW, INCY, DG, ANET, ...</td>\n",
       "      <td>0</td>\n",
       "      <td></td>\n",
       "    </tr>\n",
       "    <tr>\n",
       "      <th>5</th>\n",
       "      <td>2025-03-13</td>\n",
       "      <td>1</td>\n",
       "      <td>VLO, PSX, CSGP, COP, TJX, LII, MOS, MPC, EQIX,...</td>\n",
       "      <td>2025-03-28</td>\n",
       "      <td>1</td>\n",
       "      <td>MOS, TJX, LII, VLO, PSX, CSGP, KMX, GEN, ZBH, ...</td>\n",
       "      <td>7</td>\n",
       "      <td>VLO, PSX, CSGP, TJX, LII, MOS, ZBH</td>\n",
       "    </tr>\n",
       "    <tr>\n",
       "      <th>6</th>\n",
       "      <td>2025-03-13</td>\n",
       "      <td>1</td>\n",
       "      <td>VLO, PSX, CSGP, COP, TJX, LII, MOS, MPC, EQIX,...</td>\n",
       "      <td>2025-03-28</td>\n",
       "      <td>3</td>\n",
       "      <td>APA, EL, VRSK, WBA, ARE, DVN, ORCL, OXY, TYL, ...</td>\n",
       "      <td>0</td>\n",
       "      <td></td>\n",
       "    </tr>\n",
       "    <tr>\n",
       "      <th>7</th>\n",
       "      <td>2025-03-13</td>\n",
       "      <td>1</td>\n",
       "      <td>VLO, PSX, CSGP, COP, TJX, LII, MOS, MPC, EQIX,...</td>\n",
       "      <td>2025-03-28</td>\n",
       "      <td>5</td>\n",
       "      <td>PG, INCY, MSI, SO, ORCL, ANET, HPE, PANW, PWR,...</td>\n",
       "      <td>0</td>\n",
       "      <td></td>\n",
       "    </tr>\n",
       "    <tr>\n",
       "      <th>8</th>\n",
       "      <td>2025-03-13</td>\n",
       "      <td>3</td>\n",
       "      <td>DVN, APA, OXY, VRSK, TYL, ORCL, SPGI, EL, LKQ,...</td>\n",
       "      <td>2025-03-13</td>\n",
       "      <td>5</td>\n",
       "      <td>PG, OKE, BKR, HPE, MAR, L, PEG, WFC, SPG, PPL,...</td>\n",
       "      <td>0</td>\n",
       "      <td></td>\n",
       "    </tr>\n",
       "    <tr>\n",
       "      <th>9</th>\n",
       "      <td>2025-03-13</td>\n",
       "      <td>3</td>\n",
       "      <td>DVN, APA, OXY, VRSK, TYL, ORCL, SPGI, EL, LKQ,...</td>\n",
       "      <td>2025-03-26</td>\n",
       "      <td>1</td>\n",
       "      <td>LII, MOS, PSX, TJX, VLO, CSGP, ZBH, GEN, NVDA,...</td>\n",
       "      <td>1</td>\n",
       "      <td>EL</td>\n",
       "    </tr>\n",
       "    <tr>\n",
       "      <th>10</th>\n",
       "      <td>2025-03-13</td>\n",
       "      <td>3</td>\n",
       "      <td>DVN, APA, OXY, VRSK, TYL, ORCL, SPGI, EL, LKQ,...</td>\n",
       "      <td>2025-03-26</td>\n",
       "      <td>3</td>\n",
       "      <td>APA, VRSK, ORCL, DVN, EL, WBA, TYL, OXY, ARE, ...</td>\n",
       "      <td>15</td>\n",
       "      <td>DVN, APA, OXY, VRSK, TYL, ORCL, SPGI, EL, MCO,...</td>\n",
       "    </tr>\n",
       "    <tr>\n",
       "      <th>11</th>\n",
       "      <td>2025-03-13</td>\n",
       "      <td>3</td>\n",
       "      <td>DVN, APA, OXY, VRSK, TYL, ORCL, SPGI, EL, LKQ,...</td>\n",
       "      <td>2025-03-26</td>\n",
       "      <td>5</td>\n",
       "      <td>PG, OKE, MSI, HRL, HPE, PANW, INCY, DG, ANET, ...</td>\n",
       "      <td>4</td>\n",
       "      <td>ORCL, ANET, PWR, DG</td>\n",
       "    </tr>\n",
       "    <tr>\n",
       "      <th>12</th>\n",
       "      <td>2025-03-13</td>\n",
       "      <td>3</td>\n",
       "      <td>DVN, APA, OXY, VRSK, TYL, ORCL, SPGI, EL, LKQ,...</td>\n",
       "      <td>2025-03-28</td>\n",
       "      <td>1</td>\n",
       "      <td>MOS, TJX, LII, VLO, PSX, CSGP, KMX, GEN, ZBH, ...</td>\n",
       "      <td>0</td>\n",
       "      <td></td>\n",
       "    </tr>\n",
       "    <tr>\n",
       "      <th>13</th>\n",
       "      <td>2025-03-13</td>\n",
       "      <td>3</td>\n",
       "      <td>DVN, APA, OXY, VRSK, TYL, ORCL, SPGI, EL, LKQ,...</td>\n",
       "      <td>2025-03-28</td>\n",
       "      <td>3</td>\n",
       "      <td>APA, EL, VRSK, WBA, ARE, DVN, ORCL, OXY, TYL, ...</td>\n",
       "      <td>15</td>\n",
       "      <td>DVN, APA, OXY, VRSK, TYL, ORCL, SPGI, EL, MCO,...</td>\n",
       "    </tr>\n",
       "    <tr>\n",
       "      <th>14</th>\n",
       "      <td>2025-03-13</td>\n",
       "      <td>3</td>\n",
       "      <td>DVN, APA, OXY, VRSK, TYL, ORCL, SPGI, EL, LKQ,...</td>\n",
       "      <td>2025-03-28</td>\n",
       "      <td>5</td>\n",
       "      <td>PG, INCY, MSI, SO, ORCL, ANET, HPE, PANW, PWR,...</td>\n",
       "      <td>4</td>\n",
       "      <td>ORCL, ANET, PWR, DG</td>\n",
       "    </tr>\n",
       "    <tr>\n",
       "      <th>15</th>\n",
       "      <td>2025-03-13</td>\n",
       "      <td>5</td>\n",
       "      <td>PG, OKE, BKR, HPE, MAR, L, PEG, WFC, SPG, PPL,...</td>\n",
       "      <td>2025-03-26</td>\n",
       "      <td>1</td>\n",
       "      <td>LII, MOS, PSX, TJX, VLO, CSGP, ZBH, GEN, NVDA,...</td>\n",
       "      <td>0</td>\n",
       "      <td></td>\n",
       "    </tr>\n",
       "    <tr>\n",
       "      <th>16</th>\n",
       "      <td>2025-03-13</td>\n",
       "      <td>5</td>\n",
       "      <td>PG, OKE, BKR, HPE, MAR, L, PEG, WFC, SPG, PPL,...</td>\n",
       "      <td>2025-03-26</td>\n",
       "      <td>3</td>\n",
       "      <td>APA, VRSK, ORCL, DVN, EL, WBA, TYL, OXY, ARE, ...</td>\n",
       "      <td>0</td>\n",
       "      <td></td>\n",
       "    </tr>\n",
       "    <tr>\n",
       "      <th>17</th>\n",
       "      <td>2025-03-13</td>\n",
       "      <td>5</td>\n",
       "      <td>PG, OKE, BKR, HPE, MAR, L, PEG, WFC, SPG, PPL,...</td>\n",
       "      <td>2025-03-26</td>\n",
       "      <td>5</td>\n",
       "      <td>PG, OKE, MSI, HRL, HPE, PANW, INCY, DG, ANET, ...</td>\n",
       "      <td>9</td>\n",
       "      <td>PG, OKE, BKR, HPE, MAR, L, PEG, HLT, SO</td>\n",
       "    </tr>\n",
       "    <tr>\n",
       "      <th>18</th>\n",
       "      <td>2025-03-13</td>\n",
       "      <td>5</td>\n",
       "      <td>PG, OKE, BKR, HPE, MAR, L, PEG, WFC, SPG, PPL,...</td>\n",
       "      <td>2025-03-28</td>\n",
       "      <td>1</td>\n",
       "      <td>MOS, TJX, LII, VLO, PSX, CSGP, KMX, GEN, ZBH, ...</td>\n",
       "      <td>0</td>\n",
       "      <td></td>\n",
       "    </tr>\n",
       "    <tr>\n",
       "      <th>19</th>\n",
       "      <td>2025-03-13</td>\n",
       "      <td>5</td>\n",
       "      <td>PG, OKE, BKR, HPE, MAR, L, PEG, WFC, SPG, PPL,...</td>\n",
       "      <td>2025-03-28</td>\n",
       "      <td>3</td>\n",
       "      <td>APA, EL, VRSK, WBA, ARE, DVN, ORCL, OXY, TYL, ...</td>\n",
       "      <td>0</td>\n",
       "      <td></td>\n",
       "    </tr>\n",
       "    <tr>\n",
       "      <th>20</th>\n",
       "      <td>2025-03-13</td>\n",
       "      <td>5</td>\n",
       "      <td>PG, OKE, BKR, HPE, MAR, L, PEG, WFC, SPG, PPL,...</td>\n",
       "      <td>2025-03-28</td>\n",
       "      <td>5</td>\n",
       "      <td>PG, INCY, MSI, SO, ORCL, ANET, HPE, PANW, PWR,...</td>\n",
       "      <td>8</td>\n",
       "      <td>PG, OKE, BKR, HPE, L, PEG, HLT, SO</td>\n",
       "    </tr>\n",
       "    <tr>\n",
       "      <th>21</th>\n",
       "      <td>2025-03-26</td>\n",
       "      <td>1</td>\n",
       "      <td>LII, MOS, PSX, TJX, VLO, CSGP, ZBH, GEN, NVDA,...</td>\n",
       "      <td>2025-03-26</td>\n",
       "      <td>3</td>\n",
       "      <td>APA, VRSK, ORCL, DVN, EL, WBA, TYL, OXY, ARE, ...</td>\n",
       "      <td>2</td>\n",
       "      <td>MOS, EL</td>\n",
       "    </tr>\n",
       "    <tr>\n",
       "      <th>22</th>\n",
       "      <td>2025-03-26</td>\n",
       "      <td>1</td>\n",
       "      <td>LII, MOS, PSX, TJX, VLO, CSGP, ZBH, GEN, NVDA,...</td>\n",
       "      <td>2025-03-26</td>\n",
       "      <td>5</td>\n",
       "      <td>PG, OKE, MSI, HRL, HPE, PANW, INCY, DG, ANET, ...</td>\n",
       "      <td>0</td>\n",
       "      <td></td>\n",
       "    </tr>\n",
       "    <tr>\n",
       "      <th>23</th>\n",
       "      <td>2025-03-26</td>\n",
       "      <td>1</td>\n",
       "      <td>LII, MOS, PSX, TJX, VLO, CSGP, ZBH, GEN, NVDA,...</td>\n",
       "      <td>2025-03-28</td>\n",
       "      <td>1</td>\n",
       "      <td>MOS, TJX, LII, VLO, PSX, CSGP, KMX, GEN, ZBH, ...</td>\n",
       "      <td>10</td>\n",
       "      <td>LII, MOS, PSX, TJX, VLO, CSGP, ZBH, GEN, NVDA,...</td>\n",
       "    </tr>\n",
       "    <tr>\n",
       "      <th>24</th>\n",
       "      <td>2025-03-26</td>\n",
       "      <td>1</td>\n",
       "      <td>LII, MOS, PSX, TJX, VLO, CSGP, ZBH, GEN, NVDA,...</td>\n",
       "      <td>2025-03-28</td>\n",
       "      <td>3</td>\n",
       "      <td>APA, EL, VRSK, WBA, ARE, DVN, ORCL, OXY, TYL, ...</td>\n",
       "      <td>1</td>\n",
       "      <td>EL</td>\n",
       "    </tr>\n",
       "    <tr>\n",
       "      <th>25</th>\n",
       "      <td>2025-03-26</td>\n",
       "      <td>1</td>\n",
       "      <td>LII, MOS, PSX, TJX, VLO, CSGP, ZBH, GEN, NVDA,...</td>\n",
       "      <td>2025-03-28</td>\n",
       "      <td>5</td>\n",
       "      <td>PG, INCY, MSI, SO, ORCL, ANET, HPE, PANW, PWR,...</td>\n",
       "      <td>0</td>\n",
       "      <td></td>\n",
       "    </tr>\n",
       "    <tr>\n",
       "      <th>26</th>\n",
       "      <td>2025-03-26</td>\n",
       "      <td>3</td>\n",
       "      <td>APA, VRSK, ORCL, DVN, EL, WBA, TYL, OXY, ARE, ...</td>\n",
       "      <td>2025-03-26</td>\n",
       "      <td>5</td>\n",
       "      <td>PG, OKE, MSI, HRL, HPE, PANW, INCY, DG, ANET, ...</td>\n",
       "      <td>4</td>\n",
       "      <td>ORCL, ANET, PANW, DG</td>\n",
       "    </tr>\n",
       "    <tr>\n",
       "      <th>27</th>\n",
       "      <td>2025-03-26</td>\n",
       "      <td>3</td>\n",
       "      <td>APA, VRSK, ORCL, DVN, EL, WBA, TYL, OXY, ARE, ...</td>\n",
       "      <td>2025-03-28</td>\n",
       "      <td>1</td>\n",
       "      <td>MOS, TJX, LII, VLO, PSX, CSGP, KMX, GEN, ZBH, ...</td>\n",
       "      <td>1</td>\n",
       "      <td>MOS</td>\n",
       "    </tr>\n",
       "    <tr>\n",
       "      <th>28</th>\n",
       "      <td>2025-03-26</td>\n",
       "      <td>3</td>\n",
       "      <td>APA, VRSK, ORCL, DVN, EL, WBA, TYL, OXY, ARE, ...</td>\n",
       "      <td>2025-03-28</td>\n",
       "      <td>3</td>\n",
       "      <td>APA, EL, VRSK, WBA, ARE, DVN, ORCL, OXY, TYL, ...</td>\n",
       "      <td>18</td>\n",
       "      <td>APA, VRSK, ORCL, DVN, EL, WBA, TYL, OXY, ARE, ...</td>\n",
       "    </tr>\n",
       "    <tr>\n",
       "      <th>29</th>\n",
       "      <td>2025-03-26</td>\n",
       "      <td>3</td>\n",
       "      <td>APA, VRSK, ORCL, DVN, EL, WBA, TYL, OXY, ARE, ...</td>\n",
       "      <td>2025-03-28</td>\n",
       "      <td>5</td>\n",
       "      <td>PG, INCY, MSI, SO, ORCL, ANET, HPE, PANW, PWR,...</td>\n",
       "      <td>4</td>\n",
       "      <td>ORCL, ANET, PANW, DG</td>\n",
       "    </tr>\n",
       "    <tr>\n",
       "      <th>30</th>\n",
       "      <td>2025-03-26</td>\n",
       "      <td>5</td>\n",
       "      <td>PG, OKE, MSI, HRL, HPE, PANW, INCY, DG, ANET, ...</td>\n",
       "      <td>2025-03-28</td>\n",
       "      <td>1</td>\n",
       "      <td>MOS, TJX, LII, VLO, PSX, CSGP, KMX, GEN, ZBH, ...</td>\n",
       "      <td>0</td>\n",
       "      <td></td>\n",
       "    </tr>\n",
       "    <tr>\n",
       "      <th>31</th>\n",
       "      <td>2025-03-26</td>\n",
       "      <td>5</td>\n",
       "      <td>PG, OKE, MSI, HRL, HPE, PANW, INCY, DG, ANET, ...</td>\n",
       "      <td>2025-03-28</td>\n",
       "      <td>3</td>\n",
       "      <td>APA, EL, VRSK, WBA, ARE, DVN, ORCL, OXY, TYL, ...</td>\n",
       "      <td>5</td>\n",
       "      <td>PANW, DG, ANET, PWR, ORCL</td>\n",
       "    </tr>\n",
       "    <tr>\n",
       "      <th>32</th>\n",
       "      <td>2025-03-26</td>\n",
       "      <td>5</td>\n",
       "      <td>PG, OKE, MSI, HRL, HPE, PANW, INCY, DG, ANET, ...</td>\n",
       "      <td>2025-03-28</td>\n",
       "      <td>5</td>\n",
       "      <td>PG, INCY, MSI, SO, ORCL, ANET, HPE, PANW, PWR,...</td>\n",
       "      <td>19</td>\n",
       "      <td>PG, OKE, MSI, HRL, HPE, PANW, INCY, DG, ANET, ...</td>\n",
       "    </tr>\n",
       "    <tr>\n",
       "      <th>33</th>\n",
       "      <td>2025-03-28</td>\n",
       "      <td>1</td>\n",
       "      <td>MOS, TJX, LII, VLO, PSX, CSGP, KMX, GEN, ZBH, ...</td>\n",
       "      <td>2025-03-28</td>\n",
       "      <td>3</td>\n",
       "      <td>APA, EL, VRSK, WBA, ARE, DVN, ORCL, OXY, TYL, ...</td>\n",
       "      <td>0</td>\n",
       "      <td></td>\n",
       "    </tr>\n",
       "    <tr>\n",
       "      <th>34</th>\n",
       "      <td>2025-03-28</td>\n",
       "      <td>1</td>\n",
       "      <td>MOS, TJX, LII, VLO, PSX, CSGP, KMX, GEN, ZBH, ...</td>\n",
       "      <td>2025-03-28</td>\n",
       "      <td>5</td>\n",
       "      <td>PG, INCY, MSI, SO, ORCL, ANET, HPE, PANW, PWR,...</td>\n",
       "      <td>0</td>\n",
       "      <td></td>\n",
       "    </tr>\n",
       "    <tr>\n",
       "      <th>35</th>\n",
       "      <td>2025-03-28</td>\n",
       "      <td>3</td>\n",
       "      <td>APA, EL, VRSK, WBA, ARE, DVN, ORCL, OXY, TYL, ...</td>\n",
       "      <td>2025-03-28</td>\n",
       "      <td>5</td>\n",
       "      <td>PG, INCY, MSI, SO, ORCL, ANET, HPE, PANW, PWR,...</td>\n",
       "      <td>5</td>\n",
       "      <td>ORCL, PANW, ANET, DG, PWR</td>\n",
       "    </tr>\n",
       "  </tbody>\n",
       "</table>\n",
       "</div>"
      ],
      "text/plain": [
       "         date1  period1                                    top_20_tickers1  \\\n",
       "0   2025-03-13        1  VLO, PSX, CSGP, COP, TJX, LII, MOS, MPC, EQIX,...   \n",
       "1   2025-03-13        1  VLO, PSX, CSGP, COP, TJX, LII, MOS, MPC, EQIX,...   \n",
       "2   2025-03-13        1  VLO, PSX, CSGP, COP, TJX, LII, MOS, MPC, EQIX,...   \n",
       "3   2025-03-13        1  VLO, PSX, CSGP, COP, TJX, LII, MOS, MPC, EQIX,...   \n",
       "4   2025-03-13        1  VLO, PSX, CSGP, COP, TJX, LII, MOS, MPC, EQIX,...   \n",
       "5   2025-03-13        1  VLO, PSX, CSGP, COP, TJX, LII, MOS, MPC, EQIX,...   \n",
       "6   2025-03-13        1  VLO, PSX, CSGP, COP, TJX, LII, MOS, MPC, EQIX,...   \n",
       "7   2025-03-13        1  VLO, PSX, CSGP, COP, TJX, LII, MOS, MPC, EQIX,...   \n",
       "8   2025-03-13        3  DVN, APA, OXY, VRSK, TYL, ORCL, SPGI, EL, LKQ,...   \n",
       "9   2025-03-13        3  DVN, APA, OXY, VRSK, TYL, ORCL, SPGI, EL, LKQ,...   \n",
       "10  2025-03-13        3  DVN, APA, OXY, VRSK, TYL, ORCL, SPGI, EL, LKQ,...   \n",
       "11  2025-03-13        3  DVN, APA, OXY, VRSK, TYL, ORCL, SPGI, EL, LKQ,...   \n",
       "12  2025-03-13        3  DVN, APA, OXY, VRSK, TYL, ORCL, SPGI, EL, LKQ,...   \n",
       "13  2025-03-13        3  DVN, APA, OXY, VRSK, TYL, ORCL, SPGI, EL, LKQ,...   \n",
       "14  2025-03-13        3  DVN, APA, OXY, VRSK, TYL, ORCL, SPGI, EL, LKQ,...   \n",
       "15  2025-03-13        5  PG, OKE, BKR, HPE, MAR, L, PEG, WFC, SPG, PPL,...   \n",
       "16  2025-03-13        5  PG, OKE, BKR, HPE, MAR, L, PEG, WFC, SPG, PPL,...   \n",
       "17  2025-03-13        5  PG, OKE, BKR, HPE, MAR, L, PEG, WFC, SPG, PPL,...   \n",
       "18  2025-03-13        5  PG, OKE, BKR, HPE, MAR, L, PEG, WFC, SPG, PPL,...   \n",
       "19  2025-03-13        5  PG, OKE, BKR, HPE, MAR, L, PEG, WFC, SPG, PPL,...   \n",
       "20  2025-03-13        5  PG, OKE, BKR, HPE, MAR, L, PEG, WFC, SPG, PPL,...   \n",
       "21  2025-03-26        1  LII, MOS, PSX, TJX, VLO, CSGP, ZBH, GEN, NVDA,...   \n",
       "22  2025-03-26        1  LII, MOS, PSX, TJX, VLO, CSGP, ZBH, GEN, NVDA,...   \n",
       "23  2025-03-26        1  LII, MOS, PSX, TJX, VLO, CSGP, ZBH, GEN, NVDA,...   \n",
       "24  2025-03-26        1  LII, MOS, PSX, TJX, VLO, CSGP, ZBH, GEN, NVDA,...   \n",
       "25  2025-03-26        1  LII, MOS, PSX, TJX, VLO, CSGP, ZBH, GEN, NVDA,...   \n",
       "26  2025-03-26        3  APA, VRSK, ORCL, DVN, EL, WBA, TYL, OXY, ARE, ...   \n",
       "27  2025-03-26        3  APA, VRSK, ORCL, DVN, EL, WBA, TYL, OXY, ARE, ...   \n",
       "28  2025-03-26        3  APA, VRSK, ORCL, DVN, EL, WBA, TYL, OXY, ARE, ...   \n",
       "29  2025-03-26        3  APA, VRSK, ORCL, DVN, EL, WBA, TYL, OXY, ARE, ...   \n",
       "30  2025-03-26        5  PG, OKE, MSI, HRL, HPE, PANW, INCY, DG, ANET, ...   \n",
       "31  2025-03-26        5  PG, OKE, MSI, HRL, HPE, PANW, INCY, DG, ANET, ...   \n",
       "32  2025-03-26        5  PG, OKE, MSI, HRL, HPE, PANW, INCY, DG, ANET, ...   \n",
       "33  2025-03-28        1  MOS, TJX, LII, VLO, PSX, CSGP, KMX, GEN, ZBH, ...   \n",
       "34  2025-03-28        1  MOS, TJX, LII, VLO, PSX, CSGP, KMX, GEN, ZBH, ...   \n",
       "35  2025-03-28        3  APA, EL, VRSK, WBA, ARE, DVN, ORCL, OXY, TYL, ...   \n",
       "\n",
       "         date2  period2                                    top_20_tickers2  \\\n",
       "0   2025-03-13        3  DVN, APA, OXY, VRSK, TYL, ORCL, SPGI, EL, LKQ,...   \n",
       "1   2025-03-13        5  PG, OKE, BKR, HPE, MAR, L, PEG, WFC, SPG, PPL,...   \n",
       "2   2025-03-26        1  LII, MOS, PSX, TJX, VLO, CSGP, ZBH, GEN, NVDA,...   \n",
       "3   2025-03-26        3  APA, VRSK, ORCL, DVN, EL, WBA, TYL, OXY, ARE, ...   \n",
       "4   2025-03-26        5  PG, OKE, MSI, HRL, HPE, PANW, INCY, DG, ANET, ...   \n",
       "5   2025-03-28        1  MOS, TJX, LII, VLO, PSX, CSGP, KMX, GEN, ZBH, ...   \n",
       "6   2025-03-28        3  APA, EL, VRSK, WBA, ARE, DVN, ORCL, OXY, TYL, ...   \n",
       "7   2025-03-28        5  PG, INCY, MSI, SO, ORCL, ANET, HPE, PANW, PWR,...   \n",
       "8   2025-03-13        5  PG, OKE, BKR, HPE, MAR, L, PEG, WFC, SPG, PPL,...   \n",
       "9   2025-03-26        1  LII, MOS, PSX, TJX, VLO, CSGP, ZBH, GEN, NVDA,...   \n",
       "10  2025-03-26        3  APA, VRSK, ORCL, DVN, EL, WBA, TYL, OXY, ARE, ...   \n",
       "11  2025-03-26        5  PG, OKE, MSI, HRL, HPE, PANW, INCY, DG, ANET, ...   \n",
       "12  2025-03-28        1  MOS, TJX, LII, VLO, PSX, CSGP, KMX, GEN, ZBH, ...   \n",
       "13  2025-03-28        3  APA, EL, VRSK, WBA, ARE, DVN, ORCL, OXY, TYL, ...   \n",
       "14  2025-03-28        5  PG, INCY, MSI, SO, ORCL, ANET, HPE, PANW, PWR,...   \n",
       "15  2025-03-26        1  LII, MOS, PSX, TJX, VLO, CSGP, ZBH, GEN, NVDA,...   \n",
       "16  2025-03-26        3  APA, VRSK, ORCL, DVN, EL, WBA, TYL, OXY, ARE, ...   \n",
       "17  2025-03-26        5  PG, OKE, MSI, HRL, HPE, PANW, INCY, DG, ANET, ...   \n",
       "18  2025-03-28        1  MOS, TJX, LII, VLO, PSX, CSGP, KMX, GEN, ZBH, ...   \n",
       "19  2025-03-28        3  APA, EL, VRSK, WBA, ARE, DVN, ORCL, OXY, TYL, ...   \n",
       "20  2025-03-28        5  PG, INCY, MSI, SO, ORCL, ANET, HPE, PANW, PWR,...   \n",
       "21  2025-03-26        3  APA, VRSK, ORCL, DVN, EL, WBA, TYL, OXY, ARE, ...   \n",
       "22  2025-03-26        5  PG, OKE, MSI, HRL, HPE, PANW, INCY, DG, ANET, ...   \n",
       "23  2025-03-28        1  MOS, TJX, LII, VLO, PSX, CSGP, KMX, GEN, ZBH, ...   \n",
       "24  2025-03-28        3  APA, EL, VRSK, WBA, ARE, DVN, ORCL, OXY, TYL, ...   \n",
       "25  2025-03-28        5  PG, INCY, MSI, SO, ORCL, ANET, HPE, PANW, PWR,...   \n",
       "26  2025-03-26        5  PG, OKE, MSI, HRL, HPE, PANW, INCY, DG, ANET, ...   \n",
       "27  2025-03-28        1  MOS, TJX, LII, VLO, PSX, CSGP, KMX, GEN, ZBH, ...   \n",
       "28  2025-03-28        3  APA, EL, VRSK, WBA, ARE, DVN, ORCL, OXY, TYL, ...   \n",
       "29  2025-03-28        5  PG, INCY, MSI, SO, ORCL, ANET, HPE, PANW, PWR,...   \n",
       "30  2025-03-28        1  MOS, TJX, LII, VLO, PSX, CSGP, KMX, GEN, ZBH, ...   \n",
       "31  2025-03-28        3  APA, EL, VRSK, WBA, ARE, DVN, ORCL, OXY, TYL, ...   \n",
       "32  2025-03-28        5  PG, INCY, MSI, SO, ORCL, ANET, HPE, PANW, PWR,...   \n",
       "33  2025-03-28        3  APA, EL, VRSK, WBA, ARE, DVN, ORCL, OXY, TYL, ...   \n",
       "34  2025-03-28        5  PG, INCY, MSI, SO, ORCL, ANET, HPE, PANW, PWR,...   \n",
       "35  2025-03-28        5  PG, INCY, MSI, SO, ORCL, ANET, HPE, PANW, PWR,...   \n",
       "\n",
       "    num_common                                     common_tickers  \n",
       "0            1                                               EQIX  \n",
       "1            0                                                     \n",
       "2            8            VLO, PSX, CSGP, COP, TJX, LII, MOS, ZBH  \n",
       "3            2                                          MOS, EQIX  \n",
       "4            0                                                     \n",
       "5            7                 VLO, PSX, CSGP, TJX, LII, MOS, ZBH  \n",
       "6            0                                                     \n",
       "7            0                                                     \n",
       "8            0                                                     \n",
       "9            1                                                 EL  \n",
       "10          15  DVN, APA, OXY, VRSK, TYL, ORCL, SPGI, EL, MCO,...  \n",
       "11           4                                ORCL, ANET, PWR, DG  \n",
       "12           0                                                     \n",
       "13          15  DVN, APA, OXY, VRSK, TYL, ORCL, SPGI, EL, MCO,...  \n",
       "14           4                                ORCL, ANET, PWR, DG  \n",
       "15           0                                                     \n",
       "16           0                                                     \n",
       "17           9            PG, OKE, BKR, HPE, MAR, L, PEG, HLT, SO  \n",
       "18           0                                                     \n",
       "19           0                                                     \n",
       "20           8                 PG, OKE, BKR, HPE, L, PEG, HLT, SO  \n",
       "21           2                                            MOS, EL  \n",
       "22           0                                                     \n",
       "23          10  LII, MOS, PSX, TJX, VLO, CSGP, ZBH, GEN, NVDA,...  \n",
       "24           1                                                 EL  \n",
       "25           0                                                     \n",
       "26           4                               ORCL, ANET, PANW, DG  \n",
       "27           1                                                MOS  \n",
       "28          18  APA, VRSK, ORCL, DVN, EL, WBA, TYL, OXY, ARE, ...  \n",
       "29           4                               ORCL, ANET, PANW, DG  \n",
       "30           0                                                     \n",
       "31           5                          PANW, DG, ANET, PWR, ORCL  \n",
       "32          19  PG, OKE, MSI, HRL, HPE, PANW, INCY, DG, ANET, ...  \n",
       "33           0                                                     \n",
       "34           0                                                     \n",
       "35           5                          ORCL, PANW, ANET, DG, PWR  "
      ]
     },
     "execution_count": 5,
     "metadata": {},
     "output_type": "execute_result"
    }
   ],
   "source": [
    "analyze_coint = AnalyzeCoint()\n",
    "df_coint_analysis = analyze_coint(\"AAPL\")\n",
    "df_coint_analysis"
   ]
  },
  {
   "cell_type": "code",
   "execution_count": 18,
   "metadata": {},
   "outputs": [
    {
     "data": {
      "text/html": [
       "<div>\n",
       "<style scoped>\n",
       "    .dataframe tbody tr th:only-of-type {\n",
       "        vertical-align: middle;\n",
       "    }\n",
       "\n",
       "    .dataframe tbody tr th {\n",
       "        vertical-align: top;\n",
       "    }\n",
       "\n",
       "    .dataframe thead th {\n",
       "        text-align: right;\n",
       "    }\n",
       "</style>\n",
       "<table border=\"1\" class=\"dataframe\">\n",
       "  <thead>\n",
       "    <tr style=\"text-align: right;\">\n",
       "      <th></th>\n",
       "      <th>date1</th>\n",
       "      <th>period1</th>\n",
       "      <th>top_20_tickers1</th>\n",
       "      <th>date2</th>\n",
       "      <th>period2</th>\n",
       "      <th>top_20_tickers2</th>\n",
       "      <th>num_common</th>\n",
       "      <th>common_tickers</th>\n",
       "    </tr>\n",
       "  </thead>\n",
       "  <tbody>\n",
       "    <tr>\n",
       "      <th>28</th>\n",
       "      <td>2025-03-13</td>\n",
       "      <td>1</td>\n",
       "      <td>VLO, PSX, CSGP, COP, TJX, LII, MOS, MPC, EQIX,...</td>\n",
       "      <td>2025-03-28</td>\n",
       "      <td>1</td>\n",
       "      <td>MOS, TJX, LII, VLO, PSX, CSGP, KMX, GEN, ZBH, ...</td>\n",
       "      <td>7</td>\n",
       "      <td>VLO, PSX, CSGP, TJX, LII, MOS, ZBH</td>\n",
       "    </tr>\n",
       "    <tr>\n",
       "      <th>23</th>\n",
       "      <td>2025-03-13</td>\n",
       "      <td>3</td>\n",
       "      <td>DVN, APA, OXY, VRSK, TYL, ORCL, SPGI, EL, LKQ,...</td>\n",
       "      <td>2025-03-28</td>\n",
       "      <td>3</td>\n",
       "      <td>APA, EL, VRSK, WBA, ARE, DVN, ORCL, OXY, TYL, ...</td>\n",
       "      <td>15</td>\n",
       "      <td>DVN, APA, OXY, VRSK, TYL, ORCL, SPGI, EL, MCO,...</td>\n",
       "    </tr>\n",
       "    <tr>\n",
       "      <th>32</th>\n",
       "      <td>2025-03-13</td>\n",
       "      <td>5</td>\n",
       "      <td>PG, OKE, BKR, HPE, MAR, L, PEG, WFC, SPG, PPL,...</td>\n",
       "      <td>2025-03-28</td>\n",
       "      <td>5</td>\n",
       "      <td>PG, INCY, MSI, SO, ORCL, ANET, HPE, PANW, PWR,...</td>\n",
       "      <td>8</td>\n",
       "      <td>PG, OKE, BKR, HPE, L, PEG, HLT, SO</td>\n",
       "    </tr>\n",
       "    <tr>\n",
       "      <th>10</th>\n",
       "      <td>2025-03-26</td>\n",
       "      <td>1</td>\n",
       "      <td>LII, MOS, PSX, TJX, VLO, CSGP, ZBH, GEN, NVDA,...</td>\n",
       "      <td>2025-03-13</td>\n",
       "      <td>1</td>\n",
       "      <td>VLO, PSX, CSGP, COP, TJX, LII, MOS, MPC, EQIX,...</td>\n",
       "      <td>8</td>\n",
       "      <td>LII, MOS, PSX, TJX, VLO, CSGP, ZBH, COP</td>\n",
       "    </tr>\n",
       "    <tr>\n",
       "      <th>13</th>\n",
       "      <td>2025-03-26</td>\n",
       "      <td>1</td>\n",
       "      <td>LII, MOS, PSX, TJX, VLO, CSGP, ZBH, GEN, NVDA,...</td>\n",
       "      <td>2025-03-28</td>\n",
       "      <td>1</td>\n",
       "      <td>MOS, TJX, LII, VLO, PSX, CSGP, KMX, GEN, ZBH, ...</td>\n",
       "      <td>10</td>\n",
       "      <td>LII, MOS, PSX, TJX, VLO, CSGP, ZBH, GEN, NVDA,...</td>\n",
       "    </tr>\n",
       "    <tr>\n",
       "      <th>2</th>\n",
       "      <td>2025-03-26</td>\n",
       "      <td>3</td>\n",
       "      <td>APA, VRSK, ORCL, DVN, EL, WBA, TYL, OXY, ARE, ...</td>\n",
       "      <td>2025-03-13</td>\n",
       "      <td>3</td>\n",
       "      <td>DVN, APA, OXY, VRSK, TYL, ORCL, SPGI, EL, LKQ,...</td>\n",
       "      <td>15</td>\n",
       "      <td>APA, VRSK, ORCL, DVN, EL, WBA, TYL, OXY, ANET,...</td>\n",
       "    </tr>\n",
       "    <tr>\n",
       "      <th>5</th>\n",
       "      <td>2025-03-26</td>\n",
       "      <td>3</td>\n",
       "      <td>APA, VRSK, ORCL, DVN, EL, WBA, TYL, OXY, ARE, ...</td>\n",
       "      <td>2025-03-28</td>\n",
       "      <td>3</td>\n",
       "      <td>APA, EL, VRSK, WBA, ARE, DVN, ORCL, OXY, TYL, ...</td>\n",
       "      <td>18</td>\n",
       "      <td>APA, VRSK, ORCL, DVN, EL, WBA, TYL, OXY, ARE, ...</td>\n",
       "    </tr>\n",
       "    <tr>\n",
       "      <th>17</th>\n",
       "      <td>2025-03-26</td>\n",
       "      <td>5</td>\n",
       "      <td>PG, OKE, MSI, HRL, HPE, PANW, INCY, DG, ANET, ...</td>\n",
       "      <td>2025-03-13</td>\n",
       "      <td>5</td>\n",
       "      <td>PG, OKE, BKR, HPE, MAR, L, PEG, WFC, SPG, PPL,...</td>\n",
       "      <td>9</td>\n",
       "      <td>PG, OKE, HPE, HLT, SO, BKR, L, MAR, PEG</td>\n",
       "    </tr>\n",
       "    <tr>\n",
       "      <th>20</th>\n",
       "      <td>2025-03-26</td>\n",
       "      <td>5</td>\n",
       "      <td>PG, OKE, MSI, HRL, HPE, PANW, INCY, DG, ANET, ...</td>\n",
       "      <td>2025-03-28</td>\n",
       "      <td>5</td>\n",
       "      <td>PG, INCY, MSI, SO, ORCL, ANET, HPE, PANW, PWR,...</td>\n",
       "      <td>19</td>\n",
       "      <td>PG, OKE, MSI, HRL, HPE, PANW, INCY, DG, ANET, ...</td>\n",
       "    </tr>\n",
       "  </tbody>\n",
       "</table>\n",
       "</div>"
      ],
      "text/plain": [
       "         date1  period1                                    top_20_tickers1  \\\n",
       "28  2025-03-13        1  VLO, PSX, CSGP, COP, TJX, LII, MOS, MPC, EQIX,...   \n",
       "23  2025-03-13        3  DVN, APA, OXY, VRSK, TYL, ORCL, SPGI, EL, LKQ,...   \n",
       "32  2025-03-13        5  PG, OKE, BKR, HPE, MAR, L, PEG, WFC, SPG, PPL,...   \n",
       "10  2025-03-26        1  LII, MOS, PSX, TJX, VLO, CSGP, ZBH, GEN, NVDA,...   \n",
       "13  2025-03-26        1  LII, MOS, PSX, TJX, VLO, CSGP, ZBH, GEN, NVDA,...   \n",
       "2   2025-03-26        3  APA, VRSK, ORCL, DVN, EL, WBA, TYL, OXY, ARE, ...   \n",
       "5   2025-03-26        3  APA, VRSK, ORCL, DVN, EL, WBA, TYL, OXY, ARE, ...   \n",
       "17  2025-03-26        5  PG, OKE, MSI, HRL, HPE, PANW, INCY, DG, ANET, ...   \n",
       "20  2025-03-26        5  PG, OKE, MSI, HRL, HPE, PANW, INCY, DG, ANET, ...   \n",
       "\n",
       "         date2  period2                                    top_20_tickers2  \\\n",
       "28  2025-03-28        1  MOS, TJX, LII, VLO, PSX, CSGP, KMX, GEN, ZBH, ...   \n",
       "23  2025-03-28        3  APA, EL, VRSK, WBA, ARE, DVN, ORCL, OXY, TYL, ...   \n",
       "32  2025-03-28        5  PG, INCY, MSI, SO, ORCL, ANET, HPE, PANW, PWR,...   \n",
       "10  2025-03-13        1  VLO, PSX, CSGP, COP, TJX, LII, MOS, MPC, EQIX,...   \n",
       "13  2025-03-28        1  MOS, TJX, LII, VLO, PSX, CSGP, KMX, GEN, ZBH, ...   \n",
       "2   2025-03-13        3  DVN, APA, OXY, VRSK, TYL, ORCL, SPGI, EL, LKQ,...   \n",
       "5   2025-03-28        3  APA, EL, VRSK, WBA, ARE, DVN, ORCL, OXY, TYL, ...   \n",
       "17  2025-03-13        5  PG, OKE, BKR, HPE, MAR, L, PEG, WFC, SPG, PPL,...   \n",
       "20  2025-03-28        5  PG, INCY, MSI, SO, ORCL, ANET, HPE, PANW, PWR,...   \n",
       "\n",
       "    num_common                                     common_tickers  \n",
       "28           7                 VLO, PSX, CSGP, TJX, LII, MOS, ZBH  \n",
       "23          15  DVN, APA, OXY, VRSK, TYL, ORCL, SPGI, EL, MCO,...  \n",
       "32           8                 PG, OKE, BKR, HPE, L, PEG, HLT, SO  \n",
       "10           8            LII, MOS, PSX, TJX, VLO, CSGP, ZBH, COP  \n",
       "13          10  LII, MOS, PSX, TJX, VLO, CSGP, ZBH, GEN, NVDA,...  \n",
       "2           15  APA, VRSK, ORCL, DVN, EL, WBA, TYL, OXY, ANET,...  \n",
       "5           18  APA, VRSK, ORCL, DVN, EL, WBA, TYL, OXY, ARE, ...  \n",
       "17           9            PG, OKE, HPE, HLT, SO, BKR, L, MAR, PEG  \n",
       "20          19  PG, OKE, MSI, HRL, HPE, PANW, INCY, DG, ANET, ...  "
      ]
     },
     "execution_count": 18,
     "metadata": {},
     "output_type": "execute_result"
    }
   ],
   "source": [
    "df_coint_analysis.loc[\n",
    "    df_coint_analysis[\"period1\"] == df_coint_analysis[\"period2\"], :\n",
    "].sort_values(by=[\"date1\", \"period1\"])"
   ]
  },
  {
   "cell_type": "markdown",
   "metadata": {},
   "source": [
    "# [Sentiment](#table-of-contents)\n",
    "\n",
    "- Capture publication date, publisher (e.g. Bloomberg), news title and news content via yfinance news filtered by ticker e.g. https://finance.yahoo.com/quote/AAPL/news/\n",
    "- Use different HuggingFace FinBERT on news title only, news content only and both news title and content:\n",
    "\n",
    "| FinBERT                                                                                    | Model Card                            | Column      | Description                                                                                                                                                      |\n",
    "| ------------------------------------------------------------------------------------------ | ------------------------------------- | ----------- | ---------------------------------------------------------------------------------------------------------------------------------------------------------------- |\n",
    "| [Prosus AI](https://huggingface.co/ProsusAI/finbert)                                       | ProsusAI/finbert                      | prosusai    | &bull; Pre-trained NLP model to analyze sentiment of financial text. <br>&bull; Used Financial PhraseBank by Malo et al. (2014) is used for fine-tuning.         |\n",
    "| [finbert-tone](https://huggingface.co/yiyanghkust/finbert-tone)                            | yiyanghkust/finbert-tone              | yiyanghkust | &bull; Pre-trained on corporate reports, earning calls, and analyst reports. <br>&bull; Fined-tuned on 10,000 manually annotated sentences from analyst reports. |\n",
    "| [FinBERT-FOMC](https://huggingface.co/ZiweiChen/FinBERT-FOMC)                              | ZiweiChen/FinBERT-FOMC                | ziweichen   | &bull; Fine-tuned version of ProsusAI/finbert. <br>&bull; Fine-tuned on data useed in FOMC minutes from Jan 2006 to Feb 2023.                                    |\n",
    "| [finbert-sentiment-analysis](https://huggingface.co/AventIQ-AI/finbert-sentiment-analysis) | AventIQ-AI/finbert-sentiment-analysis | aventiq_ai  | &bull; FinBERT model fine-tuned for sentiment analysis using English/Quotes dataset.                                                                             |\n",
    "\n",
    "## Observations\n",
    "\n",
    "- In general, FinBERT is able to rate the sentiment correctly to a certain extent.\n",
    "- Different variants perform differently based on the fine-tuned dataset - 262 news (out of 3791) are rated as both negative and positive concurrently based on 28 March analysis.\n",
    "- 'FinBERT-FOMC' appears to have more consistent rating among the 4 (Needs further investigations).\n"
   ]
  },
  {
   "cell_type": "code",
   "execution_count": 2,
   "metadata": {},
   "outputs": [
    {
     "data": {
      "text/html": [
       "<div>\n",
       "<style scoped>\n",
       "    .dataframe tbody tr th:only-of-type {\n",
       "        vertical-align: middle;\n",
       "    }\n",
       "\n",
       "    .dataframe tbody tr th {\n",
       "        vertical-align: top;\n",
       "    }\n",
       "\n",
       "    .dataframe thead th {\n",
       "        text-align: right;\n",
       "    }\n",
       "</style>\n",
       "<table border=\"1\" class=\"dataframe\">\n",
       "  <thead>\n",
       "    <tr style=\"text-align: right;\">\n",
       "      <th></th>\n",
       "      <th>pub_date</th>\n",
       "      <th>ticker</th>\n",
       "      <th>publisher</th>\n",
       "      <th>period</th>\n",
       "      <th>title</th>\n",
       "      <th>content</th>\n",
       "      <th>prosusai</th>\n",
       "      <th>prosusai_title</th>\n",
       "      <th>prosusai_content</th>\n",
       "      <th>yiyanghkust</th>\n",
       "      <th>yiyanghkust_title</th>\n",
       "      <th>yiyanghkust_content</th>\n",
       "      <th>ziweichen</th>\n",
       "      <th>ziweichen_title</th>\n",
       "      <th>ziweichen_content</th>\n",
       "      <th>aventiq_ai</th>\n",
       "      <th>aventiq_ai_title</th>\n",
       "      <th>aventiq_ai_content</th>\n",
       "    </tr>\n",
       "  </thead>\n",
       "  <tbody>\n",
       "    <tr>\n",
       "      <th>0</th>\n",
       "      <td>2025-03-28 18:53:00</td>\n",
       "      <td>AAPL</td>\n",
       "      <td>Yahoo Finance</td>\n",
       "      <td>2 hours ago</td>\n",
       "      <td>Trump is set on tariffing chips. It’s not so s...</td>\n",
       "      <td>President Trump's plan to put 25% tariffs on c...</td>\n",
       "      <td>3</td>\n",
       "      <td>3</td>\n",
       "      <td>3</td>\n",
       "      <td>3</td>\n",
       "      <td>3</td>\n",
       "      <td>3</td>\n",
       "      <td>3</td>\n",
       "      <td>3</td>\n",
       "      <td>2</td>\n",
       "      <td>4</td>\n",
       "      <td>3</td>\n",
       "      <td>1</td>\n",
       "    </tr>\n",
       "    <tr>\n",
       "      <th>1</th>\n",
       "      <td>2025-03-28 20:08:00</td>\n",
       "      <td>AAPL</td>\n",
       "      <td>Simply Wall St.</td>\n",
       "      <td>45 minutes ago</td>\n",
       "      <td>Cloud AI Today - Boosting Performance Akamai a...</td>\n",
       "      <td>Fermyon Technologies and Akamai have announced...</td>\n",
       "      <td>5</td>\n",
       "      <td>5</td>\n",
       "      <td>5</td>\n",
       "      <td>5</td>\n",
       "      <td>5</td>\n",
       "      <td>5</td>\n",
       "      <td>5</td>\n",
       "      <td>5</td>\n",
       "      <td>5</td>\n",
       "      <td>5</td>\n",
       "      <td>5</td>\n",
       "      <td>5</td>\n",
       "    </tr>\n",
       "    <tr>\n",
       "      <th>2</th>\n",
       "      <td>2025-03-28 19:53:00</td>\n",
       "      <td>AAPL</td>\n",
       "      <td>MT Newswires</td>\n",
       "      <td>1 hour ago</td>\n",
       "      <td>Market Chatter: Apple, Meta Platforms Could be...</td>\n",
       "      <td>Apple (AAPL) and Meta Platforms (META) could b...</td>\n",
       "      <td>2</td>\n",
       "      <td>1</td>\n",
       "      <td>3</td>\n",
       "      <td>3</td>\n",
       "      <td>3</td>\n",
       "      <td>3</td>\n",
       "      <td>2</td>\n",
       "      <td>2</td>\n",
       "      <td>2</td>\n",
       "      <td>1</td>\n",
       "      <td>1</td>\n",
       "      <td>2</td>\n",
       "    </tr>\n",
       "    <tr>\n",
       "      <th>3</th>\n",
       "      <td>2025-03-28 19:53:00</td>\n",
       "      <td>AAPL</td>\n",
       "      <td>Motley Fool</td>\n",
       "      <td>1 hour ago</td>\n",
       "      <td>Prediction: This Artificial Intelligence (AI) ...</td>\n",
       "      <td>The trillion-dollar club could be joined by an...</td>\n",
       "      <td>3</td>\n",
       "      <td>3</td>\n",
       "      <td>3</td>\n",
       "      <td>3</td>\n",
       "      <td>3</td>\n",
       "      <td>3</td>\n",
       "      <td>3</td>\n",
       "      <td>3</td>\n",
       "      <td>3</td>\n",
       "      <td>5</td>\n",
       "      <td>5</td>\n",
       "      <td>5</td>\n",
       "    </tr>\n",
       "    <tr>\n",
       "      <th>4</th>\n",
       "      <td>2025-03-28 18:53:00</td>\n",
       "      <td>AAPL</td>\n",
       "      <td>LA Times</td>\n",
       "      <td>2 hours ago</td>\n",
       "      <td>Expansive offices for Apple are rising in Culv...</td>\n",
       "      <td>Construction crews have erected cranes and are...</td>\n",
       "      <td>4</td>\n",
       "      <td>5</td>\n",
       "      <td>4</td>\n",
       "      <td>5</td>\n",
       "      <td>3</td>\n",
       "      <td>5</td>\n",
       "      <td>5</td>\n",
       "      <td>3</td>\n",
       "      <td>5</td>\n",
       "      <td>5</td>\n",
       "      <td>5</td>\n",
       "      <td>5</td>\n",
       "    </tr>\n",
       "    <tr>\n",
       "      <th>...</th>\n",
       "      <td>...</td>\n",
       "      <td>...</td>\n",
       "      <td>...</td>\n",
       "      <td>...</td>\n",
       "      <td>...</td>\n",
       "      <td>...</td>\n",
       "      <td>...</td>\n",
       "      <td>...</td>\n",
       "      <td>...</td>\n",
       "      <td>...</td>\n",
       "      <td>...</td>\n",
       "      <td>...</td>\n",
       "      <td>...</td>\n",
       "      <td>...</td>\n",
       "      <td>...</td>\n",
       "      <td>...</td>\n",
       "      <td>...</td>\n",
       "      <td>...</td>\n",
       "    </tr>\n",
       "    <tr>\n",
       "      <th>3788</th>\n",
       "      <td>2025-03-04 21:02:00</td>\n",
       "      <td>BA</td>\n",
       "      <td>The Telegraph</td>\n",
       "      <td>24 days ago</td>\n",
       "      <td>British Airways opens new Gatwick hangar to cu...</td>\n",
       "      <td>British Airways is to open a new maintenance h...</td>\n",
       "      <td>4</td>\n",
       "      <td>4</td>\n",
       "      <td>3</td>\n",
       "      <td>3</td>\n",
       "      <td>3</td>\n",
       "      <td>3</td>\n",
       "      <td>3</td>\n",
       "      <td>3</td>\n",
       "      <td>3</td>\n",
       "      <td>5</td>\n",
       "      <td>2</td>\n",
       "      <td>5</td>\n",
       "    </tr>\n",
       "    <tr>\n",
       "      <th>3789</th>\n",
       "      <td>2025-03-03 21:02:00</td>\n",
       "      <td>BA</td>\n",
       "      <td>PA Media: Money</td>\n",
       "      <td>25 days ago</td>\n",
       "      <td>Aerospace giant Senior shrugs off Boeing strik...</td>\n",
       "      <td>The UK firm, which is based in Rickmansworth, ...</td>\n",
       "      <td>1</td>\n",
       "      <td>2</td>\n",
       "      <td>1</td>\n",
       "      <td>2</td>\n",
       "      <td>1</td>\n",
       "      <td>3</td>\n",
       "      <td>1</td>\n",
       "      <td>3</td>\n",
       "      <td>3</td>\n",
       "      <td>1</td>\n",
       "      <td>1</td>\n",
       "      <td>1</td>\n",
       "    </tr>\n",
       "    <tr>\n",
       "      <th>3790</th>\n",
       "      <td>2025-03-03 21:02:00</td>\n",
       "      <td>BA</td>\n",
       "      <td>Reuters</td>\n",
       "      <td>25 days ago</td>\n",
       "      <td>Norwegian to buy 10 leased Boeing aircraft</td>\n",
       "      <td>COPENHAGEN (Reuters) -Budget carrier Norwegian...</td>\n",
       "      <td>5</td>\n",
       "      <td>3</td>\n",
       "      <td>5</td>\n",
       "      <td>5</td>\n",
       "      <td>3</td>\n",
       "      <td>5</td>\n",
       "      <td>3</td>\n",
       "      <td>3</td>\n",
       "      <td>3</td>\n",
       "      <td>5</td>\n",
       "      <td>5</td>\n",
       "      <td>5</td>\n",
       "    </tr>\n",
       "    <tr>\n",
       "      <th>3791</th>\n",
       "      <td>2025-03-01 21:02:00</td>\n",
       "      <td>BA</td>\n",
       "      <td>Motley Fool</td>\n",
       "      <td>27 days ago</td>\n",
       "      <td>Boeing's Space Business Could Be Stoppable Aft...</td>\n",
       "      <td>I was wrong about Boeing in December. Imagine ...</td>\n",
       "      <td>3</td>\n",
       "      <td>3</td>\n",
       "      <td>3</td>\n",
       "      <td>1</td>\n",
       "      <td>1</td>\n",
       "      <td>1</td>\n",
       "      <td>3</td>\n",
       "      <td>1</td>\n",
       "      <td>3</td>\n",
       "      <td>1</td>\n",
       "      <td>2</td>\n",
       "      <td>1</td>\n",
       "    </tr>\n",
       "    <tr>\n",
       "      <th>3792</th>\n",
       "      <td>2025-03-01 21:02:00</td>\n",
       "      <td>BA</td>\n",
       "      <td>Reuters</td>\n",
       "      <td>27 days ago</td>\n",
       "      <td>Spirit AeroSystems reports $577 million quarte...</td>\n",
       "      <td>Boeing and European rival Airbus -- already ag...</td>\n",
       "      <td>2</td>\n",
       "      <td>3</td>\n",
       "      <td>4</td>\n",
       "      <td>1</td>\n",
       "      <td>1</td>\n",
       "      <td>1</td>\n",
       "      <td>3</td>\n",
       "      <td>3</td>\n",
       "      <td>3</td>\n",
       "      <td>1</td>\n",
       "      <td>2</td>\n",
       "      <td>4</td>\n",
       "    </tr>\n",
       "  </tbody>\n",
       "</table>\n",
       "<p>3793 rows × 18 columns</p>\n",
       "</div>"
      ],
      "text/plain": [
       "                 pub_date ticker        publisher          period  \\\n",
       "0     2025-03-28 18:53:00   AAPL    Yahoo Finance     2 hours ago   \n",
       "1     2025-03-28 20:08:00   AAPL  Simply Wall St.  45 minutes ago   \n",
       "2     2025-03-28 19:53:00   AAPL     MT Newswires      1 hour ago   \n",
       "3     2025-03-28 19:53:00   AAPL      Motley Fool      1 hour ago   \n",
       "4     2025-03-28 18:53:00   AAPL         LA Times     2 hours ago   \n",
       "...                   ...    ...              ...             ...   \n",
       "3788  2025-03-04 21:02:00     BA    The Telegraph     24 days ago   \n",
       "3789  2025-03-03 21:02:00     BA  PA Media: Money     25 days ago   \n",
       "3790  2025-03-03 21:02:00     BA          Reuters     25 days ago   \n",
       "3791  2025-03-01 21:02:00     BA      Motley Fool     27 days ago   \n",
       "3792  2025-03-01 21:02:00     BA          Reuters     27 days ago   \n",
       "\n",
       "                                                  title  \\\n",
       "0     Trump is set on tariffing chips. It’s not so s...   \n",
       "1     Cloud AI Today - Boosting Performance Akamai a...   \n",
       "2     Market Chatter: Apple, Meta Platforms Could be...   \n",
       "3     Prediction: This Artificial Intelligence (AI) ...   \n",
       "4     Expansive offices for Apple are rising in Culv...   \n",
       "...                                                 ...   \n",
       "3788  British Airways opens new Gatwick hangar to cu...   \n",
       "3789  Aerospace giant Senior shrugs off Boeing strik...   \n",
       "3790         Norwegian to buy 10 leased Boeing aircraft   \n",
       "3791  Boeing's Space Business Could Be Stoppable Aft...   \n",
       "3792  Spirit AeroSystems reports $577 million quarte...   \n",
       "\n",
       "                                                content  prosusai  \\\n",
       "0     President Trump's plan to put 25% tariffs on c...         3   \n",
       "1     Fermyon Technologies and Akamai have announced...         5   \n",
       "2     Apple (AAPL) and Meta Platforms (META) could b...         2   \n",
       "3     The trillion-dollar club could be joined by an...         3   \n",
       "4     Construction crews have erected cranes and are...         4   \n",
       "...                                                 ...       ...   \n",
       "3788  British Airways is to open a new maintenance h...         4   \n",
       "3789  The UK firm, which is based in Rickmansworth, ...         1   \n",
       "3790  COPENHAGEN (Reuters) -Budget carrier Norwegian...         5   \n",
       "3791  I was wrong about Boeing in December. Imagine ...         3   \n",
       "3792  Boeing and European rival Airbus -- already ag...         2   \n",
       "\n",
       "      prosusai_title  prosusai_content  yiyanghkust  yiyanghkust_title  \\\n",
       "0                  3                 3            3                  3   \n",
       "1                  5                 5            5                  5   \n",
       "2                  1                 3            3                  3   \n",
       "3                  3                 3            3                  3   \n",
       "4                  5                 4            5                  3   \n",
       "...              ...               ...          ...                ...   \n",
       "3788               4                 3            3                  3   \n",
       "3789               2                 1            2                  1   \n",
       "3790               3                 5            5                  3   \n",
       "3791               3                 3            1                  1   \n",
       "3792               3                 4            1                  1   \n",
       "\n",
       "      yiyanghkust_content  ziweichen  ziweichen_title  ziweichen_content  \\\n",
       "0                       3          3                3                  2   \n",
       "1                       5          5                5                  5   \n",
       "2                       3          2                2                  2   \n",
       "3                       3          3                3                  3   \n",
       "4                       5          5                3                  5   \n",
       "...                   ...        ...              ...                ...   \n",
       "3788                    3          3                3                  3   \n",
       "3789                    3          1                3                  3   \n",
       "3790                    5          3                3                  3   \n",
       "3791                    1          3                1                  3   \n",
       "3792                    1          3                3                  3   \n",
       "\n",
       "      aventiq_ai  aventiq_ai_title  aventiq_ai_content  \n",
       "0              4                 3                   1  \n",
       "1              5                 5                   5  \n",
       "2              1                 1                   2  \n",
       "3              5                 5                   5  \n",
       "4              5                 5                   5  \n",
       "...          ...               ...                 ...  \n",
       "3788           5                 2                   5  \n",
       "3789           1                 1                   1  \n",
       "3790           5                 5                   5  \n",
       "3791           1                 2                   1  \n",
       "3792           1                 2                   4  \n",
       "\n",
       "[3793 rows x 18 columns]"
      ]
     },
     "execution_count": 2,
     "metadata": {},
     "output_type": "execute_result"
    }
   ],
   "source": [
    "df = pd.read_csv(\"./data/sentiment.csv\")\n",
    "df"
   ]
  },
  {
   "cell_type": "code",
   "execution_count": 3,
   "metadata": {},
   "outputs": [
    {
     "name": "stdout",
     "output_type": "stream",
     "text": [
      "19\n"
     ]
    },
    {
     "data": {
      "text/plain": [
       "array(['AAPL', 'NVDA', 'MSFT', 'AMZN', 'GOOGL', 'META', 'TSLA', 'JPM',\n",
       "       'JNJ', 'V', 'XOM', 'UNH', 'WMT', 'PG', 'HD', 'NFLX', 'CRM', 'BAC',\n",
       "       'BA'], dtype=object)"
      ]
     },
     "execution_count": 3,
     "metadata": {},
     "output_type": "execute_result"
    }
   ],
   "source": [
    "print(df[\"ticker\"].nunique())\n",
    "df[\"ticker\"].unique()"
   ]
  },
  {
   "cell_type": "code",
   "execution_count": null,
   "metadata": {},
   "outputs": [
    {
     "name": "stdout",
     "output_type": "stream",
     "text": [
      "divergent news : 262\n"
     ]
    },
    {
     "data": {
      "text/html": [
       "<style type=\"text/css\">\n",
       "#T_4964f_row0_col4, #T_4964f_row0_col5, #T_4964f_row1_col4, #T_4964f_row1_col5, #T_4964f_row2_col4, #T_4964f_row2_col5, #T_4964f_row3_col4, #T_4964f_row3_col5, #T_4964f_row4_col4, #T_4964f_row4_col5, #T_4964f_row5_col4, #T_4964f_row5_col5, #T_4964f_row6_col4, #T_4964f_row6_col5, #T_4964f_row7_col4, #T_4964f_row7_col5, #T_4964f_row8_col4, #T_4964f_row8_col5, #T_4964f_row9_col4, #T_4964f_row9_col5, #T_4964f_row10_col4, #T_4964f_row10_col5, #T_4964f_row11_col4, #T_4964f_row11_col5, #T_4964f_row12_col4, #T_4964f_row12_col5, #T_4964f_row13_col4, #T_4964f_row13_col5, #T_4964f_row14_col4, #T_4964f_row14_col5, #T_4964f_row15_col4, #T_4964f_row15_col5, #T_4964f_row16_col4, #T_4964f_row16_col5, #T_4964f_row17_col4, #T_4964f_row17_col5, #T_4964f_row18_col4, #T_4964f_row18_col5, #T_4964f_row19_col4, #T_4964f_row19_col5, #T_4964f_row20_col4, #T_4964f_row20_col5, #T_4964f_row21_col4, #T_4964f_row21_col5, #T_4964f_row22_col4, #T_4964f_row22_col5, #T_4964f_row23_col4, #T_4964f_row23_col5, #T_4964f_row24_col4, #T_4964f_row24_col5, #T_4964f_row25_col4, #T_4964f_row25_col5, #T_4964f_row26_col4, #T_4964f_row26_col5, #T_4964f_row27_col4, #T_4964f_row27_col5, #T_4964f_row28_col4, #T_4964f_row28_col5, #T_4964f_row29_col4, #T_4964f_row29_col5, #T_4964f_row30_col4, #T_4964f_row30_col5, #T_4964f_row31_col4, #T_4964f_row31_col5, #T_4964f_row32_col4, #T_4964f_row32_col5, #T_4964f_row33_col4, #T_4964f_row33_col5, #T_4964f_row34_col4, #T_4964f_row34_col5, #T_4964f_row35_col4, #T_4964f_row35_col5, #T_4964f_row36_col4, #T_4964f_row36_col5, #T_4964f_row37_col4, #T_4964f_row37_col5, #T_4964f_row38_col4, #T_4964f_row38_col5, #T_4964f_row39_col4, #T_4964f_row39_col5, #T_4964f_row40_col4, #T_4964f_row40_col5, #T_4964f_row41_col4, #T_4964f_row41_col5, #T_4964f_row42_col4, #T_4964f_row42_col5, #T_4964f_row43_col4, #T_4964f_row43_col5, #T_4964f_row44_col4, #T_4964f_row44_col5, #T_4964f_row45_col4, #T_4964f_row45_col5, #T_4964f_row46_col4, #T_4964f_row46_col5, #T_4964f_row47_col4, #T_4964f_row47_col5, #T_4964f_row48_col4, #T_4964f_row48_col5, #T_4964f_row49_col4, #T_4964f_row49_col5, #T_4964f_row50_col4, #T_4964f_row50_col5, #T_4964f_row51_col4, #T_4964f_row51_col5, #T_4964f_row52_col4, #T_4964f_row52_col5, #T_4964f_row53_col4, #T_4964f_row53_col5, #T_4964f_row54_col4, #T_4964f_row54_col5, #T_4964f_row55_col4, #T_4964f_row55_col5, #T_4964f_row56_col4, #T_4964f_row56_col5, #T_4964f_row57_col4, #T_4964f_row57_col5, #T_4964f_row58_col4, #T_4964f_row58_col5, #T_4964f_row59_col4, #T_4964f_row59_col5, #T_4964f_row60_col4, #T_4964f_row60_col5, #T_4964f_row61_col4, #T_4964f_row61_col5, #T_4964f_row62_col4, #T_4964f_row62_col5, #T_4964f_row63_col4, #T_4964f_row63_col5, #T_4964f_row64_col4, #T_4964f_row64_col5, #T_4964f_row65_col4, #T_4964f_row65_col5, #T_4964f_row66_col4, #T_4964f_row66_col5, #T_4964f_row67_col4, #T_4964f_row67_col5, #T_4964f_row68_col4, #T_4964f_row68_col5, #T_4964f_row69_col4, #T_4964f_row69_col5, #T_4964f_row70_col4, #T_4964f_row70_col5, #T_4964f_row71_col4, #T_4964f_row71_col5, #T_4964f_row72_col4, #T_4964f_row72_col5, #T_4964f_row73_col4, #T_4964f_row73_col5, #T_4964f_row74_col4, #T_4964f_row74_col5, #T_4964f_row75_col4, #T_4964f_row75_col5, #T_4964f_row76_col4, #T_4964f_row76_col5, #T_4964f_row77_col4, #T_4964f_row77_col5, #T_4964f_row78_col4, #T_4964f_row78_col5, #T_4964f_row79_col4, #T_4964f_row79_col5, #T_4964f_row80_col4, #T_4964f_row80_col5, #T_4964f_row81_col4, #T_4964f_row81_col5, #T_4964f_row82_col4, #T_4964f_row82_col5, #T_4964f_row83_col4, #T_4964f_row83_col5, #T_4964f_row84_col4, #T_4964f_row84_col5, #T_4964f_row85_col4, #T_4964f_row85_col5, #T_4964f_row86_col4, #T_4964f_row86_col5, #T_4964f_row87_col4, #T_4964f_row87_col5, #T_4964f_row88_col4, #T_4964f_row88_col5, #T_4964f_row89_col4, #T_4964f_row89_col5, #T_4964f_row90_col4, #T_4964f_row90_col5, #T_4964f_row91_col4, #T_4964f_row91_col5, #T_4964f_row92_col4, #T_4964f_row92_col5, #T_4964f_row93_col4, #T_4964f_row93_col5, #T_4964f_row94_col4, #T_4964f_row94_col5, #T_4964f_row95_col4, #T_4964f_row95_col5, #T_4964f_row96_col4, #T_4964f_row96_col5, #T_4964f_row97_col4, #T_4964f_row97_col5, #T_4964f_row98_col4, #T_4964f_row98_col5, #T_4964f_row99_col4, #T_4964f_row99_col5, #T_4964f_row100_col4, #T_4964f_row100_col5, #T_4964f_row101_col4, #T_4964f_row101_col5, #T_4964f_row102_col4, #T_4964f_row102_col5, #T_4964f_row103_col4, #T_4964f_row103_col5, #T_4964f_row104_col4, #T_4964f_row104_col5, #T_4964f_row105_col4, #T_4964f_row105_col5, #T_4964f_row106_col4, #T_4964f_row106_col5, #T_4964f_row107_col4, #T_4964f_row107_col5, #T_4964f_row108_col4, #T_4964f_row108_col5, #T_4964f_row109_col4, #T_4964f_row109_col5, #T_4964f_row110_col4, #T_4964f_row110_col5, #T_4964f_row111_col4, #T_4964f_row111_col5, #T_4964f_row112_col4, #T_4964f_row112_col5, #T_4964f_row113_col4, #T_4964f_row113_col5, #T_4964f_row114_col4, #T_4964f_row114_col5, #T_4964f_row115_col4, #T_4964f_row115_col5, #T_4964f_row116_col4, #T_4964f_row116_col5, #T_4964f_row117_col4, #T_4964f_row117_col5, #T_4964f_row118_col4, #T_4964f_row118_col5, #T_4964f_row119_col4, #T_4964f_row119_col5, #T_4964f_row120_col4, #T_4964f_row120_col5, #T_4964f_row121_col4, #T_4964f_row121_col5, #T_4964f_row122_col4, #T_4964f_row122_col5, #T_4964f_row123_col4, #T_4964f_row123_col5, #T_4964f_row124_col4, #T_4964f_row124_col5, #T_4964f_row125_col4, #T_4964f_row125_col5, #T_4964f_row126_col4, #T_4964f_row126_col5, #T_4964f_row127_col4, #T_4964f_row127_col5, #T_4964f_row128_col4, #T_4964f_row128_col5, #T_4964f_row129_col4, #T_4964f_row129_col5, #T_4964f_row130_col4, #T_4964f_row130_col5, #T_4964f_row131_col4, #T_4964f_row131_col5, #T_4964f_row132_col4, #T_4964f_row132_col5, #T_4964f_row133_col4, #T_4964f_row133_col5, #T_4964f_row134_col4, #T_4964f_row134_col5, #T_4964f_row135_col4, #T_4964f_row135_col5, #T_4964f_row136_col4, #T_4964f_row136_col5, #T_4964f_row137_col4, #T_4964f_row137_col5, #T_4964f_row138_col4, #T_4964f_row138_col5, #T_4964f_row139_col4, #T_4964f_row139_col5, #T_4964f_row140_col4, #T_4964f_row140_col5, #T_4964f_row141_col4, #T_4964f_row141_col5, #T_4964f_row142_col4, #T_4964f_row142_col5, #T_4964f_row143_col4, #T_4964f_row143_col5, #T_4964f_row144_col4, #T_4964f_row144_col5, #T_4964f_row145_col4, #T_4964f_row145_col5, #T_4964f_row146_col4, #T_4964f_row146_col5, #T_4964f_row147_col4, #T_4964f_row147_col5, #T_4964f_row148_col4, #T_4964f_row148_col5, #T_4964f_row149_col4, #T_4964f_row149_col5, #T_4964f_row150_col4, #T_4964f_row150_col5, #T_4964f_row151_col4, #T_4964f_row151_col5, #T_4964f_row152_col4, #T_4964f_row152_col5, #T_4964f_row153_col4, #T_4964f_row153_col5, #T_4964f_row154_col4, #T_4964f_row154_col5, #T_4964f_row155_col4, #T_4964f_row155_col5, #T_4964f_row156_col4, #T_4964f_row156_col5, #T_4964f_row157_col4, #T_4964f_row157_col5, #T_4964f_row158_col4, #T_4964f_row158_col5, #T_4964f_row159_col4, #T_4964f_row159_col5, #T_4964f_row160_col4, #T_4964f_row160_col5, #T_4964f_row161_col4, #T_4964f_row161_col5, #T_4964f_row162_col4, #T_4964f_row162_col5, #T_4964f_row163_col4, #T_4964f_row163_col5, #T_4964f_row164_col4, #T_4964f_row164_col5, #T_4964f_row165_col4, #T_4964f_row165_col5, #T_4964f_row166_col4, #T_4964f_row166_col5, #T_4964f_row167_col4, #T_4964f_row167_col5, #T_4964f_row168_col4, #T_4964f_row168_col5, #T_4964f_row169_col4, #T_4964f_row169_col5, #T_4964f_row170_col4, #T_4964f_row170_col5, #T_4964f_row171_col4, #T_4964f_row171_col5, #T_4964f_row172_col4, #T_4964f_row172_col5, #T_4964f_row173_col4, #T_4964f_row173_col5, #T_4964f_row174_col4, #T_4964f_row174_col5, #T_4964f_row175_col4, #T_4964f_row175_col5, #T_4964f_row176_col4, #T_4964f_row176_col5, #T_4964f_row177_col4, #T_4964f_row177_col5, #T_4964f_row178_col4, #T_4964f_row178_col5, #T_4964f_row179_col4, #T_4964f_row179_col5, #T_4964f_row180_col4, #T_4964f_row180_col5, #T_4964f_row181_col4, #T_4964f_row181_col5, #T_4964f_row182_col4, #T_4964f_row182_col5, #T_4964f_row183_col4, #T_4964f_row183_col5, #T_4964f_row184_col4, #T_4964f_row184_col5, #T_4964f_row185_col4, #T_4964f_row185_col5, #T_4964f_row186_col4, #T_4964f_row186_col5, #T_4964f_row187_col4, #T_4964f_row187_col5, #T_4964f_row188_col4, #T_4964f_row188_col5, #T_4964f_row189_col4, #T_4964f_row189_col5, #T_4964f_row190_col4, #T_4964f_row190_col5, #T_4964f_row191_col4, #T_4964f_row191_col5, #T_4964f_row192_col4, #T_4964f_row192_col5, #T_4964f_row193_col4, #T_4964f_row193_col5, #T_4964f_row194_col4, #T_4964f_row194_col5, #T_4964f_row195_col4, #T_4964f_row195_col5, #T_4964f_row196_col4, #T_4964f_row196_col5, #T_4964f_row197_col4, #T_4964f_row197_col5, #T_4964f_row198_col4, #T_4964f_row198_col5, #T_4964f_row199_col4, #T_4964f_row199_col5, #T_4964f_row200_col4, #T_4964f_row200_col5, #T_4964f_row201_col4, #T_4964f_row201_col5, #T_4964f_row202_col4, #T_4964f_row202_col5, #T_4964f_row203_col4, #T_4964f_row203_col5, #T_4964f_row204_col4, #T_4964f_row204_col5, #T_4964f_row205_col4, #T_4964f_row205_col5, #T_4964f_row206_col4, #T_4964f_row206_col5, #T_4964f_row207_col4, #T_4964f_row207_col5, #T_4964f_row208_col4, #T_4964f_row208_col5, #T_4964f_row209_col4, #T_4964f_row209_col5, #T_4964f_row210_col4, #T_4964f_row210_col5, #T_4964f_row211_col4, #T_4964f_row211_col5, #T_4964f_row212_col4, #T_4964f_row212_col5, #T_4964f_row213_col4, #T_4964f_row213_col5, #T_4964f_row214_col4, #T_4964f_row214_col5, #T_4964f_row215_col4, #T_4964f_row215_col5, #T_4964f_row216_col4, #T_4964f_row216_col5, #T_4964f_row217_col4, #T_4964f_row217_col5, #T_4964f_row218_col4, #T_4964f_row218_col5, #T_4964f_row219_col4, #T_4964f_row219_col5, #T_4964f_row220_col4, #T_4964f_row220_col5, #T_4964f_row221_col4, #T_4964f_row221_col5, #T_4964f_row222_col4, #T_4964f_row222_col5, #T_4964f_row223_col4, #T_4964f_row223_col5, #T_4964f_row224_col4, #T_4964f_row224_col5, #T_4964f_row225_col4, #T_4964f_row225_col5, #T_4964f_row226_col4, #T_4964f_row226_col5, #T_4964f_row227_col4, #T_4964f_row227_col5, #T_4964f_row228_col4, #T_4964f_row228_col5, #T_4964f_row229_col4, #T_4964f_row229_col5, #T_4964f_row230_col4, #T_4964f_row230_col5, #T_4964f_row231_col4, #T_4964f_row231_col5, #T_4964f_row232_col4, #T_4964f_row232_col5, #T_4964f_row233_col4, #T_4964f_row233_col5, #T_4964f_row234_col4, #T_4964f_row234_col5, #T_4964f_row235_col4, #T_4964f_row235_col5, #T_4964f_row236_col4, #T_4964f_row236_col5, #T_4964f_row237_col4, #T_4964f_row237_col5, #T_4964f_row238_col4, #T_4964f_row238_col5, #T_4964f_row239_col4, #T_4964f_row239_col5, #T_4964f_row240_col4, #T_4964f_row240_col5, #T_4964f_row241_col4, #T_4964f_row241_col5, #T_4964f_row242_col4, #T_4964f_row242_col5, #T_4964f_row243_col4, #T_4964f_row243_col5, #T_4964f_row244_col4, #T_4964f_row244_col5, #T_4964f_row245_col4, #T_4964f_row245_col5, #T_4964f_row246_col4, #T_4964f_row246_col5, #T_4964f_row247_col4, #T_4964f_row247_col5, #T_4964f_row248_col4, #T_4964f_row248_col5, #T_4964f_row249_col4, #T_4964f_row249_col5, #T_4964f_row250_col4, #T_4964f_row250_col5, #T_4964f_row251_col4, #T_4964f_row251_col5, #T_4964f_row252_col4, #T_4964f_row252_col5, #T_4964f_row253_col4, #T_4964f_row253_col5, #T_4964f_row254_col4, #T_4964f_row254_col5, #T_4964f_row255_col4, #T_4964f_row255_col5, #T_4964f_row256_col4, #T_4964f_row256_col5, #T_4964f_row257_col4, #T_4964f_row257_col5, #T_4964f_row258_col4, #T_4964f_row258_col5, #T_4964f_row259_col4, #T_4964f_row259_col5, #T_4964f_row260_col4, #T_4964f_row260_col5, #T_4964f_row261_col4, #T_4964f_row261_col5 {\n",
       "  width: 500px;\n",
       "  white-space: normal;\n",
       "}\n",
       "</style>\n",
       "<table id=\"T_4964f\">\n",
       "  <thead>\n",
       "    <tr>\n",
       "      <th class=\"blank level0\" >&nbsp;</th>\n",
       "      <th id=\"T_4964f_level0_col0\" class=\"col_heading level0 col0\" >pub_date</th>\n",
       "      <th id=\"T_4964f_level0_col1\" class=\"col_heading level0 col1\" >ticker</th>\n",
       "      <th id=\"T_4964f_level0_col2\" class=\"col_heading level0 col2\" >publisher</th>\n",
       "      <th id=\"T_4964f_level0_col3\" class=\"col_heading level0 col3\" >period</th>\n",
       "      <th id=\"T_4964f_level0_col4\" class=\"col_heading level0 col4\" >title</th>\n",
       "      <th id=\"T_4964f_level0_col5\" class=\"col_heading level0 col5\" >content</th>\n",
       "      <th id=\"T_4964f_level0_col6\" class=\"col_heading level0 col6\" >prosusai</th>\n",
       "      <th id=\"T_4964f_level0_col7\" class=\"col_heading level0 col7\" >yiyanghkust</th>\n",
       "      <th id=\"T_4964f_level0_col8\" class=\"col_heading level0 col8\" >ziweichen</th>\n",
       "      <th id=\"T_4964f_level0_col9\" class=\"col_heading level0 col9\" >aventiq_ai</th>\n",
       "    </tr>\n",
       "  </thead>\n",
       "  <tbody>\n",
       "    <tr>\n",
       "      <th id=\"T_4964f_level0_row0\" class=\"row_heading level0 row0\" >30</th>\n",
       "      <td id=\"T_4964f_row0_col0\" class=\"data row0 col0\" >2025-03-27 07:40:00</td>\n",
       "      <td id=\"T_4964f_row0_col1\" class=\"data row0 col1\" >AAPL</td>\n",
       "      <td id=\"T_4964f_row0_col2\" class=\"data row0 col2\" >Motley Fool</td>\n",
       "      <td id=\"T_4964f_row0_col3\" class=\"data row0 col3\" >yesterday</td>\n",
       "      <td id=\"T_4964f_row0_col4\" class=\"data row0 col4\" >1 Unstoppable Vanguard ETF to Confidently Buy With $400 During the Stock Market Sell-Off</td>\n",
       "      <td id=\"T_4964f_row0_col5\" class=\"data row0 col5\" >The S&P 500 (SNPINDEX: ^GSPC) index returned 25% (including dividends) in 2024, which was more than double its long-term average of 10.5%.  The Vanguard Growth ETF (NYSEMKT: VUG) is an exchange-traded fund that tracks the performance of the CRSP Growth Index by holding the same stocks and maintaining similar weightings, and it has outperformed the S&P 500 every year, on average, since it was established in 2004.  The Vanguard ETF is currently down 11% from its record high amid the broader stock market sell-off, so investors can pick up a single share for under $400.</td>\n",
       "      <td id=\"T_4964f_row0_col6\" class=\"data row0 col6\" >1</td>\n",
       "      <td id=\"T_4964f_row0_col7\" class=\"data row0 col7\" >5</td>\n",
       "      <td id=\"T_4964f_row0_col8\" class=\"data row0 col8\" >3</td>\n",
       "      <td id=\"T_4964f_row0_col9\" class=\"data row0 col9\" >1</td>\n",
       "    </tr>\n",
       "    <tr>\n",
       "      <th id=\"T_4964f_level0_row1\" class=\"row_heading level0 row1\" >82</th>\n",
       "      <td id=\"T_4964f_row1_col0\" class=\"data row1 col0\" >2025-03-23 07:40:00</td>\n",
       "      <td id=\"T_4964f_row1_col1\" class=\"data row1 col1\" >AAPL</td>\n",
       "      <td id=\"T_4964f_row1_col2\" class=\"data row1 col2\" >Insider Monkey</td>\n",
       "      <td id=\"T_4964f_row1_col3\" class=\"data row1 col3\" >5 days ago</td>\n",
       "      <td id=\"T_4964f_row1_col4\" class=\"data row1 col4\" >Apple (AAPL) Poised for AI Boom Without Heavy GPU Investments, Says Evercore</td>\n",
       "      <td id=\"T_4964f_row1_col5\" class=\"data row1 col5\" >We recently published a list of 10 High-Flying AI Stocks to Watch Today. In this article, we are going to take a look at where Apple Inc. (NASDAQ:AAPL) stands against other high-flying AI stocks to watch today. The most important conference in the tech world is in full swing, yet investors are skeptical about what’s […]</td>\n",
       "      <td id=\"T_4964f_row1_col6\" class=\"data row1 col6\" >3</td>\n",
       "      <td id=\"T_4964f_row1_col7\" class=\"data row1 col7\" >1</td>\n",
       "      <td id=\"T_4964f_row1_col8\" class=\"data row1 col8\" >1</td>\n",
       "      <td id=\"T_4964f_row1_col9\" class=\"data row1 col9\" >5</td>\n",
       "    </tr>\n",
       "    <tr>\n",
       "      <th id=\"T_4964f_level0_row2\" class=\"row_heading level0 row2\" >95</th>\n",
       "      <td id=\"T_4964f_row2_col0\" class=\"data row2 col0\" >2025-03-22 07:40:00</td>\n",
       "      <td id=\"T_4964f_row2_col1\" class=\"data row2 col1\" >AAPL</td>\n",
       "      <td id=\"T_4964f_row2_col2\" class=\"data row2 col2\" >Zacks</td>\n",
       "      <td id=\"T_4964f_row2_col3\" class=\"data row2 col3\" >6 days ago</td>\n",
       "      <td id=\"T_4964f_row2_col4\" class=\"data row2 col4\" >Severance's Fame is Good for Apple TV+: Is it True for AAPL Stock?</td>\n",
       "      <td id=\"T_4964f_row2_col5\" class=\"data row2 col5\" >Severance's success bodes well for Apple's Services business. However, Apple Intelligence delays, stretched valuation, and China headwinds are concerns in 2025.</td>\n",
       "      <td id=\"T_4964f_row2_col6\" class=\"data row2 col6\" >2</td>\n",
       "      <td id=\"T_4964f_row2_col7\" class=\"data row2 col7\" >5</td>\n",
       "      <td id=\"T_4964f_row2_col8\" class=\"data row2 col8\" >1</td>\n",
       "      <td id=\"T_4964f_row2_col9\" class=\"data row2 col9\" >1</td>\n",
       "    </tr>\n",
       "    <tr>\n",
       "      <th id=\"T_4964f_level0_row3\" class=\"row_heading level0 row3\" >96</th>\n",
       "      <td id=\"T_4964f_row3_col0\" class=\"data row3 col0\" >2025-03-22 07:40:00</td>\n",
       "      <td id=\"T_4964f_row3_col1\" class=\"data row3 col1\" >AAPL</td>\n",
       "      <td id=\"T_4964f_row3_col2\" class=\"data row3 col2\" >Medical Device Network</td>\n",
       "      <td id=\"T_4964f_row3_col3\" class=\"data row3 col3\" >6 days ago</td>\n",
       "      <td id=\"T_4964f_row3_col4\" class=\"data row3 col4\" >Apple’s hearing aid software is impressive, but audiologists still matter</td>\n",
       "      <td id=\"T_4964f_row3_col5\" class=\"data row3 col5\" >An expert from the Royal National Institute for Deaf People is enthusiastic about the innovation but cautions about its medical limitations.</td>\n",
       "      <td id=\"T_4964f_row3_col6\" class=\"data row3 col6\" >2</td>\n",
       "      <td id=\"T_4964f_row3_col7\" class=\"data row3 col7\" >5</td>\n",
       "      <td id=\"T_4964f_row3_col8\" class=\"data row3 col8\" >3</td>\n",
       "      <td id=\"T_4964f_row3_col9\" class=\"data row3 col9\" >1</td>\n",
       "    </tr>\n",
       "    <tr>\n",
       "      <th id=\"T_4964f_level0_row4\" class=\"row_heading level0 row4\" >120</th>\n",
       "      <td id=\"T_4964f_row4_col0\" class=\"data row4 col0\" >2025-03-21 07:40:00</td>\n",
       "      <td id=\"T_4964f_row4_col1\" class=\"data row4 col1\" >AAPL</td>\n",
       "      <td id=\"T_4964f_row4_col2\" class=\"data row4 col2\" >GuruFocus.com</td>\n",
       "      <td id=\"T_4964f_row4_col3\" class=\"data row4 col3\" >7 days ago</td>\n",
       "      <td id=\"T_4964f_row4_col4\" class=\"data row4 col4\" >Apple's $1 Billion Streaming Sinkhole: Is This the Costliest Gamble in Tech?</td>\n",
       "      <td id=\"T_4964f_row4_col5\" class=\"data row4 col5\" >Apple TV+ is bleeding cash while rivals dominate--yet investors remain unfazed. Is Apple quietly rewriting the streaming playbook?</td>\n",
       "      <td id=\"T_4964f_row4_col6\" class=\"data row4 col6\" >1</td>\n",
       "      <td id=\"T_4964f_row4_col7\" class=\"data row4 col7\" >5</td>\n",
       "      <td id=\"T_4964f_row4_col8\" class=\"data row4 col8\" >2</td>\n",
       "      <td id=\"T_4964f_row4_col9\" class=\"data row4 col9\" >1</td>\n",
       "    </tr>\n",
       "    <tr>\n",
       "      <th id=\"T_4964f_level0_row5\" class=\"row_heading level0 row5\" >125</th>\n",
       "      <td id=\"T_4964f_row5_col0\" class=\"data row5 col0\" >2025-03-21 07:40:00</td>\n",
       "      <td id=\"T_4964f_row5_col1\" class=\"data row5 col1\" >AAPL</td>\n",
       "      <td id=\"T_4964f_row5_col2\" class=\"data row5 col2\" >GuruFocus.com</td>\n",
       "      <td id=\"T_4964f_row5_col3\" class=\"data row5 col3\" >7 days ago</td>\n",
       "      <td id=\"T_4964f_row5_col4\" class=\"data row5 col4\" >Apple TV+ Inches to 45M Users as Losses Reach $1B Yearly</td>\n",
       "      <td id=\"T_4964f_row5_col5\" class=\"data row5 col5\" >Apple TV+ is nearing 45 million subscribers despite incurring approximately $1 billion in losses each year</td>\n",
       "      <td id=\"T_4964f_row5_col6\" class=\"data row5 col6\" >2</td>\n",
       "      <td id=\"T_4964f_row5_col7\" class=\"data row5 col7\" >4</td>\n",
       "      <td id=\"T_4964f_row5_col8\" class=\"data row5 col8\" >5</td>\n",
       "      <td id=\"T_4964f_row5_col9\" class=\"data row5 col9\" >1</td>\n",
       "    </tr>\n",
       "    <tr>\n",
       "      <th id=\"T_4964f_level0_row6\" class=\"row_heading level0 row6\" >134</th>\n",
       "      <td id=\"T_4964f_row6_col0\" class=\"data row6 col0\" >2025-03-21 07:40:00</td>\n",
       "      <td id=\"T_4964f_row6_col1\" class=\"data row6 col1\" >AAPL</td>\n",
       "      <td id=\"T_4964f_row6_col2\" class=\"data row6 col2\" >Motley Fool</td>\n",
       "      <td id=\"T_4964f_row6_col3\" class=\"data row6 col3\" >7 days ago</td>\n",
       "      <td id=\"T_4964f_row6_col4\" class=\"data row6 col4\" >Will Apple's Slow Artificial Intelligence Rollout Help or Hurt the Stock?</td>\n",
       "      <td id=\"T_4964f_row6_col5\" class=\"data row6 col5\" >Artificial intelligence (AI) is a huge opportunity for a device maker like Apple (NASDAQ: AAPL) to take advantage of.  With more than 2.2 billion active Apple devices in the world, if the company can use AI to help create a new income stream for its operations, that can be a huge growth catalyst for the business, which is something Apple needs given its underwhelming growth in recent years.  While the company has announced plans for Apple Intelligence to run on its phones and for that to potentially lead to more sales, it's been lagging behind its rivals.</td>\n",
       "      <td id=\"T_4964f_row6_col6\" class=\"data row6 col6\" >5</td>\n",
       "      <td id=\"T_4964f_row6_col7\" class=\"data row6 col7\" >5</td>\n",
       "      <td id=\"T_4964f_row6_col8\" class=\"data row6 col8\" >1</td>\n",
       "      <td id=\"T_4964f_row6_col9\" class=\"data row6 col9\" >5</td>\n",
       "    </tr>\n",
       "    <tr>\n",
       "      <th id=\"T_4964f_level0_row7\" class=\"row_heading level0 row7\" >145</th>\n",
       "      <td id=\"T_4964f_row7_col0\" class=\"data row7 col0\" >2025-03-20 07:40:00</td>\n",
       "      <td id=\"T_4964f_row7_col1\" class=\"data row7 col1\" >AAPL</td>\n",
       "      <td id=\"T_4964f_row7_col2\" class=\"data row7 col2\" >Yahoo Finance</td>\n",
       "      <td id=\"T_4964f_row7_col3\" class=\"data row7 col3\" >8 days ago</td>\n",
       "      <td id=\"T_4964f_row7_col4\" class=\"data row7 col4\" >Nvidia's GTC fallout reminds 'Magnificent 7' investors of an important lesson</td>\n",
       "      <td id=\"T_4964f_row7_col5\" class=\"data row7 col5\" >Nvidia is still the straw that stirs the drink for the \"Magnificent Seven.\"</td>\n",
       "      <td id=\"T_4964f_row7_col6\" class=\"data row7 col6\" >3</td>\n",
       "      <td id=\"T_4964f_row7_col7\" class=\"data row7 col7\" >1</td>\n",
       "      <td id=\"T_4964f_row7_col8\" class=\"data row7 col8\" >4</td>\n",
       "      <td id=\"T_4964f_row7_col9\" class=\"data row7 col9\" >5</td>\n",
       "    </tr>\n",
       "    <tr>\n",
       "      <th id=\"T_4964f_level0_row8\" class=\"row_heading level0 row8\" >171</th>\n",
       "      <td id=\"T_4964f_row8_col0\" class=\"data row8 col0\" >2025-03-19 07:40:00</td>\n",
       "      <td id=\"T_4964f_row8_col1\" class=\"data row8 col1\" >AAPL</td>\n",
       "      <td id=\"T_4964f_row8_col2\" class=\"data row8 col2\" >Insider Monkey</td>\n",
       "      <td id=\"T_4964f_row8_col3\" class=\"data row8 col3\" >9 days ago</td>\n",
       "      <td id=\"T_4964f_row8_col4\" class=\"data row8 col4\" >Apple(NASDAQ:AAPL) Bullish on AI Supercycle vs. Cautious on Current Progress</td>\n",
       "      <td id=\"T_4964f_row8_col5\" class=\"data row8 col5\" >Recently we took a detailed look at the Top 10 Trending Stocks and Apple Inc. (NASDAQ:AAPL) was one of the stocks that were highlighted in that article. The volatile tariff policies of the new US administration and a slowdown in AI-related enthusiasm took a toll on the market over the past few weeks. However, some analysts […]</td>\n",
       "      <td id=\"T_4964f_row8_col6\" class=\"data row8 col6\" >3</td>\n",
       "      <td id=\"T_4964f_row8_col7\" class=\"data row8 col7\" >5</td>\n",
       "      <td id=\"T_4964f_row8_col8\" class=\"data row8 col8\" >2</td>\n",
       "      <td id=\"T_4964f_row8_col9\" class=\"data row8 col9\" >1</td>\n",
       "    </tr>\n",
       "    <tr>\n",
       "      <th id=\"T_4964f_level0_row9\" class=\"row_heading level0 row9\" >179</th>\n",
       "      <td id=\"T_4964f_row9_col0\" class=\"data row9 col0\" >2025-03-19 07:40:00</td>\n",
       "      <td id=\"T_4964f_row9_col1\" class=\"data row9 col1\" >AAPL</td>\n",
       "      <td id=\"T_4964f_row9_col2\" class=\"data row9 col2\" >Motley Fool</td>\n",
       "      <td id=\"T_4964f_row9_col3\" class=\"data row9 col3\" >9 days ago</td>\n",
       "      <td id=\"T_4964f_row9_col4\" class=\"data row9 col4\" >Apple Partner Globalstar Just Set a New Record, but Did You Even Notice?</td>\n",
       "      <td id=\"T_4964f_row9_col5\" class=\"data row9 col5\" >On Feb. 27, satellite communications company Globalstar (NASDAQ: GSAT) reported the end of its best revenue year ever.  Two weeks after announcing its results, Globalstar's stock is...down about 2% from its pre-earnings price!  How good was Globalstar's news last month?</td>\n",
       "      <td id=\"T_4964f_row9_col6\" class=\"data row9 col6\" >1</td>\n",
       "      <td id=\"T_4964f_row9_col7\" class=\"data row9 col7\" >5</td>\n",
       "      <td id=\"T_4964f_row9_col8\" class=\"data row9 col8\" >2</td>\n",
       "      <td id=\"T_4964f_row9_col9\" class=\"data row9 col9\" >1</td>\n",
       "    </tr>\n",
       "    <tr>\n",
       "      <th id=\"T_4964f_level0_row10\" class=\"row_heading level0 row10\" >187</th>\n",
       "      <td id=\"T_4964f_row10_col0\" class=\"data row10 col0\" >2025-03-18 07:40:00</td>\n",
       "      <td id=\"T_4964f_row10_col1\" class=\"data row10 col1\" >AAPL</td>\n",
       "      <td id=\"T_4964f_row10_col2\" class=\"data row10 col2\" >Insider Monkey</td>\n",
       "      <td id=\"T_4964f_row10_col3\" class=\"data row10 col3\" >10 days ago</td>\n",
       "      <td id=\"T_4964f_row10_col4\" class=\"data row10 col4\" >Wedbush Remains Bullish on Apple (AAPL), Sees AI-Driven Growth Ahead Despite Market Volatility</td>\n",
       "      <td id=\"T_4964f_row10_col5\" class=\"data row10 col5\" >We recently published a list of Top 10 AI News Updates to Catch Up on This Weekend. In this article, we are going to take a look at where Apple Inc. (NASDAQ:AAPL) stands against other AI stocks that are our list of top AI news updates. Artificial intelligence models are often criticized for “hallucination”, but […]</td>\n",
       "      <td id=\"T_4964f_row10_col6\" class=\"data row10 col6\" >3</td>\n",
       "      <td id=\"T_4964f_row10_col7\" class=\"data row10 col7\" >5</td>\n",
       "      <td id=\"T_4964f_row10_col8\" class=\"data row10 col8\" >3</td>\n",
       "      <td id=\"T_4964f_row10_col9\" class=\"data row10 col9\" >1</td>\n",
       "    </tr>\n",
       "    <tr>\n",
       "      <th id=\"T_4964f_level0_row11\" class=\"row_heading level0 row11\" >190</th>\n",
       "      <td id=\"T_4964f_row11_col0\" class=\"data row11 col0\" >2025-03-18 07:40:00</td>\n",
       "      <td id=\"T_4964f_row11_col1\" class=\"data row11 col1\" >AAPL</td>\n",
       "      <td id=\"T_4964f_row11_col2\" class=\"data row11 col2\" >Bloomberg</td>\n",
       "      <td id=\"T_4964f_row11_col3\" class=\"data row11 col3\" >10 days ago</td>\n",
       "      <td id=\"T_4964f_row11_col4\" class=\"data row11 col4\" >Apple’s Worst Week Since 2022 Spurs Wall Street to Defend Stock</td>\n",
       "      <td id=\"T_4964f_row11_col5\" class=\"data row11 col5\" >(Bloomberg) -- The recent selloff in Apple Inc. shares is an opportunity for investors as the tech giant is still seen by some analysts as a safe haven in periods of market volatility.Most Read from BloombergICE Eyes Massive California Tent Facility Amid Space ConstraintsHow Britain’s Most Bike-Friendly New Town Got BuiltThe Dark Prophet of Car-Clogged CitiesWashington, DC, Region Braces for ‘Devastating’ Cuts from CongressSaving the Signature Sound of Washington, DCShares fell nearly 11% last w</td>\n",
       "      <td id=\"T_4964f_row11_col6\" class=\"data row11 col6\" >1</td>\n",
       "      <td id=\"T_4964f_row11_col7\" class=\"data row11 col7\" >5</td>\n",
       "      <td id=\"T_4964f_row11_col8\" class=\"data row11 col8\" >1</td>\n",
       "      <td id=\"T_4964f_row11_col9\" class=\"data row11 col9\" >1</td>\n",
       "    </tr>\n",
       "    <tr>\n",
       "      <th id=\"T_4964f_level0_row12\" class=\"row_heading level0 row12\" >193</th>\n",
       "      <td id=\"T_4964f_row12_col0\" class=\"data row12 col0\" >2025-03-18 07:40:00</td>\n",
       "      <td id=\"T_4964f_row12_col1\" class=\"data row12 col1\" >AAPL</td>\n",
       "      <td id=\"T_4964f_row12_col2\" class=\"data row12 col2\" >Barrons.com</td>\n",
       "      <td id=\"T_4964f_row12_col3\" class=\"data row12 col3\" >10 days ago</td>\n",
       "      <td id=\"T_4964f_row12_col4\" class=\"data row12 col4\" >Apple Stock Is Dropping. Why Its AI Delay Could Be an Opportunity.</td>\n",
       "      <td id=\"T_4964f_row12_col5\" class=\"data row12 col5\" >Ben Reitzes at Melius Research says the company’s upgrade to the iPhone X a few years ago offers lessons.</td>\n",
       "      <td id=\"T_4964f_row12_col6\" class=\"data row12 col6\" >1</td>\n",
       "      <td id=\"T_4964f_row12_col7\" class=\"data row12 col7\" >5</td>\n",
       "      <td id=\"T_4964f_row12_col8\" class=\"data row12 col8\" >2</td>\n",
       "      <td id=\"T_4964f_row12_col9\" class=\"data row12 col9\" >1</td>\n",
       "    </tr>\n",
       "    <tr>\n",
       "      <th id=\"T_4964f_level0_row13\" class=\"row_heading level0 row13\" >206</th>\n",
       "      <td id=\"T_4964f_row13_col0\" class=\"data row13 col0\" >2025-03-28 03:40:00</td>\n",
       "      <td id=\"T_4964f_row13_col1\" class=\"data row13 col1\" >NVDA</td>\n",
       "      <td id=\"T_4964f_row13_col2\" class=\"data row13 col2\" >Motley Fool</td>\n",
       "      <td id=\"T_4964f_row13_col3\" class=\"data row13 col3\" >4 hours ago</td>\n",
       "      <td id=\"T_4964f_row13_col4\" class=\"data row13 col4\" >Why Quantum Computing Stock IonQ Soared This Week</td>\n",
       "      <td id=\"T_4964f_row13_col5\" class=\"data row13 col5\" >One of the leaders was IonQ (NYSE: IONQ) with a massive 237% gain.  IonQ shares are down by 43% year to date.  IonQ stock was up double-digits before paring some of those gains in late trading Thursday.</td>\n",
       "      <td id=\"T_4964f_row13_col6\" class=\"data row13 col6\" >1</td>\n",
       "      <td id=\"T_4964f_row13_col7\" class=\"data row13 col7\" >5</td>\n",
       "      <td id=\"T_4964f_row13_col8\" class=\"data row13 col8\" >4</td>\n",
       "      <td id=\"T_4964f_row13_col9\" class=\"data row13 col9\" >1</td>\n",
       "    </tr>\n",
       "    <tr>\n",
       "      <th id=\"T_4964f_level0_row14\" class=\"row_heading level0 row14\" >223</th>\n",
       "      <td id=\"T_4964f_row14_col0\" class=\"data row14 col0\" >2025-03-28 00:40:00</td>\n",
       "      <td id=\"T_4964f_row14_col1\" class=\"data row14 col1\" >NVDA</td>\n",
       "      <td id=\"T_4964f_row14_col2\" class=\"data row14 col2\" >MT Newswires</td>\n",
       "      <td id=\"T_4964f_row14_col3\" class=\"data row14 col3\" >7 hours ago</td>\n",
       "      <td id=\"T_4964f_row14_col4\" class=\"data row14 col4\" >Top Midday Stories: Tesla Shares Rise, Others Fall Post-Tariff Announcement; Nvidia-Backed CoreWeave to Cut IPO to $1.5 Billion</td>\n",
       "      <td id=\"T_4964f_row14_col5\" class=\"data row14 col5\" >All three major US stock indexes were up in late-morning trading Thursday as investors weigh the lat</td>\n",
       "      <td id=\"T_4964f_row14_col6\" class=\"data row14 col6\" >1</td>\n",
       "      <td id=\"T_4964f_row14_col7\" class=\"data row14 col7\" >5</td>\n",
       "      <td id=\"T_4964f_row14_col8\" class=\"data row14 col8\" >3</td>\n",
       "      <td id=\"T_4964f_row14_col9\" class=\"data row14 col9\" >1</td>\n",
       "    </tr>\n",
       "    <tr>\n",
       "      <th id=\"T_4964f_level0_row15\" class=\"row_heading level0 row15\" >228</th>\n",
       "      <td id=\"T_4964f_row15_col0\" class=\"data row15 col0\" >2025-03-27 23:40:00</td>\n",
       "      <td id=\"T_4964f_row15_col1\" class=\"data row15 col1\" >NVDA</td>\n",
       "      <td id=\"T_4964f_row15_col2\" class=\"data row15 col2\" >Motley Fool</td>\n",
       "      <td id=\"T_4964f_row15_col3\" class=\"data row15 col3\" >8 hours ago</td>\n",
       "      <td id=\"T_4964f_row15_col4\" class=\"data row15 col4\" >Is IonQ a Buy?</td>\n",
       "      <td id=\"T_4964f_row15_col5\" class=\"data row15 col5\" >IonQ shares have dropped 53% from January highs. Is this quantum computing pioneer now a bargain or still too speculative?</td>\n",
       "      <td id=\"T_4964f_row15_col6\" class=\"data row15 col6\" >1</td>\n",
       "      <td id=\"T_4964f_row15_col7\" class=\"data row15 col7\" >5</td>\n",
       "      <td id=\"T_4964f_row15_col8\" class=\"data row15 col8\" >1</td>\n",
       "      <td id=\"T_4964f_row15_col9\" class=\"data row15 col9\" >1</td>\n",
       "    </tr>\n",
       "    <tr>\n",
       "      <th id=\"T_4964f_level0_row16\" class=\"row_heading level0 row16\" >229</th>\n",
       "      <td id=\"T_4964f_row16_col0\" class=\"data row16 col0\" >2025-03-27 23:40:00</td>\n",
       "      <td id=\"T_4964f_row16_col1\" class=\"data row16 col1\" >NVDA</td>\n",
       "      <td id=\"T_4964f_row16_col2\" class=\"data row16 col2\" >Insider Monkey</td>\n",
       "      <td id=\"T_4964f_row16_col3\" class=\"data row16 col3\" >8 hours ago</td>\n",
       "      <td id=\"T_4964f_row16_col4\" class=\"data row16 col4\" >Jim Cramer: ‘Owning NVIDIA (NVDA) Has Become a Heavy Burden’ – Is the AI Boom a Bubble?</td>\n",
       "      <td id=\"T_4964f_row16_col5\" class=\"data row16 col5\" >We recently published a list of Jim Cramer Discussed These 6 Stocks Recently. In this article, we are going to take a look at where NVIDIA Corporation (NASDAQ:NVDA) stands against other stocks that Jim Cramer discussed. On Tuesday, Jim Cramer, host of Mad Money, defended the growing wave of artificial intelligence investment, drawing a distinct […]</td>\n",
       "      <td id=\"T_4964f_row16_col6\" class=\"data row16 col6\" >3</td>\n",
       "      <td id=\"T_4964f_row16_col7\" class=\"data row16 col7\" >3</td>\n",
       "      <td id=\"T_4964f_row16_col8\" class=\"data row16 col8\" >5</td>\n",
       "      <td id=\"T_4964f_row16_col9\" class=\"data row16 col9\" >1</td>\n",
       "    </tr>\n",
       "    <tr>\n",
       "      <th id=\"T_4964f_level0_row17\" class=\"row_heading level0 row17\" >232</th>\n",
       "      <td id=\"T_4964f_row17_col0\" class=\"data row17 col0\" >2025-03-27 22:40:00</td>\n",
       "      <td id=\"T_4964f_row17_col1\" class=\"data row17 col1\" >NVDA</td>\n",
       "      <td id=\"T_4964f_row17_col2\" class=\"data row17 col2\" >TipRanks</td>\n",
       "      <td id=\"T_4964f_row17_col3\" class=\"data row17 col3\" >9 hours ago</td>\n",
       "      <td id=\"T_4964f_row17_col4\" class=\"data row17 col4\" >TD Cowen sees slower data center equipment purchasing as negative for Vertiv</td>\n",
       "      <td id=\"T_4964f_row17_col5\" class=\"data row17 col5\" >TD Cowen analysts led by Michael Elias tell investors that the firm’s channel checks at Nvidia’s (NVDA) GTC event and DCD Connect indicate aggregate data center demand has increased year-over-year, despite more pervasive lease cancellations and deferrals by Microsoft (MSFT) than initially thought. The pullback from Microsoft has created an opportunity for both Google (GOOGL) and Meta (META) to backfill capacity, the firm says. Hyperscale redesigns for higher densities are driving slower DC equip</td>\n",
       "      <td id=\"T_4964f_row17_col6\" class=\"data row17 col6\" >5</td>\n",
       "      <td id=\"T_4964f_row17_col7\" class=\"data row17 col7\" >1</td>\n",
       "      <td id=\"T_4964f_row17_col8\" class=\"data row17 col8\" >1</td>\n",
       "      <td id=\"T_4964f_row17_col9\" class=\"data row17 col9\" >1</td>\n",
       "    </tr>\n",
       "    <tr>\n",
       "      <th id=\"T_4964f_level0_row18\" class=\"row_heading level0 row18\" >237</th>\n",
       "      <td id=\"T_4964f_row18_col0\" class=\"data row18 col0\" >2025-03-27 21:40:00</td>\n",
       "      <td id=\"T_4964f_row18_col1\" class=\"data row18 col1\" >NVDA</td>\n",
       "      <td id=\"T_4964f_row18_col2\" class=\"data row18 col2\" >Reuters</td>\n",
       "      <td id=\"T_4964f_row18_col3\" class=\"data row18 col3\" >10 hours ago</td>\n",
       "      <td id=\"T_4964f_row18_col4\" class=\"data row18 col4\" >Nvidia-backed CoreWeave plans to downsize US IPO, source says</td>\n",
       "      <td id=\"T_4964f_row18_col5\" class=\"data row18 col5\" >(Reuters) -CoreWeave plans to reduce the size of its U.S. initial public offering and price its shares below the indicated range, a person familiar with the matter told Reuters on Thursday, dampening expectations that the listing would boost investor appetite for IPOs.  The Nvidia-backed cloud services provider is now looking to sell 37.5 million shares, 23.5% less than originally planned, and price them at $40 apiece, well below even the low end of the indicated range, the source added, requesting anonymity discussing confidential information.  Nvidia will anchor the CoreWeave IPO at the price with a $250 million order, the source said.</td>\n",
       "      <td id=\"T_4964f_row18_col6\" class=\"data row18 col6\" >5</td>\n",
       "      <td id=\"T_4964f_row18_col7\" class=\"data row18 col7\" >1</td>\n",
       "      <td id=\"T_4964f_row18_col8\" class=\"data row18 col8\" >1</td>\n",
       "      <td id=\"T_4964f_row18_col9\" class=\"data row18 col9\" >2</td>\n",
       "    </tr>\n",
       "    <tr>\n",
       "      <th id=\"T_4964f_level0_row19\" class=\"row_heading level0 row19\" >239</th>\n",
       "      <td id=\"T_4964f_row19_col0\" class=\"data row19 col0\" >2025-03-27 21:40:00</td>\n",
       "      <td id=\"T_4964f_row19_col1\" class=\"data row19 col1\" >NVDA</td>\n",
       "      <td id=\"T_4964f_row19_col2\" class=\"data row19 col2\" >Insider Monkey</td>\n",
       "      <td id=\"T_4964f_row19_col3\" class=\"data row19 col3\" >10 hours ago</td>\n",
       "      <td id=\"T_4964f_row19_col4\" class=\"data row19 col4\" >Investing Expert Says the Street Is Underestimating NVDA</td>\n",
       "      <td id=\"T_4964f_row19_col5\" class=\"data row19 col5\" >“Investors are having a hard time wrapping their heads around Nvidia’s future,” and the Street is underestimating the tech giant’s future profits, Hatem Dhiab, a Founding and Managing Partner at Gerber Kawasaki Wealth and Investment Management, told Schwab Network recently. Moreover, Nvidia (NVDA) has multiple, strong, upcoming, positive catalysts, Dhiab contended. Investors Having Trouble Understanding […]</td>\n",
       "      <td id=\"T_4964f_row19_col6\" class=\"data row19 col6\" >3</td>\n",
       "      <td id=\"T_4964f_row19_col7\" class=\"data row19 col7\" >5</td>\n",
       "      <td id=\"T_4964f_row19_col8\" class=\"data row19 col8\" >5</td>\n",
       "      <td id=\"T_4964f_row19_col9\" class=\"data row19 col9\" >1</td>\n",
       "    </tr>\n",
       "    <tr>\n",
       "      <th id=\"T_4964f_level0_row20\" class=\"row_heading level0 row20\" >250</th>\n",
       "      <td id=\"T_4964f_row20_col0\" class=\"data row20 col0\" >2025-03-27 18:40:00</td>\n",
       "      <td id=\"T_4964f_row20_col1\" class=\"data row20 col1\" >NVDA</td>\n",
       "      <td id=\"T_4964f_row20_col2\" class=\"data row20 col2\" >Motley Fool</td>\n",
       "      <td id=\"T_4964f_row20_col3\" class=\"data row20 col3\" >13 hours ago</td>\n",
       "      <td id=\"T_4964f_row20_col4\" class=\"data row20 col4\" >3 Cheap Tech Stocks to Buy Right Now</td>\n",
       "      <td id=\"T_4964f_row20_col5\" class=\"data row20 col5\" >While the broader stock market has bounced back somewhat following its recent sell-off, many tech stocks are still well off their highs and trading at cheap valuations.  Trading down almost 23% from its highs, Nvidia (NASDAQ: NVDA) is an attractively valued growth stock.  The company has been able to more than double its revenue each of the past two years, while analysts expect the company's revenue to increase by more than 50% this year.</td>\n",
       "      <td id=\"T_4964f_row20_col6\" class=\"data row20 col6\" >2</td>\n",
       "      <td id=\"T_4964f_row20_col7\" class=\"data row20 col7\" >5</td>\n",
       "      <td id=\"T_4964f_row20_col8\" class=\"data row20 col8\" >5</td>\n",
       "      <td id=\"T_4964f_row20_col9\" class=\"data row20 col9\" >1</td>\n",
       "    </tr>\n",
       "    <tr>\n",
       "      <th id=\"T_4964f_level0_row21\" class=\"row_heading level0 row21\" >254</th>\n",
       "      <td id=\"T_4964f_row21_col0\" class=\"data row21 col0\" >2025-03-27 16:40:00</td>\n",
       "      <td id=\"T_4964f_row21_col1\" class=\"data row21 col1\" >NVDA</td>\n",
       "      <td id=\"T_4964f_row21_col2\" class=\"data row21 col2\" >Motley Fool</td>\n",
       "      <td id=\"T_4964f_row21_col3\" class=\"data row21 col3\" >15 hours ago</td>\n",
       "      <td id=\"T_4964f_row21_col4\" class=\"data row21 col4\" >Is Palantir Technologies Stock a Buy Now?</td>\n",
       "      <td id=\"T_4964f_row21_col5\" class=\"data row21 col5\" >The AI stock is heating up again after tumbling nearly 40% from its high.</td>\n",
       "      <td id=\"T_4964f_row21_col6\" class=\"data row21 col6\" >5</td>\n",
       "      <td id=\"T_4964f_row21_col7\" class=\"data row21 col7\" >5</td>\n",
       "      <td id=\"T_4964f_row21_col8\" class=\"data row21 col8\" >1</td>\n",
       "      <td id=\"T_4964f_row21_col9\" class=\"data row21 col9\" >5</td>\n",
       "    </tr>\n",
       "    <tr>\n",
       "      <th id=\"T_4964f_level0_row22\" class=\"row_heading level0 row22\" >318</th>\n",
       "      <td id=\"T_4964f_row22_col0\" class=\"data row22 col0\" >2025-03-27 07:40:00</td>\n",
       "      <td id=\"T_4964f_row22_col1\" class=\"data row22 col1\" >NVDA</td>\n",
       "      <td id=\"T_4964f_row22_col2\" class=\"data row22 col2\" >Motley Fool</td>\n",
       "      <td id=\"T_4964f_row22_col3\" class=\"data row22 col3\" >yesterday</td>\n",
       "      <td id=\"T_4964f_row22_col4\" class=\"data row22 col4\" >4 Growth Stocks Down 20% or More to Buy Right Now</td>\n",
       "      <td id=\"T_4964f_row22_col5\" class=\"data row22 col5\" >Who in the investing world isn't seeking out promising growth stocks to add to their long-term portfolio?  Think, for example, of Palantir Technologies, with a recent price-to-earnings (P/E) ratio of 460.  Thus, it can be effective to search for promising growth stocks among those that have fallen in value, as they can present more appealing valuations.</td>\n",
       "      <td id=\"T_4964f_row22_col6\" class=\"data row22 col6\" >2</td>\n",
       "      <td id=\"T_4964f_row22_col7\" class=\"data row22 col7\" >5</td>\n",
       "      <td id=\"T_4964f_row22_col8\" class=\"data row22 col8\" >3</td>\n",
       "      <td id=\"T_4964f_row22_col9\" class=\"data row22 col9\" >1</td>\n",
       "    </tr>\n",
       "    <tr>\n",
       "      <th id=\"T_4964f_level0_row23\" class=\"row_heading level0 row23\" >326</th>\n",
       "      <td id=\"T_4964f_row23_col0\" class=\"data row23 col0\" >2025-03-27 07:40:00</td>\n",
       "      <td id=\"T_4964f_row23_col1\" class=\"data row23 col1\" >NVDA</td>\n",
       "      <td id=\"T_4964f_row23_col2\" class=\"data row23 col2\" >Motley Fool</td>\n",
       "      <td id=\"T_4964f_row23_col3\" class=\"data row23 col3\" >yesterday</td>\n",
       "      <td id=\"T_4964f_row23_col4\" class=\"data row23 col4\" >Could Investing $10,000 in SoundHound AI Stock Make You a Millionaire?</td>\n",
       "      <td id=\"T_4964f_row23_col5\" class=\"data row23 col5\" >Part of this downfall occurred because Nvidia sold its entire stake in SoundHound AI, although the broader AI sell-off also harmed the stock.  Although SoundHound AI has been hit rather hard by sell-offs, it could still be a successful investment if it continues its growth trajectory.  For an investment to turn $10,000 into $1 million, it must increase in value by 100 times.</td>\n",
       "      <td id=\"T_4964f_row23_col6\" class=\"data row23 col6\" >5</td>\n",
       "      <td id=\"T_4964f_row23_col7\" class=\"data row23 col7\" >1</td>\n",
       "      <td id=\"T_4964f_row23_col8\" class=\"data row23 col8\" >3</td>\n",
       "      <td id=\"T_4964f_row23_col9\" class=\"data row23 col9\" >5</td>\n",
       "    </tr>\n",
       "    <tr>\n",
       "      <th id=\"T_4964f_level0_row24\" class=\"row_heading level0 row24\" >330</th>\n",
       "      <td id=\"T_4964f_row24_col0\" class=\"data row24 col0\" >2025-03-27 07:40:00</td>\n",
       "      <td id=\"T_4964f_row24_col1\" class=\"data row24 col1\" >NVDA</td>\n",
       "      <td id=\"T_4964f_row24_col2\" class=\"data row24 col2\" >Motley Fool</td>\n",
       "      <td id=\"T_4964f_row24_col3\" class=\"data row24 col3\" >yesterday</td>\n",
       "      <td id=\"T_4964f_row24_col4\" class=\"data row24 col4\" >Hold Nvidia? Here Are 2 Unstoppable AI Stocks You Can Also Buy.</td>\n",
       "      <td id=\"T_4964f_row24_col5\" class=\"data row24 col5\" >Many artificial intelligence (AI) stocks have sold off recently, presenting compelling buying opportunities for patient investors.  Here's why Vertiv Holdings (NYSE: VRT) and Nebius Group (NASDAQ: NBIS) stand out as two exciting AI stocks -- and why Nvidia is also an incredible buying opportunity hiding in plain sight.  Daniel Foelber (Nvidia): Despite blowout earnings and impressive new product innovations, Nvidia stock is down over 12% year to date at the time of this writing.</td>\n",
       "      <td id=\"T_4964f_row24_col6\" class=\"data row24 col6\" >1</td>\n",
       "      <td id=\"T_4964f_row24_col7\" class=\"data row24 col7\" >5</td>\n",
       "      <td id=\"T_4964f_row24_col8\" class=\"data row24 col8\" >1</td>\n",
       "      <td id=\"T_4964f_row24_col9\" class=\"data row24 col9\" >1</td>\n",
       "    </tr>\n",
       "    <tr>\n",
       "      <th id=\"T_4964f_level0_row25\" class=\"row_heading level0 row25\" >333</th>\n",
       "      <td id=\"T_4964f_row25_col0\" class=\"data row25 col0\" >2025-03-27 07:40:00</td>\n",
       "      <td id=\"T_4964f_row25_col1\" class=\"data row25 col1\" >NVDA</td>\n",
       "      <td id=\"T_4964f_row25_col2\" class=\"data row25 col2\" >Motley Fool</td>\n",
       "      <td id=\"T_4964f_row25_col3\" class=\"data row25 col3\" >yesterday</td>\n",
       "      <td id=\"T_4964f_row25_col4\" class=\"data row25 col4\" >1 Unstoppable Vanguard ETF to Confidently Buy With $400 During the Stock Market Sell-Off</td>\n",
       "      <td id=\"T_4964f_row25_col5\" class=\"data row25 col5\" >The S&P 500 (SNPINDEX: ^GSPC) index returned 25% (including dividends) in 2024, which was more than double its long-term average of 10.5%.  The Vanguard Growth ETF (NYSEMKT: VUG) is an exchange-traded fund that tracks the performance of the CRSP Growth Index by holding the same stocks and maintaining similar weightings, and it has outperformed the S&P 500 every year, on average, since it was established in 2004.  The Vanguard ETF is currently down 11% from its record high amid the broader stock market sell-off, so investors can pick up a single share for under $400.</td>\n",
       "      <td id=\"T_4964f_row25_col6\" class=\"data row25 col6\" >1</td>\n",
       "      <td id=\"T_4964f_row25_col7\" class=\"data row25 col7\" >5</td>\n",
       "      <td id=\"T_4964f_row25_col8\" class=\"data row25 col8\" >3</td>\n",
       "      <td id=\"T_4964f_row25_col9\" class=\"data row25 col9\" >1</td>\n",
       "    </tr>\n",
       "    <tr>\n",
       "      <th id=\"T_4964f_level0_row26\" class=\"row_heading level0 row26\" >350</th>\n",
       "      <td id=\"T_4964f_row26_col0\" class=\"data row26 col0\" >2025-03-27 07:40:00</td>\n",
       "      <td id=\"T_4964f_row26_col1\" class=\"data row26 col1\" >NVDA</td>\n",
       "      <td id=\"T_4964f_row26_col2\" class=\"data row26 col2\" >TheStreet</td>\n",
       "      <td id=\"T_4964f_row26_col3\" class=\"data row26 col3\" >yesterday</td>\n",
       "      <td id=\"T_4964f_row26_col4\" class=\"data row26 col4\" >Quantum computing leader has blunt 9-word take on Nvidia stock</td>\n",
       "      <td id=\"T_4964f_row26_col5\" class=\"data row26 col5\" >A rival tech leader has issued some surprising advice for investors.</td>\n",
       "      <td id=\"T_4964f_row26_col6\" class=\"data row26 col6\" >3</td>\n",
       "      <td id=\"T_4964f_row26_col7\" class=\"data row26 col7\" >1</td>\n",
       "      <td id=\"T_4964f_row26_col8\" class=\"data row26 col8\" >2</td>\n",
       "      <td id=\"T_4964f_row26_col9\" class=\"data row26 col9\" >5</td>\n",
       "    </tr>\n",
       "    <tr>\n",
       "      <th id=\"T_4964f_level0_row27\" class=\"row_heading level0 row27\" >373</th>\n",
       "      <td id=\"T_4964f_row27_col0\" class=\"data row27 col0\" >2025-03-26 07:40:00</td>\n",
       "      <td id=\"T_4964f_row27_col1\" class=\"data row27 col1\" >NVDA</td>\n",
       "      <td id=\"T_4964f_row27_col2\" class=\"data row27 col2\" >Motley Fool</td>\n",
       "      <td id=\"T_4964f_row27_col3\" class=\"data row27 col3\" >2 days ago</td>\n",
       "      <td id=\"T_4964f_row27_col4\" class=\"data row27 col4\" >Is Advanced Micro Devices Stock a Buy Now?</td>\n",
       "      <td id=\"T_4964f_row27_col5\" class=\"data row27 col5\" >Intel has fallen behind as large data center operators seek more powerful chips to run artificial intelligence (AI) models.  This is benefiting one of the leading suppliers of graphics processing units (GPUs), Advanced Micro Devices (NASDAQ: AMD).  While Intel stock has fallen 46% over the last five years, AMD shares have rocketed 166%.</td>\n",
       "      <td id=\"T_4964f_row27_col6\" class=\"data row27 col6\" >1</td>\n",
       "      <td id=\"T_4964f_row27_col7\" class=\"data row27 col7\" >5</td>\n",
       "      <td id=\"T_4964f_row27_col8\" class=\"data row27 col8\" >4</td>\n",
       "      <td id=\"T_4964f_row27_col9\" class=\"data row27 col9\" >1</td>\n",
       "    </tr>\n",
       "    <tr>\n",
       "      <th id=\"T_4964f_level0_row28\" class=\"row_heading level0 row28\" >391</th>\n",
       "      <td id=\"T_4964f_row28_col0\" class=\"data row28 col0\" >2025-03-26 07:40:00</td>\n",
       "      <td id=\"T_4964f_row28_col1\" class=\"data row28 col1\" >NVDA</td>\n",
       "      <td id=\"T_4964f_row28_col2\" class=\"data row28 col2\" >Motley Fool</td>\n",
       "      <td id=\"T_4964f_row28_col3\" class=\"data row28 col3\" >2 days ago</td>\n",
       "      <td id=\"T_4964f_row28_col4\" class=\"data row28 col4\" >Nvidia Stock Looks Cheap Right Now, but Here's 1 Reason It Could Actually Be Expensive</td>\n",
       "      <td id=\"T_4964f_row28_col5\" class=\"data row28 col5\" >The artificial intelligence (AI) behemoth Nvidia (NASDAQ: NVDA) has gotten off to a rocky start this year, with shares down about 9% (as of March 24) so far in 2025.  Many would argue that this is the case for Nvidia, with Wall Street near a consensus buy on the stock.  A big part of the Nvidia story over the years and in the present is the company's incredible margins.</td>\n",
       "      <td id=\"T_4964f_row28_col6\" class=\"data row28 col6\" >1</td>\n",
       "      <td id=\"T_4964f_row28_col7\" class=\"data row28 col7\" >5</td>\n",
       "      <td id=\"T_4964f_row28_col8\" class=\"data row28 col8\" >5</td>\n",
       "      <td id=\"T_4964f_row28_col9\" class=\"data row28 col9\" >1</td>\n",
       "    </tr>\n",
       "    <tr>\n",
       "      <th id=\"T_4964f_level0_row29\" class=\"row_heading level0 row29\" >396</th>\n",
       "      <td id=\"T_4964f_row29_col0\" class=\"data row29 col0\" >2025-03-26 07:40:00</td>\n",
       "      <td id=\"T_4964f_row29_col1\" class=\"data row29 col1\" >NVDA</td>\n",
       "      <td id=\"T_4964f_row29_col2\" class=\"data row29 col2\" >Motley Fool</td>\n",
       "      <td id=\"T_4964f_row29_col3\" class=\"data row29 col3\" >2 days ago</td>\n",
       "      <td id=\"T_4964f_row29_col4\" class=\"data row29 col4\" >Is Advanced Micro Devices Stock a Buy?</td>\n",
       "      <td id=\"T_4964f_row29_col5\" class=\"data row29 col5\" >One of the more tantalizing stocks following the recent market sell-off is Advanced Micro Devices (NASDAQ: AMD).  Shares are down about 40% over the past year as of this writing, despite the chipmaker's strong revenue growth related to artificial intelligence (AI) over the past year.  When investors look at AMD, they tend to focus on the company's position as the No. 2 player in graphics processing units (GPUs) behind leader Nvidia.</td>\n",
       "      <td id=\"T_4964f_row29_col6\" class=\"data row29 col6\" >1</td>\n",
       "      <td id=\"T_4964f_row29_col7\" class=\"data row29 col7\" >5</td>\n",
       "      <td id=\"T_4964f_row29_col8\" class=\"data row29 col8\" >3</td>\n",
       "      <td id=\"T_4964f_row29_col9\" class=\"data row29 col9\" >1</td>\n",
       "    </tr>\n",
       "    <tr>\n",
       "      <th id=\"T_4964f_level0_row30\" class=\"row_heading level0 row30\" >409</th>\n",
       "      <td id=\"T_4964f_row30_col0\" class=\"data row30 col0\" >2025-03-27 22:40:00</td>\n",
       "      <td id=\"T_4964f_row30_col1\" class=\"data row30 col1\" >MSFT</td>\n",
       "      <td id=\"T_4964f_row30_col2\" class=\"data row30 col2\" >TipRanks</td>\n",
       "      <td id=\"T_4964f_row30_col3\" class=\"data row30 col3\" >9 hours ago</td>\n",
       "      <td id=\"T_4964f_row30_col4\" class=\"data row30 col4\" >TD Cowen sees slower data center equipment purchasing as negative for Vertiv</td>\n",
       "      <td id=\"T_4964f_row30_col5\" class=\"data row30 col5\" >TD Cowen analysts led by Michael Elias tell investors that the firm’s channel checks at Nvidia’s (NVDA) GTC event and DCD Connect indicate aggregate data center demand has increased year-over-year, despite more pervasive lease cancellations and deferrals by Microsoft (MSFT) than initially thought. The pullback from Microsoft has created an opportunity for both Google (GOOGL) and Meta (META) to backfill capacity, the firm says. Hyperscale redesigns for higher densities are driving slower DC equip</td>\n",
       "      <td id=\"T_4964f_row30_col6\" class=\"data row30 col6\" >5</td>\n",
       "      <td id=\"T_4964f_row30_col7\" class=\"data row30 col7\" >1</td>\n",
       "      <td id=\"T_4964f_row30_col8\" class=\"data row30 col8\" >1</td>\n",
       "      <td id=\"T_4964f_row30_col9\" class=\"data row30 col9\" >1</td>\n",
       "    </tr>\n",
       "    <tr>\n",
       "      <th id=\"T_4964f_level0_row31\" class=\"row_heading level0 row31\" >434</th>\n",
       "      <td id=\"T_4964f_row31_col0\" class=\"data row31 col0\" >2025-03-27 07:40:00</td>\n",
       "      <td id=\"T_4964f_row31_col1\" class=\"data row31 col1\" >MSFT</td>\n",
       "      <td id=\"T_4964f_row31_col2\" class=\"data row31 col2\" >GuruFocus.com</td>\n",
       "      <td id=\"T_4964f_row31_col3\" class=\"data row31 col3\" >yesterday</td>\n",
       "      <td id=\"T_4964f_row31_col4\" class=\"data row31 col4\" >Analysts Urge \"Buy on the Dip\" as Microsoft Dips 10% Amid 157% AI Surge</td>\n",
       "      <td id=\"T_4964f_row31_col5\" class=\"data row31 col5\" >Microsoft's Stock Slide Opens Buying Window with Explosive AI Growth</td>\n",
       "      <td id=\"T_4964f_row31_col6\" class=\"data row31 col6\" >1</td>\n",
       "      <td id=\"T_4964f_row31_col7\" class=\"data row31 col7\" >5</td>\n",
       "      <td id=\"T_4964f_row31_col8\" class=\"data row31 col8\" >5</td>\n",
       "      <td id=\"T_4964f_row31_col9\" class=\"data row31 col9\" >2</td>\n",
       "    </tr>\n",
       "    <tr>\n",
       "      <th id=\"T_4964f_level0_row32\" class=\"row_heading level0 row32\" >441</th>\n",
       "      <td id=\"T_4964f_row32_col0\" class=\"data row32 col0\" >2025-03-27 07:40:00</td>\n",
       "      <td id=\"T_4964f_row32_col1\" class=\"data row32 col1\" >MSFT</td>\n",
       "      <td id=\"T_4964f_row32_col2\" class=\"data row32 col2\" >Motley Fool</td>\n",
       "      <td id=\"T_4964f_row32_col3\" class=\"data row32 col3\" >yesterday</td>\n",
       "      <td id=\"T_4964f_row32_col4\" class=\"data row32 col4\" >1 Unstoppable Vanguard ETF to Confidently Buy With $400 During the Stock Market Sell-Off</td>\n",
       "      <td id=\"T_4964f_row32_col5\" class=\"data row32 col5\" >The S&P 500 (SNPINDEX: ^GSPC) index returned 25% (including dividends) in 2024, which was more than double its long-term average of 10.5%.  The Vanguard Growth ETF (NYSEMKT: VUG) is an exchange-traded fund that tracks the performance of the CRSP Growth Index by holding the same stocks and maintaining similar weightings, and it has outperformed the S&P 500 every year, on average, since it was established in 2004.  The Vanguard ETF is currently down 11% from its record high amid the broader stock market sell-off, so investors can pick up a single share for under $400.</td>\n",
       "      <td id=\"T_4964f_row32_col6\" class=\"data row32 col6\" >1</td>\n",
       "      <td id=\"T_4964f_row32_col7\" class=\"data row32 col7\" >5</td>\n",
       "      <td id=\"T_4964f_row32_col8\" class=\"data row32 col8\" >3</td>\n",
       "      <td id=\"T_4964f_row32_col9\" class=\"data row32 col9\" >1</td>\n",
       "    </tr>\n",
       "    <tr>\n",
       "      <th id=\"T_4964f_level0_row33\" class=\"row_heading level0 row33\" >455</th>\n",
       "      <td id=\"T_4964f_row33_col0\" class=\"data row33 col0\" >2025-03-26 07:40:00</td>\n",
       "      <td id=\"T_4964f_row33_col1\" class=\"data row33 col1\" >MSFT</td>\n",
       "      <td id=\"T_4964f_row33_col2\" class=\"data row33 col2\" >Motley Fool</td>\n",
       "      <td id=\"T_4964f_row33_col3\" class=\"data row33 col3\" >2 days ago</td>\n",
       "      <td id=\"T_4964f_row33_col4\" class=\"data row33 col4\" >Is Advanced Micro Devices Stock a Buy Now?</td>\n",
       "      <td id=\"T_4964f_row33_col5\" class=\"data row33 col5\" >Intel has fallen behind as large data center operators seek more powerful chips to run artificial intelligence (AI) models.  This is benefiting one of the leading suppliers of graphics processing units (GPUs), Advanced Micro Devices (NASDAQ: AMD).  While Intel stock has fallen 46% over the last five years, AMD shares have rocketed 166%.</td>\n",
       "      <td id=\"T_4964f_row33_col6\" class=\"data row33 col6\" >1</td>\n",
       "      <td id=\"T_4964f_row33_col7\" class=\"data row33 col7\" >5</td>\n",
       "      <td id=\"T_4964f_row33_col8\" class=\"data row33 col8\" >4</td>\n",
       "      <td id=\"T_4964f_row33_col9\" class=\"data row33 col9\" >1</td>\n",
       "    </tr>\n",
       "    <tr>\n",
       "      <th id=\"T_4964f_level0_row34\" class=\"row_heading level0 row34\" >487</th>\n",
       "      <td id=\"T_4964f_row34_col0\" class=\"data row34 col0\" >2025-03-24 07:40:00</td>\n",
       "      <td id=\"T_4964f_row34_col1\" class=\"data row34 col1\" >MSFT</td>\n",
       "      <td id=\"T_4964f_row34_col2\" class=\"data row34 col2\" >Motley Fool</td>\n",
       "      <td id=\"T_4964f_row34_col3\" class=\"data row34 col3\" >4 days ago</td>\n",
       "      <td id=\"T_4964f_row34_col4\" class=\"data row34 col4\" >Nasdaq Correction: The Best Magnificent Seven Stock to Buy on the Dip Right Now</td>\n",
       "      <td id=\"T_4964f_row34_col5\" class=\"data row34 col5\" >The technology-heavy Nasdaq Composite index currently finds itself in correction territory.  There is a chance the recent pullback will turn into something worse, such as a prolonged bear market.  Over the past 10 years, the Nasdaq has corrected six times, good for about once every 1.67 years.</td>\n",
       "      <td id=\"T_4964f_row34_col6\" class=\"data row34 col6\" >1</td>\n",
       "      <td id=\"T_4964f_row34_col7\" class=\"data row34 col7\" >5</td>\n",
       "      <td id=\"T_4964f_row34_col8\" class=\"data row34 col8\" >5</td>\n",
       "      <td id=\"T_4964f_row34_col9\" class=\"data row34 col9\" >1</td>\n",
       "    </tr>\n",
       "    <tr>\n",
       "      <th id=\"T_4964f_level0_row35\" class=\"row_heading level0 row35\" >538</th>\n",
       "      <td id=\"T_4964f_row35_col0\" class=\"data row35 col0\" >2025-03-20 07:40:00</td>\n",
       "      <td id=\"T_4964f_row35_col1\" class=\"data row35 col1\" >MSFT</td>\n",
       "      <td id=\"T_4964f_row35_col2\" class=\"data row35 col2\" >Yahoo Finance</td>\n",
       "      <td id=\"T_4964f_row35_col3\" class=\"data row35 col3\" >8 days ago</td>\n",
       "      <td id=\"T_4964f_row35_col4\" class=\"data row35 col4\" >Nvidia's GTC fallout reminds 'Magnificent 7' investors of an important lesson</td>\n",
       "      <td id=\"T_4964f_row35_col5\" class=\"data row35 col5\" >Nvidia is still the straw that stirs the drink for the \"Magnificent Seven.\"</td>\n",
       "      <td id=\"T_4964f_row35_col6\" class=\"data row35 col6\" >3</td>\n",
       "      <td id=\"T_4964f_row35_col7\" class=\"data row35 col7\" >1</td>\n",
       "      <td id=\"T_4964f_row35_col8\" class=\"data row35 col8\" >4</td>\n",
       "      <td id=\"T_4964f_row35_col9\" class=\"data row35 col9\" >5</td>\n",
       "    </tr>\n",
       "    <tr>\n",
       "      <th id=\"T_4964f_level0_row36\" class=\"row_heading level0 row36\" >567</th>\n",
       "      <td id=\"T_4964f_row36_col0\" class=\"data row36 col0\" >2025-03-19 07:40:00</td>\n",
       "      <td id=\"T_4964f_row36_col1\" class=\"data row36 col1\" >MSFT</td>\n",
       "      <td id=\"T_4964f_row36_col2\" class=\"data row36 col2\" >StockStory</td>\n",
       "      <td id=\"T_4964f_row36_col3\" class=\"data row36 col3\" >9 days ago</td>\n",
       "      <td id=\"T_4964f_row36_col4\" class=\"data row36 col4\" >Automation Software Stocks Q4 In Review: Pegasystems (NASDAQ:PEGA) Vs Peers</td>\n",
       "      <td id=\"T_4964f_row36_col5\" class=\"data row36 col5\" >As the Q4 earnings season wraps, let’s dig into this quarter’s best and worst performers in the automation software industry, including Pegasystems (NASDAQ:PEGA) and its peers.</td>\n",
       "      <td id=\"T_4964f_row36_col6\" class=\"data row36 col6\" >1</td>\n",
       "      <td id=\"T_4964f_row36_col7\" class=\"data row36 col7\" >5</td>\n",
       "      <td id=\"T_4964f_row36_col8\" class=\"data row36 col8\" >5</td>\n",
       "      <td id=\"T_4964f_row36_col9\" class=\"data row36 col9\" >1</td>\n",
       "    </tr>\n",
       "    <tr>\n",
       "      <th id=\"T_4964f_level0_row37\" class=\"row_heading level0 row37\" >569</th>\n",
       "      <td id=\"T_4964f_row37_col0\" class=\"data row37 col0\" >2025-03-18 07:40:00</td>\n",
       "      <td id=\"T_4964f_row37_col1\" class=\"data row37 col1\" >MSFT</td>\n",
       "      <td id=\"T_4964f_row37_col2\" class=\"data row37 col2\" >Insider Monkey</td>\n",
       "      <td id=\"T_4964f_row37_col3\" class=\"data row37 col3\" >10 days ago</td>\n",
       "      <td id=\"T_4964f_row37_col4\" class=\"data row37 col4\" >Why Microsoft Corporation (MSFT) is One of the Best Strong Buy Stocks to Buy Right Now</td>\n",
       "      <td id=\"T_4964f_row37_col5\" class=\"data row37 col5\" >We recently published a list of the 10 Best Strong Buy Stocks To Buy Right Now. In this article, we are going to take a look at where Microsoft Corporation (NASDAQ:MSFT) stands against the other best strong buy stocks to buy right now. Fears of a slowing economy have hit stocks recently, along with concerns […]</td>\n",
       "      <td id=\"T_4964f_row37_col6\" class=\"data row37 col6\" >3</td>\n",
       "      <td id=\"T_4964f_row37_col7\" class=\"data row37 col7\" >5</td>\n",
       "      <td id=\"T_4964f_row37_col8\" class=\"data row37 col8\" >1</td>\n",
       "      <td id=\"T_4964f_row37_col9\" class=\"data row37 col9\" >1</td>\n",
       "    </tr>\n",
       "    <tr>\n",
       "      <th id=\"T_4964f_level0_row38\" class=\"row_heading level0 row38\" >591</th>\n",
       "      <td id=\"T_4964f_row38_col0\" class=\"data row38 col0\" >2025-03-17 07:40:00</td>\n",
       "      <td id=\"T_4964f_row38_col1\" class=\"data row38 col1\" >MSFT</td>\n",
       "      <td id=\"T_4964f_row38_col2\" class=\"data row38 col2\" >Motley Fool</td>\n",
       "      <td id=\"T_4964f_row38_col3\" class=\"data row38 col3\" >11 days ago</td>\n",
       "      <td id=\"T_4964f_row38_col4\" class=\"data row38 col4\" >Better Artificial Intelligence (AI) Stock: Palantir Technologies vs. Microsoft</td>\n",
       "      <td id=\"T_4964f_row38_col5\" class=\"data row38 col5\" >These AI-powered enterprise software giants saw pullbacks in their stock prices, but only one is worth buying right now.</td>\n",
       "      <td id=\"T_4964f_row38_col6\" class=\"data row38 col6\" >2</td>\n",
       "      <td id=\"T_4964f_row38_col7\" class=\"data row38 col7\" >5</td>\n",
       "      <td id=\"T_4964f_row38_col8\" class=\"data row38 col8\" >3</td>\n",
       "      <td id=\"T_4964f_row38_col9\" class=\"data row38 col9\" >1</td>\n",
       "    </tr>\n",
       "    <tr>\n",
       "      <th id=\"T_4964f_level0_row39\" class=\"row_heading level0 row39\" >628</th>\n",
       "      <td id=\"T_4964f_row39_col0\" class=\"data row39 col0\" >2025-03-27 07:41:00</td>\n",
       "      <td id=\"T_4964f_row39_col1\" class=\"data row39 col1\" >AMZN</td>\n",
       "      <td id=\"T_4964f_row39_col2\" class=\"data row39 col2\" >Investor's Business Daily</td>\n",
       "      <td id=\"T_4964f_row39_col3\" class=\"data row39 col3\" >yesterday</td>\n",
       "      <td id=\"T_4964f_row39_col4\" class=\"data row39 col4\" >Despite DeepSeek Buzz, Amazon, U.S. Tech Giants Have These AI Advantages Over China, Says Analyst</td>\n",
       "      <td id=\"T_4964f_row39_col5\" class=\"data row39 col5\" >DeepSeek's reportedly lower-cost AI models have made investors uneasy about big spending from U.S. tech giants such as Amazon.  Shares of China tech giants such as Alibaba, Baidu and Tencent Holdings have so far this year outperformed U.S. tech leaders Amazon, Microsoft, Facebook parent Meta Platforms and Google parent company Alphabet.</td>\n",
       "      <td id=\"T_4964f_row39_col6\" class=\"data row39 col6\" >4</td>\n",
       "      <td id=\"T_4964f_row39_col7\" class=\"data row39 col7\" >5</td>\n",
       "      <td id=\"T_4964f_row39_col8\" class=\"data row39 col8\" >5</td>\n",
       "      <td id=\"T_4964f_row39_col9\" class=\"data row39 col9\" >1</td>\n",
       "    </tr>\n",
       "    <tr>\n",
       "      <th id=\"T_4964f_level0_row40\" class=\"row_heading level0 row40\" >629</th>\n",
       "      <td id=\"T_4964f_row40_col0\" class=\"data row40 col0\" >2025-03-27 07:41:00</td>\n",
       "      <td id=\"T_4964f_row40_col1\" class=\"data row40 col1\" >AMZN</td>\n",
       "      <td id=\"T_4964f_row40_col2\" class=\"data row40 col2\" >Insider Monkey</td>\n",
       "      <td id=\"T_4964f_row40_col3\" class=\"data row40 col3\" >yesterday</td>\n",
       "      <td id=\"T_4964f_row40_col4\" class=\"data row40 col4\" >Meta Platforms, Inc. (META), Amazon.com, Inc. (AMZN), TJX (TJX) Touted by Longtime Pro Stock Picker</td>\n",
       "      <td id=\"T_4964f_row40_col5\" class=\"data row40 col5\" >Meta Platforms Inc. (META), Amazon (AMZN), and TJX (TJX) are all well-positioned to move “a lot higher in the next quarter,” Andrew Arons, the founder and Managing Partner of Synergy Advisory Management Group told Schwab Network recently. Meta’s Valuation Is Attractive As of last week, Meta’s valuation had reached its lowest point in almost a […]</td>\n",
       "      <td id=\"T_4964f_row40_col6\" class=\"data row40 col6\" >1</td>\n",
       "      <td id=\"T_4964f_row40_col7\" class=\"data row40 col7\" >5</td>\n",
       "      <td id=\"T_4964f_row40_col8\" class=\"data row40 col8\" >5</td>\n",
       "      <td id=\"T_4964f_row40_col9\" class=\"data row40 col9\" >1</td>\n",
       "    </tr>\n",
       "    <tr>\n",
       "      <th id=\"T_4964f_level0_row41\" class=\"row_heading level0 row41\" >641</th>\n",
       "      <td id=\"T_4964f_row41_col0\" class=\"data row41 col0\" >2025-03-27 07:41:00</td>\n",
       "      <td id=\"T_4964f_row41_col1\" class=\"data row41 col1\" >AMZN</td>\n",
       "      <td id=\"T_4964f_row41_col2\" class=\"data row41 col2\" >Motley Fool</td>\n",
       "      <td id=\"T_4964f_row41_col3\" class=\"data row41 col3\" >yesterday</td>\n",
       "      <td id=\"T_4964f_row41_col4\" class=\"data row41 col4\" >1 Unstoppable Vanguard ETF to Confidently Buy With $400 During the Stock Market Sell-Off</td>\n",
       "      <td id=\"T_4964f_row41_col5\" class=\"data row41 col5\" >The S&P 500 (SNPINDEX: ^GSPC) index returned 25% (including dividends) in 2024, which was more than double its long-term average of 10.5%.  The Vanguard Growth ETF (NYSEMKT: VUG) is an exchange-traded fund that tracks the performance of the CRSP Growth Index by holding the same stocks and maintaining similar weightings, and it has outperformed the S&P 500 every year, on average, since it was established in 2004.  The Vanguard ETF is currently down 11% from its record high amid the broader stock market sell-off, so investors can pick up a single share for under $400.</td>\n",
       "      <td id=\"T_4964f_row41_col6\" class=\"data row41 col6\" >1</td>\n",
       "      <td id=\"T_4964f_row41_col7\" class=\"data row41 col7\" >5</td>\n",
       "      <td id=\"T_4964f_row41_col8\" class=\"data row41 col8\" >3</td>\n",
       "      <td id=\"T_4964f_row41_col9\" class=\"data row41 col9\" >1</td>\n",
       "    </tr>\n",
       "    <tr>\n",
       "      <th id=\"T_4964f_level0_row42\" class=\"row_heading level0 row42\" >665</th>\n",
       "      <td id=\"T_4964f_row42_col0\" class=\"data row42 col0\" >2025-03-26 07:41:00</td>\n",
       "      <td id=\"T_4964f_row42_col1\" class=\"data row42 col1\" >AMZN</td>\n",
       "      <td id=\"T_4964f_row42_col2\" class=\"data row42 col2\" >Motley Fool</td>\n",
       "      <td id=\"T_4964f_row42_col3\" class=\"data row42 col3\" >2 days ago</td>\n",
       "      <td id=\"T_4964f_row42_col4\" class=\"data row42 col4\" >Nasdaq Correction: 1 Magnificent Stock Down 20% From Highs to Buy Now and Hold Forever</td>\n",
       "      <td id=\"T_4964f_row42_col5\" class=\"data row42 col5\" >The Nasdaq Composite (NASDAQINDEX: ^IXIC) is making its way back up after falling into correction territory, and as of Monday's close, it's down almost 6% this year.  Amazon (NASDAQ: AMZN) is about 16% off of its highs even though it reported a fabulous performance in the 2024 fourth quarter, and it's an incredible opportunity to buy shares on the dip.  Artificial intelligence (AI) is opening up new avenues of growth for many companies, including Amazon.</td>\n",
       "      <td id=\"T_4964f_row42_col6\" class=\"data row42 col6\" >1</td>\n",
       "      <td id=\"T_4964f_row42_col7\" class=\"data row42 col7\" >5</td>\n",
       "      <td id=\"T_4964f_row42_col8\" class=\"data row42 col8\" >5</td>\n",
       "      <td id=\"T_4964f_row42_col9\" class=\"data row42 col9\" >1</td>\n",
       "    </tr>\n",
       "    <tr>\n",
       "      <th id=\"T_4964f_level0_row43\" class=\"row_heading level0 row43\" >669</th>\n",
       "      <td id=\"T_4964f_row43_col0\" class=\"data row43 col0\" >2025-03-26 07:41:00</td>\n",
       "      <td id=\"T_4964f_row43_col1\" class=\"data row43 col1\" >AMZN</td>\n",
       "      <td id=\"T_4964f_row43_col2\" class=\"data row43 col2\" >Motley Fool</td>\n",
       "      <td id=\"T_4964f_row43_col3\" class=\"data row43 col3\" >2 days ago</td>\n",
       "      <td id=\"T_4964f_row43_col4\" class=\"data row43 col4\" >1 Growth Stock Down 12% to Buy Right Now</td>\n",
       "      <td id=\"T_4964f_row43_col5\" class=\"data row43 col5\" >Growth stocks benefit the most when the economy is thriving and the general environment is positive for expansion and spending.  President Donald Trump's tariffs on imports have stirred up concerns about higher prices in the U.S. and how that could hurt corporate earnings and consumer spending.  As a result, some investors have shifted out of growth stocks since any economic headwinds could weigh on these companies.</td>\n",
       "      <td id=\"T_4964f_row43_col6\" class=\"data row43 col6\" >1</td>\n",
       "      <td id=\"T_4964f_row43_col7\" class=\"data row43 col7\" >5</td>\n",
       "      <td id=\"T_4964f_row43_col8\" class=\"data row43 col8\" >1</td>\n",
       "      <td id=\"T_4964f_row43_col9\" class=\"data row43 col9\" >1</td>\n",
       "    </tr>\n",
       "    <tr>\n",
       "      <th id=\"T_4964f_level0_row44\" class=\"row_heading level0 row44\" >685</th>\n",
       "      <td id=\"T_4964f_row44_col0\" class=\"data row44 col0\" >2025-03-24 07:41:00</td>\n",
       "      <td id=\"T_4964f_row44_col1\" class=\"data row44 col1\" >AMZN</td>\n",
       "      <td id=\"T_4964f_row44_col2\" class=\"data row44 col2\" >Motley Fool</td>\n",
       "      <td id=\"T_4964f_row44_col3\" class=\"data row44 col3\" >4 days ago</td>\n",
       "      <td id=\"T_4964f_row44_col4\" class=\"data row44 col4\" >Nasdaq Correction: The Best Magnificent Seven Stock to Buy on the Dip Right Now</td>\n",
       "      <td id=\"T_4964f_row44_col5\" class=\"data row44 col5\" >The technology-heavy Nasdaq Composite index currently finds itself in correction territory.  There is a chance the recent pullback will turn into something worse, such as a prolonged bear market.  Over the past 10 years, the Nasdaq has corrected six times, good for about once every 1.67 years.</td>\n",
       "      <td id=\"T_4964f_row44_col6\" class=\"data row44 col6\" >1</td>\n",
       "      <td id=\"T_4964f_row44_col7\" class=\"data row44 col7\" >5</td>\n",
       "      <td id=\"T_4964f_row44_col8\" class=\"data row44 col8\" >5</td>\n",
       "      <td id=\"T_4964f_row44_col9\" class=\"data row44 col9\" >1</td>\n",
       "    </tr>\n",
       "    <tr>\n",
       "      <th id=\"T_4964f_level0_row45\" class=\"row_heading level0 row45\" >713</th>\n",
       "      <td id=\"T_4964f_row45_col0\" class=\"data row45 col0\" >2025-03-21 07:41:00</td>\n",
       "      <td id=\"T_4964f_row45_col1\" class=\"data row45 col1\" >AMZN</td>\n",
       "      <td id=\"T_4964f_row45_col2\" class=\"data row45 col2\" >FastCompany</td>\n",
       "      <td id=\"T_4964f_row45_col3\" class=\"data row45 col3\" >7 days ago</td>\n",
       "      <td id=\"T_4964f_row45_col4\" class=\"data row45 col4\" >How bogus stories about Amazon laying off 14,000 managers spread like wildfire across the internet</td>\n",
       "      <td id=\"T_4964f_row45_col5\" class=\"data row45 col5\" >A false figure made it into a string of recent news stories and social posts, demonstrating how the drive for clicks and engagement can win out over facts.</td>\n",
       "      <td id=\"T_4964f_row45_col6\" class=\"data row45 col6\" >3</td>\n",
       "      <td id=\"T_4964f_row45_col7\" class=\"data row45 col7\" >3</td>\n",
       "      <td id=\"T_4964f_row45_col8\" class=\"data row45 col8\" >5</td>\n",
       "      <td id=\"T_4964f_row45_col9\" class=\"data row45 col9\" >1</td>\n",
       "    </tr>\n",
       "    <tr>\n",
       "      <th id=\"T_4964f_level0_row46\" class=\"row_heading level0 row46\" >714</th>\n",
       "      <td id=\"T_4964f_row46_col0\" class=\"data row46 col0\" >2025-03-21 07:41:00</td>\n",
       "      <td id=\"T_4964f_row46_col1\" class=\"data row46 col1\" >AMZN</td>\n",
       "      <td id=\"T_4964f_row46_col2\" class=\"data row46 col2\" >Motley Fool</td>\n",
       "      <td id=\"T_4964f_row46_col3\" class=\"data row46 col3\" >7 days ago</td>\n",
       "      <td id=\"T_4964f_row46_col4\" class=\"data row46 col4\" >Why Carvana Stock Is Surging Today</td>\n",
       "      <td id=\"T_4964f_row46_col5\" class=\"data row46 col5\" >Carvana (NYSE: CVNA) stock is posting big gains in Thursday's trading thanks to bullish analyst coverage.  Before the market opened this morning, Piper Sandler published new coverage on Carvana and upgraded its rating on the stock.  Bank of America also issued coverage suggesting that Carvana is unlikely to face big pressures from Amazon's entry into the auto market.</td>\n",
       "      <td id=\"T_4964f_row46_col6\" class=\"data row46 col6\" >5</td>\n",
       "      <td id=\"T_4964f_row46_col7\" class=\"data row46 col7\" >5</td>\n",
       "      <td id=\"T_4964f_row46_col8\" class=\"data row46 col8\" >1</td>\n",
       "      <td id=\"T_4964f_row46_col9\" class=\"data row46 col9\" >5</td>\n",
       "    </tr>\n",
       "    <tr>\n",
       "      <th id=\"T_4964f_level0_row47\" class=\"row_heading level0 row47\" >736</th>\n",
       "      <td id=\"T_4964f_row47_col0\" class=\"data row47 col0\" >2025-03-20 07:41:00</td>\n",
       "      <td id=\"T_4964f_row47_col1\" class=\"data row47 col1\" >AMZN</td>\n",
       "      <td id=\"T_4964f_row47_col2\" class=\"data row47 col2\" >Yahoo Finance</td>\n",
       "      <td id=\"T_4964f_row47_col3\" class=\"data row47 col3\" >8 days ago</td>\n",
       "      <td id=\"T_4964f_row47_col4\" class=\"data row47 col4\" >Nvidia's GTC fallout reminds 'Magnificent 7' investors of an important lesson</td>\n",
       "      <td id=\"T_4964f_row47_col5\" class=\"data row47 col5\" >Nvidia is still the straw that stirs the drink for the \"Magnificent Seven.\"</td>\n",
       "      <td id=\"T_4964f_row47_col6\" class=\"data row47 col6\" >3</td>\n",
       "      <td id=\"T_4964f_row47_col7\" class=\"data row47 col7\" >1</td>\n",
       "      <td id=\"T_4964f_row47_col8\" class=\"data row47 col8\" >4</td>\n",
       "      <td id=\"T_4964f_row47_col9\" class=\"data row47 col9\" >5</td>\n",
       "    </tr>\n",
       "    <tr>\n",
       "      <th id=\"T_4964f_level0_row48\" class=\"row_heading level0 row48\" >748</th>\n",
       "      <td id=\"T_4964f_row48_col0\" class=\"data row48 col0\" >2025-03-20 07:41:00</td>\n",
       "      <td id=\"T_4964f_row48_col1\" class=\"data row48 col1\" >AMZN</td>\n",
       "      <td id=\"T_4964f_row48_col2\" class=\"data row48 col2\" >TheStreet</td>\n",
       "      <td id=\"T_4964f_row48_col3\" class=\"data row48 col3\" >8 days ago</td>\n",
       "      <td id=\"T_4964f_row48_col4\" class=\"data row48 col4\" >New AI bet from tech upstart could be a major blow to Nvidia</td>\n",
       "      <td id=\"T_4964f_row48_col5\" class=\"data row48 col5\" >An industry leader and a startup stand to benefit while Nvidia stands to lose.</td>\n",
       "      <td id=\"T_4964f_row48_col6\" class=\"data row48 col6\" >1</td>\n",
       "      <td id=\"T_4964f_row48_col7\" class=\"data row48 col7\" >5</td>\n",
       "      <td id=\"T_4964f_row48_col8\" class=\"data row48 col8\" >2</td>\n",
       "      <td id=\"T_4964f_row48_col9\" class=\"data row48 col9\" >1</td>\n",
       "    </tr>\n",
       "    <tr>\n",
       "      <th id=\"T_4964f_level0_row49\" class=\"row_heading level0 row49\" >763</th>\n",
       "      <td id=\"T_4964f_row49_col0\" class=\"data row49 col0\" >2025-03-19 07:41:00</td>\n",
       "      <td id=\"T_4964f_row49_col1\" class=\"data row49 col1\" >AMZN</td>\n",
       "      <td id=\"T_4964f_row49_col2\" class=\"data row49 col2\" >Simply Wall St.</td>\n",
       "      <td id=\"T_4964f_row49_col3\" class=\"data row49 col3\" >9 days ago</td>\n",
       "      <td id=\"T_4964f_row49_col4\" class=\"data row49 col4\" >Amazon.com (NasdaqGS:AMZN) Plans To Spin Off India Operations For Local Listing</td>\n",
       "      <td id=\"T_4964f_row49_col5\" class=\"data row49 col5\" >Amazon.com (NasdaqGS:AMZN) is actively maneuvering through a complex regulatory and competitive landscape in India with plans to spin off and list its India operations locally, a move reflecting a strategic adjustment in response to data localisation requirements. This major shift could have buoyed investor sentiment, yet the company's modest price increase of 0.62% over the past week comes amid a broader challenging market environment where major indices, including the S&P 500 and Nasdaq,...</td>\n",
       "      <td id=\"T_4964f_row49_col6\" class=\"data row49 col6\" >5</td>\n",
       "      <td id=\"T_4964f_row49_col7\" class=\"data row49 col7\" >5</td>\n",
       "      <td id=\"T_4964f_row49_col8\" class=\"data row49 col8\" >1</td>\n",
       "      <td id=\"T_4964f_row49_col9\" class=\"data row49 col9\" >5</td>\n",
       "    </tr>\n",
       "    <tr>\n",
       "      <th id=\"T_4964f_level0_row50\" class=\"row_heading level0 row50\" >778</th>\n",
       "      <td id=\"T_4964f_row50_col0\" class=\"data row50 col0\" >2025-03-18 07:41:00</td>\n",
       "      <td id=\"T_4964f_row50_col1\" class=\"data row50 col1\" >AMZN</td>\n",
       "      <td id=\"T_4964f_row50_col2\" class=\"data row50 col2\" >Insider Monkey</td>\n",
       "      <td id=\"T_4964f_row50_col3\" class=\"data row50 col3\" >10 days ago</td>\n",
       "      <td id=\"T_4964f_row50_col4\" class=\"data row50 col4\" >Is Amazon.com, Inc. (AMZN) the Best Strong Buy Stock to Buy Right Now?</td>\n",
       "      <td id=\"T_4964f_row50_col5\" class=\"data row50 col5\" >We recently published a list of the 10 Best Strong Buy Stocks To Buy Right Now. In this article, we are going to take a look at where Amazon.com, Inc. (NASDAQ:AMZN) stands against the other best strong buy stocks to buy right now. Fears of a slowing economy have hit stocks recently, along with concerns […]</td>\n",
       "      <td id=\"T_4964f_row50_col6\" class=\"data row50 col6\" >1</td>\n",
       "      <td id=\"T_4964f_row50_col7\" class=\"data row50 col7\" >5</td>\n",
       "      <td id=\"T_4964f_row50_col8\" class=\"data row50 col8\" >1</td>\n",
       "      <td id=\"T_4964f_row50_col9\" class=\"data row50 col9\" >1</td>\n",
       "    </tr>\n",
       "    <tr>\n",
       "      <th id=\"T_4964f_level0_row51\" class=\"row_heading level0 row51\" >783</th>\n",
       "      <td id=\"T_4964f_row51_col0\" class=\"data row51 col0\" >2025-03-18 07:41:00</td>\n",
       "      <td id=\"T_4964f_row51_col1\" class=\"data row51 col1\" >AMZN</td>\n",
       "      <td id=\"T_4964f_row51_col2\" class=\"data row51 col2\" >Quartz</td>\n",
       "      <td id=\"T_4964f_row51_col3\" class=\"data row51 col3\" >10 days ago</td>\n",
       "      <td id=\"T_4964f_row51_col4\" class=\"data row51 col4\" >Temu and Shein aim for U.S. market supremacy — challenging Amazon's hold</td>\n",
       "      <td id=\"T_4964f_row51_col5\" class=\"data row51 col5\" >Temu and Shein, two Chinese fast-fashion giants, are determined to increase their dominance in the U.S. market, challenging Amazon’s efforts to capture a share of the budget-friendly e-commerce space.</td>\n",
       "      <td id=\"T_4964f_row51_col6\" class=\"data row51 col6\" >5</td>\n",
       "      <td id=\"T_4964f_row51_col7\" class=\"data row51 col7\" >1</td>\n",
       "      <td id=\"T_4964f_row51_col8\" class=\"data row51 col8\" >1</td>\n",
       "      <td id=\"T_4964f_row51_col9\" class=\"data row51 col9\" >5</td>\n",
       "    </tr>\n",
       "    <tr>\n",
       "      <th id=\"T_4964f_level0_row52\" class=\"row_heading level0 row52\" >788</th>\n",
       "      <td id=\"T_4964f_row52_col0\" class=\"data row52 col0\" >2025-03-18 07:41:00</td>\n",
       "      <td id=\"T_4964f_row52_col1\" class=\"data row52 col1\" >AMZN</td>\n",
       "      <td id=\"T_4964f_row52_col2\" class=\"data row52 col2\" >Investing.com</td>\n",
       "      <td id=\"T_4964f_row52_col3\" class=\"data row52 col3\" >10 days ago</td>\n",
       "      <td id=\"T_4964f_row52_col4\" class=\"data row52 col4\" >Should you buy Ulta stock given Amazon threat? This Wall Street analyst answers</td>\n",
       "      <td id=\"T_4964f_row52_col5\" class=\"data row52 col5\" >Investing.com -- Loop Capital reiterated its Buy rating on Ulta Beauty (NASDAQ:ULTA) shares, arguing that the “Amazon threat” surrounding the stock appears to have been “overblown.”</td>\n",
       "      <td id=\"T_4964f_row52_col6\" class=\"data row52 col6\" >4</td>\n",
       "      <td id=\"T_4964f_row52_col7\" class=\"data row52 col7\" >5</td>\n",
       "      <td id=\"T_4964f_row52_col8\" class=\"data row52 col8\" >1</td>\n",
       "      <td id=\"T_4964f_row52_col9\" class=\"data row52 col9\" >4</td>\n",
       "    </tr>\n",
       "    <tr>\n",
       "      <th id=\"T_4964f_level0_row53\" class=\"row_heading level0 row53\" >795</th>\n",
       "      <td id=\"T_4964f_row53_col0\" class=\"data row53 col0\" >2025-03-18 07:41:00</td>\n",
       "      <td id=\"T_4964f_row53_col1\" class=\"data row53 col1\" >AMZN</td>\n",
       "      <td id=\"T_4964f_row53_col2\" class=\"data row53 col2\" >Motley Fool</td>\n",
       "      <td id=\"T_4964f_row53_col3\" class=\"data row53 col3\" >10 days ago</td>\n",
       "      <td id=\"T_4964f_row53_col4\" class=\"data row53 col4\" >A Once-in-a-Decade Investment Opportunity: My Pick for the Best AI Stock to Buy Now</td>\n",
       "      <td id=\"T_4964f_row53_col5\" class=\"data row53 col5\" >Specifically, Mark Mahaney at Evercore says cloud revenue growth could accelerate as Amazon monetizes AI, and Brian Nowak at Morgan Stanley sees the company as an underappreciated leader in AI across cloud and retail.  Amazon stock has fallen 18% from the record high it reached in February.</td>\n",
       "      <td id=\"T_4964f_row53_col6\" class=\"data row53 col6\" >1</td>\n",
       "      <td id=\"T_4964f_row53_col7\" class=\"data row53 col7\" >5</td>\n",
       "      <td id=\"T_4964f_row53_col8\" class=\"data row53 col8\" >1</td>\n",
       "      <td id=\"T_4964f_row53_col9\" class=\"data row53 col9\" >1</td>\n",
       "    </tr>\n",
       "    <tr>\n",
       "      <th id=\"T_4964f_level0_row54\" class=\"row_heading level0 row54\" >803</th>\n",
       "      <td id=\"T_4964f_row54_col0\" class=\"data row54 col0\" >2025-03-28 04:41:00</td>\n",
       "      <td id=\"T_4964f_row54_col1\" class=\"data row54 col1\" >GOOGL</td>\n",
       "      <td id=\"T_4964f_row54_col2\" class=\"data row54 col2\" >Zacks</td>\n",
       "      <td id=\"T_4964f_row54_col3\" class=\"data row54 col3\" >3 hours ago</td>\n",
       "      <td id=\"T_4964f_row54_col4\" class=\"data row54 col4\" >M&A Watch: Buy Alphabet Stock Amid Plans to Acquire Cybersecurity Startup WIZ?</td>\n",
       "      <td id=\"T_4964f_row54_col5\" class=\"data row54 col5\" >Alphabet (GOOGL) shares have been virtually flat since announcing the $32 billion acquisition of New York City-based cybersecurity startup Wiz last Tuesday.</td>\n",
       "      <td id=\"T_4964f_row54_col6\" class=\"data row54 col6\" >1</td>\n",
       "      <td id=\"T_4964f_row54_col7\" class=\"data row54 col7\" >5</td>\n",
       "      <td id=\"T_4964f_row54_col8\" class=\"data row54 col8\" >3</td>\n",
       "      <td id=\"T_4964f_row54_col9\" class=\"data row54 col9\" >1</td>\n",
       "    </tr>\n",
       "    <tr>\n",
       "      <th id=\"T_4964f_level0_row55\" class=\"row_heading level0 row55\" >806</th>\n",
       "      <td id=\"T_4964f_row55_col0\" class=\"data row55 col0\" >2025-03-27 23:41:00</td>\n",
       "      <td id=\"T_4964f_row55_col1\" class=\"data row55 col1\" >GOOGL</td>\n",
       "      <td id=\"T_4964f_row55_col2\" class=\"data row55 col2\" >Motley Fool</td>\n",
       "      <td id=\"T_4964f_row55_col3\" class=\"data row55 col3\" >8 hours ago</td>\n",
       "      <td id=\"T_4964f_row55_col4\" class=\"data row55 col4\" >Is IonQ a Buy?</td>\n",
       "      <td id=\"T_4964f_row55_col5\" class=\"data row55 col5\" >IonQ shares have dropped 53% from January highs. Is this quantum computing pioneer now a bargain or still too speculative?</td>\n",
       "      <td id=\"T_4964f_row55_col6\" class=\"data row55 col6\" >1</td>\n",
       "      <td id=\"T_4964f_row55_col7\" class=\"data row55 col7\" >5</td>\n",
       "      <td id=\"T_4964f_row55_col8\" class=\"data row55 col8\" >1</td>\n",
       "      <td id=\"T_4964f_row55_col9\" class=\"data row55 col9\" >1</td>\n",
       "    </tr>\n",
       "    <tr>\n",
       "      <th id=\"T_4964f_level0_row56\" class=\"row_heading level0 row56\" >807</th>\n",
       "      <td id=\"T_4964f_row56_col0\" class=\"data row56 col0\" >2025-03-27 22:41:00</td>\n",
       "      <td id=\"T_4964f_row56_col1\" class=\"data row56 col1\" >GOOGL</td>\n",
       "      <td id=\"T_4964f_row56_col2\" class=\"data row56 col2\" >TipRanks</td>\n",
       "      <td id=\"T_4964f_row56_col3\" class=\"data row56 col3\" >9 hours ago</td>\n",
       "      <td id=\"T_4964f_row56_col4\" class=\"data row56 col4\" >TD Cowen sees slower data center equipment purchasing as negative for Vertiv</td>\n",
       "      <td id=\"T_4964f_row56_col5\" class=\"data row56 col5\" >TD Cowen analysts led by Michael Elias tell investors that the firm’s channel checks at Nvidia’s (NVDA) GTC event and DCD Connect indicate aggregate data center demand has increased year-over-year, despite more pervasive lease cancellations and deferrals by Microsoft (MSFT) than initially thought. The pullback from Microsoft has created an opportunity for both Google (GOOGL) and Meta (META) to backfill capacity, the firm says. Hyperscale redesigns for higher densities are driving slower DC equip</td>\n",
       "      <td id=\"T_4964f_row56_col6\" class=\"data row56 col6\" >5</td>\n",
       "      <td id=\"T_4964f_row56_col7\" class=\"data row56 col7\" >1</td>\n",
       "      <td id=\"T_4964f_row56_col8\" class=\"data row56 col8\" >1</td>\n",
       "      <td id=\"T_4964f_row56_col9\" class=\"data row56 col9\" >1</td>\n",
       "    </tr>\n",
       "    <tr>\n",
       "      <th id=\"T_4964f_level0_row57\" class=\"row_heading level0 row57\" >811</th>\n",
       "      <td id=\"T_4964f_row57_col0\" class=\"data row57 col0\" >2025-03-27 18:41:00</td>\n",
       "      <td id=\"T_4964f_row57_col1\" class=\"data row57 col1\" >GOOGL</td>\n",
       "      <td id=\"T_4964f_row57_col2\" class=\"data row57 col2\" >Motley Fool</td>\n",
       "      <td id=\"T_4964f_row57_col3\" class=\"data row57 col3\" >13 hours ago</td>\n",
       "      <td id=\"T_4964f_row57_col4\" class=\"data row57 col4\" >3 Cheap Tech Stocks to Buy Right Now</td>\n",
       "      <td id=\"T_4964f_row57_col5\" class=\"data row57 col5\" >While the broader stock market has bounced back somewhat following its recent sell-off, many tech stocks are still well off their highs and trading at cheap valuations.  Trading down almost 23% from its highs, Nvidia (NASDAQ: NVDA) is an attractively valued growth stock.  The company has been able to more than double its revenue each of the past two years, while analysts expect the company's revenue to increase by more than 50% this year.</td>\n",
       "      <td id=\"T_4964f_row57_col6\" class=\"data row57 col6\" >2</td>\n",
       "      <td id=\"T_4964f_row57_col7\" class=\"data row57 col7\" >5</td>\n",
       "      <td id=\"T_4964f_row57_col8\" class=\"data row57 col8\" >5</td>\n",
       "      <td id=\"T_4964f_row57_col9\" class=\"data row57 col9\" >1</td>\n",
       "    </tr>\n",
       "    <tr>\n",
       "      <th id=\"T_4964f_level0_row58\" class=\"row_heading level0 row58\" >814</th>\n",
       "      <td id=\"T_4964f_row58_col0\" class=\"data row58 col0\" >2025-03-27 08:41:00</td>\n",
       "      <td id=\"T_4964f_row58_col1\" class=\"data row58 col1\" >GOOGL</td>\n",
       "      <td id=\"T_4964f_row58_col2\" class=\"data row58 col2\" >TipRanks</td>\n",
       "      <td id=\"T_4964f_row58_col3\" class=\"data row58 col3\" >23 hours ago</td>\n",
       "      <td id=\"T_4964f_row58_col4\" class=\"data row58 col4\" >Closing Bell Movers: GameStop gains 7% on earnings, bitcoin announcement</td>\n",
       "      <td id=\"T_4964f_row58_col5\" class=\"data row58 col5\" >In the opening 90 minutes of the evening session, U.S. stock futures are up marginally – S&P500 is up 0.1% while Nasdaq 100 is up 0.2%. Earlier on Tuesday, Consumer Discretionary and Communications Services were the best performing sectors in the S&P500 – Google (GOOGL), Meta (META), and Netflix (NFLX) had over 1% gains among the mega-caps – while defensively-oriented Healthcare and Utilities underperformed. Investors have also shrugged the disappointing Consumer Confidence data with sentiment t</td>\n",
       "      <td id=\"T_4964f_row58_col6\" class=\"data row58 col6\" >5</td>\n",
       "      <td id=\"T_4964f_row58_col7\" class=\"data row58 col7\" >5</td>\n",
       "      <td id=\"T_4964f_row58_col8\" class=\"data row58 col8\" >1</td>\n",
       "      <td id=\"T_4964f_row58_col9\" class=\"data row58 col9\" >5</td>\n",
       "    </tr>\n",
       "    <tr>\n",
       "      <th id=\"T_4964f_level0_row59\" class=\"row_heading level0 row59\" >836</th>\n",
       "      <td id=\"T_4964f_row59_col0\" class=\"data row59 col0\" >2025-03-27 07:41:00</td>\n",
       "      <td id=\"T_4964f_row59_col1\" class=\"data row59 col1\" >GOOGL</td>\n",
       "      <td id=\"T_4964f_row59_col2\" class=\"data row59 col2\" >Barrons.com</td>\n",
       "      <td id=\"T_4964f_row59_col3\" class=\"data row59 col3\" >yesterday</td>\n",
       "      <td id=\"T_4964f_row59_col4\" class=\"data row59 col4\" >Recession Signals Are Flashing. Why the Economy Can Rebound and Lift Stock Markets and 5 Other Things to Know Today.</td>\n",
       "      <td id=\"T_4964f_row59_col5\" class=\"data row59 col5\" >Consumer confidence slips again as inflation fears rise, Waymo is bringing driverless Robotaxis to the nation’s capital, and more news to start your day.</td>\n",
       "      <td id=\"T_4964f_row59_col6\" class=\"data row59 col6\" >3</td>\n",
       "      <td id=\"T_4964f_row59_col7\" class=\"data row59 col7\" >1</td>\n",
       "      <td id=\"T_4964f_row59_col8\" class=\"data row59 col8\" >5</td>\n",
       "      <td id=\"T_4964f_row59_col9\" class=\"data row59 col9\" >1</td>\n",
       "    </tr>\n",
       "    <tr>\n",
       "      <th id=\"T_4964f_level0_row60\" class=\"row_heading level0 row60\" >837</th>\n",
       "      <td id=\"T_4964f_row60_col0\" class=\"data row60 col0\" >2025-03-27 07:41:00</td>\n",
       "      <td id=\"T_4964f_row60_col1\" class=\"data row60 col1\" >GOOGL</td>\n",
       "      <td id=\"T_4964f_row60_col2\" class=\"data row60 col2\" >Motley Fool</td>\n",
       "      <td id=\"T_4964f_row60_col3\" class=\"data row60 col3\" >yesterday</td>\n",
       "      <td id=\"T_4964f_row60_col4\" class=\"data row60 col4\" >1 Unstoppable Vanguard ETF to Confidently Buy With $400 During the Stock Market Sell-Off</td>\n",
       "      <td id=\"T_4964f_row60_col5\" class=\"data row60 col5\" >The S&P 500 (SNPINDEX: ^GSPC) index returned 25% (including dividends) in 2024, which was more than double its long-term average of 10.5%.  The Vanguard Growth ETF (NYSEMKT: VUG) is an exchange-traded fund that tracks the performance of the CRSP Growth Index by holding the same stocks and maintaining similar weightings, and it has outperformed the S&P 500 every year, on average, since it was established in 2004.  The Vanguard ETF is currently down 11% from its record high amid the broader stock market sell-off, so investors can pick up a single share for under $400.</td>\n",
       "      <td id=\"T_4964f_row60_col6\" class=\"data row60 col6\" >1</td>\n",
       "      <td id=\"T_4964f_row60_col7\" class=\"data row60 col7\" >5</td>\n",
       "      <td id=\"T_4964f_row60_col8\" class=\"data row60 col8\" >3</td>\n",
       "      <td id=\"T_4964f_row60_col9\" class=\"data row60 col9\" >1</td>\n",
       "    </tr>\n",
       "    <tr>\n",
       "      <th id=\"T_4964f_level0_row61\" class=\"row_heading level0 row61\" >850</th>\n",
       "      <td id=\"T_4964f_row61_col0\" class=\"data row61 col0\" >2025-03-26 07:41:00</td>\n",
       "      <td id=\"T_4964f_row61_col1\" class=\"data row61 col1\" >GOOGL</td>\n",
       "      <td id=\"T_4964f_row61_col2\" class=\"data row61 col2\" >MT Newswires</td>\n",
       "      <td id=\"T_4964f_row61_col3\" class=\"data row61 col3\" >2 days ago</td>\n",
       "      <td id=\"T_4964f_row61_col4\" class=\"data row61 col4\" >Top Midday Stories: Tesla Loses Market Share in Europe; Waymo to Launch Autonomous Taxi Service in DC in 2026</td>\n",
       "      <td id=\"T_4964f_row61_col5\" class=\"data row61 col5\" >All three major US stock indexes were up in late-morning trading on Tuesday as investors attempt to</td>\n",
       "      <td id=\"T_4964f_row61_col6\" class=\"data row61 col6\" >5</td>\n",
       "      <td id=\"T_4964f_row61_col7\" class=\"data row61 col7\" >1</td>\n",
       "      <td id=\"T_4964f_row61_col8\" class=\"data row61 col8\" >3</td>\n",
       "      <td id=\"T_4964f_row61_col9\" class=\"data row61 col9\" >4</td>\n",
       "    </tr>\n",
       "    <tr>\n",
       "      <th id=\"T_4964f_level0_row62\" class=\"row_heading level0 row62\" >885</th>\n",
       "      <td id=\"T_4964f_row62_col0\" class=\"data row62 col0\" >2025-03-25 07:41:00</td>\n",
       "      <td id=\"T_4964f_row62_col1\" class=\"data row62 col1\" >GOOGL</td>\n",
       "      <td id=\"T_4964f_row62_col2\" class=\"data row62 col2\" >StockStory</td>\n",
       "      <td id=\"T_4964f_row62_col3\" class=\"data row62 col3\" >3 days ago</td>\n",
       "      <td id=\"T_4964f_row62_col4\" class=\"data row62 col4\" >3 Reasons Investors Love Alphabet (GOOGL)</td>\n",
       "      <td id=\"T_4964f_row62_col5\" class=\"data row62 col5\" >Alphabet has been treading water for the past six months, recording a small return of 2.2% while holding steady at $165.80.</td>\n",
       "      <td id=\"T_4964f_row62_col6\" class=\"data row62 col6\" >5</td>\n",
       "      <td id=\"T_4964f_row62_col7\" class=\"data row62 col7\" >1</td>\n",
       "      <td id=\"T_4964f_row62_col8\" class=\"data row62 col8\" >1</td>\n",
       "      <td id=\"T_4964f_row62_col9\" class=\"data row62 col9\" >4</td>\n",
       "    </tr>\n",
       "    <tr>\n",
       "      <th id=\"T_4964f_level0_row63\" class=\"row_heading level0 row63\" >898</th>\n",
       "      <td id=\"T_4964f_row63_col0\" class=\"data row63 col0\" >2025-03-23 07:41:00</td>\n",
       "      <td id=\"T_4964f_row63_col1\" class=\"data row63 col1\" >GOOGL</td>\n",
       "      <td id=\"T_4964f_row63_col2\" class=\"data row63 col2\" >Insider Monkey</td>\n",
       "      <td id=\"T_4964f_row63_col3\" class=\"data row63 col3\" >5 days ago</td>\n",
       "      <td id=\"T_4964f_row63_col4\" class=\"data row63 col4\" >Alphabet (GOOGL) Makes $32B AI-Powered Cybersecurity Bet with Wiz Acquisition</td>\n",
       "      <td id=\"T_4964f_row63_col5\" class=\"data row63 col5\" >We recently published a list of 10 High-Flying AI Stocks to Watch Today. In this article, we are going to take a look at where Alphabet Inc. (NASDAQ:GOOGL) stands against other high-flying AI stocks to watch today. The most important conference in the tech world is in full swing, yet investors are skeptical about what’s […]</td>\n",
       "      <td id=\"T_4964f_row63_col6\" class=\"data row63 col6\" >3</td>\n",
       "      <td id=\"T_4964f_row63_col7\" class=\"data row63 col7\" >1</td>\n",
       "      <td id=\"T_4964f_row63_col8\" class=\"data row63 col8\" >1</td>\n",
       "      <td id=\"T_4964f_row63_col9\" class=\"data row63 col9\" >5</td>\n",
       "    </tr>\n",
       "    <tr>\n",
       "      <th id=\"T_4964f_level0_row64\" class=\"row_heading level0 row64\" >910</th>\n",
       "      <td id=\"T_4964f_row64_col0\" class=\"data row64 col0\" >2025-03-22 07:41:00</td>\n",
       "      <td id=\"T_4964f_row64_col1\" class=\"data row64 col1\" >GOOGL</td>\n",
       "      <td id=\"T_4964f_row64_col2\" class=\"data row64 col2\" >Motley Fool</td>\n",
       "      <td id=\"T_4964f_row64_col3\" class=\"data row64 col3\" >6 days ago</td>\n",
       "      <td id=\"T_4964f_row64_col4\" class=\"data row64 col4\" >Stock Market Correction: Here Are My Top 5 Stocks That Could Soar By The End of 2025</td>\n",
       "      <td id=\"T_4964f_row64_col5\" class=\"data row64 col5\" >With the stock market in a correction, some investors are likely to remain a bit pessimistic.  Although many stocks can fit into this category, I believe Nvidia (NASDAQ: NVDA), Taiwan Semiconductor Manufacturing (NYSE: TSM), Alphabet (NASDAQ: GOOG) (NASDAQ: GOOGL), Advanced Micro Devices (NASDAQ: AMD), and The Trade Desk (NASDAQ: TTD) are excellent buys right now.</td>\n",
       "      <td id=\"T_4964f_row64_col6\" class=\"data row64 col6\" >3</td>\n",
       "      <td id=\"T_4964f_row64_col7\" class=\"data row64 col7\" >5</td>\n",
       "      <td id=\"T_4964f_row64_col8\" class=\"data row64 col8\" >5</td>\n",
       "      <td id=\"T_4964f_row64_col9\" class=\"data row64 col9\" >1</td>\n",
       "    </tr>\n",
       "    <tr>\n",
       "      <th id=\"T_4964f_level0_row65\" class=\"row_heading level0 row65\" >922</th>\n",
       "      <td id=\"T_4964f_row65_col0\" class=\"data row65 col0\" >2025-03-21 07:41:00</td>\n",
       "      <td id=\"T_4964f_row65_col1\" class=\"data row65 col1\" >GOOGL</td>\n",
       "      <td id=\"T_4964f_row65_col2\" class=\"data row65 col2\" >FastCompany</td>\n",
       "      <td id=\"T_4964f_row65_col3\" class=\"data row65 col3\" >7 days ago</td>\n",
       "      <td id=\"T_4964f_row65_col4\" class=\"data row65 col4\" >How bogus stories about Amazon laying off 14,000 managers spread like wildfire across the internet</td>\n",
       "      <td id=\"T_4964f_row65_col5\" class=\"data row65 col5\" >A false figure made it into a string of recent news stories and social posts, demonstrating how the drive for clicks and engagement can win out over facts.</td>\n",
       "      <td id=\"T_4964f_row65_col6\" class=\"data row65 col6\" >3</td>\n",
       "      <td id=\"T_4964f_row65_col7\" class=\"data row65 col7\" >3</td>\n",
       "      <td id=\"T_4964f_row65_col8\" class=\"data row65 col8\" >5</td>\n",
       "      <td id=\"T_4964f_row65_col9\" class=\"data row65 col9\" >1</td>\n",
       "    </tr>\n",
       "    <tr>\n",
       "      <th id=\"T_4964f_level0_row66\" class=\"row_heading level0 row66\" >925</th>\n",
       "      <td id=\"T_4964f_row66_col0\" class=\"data row66 col0\" >2025-03-21 07:41:00</td>\n",
       "      <td id=\"T_4964f_row66_col1\" class=\"data row66 col1\" >GOOGL</td>\n",
       "      <td id=\"T_4964f_row66_col2\" class=\"data row66 col2\" >Barrons.com</td>\n",
       "      <td id=\"T_4964f_row66_col3\" class=\"data row66 col3\" >7 days ago</td>\n",
       "      <td id=\"T_4964f_row66_col4\" class=\"data row66 col4\" >Alphabet Is ‘Best Positioned’ as AI Agents Pose Risks to Search</td>\n",
       "      <td id=\"T_4964f_row66_col5\" class=\"data row66 col5\" >Stifel analyst Mark Kelley said people paying for subscriptions to AI agents are less likely to use traditional search.</td>\n",
       "      <td id=\"T_4964f_row66_col6\" class=\"data row66 col6\" >2</td>\n",
       "      <td id=\"T_4964f_row66_col7\" class=\"data row66 col7\" >5</td>\n",
       "      <td id=\"T_4964f_row66_col8\" class=\"data row66 col8\" >1</td>\n",
       "      <td id=\"T_4964f_row66_col9\" class=\"data row66 col9\" >1</td>\n",
       "    </tr>\n",
       "    <tr>\n",
       "      <th id=\"T_4964f_level0_row67\" class=\"row_heading level0 row67\" >927</th>\n",
       "      <td id=\"T_4964f_row67_col0\" class=\"data row67 col0\" >2025-03-21 07:41:00</td>\n",
       "      <td id=\"T_4964f_row67_col1\" class=\"data row67 col1\" >GOOGL</td>\n",
       "      <td id=\"T_4964f_row67_col2\" class=\"data row67 col2\" >Motley Fool</td>\n",
       "      <td id=\"T_4964f_row67_col3\" class=\"data row67 col3\" >7 days ago</td>\n",
       "      <td id=\"T_4964f_row67_col4\" class=\"data row67 col4\" >Why Reddit Stock Is Sinking This Week</td>\n",
       "      <td id=\"T_4964f_row67_col5\" class=\"data row67 col5\" >Since last Friday, shares of the popular online content forum Reddit (NYSE: RDDT) are trading 14% lower as of 11:38 a.m. ET Thursday.  Analysts have grown more bearish on the company's prospects this year, and CEO Steve Huffman sold $15.8 million of stock recently.  Reddit's stock has performed extremely well since going public in March of 2024.</td>\n",
       "      <td id=\"T_4964f_row67_col6\" class=\"data row67 col6\" >1</td>\n",
       "      <td id=\"T_4964f_row67_col7\" class=\"data row67 col7\" >5</td>\n",
       "      <td id=\"T_4964f_row67_col8\" class=\"data row67 col8\" >5</td>\n",
       "      <td id=\"T_4964f_row67_col9\" class=\"data row67 col9\" >1</td>\n",
       "    </tr>\n",
       "    <tr>\n",
       "      <th id=\"T_4964f_level0_row68\" class=\"row_heading level0 row68\" >949</th>\n",
       "      <td id=\"T_4964f_row68_col0\" class=\"data row68 col0\" >2025-03-20 07:41:00</td>\n",
       "      <td id=\"T_4964f_row68_col1\" class=\"data row68 col1\" >GOOGL</td>\n",
       "      <td id=\"T_4964f_row68_col2\" class=\"data row68 col2\" >Yahoo Finance</td>\n",
       "      <td id=\"T_4964f_row68_col3\" class=\"data row68 col3\" >8 days ago</td>\n",
       "      <td id=\"T_4964f_row68_col4\" class=\"data row68 col4\" >Nvidia's GTC fallout reminds 'Magnificent 7' investors of an important lesson</td>\n",
       "      <td id=\"T_4964f_row68_col5\" class=\"data row68 col5\" >Nvidia is still the straw that stirs the drink for the \"Magnificent Seven.\"</td>\n",
       "      <td id=\"T_4964f_row68_col6\" class=\"data row68 col6\" >3</td>\n",
       "      <td id=\"T_4964f_row68_col7\" class=\"data row68 col7\" >1</td>\n",
       "      <td id=\"T_4964f_row68_col8\" class=\"data row68 col8\" >4</td>\n",
       "      <td id=\"T_4964f_row68_col9\" class=\"data row68 col9\" >5</td>\n",
       "    </tr>\n",
       "    <tr>\n",
       "      <th id=\"T_4964f_level0_row69\" class=\"row_heading level0 row69\" >995</th>\n",
       "      <td id=\"T_4964f_row69_col0\" class=\"data row69 col0\" >2025-03-19 07:41:00</td>\n",
       "      <td id=\"T_4964f_row69_col1\" class=\"data row69 col1\" >GOOGL</td>\n",
       "      <td id=\"T_4964f_row69_col2\" class=\"data row69 col2\" >GuruFocus.com</td>\n",
       "      <td id=\"T_4964f_row69_col3\" class=\"data row69 col3\" >9 days ago</td>\n",
       "      <td id=\"T_4964f_row69_col4\" class=\"data row69 col4\" >Google Drops a Jaw-Dropping $32 Billion on Wiz-- One of Its Biggest Deal Ever!</td>\n",
       "      <td id=\"T_4964f_row69_col5\" class=\"data row69 col5\" >A Record-Breaking Acquisition That Could Shake Up the Entire Cybersecurity Industry</td>\n",
       "      <td id=\"T_4964f_row69_col6\" class=\"data row69 col6\" >1</td>\n",
       "      <td id=\"T_4964f_row69_col7\" class=\"data row69 col7\" >5</td>\n",
       "      <td id=\"T_4964f_row69_col8\" class=\"data row69 col8\" >5</td>\n",
       "      <td id=\"T_4964f_row69_col9\" class=\"data row69 col9\" >1</td>\n",
       "    </tr>\n",
       "    <tr>\n",
       "      <th id=\"T_4964f_level0_row70\" class=\"row_heading level0 row70\" >1007</th>\n",
       "      <td id=\"T_4964f_row70_col0\" class=\"data row70 col0\" >2025-03-27 22:42:00</td>\n",
       "      <td id=\"T_4964f_row70_col1\" class=\"data row70 col1\" >META</td>\n",
       "      <td id=\"T_4964f_row70_col2\" class=\"data row70 col2\" >TipRanks</td>\n",
       "      <td id=\"T_4964f_row70_col3\" class=\"data row70 col3\" >9 hours ago</td>\n",
       "      <td id=\"T_4964f_row70_col4\" class=\"data row70 col4\" >TD Cowen sees slower data center equipment purchasing as negative for Vertiv</td>\n",
       "      <td id=\"T_4964f_row70_col5\" class=\"data row70 col5\" >TD Cowen analysts led by Michael Elias tell investors that the firm’s channel checks at Nvidia’s (NVDA) GTC event and DCD Connect indicate aggregate data center demand has increased year-over-year, despite more pervasive lease cancellations and deferrals by Microsoft (MSFT) than initially thought. The pullback from Microsoft has created an opportunity for both Google (GOOGL) and Meta (META) to backfill capacity, the firm says. Hyperscale redesigns for higher densities are driving slower DC equip</td>\n",
       "      <td id=\"T_4964f_row70_col6\" class=\"data row70 col6\" >5</td>\n",
       "      <td id=\"T_4964f_row70_col7\" class=\"data row70 col7\" >1</td>\n",
       "      <td id=\"T_4964f_row70_col8\" class=\"data row70 col8\" >1</td>\n",
       "      <td id=\"T_4964f_row70_col9\" class=\"data row70 col9\" >1</td>\n",
       "    </tr>\n",
       "    <tr>\n",
       "      <th id=\"T_4964f_level0_row71\" class=\"row_heading level0 row71\" >1014</th>\n",
       "      <td id=\"T_4964f_row71_col0\" class=\"data row71 col0\" >2025-03-27 08:42:00</td>\n",
       "      <td id=\"T_4964f_row71_col1\" class=\"data row71 col1\" >META</td>\n",
       "      <td id=\"T_4964f_row71_col2\" class=\"data row71 col2\" >TipRanks</td>\n",
       "      <td id=\"T_4964f_row71_col3\" class=\"data row71 col3\" >23 hours ago</td>\n",
       "      <td id=\"T_4964f_row71_col4\" class=\"data row71 col4\" >Closing Bell Movers: GameStop gains 7% on earnings, bitcoin announcement</td>\n",
       "      <td id=\"T_4964f_row71_col5\" class=\"data row71 col5\" >In the opening 90 minutes of the evening session, U.S. stock futures are up marginally – S&P500 is up 0.1% while Nasdaq 100 is up 0.2%. Earlier on Tuesday, Consumer Discretionary and Communications Services were the best performing sectors in the S&P500 – Google (GOOGL), Meta (META), and Netflix (NFLX) had over 1% gains among the mega-caps – while defensively-oriented Healthcare and Utilities underperformed. Investors have also shrugged the disappointing Consumer Confidence data with sentiment t</td>\n",
       "      <td id=\"T_4964f_row71_col6\" class=\"data row71 col6\" >5</td>\n",
       "      <td id=\"T_4964f_row71_col7\" class=\"data row71 col7\" >5</td>\n",
       "      <td id=\"T_4964f_row71_col8\" class=\"data row71 col8\" >1</td>\n",
       "      <td id=\"T_4964f_row71_col9\" class=\"data row71 col9\" >5</td>\n",
       "    </tr>\n",
       "    <tr>\n",
       "      <th id=\"T_4964f_level0_row72\" class=\"row_heading level0 row72\" >1024</th>\n",
       "      <td id=\"T_4964f_row72_col0\" class=\"data row72 col0\" >2025-03-27 07:42:00</td>\n",
       "      <td id=\"T_4964f_row72_col1\" class=\"data row72 col1\" >META</td>\n",
       "      <td id=\"T_4964f_row72_col2\" class=\"data row72 col2\" >Insider Monkey</td>\n",
       "      <td id=\"T_4964f_row72_col3\" class=\"data row72 col3\" >yesterday</td>\n",
       "      <td id=\"T_4964f_row72_col4\" class=\"data row72 col4\" >Meta Platforms, Inc. (META), Amazon.com, Inc. (AMZN), TJX (TJX) Touted by Longtime Pro Stock Picker</td>\n",
       "      <td id=\"T_4964f_row72_col5\" class=\"data row72 col5\" >Meta Platforms Inc. (META), Amazon (AMZN), and TJX (TJX) are all well-positioned to move “a lot higher in the next quarter,” Andrew Arons, the founder and Managing Partner of Synergy Advisory Management Group told Schwab Network recently. Meta’s Valuation Is Attractive As of last week, Meta’s valuation had reached its lowest point in almost a […]</td>\n",
       "      <td id=\"T_4964f_row72_col6\" class=\"data row72 col6\" >1</td>\n",
       "      <td id=\"T_4964f_row72_col7\" class=\"data row72 col7\" >5</td>\n",
       "      <td id=\"T_4964f_row72_col8\" class=\"data row72 col8\" >5</td>\n",
       "      <td id=\"T_4964f_row72_col9\" class=\"data row72 col9\" >1</td>\n",
       "    </tr>\n",
       "    <tr>\n",
       "      <th id=\"T_4964f_level0_row73\" class=\"row_heading level0 row73\" >1030</th>\n",
       "      <td id=\"T_4964f_row73_col0\" class=\"data row73 col0\" >2025-03-27 07:42:00</td>\n",
       "      <td id=\"T_4964f_row73_col1\" class=\"data row73 col1\" >META</td>\n",
       "      <td id=\"T_4964f_row73_col2\" class=\"data row73 col2\" >Motley Fool</td>\n",
       "      <td id=\"T_4964f_row73_col3\" class=\"data row73 col3\" >yesterday</td>\n",
       "      <td id=\"T_4964f_row73_col4\" class=\"data row73 col4\" >1 Unstoppable Vanguard ETF to Confidently Buy With $400 During the Stock Market Sell-Off</td>\n",
       "      <td id=\"T_4964f_row73_col5\" class=\"data row73 col5\" >The S&P 500 (SNPINDEX: ^GSPC) index returned 25% (including dividends) in 2024, which was more than double its long-term average of 10.5%.  The Vanguard Growth ETF (NYSEMKT: VUG) is an exchange-traded fund that tracks the performance of the CRSP Growth Index by holding the same stocks and maintaining similar weightings, and it has outperformed the S&P 500 every year, on average, since it was established in 2004.  The Vanguard ETF is currently down 11% from its record high amid the broader stock market sell-off, so investors can pick up a single share for under $400.</td>\n",
       "      <td id=\"T_4964f_row73_col6\" class=\"data row73 col6\" >1</td>\n",
       "      <td id=\"T_4964f_row73_col7\" class=\"data row73 col7\" >5</td>\n",
       "      <td id=\"T_4964f_row73_col8\" class=\"data row73 col8\" >3</td>\n",
       "      <td id=\"T_4964f_row73_col9\" class=\"data row73 col9\" >1</td>\n",
       "    </tr>\n",
       "    <tr>\n",
       "      <th id=\"T_4964f_level0_row74\" class=\"row_heading level0 row74\" >1060</th>\n",
       "      <td id=\"T_4964f_row74_col0\" class=\"data row74 col0\" >2025-03-25 07:42:00</td>\n",
       "      <td id=\"T_4964f_row74_col1\" class=\"data row74 col1\" >META</td>\n",
       "      <td id=\"T_4964f_row74_col2\" class=\"data row74 col2\" >Zacks</td>\n",
       "      <td id=\"T_4964f_row74_col3\" class=\"data row74 col3\" >3 days ago</td>\n",
       "      <td id=\"T_4964f_row74_col4\" class=\"data row74 col4\" >Wall Street Analysts Think Meta Platforms (META) Is a Good Investment: Is It?</td>\n",
       "      <td id=\"T_4964f_row74_col5\" class=\"data row74 col5\" >According to the average brokerage recommendation (ABR), one should invest in Meta Platforms (META). It is debatable whether this highly sought-after metric is effective because Wall Street analysts' recommendations tend to be overly optimistic. Would it be worth investing in the stock?</td>\n",
       "      <td id=\"T_4964f_row74_col6\" class=\"data row74 col6\" >3</td>\n",
       "      <td id=\"T_4964f_row74_col7\" class=\"data row74 col7\" >1</td>\n",
       "      <td id=\"T_4964f_row74_col8\" class=\"data row74 col8\" >3</td>\n",
       "      <td id=\"T_4964f_row74_col9\" class=\"data row74 col9\" >5</td>\n",
       "    </tr>\n",
       "    <tr>\n",
       "      <th id=\"T_4964f_level0_row75\" class=\"row_heading level0 row75\" >1073</th>\n",
       "      <td id=\"T_4964f_row75_col0\" class=\"data row75 col0\" >2025-03-24 07:42:00</td>\n",
       "      <td id=\"T_4964f_row75_col1\" class=\"data row75 col1\" >META</td>\n",
       "      <td id=\"T_4964f_row75_col2\" class=\"data row75 col2\" >Insider Monkey</td>\n",
       "      <td id=\"T_4964f_row75_col3\" class=\"data row75 col3\" >4 days ago</td>\n",
       "      <td id=\"T_4964f_row75_col4\" class=\"data row75 col4\" >Meta Platforms, Inc. (META) Celebrates 1 Billion Downloads for Open-Source AI Model Llama</td>\n",
       "      <td id=\"T_4964f_row75_col5\" class=\"data row75 col5\" >We recently published a list of 10 High-Flying AI Stocks to Watch Today. In this article, we are going to take a look at where Meta Platforms, Inc. (NASDAQ:META) stands against other high-flying AI stocks to watch today. The most important conference in the tech world is in full swing, yet investors are skeptical about […]</td>\n",
       "      <td id=\"T_4964f_row75_col6\" class=\"data row75 col6\" >3</td>\n",
       "      <td id=\"T_4964f_row75_col7\" class=\"data row75 col7\" >1</td>\n",
       "      <td id=\"T_4964f_row75_col8\" class=\"data row75 col8\" >1</td>\n",
       "      <td id=\"T_4964f_row75_col9\" class=\"data row75 col9\" >5</td>\n",
       "    </tr>\n",
       "    <tr>\n",
       "      <th id=\"T_4964f_level0_row76\" class=\"row_heading level0 row76\" >1087</th>\n",
       "      <td id=\"T_4964f_row76_col0\" class=\"data row76 col0\" >2025-03-22 07:42:00</td>\n",
       "      <td id=\"T_4964f_row76_col1\" class=\"data row76 col1\" >META</td>\n",
       "      <td id=\"T_4964f_row76_col2\" class=\"data row76 col2\" >Motley Fool</td>\n",
       "      <td id=\"T_4964f_row76_col3\" class=\"data row76 col3\" >6 days ago</td>\n",
       "      <td id=\"T_4964f_row76_col4\" class=\"data row76 col4\" >1 Fantastic Growth Stock Down 18% to Buy Right Now</td>\n",
       "      <td id=\"T_4964f_row76_col5\" class=\"data row76 col5\" >With that in mind, let's take a closer look at one fantastic growth stock that has plummeted by more than 20% in recent weeks but remains a solid long-term buy-and-hold candidate: Meta Platforms (NASDAQ: META).  What's Happened to Meta?  Just over a month ago, Meta's shares were in the midst of a historic run higher.</td>\n",
       "      <td id=\"T_4964f_row76_col6\" class=\"data row76 col6\" >2</td>\n",
       "      <td id=\"T_4964f_row76_col7\" class=\"data row76 col7\" >5</td>\n",
       "      <td id=\"T_4964f_row76_col8\" class=\"data row76 col8\" >4</td>\n",
       "      <td id=\"T_4964f_row76_col9\" class=\"data row76 col9\" >1</td>\n",
       "    </tr>\n",
       "    <tr>\n",
       "      <th id=\"T_4964f_level0_row77\" class=\"row_heading level0 row77\" >1106</th>\n",
       "      <td id=\"T_4964f_row77_col0\" class=\"data row77 col0\" >2025-03-20 07:42:00</td>\n",
       "      <td id=\"T_4964f_row77_col1\" class=\"data row77 col1\" >META</td>\n",
       "      <td id=\"T_4964f_row77_col2\" class=\"data row77 col2\" >Yahoo Finance</td>\n",
       "      <td id=\"T_4964f_row77_col3\" class=\"data row77 col3\" >8 days ago</td>\n",
       "      <td id=\"T_4964f_row77_col4\" class=\"data row77 col4\" >Nvidia's GTC fallout reminds 'Magnificent 7' investors of an important lesson</td>\n",
       "      <td id=\"T_4964f_row77_col5\" class=\"data row77 col5\" >Nvidia is still the straw that stirs the drink for the \"Magnificent Seven.\"</td>\n",
       "      <td id=\"T_4964f_row77_col6\" class=\"data row77 col6\" >3</td>\n",
       "      <td id=\"T_4964f_row77_col7\" class=\"data row77 col7\" >1</td>\n",
       "      <td id=\"T_4964f_row77_col8\" class=\"data row77 col8\" >4</td>\n",
       "      <td id=\"T_4964f_row77_col9\" class=\"data row77 col9\" >5</td>\n",
       "    </tr>\n",
       "    <tr>\n",
       "      <th id=\"T_4964f_level0_row78\" class=\"row_heading level0 row78\" >1117</th>\n",
       "      <td id=\"T_4964f_row78_col0\" class=\"data row78 col0\" >2025-03-20 07:42:00</td>\n",
       "      <td id=\"T_4964f_row78_col1\" class=\"data row78 col1\" >META</td>\n",
       "      <td id=\"T_4964f_row78_col2\" class=\"data row78 col2\" >Simply Wall St.</td>\n",
       "      <td id=\"T_4964f_row78_col3\" class=\"data row78 col3\" >8 days ago</td>\n",
       "      <td id=\"T_4964f_row78_col4\" class=\"data row78 col4\" >Investors Hesitant Ahead Of Fed Rates Decision</td>\n",
       "      <td id=\"T_4964f_row78_col5\" class=\"data row78 col5\" >The U.S. stock markets concluded a turbulent session today as investors remained apprehensive ahead of the Federal Reserve's imminent decision on interest rates.</td>\n",
       "      <td id=\"T_4964f_row78_col6\" class=\"data row78 col6\" >1</td>\n",
       "      <td id=\"T_4964f_row78_col7\" class=\"data row78 col7\" >1</td>\n",
       "      <td id=\"T_4964f_row78_col8\" class=\"data row78 col8\" >5</td>\n",
       "      <td id=\"T_4964f_row78_col9\" class=\"data row78 col9\" >1</td>\n",
       "    </tr>\n",
       "    <tr>\n",
       "      <th id=\"T_4964f_level0_row79\" class=\"row_heading level0 row79\" >1133</th>\n",
       "      <td id=\"T_4964f_row79_col0\" class=\"data row79 col0\" >2025-03-19 07:42:00</td>\n",
       "      <td id=\"T_4964f_row79_col1\" class=\"data row79 col1\" >META</td>\n",
       "      <td id=\"T_4964f_row79_col2\" class=\"data row79 col2\" >Investing.com</td>\n",
       "      <td id=\"T_4964f_row79_col3\" class=\"data row79 col3\" >9 days ago</td>\n",
       "      <td id=\"T_4964f_row79_col4\" class=\"data row79 col4\" >Analyst says Oracle operations have limited digital media synergies with TikTok</td>\n",
       "      <td id=\"T_4964f_row79_col5\" class=\"data row79 col5\" >Investing.com -- Bank of America analysts noted that Oracle (NYSE:ORCL) has emerged as the leading candidate to acquire TikTok’s U.S. operations under Project Texas 2.0, according to press reports from The Information and Forbes.</td>\n",
       "      <td id=\"T_4964f_row79_col6\" class=\"data row79 col6\" >5</td>\n",
       "      <td id=\"T_4964f_row79_col7\" class=\"data row79 col7\" >3</td>\n",
       "      <td id=\"T_4964f_row79_col8\" class=\"data row79 col8\" >3</td>\n",
       "      <td id=\"T_4964f_row79_col9\" class=\"data row79 col9\" >1</td>\n",
       "    </tr>\n",
       "    <tr>\n",
       "      <th id=\"T_4964f_level0_row80\" class=\"row_heading level0 row80\" >1139</th>\n",
       "      <td id=\"T_4964f_row80_col0\" class=\"data row80 col0\" >2025-03-18 07:42:00</td>\n",
       "      <td id=\"T_4964f_row80_col1\" class=\"data row80 col1\" >META</td>\n",
       "      <td id=\"T_4964f_row80_col2\" class=\"data row80 col2\" >Zacks</td>\n",
       "      <td id=\"T_4964f_row80_col3\" class=\"data row80 col3\" >10 days ago</td>\n",
       "      <td id=\"T_4964f_row80_col4\" class=\"data row80 col4\" >Meta Platforms (META) Stock Declines While Market Improves: Some Information for Investors</td>\n",
       "      <td id=\"T_4964f_row80_col5\" class=\"data row80 col5\" >Meta Platforms (META) reachead $604.71 at the closing of the latest trading day, reflecting a -0.48% change compared to its last close.</td>\n",
       "      <td id=\"T_4964f_row80_col6\" class=\"data row80 col6\" >1</td>\n",
       "      <td id=\"T_4964f_row80_col7\" class=\"data row80 col7\" >5</td>\n",
       "      <td id=\"T_4964f_row80_col8\" class=\"data row80 col8\" >3</td>\n",
       "      <td id=\"T_4964f_row80_col9\" class=\"data row80 col9\" >1</td>\n",
       "    </tr>\n",
       "    <tr>\n",
       "      <th id=\"T_4964f_level0_row81\" class=\"row_heading level0 row81\" >1160</th>\n",
       "      <td id=\"T_4964f_row81_col0\" class=\"data row81 col0\" >2025-03-15 07:42:00</td>\n",
       "      <td id=\"T_4964f_row81_col1\" class=\"data row81 col1\" >META</td>\n",
       "      <td id=\"T_4964f_row81_col2\" class=\"data row81 col2\" >Yahoo Finance Video</td>\n",
       "      <td id=\"T_4964f_row81_col3\" class=\"data row81 col3\" >13 days ago</td>\n",
       "      <td id=\"T_4964f_row81_col4\" class=\"data row81 col4\" >This is the Magnificent 7 stock to buy on the dip, strategist says</td>\n",
       "      <td id=\"T_4964f_row81_col5\" class=\"data row81 col5\" >The \"Magnificent Seven\" stocks haven't been immune to the overall market decline. BMO Capital Markets Chief investment Strategist Brian Belski says there's one Mag 7 stock he would buy on the dip. Find out what it is in the video above. To watch more expert insights and analysis on the latest market action, check out more Catalysts here.</td>\n",
       "      <td id=\"T_4964f_row81_col6\" class=\"data row81 col6\" >3</td>\n",
       "      <td id=\"T_4964f_row81_col7\" class=\"data row81 col7\" >5</td>\n",
       "      <td id=\"T_4964f_row81_col8\" class=\"data row81 col8\" >3</td>\n",
       "      <td id=\"T_4964f_row81_col9\" class=\"data row81 col9\" >1</td>\n",
       "    </tr>\n",
       "    <tr>\n",
       "      <th id=\"T_4964f_level0_row82\" class=\"row_heading level0 row82\" >1178</th>\n",
       "      <td id=\"T_4964f_row82_col0\" class=\"data row82 col0\" >2025-03-14 07:42:00</td>\n",
       "      <td id=\"T_4964f_row82_col1\" class=\"data row82 col1\" >META</td>\n",
       "      <td id=\"T_4964f_row82_col2\" class=\"data row82 col2\" >GuruFocus.com</td>\n",
       "      <td id=\"T_4964f_row82_col3\" class=\"data row82 col3\" >14 days ago</td>\n",
       "      <td id=\"T_4964f_row82_col4\" class=\"data row82 col4\" >Meta's Secret AI Chip Could Disrupt Nvidia's Grip on AI Hardware</td>\n",
       "      <td id=\"T_4964f_row82_col5\" class=\"data row82 col5\" >Meta advances its AI strategy with a custom chip, challenging Nvidia's dominance and seeking greater control over its infrastructure</td>\n",
       "      <td id=\"T_4964f_row82_col6\" class=\"data row82 col6\" >5</td>\n",
       "      <td id=\"T_4964f_row82_col7\" class=\"data row82 col7\" >1</td>\n",
       "      <td id=\"T_4964f_row82_col8\" class=\"data row82 col8\" >1</td>\n",
       "      <td id=\"T_4964f_row82_col9\" class=\"data row82 col9\" >5</td>\n",
       "    </tr>\n",
       "    <tr>\n",
       "      <th id=\"T_4964f_level0_row83\" class=\"row_heading level0 row83\" >1185</th>\n",
       "      <td id=\"T_4964f_row83_col0\" class=\"data row83 col0\" >2025-03-14 07:42:00</td>\n",
       "      <td id=\"T_4964f_row83_col1\" class=\"data row83 col1\" >META</td>\n",
       "      <td id=\"T_4964f_row83_col2\" class=\"data row83 col2\" >Motley Fool</td>\n",
       "      <td id=\"T_4964f_row83_col3\" class=\"data row83 col3\" >14 days ago</td>\n",
       "      <td id=\"T_4964f_row83_col4\" class=\"data row83 col4\" >2 Stocks to Buy in a Tech Market Sell-Off</td>\n",
       "      <td id=\"T_4964f_row83_col5\" class=\"data row83 col5\" >Equities have not performed well since Donald Trump took office as the 47th U.S. president.  Let's consider two tech stocks that will become even more attractive if there is a full-blown market sell-off: Netflix (NASDAQ: NFLX) and Meta Platforms (NASDAQ: META).  Netflix is on fire.</td>\n",
       "      <td id=\"T_4964f_row83_col6\" class=\"data row83 col6\" >3</td>\n",
       "      <td id=\"T_4964f_row83_col7\" class=\"data row83 col7\" >5</td>\n",
       "      <td id=\"T_4964f_row83_col8\" class=\"data row83 col8\" >1</td>\n",
       "      <td id=\"T_4964f_row83_col9\" class=\"data row83 col9\" >1</td>\n",
       "    </tr>\n",
       "    <tr>\n",
       "      <th id=\"T_4964f_level0_row84\" class=\"row_heading level0 row84\" >1198</th>\n",
       "      <td id=\"T_4964f_row84_col0\" class=\"data row84 col0\" >2025-03-28 05:42:00</td>\n",
       "      <td id=\"T_4964f_row84_col1\" class=\"data row84 col1\" >TSLA</td>\n",
       "      <td id=\"T_4964f_row84_col2\" class=\"data row84 col2\" >Yahoo Finance</td>\n",
       "      <td id=\"T_4964f_row84_col3\" class=\"data row84 col3\" >2 hours ago</td>\n",
       "      <td id=\"T_4964f_row84_col4\" class=\"data row84 col4\" >GM, Ford stocks reel after Trump announces 25% auto tariffs on foreign-made vehicles, certain parts</td>\n",
       "      <td id=\"T_4964f_row84_col5\" class=\"data row84 col5\" >President Trump made good on his promise to impose tariffs on foreign automakers.</td>\n",
       "      <td id=\"T_4964f_row84_col6\" class=\"data row84 col6\" >1</td>\n",
       "      <td id=\"T_4964f_row84_col7\" class=\"data row84 col7\" >5</td>\n",
       "      <td id=\"T_4964f_row84_col8\" class=\"data row84 col8\" >5</td>\n",
       "      <td id=\"T_4964f_row84_col9\" class=\"data row84 col9\" >1</td>\n",
       "    </tr>\n",
       "    <tr>\n",
       "      <th id=\"T_4964f_level0_row85\" class=\"row_heading level0 row85\" >1213</th>\n",
       "      <td id=\"T_4964f_row85_col0\" class=\"data row85 col0\" >2025-03-28 04:42:00</td>\n",
       "      <td id=\"T_4964f_row85_col1\" class=\"data row85 col1\" >TSLA</td>\n",
       "      <td id=\"T_4964f_row85_col2\" class=\"data row85 col2\" >Barrons.com</td>\n",
       "      <td id=\"T_4964f_row85_col3\" class=\"data row85 col3\" >3 hours ago</td>\n",
       "      <td id=\"T_4964f_row85_col4\" class=\"data row85 col4\" >Tesla Stock Gained After Trump Car Tariffs. Why Shares Dodged the Slump.</td>\n",
       "      <td id=\"T_4964f_row85_col5\" class=\"data row85 col5\" >Tesla stock rose Thursday on a tough day for shares of most auto makers.  President Donald Trump’s surprise tariff announcement on Wednesday evening is the reason car stocks face turmoil.  Tesla stock, however, was getting a pass from investors thanks to its All-American manufacturing, even as CEO Elon Musk warned of higher costs.</td>\n",
       "      <td id=\"T_4964f_row85_col6\" class=\"data row85 col6\" >5</td>\n",
       "      <td id=\"T_4964f_row85_col7\" class=\"data row85 col7\" >1</td>\n",
       "      <td id=\"T_4964f_row85_col8\" class=\"data row85 col8\" >1</td>\n",
       "      <td id=\"T_4964f_row85_col9\" class=\"data row85 col9\" >5</td>\n",
       "    </tr>\n",
       "    <tr>\n",
       "      <th id=\"T_4964f_level0_row86\" class=\"row_heading level0 row86\" >1227</th>\n",
       "      <td id=\"T_4964f_row86_col0\" class=\"data row86 col0\" >2025-03-28 01:42:00</td>\n",
       "      <td id=\"T_4964f_row86_col1\" class=\"data row86 col1\" >TSLA</td>\n",
       "      <td id=\"T_4964f_row86_col2\" class=\"data row86 col2\" >Simply Wall St.</td>\n",
       "      <td id=\"T_4964f_row86_col3\" class=\"data row86 col3\" >6 hours ago</td>\n",
       "      <td id=\"T_4964f_row86_col4\" class=\"data row86 col4\" >Tesla (NasdaqGS:TSLA) Defies Auto Sector Trends With 15% Weekly Price Rise</td>\n",
       "      <td id=\"T_4964f_row86_col5\" class=\"data row86 col5\" >Tesla (NasdaqGS:TSLA) experienced a 15% price increase over the last week, which coincided with the company's rising prominence in the auto sector amid tariff-related market fluctuations. While the broader market and auto stocks like General Motors saw declines due to the imposition of new tariffs on imported vehicles, Tesla managed to buck the trend. The tech-heavy Nasdaq Composite was down, yet Tesla's resilience may have been bolstered by its position in the electric vehicle market, which...</td>\n",
       "      <td id=\"T_4964f_row86_col6\" class=\"data row86 col6\" >4</td>\n",
       "      <td id=\"T_4964f_row86_col7\" class=\"data row86 col7\" >5</td>\n",
       "      <td id=\"T_4964f_row86_col8\" class=\"data row86 col8\" >5</td>\n",
       "      <td id=\"T_4964f_row86_col9\" class=\"data row86 col9\" >1</td>\n",
       "    </tr>\n",
       "    <tr>\n",
       "      <th id=\"T_4964f_level0_row87\" class=\"row_heading level0 row87\" >1234</th>\n",
       "      <td id=\"T_4964f_row87_col0\" class=\"data row87 col0\" >2025-03-28 00:42:00</td>\n",
       "      <td id=\"T_4964f_row87_col1\" class=\"data row87 col1\" >TSLA</td>\n",
       "      <td id=\"T_4964f_row87_col2\" class=\"data row87 col2\" >GuruFocus.com</td>\n",
       "      <td id=\"T_4964f_row87_col3\" class=\"data row87 col3\" >7 hours ago</td>\n",
       "      <td id=\"T_4964f_row87_col4\" class=\"data row87 col4\" >Why Tesla (TSLA) Stock Is Moving Today</td>\n",
       "      <td id=\"T_4964f_row87_col5\" class=\"data row87 col5\" >Tesla Shares Surge Despite Musk Warns of 'Significant' Hit from Trump Tariffs</td>\n",
       "      <td id=\"T_4964f_row87_col6\" class=\"data row87 col6\" >5</td>\n",
       "      <td id=\"T_4964f_row87_col7\" class=\"data row87 col7\" >5</td>\n",
       "      <td id=\"T_4964f_row87_col8\" class=\"data row87 col8\" >1</td>\n",
       "      <td id=\"T_4964f_row87_col9\" class=\"data row87 col9\" >5</td>\n",
       "    </tr>\n",
       "    <tr>\n",
       "      <th id=\"T_4964f_level0_row88\" class=\"row_heading level0 row88\" >1238</th>\n",
       "      <td id=\"T_4964f_row88_col0\" class=\"data row88 col0\" >2025-03-28 00:42:00</td>\n",
       "      <td id=\"T_4964f_row88_col1\" class=\"data row88 col1\" >TSLA</td>\n",
       "      <td id=\"T_4964f_row88_col2\" class=\"data row88 col2\" >MT Newswires</td>\n",
       "      <td id=\"T_4964f_row88_col3\" class=\"data row88 col3\" >7 hours ago</td>\n",
       "      <td id=\"T_4964f_row88_col4\" class=\"data row88 col4\" >Top Midday Stories: Tesla Shares Rise, Others Fall Post-Tariff Announcement; Nvidia-Backed CoreWeave to Cut IPO to $1.5 Billion</td>\n",
       "      <td id=\"T_4964f_row88_col5\" class=\"data row88 col5\" >All three major US stock indexes were up in late-morning trading Thursday as investors weigh the lat</td>\n",
       "      <td id=\"T_4964f_row88_col6\" class=\"data row88 col6\" >1</td>\n",
       "      <td id=\"T_4964f_row88_col7\" class=\"data row88 col7\" >5</td>\n",
       "      <td id=\"T_4964f_row88_col8\" class=\"data row88 col8\" >3</td>\n",
       "      <td id=\"T_4964f_row88_col9\" class=\"data row88 col9\" >1</td>\n",
       "    </tr>\n",
       "    <tr>\n",
       "      <th id=\"T_4964f_level0_row89\" class=\"row_heading level0 row89\" >1242</th>\n",
       "      <td id=\"T_4964f_row89_col0\" class=\"data row89 col0\" >2025-03-27 22:42:00</td>\n",
       "      <td id=\"T_4964f_row89_col1\" class=\"data row89 col1\" >TSLA</td>\n",
       "      <td id=\"T_4964f_row89_col2\" class=\"data row89 col2\" >Reuters</td>\n",
       "      <td id=\"T_4964f_row89_col3\" class=\"data row89 col3\" >9 hours ago</td>\n",
       "      <td id=\"T_4964f_row89_col4\" class=\"data row89 col4\" >Trump's auto tariffs will hit many companies, but Elon Musk's Tesla less so</td>\n",
       "      <td id=\"T_4964f_row89_col5\" class=\"data row89 col5\" >(Reuters) -As the global auto world reeled from the potential fallout of U.S. President Donald Trump's new auto tariffs, one name stood out as less affected than others - electric-vehicle maker Tesla.  Shares of the Texas-based company were the rare automaker to trade in the green in U.S. action on Thursday, as analysts said the EV maker's supply chain and financial performance may not be as affected by the wide-ranging levies that will impact global shipments of both cars and car parts to the United States.  Still, that relief in the United States, where Tesla CEO Elon Musk has become one of Trump's primary advisers, may not improve the brand's reputation worldwide.</td>\n",
       "      <td id=\"T_4964f_row89_col6\" class=\"data row89 col6\" >1</td>\n",
       "      <td id=\"T_4964f_row89_col7\" class=\"data row89 col7\" >5</td>\n",
       "      <td id=\"T_4964f_row89_col8\" class=\"data row89 col8\" >3</td>\n",
       "      <td id=\"T_4964f_row89_col9\" class=\"data row89 col9\" >1</td>\n",
       "    </tr>\n",
       "    <tr>\n",
       "      <th id=\"T_4964f_level0_row90\" class=\"row_heading level0 row90\" >1280</th>\n",
       "      <td id=\"T_4964f_row90_col0\" class=\"data row90 col0\" >2025-03-27 07:42:00</td>\n",
       "      <td id=\"T_4964f_row90_col1\" class=\"data row90 col1\" >TSLA</td>\n",
       "      <td id=\"T_4964f_row90_col2\" class=\"data row90 col2\" >Insider Monkey</td>\n",
       "      <td id=\"T_4964f_row90_col3\" class=\"data row90 col3\" >yesterday</td>\n",
       "      <td id=\"T_4964f_row90_col4\" class=\"data row90 col4\" >Tesla, Inc. (TSLA) Is Facing Tough Competition in China</td>\n",
       "      <td id=\"T_4964f_row90_col5\" class=\"data row90 col5\" >Stating that Chinese EV maker BYD (BYDDY,BYDDF) “had an incredible year” and continues to innovate, Bloomberg’s Craig Trudell warned earlier this week that Tesla, Inc. (TSLA) is facing very strong competition in China. A Tough Challenge From BYD BYD’s 2024 revenue came in above that of Tesla, and the Chinese automaker is making “tangible progress” […]</td>\n",
       "      <td id=\"T_4964f_row90_col6\" class=\"data row90 col6\" >5</td>\n",
       "      <td id=\"T_4964f_row90_col7\" class=\"data row90 col7\" >2</td>\n",
       "      <td id=\"T_4964f_row90_col8\" class=\"data row90 col8\" >1</td>\n",
       "      <td id=\"T_4964f_row90_col9\" class=\"data row90 col9\" >5</td>\n",
       "    </tr>\n",
       "    <tr>\n",
       "      <th id=\"T_4964f_level0_row91\" class=\"row_heading level0 row91\" >1300</th>\n",
       "      <td id=\"T_4964f_row91_col0\" class=\"data row91 col0\" >2025-03-27 07:42:00</td>\n",
       "      <td id=\"T_4964f_row91_col1\" class=\"data row91 col1\" >TSLA</td>\n",
       "      <td id=\"T_4964f_row91_col2\" class=\"data row91 col2\" >GuruFocus.com</td>\n",
       "      <td id=\"T_4964f_row91_col3\" class=\"data row91 col3\" >yesterday</td>\n",
       "      <td id=\"T_4964f_row91_col4\" class=\"data row91 col4\" >Tesla Climbs 25% in Five Days as \"Big-Picture Bulls\" Ignore Short-Term Struggles</td>\n",
       "      <td id=\"T_4964f_row91_col5\" class=\"data row91 col5\" >Tesla Shares Surge as \"Musk Vision\" Outweighs Weak EV Sales in Europe</td>\n",
       "      <td id=\"T_4964f_row91_col6\" class=\"data row91 col6\" >5</td>\n",
       "      <td id=\"T_4964f_row91_col7\" class=\"data row91 col7\" >5</td>\n",
       "      <td id=\"T_4964f_row91_col8\" class=\"data row91 col8\" >1</td>\n",
       "      <td id=\"T_4964f_row91_col9\" class=\"data row91 col9\" >5</td>\n",
       "    </tr>\n",
       "    <tr>\n",
       "      <th id=\"T_4964f_level0_row92\" class=\"row_heading level0 row92\" >1310</th>\n",
       "      <td id=\"T_4964f_row92_col0\" class=\"data row92 col0\" >2025-03-27 07:42:00</td>\n",
       "      <td id=\"T_4964f_row92_col1\" class=\"data row92 col1\" >TSLA</td>\n",
       "      <td id=\"T_4964f_row92_col2\" class=\"data row92 col2\" >CNN Business</td>\n",
       "      <td id=\"T_4964f_row92_col3\" class=\"data row92 col3\" >yesterday</td>\n",
       "      <td id=\"T_4964f_row92_col4\" class=\"data row92 col4\" >Tesla’s stock is making a comeback. But it’s about to face a massive challenge</td>\n",
       "      <td id=\"T_4964f_row92_col5\" class=\"data row92 col5\" >Tesla’s stock closed higher Tuesday for the fifth straight day, a remarkable and sustained rally that has recaptured a quarter of the value it lost in the last three months. It may not last.</td>\n",
       "      <td id=\"T_4964f_row92_col6\" class=\"data row92 col6\" >5</td>\n",
       "      <td id=\"T_4964f_row92_col7\" class=\"data row92 col7\" >1</td>\n",
       "      <td id=\"T_4964f_row92_col8\" class=\"data row92 col8\" >1</td>\n",
       "      <td id=\"T_4964f_row92_col9\" class=\"data row92 col9\" >5</td>\n",
       "    </tr>\n",
       "    <tr>\n",
       "      <th id=\"T_4964f_level0_row93\" class=\"row_heading level0 row93\" >1336</th>\n",
       "      <td id=\"T_4964f_row93_col0\" class=\"data row93 col0\" >2025-03-26 07:42:00</td>\n",
       "      <td id=\"T_4964f_row93_col1\" class=\"data row93 col1\" >TSLA</td>\n",
       "      <td id=\"T_4964f_row93_col2\" class=\"data row93 col2\" >The Wall Street Journal</td>\n",
       "      <td id=\"T_4964f_row93_col3\" class=\"data row93 col3\" >2 days ago</td>\n",
       "      <td id=\"T_4964f_row93_col4\" class=\"data row93 col4\" >Tesla Sales Plunged 47% Last Month in the European Union</td>\n",
       "      <td id=\"T_4964f_row93_col5\" class=\"data row93 col5\" >New car registrations for Teslas fell 47% in February from a year earlier to 11,743 cars, according to the European Automobile Manufacturers' Association.  The ACEA data showed overall EU car registrations falling 3.4%, with rising sales of EVs and hybrid cars failing to offset tumbling sales of gasoline and diesel cars.  Volkswagen and Renault logged some of the biggest increases in monthly car registrations.</td>\n",
       "      <td id=\"T_4964f_row93_col6\" class=\"data row93 col6\" >1</td>\n",
       "      <td id=\"T_4964f_row93_col7\" class=\"data row93 col7\" >1</td>\n",
       "      <td id=\"T_4964f_row93_col8\" class=\"data row93 col8\" >5</td>\n",
       "      <td id=\"T_4964f_row93_col9\" class=\"data row93 col9\" >1</td>\n",
       "    </tr>\n",
       "    <tr>\n",
       "      <th id=\"T_4964f_level0_row94\" class=\"row_heading level0 row94\" >1339</th>\n",
       "      <td id=\"T_4964f_row94_col0\" class=\"data row94 col0\" >2025-03-26 07:42:00</td>\n",
       "      <td id=\"T_4964f_row94_col1\" class=\"data row94 col1\" >TSLA</td>\n",
       "      <td id=\"T_4964f_row94_col2\" class=\"data row94 col2\" >Yahoo Finance</td>\n",
       "      <td id=\"T_4964f_row94_col3\" class=\"data row94 col3\" >2 days ago</td>\n",
       "      <td id=\"T_4964f_row94_col4\" class=\"data row94 col4\" >Commentary: Trump's plan to save Tesla</td>\n",
       "      <td id=\"T_4964f_row94_col5\" class=\"data row94 col5\" >Trump may be maneuvering to protect Elon Musk's company Tesla from any tariff pain.</td>\n",
       "      <td id=\"T_4964f_row94_col6\" class=\"data row94 col6\" >4</td>\n",
       "      <td id=\"T_4964f_row94_col7\" class=\"data row94 col7\" >1</td>\n",
       "      <td id=\"T_4964f_row94_col8\" class=\"data row94 col8\" >1</td>\n",
       "      <td id=\"T_4964f_row94_col9\" class=\"data row94 col9\" >5</td>\n",
       "    </tr>\n",
       "    <tr>\n",
       "      <th id=\"T_4964f_level0_row95\" class=\"row_heading level0 row95\" >1348</th>\n",
       "      <td id=\"T_4964f_row95_col0\" class=\"data row95 col0\" >2025-03-26 07:42:00</td>\n",
       "      <td id=\"T_4964f_row95_col1\" class=\"data row95 col1\" >TSLA</td>\n",
       "      <td id=\"T_4964f_row95_col2\" class=\"data row95 col2\" >MT Newswires</td>\n",
       "      <td id=\"T_4964f_row95_col3\" class=\"data row95 col3\" >2 days ago</td>\n",
       "      <td id=\"T_4964f_row95_col4\" class=\"data row95 col4\" >Top Midday Stories: Tesla Loses Market Share in Europe; Waymo to Launch Autonomous Taxi Service in DC in 2026</td>\n",
       "      <td id=\"T_4964f_row95_col5\" class=\"data row95 col5\" >All three major US stock indexes were up in late-morning trading on Tuesday as investors attempt to</td>\n",
       "      <td id=\"T_4964f_row95_col6\" class=\"data row95 col6\" >5</td>\n",
       "      <td id=\"T_4964f_row95_col7\" class=\"data row95 col7\" >1</td>\n",
       "      <td id=\"T_4964f_row95_col8\" class=\"data row95 col8\" >3</td>\n",
       "      <td id=\"T_4964f_row95_col9\" class=\"data row95 col9\" >4</td>\n",
       "    </tr>\n",
       "    <tr>\n",
       "      <th id=\"T_4964f_level0_row96\" class=\"row_heading level0 row96\" >1354</th>\n",
       "      <td id=\"T_4964f_row96_col0\" class=\"data row96 col0\" >2025-03-26 07:42:00</td>\n",
       "      <td id=\"T_4964f_row96_col1\" class=\"data row96 col1\" >TSLA</td>\n",
       "      <td id=\"T_4964f_row96_col2\" class=\"data row96 col2\" >Yahoo Finance Video</td>\n",
       "      <td id=\"T_4964f_row96_col3\" class=\"data row96 col3\" >2 days ago</td>\n",
       "      <td id=\"T_4964f_row96_col4\" class=\"data row96 col4\" >Why these investors stay bullish on Tesla</td>\n",
       "      <td id=\"T_4964f_row96_col5\" class=\"data row96 col5\" >Ark Invest CEO Cathie Wood remains bullish on Tesla (TSLA), despite the stock being down over 30% this year. Ark Invest predicts that Tesla will hit $2,600 in five years, with robotaxis making up 90% of its value. Morning Brief hosts Brad Smith and Madison Mills break down Ark Invest's expectations for Tesla. To watch more expert insights and analysis on the latest market action, check out more Morning Brief here.</td>\n",
       "      <td id=\"T_4964f_row96_col6\" class=\"data row96 col6\" >3</td>\n",
       "      <td id=\"T_4964f_row96_col7\" class=\"data row96 col7\" >5</td>\n",
       "      <td id=\"T_4964f_row96_col8\" class=\"data row96 col8\" >3</td>\n",
       "      <td id=\"T_4964f_row96_col9\" class=\"data row96 col9\" >1</td>\n",
       "    </tr>\n",
       "    <tr>\n",
       "      <th id=\"T_4964f_level0_row97\" class=\"row_heading level0 row97\" >1355</th>\n",
       "      <td id=\"T_4964f_row97_col0\" class=\"data row97 col0\" >2025-03-26 07:42:00</td>\n",
       "      <td id=\"T_4964f_row97_col1\" class=\"data row97 col1\" >TSLA</td>\n",
       "      <td id=\"T_4964f_row97_col2\" class=\"data row97 col2\" >Zacks</td>\n",
       "      <td id=\"T_4964f_row97_col3\" class=\"data row97 col3\" >2 days ago</td>\n",
       "      <td id=\"T_4964f_row97_col4\" class=\"data row97 col4\" >Tariff Relief Boosts Tech ETFs: Is More Upside Ahead?</td>\n",
       "      <td id=\"T_4964f_row97_col5\" class=\"data row97 col5\" >Wall Street rallies on Monday, led by tech stocks. Will the rally continue?</td>\n",
       "      <td id=\"T_4964f_row97_col6\" class=\"data row97 col6\" >5</td>\n",
       "      <td id=\"T_4964f_row97_col7\" class=\"data row97 col7\" >5</td>\n",
       "      <td id=\"T_4964f_row97_col8\" class=\"data row97 col8\" >1</td>\n",
       "      <td id=\"T_4964f_row97_col9\" class=\"data row97 col9\" >5</td>\n",
       "    </tr>\n",
       "    <tr>\n",
       "      <th id=\"T_4964f_level0_row98\" class=\"row_heading level0 row98\" >1367</th>\n",
       "      <td id=\"T_4964f_row98_col0\" class=\"data row98 col0\" >2025-03-26 07:42:00</td>\n",
       "      <td id=\"T_4964f_row98_col1\" class=\"data row98 col1\" >TSLA</td>\n",
       "      <td id=\"T_4964f_row98_col2\" class=\"data row98 col2\" >TipRanks</td>\n",
       "      <td id=\"T_4964f_row98_col3\" class=\"data row98 col3\" >2 days ago</td>\n",
       "      <td id=\"T_4964f_row98_col4\" class=\"data row98 col4\" >Tesla or Ford: Piper Sandler Selects the Superior Stock to Buy</td>\n",
       "      <td id=\"T_4964f_row98_col5\" class=\"data row98 col5\" >In 1913, Henry Ford introduced the assembly line in his automobile factory, turning Detroit into the Motor City and forever changing the way that industry looked at production. Today, we’re looking at several coming changes in the automotive industry, with the potential to be just as disruptive as Ford’s factory: viable electric vehicles, self-driving technology, connected smart tech, and who knows what else. The challenge for investors in today’s automotive environment is finding the stocks tha</td>\n",
       "      <td id=\"T_4964f_row98_col6\" class=\"data row98 col6\" >3</td>\n",
       "      <td id=\"T_4964f_row98_col7\" class=\"data row98 col7\" >1</td>\n",
       "      <td id=\"T_4964f_row98_col8\" class=\"data row98 col8\" >1</td>\n",
       "      <td id=\"T_4964f_row98_col9\" class=\"data row98 col9\" >5</td>\n",
       "    </tr>\n",
       "    <tr>\n",
       "      <th id=\"T_4964f_level0_row99\" class=\"row_heading level0 row99\" >1381</th>\n",
       "      <td id=\"T_4964f_row99_col0\" class=\"data row99 col0\" >2025-03-26 07:42:00</td>\n",
       "      <td id=\"T_4964f_row99_col1\" class=\"data row99 col1\" >TSLA</td>\n",
       "      <td id=\"T_4964f_row99_col2\" class=\"data row99 col2\" >Bloomberg</td>\n",
       "      <td id=\"T_4964f_row99_col3\" class=\"data row99 col3\" >2 days ago</td>\n",
       "      <td id=\"T_4964f_row99_col4\" class=\"data row99 col4\" >Cathie Wood Sticks With Tesla, Predicts Stock to Hit $2,600</td>\n",
       "      <td id=\"T_4964f_row99_col5\" class=\"data row99 col5\" >(Bloomberg) -- Cathie Wood’s Ark Investment Management LLC remains bullish on Tesla Inc. and expects the stock will hit $2,600 in five years, or almost 10 times its current price.Most Read from BloombergThey Built a Secret Apartment in a Mall. Now the Mall Is Dying.Why Did the Government Declare War on My Adorable Tiny Truck?Chicago Transit Faces ‘Doomsday Scenario,’ Regional Agency SaysLA Faces $1 Billion Budget Hole, Warns of Thousands of LayoffsTrump Slashed International Aid. Geneva Is Feeli</td>\n",
       "      <td id=\"T_4964f_row99_col6\" class=\"data row99 col6\" >1</td>\n",
       "      <td id=\"T_4964f_row99_col7\" class=\"data row99 col7\" >5</td>\n",
       "      <td id=\"T_4964f_row99_col8\" class=\"data row99 col8\" >1</td>\n",
       "      <td id=\"T_4964f_row99_col9\" class=\"data row99 col9\" >1</td>\n",
       "    </tr>\n",
       "    <tr>\n",
       "      <th id=\"T_4964f_level0_row100\" class=\"row_heading level0 row100\" >1382</th>\n",
       "      <td id=\"T_4964f_row100_col0\" class=\"data row100 col0\" >2025-03-26 07:42:00</td>\n",
       "      <td id=\"T_4964f_row100_col1\" class=\"data row100 col1\" >TSLA</td>\n",
       "      <td id=\"T_4964f_row100_col2\" class=\"data row100 col2\" >Motley Fool</td>\n",
       "      <td id=\"T_4964f_row100_col3\" class=\"data row100 col3\" >2 days ago</td>\n",
       "      <td id=\"T_4964f_row100_col4\" class=\"data row100 col4\" >Tesla Stock Roars Higher: Could This Sharp Rebound Continue?</td>\n",
       "      <td id=\"T_4964f_row100_col5\" class=\"data row100 col5\" >The electric car maker's shares are bouncing back in a big way -- but there's a good reason to stay skeptical.</td>\n",
       "      <td id=\"T_4964f_row100_col6\" class=\"data row100 col6\" >5</td>\n",
       "      <td id=\"T_4964f_row100_col7\" class=\"data row100 col7\" >5</td>\n",
       "      <td id=\"T_4964f_row100_col8\" class=\"data row100 col8\" >1</td>\n",
       "      <td id=\"T_4964f_row100_col9\" class=\"data row100 col9\" >5</td>\n",
       "    </tr>\n",
       "    <tr>\n",
       "      <th id=\"T_4964f_level0_row101\" class=\"row_heading level0 row101\" >1409</th>\n",
       "      <td id=\"T_4964f_row101_col0\" class=\"data row101 col0\" >2025-03-27 07:43:00</td>\n",
       "      <td id=\"T_4964f_row101_col1\" class=\"data row101 col1\" >JPM</td>\n",
       "      <td id=\"T_4964f_row101_col2\" class=\"data row101 col2\" >Reuters</td>\n",
       "      <td id=\"T_4964f_row101_col3\" class=\"data row101 col3\" >yesterday</td>\n",
       "      <td id=\"T_4964f_row101_col4\" class=\"data row101 col4\" >Wall Street bonuses jump 32% as total surges to record, NY comptroller says</td>\n",
       "      <td id=\"T_4964f_row101_col5\" class=\"data row101 col5\" >NEW YORK (Reuters) -Wall Street banker bonuses rose 31.5% to an average $244,700 last year as dealmaking rebounded, but the boom times may wane as economic uncertainty rises, New York State Comptroller Thomas DiNapoli said on Wednesday.  Deals have slowed this quarter as companies navigate changing policies from President Donald Trump's administration, including tariffs and personnel changes atop regulatory agencies.  \"This financial market strength is good news for New York's economy and our fiscal position, which relies on the tax revenue it generates,\" DiNapoli said in a statement.</td>\n",
       "      <td id=\"T_4964f_row101_col6\" class=\"data row101 col6\" >1</td>\n",
       "      <td id=\"T_4964f_row101_col7\" class=\"data row101 col7\" >5</td>\n",
       "      <td id=\"T_4964f_row101_col8\" class=\"data row101 col8\" >5</td>\n",
       "      <td id=\"T_4964f_row101_col9\" class=\"data row101 col9\" >1</td>\n",
       "    </tr>\n",
       "    <tr>\n",
       "      <th id=\"T_4964f_level0_row102\" class=\"row_heading level0 row102\" >1411</th>\n",
       "      <td id=\"T_4964f_row102_col0\" class=\"data row102 col0\" >2025-03-26 07:43:00</td>\n",
       "      <td id=\"T_4964f_row102_col1\" class=\"data row102 col1\" >JPM</td>\n",
       "      <td id=\"T_4964f_row102_col2\" class=\"data row102 col2\" >Yahoo Finance</td>\n",
       "      <td id=\"T_4964f_row102_col3\" class=\"data row102 col3\" >2 days ago</td>\n",
       "      <td id=\"T_4964f_row102_col4\" class=\"data row102 col4\" >Trump's Social Security pick promises 'improving service' at agency roiled by upheaval</td>\n",
       "      <td id=\"T_4964f_row102_col5\" class=\"data row102 col5\" >Frank Bisignano, Donald Trump's pick to lead the Social Security administration, called improving customer service 'a mission critical function' Tuesday even as early Trump administration actions undermined existing service.</td>\n",
       "      <td id=\"T_4964f_row102_col6\" class=\"data row102 col6\" >1</td>\n",
       "      <td id=\"T_4964f_row102_col7\" class=\"data row102 col7\" >5</td>\n",
       "      <td id=\"T_4964f_row102_col8\" class=\"data row102 col8\" >1</td>\n",
       "      <td id=\"T_4964f_row102_col9\" class=\"data row102 col9\" >1</td>\n",
       "    </tr>\n",
       "    <tr>\n",
       "      <th id=\"T_4964f_level0_row103\" class=\"row_heading level0 row103\" >1442</th>\n",
       "      <td id=\"T_4964f_row103_col0\" class=\"data row103 col0\" >2025-03-20 07:43:00</td>\n",
       "      <td id=\"T_4964f_row103_col1\" class=\"data row103 col1\" >JPM</td>\n",
       "      <td id=\"T_4964f_row103_col2\" class=\"data row103 col2\" >Insider Monkey</td>\n",
       "      <td id=\"T_4964f_row103_col3\" class=\"data row103 col3\" >8 days ago</td>\n",
       "      <td id=\"T_4964f_row103_col4\" class=\"data row103 col4\" >Is JPMorgan Chase (JPM) Among The Best Bank Stocks To Buy According To Billionaires?</td>\n",
       "      <td id=\"T_4964f_row103_col5\" class=\"data row103 col5\" >We recently published a list of 15 Best Bank Stocks to Buy According to Billionaires. In this article, we are going to take a look at where JPMorgan Chase & Co. (NYSE:JPM) stands against other best bank stocks to invest in. As 2025 kicks off, bank executives are facing a mix of optimism and uncertainty. […]</td>\n",
       "      <td id=\"T_4964f_row103_col6\" class=\"data row103 col6\" >3</td>\n",
       "      <td id=\"T_4964f_row103_col7\" class=\"data row103 col7\" >1</td>\n",
       "      <td id=\"T_4964f_row103_col8\" class=\"data row103 col8\" >1</td>\n",
       "      <td id=\"T_4964f_row103_col9\" class=\"data row103 col9\" >5</td>\n",
       "    </tr>\n",
       "    <tr>\n",
       "      <th id=\"T_4964f_level0_row104\" class=\"row_heading level0 row104\" >1478</th>\n",
       "      <td id=\"T_4964f_row104_col0\" class=\"data row104 col0\" >2025-03-14 07:43:00</td>\n",
       "      <td id=\"T_4964f_row104_col1\" class=\"data row104 col1\" >JPM</td>\n",
       "      <td id=\"T_4964f_row104_col2\" class=\"data row104 col2\" >Yahoo Finance</td>\n",
       "      <td id=\"T_4964f_row104_col3\" class=\"data row104 col3\" >14 days ago</td>\n",
       "      <td id=\"T_4964f_row104_col4\" class=\"data row104 col4\" >Charles Schwab CEO: Investors are buying the dips</td>\n",
       "      <td id=\"T_4964f_row104_col5\" class=\"data row104 col5\" >New Charles Schwab CEO Rick Wurster takes Yahoo Finance inside client activity with the market under pressure this month.</td>\n",
       "      <td id=\"T_4964f_row104_col6\" class=\"data row104 col6\" >3</td>\n",
       "      <td id=\"T_4964f_row104_col7\" class=\"data row104 col7\" >1</td>\n",
       "      <td id=\"T_4964f_row104_col8\" class=\"data row104 col8\" >1</td>\n",
       "      <td id=\"T_4964f_row104_col9\" class=\"data row104 col9\" >5</td>\n",
       "    </tr>\n",
       "    <tr>\n",
       "      <th id=\"T_4964f_level0_row105\" class=\"row_heading level0 row105\" >1485</th>\n",
       "      <td id=\"T_4964f_row105_col0\" class=\"data row105 col0\" >2025-03-13 07:43:00</td>\n",
       "      <td id=\"T_4964f_row105_col1\" class=\"data row105 col1\" >JPM</td>\n",
       "      <td id=\"T_4964f_row105_col2\" class=\"data row105 col2\" >Bloomberg</td>\n",
       "      <td id=\"T_4964f_row105_col3\" class=\"data row105 col3\" >15 days ago</td>\n",
       "      <td id=\"T_4964f_row105_col4\" class=\"data row105 col4\" >JPMorgan Stopped Banking Staley Over Probe Into Epstein Links</td>\n",
       "      <td id=\"T_4964f_row105_col5\" class=\"data row105 col5\" >(Bloomberg) -- JPMorgan Chase & Co. stopped providing banking services to Jes Staley as a result of regulators’ investigation into his relationship with Jeffrey Epstein, a London court heard on Wednesday. Most Read from BloombergTrump DEI Purge Hits Affordable Housing GroupsNYC Congestion Pricing Toll Gains Support Among City ResidentsElectric Construction Equipment Promises a Quiet RevolutionOpen Philanthropy Launches $120 Million Fund To Support YIMBY ReformsInside the ‘Not Architecture’ of Hi</td>\n",
       "      <td id=\"T_4964f_row105_col6\" class=\"data row105 col6\" >3</td>\n",
       "      <td id=\"T_4964f_row105_col7\" class=\"data row105 col7\" >3</td>\n",
       "      <td id=\"T_4964f_row105_col8\" class=\"data row105 col8\" >5</td>\n",
       "      <td id=\"T_4964f_row105_col9\" class=\"data row105 col9\" >1</td>\n",
       "    </tr>\n",
       "    <tr>\n",
       "      <th id=\"T_4964f_level0_row106\" class=\"row_heading level0 row106\" >1561</th>\n",
       "      <td id=\"T_4964f_row106_col0\" class=\"data row106 col0\" >2025-02-28 07:43:00</td>\n",
       "      <td id=\"T_4964f_row106_col1\" class=\"data row106 col1\" >JPM</td>\n",
       "      <td id=\"T_4964f_row106_col2\" class=\"data row106 col2\" >Yahoo Finance</td>\n",
       "      <td id=\"T_4964f_row106_col3\" class=\"data row106 col3\" >last month</td>\n",
       "      <td id=\"T_4964f_row106_col4\" class=\"data row106 col4\" >DEI retreat widens as Citigroup and PepsiCo roll back diversity policies</td>\n",
       "      <td id=\"T_4964f_row106_col5\" class=\"data row106 col5\" >The retreat from corporate diversity programs widened this week as Citigroup and PepsiCo announced rollbacks of their DEI policies amid mounting scrutiny from a new administration in Washington, D.C.</td>\n",
       "      <td id=\"T_4964f_row106_col6\" class=\"data row106 col6\" >5</td>\n",
       "      <td id=\"T_4964f_row106_col7\" class=\"data row106 col7\" >1</td>\n",
       "      <td id=\"T_4964f_row106_col8\" class=\"data row106 col8\" >1</td>\n",
       "      <td id=\"T_4964f_row106_col9\" class=\"data row106 col9\" >4</td>\n",
       "    </tr>\n",
       "    <tr>\n",
       "      <th id=\"T_4964f_level0_row107\" class=\"row_heading level0 row107\" >1577</th>\n",
       "      <td id=\"T_4964f_row107_col0\" class=\"data row107 col0\" >2025-02-28 07:43:00</td>\n",
       "      <td id=\"T_4964f_row107_col1\" class=\"data row107 col1\" >JPM</td>\n",
       "      <td id=\"T_4964f_row107_col2\" class=\"data row107 col2\" >Yahoo Finance Video</td>\n",
       "      <td id=\"T_4964f_row107_col3\" class=\"data row107 col3\" >last month</td>\n",
       "      <td id=\"T_4964f_row107_col4\" class=\"data row107 col4\" >Why big bank stocks could continue to rally through 2025</td>\n",
       "      <td id=\"T_4964f_row107_col5\" class=\"data row107 col5\" >Major bank stocks, including JPMorgan (JPM), Goldman Sachs (GS), and Wells Fargo (WFC), are trading at or near record highs. Hennessy Funds Portfolio Manager David Ellison joins Market Domination host Julie Hyman to explain why the financial sector is positioned to outperform in 2025. Ellison emphasizes that interest rates are the key driver benefiting the banking sector. He explains that while rates rose for several years, their recent decline has relieved pressure on factors like deposit costs and mark-to-market issues, which he notes \"obviously created the Silicon Valley [crisis] and the other ripple effects.\" \"I think the banking industry has been pretty dormant from a performance point of view since 2008,\" he tells Yahoo Finance, describing the last decade as \"brutally awful\" for the sector. However, he suggests that a combination of softening bank regulations and declining interest rates could create \"a situation where the group could finally catch a bid beyond sort of the traditional banking model.\" To watch more expert insights and analysis on the latest market action, check out more Market Domination&nbsp;here. This post was written by Angel Smith</td>\n",
       "      <td id=\"T_4964f_row107_col6\" class=\"data row107 col6\" >2</td>\n",
       "      <td id=\"T_4964f_row107_col7\" class=\"data row107 col7\" >5</td>\n",
       "      <td id=\"T_4964f_row107_col8\" class=\"data row107 col8\" >3</td>\n",
       "      <td id=\"T_4964f_row107_col9\" class=\"data row107 col9\" >1</td>\n",
       "    </tr>\n",
       "    <tr>\n",
       "      <th id=\"T_4964f_level0_row108\" class=\"row_heading level0 row108\" >1666</th>\n",
       "      <td id=\"T_4964f_row108_col0\" class=\"data row108 col0\" >2025-03-09 07:43:00</td>\n",
       "      <td id=\"T_4964f_row108_col1\" class=\"data row108 col1\" >JNJ</td>\n",
       "      <td id=\"T_4964f_row108_col2\" class=\"data row108 col2\" >Zacks</td>\n",
       "      <td id=\"T_4964f_row108_col3\" class=\"data row108 col3\" >19 days ago</td>\n",
       "      <td id=\"T_4964f_row108_col4\" class=\"data row108 col4\" >Buy Gilead Sciences (GILD) Stock at 52-Week Highs?</td>\n",
       "      <td id=\"T_4964f_row108_col5\" class=\"data row108 col5\" >Medical pioneer Gilead Sciences (GILD) has seen its stock etch out new 52-week highs as the broader market pulled back sharply in recent weeks.</td>\n",
       "      <td id=\"T_4964f_row108_col6\" class=\"data row108 col6\" >5</td>\n",
       "      <td id=\"T_4964f_row108_col7\" class=\"data row108 col7\" >5</td>\n",
       "      <td id=\"T_4964f_row108_col8\" class=\"data row108 col8\" >1</td>\n",
       "      <td id=\"T_4964f_row108_col9\" class=\"data row108 col9\" >4</td>\n",
       "    </tr>\n",
       "    <tr>\n",
       "      <th id=\"T_4964f_level0_row109\" class=\"row_heading level0 row109\" >1704</th>\n",
       "      <td id=\"T_4964f_row109_col0\" class=\"data row109 col0\" >2025-02-26 07:43:00</td>\n",
       "      <td id=\"T_4964f_row109_col1\" class=\"data row109 col1\" >JNJ</td>\n",
       "      <td id=\"T_4964f_row109_col2\" class=\"data row109 col2\" >Medical Device Network</td>\n",
       "      <td id=\"T_4964f_row109_col3\" class=\"data row109 col3\" >30 days ago</td>\n",
       "      <td id=\"T_4964f_row109_col4\" class=\"data row109 col4\" >J&J’s potential neurovascular exit: implications for market dynamics</td>\n",
       "      <td id=\"T_4964f_row109_col5\" class=\"data row109 col5\" >The neurovascular market, estimated at $4.2bn in 2024 by GlobalData, is becoming increasingly specialised and competitive.</td>\n",
       "      <td id=\"T_4964f_row109_col6\" class=\"data row109 col6\" >4</td>\n",
       "      <td id=\"T_4964f_row109_col7\" class=\"data row109 col7\" >1</td>\n",
       "      <td id=\"T_4964f_row109_col8\" class=\"data row109 col8\" >1</td>\n",
       "      <td id=\"T_4964f_row109_col9\" class=\"data row109 col9\" >5</td>\n",
       "    </tr>\n",
       "    <tr>\n",
       "      <th id=\"T_4964f_level0_row110\" class=\"row_heading level0 row110\" >1705</th>\n",
       "      <td id=\"T_4964f_row110_col0\" class=\"data row110 col0\" >2025-02-28 07:43:00</td>\n",
       "      <td id=\"T_4964f_row110_col1\" class=\"data row110 col1\" >JNJ</td>\n",
       "      <td id=\"T_4964f_row110_col2\" class=\"data row110 col2\" >Zacks</td>\n",
       "      <td id=\"T_4964f_row110_col3\" class=\"data row110 col3\" >last month</td>\n",
       "      <td id=\"T_4964f_row110_col4\" class=\"data row110 col4\" >ITCI Q4 Loss Wider Than Expected, Revenues Top on Higher Caplyta Sales</td>\n",
       "      <td id=\"T_4964f_row110_col5\" class=\"data row110 col5\" >Intra-Cellular reports mixed fourth-quarter 2024 results, wherein earnings miss estimates but revenues beat the same driven by strong Caplyta sales.</td>\n",
       "      <td id=\"T_4964f_row110_col6\" class=\"data row110 col6\" >1</td>\n",
       "      <td id=\"T_4964f_row110_col7\" class=\"data row110 col7\" >1</td>\n",
       "      <td id=\"T_4964f_row110_col8\" class=\"data row110 col8\" >5</td>\n",
       "      <td id=\"T_4964f_row110_col9\" class=\"data row110 col9\" >1</td>\n",
       "    </tr>\n",
       "    <tr>\n",
       "      <th id=\"T_4964f_level0_row111\" class=\"row_heading level0 row111\" >1714</th>\n",
       "      <td id=\"T_4964f_row111_col0\" class=\"data row111 col0\" >2025-02-28 07:43:00</td>\n",
       "      <td id=\"T_4964f_row111_col1\" class=\"data row111 col1\" >JNJ</td>\n",
       "      <td id=\"T_4964f_row111_col2\" class=\"data row111 col2\" >Motley Fool</td>\n",
       "      <td id=\"T_4964f_row111_col3\" class=\"data row111 col3\" >last month</td>\n",
       "      <td id=\"T_4964f_row111_col4\" class=\"data row111 col4\" >Buy This Ultra-Safe High-Yield Dividend King Stock for Reliable Passive Income</td>\n",
       "      <td id=\"T_4964f_row111_col5\" class=\"data row111 col5\" >Kenvue (NYSE: KVUE) stock is down since completing its spin-off from Johnson & Johnson (NYSE: JNJ) in August 2023.  Kenvue is a stable stalwart with a growing dividend.  Here's why the future is bright for Kenvue and why the high-yield dividend stock is worth a closer look for risk-averse investors looking to boost their passive income stream.</td>\n",
       "      <td id=\"T_4964f_row111_col6\" class=\"data row111 col6\" >3</td>\n",
       "      <td id=\"T_4964f_row111_col7\" class=\"data row111 col7\" >5</td>\n",
       "      <td id=\"T_4964f_row111_col8\" class=\"data row111 col8\" >5</td>\n",
       "      <td id=\"T_4964f_row111_col9\" class=\"data row111 col9\" >1</td>\n",
       "    </tr>\n",
       "    <tr>\n",
       "      <th id=\"T_4964f_level0_row112\" class=\"row_heading level0 row112\" >1762</th>\n",
       "      <td id=\"T_4964f_row112_col0\" class=\"data row112 col0\" >2025-02-28 07:43:00</td>\n",
       "      <td id=\"T_4964f_row112_col1\" class=\"data row112 col1\" >JNJ</td>\n",
       "      <td id=\"T_4964f_row112_col2\" class=\"data row112 col2\" >Insider Monkey</td>\n",
       "      <td id=\"T_4964f_row112_col3\" class=\"data row112 col3\" >last month</td>\n",
       "      <td id=\"T_4964f_row112_col4\" class=\"data row112 col4\" >Why Johnson & Johnson (JNJ) Is Among the Best Long Term Low Risk Stocks to Buy Now</td>\n",
       "      <td id=\"T_4964f_row112_col5\" class=\"data row112 col5\" >We recently compiled a list of the 12 Best Long Term Low Risk Stocks to Buy Right Now. In this article, we are going to take a look at where Johnson & Johnson (NYSE:JNJ) stands against the other long term low risk stocks. As the DeepSeek craze ignites a sell-off in the tech sector, investors are […]</td>\n",
       "      <td id=\"T_4964f_row112_col6\" class=\"data row112 col6\" >3</td>\n",
       "      <td id=\"T_4964f_row112_col7\" class=\"data row112 col7\" >5</td>\n",
       "      <td id=\"T_4964f_row112_col8\" class=\"data row112 col8\" >3</td>\n",
       "      <td id=\"T_4964f_row112_col9\" class=\"data row112 col9\" >1</td>\n",
       "    </tr>\n",
       "    <tr>\n",
       "      <th id=\"T_4964f_level0_row113\" class=\"row_heading level0 row113\" >1771</th>\n",
       "      <td id=\"T_4964f_row113_col0\" class=\"data row113 col0\" >2025-02-28 07:43:00</td>\n",
       "      <td id=\"T_4964f_row113_col1\" class=\"data row113 col1\" >JNJ</td>\n",
       "      <td id=\"T_4964f_row113_col2\" class=\"data row113 col2\" >MedTech Dive</td>\n",
       "      <td id=\"T_4964f_row113_col3\" class=\"data row113 col3\" >last month</td>\n",
       "      <td id=\"T_4964f_row113_col4\" class=\"data row113 col4\" >4 robotic surgery trends to watch in 2025</td>\n",
       "      <td id=\"T_4964f_row113_col5\" class=\"data row113 col5\" >Intuitive Surgical will face competition this year from Medtronic and smaller companies like CMR Surgical and Moon Surgical coming to the U.S. market with robotic surgery systems.</td>\n",
       "      <td id=\"T_4964f_row113_col6\" class=\"data row113 col6\" >3</td>\n",
       "      <td id=\"T_4964f_row113_col7\" class=\"data row113 col7\" >1</td>\n",
       "      <td id=\"T_4964f_row113_col8\" class=\"data row113 col8\" >2</td>\n",
       "      <td id=\"T_4964f_row113_col9\" class=\"data row113 col9\" >5</td>\n",
       "    </tr>\n",
       "    <tr>\n",
       "      <th id=\"T_4964f_level0_row114\" class=\"row_heading level0 row114\" >1774</th>\n",
       "      <td id=\"T_4964f_row114_col0\" class=\"data row114 col0\" >2025-02-28 07:43:00</td>\n",
       "      <td id=\"T_4964f_row114_col1\" class=\"data row114 col1\" >JNJ</td>\n",
       "      <td id=\"T_4964f_row114_col2\" class=\"data row114 col2\" >Insider Monkey</td>\n",
       "      <td id=\"T_4964f_row114_col3\" class=\"data row114 col3\" >last month</td>\n",
       "      <td id=\"T_4964f_row114_col4\" class=\"data row114 col4\" >Why Johnson & Johnson (JNJ) Surged on Monday</td>\n",
       "      <td id=\"T_4964f_row114_col5\" class=\"data row114 col5\" >We recently compiled a list of the 10 Firms Post Impressive Gains on Monday. In this article, we are going to take a look at where Johnson & Johnson (NYSE:JNJ) stands against the other stocks. Wall Street ended the first trading day of the week on a mixed note, with the Dow Jones the sole gainer, […]</td>\n",
       "      <td id=\"T_4964f_row114_col6\" class=\"data row114 col6\" >1</td>\n",
       "      <td id=\"T_4964f_row114_col7\" class=\"data row114 col7\" >5</td>\n",
       "      <td id=\"T_4964f_row114_col8\" class=\"data row114 col8\" >3</td>\n",
       "      <td id=\"T_4964f_row114_col9\" class=\"data row114 col9\" >1</td>\n",
       "    </tr>\n",
       "    <tr>\n",
       "      <th id=\"T_4964f_level0_row115\" class=\"row_heading level0 row115\" >1833</th>\n",
       "      <td id=\"T_4964f_row115_col0\" class=\"data row115 col0\" >2025-03-13 07:44:00</td>\n",
       "      <td id=\"T_4964f_row115_col1\" class=\"data row115 col1\" >V</td>\n",
       "      <td id=\"T_4964f_row115_col2\" class=\"data row115 col2\" >Zacks</td>\n",
       "      <td id=\"T_4964f_row115_col3\" class=\"data row115 col3\" >15 days ago</td>\n",
       "      <td id=\"T_4964f_row115_col4\" class=\"data row115 col4\" >5 Financial Transaction Stocks in Focus Despite High Tech Expenses</td>\n",
       "      <td id=\"T_4964f_row115_col5\" class=\"data row115 col5\" >The Financial Transaction Services industry gains from strong cross-border volumes and active M&A endeavors. However, elevated technology expenses and inflationary pressures remain concerns. Companies like V, MA, FI, FIS and WU are likely to navigate industry storms.</td>\n",
       "      <td id=\"T_4964f_row115_col6\" class=\"data row115 col6\" >5</td>\n",
       "      <td id=\"T_4964f_row115_col7\" class=\"data row115 col7\" >5</td>\n",
       "      <td id=\"T_4964f_row115_col8\" class=\"data row115 col8\" >1</td>\n",
       "      <td id=\"T_4964f_row115_col9\" class=\"data row115 col9\" >5</td>\n",
       "    </tr>\n",
       "    <tr>\n",
       "      <th id=\"T_4964f_level0_row116\" class=\"row_heading level0 row116\" >1852</th>\n",
       "      <td id=\"T_4964f_row116_col0\" class=\"data row116 col0\" >2025-03-05 07:44:00</td>\n",
       "      <td id=\"T_4964f_row116_col1\" class=\"data row116 col1\" >V</td>\n",
       "      <td id=\"T_4964f_row116_col2\" class=\"data row116 col2\" >Zacks</td>\n",
       "      <td id=\"T_4964f_row116_col3\" class=\"data row116 col3\" >23 days ago</td>\n",
       "      <td id=\"T_4964f_row116_col4\" class=\"data row116 col4\" >Bitcoin Price Retreats on Trade War Fears: 4 Stocks to Buy the Dip</td>\n",
       "      <td id=\"T_4964f_row116_col5\" class=\"data row116 col5\" >Crypto-centric stocks like NVDA, IBKR, V and HOOR are poised to gain once the Bitcoin rally resumes.</td>\n",
       "      <td id=\"T_4964f_row116_col6\" class=\"data row116 col6\" >1</td>\n",
       "      <td id=\"T_4964f_row116_col7\" class=\"data row116 col7\" >5</td>\n",
       "      <td id=\"T_4964f_row116_col8\" class=\"data row116 col8\" >5</td>\n",
       "      <td id=\"T_4964f_row116_col9\" class=\"data row116 col9\" >1</td>\n",
       "    </tr>\n",
       "    <tr>\n",
       "      <th id=\"T_4964f_level0_row117\" class=\"row_heading level0 row117\" >1883</th>\n",
       "      <td id=\"T_4964f_row117_col0\" class=\"data row117 col0\" >2025-02-28 07:44:00</td>\n",
       "      <td id=\"T_4964f_row117_col1\" class=\"data row117 col1\" >V</td>\n",
       "      <td id=\"T_4964f_row117_col2\" class=\"data row117 col2\" >Insider Monkey</td>\n",
       "      <td id=\"T_4964f_row117_col3\" class=\"data row117 col3\" >last month</td>\n",
       "      <td id=\"T_4964f_row117_col4\" class=\"data row117 col4\" >Visa’s (V) EPS Increased 15% in Q4</td>\n",
       "      <td id=\"T_4964f_row117_col5\" class=\"data row117 col5\" >Bretton Capital Management, an investment management company, released “Bretton Fund” fourth quarter 2024 investor letter. A copy of the letter can be downloaded here. The market is experiencing a period of high returns, with two consecutive years of around 25% returns and 15 years of mid-teens returns, prompting investors to be cautious. The average stock […]</td>\n",
       "      <td id=\"T_4964f_row117_col6\" class=\"data row117 col6\" >5</td>\n",
       "      <td id=\"T_4964f_row117_col7\" class=\"data row117 col7\" >1</td>\n",
       "      <td id=\"T_4964f_row117_col8\" class=\"data row117 col8\" >3</td>\n",
       "      <td id=\"T_4964f_row117_col9\" class=\"data row117 col9\" >5</td>\n",
       "    </tr>\n",
       "    <tr>\n",
       "      <th id=\"T_4964f_level0_row118\" class=\"row_heading level0 row118\" >1890</th>\n",
       "      <td id=\"T_4964f_row118_col0\" class=\"data row118 col0\" >2025-02-28 07:44:00</td>\n",
       "      <td id=\"T_4964f_row118_col1\" class=\"data row118 col1\" >V</td>\n",
       "      <td id=\"T_4964f_row118_col2\" class=\"data row118 col2\" >Zacks</td>\n",
       "      <td id=\"T_4964f_row118_col3\" class=\"data row118 col3\" >last month</td>\n",
       "      <td id=\"T_4964f_row118_col4\" class=\"data row118 col4\" >Global Payments Q4 Earnings Miss on Higher Cost of Service</td>\n",
       "      <td id=\"T_4964f_row118_col5\" class=\"data row118 col5\" >GPN expects adjusted net revenue growth on a constant currency basis between 5% and 6% in 2025.</td>\n",
       "      <td id=\"T_4964f_row118_col6\" class=\"data row118 col6\" >5</td>\n",
       "      <td id=\"T_4964f_row118_col7\" class=\"data row118 col7\" >1</td>\n",
       "      <td id=\"T_4964f_row118_col8\" class=\"data row118 col8\" >1</td>\n",
       "      <td id=\"T_4964f_row118_col9\" class=\"data row118 col9\" >5</td>\n",
       "    </tr>\n",
       "    <tr>\n",
       "      <th id=\"T_4964f_level0_row119\" class=\"row_heading level0 row119\" >1891</th>\n",
       "      <td id=\"T_4964f_row119_col0\" class=\"data row119 col0\" >2025-02-28 07:44:00</td>\n",
       "      <td id=\"T_4964f_row119_col1\" class=\"data row119 col1\" >V</td>\n",
       "      <td id=\"T_4964f_row119_col2\" class=\"data row119 col2\" >The Wall Street Journal</td>\n",
       "      <td id=\"T_4964f_row119_col3\" class=\"data row119 col3\" >last month</td>\n",
       "      <td id=\"T_4964f_row119_col4\" class=\"data row119 col4\" >Commerzbank to Cut Jobs in Bid to Boost Returns and Fend off UniCredit</td>\n",
       "      <td id=\"T_4964f_row119_col5\" class=\"data row119 col5\" >The lender plans to lay off around 9% of its workforce to boost returns and convince investors of its standalone prospects.</td>\n",
       "      <td id=\"T_4964f_row119_col6\" class=\"data row119 col6\" >1</td>\n",
       "      <td id=\"T_4964f_row119_col7\" class=\"data row119 col7\" >5</td>\n",
       "      <td id=\"T_4964f_row119_col8\" class=\"data row119 col8\" >4</td>\n",
       "      <td id=\"T_4964f_row119_col9\" class=\"data row119 col9\" >1</td>\n",
       "    </tr>\n",
       "    <tr>\n",
       "      <th id=\"T_4964f_level0_row120\" class=\"row_heading level0 row120\" >1911</th>\n",
       "      <td id=\"T_4964f_row120_col0\" class=\"data row120 col0\" >2025-02-28 07:44:00</td>\n",
       "      <td id=\"T_4964f_row120_col1\" class=\"data row120 col1\" >V</td>\n",
       "      <td id=\"T_4964f_row120_col2\" class=\"data row120 col2\" >Simply Wall St.</td>\n",
       "      <td id=\"T_4964f_row120_col3\" class=\"data row120 col3\" >last month</td>\n",
       "      <td id=\"T_4964f_row120_col4\" class=\"data row120 col4\" >Visa's (NYSE:V) five-year earnings growth trails the 12% YoY shareholder returns</td>\n",
       "      <td id=\"T_4964f_row120_col5\" class=\"data row120 col5\" >When you buy and hold a stock for the long term, you definitely want it to provide a positive return. Furthermore...</td>\n",
       "      <td id=\"T_4964f_row120_col6\" class=\"data row120 col6\" >5</td>\n",
       "      <td id=\"T_4964f_row120_col7\" class=\"data row120 col7\" >1</td>\n",
       "      <td id=\"T_4964f_row120_col8\" class=\"data row120 col8\" >5</td>\n",
       "      <td id=\"T_4964f_row120_col9\" class=\"data row120 col9\" >5</td>\n",
       "    </tr>\n",
       "    <tr>\n",
       "      <th id=\"T_4964f_level0_row121\" class=\"row_heading level0 row121\" >1948</th>\n",
       "      <td id=\"T_4964f_row121_col0\" class=\"data row121 col0\" >2025-02-28 07:44:00</td>\n",
       "      <td id=\"T_4964f_row121_col1\" class=\"data row121 col1\" >V</td>\n",
       "      <td id=\"T_4964f_row121_col2\" class=\"data row121 col2\" >The Wall Street Journal</td>\n",
       "      <td id=\"T_4964f_row121_col3\" class=\"data row121 col3\" >last month</td>\n",
       "      <td id=\"T_4964f_row121_col4\" class=\"data row121 col4\" >ServiceNow Forecasts Slightly Slower Growth After Revenue Jumps</td>\n",
       "      <td id=\"T_4964f_row121_col5\" class=\"data row121 col5\" >ServiceNow forecast slightly slower growth ahead, even as executives noted that the shakeup caused by artificial intelligence offers significant upside to the cloud-based software company.</td>\n",
       "      <td id=\"T_4964f_row121_col6\" class=\"data row121 col6\" >1</td>\n",
       "      <td id=\"T_4964f_row121_col7\" class=\"data row121 col7\" >5</td>\n",
       "      <td id=\"T_4964f_row121_col8\" class=\"data row121 col8\" >1</td>\n",
       "      <td id=\"T_4964f_row121_col9\" class=\"data row121 col9\" >1</td>\n",
       "    </tr>\n",
       "    <tr>\n",
       "      <th id=\"T_4964f_level0_row122\" class=\"row_heading level0 row122\" >1970</th>\n",
       "      <td id=\"T_4964f_row122_col0\" class=\"data row122 col0\" >2025-02-28 07:44:00</td>\n",
       "      <td id=\"T_4964f_row122_col1\" class=\"data row122 col1\" >V</td>\n",
       "      <td id=\"T_4964f_row122_col2\" class=\"data row122 col2\" >Motley Fool</td>\n",
       "      <td id=\"T_4964f_row122_col3\" class=\"data row122 col3\" >last month</td>\n",
       "      <td id=\"T_4964f_row122_col4\" class=\"data row122 col4\" >Prediction: 3 Stocks That'll Be Worth More Than Berkshire Hathaway 5 Years From Now</td>\n",
       "      <td id=\"T_4964f_row122_col5\" class=\"data row122 col5\" >Even when it's performing well, Berkshire Hathaway can't outpace the market's very best growth prospects.</td>\n",
       "      <td id=\"T_4964f_row122_col6\" class=\"data row122 col6\" >4</td>\n",
       "      <td id=\"T_4964f_row122_col7\" class=\"data row122 col7\" >5</td>\n",
       "      <td id=\"T_4964f_row122_col8\" class=\"data row122 col8\" >2</td>\n",
       "      <td id=\"T_4964f_row122_col9\" class=\"data row122 col9\" >1</td>\n",
       "    </tr>\n",
       "    <tr>\n",
       "      <th id=\"T_4964f_level0_row123\" class=\"row_heading level0 row123\" >1975</th>\n",
       "      <td id=\"T_4964f_row123_col0\" class=\"data row123 col0\" >2025-01-28 07:44:00</td>\n",
       "      <td id=\"T_4964f_row123_col1\" class=\"data row123 col1\" >V</td>\n",
       "      <td id=\"T_4964f_row123_col2\" class=\"data row123 col2\" >Motley Fool</td>\n",
       "      <td id=\"T_4964f_row123_col3\" class=\"data row123 col3\" >2 months ago</td>\n",
       "      <td id=\"T_4964f_row123_col4\" class=\"data row123 col4\" >Should You Buy Visa Stock While It's Below $378?</td>\n",
       "      <td id=\"T_4964f_row123_col5\" class=\"data row123 col5\" >Wall Street's bulls expect the card processor's stock to head even higher.</td>\n",
       "      <td id=\"T_4964f_row123_col6\" class=\"data row123 col6\" >5</td>\n",
       "      <td id=\"T_4964f_row123_col7\" class=\"data row123 col7\" >5</td>\n",
       "      <td id=\"T_4964f_row123_col8\" class=\"data row123 col8\" >1</td>\n",
       "      <td id=\"T_4964f_row123_col9\" class=\"data row123 col9\" >5</td>\n",
       "    </tr>\n",
       "    <tr>\n",
       "      <th id=\"T_4964f_level0_row124\" class=\"row_heading level0 row124\" >1997</th>\n",
       "      <td id=\"T_4964f_row124_col0\" class=\"data row124 col0\" >2025-03-27 07:44:00</td>\n",
       "      <td id=\"T_4964f_row124_col1\" class=\"data row124 col1\" >XOM</td>\n",
       "      <td id=\"T_4964f_row124_col2\" class=\"data row124 col2\" >Insider Monkey</td>\n",
       "      <td id=\"T_4964f_row124_col3\" class=\"data row124 col3\" >yesterday</td>\n",
       "      <td id=\"T_4964f_row124_col4\" class=\"data row124 col4\" >Is Exxon Mobil Corporation (XOM) the Best Consistent Dividend Stock to Buy?</td>\n",
       "      <td id=\"T_4964f_row124_col5\" class=\"data row124 col5\" >We recently published a list of 12 Best Consistent Dividend Stocks to Buy. In this article, we are going to take a look at where Exxon Mobil Corporation (NYSE:XOM) stands against other best consistent dividend stocks to buy. Over the past two years, persistently high inflation has led to increased borrowing costs, creating a difficult […]</td>\n",
       "      <td id=\"T_4964f_row124_col6\" class=\"data row124 col6\" >1</td>\n",
       "      <td id=\"T_4964f_row124_col7\" class=\"data row124 col7\" >5</td>\n",
       "      <td id=\"T_4964f_row124_col8\" class=\"data row124 col8\" >1</td>\n",
       "      <td id=\"T_4964f_row124_col9\" class=\"data row124 col9\" >1</td>\n",
       "    </tr>\n",
       "    <tr>\n",
       "      <th id=\"T_4964f_level0_row125\" class=\"row_heading level0 row125\" >2016</th>\n",
       "      <td id=\"T_4964f_row125_col0\" class=\"data row125 col0\" >2025-03-22 07:44:00</td>\n",
       "      <td id=\"T_4964f_row125_col1\" class=\"data row125 col1\" >XOM</td>\n",
       "      <td id=\"T_4964f_row125_col2\" class=\"data row125 col2\" >Zacks</td>\n",
       "      <td id=\"T_4964f_row125_col3\" class=\"data row125 col3\" >6 days ago</td>\n",
       "      <td id=\"T_4964f_row125_col4\" class=\"data row125 col4\" >Here's Why Retain Strategy is Apt for Valero Energy Stock Now</td>\n",
       "      <td id=\"T_4964f_row125_col5\" class=\"data row125 col5\" >VLO's premium refining operations are resilient. However, its renewable diesel business faces some uncertainty due to changes in government incentives.</td>\n",
       "      <td id=\"T_4964f_row125_col6\" class=\"data row125 col6\" >5</td>\n",
       "      <td id=\"T_4964f_row125_col7\" class=\"data row125 col7\" >1</td>\n",
       "      <td id=\"T_4964f_row125_col8\" class=\"data row125 col8\" >1</td>\n",
       "      <td id=\"T_4964f_row125_col9\" class=\"data row125 col9\" >4</td>\n",
       "    </tr>\n",
       "    <tr>\n",
       "      <th id=\"T_4964f_level0_row126\" class=\"row_heading level0 row126\" >2025</th>\n",
       "      <td id=\"T_4964f_row126_col0\" class=\"data row126 col0\" >2025-03-21 07:44:00</td>\n",
       "      <td id=\"T_4964f_row126_col1\" class=\"data row126 col1\" >XOM</td>\n",
       "      <td id=\"T_4964f_row126_col2\" class=\"data row126 col2\" >Yahoo Finance Video</td>\n",
       "      <td id=\"T_4964f_row126_col3\" class=\"data row126 col3\" >7 days ago</td>\n",
       "      <td id=\"T_4964f_row126_col4\" class=\"data row126 col4\" >'Drill, baby, drill is not going to happen.' Here's why.</td>\n",
       "      <td id=\"T_4964f_row126_col5\" class=\"data row126 col5\" >The energy sector (^GSPE) has outperformed the broader market (^GSPC) year to date from optimism around US President Donald Trump's second term. University of Houston energy fellow Ed Hirs tells Brad Smith and Madison Mills that Trump's 'drill, baby, drill' rhetoric is not only unlikely to come to fruition but would also likely be harmful to the US oil industry if it did. To watch more expert insights and analysis on the latest market action, check out more Morning Brief here.</td>\n",
       "      <td id=\"T_4964f_row126_col6\" class=\"data row126 col6\" >3</td>\n",
       "      <td id=\"T_4964f_row126_col7\" class=\"data row126 col7\" >5</td>\n",
       "      <td id=\"T_4964f_row126_col8\" class=\"data row126 col8\" >3</td>\n",
       "      <td id=\"T_4964f_row126_col9\" class=\"data row126 col9\" >1</td>\n",
       "    </tr>\n",
       "    <tr>\n",
       "      <th id=\"T_4964f_level0_row127\" class=\"row_heading level0 row127\" >2035</th>\n",
       "      <td id=\"T_4964f_row127_col0\" class=\"data row127 col0\" >2025-03-18 07:44:00</td>\n",
       "      <td id=\"T_4964f_row127_col1\" class=\"data row127 col1\" >XOM</td>\n",
       "      <td id=\"T_4964f_row127_col2\" class=\"data row127 col2\" >Offshore Technology</td>\n",
       "      <td id=\"T_4964f_row127_col3\" class=\"data row127 col3\" >10 days ago</td>\n",
       "      <td id=\"T_4964f_row127_col4\" class=\"data row127 col4\" >ExxonMobil Australia, Woodside approve $221m for Turrum phase three gas project</td>\n",
       "      <td id=\"T_4964f_row127_col5\" class=\"data row127 col5\" >Australia's competition regulator has signalled a potential gas supply gap, starting in 2027.</td>\n",
       "      <td id=\"T_4964f_row127_col6\" class=\"data row127 col6\" >1</td>\n",
       "      <td id=\"T_4964f_row127_col7\" class=\"data row127 col7\" >5</td>\n",
       "      <td id=\"T_4964f_row127_col8\" class=\"data row127 col8\" >4</td>\n",
       "      <td id=\"T_4964f_row127_col9\" class=\"data row127 col9\" >1</td>\n",
       "    </tr>\n",
       "    <tr>\n",
       "      <th id=\"T_4964f_level0_row128\" class=\"row_heading level0 row128\" >2066</th>\n",
       "      <td id=\"T_4964f_row128_col0\" class=\"data row128 col0\" >2025-03-11 07:44:00</td>\n",
       "      <td id=\"T_4964f_row128_col1\" class=\"data row128 col1\" >XOM</td>\n",
       "      <td id=\"T_4964f_row128_col2\" class=\"data row128 col2\" >Zacks</td>\n",
       "      <td id=\"T_4964f_row128_col3\" class=\"data row128 col3\" >17 days ago</td>\n",
       "      <td id=\"T_4964f_row128_col4\" class=\"data row128 col4\" >XOM Trades at Premium Valuation: Should You Buy the Integrated Stock?</td>\n",
       "      <td id=\"T_4964f_row128_col5\" class=\"data row128 col5\" >XOM's growth prospects are strong, but a few uncertainties surrounding the stock suggest investors may be better off not buying it at premium valuations.</td>\n",
       "      <td id=\"T_4964f_row128_col6\" class=\"data row128 col6\" >3</td>\n",
       "      <td id=\"T_4964f_row128_col7\" class=\"data row128 col7\" >5</td>\n",
       "      <td id=\"T_4964f_row128_col8\" class=\"data row128 col8\" >1</td>\n",
       "      <td id=\"T_4964f_row128_col9\" class=\"data row128 col9\" >5</td>\n",
       "    </tr>\n",
       "    <tr>\n",
       "      <th id=\"T_4964f_level0_row129\" class=\"row_heading level0 row129\" >2072</th>\n",
       "      <td id=\"T_4964f_row129_col0\" class=\"data row129 col0\" >2025-03-07 07:44:00</td>\n",
       "      <td id=\"T_4964f_row129_col1\" class=\"data row129 col1\" >XOM</td>\n",
       "      <td id=\"T_4964f_row129_col2\" class=\"data row129 col2\" >The Wall Street Journal</td>\n",
       "      <td id=\"T_4964f_row129_col3\" class=\"data row129 col3\" >21 days ago</td>\n",
       "      <td id=\"T_4964f_row129_col4\" class=\"data row129 col4\" >Argentina’s Shale: Time to Drill, Baby, Drill?</td>\n",
       "      <td id=\"T_4964f_row129_col5\" class=\"data row129 col5\" >While pro-business regulation in Argentina is drawing investment to its promising shale basin, drillers might still proceed cautiously.</td>\n",
       "      <td id=\"T_4964f_row129_col6\" class=\"data row129 col6\" >5</td>\n",
       "      <td id=\"T_4964f_row129_col7\" class=\"data row129 col7\" >1</td>\n",
       "      <td id=\"T_4964f_row129_col8\" class=\"data row129 col8\" >1</td>\n",
       "      <td id=\"T_4964f_row129_col9\" class=\"data row129 col9\" >5</td>\n",
       "    </tr>\n",
       "    <tr>\n",
       "      <th id=\"T_4964f_level0_row130\" class=\"row_heading level0 row130\" >2096</th>\n",
       "      <td id=\"T_4964f_row130_col0\" class=\"data row130 col0\" >2025-02-27 07:44:00</td>\n",
       "      <td id=\"T_4964f_row130_col1\" class=\"data row130 col1\" >XOM</td>\n",
       "      <td id=\"T_4964f_row130_col2\" class=\"data row130 col2\" >Yahoo Finance</td>\n",
       "      <td id=\"T_4964f_row130_col3\" class=\"data row130 col3\" >29 days ago</td>\n",
       "      <td id=\"T_4964f_row130_col4\" class=\"data row130 col4\" >BP doubles down on oil and gas, cuts renewable investments in strategy reset</td>\n",
       "      <td id=\"T_4964f_row130_col5\" class=\"data row130 col5\" >BP announces its big \"reset\" on Wednesday, and Wall Street expects a pivot away from renewables and a doubling down on oil and gas.</td>\n",
       "      <td id=\"T_4964f_row130_col6\" class=\"data row130 col6\" >1</td>\n",
       "      <td id=\"T_4964f_row130_col7\" class=\"data row130 col7\" >3</td>\n",
       "      <td id=\"T_4964f_row130_col8\" class=\"data row130 col8\" >5</td>\n",
       "      <td id=\"T_4964f_row130_col9\" class=\"data row130 col9\" >1</td>\n",
       "    </tr>\n",
       "    <tr>\n",
       "      <th id=\"T_4964f_level0_row131\" class=\"row_heading level0 row131\" >2097</th>\n",
       "      <td id=\"T_4964f_row131_col0\" class=\"data row131 col0\" >2025-02-27 07:44:00</td>\n",
       "      <td id=\"T_4964f_row131_col1\" class=\"data row131 col1\" >XOM</td>\n",
       "      <td id=\"T_4964f_row131_col2\" class=\"data row131 col2\" >Barrons.com</td>\n",
       "      <td id=\"T_4964f_row131_col3\" class=\"data row131 col3\" >29 days ago</td>\n",
       "      <td id=\"T_4964f_row131_col4\" class=\"data row131 col4\" >BP Reset Falls Short. Why Bid to Catch Exxon Sent Stock Falling.</td>\n",
       "      <td id=\"T_4964f_row131_col5\" class=\"data row131 col5\" >The oil and gas major promised to increase investment in oil and gas while reducing investment overall.</td>\n",
       "      <td id=\"T_4964f_row131_col6\" class=\"data row131 col6\" >1</td>\n",
       "      <td id=\"T_4964f_row131_col7\" class=\"data row131 col7\" >1</td>\n",
       "      <td id=\"T_4964f_row131_col8\" class=\"data row131 col8\" >5</td>\n",
       "      <td id=\"T_4964f_row131_col9\" class=\"data row131 col9\" >1</td>\n",
       "    </tr>\n",
       "    <tr>\n",
       "      <th id=\"T_4964f_level0_row132\" class=\"row_heading level0 row132\" >2110</th>\n",
       "      <td id=\"T_4964f_row132_col0\" class=\"data row132 col0\" >2025-02-28 07:44:00</td>\n",
       "      <td id=\"T_4964f_row132_col1\" class=\"data row132 col1\" >XOM</td>\n",
       "      <td id=\"T_4964f_row132_col2\" class=\"data row132 col2\" >Yahoo Finance</td>\n",
       "      <td id=\"T_4964f_row132_col3\" class=\"data row132 col3\" >last month</td>\n",
       "      <td id=\"T_4964f_row132_col4\" class=\"data row132 col4\" >Energy stocks outperform so far this year as natural gas prices soar</td>\n",
       "      <td id=\"T_4964f_row132_col5\" class=\"data row132 col5\" >Energy is one of the top performers year to date. The driver is natural gas prices.</td>\n",
       "      <td id=\"T_4964f_row132_col6\" class=\"data row132 col6\" >2</td>\n",
       "      <td id=\"T_4964f_row132_col7\" class=\"data row132 col7\" >5</td>\n",
       "      <td id=\"T_4964f_row132_col8\" class=\"data row132 col8\" >5</td>\n",
       "      <td id=\"T_4964f_row132_col9\" class=\"data row132 col9\" >1</td>\n",
       "    </tr>\n",
       "    <tr>\n",
       "      <th id=\"T_4964f_level0_row133\" class=\"row_heading level0 row133\" >2119</th>\n",
       "      <td id=\"T_4964f_row133_col0\" class=\"data row133 col0\" >2025-02-28 07:44:00</td>\n",
       "      <td id=\"T_4964f_row133_col1\" class=\"data row133 col1\" >XOM</td>\n",
       "      <td id=\"T_4964f_row133_col2\" class=\"data row133 col2\" >Insider Monkey</td>\n",
       "      <td id=\"T_4964f_row133_col3\" class=\"data row133 col3\" >last month</td>\n",
       "      <td id=\"T_4964f_row133_col4\" class=\"data row133 col4\" >Exxon Mobil Corporation (XOM): Among the Cheap High Dividend Stocks to Invest In Now</td>\n",
       "      <td id=\"T_4964f_row133_col5\" class=\"data row133 col5\" >We recently compiled a list of the 13 Cheap High Dividend Stocks To Invest In Now. In this article, we are going to take a look at where Exxon Mobil Corporation (NYSE:XOM) stands against the other cheap high dividend stocks. According to Deutsche Bank Wealth Management, the global economy in 2025 is expected to face some […]</td>\n",
       "      <td id=\"T_4964f_row133_col6\" class=\"data row133 col6\" >3</td>\n",
       "      <td id=\"T_4964f_row133_col7\" class=\"data row133 col7\" >3</td>\n",
       "      <td id=\"T_4964f_row133_col8\" class=\"data row133 col8\" >1</td>\n",
       "      <td id=\"T_4964f_row133_col9\" class=\"data row133 col9\" >5</td>\n",
       "    </tr>\n",
       "    <tr>\n",
       "      <th id=\"T_4964f_level0_row134\" class=\"row_heading level0 row134\" >2135</th>\n",
       "      <td id=\"T_4964f_row134_col0\" class=\"data row134 col0\" >2025-02-28 07:44:00</td>\n",
       "      <td id=\"T_4964f_row134_col1\" class=\"data row134 col1\" >XOM</td>\n",
       "      <td id=\"T_4964f_row134_col2\" class=\"data row134 col2\" >The Wall Street Journal</td>\n",
       "      <td id=\"T_4964f_row134_col3\" class=\"data row134 col3\" >last month</td>\n",
       "      <td id=\"T_4964f_row134_col4\" class=\"data row134 col4\" >SEC Looks to Muzzle Shareholder Culture Warriors</td>\n",
       "      <td id=\"T_4964f_row134_col5\" class=\"data row134 col5\" >The commission, under GOP control, is making it easier for companies to shoot down shareholder proposals on hot-button political issues.</td>\n",
       "      <td id=\"T_4964f_row134_col6\" class=\"data row134 col6\" >2</td>\n",
       "      <td id=\"T_4964f_row134_col7\" class=\"data row134 col7\" >5</td>\n",
       "      <td id=\"T_4964f_row134_col8\" class=\"data row134 col8\" >4</td>\n",
       "      <td id=\"T_4964f_row134_col9\" class=\"data row134 col9\" >1</td>\n",
       "    </tr>\n",
       "    <tr>\n",
       "      <th id=\"T_4964f_level0_row135\" class=\"row_heading level0 row135\" >2137</th>\n",
       "      <td id=\"T_4964f_row135_col0\" class=\"data row135 col0\" >2025-02-28 07:44:00</td>\n",
       "      <td id=\"T_4964f_row135_col1\" class=\"data row135 col1\" >XOM</td>\n",
       "      <td id=\"T_4964f_row135_col2\" class=\"data row135 col2\" >Barrons.com</td>\n",
       "      <td id=\"T_4964f_row135_col3\" class=\"data row135 col3\" >last month</td>\n",
       "      <td id=\"T_4964f_row135_col4\" class=\"data row135 col4\" >Chevron to Lay Off Up to 20% of Workers. Why the Oil Industry Is Slimming Down.</td>\n",
       "      <td id=\"T_4964f_row135_col5\" class=\"data row135 col5\" >The company’s move is “positioning us to accelerate” cash-generation, its vice chairman tells Barron’s.</td>\n",
       "      <td id=\"T_4964f_row135_col6\" class=\"data row135 col6\" >1</td>\n",
       "      <td id=\"T_4964f_row135_col7\" class=\"data row135 col7\" >5</td>\n",
       "      <td id=\"T_4964f_row135_col8\" class=\"data row135 col8\" >5</td>\n",
       "      <td id=\"T_4964f_row135_col9\" class=\"data row135 col9\" >1</td>\n",
       "    </tr>\n",
       "    <tr>\n",
       "      <th id=\"T_4964f_level0_row136\" class=\"row_heading level0 row136\" >2157</th>\n",
       "      <td id=\"T_4964f_row136_col0\" class=\"data row136 col0\" >2025-02-28 07:44:00</td>\n",
       "      <td id=\"T_4964f_row136_col1\" class=\"data row136 col1\" >XOM</td>\n",
       "      <td id=\"T_4964f_row136_col2\" class=\"data row136 col2\" >Simply Wall St.</td>\n",
       "      <td id=\"T_4964f_row136_col3\" class=\"data row136 col3\" >last month</td>\n",
       "      <td id=\"T_4964f_row136_col4\" class=\"data row136 col4\" >Could The Market Be Wrong About Exxon Mobil Corporation (NYSE:XOM) Given Its Attractive Financial Prospects?</td>\n",
       "      <td id=\"T_4964f_row136_col5\" class=\"data row136 col5\" >Exxon Mobil (NYSE:XOM) has had a rough three months with its share price down 9.3%. However, stock prices are usually...</td>\n",
       "      <td id=\"T_4964f_row136_col6\" class=\"data row136 col6\" >1</td>\n",
       "      <td id=\"T_4964f_row136_col7\" class=\"data row136 col7\" >5</td>\n",
       "      <td id=\"T_4964f_row136_col8\" class=\"data row136 col8\" >3</td>\n",
       "      <td id=\"T_4964f_row136_col9\" class=\"data row136 col9\" >1</td>\n",
       "    </tr>\n",
       "    <tr>\n",
       "      <th id=\"T_4964f_level0_row137\" class=\"row_heading level0 row137\" >2184</th>\n",
       "      <td id=\"T_4964f_row137_col0\" class=\"data row137 col0\" >2025-02-28 07:44:00</td>\n",
       "      <td id=\"T_4964f_row137_col1\" class=\"data row137 col1\" >XOM</td>\n",
       "      <td id=\"T_4964f_row137_col2\" class=\"data row137 col2\" >Barrons.com</td>\n",
       "      <td id=\"T_4964f_row137_col3\" class=\"data row137 col3\" >last month</td>\n",
       "      <td id=\"T_4964f_row137_col4\" class=\"data row137 col4\" >These Stocks Moved the Most Today: Apple, Intel, Chevron, Exxon, Walgreens, AbbVie, Deckers, Atlassian, Vertex, and More</td>\n",
       "      <td id=\"T_4964f_row137_col5\" class=\"data row137 col5\" >Apple stock rises after the tech giant posts better-than-expected earnings and guides for solid growth, Intel edges higher after revenue projections miss analysts’ estimates, and Chevron posts adjusted earnings below expectations.</td>\n",
       "      <td id=\"T_4964f_row137_col6\" class=\"data row137 col6\" >5</td>\n",
       "      <td id=\"T_4964f_row137_col7\" class=\"data row137 col7\" >1</td>\n",
       "      <td id=\"T_4964f_row137_col8\" class=\"data row137 col8\" >1</td>\n",
       "      <td id=\"T_4964f_row137_col9\" class=\"data row137 col9\" >4</td>\n",
       "    </tr>\n",
       "    <tr>\n",
       "      <th id=\"T_4964f_level0_row138\" class=\"row_heading level0 row138\" >2197</th>\n",
       "      <td id=\"T_4964f_row138_col0\" class=\"data row138 col0\" >2025-03-26 07:44:00</td>\n",
       "      <td id=\"T_4964f_row138_col1\" class=\"data row138 col1\" >UNH</td>\n",
       "      <td id=\"T_4964f_row138_col2\" class=\"data row138 col2\" >StockStory</td>\n",
       "      <td id=\"T_4964f_row138_col3\" class=\"data row138 col3\" >2 days ago</td>\n",
       "      <td id=\"T_4964f_row138_col4\" class=\"data row138 col4\" >Q4 Earnings Highlights: Cencora (NYSE:COR) Vs The Rest Of The Health Insurance Providers Stocks</td>\n",
       "      <td id=\"T_4964f_row138_col5\" class=\"data row138 col5\" >As the Q4 earnings season wraps, let’s dig into this quarter’s best and worst performers in the health insurance providers industry, including Cencora (NYSE:COR) and its peers.</td>\n",
       "      <td id=\"T_4964f_row138_col6\" class=\"data row138 col6\" >1</td>\n",
       "      <td id=\"T_4964f_row138_col7\" class=\"data row138 col7\" >5</td>\n",
       "      <td id=\"T_4964f_row138_col8\" class=\"data row138 col8\" >5</td>\n",
       "      <td id=\"T_4964f_row138_col9\" class=\"data row138 col9\" >1</td>\n",
       "    </tr>\n",
       "    <tr>\n",
       "      <th id=\"T_4964f_level0_row139\" class=\"row_heading level0 row139\" >2218</th>\n",
       "      <td id=\"T_4964f_row139_col0\" class=\"data row139 col0\" >2025-03-18 07:44:00</td>\n",
       "      <td id=\"T_4964f_row139_col1\" class=\"data row139 col1\" >UNH</td>\n",
       "      <td id=\"T_4964f_row139_col2\" class=\"data row139 col2\" >Insider Monkey</td>\n",
       "      <td id=\"T_4964f_row139_col3\" class=\"data row139 col3\" >10 days ago</td>\n",
       "      <td id=\"T_4964f_row139_col4\" class=\"data row139 col4\" >Is UnitedHealth Group Incorporated (UNH) the Best Strong Buy Stock to Buy Right Now?</td>\n",
       "      <td id=\"T_4964f_row139_col5\" class=\"data row139 col5\" >We recently published a list of the 10 Best Strong Buy Stocks To Buy Right Now. In this article, we are going to take a look at where UnitedHealth Group Incorporated (NYSE:UNH) stands against the other best strong buy stocks to buy right now. Fears of a slowing economy have hit stocks recently, along with […]</td>\n",
       "      <td id=\"T_4964f_row139_col6\" class=\"data row139 col6\" >2</td>\n",
       "      <td id=\"T_4964f_row139_col7\" class=\"data row139 col7\" >5</td>\n",
       "      <td id=\"T_4964f_row139_col8\" class=\"data row139 col8\" >1</td>\n",
       "      <td id=\"T_4964f_row139_col9\" class=\"data row139 col9\" >1</td>\n",
       "    </tr>\n",
       "    <tr>\n",
       "      <th id=\"T_4964f_level0_row140\" class=\"row_heading level0 row140\" >2227</th>\n",
       "      <td id=\"T_4964f_row140_col0\" class=\"data row140 col0\" >2025-03-11 07:44:00</td>\n",
       "      <td id=\"T_4964f_row140_col1\" class=\"data row140 col1\" >UNH</td>\n",
       "      <td id=\"T_4964f_row140_col2\" class=\"data row140 col2\" >Insider Monkey</td>\n",
       "      <td id=\"T_4964f_row140_col3\" class=\"data row140 col3\" >17 days ago</td>\n",
       "      <td id=\"T_4964f_row140_col4\" class=\"data row140 col4\" >UnitedHealth Group (UNH) Fell After Reporting Mixed Operating Metrics</td>\n",
       "      <td id=\"T_4964f_row140_col5\" class=\"data row140 col5\" >RiverPark Advisors, an investment advisory firm and sponsor of the RiverPark family of mutual funds, released its “RiverPark Large Growth Fund” fourth quarter 2024 investor letter. A copy of the letter can be downloaded here. During the fourth quarter, the markets continued its strong rally with the Russell 1000 Growth Index (RLG) and the S&P 500 […]</td>\n",
       "      <td id=\"T_4964f_row140_col6\" class=\"data row140 col6\" >1</td>\n",
       "      <td id=\"T_4964f_row140_col7\" class=\"data row140 col7\" >5</td>\n",
       "      <td id=\"T_4964f_row140_col8\" class=\"data row140 col8\" >5</td>\n",
       "      <td id=\"T_4964f_row140_col9\" class=\"data row140 col9\" >1</td>\n",
       "    </tr>\n",
       "    <tr>\n",
       "      <th id=\"T_4964f_level0_row141\" class=\"row_heading level0 row141\" >2239</th>\n",
       "      <td id=\"T_4964f_row141_col0\" class=\"data row141 col0\" >2025-03-06 07:44:00</td>\n",
       "      <td id=\"T_4964f_row141_col1\" class=\"data row141 col1\" >UNH</td>\n",
       "      <td id=\"T_4964f_row141_col2\" class=\"data row141 col2\" >StockStory</td>\n",
       "      <td id=\"T_4964f_row141_col3\" class=\"data row141 col3\" >22 days ago</td>\n",
       "      <td id=\"T_4964f_row141_col4\" class=\"data row141 col4\" >Health Insurance Providers Stocks Q4 Highlights: Molina Healthcare (NYSE:MOH)</td>\n",
       "      <td id=\"T_4964f_row141_col5\" class=\"data row141 col5\" >As the Q4 earnings season comes to a close, it’s time to take stock of this quarter’s best and worst performers in the health insurance providers industry, including Molina Healthcare (NYSE:MOH) and its peers.</td>\n",
       "      <td id=\"T_4964f_row141_col6\" class=\"data row141 col6\" >3</td>\n",
       "      <td id=\"T_4964f_row141_col7\" class=\"data row141 col7\" >5</td>\n",
       "      <td id=\"T_4964f_row141_col8\" class=\"data row141 col8\" >4</td>\n",
       "      <td id=\"T_4964f_row141_col9\" class=\"data row141 col9\" >1</td>\n",
       "    </tr>\n",
       "    <tr>\n",
       "      <th id=\"T_4964f_level0_row142\" class=\"row_heading level0 row142\" >2240</th>\n",
       "      <td id=\"T_4964f_row142_col0\" class=\"data row142 col0\" >2025-03-06 07:44:00</td>\n",
       "      <td id=\"T_4964f_row142_col1\" class=\"data row142 col1\" >UNH</td>\n",
       "      <td id=\"T_4964f_row142_col2\" class=\"data row142 col2\" >The Telegraph</td>\n",
       "      <td id=\"T_4964f_row142_col3\" class=\"data row142 col3\" >22 days ago</td>\n",
       "      <td id=\"T_4964f_row142_col4\" class=\"data row142 col4\" >Nervous bosses to use Tasers for protection after UnitedHealthcare assassination</td>\n",
       "      <td id=\"T_4964f_row142_col5\" class=\"data row142 col5\" >The company that makes Tasers is poised to roll out a “covert” weapon to satisfy a surge in demand from nervous chief executives after the head of America’s biggest health insurer was shot dead in New York.</td>\n",
       "      <td id=\"T_4964f_row142_col6\" class=\"data row142 col6\" >1</td>\n",
       "      <td id=\"T_4964f_row142_col7\" class=\"data row142 col7\" >5</td>\n",
       "      <td id=\"T_4964f_row142_col8\" class=\"data row142 col8\" >5</td>\n",
       "      <td id=\"T_4964f_row142_col9\" class=\"data row142 col9\" >1</td>\n",
       "    </tr>\n",
       "    <tr>\n",
       "      <th id=\"T_4964f_level0_row143\" class=\"row_heading level0 row143\" >2247</th>\n",
       "      <td id=\"T_4964f_row143_col0\" class=\"data row143 col0\" >2025-03-04 07:44:00</td>\n",
       "      <td id=\"T_4964f_row143_col1\" class=\"data row143 col1\" >UNH</td>\n",
       "      <td id=\"T_4964f_row143_col2\" class=\"data row143 col2\" >Simply Wall St.</td>\n",
       "      <td id=\"T_4964f_row143_col3\" class=\"data row143 col3\" >24 days ago</td>\n",
       "      <td id=\"T_4964f_row143_col4\" class=\"data row143 col4\" >UnitedHealth Group Full Year 2024 Earnings: EPS Misses Expectations</td>\n",
       "      <td id=\"T_4964f_row143_col5\" class=\"data row143 col5\" >UnitedHealth Group ( NYSE:UNH ) Full Year 2024 Results Key Financial Results Revenue: US$400.3b (up 7.7% from FY 2023...</td>\n",
       "      <td id=\"T_4964f_row143_col6\" class=\"data row143 col6\" >5</td>\n",
       "      <td id=\"T_4964f_row143_col7\" class=\"data row143 col7\" >1</td>\n",
       "      <td id=\"T_4964f_row143_col8\" class=\"data row143 col8\" >2</td>\n",
       "      <td id=\"T_4964f_row143_col9\" class=\"data row143 col9\" >5</td>\n",
       "    </tr>\n",
       "    <tr>\n",
       "      <th id=\"T_4964f_level0_row144\" class=\"row_heading level0 row144\" >2255</th>\n",
       "      <td id=\"T_4964f_row144_col0\" class=\"data row144 col0\" >2025-02-27 07:44:00</td>\n",
       "      <td id=\"T_4964f_row144_col1\" class=\"data row144 col1\" >UNH</td>\n",
       "      <td id=\"T_4964f_row144_col2\" class=\"data row144 col2\" >Healthcare Dive</td>\n",
       "      <td id=\"T_4964f_row144_col3\" class=\"data row144 col3\" >29 days ago</td>\n",
       "      <td id=\"T_4964f_row144_col4\" class=\"data row144 col4\" >Medicare Advantage growth slows as UnitedHealthcare nabs members, Humana sheds lives</td>\n",
       "      <td id=\"T_4964f_row144_col5\" class=\"data row144 col5\" >The CMS released highly anticipated MA enrollment data on Tuesday that showed UnitedHealth further tightening its grip on the privatized Medicare market.</td>\n",
       "      <td id=\"T_4964f_row144_col6\" class=\"data row144 col6\" >1</td>\n",
       "      <td id=\"T_4964f_row144_col7\" class=\"data row144 col7\" >1</td>\n",
       "      <td id=\"T_4964f_row144_col8\" class=\"data row144 col8\" >5</td>\n",
       "      <td id=\"T_4964f_row144_col9\" class=\"data row144 col9\" >1</td>\n",
       "    </tr>\n",
       "    <tr>\n",
       "      <th id=\"T_4964f_level0_row145\" class=\"row_heading level0 row145\" >2260</th>\n",
       "      <td id=\"T_4964f_row145_col0\" class=\"data row145 col0\" >2025-02-26 07:44:00</td>\n",
       "      <td id=\"T_4964f_row145_col1\" class=\"data row145 col1\" >UNH</td>\n",
       "      <td id=\"T_4964f_row145_col2\" class=\"data row145 col2\" >Zacks</td>\n",
       "      <td id=\"T_4964f_row145_col3\" class=\"data row145 col3\" >30 days ago</td>\n",
       "      <td id=\"T_4964f_row145_col4\" class=\"data row145 col4\" >Brookdale Incurs Loss in Q4 Due to Higher Costs, Shares Up 6%</td>\n",
       "      <td id=\"T_4964f_row145_col5\" class=\"data row145 col5\" >BKD's Q4 results reflect escalating general and administrative costs, partly offset by improved occupancy rates. It projects 2025 adjusted EBITDA within $430-$445 million.</td>\n",
       "      <td id=\"T_4964f_row145_col6\" class=\"data row145 col6\" >5</td>\n",
       "      <td id=\"T_4964f_row145_col7\" class=\"data row145 col7\" >1</td>\n",
       "      <td id=\"T_4964f_row145_col8\" class=\"data row145 col8\" >4</td>\n",
       "      <td id=\"T_4964f_row145_col9\" class=\"data row145 col9\" >5</td>\n",
       "    </tr>\n",
       "    <tr>\n",
       "      <th id=\"T_4964f_level0_row146\" class=\"row_heading level0 row146\" >2274</th>\n",
       "      <td id=\"T_4964f_row146_col0\" class=\"data row146 col0\" >2025-02-28 07:44:00</td>\n",
       "      <td id=\"T_4964f_row146_col1\" class=\"data row146 col1\" >UNH</td>\n",
       "      <td id=\"T_4964f_row146_col2\" class=\"data row146 col2\" >Yahoo Finance Video</td>\n",
       "      <td id=\"T_4964f_row146_col3\" class=\"data row146 col3\" >last month</td>\n",
       "      <td id=\"T_4964f_row146_col4\" class=\"data row146 col4\" >UnitedHealth slumps, ethereum hack, Booking Holdings: Market Minute</td>\n",
       "      <td id=\"T_4964f_row146_col5\" class=\"data row146 col5\" >On Yahoo Finance's Market Minute, US stocks slide as UnitedHealth’s (UNH) decline and weak consumer sentiment spark a sell-off. Consumer sentiment fell in February, driven by tariff concerns and inflation fears linked to President Trump's trade policies. Meanwhile, ethereum (ETH-USD) drops after a $1.4 billion hack on crypto exchange Bybit.&nbsp; Booking Holdings (BKNG) reported fourth quarter revenue that topped estimates. The company also raised its dividend. Stay up to date on the latest market action, minute-by-minute, with Yahoo Finance's Market Minute. This post was written by Josh Lynch</td>\n",
       "      <td id=\"T_4964f_row146_col6\" class=\"data row146 col6\" >1</td>\n",
       "      <td id=\"T_4964f_row146_col7\" class=\"data row146 col7\" >5</td>\n",
       "      <td id=\"T_4964f_row146_col8\" class=\"data row146 col8\" >5</td>\n",
       "      <td id=\"T_4964f_row146_col9\" class=\"data row146 col9\" >1</td>\n",
       "    </tr>\n",
       "    <tr>\n",
       "      <th id=\"T_4964f_level0_row147\" class=\"row_heading level0 row147\" >2320</th>\n",
       "      <td id=\"T_4964f_row147_col0\" class=\"data row147 col0\" >2025-02-28 07:44:00</td>\n",
       "      <td id=\"T_4964f_row147_col1\" class=\"data row147 col1\" >UNH</td>\n",
       "      <td id=\"T_4964f_row147_col2\" class=\"data row147 col2\" >Insider Monkey</td>\n",
       "      <td id=\"T_4964f_row147_col3\" class=\"data row147 col3\" >last month</td>\n",
       "      <td id=\"T_4964f_row147_col4\" class=\"data row147 col4\" >UnitedHealth Group Incorporated (UNH): The Best Dividend Growth Stock With Over 10% Yearly Increases?</td>\n",
       "      <td id=\"T_4964f_row147_col5\" class=\"data row147 col5\" >We recently compiled a list of the 13 Best Dividend Growth Stocks With 10%+ Yearly Increases. In this article, we are going to take a look at where UnitedHealth Group Incorporated (NYSE:UNH) stands against the other dividend growth stocks. Dividend stocks faced a tough year in 2024 as investor focus largely moved toward technology stocks. The […]</td>\n",
       "      <td id=\"T_4964f_row147_col6\" class=\"data row147 col6\" >3</td>\n",
       "      <td id=\"T_4964f_row147_col7\" class=\"data row147 col7\" >5</td>\n",
       "      <td id=\"T_4964f_row147_col8\" class=\"data row147 col8\" >3</td>\n",
       "      <td id=\"T_4964f_row147_col9\" class=\"data row147 col9\" >1</td>\n",
       "    </tr>\n",
       "    <tr>\n",
       "      <th id=\"T_4964f_level0_row148\" class=\"row_heading level0 row148\" >2330</th>\n",
       "      <td id=\"T_4964f_row148_col0\" class=\"data row148 col0\" >2025-02-28 07:44:00</td>\n",
       "      <td id=\"T_4964f_row148_col1\" class=\"data row148 col1\" >UNH</td>\n",
       "      <td id=\"T_4964f_row148_col2\" class=\"data row148 col2\" >Insider Monkey</td>\n",
       "      <td id=\"T_4964f_row148_col3\" class=\"data row148 col3\" >last month</td>\n",
       "      <td id=\"T_4964f_row148_col4\" class=\"data row148 col4\" >Here’s Why UnitedHealth Group Incorporated (UNH) Slid in Q4</td>\n",
       "      <td id=\"T_4964f_row148_col5\" class=\"data row148 col5\" >Aristotle Atlantic Partners, LLC, an investment advisor, released its “Focus Growth Strategy” fourth quarter 2024 investor letter. A copy of the letter can be downloaded here. The U.S. equity market finished the year strongly, with the S&P 500 Index rising 2.41% in Q4. The Bloomberg U.S. Aggregate Bond Index, on the other hand, fell 3.06% […]</td>\n",
       "      <td id=\"T_4964f_row148_col6\" class=\"data row148 col6\" >1</td>\n",
       "      <td id=\"T_4964f_row148_col7\" class=\"data row148 col7\" >5</td>\n",
       "      <td id=\"T_4964f_row148_col8\" class=\"data row148 col8\" >2</td>\n",
       "      <td id=\"T_4964f_row148_col9\" class=\"data row148 col9\" >1</td>\n",
       "    </tr>\n",
       "    <tr>\n",
       "      <th id=\"T_4964f_level0_row149\" class=\"row_heading level0 row149\" >2338</th>\n",
       "      <td id=\"T_4964f_row149_col0\" class=\"data row149 col0\" >2025-02-28 07:44:00</td>\n",
       "      <td id=\"T_4964f_row149_col1\" class=\"data row149 col1\" >UNH</td>\n",
       "      <td id=\"T_4964f_row149_col2\" class=\"data row149 col2\" >StockStory</td>\n",
       "      <td id=\"T_4964f_row149_col3\" class=\"data row149 col3\" >last month</td>\n",
       "      <td id=\"T_4964f_row149_col4\" class=\"data row149 col4\" >UnitedHealth (NYSE:UNH) Misses Q4 Revenue Estimates</td>\n",
       "      <td id=\"T_4964f_row149_col5\" class=\"data row149 col5\" >Health insurance company UnitedHealth (NYSE:UNH) missed Wall Street’s revenue expectations in Q4 CY2024, but sales rose 6.8% year on year to $100.8 billion. Its non-GAAP profit of $6.81 per share was 1.1% above analysts’ consensus estimates.</td>\n",
       "      <td id=\"T_4964f_row149_col6\" class=\"data row149 col6\" >5</td>\n",
       "      <td id=\"T_4964f_row149_col7\" class=\"data row149 col7\" >1</td>\n",
       "      <td id=\"T_4964f_row149_col8\" class=\"data row149 col8\" >5</td>\n",
       "      <td id=\"T_4964f_row149_col9\" class=\"data row149 col9\" >4</td>\n",
       "    </tr>\n",
       "    <tr>\n",
       "      <th id=\"T_4964f_level0_row150\" class=\"row_heading level0 row150\" >2361</th>\n",
       "      <td id=\"T_4964f_row150_col0\" class=\"data row150 col0\" >2025-01-28 07:44:01</td>\n",
       "      <td id=\"T_4964f_row150_col1\" class=\"data row150 col1\" >UNH</td>\n",
       "      <td id=\"T_4964f_row150_col2\" class=\"data row150 col2\" >Reuters</td>\n",
       "      <td id=\"T_4964f_row150_col3\" class=\"data row150 col3\" >2 months ago</td>\n",
       "      <td id=\"T_4964f_row150_col4\" class=\"data row150 col4\" >UnitedHealth taps insider to replace slain executive as CEO of insurance unit</td>\n",
       "      <td id=\"T_4964f_row150_col5\" class=\"data row150 col5\" >Noel will take charge at UnitedHealthcare, the largest U.S. health insurer that provides benefits to more than 50 million Americans, at a critical moment.  The health insurance industry, on the other hand, is grappling with rising costs, driven by increased demand for healthcare under government-backed Medicare plans for older adults or those with disabilities.  UnitedHealth has reported higher-than-expected medical loss ratio - the percentage of premiums spent on medical care - a metric that tracks costs.</td>\n",
       "      <td id=\"T_4964f_row150_col6\" class=\"data row150 col6\" >1</td>\n",
       "      <td id=\"T_4964f_row150_col7\" class=\"data row150 col7\" >5</td>\n",
       "      <td id=\"T_4964f_row150_col8\" class=\"data row150 col8\" >5</td>\n",
       "      <td id=\"T_4964f_row150_col9\" class=\"data row150 col9\" >1</td>\n",
       "    </tr>\n",
       "    <tr>\n",
       "      <th id=\"T_4964f_level0_row151\" class=\"row_heading level0 row151\" >2374</th>\n",
       "      <td id=\"T_4964f_row151_col0\" class=\"data row151 col0\" >2025-01-28 07:44:00</td>\n",
       "      <td id=\"T_4964f_row151_col1\" class=\"data row151 col1\" >UNH</td>\n",
       "      <td id=\"T_4964f_row151_col2\" class=\"data row151 col2\" >Insider Monkey</td>\n",
       "      <td id=\"T_4964f_row151_col3\" class=\"data row151 col3\" >2 months ago</td>\n",
       "      <td id=\"T_4964f_row151_col4\" class=\"data row151 col4\" >Here’s Why Vulcan Value Partners Purchased UnitedHealth Group Incorporated (UNH)</td>\n",
       "      <td id=\"T_4964f_row151_col5\" class=\"data row151 col5\" >Investment management company Vulcan Value Partners recently released its fourth-quarter 2024 investor letter. A copy of the letter can be downloaded here. In 2024, the US economy was stronger than expected; the large-cap stocks led the robust U.S. equities markets. Although it is still excessively high, inflation did decrease throughout the course of the year. The largest […]</td>\n",
       "      <td id=\"T_4964f_row151_col6\" class=\"data row151 col6\" >1</td>\n",
       "      <td id=\"T_4964f_row151_col7\" class=\"data row151 col7\" >5</td>\n",
       "      <td id=\"T_4964f_row151_col8\" class=\"data row151 col8\" >5</td>\n",
       "      <td id=\"T_4964f_row151_col9\" class=\"data row151 col9\" >1</td>\n",
       "    </tr>\n",
       "    <tr>\n",
       "      <th id=\"T_4964f_level0_row152\" class=\"row_heading level0 row152\" >2377</th>\n",
       "      <td id=\"T_4964f_row152_col0\" class=\"data row152 col0\" >2025-01-28 07:44:00</td>\n",
       "      <td id=\"T_4964f_row152_col1\" class=\"data row152 col1\" >UNH</td>\n",
       "      <td id=\"T_4964f_row152_col2\" class=\"data row152 col2\" >Zacks</td>\n",
       "      <td id=\"T_4964f_row152_col3\" class=\"data row152 col3\" >2 months ago</td>\n",
       "      <td id=\"T_4964f_row152_col4\" class=\"data row152 col4\" >Stock Market News for Jan 17, 2025</td>\n",
       "      <td id=\"T_4964f_row152_col5\" class=\"data row152 col5\" >Wall Street closed lower on Thursday as market participants assessed economic data that signaled a resilient U.S. economy.</td>\n",
       "      <td id=\"T_4964f_row152_col6\" class=\"data row152 col6\" >1</td>\n",
       "      <td id=\"T_4964f_row152_col7\" class=\"data row152 col7\" >3</td>\n",
       "      <td id=\"T_4964f_row152_col8\" class=\"data row152 col8\" >5</td>\n",
       "      <td id=\"T_4964f_row152_col9\" class=\"data row152 col9\" >1</td>\n",
       "    </tr>\n",
       "    <tr>\n",
       "      <th id=\"T_4964f_level0_row153\" class=\"row_heading level0 row153\" >2387</th>\n",
       "      <td id=\"T_4964f_row153_col0\" class=\"data row153 col0\" >2025-01-28 07:44:00</td>\n",
       "      <td id=\"T_4964f_row153_col1\" class=\"data row153 col1\" >UNH</td>\n",
       "      <td id=\"T_4964f_row153_col2\" class=\"data row153 col2\" >Barrons.com</td>\n",
       "      <td id=\"T_4964f_row153_col3\" class=\"data row153 col3\" >2 months ago</td>\n",
       "      <td id=\"T_4964f_row153_col4\" class=\"data row153 col4\" >These Stocks Moved the Most Today: TSMC, Bank of America, Morgan Stanley, UnitedHealth, Symbotic, D-Wave Quantum, and More</td>\n",
       "      <td id=\"T_4964f_row153_col5\" class=\"data row153 col5\" >Fourth-quarter net profit of Taiwan Semiconductor jumps 57%, UnitedHealth falls after revenue misses estimates, and profits at Bank of America and Morgan Stanley beat analysts’ expectations.</td>\n",
       "      <td id=\"T_4964f_row153_col6\" class=\"data row153 col6\" >4</td>\n",
       "      <td id=\"T_4964f_row153_col7\" class=\"data row153 col7\" >5</td>\n",
       "      <td id=\"T_4964f_row153_col8\" class=\"data row153 col8\" >5</td>\n",
       "      <td id=\"T_4964f_row153_col9\" class=\"data row153 col9\" >1</td>\n",
       "    </tr>\n",
       "    <tr>\n",
       "      <th id=\"T_4964f_level0_row154\" class=\"row_heading level0 row154\" >2412</th>\n",
       "      <td id=\"T_4964f_row154_col0\" class=\"data row154 col0\" >2025-03-27 07:45:00</td>\n",
       "      <td id=\"T_4964f_row154_col1\" class=\"data row154 col1\" >WMT</td>\n",
       "      <td id=\"T_4964f_row154_col2\" class=\"data row154 col2\" >TheStreet</td>\n",
       "      <td id=\"T_4964f_row154_col3\" class=\"data row154 col3\" >yesterday</td>\n",
       "      <td id=\"T_4964f_row154_col4\" class=\"data row154 col4\" >Sam’s Club makes a big change to a beloved membership perk</td>\n",
       "      <td id=\"T_4964f_row154_col5\" class=\"data row154 col5\" >The warehouse club has confirmed that its members are in for an unexpected surprise.</td>\n",
       "      <td id=\"T_4964f_row154_col6\" class=\"data row154 col6\" >5</td>\n",
       "      <td id=\"T_4964f_row154_col7\" class=\"data row154 col7\" >1</td>\n",
       "      <td id=\"T_4964f_row154_col8\" class=\"data row154 col8\" >1</td>\n",
       "      <td id=\"T_4964f_row154_col9\" class=\"data row154 col9\" >5</td>\n",
       "    </tr>\n",
       "    <tr>\n",
       "      <th id=\"T_4964f_level0_row155\" class=\"row_heading level0 row155\" >2414</th>\n",
       "      <td id=\"T_4964f_row155_col0\" class=\"data row155 col0\" >2025-03-26 07:45:00</td>\n",
       "      <td id=\"T_4964f_row155_col1\" class=\"data row155 col1\" >WMT</td>\n",
       "      <td id=\"T_4964f_row155_col2\" class=\"data row155 col2\" >Motley Fool</td>\n",
       "      <td id=\"T_4964f_row155_col3\" class=\"data row155 col3\" >2 days ago</td>\n",
       "      <td id=\"T_4964f_row155_col4\" class=\"data row155 col4\" >Why Walmart Stock Was Sliding Today</td>\n",
       "      <td id=\"T_4964f_row155_col5\" class=\"data row155 col5\" >Shares of Walmart (NYSE: WMT) were pulling back today along with a broader slide in the retail sector, after the Conference Board's Consumer Confidence Index fell to a four-year-low, with future expectations hitting a 12-year low, according to the Conference Board.  As the country's and the world's biggest retailer, Walmart has arguably more exposure to consumer spending than any other company, though its reputation for low prices may make it better positioned than some other retailers to weather a recession.  As of 2:07 p.m. ET, Walmart stock was down 2.9% on the news.</td>\n",
       "      <td id=\"T_4964f_row155_col6\" class=\"data row155 col6\" >1</td>\n",
       "      <td id=\"T_4964f_row155_col7\" class=\"data row155 col7\" >5</td>\n",
       "      <td id=\"T_4964f_row155_col8\" class=\"data row155 col8\" >1</td>\n",
       "      <td id=\"T_4964f_row155_col9\" class=\"data row155 col9\" >1</td>\n",
       "    </tr>\n",
       "    <tr>\n",
       "      <th id=\"T_4964f_level0_row156\" class=\"row_heading level0 row156\" >2422</th>\n",
       "      <td id=\"T_4964f_row156_col0\" class=\"data row156 col0\" >2025-03-26 07:45:00</td>\n",
       "      <td id=\"T_4964f_row156_col1\" class=\"data row156 col1\" >WMT</td>\n",
       "      <td id=\"T_4964f_row156_col2\" class=\"data row156 col2\" >Insider Monkey</td>\n",
       "      <td id=\"T_4964f_row156_col3\" class=\"data row156 col3\" >2 days ago</td>\n",
       "      <td id=\"T_4964f_row156_col4\" class=\"data row156 col4\" >Is Walmart Inc. (WMT) the Best Department Store Stock to Invest In?</td>\n",
       "      <td id=\"T_4964f_row156_col5\" class=\"data row156 col5\" >We recently published a list of the 10 Best Department Store Stocks to Invest in. In this article, we are going to take a look at where Walmart Inc. (NYSE:WMT) stands against the other best department store stocks to invest in. Is the American Consumer Cracking? Consumer sentiment is taking a hit in the US, with […]</td>\n",
       "      <td id=\"T_4964f_row156_col6\" class=\"data row156 col6\" >3</td>\n",
       "      <td id=\"T_4964f_row156_col7\" class=\"data row156 col7\" >1</td>\n",
       "      <td id=\"T_4964f_row156_col8\" class=\"data row156 col8\" >1</td>\n",
       "      <td id=\"T_4964f_row156_col9\" class=\"data row156 col9\" >5</td>\n",
       "    </tr>\n",
       "    <tr>\n",
       "      <th id=\"T_4964f_level0_row157\" class=\"row_heading level0 row157\" >2448</th>\n",
       "      <td id=\"T_4964f_row157_col0\" class=\"data row157 col0\" >2025-03-21 07:45:00</td>\n",
       "      <td id=\"T_4964f_row157_col1\" class=\"data row157 col1\" >WMT</td>\n",
       "      <td id=\"T_4964f_row157_col2\" class=\"data row157 col2\" >Grocery Dive</td>\n",
       "      <td id=\"T_4964f_row157_col3\" class=\"data row157 col3\" >7 days ago</td>\n",
       "      <td id=\"T_4964f_row157_col4\" class=\"data row157 col4\" >Number Sense: Kroger’s e-commerce growth is a complicated story</td>\n",
       "      <td id=\"T_4964f_row157_col5\" class=\"data row157 col5\" >The grocery chain’s digital sales continue to impress, but they raise questions about store performance and how the company will compete against Walmart going forward.</td>\n",
       "      <td id=\"T_4964f_row157_col6\" class=\"data row157 col6\" >3</td>\n",
       "      <td id=\"T_4964f_row157_col7\" class=\"data row157 col7\" >1</td>\n",
       "      <td id=\"T_4964f_row157_col8\" class=\"data row157 col8\" >1</td>\n",
       "      <td id=\"T_4964f_row157_col9\" class=\"data row157 col9\" >5</td>\n",
       "    </tr>\n",
       "    <tr>\n",
       "      <th id=\"T_4964f_level0_row158\" class=\"row_heading level0 row158\" >2460</th>\n",
       "      <td id=\"T_4964f_row158_col0\" class=\"data row158 col0\" >2025-03-20 07:45:00</td>\n",
       "      <td id=\"T_4964f_row158_col1\" class=\"data row158 col1\" >WMT</td>\n",
       "      <td id=\"T_4964f_row158_col2\" class=\"data row158 col2\" >Motley Fool</td>\n",
       "      <td id=\"T_4964f_row158_col3\" class=\"data row158 col3\" >8 days ago</td>\n",
       "      <td id=\"T_4964f_row158_col4\" class=\"data row158 col4\" >Stock Market Sell-Off: 2 Stocks to Buy as We Potentially Head Towards a Recession</td>\n",
       "      <td id=\"T_4964f_row158_col5\" class=\"data row158 col5\" >The stock market has been selling off, and there is an increasing chance that the U.S. economy could be headed toward a recession.  In fact, the Atlanta Federal Reserve is now predicting that Q1 gross domestic product (GDP) will decline by 2.1% after predicting a more than 2% gain in late February.  Against that backdrop, let's look at two defensive stocks that could outperform the market in a recession.</td>\n",
       "      <td id=\"T_4964f_row158_col6\" class=\"data row158 col6\" >1</td>\n",
       "      <td id=\"T_4964f_row158_col7\" class=\"data row158 col7\" >5</td>\n",
       "      <td id=\"T_4964f_row158_col8\" class=\"data row158 col8\" >3</td>\n",
       "      <td id=\"T_4964f_row158_col9\" class=\"data row158 col9\" >1</td>\n",
       "    </tr>\n",
       "    <tr>\n",
       "      <th id=\"T_4964f_level0_row159\" class=\"row_heading level0 row159\" >2461</th>\n",
       "      <td id=\"T_4964f_row159_col0\" class=\"data row159 col0\" >2025-03-20 07:45:00</td>\n",
       "      <td id=\"T_4964f_row159_col1\" class=\"data row159 col1\" >WMT</td>\n",
       "      <td id=\"T_4964f_row159_col2\" class=\"data row159 col2\" >Motley Fool</td>\n",
       "      <td id=\"T_4964f_row159_col3\" class=\"data row159 col3\" >8 days ago</td>\n",
       "      <td id=\"T_4964f_row159_col4\" class=\"data row159 col4\" >Where Will Walmart Stock Be in 1 Year?</td>\n",
       "      <td id=\"T_4964f_row159_col5\" class=\"data row159 col5\" >After a door-busting 2024 with Walmart (NYSE: WMT) shares soaring 74% on robust growth and earnings, the start of 2025 has proven to be a tougher aisle to navigate.  The stock price has rolled back by about 19% from its recent all-time high, pressured by muted company guidance.  Let's discuss where Walmart shares might be in one year.</td>\n",
       "      <td id=\"T_4964f_row159_col6\" class=\"data row159 col6\" >3</td>\n",
       "      <td id=\"T_4964f_row159_col7\" class=\"data row159 col7\" >5</td>\n",
       "      <td id=\"T_4964f_row159_col8\" class=\"data row159 col8\" >2</td>\n",
       "      <td id=\"T_4964f_row159_col9\" class=\"data row159 col9\" >1</td>\n",
       "    </tr>\n",
       "    <tr>\n",
       "      <th id=\"T_4964f_level0_row160\" class=\"row_heading level0 row160\" >2468</th>\n",
       "      <td id=\"T_4964f_row160_col0\" class=\"data row160 col0\" >2025-03-19 07:45:00</td>\n",
       "      <td id=\"T_4964f_row160_col1\" class=\"data row160 col1\" >WMT</td>\n",
       "      <td id=\"T_4964f_row160_col2\" class=\"data row160 col2\" >Zacks</td>\n",
       "      <td id=\"T_4964f_row160_col3\" class=\"data row160 col3\" >9 days ago</td>\n",
       "      <td id=\"T_4964f_row160_col4\" class=\"data row160 col4\" >Decoding Walmart's High P/E Ratio: Bargain Buy or Overpriced Risk?</td>\n",
       "      <td id=\"T_4964f_row160_col5\" class=\"data row160 col5\" >WMT's strong market position and digital growth are offset by rising costs and macroeconomic challenges, requiring cautious investment consideration.</td>\n",
       "      <td id=\"T_4964f_row160_col6\" class=\"data row160 col6\" >5</td>\n",
       "      <td id=\"T_4964f_row160_col7\" class=\"data row160 col7\" >5</td>\n",
       "      <td id=\"T_4964f_row160_col8\" class=\"data row160 col8\" >1</td>\n",
       "      <td id=\"T_4964f_row160_col9\" class=\"data row160 col9\" >5</td>\n",
       "    </tr>\n",
       "    <tr>\n",
       "      <th id=\"T_4964f_level0_row161\" class=\"row_heading level0 row161\" >2469</th>\n",
       "      <td id=\"T_4964f_row161_col0\" class=\"data row161 col0\" >2025-03-19 07:45:00</td>\n",
       "      <td id=\"T_4964f_row161_col1\" class=\"data row161 col1\" >WMT</td>\n",
       "      <td id=\"T_4964f_row161_col2\" class=\"data row161 col2\" >TipRanks</td>\n",
       "      <td id=\"T_4964f_row161_col3\" class=\"data row161 col3\" >9 days ago</td>\n",
       "      <td id=\"T_4964f_row161_col4\" class=\"data row161 col4\" >Walmart downgraded to Hold from Buy at Erste Group on Friday</td>\n",
       "      <td id=\"T_4964f_row161_col5\" class=\"data row161 col5\" >As previously reported, Erste Group downgraded Walmart (WMT) to Hold from Buy. Walmart expects revenues to increase by around 3% to 4% this year, which is a lower growth rate than last year, the analyst noted on Friday. The high valuation based in a sector comparison “stands in the way of a rapid recovery in the share price in an economic downturn,” the analyst added. Published first on TheFly – the ultimate source for real-time, market-moving breaking financial news. Try Now>> See Insiders’ Hot</td>\n",
       "      <td id=\"T_4964f_row161_col6\" class=\"data row161 col6\" >3</td>\n",
       "      <td id=\"T_4964f_row161_col7\" class=\"data row161 col7\" >1</td>\n",
       "      <td id=\"T_4964f_row161_col8\" class=\"data row161 col8\" >3</td>\n",
       "      <td id=\"T_4964f_row161_col9\" class=\"data row161 col9\" >5</td>\n",
       "    </tr>\n",
       "    <tr>\n",
       "      <th id=\"T_4964f_level0_row162\" class=\"row_heading level0 row162\" >2503</th>\n",
       "      <td id=\"T_4964f_row162_col0\" class=\"data row162 col0\" >2025-03-14 07:45:00</td>\n",
       "      <td id=\"T_4964f_row162_col1\" class=\"data row162 col1\" >WMT</td>\n",
       "      <td id=\"T_4964f_row162_col2\" class=\"data row162 col2\" >Simply Wall St.</td>\n",
       "      <td id=\"T_4964f_row162_col3\" class=\"data row162 col3\" >14 days ago</td>\n",
       "      <td id=\"T_4964f_row162_col4\" class=\"data row162 col4\" >Walmart (NYSE:WMT) Sales Jump 5% But Stock Slips 9%</td>\n",
       "      <td id=\"T_4964f_row162_col5\" class=\"data row162 col5\" >Walmart (NYSE:WMT) recently unveiled Dwell212, a wellness-inspired body care line introduced by Harry Slatkin, priced under $10, and partnered with California Water Service to expand their service offerings. Both initiatives aim to enhance their market presence. Despite these positive developments, Walmart's share price declined by 9% over the last quarter. Notably, during the same period, the company experienced a 5% increase in total sales and an annual cash dividend increase by 13% to...</td>\n",
       "      <td id=\"T_4964f_row162_col6\" class=\"data row162 col6\" >1</td>\n",
       "      <td id=\"T_4964f_row162_col7\" class=\"data row162 col7\" >5</td>\n",
       "      <td id=\"T_4964f_row162_col8\" class=\"data row162 col8\" >5</td>\n",
       "      <td id=\"T_4964f_row162_col9\" class=\"data row162 col9\" >1</td>\n",
       "    </tr>\n",
       "    <tr>\n",
       "      <th id=\"T_4964f_level0_row163\" class=\"row_heading level0 row163\" >2507</th>\n",
       "      <td id=\"T_4964f_row163_col0\" class=\"data row163 col0\" >2025-03-13 07:45:00</td>\n",
       "      <td id=\"T_4964f_row163_col1\" class=\"data row163 col1\" >WMT</td>\n",
       "      <td id=\"T_4964f_row163_col2\" class=\"data row163 col2\" >Sourcing Journal</td>\n",
       "      <td id=\"T_4964f_row163_col3\" class=\"data row163 col3\" >15 days ago</td>\n",
       "      <td id=\"T_4964f_row163_col4\" class=\"data row163 col4\" >Apparel Prices Rose in February, Could Go Higher As China Pushes Back on Tariffs</td>\n",
       "      <td id=\"T_4964f_row163_col5\" class=\"data row163 col5\" >February's CPI was below expectations, but apparel prices inched up and could go higher as China pushes back on tariff price concessions.</td>\n",
       "      <td id=\"T_4964f_row163_col6\" class=\"data row163 col6\" >5</td>\n",
       "      <td id=\"T_4964f_row163_col7\" class=\"data row163 col7\" >1</td>\n",
       "      <td id=\"T_4964f_row163_col8\" class=\"data row163 col8\" >5</td>\n",
       "      <td id=\"T_4964f_row163_col9\" class=\"data row163 col9\" >5</td>\n",
       "    </tr>\n",
       "    <tr>\n",
       "      <th id=\"T_4964f_level0_row164\" class=\"row_heading level0 row164\" >2514</th>\n",
       "      <td id=\"T_4964f_row164_col0\" class=\"data row164 col0\" >2025-03-13 07:45:00</td>\n",
       "      <td id=\"T_4964f_row164_col1\" class=\"data row164 col1\" >WMT</td>\n",
       "      <td id=\"T_4964f_row164_col2\" class=\"data row164 col2\" >Yahoo Finance</td>\n",
       "      <td id=\"T_4964f_row164_col3\" class=\"data row164 col3\" >15 days ago</td>\n",
       "      <td id=\"T_4964f_row164_col4\" class=\"data row164 col4\" >Elon Musk tries again to get a $56 billion pay plan back as his revolt roils Delaware</td>\n",
       "      <td id=\"T_4964f_row164_col5\" class=\"data row164 col5\" >Elon Musk made good on his promise to appeal a controversial decision by a Delaware judge who wiped out his $56 billion performance-based compensation plan as the Tesla CEO leads a revolt that is roiling that state’s politics.</td>\n",
       "      <td id=\"T_4964f_row164_col6\" class=\"data row164 col6\" >1</td>\n",
       "      <td id=\"T_4964f_row164_col7\" class=\"data row164 col7\" >5</td>\n",
       "      <td id=\"T_4964f_row164_col8\" class=\"data row164 col8\" >5</td>\n",
       "      <td id=\"T_4964f_row164_col9\" class=\"data row164 col9\" >1</td>\n",
       "    </tr>\n",
       "    <tr>\n",
       "      <th id=\"T_4964f_level0_row165\" class=\"row_heading level0 row165\" >2516</th>\n",
       "      <td id=\"T_4964f_row165_col0\" class=\"data row165 col0\" >2025-03-13 07:45:00</td>\n",
       "      <td id=\"T_4964f_row165_col1\" class=\"data row165 col1\" >WMT</td>\n",
       "      <td id=\"T_4964f_row165_col2\" class=\"data row165 col2\" >Yahoo Finance</td>\n",
       "      <td id=\"T_4964f_row165_col3\" class=\"data row165 col3\" >15 days ago</td>\n",
       "      <td id=\"T_4964f_row165_col4\" class=\"data row165 col4\" >Egg prices soar 59% year over year while other breakfast foods also outpace inflation</td>\n",
       "      <td id=\"T_4964f_row165_col5\" class=\"data row165 col5\" >Egg prices will remain volatile in the near term.</td>\n",
       "      <td id=\"T_4964f_row165_col6\" class=\"data row165 col6\" >5</td>\n",
       "      <td id=\"T_4964f_row165_col7\" class=\"data row165 col7\" >1</td>\n",
       "      <td id=\"T_4964f_row165_col8\" class=\"data row165 col8\" >1</td>\n",
       "      <td id=\"T_4964f_row165_col9\" class=\"data row165 col9\" >4</td>\n",
       "    </tr>\n",
       "    <tr>\n",
       "      <th id=\"T_4964f_level0_row166\" class=\"row_heading level0 row166\" >2554</th>\n",
       "      <td id=\"T_4964f_row166_col0\" class=\"data row166 col0\" >2025-03-08 07:45:00</td>\n",
       "      <td id=\"T_4964f_row166_col1\" class=\"data row166 col1\" >WMT</td>\n",
       "      <td id=\"T_4964f_row166_col2\" class=\"data row166 col2\" >TheStreet</td>\n",
       "      <td id=\"T_4964f_row166_col3\" class=\"data row166 col3\" >20 days ago</td>\n",
       "      <td id=\"T_4964f_row166_col4\" class=\"data row166 col4\" >Walmart makes unexpected move to minimize threat of tariffs</td>\n",
       "      <td id=\"T_4964f_row166_col5\" class=\"data row166 col5\" >The retail giant is attempting to dodge the potential negative impact of tariffs.</td>\n",
       "      <td id=\"T_4964f_row166_col6\" class=\"data row166 col6\" >5</td>\n",
       "      <td id=\"T_4964f_row166_col7\" class=\"data row166 col7\" >1</td>\n",
       "      <td id=\"T_4964f_row166_col8\" class=\"data row166 col8\" >1</td>\n",
       "      <td id=\"T_4964f_row166_col9\" class=\"data row166 col9\" >5</td>\n",
       "    </tr>\n",
       "    <tr>\n",
       "      <th id=\"T_4964f_level0_row167\" class=\"row_heading level0 row167\" >2560</th>\n",
       "      <td id=\"T_4964f_row167_col0\" class=\"data row167 col0\" >2025-03-07 07:45:00</td>\n",
       "      <td id=\"T_4964f_row167_col1\" class=\"data row167 col1\" >WMT</td>\n",
       "      <td id=\"T_4964f_row167_col2\" class=\"data row167 col2\" >Sourcing Journal</td>\n",
       "      <td id=\"T_4964f_row167_col3\" class=\"data row167 col3\" >21 days ago</td>\n",
       "      <td id=\"T_4964f_row167_col4\" class=\"data row167 col4\" >Vendors Could Be Less Inclined To Absorb Latest Tariff Round</td>\n",
       "      <td id=\"T_4964f_row167_col5\" class=\"data row167 col5\" >Trump's tariff threats have Walmart and Steve Madden seeking price concessions from vendors, but success remains to be seen.</td>\n",
       "      <td id=\"T_4964f_row167_col6\" class=\"data row167 col6\" >4</td>\n",
       "      <td id=\"T_4964f_row167_col7\" class=\"data row167 col7\" >1</td>\n",
       "      <td id=\"T_4964f_row167_col8\" class=\"data row167 col8\" >5</td>\n",
       "      <td id=\"T_4964f_row167_col9\" class=\"data row167 col9\" >1</td>\n",
       "    </tr>\n",
       "    <tr>\n",
       "      <th id=\"T_4964f_level0_row168\" class=\"row_heading level0 row168\" >2570</th>\n",
       "      <td id=\"T_4964f_row168_col0\" class=\"data row168 col0\" >2025-03-07 07:45:00</td>\n",
       "      <td id=\"T_4964f_row168_col1\" class=\"data row168 col1\" >WMT</td>\n",
       "      <td id=\"T_4964f_row168_col2\" class=\"data row168 col2\" >Zacks</td>\n",
       "      <td id=\"T_4964f_row168_col3\" class=\"data row168 col3\" >21 days ago</td>\n",
       "      <td id=\"T_4964f_row168_col4\" class=\"data row168 col4\" >Should Investors Buy Target (TGT) Stock After Favorable Q4 Results?</td>\n",
       "      <td id=\"T_4964f_row168_col5\" class=\"data row168 col5\" >Target (TGT) reported favorable Q4 results yesterday but has seen its stock dip 3% after the omnichannel retail giant issued cautious guidance.</td>\n",
       "      <td id=\"T_4964f_row168_col6\" class=\"data row168 col6\" >1</td>\n",
       "      <td id=\"T_4964f_row168_col7\" class=\"data row168 col7\" >5</td>\n",
       "      <td id=\"T_4964f_row168_col8\" class=\"data row168 col8\" >1</td>\n",
       "      <td id=\"T_4964f_row168_col9\" class=\"data row168 col9\" >1</td>\n",
       "    </tr>\n",
       "    <tr>\n",
       "      <th id=\"T_4964f_level0_row169\" class=\"row_heading level0 row169\" >2579</th>\n",
       "      <td id=\"T_4964f_row169_col0\" class=\"data row169 col0\" >2025-03-06 07:45:00</td>\n",
       "      <td id=\"T_4964f_row169_col1\" class=\"data row169 col1\" >WMT</td>\n",
       "      <td id=\"T_4964f_row169_col2\" class=\"data row169 col2\" >The Wall Street Journal</td>\n",
       "      <td id=\"T_4964f_row169_col3\" class=\"data row169 col3\" >22 days ago</td>\n",
       "      <td id=\"T_4964f_row169_col4\" class=\"data row169 col4\" >Target Wants to Bring Back the ‘Tarzhay’ Magic</td>\n",
       "      <td id=\"T_4964f_row169_col5\" class=\"data row169 col5\" >While the retailer plans to improve its private-label lineup and store experience, a turnaround will take time.</td>\n",
       "      <td id=\"T_4964f_row169_col6\" class=\"data row169 col6\" >5</td>\n",
       "      <td id=\"T_4964f_row169_col7\" class=\"data row169 col7\" >1</td>\n",
       "      <td id=\"T_4964f_row169_col8\" class=\"data row169 col8\" >2</td>\n",
       "      <td id=\"T_4964f_row169_col9\" class=\"data row169 col9\" >5</td>\n",
       "    </tr>\n",
       "    <tr>\n",
       "      <th id=\"T_4964f_level0_row170\" class=\"row_heading level0 row170\" >2601</th>\n",
       "      <td id=\"T_4964f_row170_col0\" class=\"data row170 col0\" >2025-03-25 07:45:00</td>\n",
       "      <td id=\"T_4964f_row170_col1\" class=\"data row170 col1\" >PG</td>\n",
       "      <td id=\"T_4964f_row170_col2\" class=\"data row170 col2\" >Zacks</td>\n",
       "      <td id=\"T_4964f_row170_col3\" class=\"data row170 col3\" >3 days ago</td>\n",
       "      <td id=\"T_4964f_row170_col4\" class=\"data row170 col4\" >4 Consumer Product Stocks to Keep an Eye on Despite Market Challenges</td>\n",
       "      <td id=\"T_4964f_row170_col5\" class=\"data row170 col5\" >The Zacks Consumer Products - Staples industry is navigating a tough consumer environment and elevated SG&A costs. Nevertheless, PG, CL, KMB and CLX are leveraging innovations to drive growth.</td>\n",
       "      <td id=\"T_4964f_row170_col6\" class=\"data row170 col6\" >5</td>\n",
       "      <td id=\"T_4964f_row170_col7\" class=\"data row170 col7\" >1</td>\n",
       "      <td id=\"T_4964f_row170_col8\" class=\"data row170 col8\" >5</td>\n",
       "      <td id=\"T_4964f_row170_col9\" class=\"data row170 col9\" >5</td>\n",
       "    </tr>\n",
       "    <tr>\n",
       "      <th id=\"T_4964f_level0_row171\" class=\"row_heading level0 row171\" >2637</th>\n",
       "      <td id=\"T_4964f_row171_col0\" class=\"data row171 col0\" >2025-02-28 07:45:00</td>\n",
       "      <td id=\"T_4964f_row171_col1\" class=\"data row171 col1\" >PG</td>\n",
       "      <td id=\"T_4964f_row171_col2\" class=\"data row171 col2\" >StockStory</td>\n",
       "      <td id=\"T_4964f_row171_col3\" class=\"data row171 col3\" >last month</td>\n",
       "      <td id=\"T_4964f_row171_col4\" class=\"data row171 col4\" >Q4 Earnings Highlights: Procter & Gamble (NYSE:PG) Vs The Rest Of The Household Products Stocks</td>\n",
       "      <td id=\"T_4964f_row171_col5\" class=\"data row171 col5\" >As the Q4 earnings season wraps, let’s dig into this quarter’s best and worst performers in the household products industry, including Procter & Gamble (NYSE:PG) and its peers.</td>\n",
       "      <td id=\"T_4964f_row171_col6\" class=\"data row171 col6\" >1</td>\n",
       "      <td id=\"T_4964f_row171_col7\" class=\"data row171 col7\" >5</td>\n",
       "      <td id=\"T_4964f_row171_col8\" class=\"data row171 col8\" >5</td>\n",
       "      <td id=\"T_4964f_row171_col9\" class=\"data row171 col9\" >1</td>\n",
       "    </tr>\n",
       "    <tr>\n",
       "      <th id=\"T_4964f_level0_row172\" class=\"row_heading level0 row172\" >2713</th>\n",
       "      <td id=\"T_4964f_row172_col0\" class=\"data row172 col0\" >2025-01-28 07:45:00</td>\n",
       "      <td id=\"T_4964f_row172_col1\" class=\"data row172 col1\" >PG</td>\n",
       "      <td id=\"T_4964f_row172_col2\" class=\"data row172 col2\" >Investing.com</td>\n",
       "      <td id=\"T_4964f_row172_col3\" class=\"data row172 col3\" >2 months ago</td>\n",
       "      <td id=\"T_4964f_row172_col4\" class=\"data row172 col4\" >1 Stock to Buy, 1 Stock to Sell This Week: Netflix, Procter & Gamble</td>\n",
       "      <td id=\"T_4964f_row172_col5\" class=\"data row172 col5\" >• Trump inauguration, Q4 earnings season will be in focus in the holiday-shortened week ahead. • With its transformative business model and clear growth trajectory, Netflix looks like a compelling buy for investors seeking quality growth. • Procter & Gamble faces operational challenges and tepid growth, making it less appealing in the current market environment. • Looking for more actionable trade ideas? Subscribe here for 50% off InvestingPro! U.S. stocks rallied on Friday ahead of the inaugura</td>\n",
       "      <td id=\"T_4964f_row172_col6\" class=\"data row172 col6\" >5</td>\n",
       "      <td id=\"T_4964f_row172_col7\" class=\"data row172 col7\" >5</td>\n",
       "      <td id=\"T_4964f_row172_col8\" class=\"data row172 col8\" >1</td>\n",
       "      <td id=\"T_4964f_row172_col9\" class=\"data row172 col9\" >5</td>\n",
       "    </tr>\n",
       "    <tr>\n",
       "      <th id=\"T_4964f_level0_row173\" class=\"row_heading level0 row173\" >2736</th>\n",
       "      <td id=\"T_4964f_row173_col0\" class=\"data row173 col0\" >2025-01-28 07:45:00</td>\n",
       "      <td id=\"T_4964f_row173_col1\" class=\"data row173 col1\" >PG</td>\n",
       "      <td id=\"T_4964f_row173_col2\" class=\"data row173 col2\" >Simply Wall St.</td>\n",
       "      <td id=\"T_4964f_row173_col3\" class=\"data row173 col3\" >2 months ago</td>\n",
       "      <td id=\"T_4964f_row173_col4\" class=\"data row173 col4\" >Will Weakness in The Procter & Gamble Company's (NYSE:PG) Stock Prove Temporary Given Strong Fundamentals?</td>\n",
       "      <td id=\"T_4964f_row173_col5\" class=\"data row173 col5\" >Procter & Gamble (NYSE:PG) has had a rough month with its share price down 7.2%. However, stock prices are usually...</td>\n",
       "      <td id=\"T_4964f_row173_col6\" class=\"data row173 col6\" >1</td>\n",
       "      <td id=\"T_4964f_row173_col7\" class=\"data row173 col7\" >5</td>\n",
       "      <td id=\"T_4964f_row173_col8\" class=\"data row173 col8\" >3</td>\n",
       "      <td id=\"T_4964f_row173_col9\" class=\"data row173 col9\" >1</td>\n",
       "    </tr>\n",
       "    <tr>\n",
       "      <th id=\"T_4964f_level0_row174\" class=\"row_heading level0 row174\" >2779</th>\n",
       "      <td id=\"T_4964f_row174_col0\" class=\"data row174 col0\" >2024-12-28 07:45:00</td>\n",
       "      <td id=\"T_4964f_row174_col1\" class=\"data row174 col1\" >PG</td>\n",
       "      <td id=\"T_4964f_row174_col2\" class=\"data row174 col2\" >Zacks</td>\n",
       "      <td id=\"T_4964f_row174_col3\" class=\"data row174 col3\" >3 months ago</td>\n",
       "      <td id=\"T_4964f_row174_col4\" class=\"data row174 col4\" >PG's Premium P/E Valuation: Value Opportunity or Risky Proposition?</td>\n",
       "      <td id=\"T_4964f_row174_col5\" class=\"data row174 col5\" >While Procter & Gamble's near-term outlook suggests challenges due to ongoing tensions, its strategies and execution indicate long-term growth potential.</td>\n",
       "      <td id=\"T_4964f_row174_col6\" class=\"data row174 col6\" >5</td>\n",
       "      <td id=\"T_4964f_row174_col7\" class=\"data row174 col7\" >1</td>\n",
       "      <td id=\"T_4964f_row174_col8\" class=\"data row174 col8\" >4</td>\n",
       "      <td id=\"T_4964f_row174_col9\" class=\"data row174 col9\" >5</td>\n",
       "    </tr>\n",
       "    <tr>\n",
       "      <th id=\"T_4964f_level0_row175\" class=\"row_heading level0 row175\" >2790</th>\n",
       "      <td id=\"T_4964f_row175_col0\" class=\"data row175 col0\" >2024-11-28 07:45:00</td>\n",
       "      <td id=\"T_4964f_row175_col1\" class=\"data row175 col1\" >PG</td>\n",
       "      <td id=\"T_4964f_row175_col2\" class=\"data row175 col2\" >Motley Fool</td>\n",
       "      <td id=\"T_4964f_row175_col3\" class=\"data row175 col3\" >4 months ago</td>\n",
       "      <td id=\"T_4964f_row175_col4\" class=\"data row175 col4\" >Why Were Dividend King Stocks Coca-Cola, PepsiCo, and Procter & Gamble Falling After the Election?</td>\n",
       "      <td id=\"T_4964f_row175_col5\" class=\"data row175 col5\" >The S&P 500 may be hitting an all-time high, but these three safe stocks are missing out.</td>\n",
       "      <td id=\"T_4964f_row175_col6\" class=\"data row175 col6\" >1</td>\n",
       "      <td id=\"T_4964f_row175_col7\" class=\"data row175 col7\" >5</td>\n",
       "      <td id=\"T_4964f_row175_col8\" class=\"data row175 col8\" >1</td>\n",
       "      <td id=\"T_4964f_row175_col9\" class=\"data row175 col9\" >1</td>\n",
       "    </tr>\n",
       "    <tr>\n",
       "      <th id=\"T_4964f_level0_row176\" class=\"row_heading level0 row176\" >2820</th>\n",
       "      <td id=\"T_4964f_row176_col0\" class=\"data row176 col0\" >2025-03-11 07:46:00</td>\n",
       "      <td id=\"T_4964f_row176_col1\" class=\"data row176 col1\" >HD</td>\n",
       "      <td id=\"T_4964f_row176_col2\" class=\"data row176 col2\" >Zacks</td>\n",
       "      <td id=\"T_4964f_row176_col3\" class=\"data row176 col3\" >17 days ago</td>\n",
       "      <td id=\"T_4964f_row176_col4\" class=\"data row176 col4\" >Decoding Home Depot's High P/E Ratio: Bargain Buy or Overpriced Risk?</td>\n",
       "      <td id=\"T_4964f_row176_col5\" class=\"data row176 col5\" >While the near-term outlook suggests continued operating challenges for HD in fiscal 2025, its One Home Depot strategy and execution indicate long-term growth potential.</td>\n",
       "      <td id=\"T_4964f_row176_col6\" class=\"data row176 col6\" >5</td>\n",
       "      <td id=\"T_4964f_row176_col7\" class=\"data row176 col7\" >1</td>\n",
       "      <td id=\"T_4964f_row176_col8\" class=\"data row176 col8\" >5</td>\n",
       "      <td id=\"T_4964f_row176_col9\" class=\"data row176 col9\" >5</td>\n",
       "    </tr>\n",
       "    <tr>\n",
       "      <th id=\"T_4964f_level0_row177\" class=\"row_heading level0 row177\" >2842</th>\n",
       "      <td id=\"T_4964f_row177_col0\" class=\"data row177 col0\" >2025-03-03 07:46:00</td>\n",
       "      <td id=\"T_4964f_row177_col1\" class=\"data row177 col1\" >HD</td>\n",
       "      <td id=\"T_4964f_row177_col2\" class=\"data row177 col2\" >Motley Fool</td>\n",
       "      <td id=\"T_4964f_row177_col3\" class=\"data row177 col3\" >25 days ago</td>\n",
       "      <td id=\"T_4964f_row177_col4\" class=\"data row177 col4\" >1 Wall Street Analyst Thinks Home Depot Stock Is Going to $445. Is It a Buy?</td>\n",
       "      <td id=\"T_4964f_row177_col5\" class=\"data row177 col5\" >A Wells Fargo analyst recently nudged the company's price target on Home Depot (NYSE: HD) stock lower, from $450 to $445, and maintained an overweight rating on the stock.  Recent results from Home Depot and rival Lowe's (NYSE: LOW) gave cause for optimism that growth is returning.  Lowe's comparable sales increased by 0.2% in its fourth quarter,  and management expects comparable sales to be flat to up 1% for the full year.</td>\n",
       "      <td id=\"T_4964f_row177_col6\" class=\"data row177 col6\" >4</td>\n",
       "      <td id=\"T_4964f_row177_col7\" class=\"data row177 col7\" >5</td>\n",
       "      <td id=\"T_4964f_row177_col8\" class=\"data row177 col8\" >4</td>\n",
       "      <td id=\"T_4964f_row177_col9\" class=\"data row177 col9\" >1</td>\n",
       "    </tr>\n",
       "    <tr>\n",
       "      <th id=\"T_4964f_level0_row178\" class=\"row_heading level0 row178\" >2844</th>\n",
       "      <td id=\"T_4964f_row178_col0\" class=\"data row178 col0\" >2025-03-02 07:46:00</td>\n",
       "      <td id=\"T_4964f_row178_col1\" class=\"data row178 col1\" >HD</td>\n",
       "      <td id=\"T_4964f_row178_col2\" class=\"data row178 col2\" >Motley Fool</td>\n",
       "      <td id=\"T_4964f_row178_col3\" class=\"data row178 col3\" >26 days ago</td>\n",
       "      <td id=\"T_4964f_row178_col4\" class=\"data row178 col4\" >Home Depot Is Turning the Corner. Time to Buy the Stock?</td>\n",
       "      <td id=\"T_4964f_row178_col5\" class=\"data row178 col5\" >Home Depot (NYSE: HD) is one of the best-performing stocks of all time.  Since the company's initial public offering (IPO) in 1981, its stock has grown from a small home improvement chain to one of the most valuable retailers in the world, pioneering a new retail model -- a big-box home improvement store.  Home Depot has thousands of stock-keeping units (SKUs) in its stores, making it difficult for smaller traditional hardware stores to compete, and its economies of scale help keep prices low.</td>\n",
       "      <td id=\"T_4964f_row178_col6\" class=\"data row178 col6\" >5</td>\n",
       "      <td id=\"T_4964f_row178_col7\" class=\"data row178 col7\" >5</td>\n",
       "      <td id=\"T_4964f_row178_col8\" class=\"data row178 col8\" >1</td>\n",
       "      <td id=\"T_4964f_row178_col9\" class=\"data row178 col9\" >5</td>\n",
       "    </tr>\n",
       "    <tr>\n",
       "      <th id=\"T_4964f_level0_row179\" class=\"row_heading level0 row179\" >2853</th>\n",
       "      <td id=\"T_4964f_row179_col0\" class=\"data row179 col0\" >2025-02-28 07:46:00</td>\n",
       "      <td id=\"T_4964f_row179_col1\" class=\"data row179 col1\" >HD</td>\n",
       "      <td id=\"T_4964f_row179_col2\" class=\"data row179 col2\" >TipRanks</td>\n",
       "      <td id=\"T_4964f_row179_col3\" class=\"data row179 col3\" >28 days ago</td>\n",
       "      <td id=\"T_4964f_row179_col4\" class=\"data row179 col4\" >Home Depot price target lowered to $424 from $431 at RBC Capital</td>\n",
       "      <td id=\"T_4964f_row179_col5\" class=\"data row179 col5\" >RBC Capital lowered the firm’s price target on Home Depot (HD) to $424 from $431 and keeps a Sector Perform rating on the shares after its Q4 results and outlook. The company’s initial 2025 guidance calling for EPS to fall 2% y/y is probably conservative, but solidifies the firm’s view that with housing trends stable, its earnings are now somewhat de-risked, the analyst tells investors in a research note. Published first on TheFly – the ultimate source for real-time, market-moving breaking finan</td>\n",
       "      <td id=\"T_4964f_row179_col6\" class=\"data row179 col6\" >1</td>\n",
       "      <td id=\"T_4964f_row179_col7\" class=\"data row179 col7\" >2</td>\n",
       "      <td id=\"T_4964f_row179_col8\" class=\"data row179 col8\" >5</td>\n",
       "      <td id=\"T_4964f_row179_col9\" class=\"data row179 col9\" >1</td>\n",
       "    </tr>\n",
       "    <tr>\n",
       "      <th id=\"T_4964f_level0_row180\" class=\"row_heading level0 row180\" >2863</th>\n",
       "      <td id=\"T_4964f_row180_col0\" class=\"data row180 col0\" >2025-02-27 07:46:00</td>\n",
       "      <td id=\"T_4964f_row180_col1\" class=\"data row180 col1\" >HD</td>\n",
       "      <td id=\"T_4964f_row180_col2\" class=\"data row180 col2\" >The Wall Street Journal</td>\n",
       "      <td id=\"T_4964f_row180_col3\" class=\"data row180 col3\" >29 days ago</td>\n",
       "      <td id=\"T_4964f_row180_col4\" class=\"data row180 col4\" >Lowe’s Reports Better-Than-Expected Quarterly Sales</td>\n",
       "      <td id=\"T_4964f_row180_col5\" class=\"data row180 col5\" >The home-improvement retailer reported a slight decline in overall sales, though not as sharp as feared by some on Wall Street.</td>\n",
       "      <td id=\"T_4964f_row180_col6\" class=\"data row180 col6\" >1</td>\n",
       "      <td id=\"T_4964f_row180_col7\" class=\"data row180 col7\" >5</td>\n",
       "      <td id=\"T_4964f_row180_col8\" class=\"data row180 col8\" >5</td>\n",
       "      <td id=\"T_4964f_row180_col9\" class=\"data row180 col9\" >1</td>\n",
       "    </tr>\n",
       "    <tr>\n",
       "      <th id=\"T_4964f_level0_row181\" class=\"row_heading level0 row181\" >2875</th>\n",
       "      <td id=\"T_4964f_row181_col0\" class=\"data row181 col0\" >2025-02-27 07:46:00</td>\n",
       "      <td id=\"T_4964f_row181_col1\" class=\"data row181 col1\" >HD</td>\n",
       "      <td id=\"T_4964f_row181_col2\" class=\"data row181 col2\" >Yahoo Finance</td>\n",
       "      <td id=\"T_4964f_row181_col3\" class=\"data row181 col3\" >29 days ago</td>\n",
       "      <td id=\"T_4964f_row181_col4\" class=\"data row181 col4\" >Lowe's Q4 earnings beat Wall Street estimates as same-store sales growth turns positive</td>\n",
       "      <td id=\"T_4964f_row181_col5\" class=\"data row181 col5\" >Lowe's seems to be slowly building momentum to kick-start 2025. But it sees a slower year ahead for sales growth.</td>\n",
       "      <td id=\"T_4964f_row181_col6\" class=\"data row181 col6\" >5</td>\n",
       "      <td id=\"T_4964f_row181_col7\" class=\"data row181 col7\" >5</td>\n",
       "      <td id=\"T_4964f_row181_col8\" class=\"data row181 col8\" >1</td>\n",
       "      <td id=\"T_4964f_row181_col9\" class=\"data row181 col9\" >1</td>\n",
       "    </tr>\n",
       "    <tr>\n",
       "      <th id=\"T_4964f_level0_row182\" class=\"row_heading level0 row182\" >2876</th>\n",
       "      <td id=\"T_4964f_row182_col0\" class=\"data row182 col0\" >2025-02-26 07:46:00</td>\n",
       "      <td id=\"T_4964f_row182_col1\" class=\"data row182 col1\" >HD</td>\n",
       "      <td id=\"T_4964f_row182_col2\" class=\"data row182 col2\" >Barrons.com</td>\n",
       "      <td id=\"T_4964f_row182_col3\" class=\"data row182 col3\" >30 days ago</td>\n",
       "      <td id=\"T_4964f_row182_col4\" class=\"data row182 col4\" >These Stocks Moved the Most Today: Super Micro, Tesla, Nvidia, Home Depot, Palantir, Hims & Hers, MicroStrategy, and More</td>\n",
       "      <td id=\"T_4964f_row182_col5\" class=\"data row182 col5\" >Super Micro stock slumps with the server maker having until Tuesday to file delayed financial accounts or risk being delisted by the Nasdaq stock exchange. Meanwhile, Tesla stock falls sharply, Home Depot’s fourth-quarter adjusted earnings beat analysts’ forecasts, and Palantir extends losses.</td>\n",
       "      <td id=\"T_4964f_row182_col6\" class=\"data row182 col6\" >1</td>\n",
       "      <td id=\"T_4964f_row182_col7\" class=\"data row182 col7\" >5</td>\n",
       "      <td id=\"T_4964f_row182_col8\" class=\"data row182 col8\" >5</td>\n",
       "      <td id=\"T_4964f_row182_col9\" class=\"data row182 col9\" >1</td>\n",
       "    </tr>\n",
       "    <tr>\n",
       "      <th id=\"T_4964f_level0_row183\" class=\"row_heading level0 row183\" >2881</th>\n",
       "      <td id=\"T_4964f_row183_col0\" class=\"data row183 col0\" >2025-02-26 07:46:00</td>\n",
       "      <td id=\"T_4964f_row183_col1\" class=\"data row183 col1\" >HD</td>\n",
       "      <td id=\"T_4964f_row183_col2\" class=\"data row183 col2\" >Yahoo Finance Video</td>\n",
       "      <td id=\"T_4964f_row183_col3\" class=\"data row183 col3\" >30 days ago</td>\n",
       "      <td id=\"T_4964f_row183_col4\" class=\"data row183 col4\" >What Home Depot earnings say about the housing market</td>\n",
       "      <td id=\"T_4964f_row183_col5\" class=\"data row183 col5\" >Home Depot (HD) reported a rise in same-store sales for the first time in eight quarters. Roofing, drywall, and lumber sales were notably up, and sales in hurricane-hit areas also increased. Yahoo Finance Senior Reporter Dani Romero joins Wealth host Brad Smith to discuss Home Depot's earnings and explain how these results reflect the current housing market, noting that high costs of home ownership have contributed to the existing home sales slump. Executives do not expect significant housing recovery in the near future. To watch more expert insights and analysis on the latest market action, check out more Wealth&nbsp;here. This post was written by Josh Lynch</td>\n",
       "      <td id=\"T_4964f_row183_col6\" class=\"data row183 col6\" >4</td>\n",
       "      <td id=\"T_4964f_row183_col7\" class=\"data row183 col7\" >1</td>\n",
       "      <td id=\"T_4964f_row183_col8\" class=\"data row183 col8\" >3</td>\n",
       "      <td id=\"T_4964f_row183_col9\" class=\"data row183 col9\" >5</td>\n",
       "    </tr>\n",
       "    <tr>\n",
       "      <th id=\"T_4964f_level0_row184\" class=\"row_heading level0 row184\" >2884</th>\n",
       "      <td id=\"T_4964f_row184_col0\" class=\"data row184 col0\" >2025-02-26 07:46:00</td>\n",
       "      <td id=\"T_4964f_row184_col1\" class=\"data row184 col1\" >HD</td>\n",
       "      <td id=\"T_4964f_row184_col2\" class=\"data row184 col2\" >MT Newswires</td>\n",
       "      <td id=\"T_4964f_row184_col3\" class=\"data row184 col3\" >30 days ago</td>\n",
       "      <td id=\"T_4964f_row184_col4\" class=\"data row184 col4\" >Top Midday Stories: Home Depot Shares Rise on Earnings Beat; Eli Lilly Launches Higher Single-Dose Vials of Zepbound at Lower Cost</td>\n",
       "      <td id=\"T_4964f_row184_col5\" class=\"data row184 col5\" >The S&P 500 Index and the Nasdaq Composite were both down in late-morning trading Tuesday after the</td>\n",
       "      <td id=\"T_4964f_row184_col6\" class=\"data row184 col6\" >1</td>\n",
       "      <td id=\"T_4964f_row184_col7\" class=\"data row184 col7\" >5</td>\n",
       "      <td id=\"T_4964f_row184_col8\" class=\"data row184 col8\" >1</td>\n",
       "      <td id=\"T_4964f_row184_col9\" class=\"data row184 col9\" >1</td>\n",
       "    </tr>\n",
       "    <tr>\n",
       "      <th id=\"T_4964f_level0_row185\" class=\"row_heading level0 row185\" >2885</th>\n",
       "      <td id=\"T_4964f_row185_col0\" class=\"data row185 col0\" >2025-02-26 07:46:00</td>\n",
       "      <td id=\"T_4964f_row185_col1\" class=\"data row185 col1\" >HD</td>\n",
       "      <td id=\"T_4964f_row185_col2\" class=\"data row185 col2\" >Motley Fool</td>\n",
       "      <td id=\"T_4964f_row185_col3\" class=\"data row185 col3\" >30 days ago</td>\n",
       "      <td id=\"T_4964f_row185_col4\" class=\"data row185 col4\" >Why Home Depot Stock Bounced Today</td>\n",
       "      <td id=\"T_4964f_row185_col5\" class=\"data row185 col5\" >Home Depot (NYSE: HD) provided mixed results with its fourth-quarter earnings and forward guidance today, but the stock is in rally mode.  The results brought somewhat of a relief rally after shares of the leading home improvement company declined by almost 8% in the past month.  Home Depot stock moved higher by 3.5% this morning as of 11:25 a.m. ET.</td>\n",
       "      <td id=\"T_4964f_row185_col6\" class=\"data row185 col6\" >2</td>\n",
       "      <td id=\"T_4964f_row185_col7\" class=\"data row185 col7\" >5</td>\n",
       "      <td id=\"T_4964f_row185_col8\" class=\"data row185 col8\" >5</td>\n",
       "      <td id=\"T_4964f_row185_col9\" class=\"data row185 col9\" >1</td>\n",
       "    </tr>\n",
       "    <tr>\n",
       "      <th id=\"T_4964f_level0_row186\" class=\"row_heading level0 row186\" >2888</th>\n",
       "      <td id=\"T_4964f_row186_col0\" class=\"data row186 col0\" >2025-02-26 07:46:00</td>\n",
       "      <td id=\"T_4964f_row186_col1\" class=\"data row186 col1\" >HD</td>\n",
       "      <td id=\"T_4964f_row186_col2\" class=\"data row186 col2\" >Yahoo Finance Video</td>\n",
       "      <td id=\"T_4964f_row186_col3\" class=\"data row186 col3\" >30 days ago</td>\n",
       "      <td id=\"T_4964f_row186_col4\" class=\"data row186 col4\" >Home Depot, retailers are beginning to 'set a lower bar': Analyst</td>\n",
       "      <td id=\"T_4964f_row186_col5\" class=\"data row186 col5\" >Home Depot (HD) stock is in positive territory Tuesday morning after topping fourth quarter estimates on revenue and earnings. While the home improvement retailer issued a cautious full-year outlook for 2025, it saw same-store sales grow by 0.8% and store foot traffic surge by 7.6% in the quarter. \"It's pretty clear, I think, from the call and from what we know about retailers in general, that companies want to sort of set a lower bar. That doesn't mean they're sandbagging it. January was a softer month than December, so they did see a little bit of a slowdown that plays into the guidance,\" D.A. Davidson managing director and senior research analyst Michael Baker tells the Catalysts team. Reacting to Home Depot CFO Richard McPhail's comments on interest rates, Baker explains to Seana Smith and Madison Mills that higher rates are \"a pressure point that's not getting any worse.\" The analyst also discusses what President Trump's tariffs could mean for Home Depot's business. Catch Yahoo Finance's Brooke DiPalma lay out the three biggest takeaways from Home Depot's earnings release. To watch more expert insights and analysis on the latest market action, check out more Catalysts&nbsp;here. This post was written by Luke Carberry Mogan.</td>\n",
       "      <td id=\"T_4964f_row186_col6\" class=\"data row186 col6\" >2</td>\n",
       "      <td id=\"T_4964f_row186_col7\" class=\"data row186 col7\" >5</td>\n",
       "      <td id=\"T_4964f_row186_col8\" class=\"data row186 col8\" >3</td>\n",
       "      <td id=\"T_4964f_row186_col9\" class=\"data row186 col9\" >1</td>\n",
       "    </tr>\n",
       "    <tr>\n",
       "      <th id=\"T_4964f_level0_row187\" class=\"row_heading level0 row187\" >2893</th>\n",
       "      <td id=\"T_4964f_row187_col0\" class=\"data row187 col0\" >2025-02-26 07:46:00</td>\n",
       "      <td id=\"T_4964f_row187_col1\" class=\"data row187 col1\" >HD</td>\n",
       "      <td id=\"T_4964f_row187_col2\" class=\"data row187 col2\" >CX Dive</td>\n",
       "      <td id=\"T_4964f_row187_col3\" class=\"data row187 col3\" >30 days ago</td>\n",
       "      <td id=\"T_4964f_row187_col4\" class=\"data row187 col4\" >Home Depot doubles down on pro customer experience</td>\n",
       "      <td id=\"T_4964f_row187_col5\" class=\"data row187 col5\" >Investments in the contractor experience drove more than $1 billion in annual incremental sales in 17 markets, executives said on a Q4 earnings call.</td>\n",
       "      <td id=\"T_4964f_row187_col6\" class=\"data row187 col6\" >1</td>\n",
       "      <td id=\"T_4964f_row187_col7\" class=\"data row187 col7\" >5</td>\n",
       "      <td id=\"T_4964f_row187_col8\" class=\"data row187 col8\" >5</td>\n",
       "      <td id=\"T_4964f_row187_col9\" class=\"data row187 col9\" >1</td>\n",
       "    </tr>\n",
       "    <tr>\n",
       "      <th id=\"T_4964f_level0_row188\" class=\"row_heading level0 row188\" >2895</th>\n",
       "      <td id=\"T_4964f_row188_col0\" class=\"data row188 col0\" >2025-02-26 07:46:00</td>\n",
       "      <td id=\"T_4964f_row188_col1\" class=\"data row188 col1\" >HD</td>\n",
       "      <td id=\"T_4964f_row188_col2\" class=\"data row188 col2\" >Yahoo Finance Video</td>\n",
       "      <td id=\"T_4964f_row188_col3\" class=\"data row188 col3\" >30 days ago</td>\n",
       "      <td id=\"T_4964f_row188_col4\" class=\"data row188 col4\" >Home Depot tops Q4 earnings estimates: 3 major takeaways</td>\n",
       "      <td id=\"T_4964f_row188_col5\" class=\"data row188 col5\" >Home improvement retailer Home Depot (HD) outpaced revenue and earnings forecasts for its fourth quarter, posting revenue of $39.7 billion (versus estimates of $39.13 billion) and an adjusted profit of $3.13 per share (versus estimates of $3.04). While US same-store sales grew when it was expected to decline in the fourth quarter, Home Depot reported that same-store sales also declined less than expected in the full-year 2024. Yahoo Finance senior retail reporter Brooke DiPalma comes on the Morning Brief to expand upon the biggest takeaways from Home Depot's earnings. In the company's earnings release, Home Depot CEO Edward Decker found there to be \"greater engagement in home improvement spend, despite ongoing pressure on large remodeling projects.\" Lowe's (LOW) is also scheduled to release its earnings results tomorrow, Wednesday, February 26. To watch more expert insights and analysis on the latest market action, check out more Morning Brief&nbsp;here. This post was written by Luke Carberry Mogan.</td>\n",
       "      <td id=\"T_4964f_row188_col6\" class=\"data row188 col6\" >1</td>\n",
       "      <td id=\"T_4964f_row188_col7\" class=\"data row188 col7\" >5</td>\n",
       "      <td id=\"T_4964f_row188_col8\" class=\"data row188 col8\" >3</td>\n",
       "      <td id=\"T_4964f_row188_col9\" class=\"data row188 col9\" >1</td>\n",
       "    </tr>\n",
       "    <tr>\n",
       "      <th id=\"T_4964f_level0_row189\" class=\"row_heading level0 row189\" >2897</th>\n",
       "      <td id=\"T_4964f_row189_col0\" class=\"data row189 col0\" >2025-02-26 07:46:00</td>\n",
       "      <td id=\"T_4964f_row189_col1\" class=\"data row189 col1\" >HD</td>\n",
       "      <td id=\"T_4964f_row189_col2\" class=\"data row189 col2\" >MT Newswires</td>\n",
       "      <td id=\"T_4964f_row189_col3\" class=\"data row189 col3\" >30 days ago</td>\n",
       "      <td id=\"T_4964f_row189_col4\" class=\"data row189 col4\" >Home Depot Issues Weak Full-Year Earnings Outlook Despite Fiscal Fourth-Quarter Beat</td>\n",
       "      <td id=\"T_4964f_row189_col5\" class=\"data row189 col5\" >Home Depot (HD) reported fiscal fourth-quarter results above Wall Street's estimates on Tuesday but</td>\n",
       "      <td id=\"T_4964f_row189_col6\" class=\"data row189 col6\" >1</td>\n",
       "      <td id=\"T_4964f_row189_col7\" class=\"data row189 col7\" >5</td>\n",
       "      <td id=\"T_4964f_row189_col8\" class=\"data row189 col8\" >1</td>\n",
       "      <td id=\"T_4964f_row189_col9\" class=\"data row189 col9\" >1</td>\n",
       "    </tr>\n",
       "    <tr>\n",
       "      <th id=\"T_4964f_level0_row190\" class=\"row_heading level0 row190\" >2918</th>\n",
       "      <td id=\"T_4964f_row190_col0\" class=\"data row190 col0\" >2025-02-26 07:46:00</td>\n",
       "      <td id=\"T_4964f_row190_col1\" class=\"data row190 col1\" >HD</td>\n",
       "      <td id=\"T_4964f_row190_col2\" class=\"data row190 col2\" >Yahoo Finance</td>\n",
       "      <td id=\"T_4964f_row190_col3\" class=\"data row190 col3\" >30 days ago</td>\n",
       "      <td id=\"T_4964f_row190_col4\" class=\"data row190 col4\" >Home Depot posts revenue beat as home improvement challenges come into focus</td>\n",
       "      <td id=\"T_4964f_row190_col5\" class=\"data row190 col5\" >The retailer is expected to remain under pressure from flagging demand for home improvement.</td>\n",
       "      <td id=\"T_4964f_row190_col6\" class=\"data row190 col6\" >5</td>\n",
       "      <td id=\"T_4964f_row190_col7\" class=\"data row190 col7\" >5</td>\n",
       "      <td id=\"T_4964f_row190_col8\" class=\"data row190 col8\" >1</td>\n",
       "      <td id=\"T_4964f_row190_col9\" class=\"data row190 col9\" >2</td>\n",
       "    </tr>\n",
       "    <tr>\n",
       "      <th id=\"T_4964f_level0_row191\" class=\"row_heading level0 row191\" >2934</th>\n",
       "      <td id=\"T_4964f_row191_col0\" class=\"data row191 col0\" >2025-02-28 07:46:00</td>\n",
       "      <td id=\"T_4964f_row191_col1\" class=\"data row191 col1\" >HD</td>\n",
       "      <td id=\"T_4964f_row191_col2\" class=\"data row191 col2\" >Simply Wall St.</td>\n",
       "      <td id=\"T_4964f_row191_col3\" class=\"data row191 col3\" >last month</td>\n",
       "      <td id=\"T_4964f_row191_col4\" class=\"data row191 col4\" >Home Depot (NYSE:HD) sheds 3.1% this week, as yearly returns fall more in line with earnings growth</td>\n",
       "      <td id=\"T_4964f_row191_col5\" class=\"data row191 col5\" >If you buy and hold a stock for many years, you'd hope to be making a profit. Better yet, you'd like to see the share...</td>\n",
       "      <td id=\"T_4964f_row191_col6\" class=\"data row191 col6\" >1</td>\n",
       "      <td id=\"T_4964f_row191_col7\" class=\"data row191 col7\" >5</td>\n",
       "      <td id=\"T_4964f_row191_col8\" class=\"data row191 col8\" >3</td>\n",
       "      <td id=\"T_4964f_row191_col9\" class=\"data row191 col9\" >1</td>\n",
       "    </tr>\n",
       "    <tr>\n",
       "      <th id=\"T_4964f_level0_row192\" class=\"row_heading level0 row192\" >2954</th>\n",
       "      <td id=\"T_4964f_row192_col0\" class=\"data row192 col0\" >2025-02-28 07:46:00</td>\n",
       "      <td id=\"T_4964f_row192_col1\" class=\"data row192 col1\" >HD</td>\n",
       "      <td id=\"T_4964f_row192_col2\" class=\"data row192 col2\" >Motley Fool</td>\n",
       "      <td id=\"T_4964f_row192_col3\" class=\"data row192 col3\" >last month</td>\n",
       "      <td id=\"T_4964f_row192_col4\" class=\"data row192 col4\" >Where Will Home Depot Stock Be in 1 Year?</td>\n",
       "      <td id=\"T_4964f_row192_col5\" class=\"data row192 col5\" >The real estate sector has been dragged down by high interest rates over the past few years.  Higher rates have affected many companies in many industries that are directly or indirectly impacted by a slow real estate market, including home improvement companies like Home Depot (NYSE: HD).  Home Depot has a long track record of excellence, and it pays an attractive dividend.</td>\n",
       "      <td id=\"T_4964f_row192_col6\" class=\"data row192 col6\" >1</td>\n",
       "      <td id=\"T_4964f_row192_col7\" class=\"data row192 col7\" >5</td>\n",
       "      <td id=\"T_4964f_row192_col8\" class=\"data row192 col8\" >5</td>\n",
       "      <td id=\"T_4964f_row192_col9\" class=\"data row192 col9\" >1</td>\n",
       "    </tr>\n",
       "    <tr>\n",
       "      <th id=\"T_4964f_level0_row193\" class=\"row_heading level0 row193\" >2955</th>\n",
       "      <td id=\"T_4964f_row193_col0\" class=\"data row193 col0\" >2025-02-28 07:46:00</td>\n",
       "      <td id=\"T_4964f_row193_col1\" class=\"data row193 col1\" >HD</td>\n",
       "      <td id=\"T_4964f_row193_col2\" class=\"data row193 col2\" >StockStory</td>\n",
       "      <td id=\"T_4964f_row193_col3\" class=\"data row193 col3\" >last month</td>\n",
       "      <td id=\"T_4964f_row193_col4\" class=\"data row193 col4\" >Home Furnishing and Improvement Retail Stocks Q3 Recap: Benchmarking Home Depot (NYSE:HD)</td>\n",
       "      <td id=\"T_4964f_row193_col5\" class=\"data row193 col5\" >Quarterly earnings results are a good time to check in on a company’s progress, especially compared to its peers in the same sector. Today we are looking at Home Depot (NYSE:HD) and the best and worst performers in the home furnishing and improvement retail industry.</td>\n",
       "      <td id=\"T_4964f_row193_col6\" class=\"data row193 col6\" >2</td>\n",
       "      <td id=\"T_4964f_row193_col7\" class=\"data row193 col7\" >5</td>\n",
       "      <td id=\"T_4964f_row193_col8\" class=\"data row193 col8\" >4</td>\n",
       "      <td id=\"T_4964f_row193_col9\" class=\"data row193 col9\" >1</td>\n",
       "    </tr>\n",
       "    <tr>\n",
       "      <th id=\"T_4964f_level0_row194\" class=\"row_heading level0 row194\" >2964</th>\n",
       "      <td id=\"T_4964f_row194_col0\" class=\"data row194 col0\" >2025-02-28 07:46:00</td>\n",
       "      <td id=\"T_4964f_row194_col1\" class=\"data row194 col1\" >HD</td>\n",
       "      <td id=\"T_4964f_row194_col2\" class=\"data row194 col2\" >Insider Monkey</td>\n",
       "      <td id=\"T_4964f_row194_col3\" class=\"data row194 col3\" >last month</td>\n",
       "      <td id=\"T_4964f_row194_col4\" class=\"data row194 col4\" >Why The Home Depot, Inc. (HD) Is Among the Best Long Term Low Risk Stocks to Buy Now</td>\n",
       "      <td id=\"T_4964f_row194_col5\" class=\"data row194 col5\" >We recently compiled a list of the 12 Best Long Term Low Risk Stocks to Buy Right Now. In this article, we are going to take a look at where The Home Depot, Inc. (NYSE:HD) stands against the other long term low risk stocks. As the DeepSeek craze ignites a sell-off in the tech sector, investors […]</td>\n",
       "      <td id=\"T_4964f_row194_col6\" class=\"data row194 col6\" >3</td>\n",
       "      <td id=\"T_4964f_row194_col7\" class=\"data row194 col7\" >5</td>\n",
       "      <td id=\"T_4964f_row194_col8\" class=\"data row194 col8\" >3</td>\n",
       "      <td id=\"T_4964f_row194_col9\" class=\"data row194 col9\" >1</td>\n",
       "    </tr>\n",
       "    <tr>\n",
       "      <th id=\"T_4964f_level0_row195\" class=\"row_heading level0 row195\" >2997</th>\n",
       "      <td id=\"T_4964f_row195_col0\" class=\"data row195 col0\" >2025-03-27 08:46:00</td>\n",
       "      <td id=\"T_4964f_row195_col1\" class=\"data row195 col1\" >NFLX</td>\n",
       "      <td id=\"T_4964f_row195_col2\" class=\"data row195 col2\" >TipRanks</td>\n",
       "      <td id=\"T_4964f_row195_col3\" class=\"data row195 col3\" >23 hours ago</td>\n",
       "      <td id=\"T_4964f_row195_col4\" class=\"data row195 col4\" >Closing Bell Movers: GameStop gains 7% on earnings, bitcoin announcement</td>\n",
       "      <td id=\"T_4964f_row195_col5\" class=\"data row195 col5\" >In the opening 90 minutes of the evening session, U.S. stock futures are up marginally – S&P500 is up 0.1% while Nasdaq 100 is up 0.2%. Earlier on Tuesday, Consumer Discretionary and Communications Services were the best performing sectors in the S&P500 – Google (GOOGL), Meta (META), and Netflix (NFLX) had over 1% gains among the mega-caps – while defensively-oriented Healthcare and Utilities underperformed. Investors have also shrugged the disappointing Consumer Confidence data with sentiment t</td>\n",
       "      <td id=\"T_4964f_row195_col6\" class=\"data row195 col6\" >5</td>\n",
       "      <td id=\"T_4964f_row195_col7\" class=\"data row195 col7\" >5</td>\n",
       "      <td id=\"T_4964f_row195_col8\" class=\"data row195 col8\" >1</td>\n",
       "      <td id=\"T_4964f_row195_col9\" class=\"data row195 col9\" >5</td>\n",
       "    </tr>\n",
       "    <tr>\n",
       "      <th id=\"T_4964f_level0_row196\" class=\"row_heading level0 row196\" >3001</th>\n",
       "      <td id=\"T_4964f_row196_col0\" class=\"data row196 col0\" >2025-03-26 07:46:00</td>\n",
       "      <td id=\"T_4964f_row196_col1\" class=\"data row196 col1\" >NFLX</td>\n",
       "      <td id=\"T_4964f_row196_col2\" class=\"data row196 col2\" >Investor's Business Daily</td>\n",
       "      <td id=\"T_4964f_row196_col3\" class=\"data row196 col3\" >2 days ago</td>\n",
       "      <td id=\"T_4964f_row196_col4\" class=\"data row196 col4\" >Heed Warnings, But Prepare Your Watchlist With 12 'Perfect' Stocks — Including Netflix</td>\n",
       "      <td id=\"T_4964f_row196_col5\" class=\"data row196 col5\" >As the market tries to rebound, Netflix leads a dozen names on this stock screener in or near buy range. But calls for caution remain.</td>\n",
       "      <td id=\"T_4964f_row196_col6\" class=\"data row196 col6\" >3</td>\n",
       "      <td id=\"T_4964f_row196_col7\" class=\"data row196 col7\" >2</td>\n",
       "      <td id=\"T_4964f_row196_col8\" class=\"data row196 col8\" >1</td>\n",
       "      <td id=\"T_4964f_row196_col9\" class=\"data row196 col9\" >5</td>\n",
       "    </tr>\n",
       "    <tr>\n",
       "      <th id=\"T_4964f_level0_row197\" class=\"row_heading level0 row197\" >3027</th>\n",
       "      <td id=\"T_4964f_row197_col0\" class=\"data row197 col0\" >2025-03-21 07:46:00</td>\n",
       "      <td id=\"T_4964f_row197_col1\" class=\"data row197 col1\" >NFLX</td>\n",
       "      <td id=\"T_4964f_row197_col2\" class=\"data row197 col2\" >GuruFocus.com</td>\n",
       "      <td id=\"T_4964f_row197_col3\" class=\"data row197 col3\" >7 days ago</td>\n",
       "      <td id=\"T_4964f_row197_col4\" class=\"data row197 col4\" >Apple's $1 Billion Streaming Sinkhole: Is This the Costliest Gamble in Tech?</td>\n",
       "      <td id=\"T_4964f_row197_col5\" class=\"data row197 col5\" >Apple TV+ is bleeding cash while rivals dominate--yet investors remain unfazed. Is Apple quietly rewriting the streaming playbook?</td>\n",
       "      <td id=\"T_4964f_row197_col6\" class=\"data row197 col6\" >1</td>\n",
       "      <td id=\"T_4964f_row197_col7\" class=\"data row197 col7\" >5</td>\n",
       "      <td id=\"T_4964f_row197_col8\" class=\"data row197 col8\" >2</td>\n",
       "      <td id=\"T_4964f_row197_col9\" class=\"data row197 col9\" >1</td>\n",
       "    </tr>\n",
       "    <tr>\n",
       "      <th id=\"T_4964f_level0_row198\" class=\"row_heading level0 row198\" >3047</th>\n",
       "      <td id=\"T_4964f_row198_col0\" class=\"data row198 col0\" >2025-03-18 07:46:00</td>\n",
       "      <td id=\"T_4964f_row198_col1\" class=\"data row198 col1\" >NFLX</td>\n",
       "      <td id=\"T_4964f_row198_col2\" class=\"data row198 col2\" >Investopedia</td>\n",
       "      <td id=\"T_4964f_row198_col3\" class=\"data row198 col3\" >10 days ago</td>\n",
       "      <td id=\"T_4964f_row198_col4\" class=\"data row198 col4\" >Top Stock Movers Now: Intel, Netflix, Incyte, and More</td>\n",
       "      <td id=\"T_4964f_row198_col5\" class=\"data row198 col5\" >U.S. equities were mixed at midday, with positive news on retail sales eased continuing concerns about tariffs.</td>\n",
       "      <td id=\"T_4964f_row198_col6\" class=\"data row198 col6\" >1</td>\n",
       "      <td id=\"T_4964f_row198_col7\" class=\"data row198 col7\" >5</td>\n",
       "      <td id=\"T_4964f_row198_col8\" class=\"data row198 col8\" >5</td>\n",
       "      <td id=\"T_4964f_row198_col9\" class=\"data row198 col9\" >1</td>\n",
       "    </tr>\n",
       "    <tr>\n",
       "      <th id=\"T_4964f_level0_row199\" class=\"row_heading level0 row199\" >3066</th>\n",
       "      <td id=\"T_4964f_row199_col0\" class=\"data row199 col0\" >2025-03-15 07:46:00</td>\n",
       "      <td id=\"T_4964f_row199_col1\" class=\"data row199 col1\" >NFLX</td>\n",
       "      <td id=\"T_4964f_row199_col2\" class=\"data row199 col2\" >Zacks</td>\n",
       "      <td id=\"T_4964f_row199_col3\" class=\"data row199 col3\" >13 days ago</td>\n",
       "      <td id=\"T_4964f_row199_col4\" class=\"data row199 col4\" >Wall Street Analysts Think Netflix (NFLX) Is a Good Investment: Is It?</td>\n",
       "      <td id=\"T_4964f_row199_col5\" class=\"data row199 col5\" >Based on the average brokerage recommendation (ABR), Netflix (NFLX) should be added to one's portfolio. Wall Street analysts' overly optimistic recommendations cast doubt on the effectiveness of this highly sought-after metric. So, is the stock worth buying?</td>\n",
       "      <td id=\"T_4964f_row199_col6\" class=\"data row199 col6\" >3</td>\n",
       "      <td id=\"T_4964f_row199_col7\" class=\"data row199 col7\" >1</td>\n",
       "      <td id=\"T_4964f_row199_col8\" class=\"data row199 col8\" >2</td>\n",
       "      <td id=\"T_4964f_row199_col9\" class=\"data row199 col9\" >5</td>\n",
       "    </tr>\n",
       "    <tr>\n",
       "      <th id=\"T_4964f_level0_row200\" class=\"row_heading level0 row200\" >3074</th>\n",
       "      <td id=\"T_4964f_row200_col0\" class=\"data row200 col0\" >2025-03-14 07:46:00</td>\n",
       "      <td id=\"T_4964f_row200_col1\" class=\"data row200 col1\" >NFLX</td>\n",
       "      <td id=\"T_4964f_row200_col2\" class=\"data row200 col2\" >Motley Fool</td>\n",
       "      <td id=\"T_4964f_row200_col3\" class=\"data row200 col3\" >14 days ago</td>\n",
       "      <td id=\"T_4964f_row200_col4\" class=\"data row200 col4\" >2 Stocks to Buy in a Tech Market Sell-Off</td>\n",
       "      <td id=\"T_4964f_row200_col5\" class=\"data row200 col5\" >Equities have not performed well since Donald Trump took office as the 47th U.S. president.  Let's consider two tech stocks that will become even more attractive if there is a full-blown market sell-off: Netflix (NASDAQ: NFLX) and Meta Platforms (NASDAQ: META).  Netflix is on fire.</td>\n",
       "      <td id=\"T_4964f_row200_col6\" class=\"data row200 col6\" >3</td>\n",
       "      <td id=\"T_4964f_row200_col7\" class=\"data row200 col7\" >5</td>\n",
       "      <td id=\"T_4964f_row200_col8\" class=\"data row200 col8\" >1</td>\n",
       "      <td id=\"T_4964f_row200_col9\" class=\"data row200 col9\" >1</td>\n",
       "    </tr>\n",
       "    <tr>\n",
       "      <th id=\"T_4964f_level0_row201\" class=\"row_heading level0 row201\" >3082</th>\n",
       "      <td id=\"T_4964f_row201_col0\" class=\"data row201 col0\" >2025-03-12 07:46:00</td>\n",
       "      <td id=\"T_4964f_row201_col1\" class=\"data row201 col1\" >NFLX</td>\n",
       "      <td id=\"T_4964f_row201_col2\" class=\"data row201 col2\" >Simply Wall St.</td>\n",
       "      <td id=\"T_4964f_row201_col3\" class=\"data row201 col3\" >16 days ago</td>\n",
       "      <td id=\"T_4964f_row201_col4\" class=\"data row201 col4\" >Netflix (NasdaqGS:NFLX) Sees 5% Dip Despite Strong Financial Results</td>\n",
       "      <td id=\"T_4964f_row201_col5\" class=\"data row201 col5\" >Netflix (NasdaqGS:NFLX) recently canceled its game project with Nitro Games, which some investors may perceive as a strategic realignment in its gaming approach. This development coincides with a quarter where Netflix experienced a share price decline of 5.11%, despite reporting strong financial results. The company's Q4 2024 earnings showed a significant increase in sales and net income compared to the previous year, along with ongoing share buybacks. However, these gains did not shield...</td>\n",
       "      <td id=\"T_4964f_row201_col6\" class=\"data row201 col6\" >1</td>\n",
       "      <td id=\"T_4964f_row201_col7\" class=\"data row201 col7\" >5</td>\n",
       "      <td id=\"T_4964f_row201_col8\" class=\"data row201 col8\" >5</td>\n",
       "      <td id=\"T_4964f_row201_col9\" class=\"data row201 col9\" >1</td>\n",
       "    </tr>\n",
       "    <tr>\n",
       "      <th id=\"T_4964f_level0_row202\" class=\"row_heading level0 row202\" >3084</th>\n",
       "      <td id=\"T_4964f_row202_col0\" class=\"data row202 col0\" >2025-03-12 07:46:00</td>\n",
       "      <td id=\"T_4964f_row202_col1\" class=\"data row202 col1\" >NFLX</td>\n",
       "      <td id=\"T_4964f_row202_col2\" class=\"data row202 col2\" >Zacks</td>\n",
       "      <td id=\"T_4964f_row202_col3\" class=\"data row202 col3\" >16 days ago</td>\n",
       "      <td id=\"T_4964f_row202_col4\" class=\"data row202 col4\" >Netflix (NFLX) Loses -15.66% in 4 Weeks, Here's Why a Trend Reversal May be Around the Corner</td>\n",
       "      <td id=\"T_4964f_row202_col5\" class=\"data row202 col5\" >Netflix (NFLX) has become technically an oversold stock now, which implies exhaustion of the heavy selling pressure on it. This, combined with strong agreement among Wall Street analysts in revising earnings estimates higher, indicates a potential trend reversal for the stock in the near term.</td>\n",
       "      <td id=\"T_4964f_row202_col6\" class=\"data row202 col6\" >1</td>\n",
       "      <td id=\"T_4964f_row202_col7\" class=\"data row202 col7\" >5</td>\n",
       "      <td id=\"T_4964f_row202_col8\" class=\"data row202 col8\" >4</td>\n",
       "      <td id=\"T_4964f_row202_col9\" class=\"data row202 col9\" >1</td>\n",
       "    </tr>\n",
       "    <tr>\n",
       "      <th id=\"T_4964f_level0_row203\" class=\"row_heading level0 row203\" >3107</th>\n",
       "      <td id=\"T_4964f_row203_col0\" class=\"data row203 col0\" >2025-03-04 07:46:00</td>\n",
       "      <td id=\"T_4964f_row203_col1\" class=\"data row203 col1\" >NFLX</td>\n",
       "      <td id=\"T_4964f_row203_col2\" class=\"data row203 col2\" >StockStory</td>\n",
       "      <td id=\"T_4964f_row203_col3\" class=\"data row203 col3\" >24 days ago</td>\n",
       "      <td id=\"T_4964f_row203_col4\" class=\"data row203 col4\" >1 High-Flying Stock on Our Buy List and 2 to Turn Down</td>\n",
       "      <td id=\"T_4964f_row203_col5\" class=\"data row203 col5\" >\"You get what you pay for\" often applies to expensive stocks with best-in-class business models and execution. While their quality can sometimes justify the premium, they typically experience elevated volatility during market downturns when expectations change.</td>\n",
       "      <td id=\"T_4964f_row203_col6\" class=\"data row203 col6\" >3</td>\n",
       "      <td id=\"T_4964f_row203_col7\" class=\"data row203 col7\" >5</td>\n",
       "      <td id=\"T_4964f_row203_col8\" class=\"data row203 col8\" >3</td>\n",
       "      <td id=\"T_4964f_row203_col9\" class=\"data row203 col9\" >1</td>\n",
       "    </tr>\n",
       "    <tr>\n",
       "      <th id=\"T_4964f_level0_row204\" class=\"row_heading level0 row204\" >3122</th>\n",
       "      <td id=\"T_4964f_row204_col0\" class=\"data row204 col0\" >2025-02-27 07:46:00</td>\n",
       "      <td id=\"T_4964f_row204_col1\" class=\"data row204 col1\" >NFLX</td>\n",
       "      <td id=\"T_4964f_row204_col2\" class=\"data row204 col2\" >Schaeffer's Investment Research</td>\n",
       "      <td id=\"T_4964f_row204_col3\" class=\"data row204 col3\" >29 days ago</td>\n",
       "      <td id=\"T_4964f_row204_col4\" class=\"data row204 col4\" >Netflix Stock Could Bounce Off Bullish Trendline</td>\n",
       "      <td id=\"T_4964f_row204_col5\" class=\"data row204 col5\" >Netflix stock could climb back towards its recent peak</td>\n",
       "      <td id=\"T_4964f_row204_col6\" class=\"data row204 col6\" >5</td>\n",
       "      <td id=\"T_4964f_row204_col7\" class=\"data row204 col7\" >5</td>\n",
       "      <td id=\"T_4964f_row204_col8\" class=\"data row204 col8\" >1</td>\n",
       "      <td id=\"T_4964f_row204_col9\" class=\"data row204 col9\" >5</td>\n",
       "    </tr>\n",
       "    <tr>\n",
       "      <th id=\"T_4964f_level0_row205\" class=\"row_heading level0 row205\" >3125</th>\n",
       "      <td id=\"T_4964f_row205_col0\" class=\"data row205 col0\" >2025-02-27 07:46:00</td>\n",
       "      <td id=\"T_4964f_row205_col1\" class=\"data row205 col1\" >NFLX</td>\n",
       "      <td id=\"T_4964f_row205_col2\" class=\"data row205 col2\" >Zacks</td>\n",
       "      <td id=\"T_4964f_row205_col3\" class=\"data row205 col3\" >29 days ago</td>\n",
       "      <td id=\"T_4964f_row205_col4\" class=\"data row205 col4\" >Netflix (NFLX) Is Considered a Good Investment by Brokers: Is That True?</td>\n",
       "      <td id=\"T_4964f_row205_col5\" class=\"data row205 col5\" >According to the average brokerage recommendation (ABR), one should invest in Netflix (NFLX). It is debatable whether this highly sought-after metric is effective because Wall Street analysts' recommendations tend to be overly optimistic. Would it be worth investing in the stock?</td>\n",
       "      <td id=\"T_4964f_row205_col6\" class=\"data row205 col6\" >3</td>\n",
       "      <td id=\"T_4964f_row205_col7\" class=\"data row205 col7\" >1</td>\n",
       "      <td id=\"T_4964f_row205_col8\" class=\"data row205 col8\" >3</td>\n",
       "      <td id=\"T_4964f_row205_col9\" class=\"data row205 col9\" >5</td>\n",
       "    </tr>\n",
       "    <tr>\n",
       "      <th id=\"T_4964f_level0_row206\" class=\"row_heading level0 row206\" >3137</th>\n",
       "      <td id=\"T_4964f_row206_col0\" class=\"data row206 col0\" >2025-02-28 07:46:00</td>\n",
       "      <td id=\"T_4964f_row206_col1\" class=\"data row206 col1\" >NFLX</td>\n",
       "      <td id=\"T_4964f_row206_col2\" class=\"data row206 col2\" >Motley Fool</td>\n",
       "      <td id=\"T_4964f_row206_col3\" class=\"data row206 col3\" >last month</td>\n",
       "      <td id=\"T_4964f_row206_col4\" class=\"data row206 col4\" >1 Spectacular Tech Stock Down 81% to Buy Hand Over Fist in February</td>\n",
       "      <td id=\"T_4964f_row206_col5\" class=\"data row206 col5\" >E-commerce specialist dLocal (NASDAQ: DLO) has a clear mission, and that is to \"enable global merchants to connect seamlessly with billions of emerging market users.\"  The Uruguay-based company connects merchants to more than 2 billion people in 40 countries (and counting) through more than 900 different local payment methods.  As a result, it is becoming a must-have for enterprises looking to grow in emerging markets.</td>\n",
       "      <td id=\"T_4964f_row206_col6\" class=\"data row206 col6\" >1</td>\n",
       "      <td id=\"T_4964f_row206_col7\" class=\"data row206 col7\" >5</td>\n",
       "      <td id=\"T_4964f_row206_col8\" class=\"data row206 col8\" >5</td>\n",
       "      <td id=\"T_4964f_row206_col9\" class=\"data row206 col9\" >1</td>\n",
       "    </tr>\n",
       "    <tr>\n",
       "      <th id=\"T_4964f_level0_row207\" class=\"row_heading level0 row207\" >3148</th>\n",
       "      <td id=\"T_4964f_row207_col0\" class=\"data row207 col0\" >2025-02-28 07:46:00</td>\n",
       "      <td id=\"T_4964f_row207_col1\" class=\"data row207 col1\" >NFLX</td>\n",
       "      <td id=\"T_4964f_row207_col2\" class=\"data row207 col2\" >Investor's Business Daily</td>\n",
       "      <td id=\"T_4964f_row207_col3\" class=\"data row207 col3\" >last month</td>\n",
       "      <td id=\"T_4964f_row207_col4\" class=\"data row207 col4\" >Dow Jones Futures Fall After S&P 500 Hits High Despite Meta, Amazon Slide; This Leader Breaks Out</td>\n",
       "      <td id=\"T_4964f_row207_col5\" class=\"data row207 col5\" >The S&P 500 hit a new high, led by growth, even as Meta Platforms, Amazon and other titans fell. Axon Enterprise broke out.</td>\n",
       "      <td id=\"T_4964f_row207_col6\" class=\"data row207 col6\" >1</td>\n",
       "      <td id=\"T_4964f_row207_col7\" class=\"data row207 col7\" >5</td>\n",
       "      <td id=\"T_4964f_row207_col8\" class=\"data row207 col8\" >4</td>\n",
       "      <td id=\"T_4964f_row207_col9\" class=\"data row207 col9\" >1</td>\n",
       "    </tr>\n",
       "    <tr>\n",
       "      <th id=\"T_4964f_level0_row208\" class=\"row_heading level0 row208\" >3158</th>\n",
       "      <td id=\"T_4964f_row208_col0\" class=\"data row208 col0\" >2025-02-28 07:46:00</td>\n",
       "      <td id=\"T_4964f_row208_col1\" class=\"data row208 col1\" >NFLX</td>\n",
       "      <td id=\"T_4964f_row208_col2\" class=\"data row208 col2\" >Motley Fool</td>\n",
       "      <td id=\"T_4964f_row208_col3\" class=\"data row208 col3\" >last month</td>\n",
       "      <td id=\"T_4964f_row208_col4\" class=\"data row208 col4\" >Surprise: McDonald's Has Higher Profit Margins Than Tesla, Apple, or Netflix</td>\n",
       "      <td id=\"T_4964f_row208_col5\" class=\"data row208 col5\" >Restaurants have notoriously low profit margins.  In fact, its profit margins are higher than prestigious businesses such as Tesla (NASDAQ: TSLA), Apple (NASDAQ: AAPL), and Netflix (NASDAQ: NFLX).  On Feb. 10, McDonald's reported finalized financial results for 2024.</td>\n",
       "      <td id=\"T_4964f_row208_col6\" class=\"data row208 col6\" >1</td>\n",
       "      <td id=\"T_4964f_row208_col7\" class=\"data row208 col7\" >5</td>\n",
       "      <td id=\"T_4964f_row208_col8\" class=\"data row208 col8\" >4</td>\n",
       "      <td id=\"T_4964f_row208_col9\" class=\"data row208 col9\" >1</td>\n",
       "    </tr>\n",
       "    <tr>\n",
       "      <th id=\"T_4964f_level0_row209\" class=\"row_heading level0 row209\" >3199</th>\n",
       "      <td id=\"T_4964f_row209_col0\" class=\"data row209 col0\" >2025-03-26 07:47:00</td>\n",
       "      <td id=\"T_4964f_row209_col1\" class=\"data row209 col1\" >CRM</td>\n",
       "      <td id=\"T_4964f_row209_col2\" class=\"data row209 col2\" >TipRanks</td>\n",
       "      <td id=\"T_4964f_row209_col3\" class=\"data row209 col3\" >2 days ago</td>\n",
       "      <td id=\"T_4964f_row209_col4\" class=\"data row209 col4\" >Why the Options Market Envisions Upside for Salesforce Stock (CRM)</td>\n",
       "      <td id=\"T_4964f_row209_col5\" class=\"data row209 col5\" >At first glance, enterprise software giant Salesforce (CRM) seems like a dubious investment. While there’s no denying its relevance, broader economic challenges have cast a dark shadow over the wider tech innovation space. Nevertheless, with Salesforce suffering a sizable drop over the past few months, the smart money appears to be moving in via astute options strategies. Therefore, I am bullish on CRM stock. CRM Stock Offers Relevance Despite Economic Turmoil Last year, investors couldn’t get e</td>\n",
       "      <td id=\"T_4964f_row209_col6\" class=\"data row209 col6\" >1</td>\n",
       "      <td id=\"T_4964f_row209_col7\" class=\"data row209 col7\" >5</td>\n",
       "      <td id=\"T_4964f_row209_col8\" class=\"data row209 col8\" >5</td>\n",
       "      <td id=\"T_4964f_row209_col9\" class=\"data row209 col9\" >1</td>\n",
       "    </tr>\n",
       "    <tr>\n",
       "      <th id=\"T_4964f_level0_row210\" class=\"row_heading level0 row210\" >3209</th>\n",
       "      <td id=\"T_4964f_row210_col0\" class=\"data row210 col0\" >2025-03-19 07:47:00</td>\n",
       "      <td id=\"T_4964f_row210_col1\" class=\"data row210 col1\" >CRM</td>\n",
       "      <td id=\"T_4964f_row210_col2\" class=\"data row210 col2\" >TipRanks</td>\n",
       "      <td id=\"T_4964f_row210_col3\" class=\"data row210 col3\" >9 days ago</td>\n",
       "      <td id=\"T_4964f_row210_col4\" class=\"data row210 col4\" >Salesforce price target lowered to $345 from $400 at Scotiabank</td>\n",
       "      <td id=\"T_4964f_row210_col5\" class=\"data row210 col5\" >Scotiabank lowered the firm’s price target on Salesforce (CRM) to $345 from $400 and keeps an Outperform rating on the shares. With demand trends worsening and recession odds rising, the firm favors market leaders in the software and services sector, specifically those with strong free cash flow that can benefit from AI, the analyst tells investors. Published first on TheFly – the ultimate source for real-time, market-moving breaking financial news. Try Now>> See the top stocks recommended by an</td>\n",
       "      <td id=\"T_4964f_row210_col6\" class=\"data row210 col6\" >2</td>\n",
       "      <td id=\"T_4964f_row210_col7\" class=\"data row210 col7\" >5</td>\n",
       "      <td id=\"T_4964f_row210_col8\" class=\"data row210 col8\" >3</td>\n",
       "      <td id=\"T_4964f_row210_col9\" class=\"data row210 col9\" >1</td>\n",
       "    </tr>\n",
       "    <tr>\n",
       "      <th id=\"T_4964f_level0_row211\" class=\"row_heading level0 row211\" >3211</th>\n",
       "      <td id=\"T_4964f_row211_col0\" class=\"data row211 col0\" >2025-03-18 07:47:00</td>\n",
       "      <td id=\"T_4964f_row211_col1\" class=\"data row211 col1\" >CRM</td>\n",
       "      <td id=\"T_4964f_row211_col2\" class=\"data row211 col2\" >Motley Fool</td>\n",
       "      <td id=\"T_4964f_row211_col3\" class=\"data row211 col3\" >10 days ago</td>\n",
       "      <td id=\"T_4964f_row211_col4\" class=\"data row211 col4\" >Market Sell-Off: 3 Tech Stocks You Can Buy and Hold for the Next Decade</td>\n",
       "      <td id=\"T_4964f_row211_col5\" class=\"data row211 col5\" >With the recent market sell-off, a number of high-quality technology stocks are well off their recent highs.  While market corrections aren't fun to experience, they also create opportunities for long-term investors.  Let's look at three tech stocks that investors can buy on this correction and hold for the next decade.</td>\n",
       "      <td id=\"T_4964f_row211_col6\" class=\"data row211 col6\" >3</td>\n",
       "      <td id=\"T_4964f_row211_col7\" class=\"data row211 col7\" >5</td>\n",
       "      <td id=\"T_4964f_row211_col8\" class=\"data row211 col8\" >3</td>\n",
       "      <td id=\"T_4964f_row211_col9\" class=\"data row211 col9\" >1</td>\n",
       "    </tr>\n",
       "    <tr>\n",
       "      <th id=\"T_4964f_level0_row212\" class=\"row_heading level0 row212\" >3215</th>\n",
       "      <td id=\"T_4964f_row212_col0\" class=\"data row212 col0\" >2025-03-16 07:47:00</td>\n",
       "      <td id=\"T_4964f_row212_col1\" class=\"data row212 col1\" >CRM</td>\n",
       "      <td id=\"T_4964f_row212_col2\" class=\"data row212 col2\" >Motley Fool</td>\n",
       "      <td id=\"T_4964f_row212_col3\" class=\"data row212 col3\" >12 days ago</td>\n",
       "      <td id=\"T_4964f_row212_col4\" class=\"data row212 col4\" >5 Red-Hot Growth Stocks to Buy in 2025</td>\n",
       "      <td id=\"T_4964f_row212_col5\" class=\"data row212 col5\" >With the Nasdaq Composite down more than 13% from all-time highs reached in late 2024, this market sell-off is creating some potentially nice long-term buying opportunities in the technology sector.  Let's look at five growth stocks investors might want to consider scooping up during this dip.  Nvidia (NASDAQ: NVDA) is the leader in artificial intelligence (AI) infrastructure, where its graphic processing units (GPUs) help provide the processing power needed to train AI models and run inference.</td>\n",
       "      <td id=\"T_4964f_row212_col6\" class=\"data row212 col6\" >1</td>\n",
       "      <td id=\"T_4964f_row212_col7\" class=\"data row212 col7\" >5</td>\n",
       "      <td id=\"T_4964f_row212_col8\" class=\"data row212 col8\" >5</td>\n",
       "      <td id=\"T_4964f_row212_col9\" class=\"data row212 col9\" >1</td>\n",
       "    </tr>\n",
       "    <tr>\n",
       "      <th id=\"T_4964f_level0_row213\" class=\"row_heading level0 row213\" >3220</th>\n",
       "      <td id=\"T_4964f_row213_col0\" class=\"data row213 col0\" >2025-03-14 07:47:00</td>\n",
       "      <td id=\"T_4964f_row213_col1\" class=\"data row213 col1\" >CRM</td>\n",
       "      <td id=\"T_4964f_row213_col2\" class=\"data row213 col2\" >Insider Monkey</td>\n",
       "      <td id=\"T_4964f_row213_col3\" class=\"data row213 col3\" >14 days ago</td>\n",
       "      <td id=\"T_4964f_row213_col4\" class=\"data row213 col4\" >Salesforce, Inc. (CRM): A Bull Case Theory</td>\n",
       "      <td id=\"T_4964f_row213_col5\" class=\"data row213 col5\" >We came across a bullish thesis on Salesforce, Inc. (CRM) on Twitter by TechFundies. In this article, we will summarize the bulls’ thesis on CRM. Salesforce, Inc. (CRM)’s share was trading at $284.58 as of March 12th. CRM’s trailing and forward P/E were 44.75 and 25.58 respectively according to Yahoo Finance. Salesforce (CRM) reported a lackluster […]</td>\n",
       "      <td id=\"T_4964f_row213_col6\" class=\"data row213 col6\" >1</td>\n",
       "      <td id=\"T_4964f_row213_col7\" class=\"data row213 col7\" >5</td>\n",
       "      <td id=\"T_4964f_row213_col8\" class=\"data row213 col8\" >1</td>\n",
       "      <td id=\"T_4964f_row213_col9\" class=\"data row213 col9\" >1</td>\n",
       "    </tr>\n",
       "    <tr>\n",
       "      <th id=\"T_4964f_level0_row214\" class=\"row_heading level0 row214\" >3225</th>\n",
       "      <td id=\"T_4964f_row214_col0\" class=\"data row214 col0\" >2025-03-13 07:47:00</td>\n",
       "      <td id=\"T_4964f_row214_col1\" class=\"data row214 col1\" >CRM</td>\n",
       "      <td id=\"T_4964f_row214_col2\" class=\"data row214 col2\" >Simply Wall St.</td>\n",
       "      <td id=\"T_4964f_row214_col3\" class=\"data row214 col3\" >15 days ago</td>\n",
       "      <td id=\"T_4964f_row214_col4\" class=\"data row214 col4\" >Are Salesforce, Inc.'s (NYSE:CRM) Fundamentals Good Enough to Warrant Buying Given The Stock's Recent Weakness?</td>\n",
       "      <td id=\"T_4964f_row214_col5\" class=\"data row214 col5\" >It is hard to get excited after looking at Salesforce's (NYSE:CRM) recent performance, when its stock has declined 22...</td>\n",
       "      <td id=\"T_4964f_row214_col6\" class=\"data row214 col6\" >1</td>\n",
       "      <td id=\"T_4964f_row214_col7\" class=\"data row214 col7\" >5</td>\n",
       "      <td id=\"T_4964f_row214_col8\" class=\"data row214 col8\" >1</td>\n",
       "      <td id=\"T_4964f_row214_col9\" class=\"data row214 col9\" >1</td>\n",
       "    </tr>\n",
       "    <tr>\n",
       "      <th id=\"T_4964f_level0_row215\" class=\"row_heading level0 row215\" >3232</th>\n",
       "      <td id=\"T_4964f_row215_col0\" class=\"data row215 col0\" >2025-03-11 07:47:00</td>\n",
       "      <td id=\"T_4964f_row215_col1\" class=\"data row215 col1\" >CRM</td>\n",
       "      <td id=\"T_4964f_row215_col2\" class=\"data row215 col2\" >Insider Monkey</td>\n",
       "      <td id=\"T_4964f_row215_col3\" class=\"data row215 col3\" >17 days ago</td>\n",
       "      <td id=\"T_4964f_row215_col4\" class=\"data row215 col4\" >Salesforce (CRM) Reaffirmed ‘Buy’ as AI-Powered Agentforce Gains Traction</td>\n",
       "      <td id=\"T_4964f_row215_col5\" class=\"data row215 col5\" >We recently compiled a list of the 10 AI Stocks That Wall Street Is Betting On. In this article, we are going to take a look at where Salesforce, Inc. (NYSE:CRM) stands against the other AI stocks. Elon Musk has been pressing hard to halt OpenAI’s transition into a for-profit entity. But the high-stakes legal battle […]</td>\n",
       "      <td id=\"T_4964f_row215_col6\" class=\"data row215 col6\" >3</td>\n",
       "      <td id=\"T_4964f_row215_col7\" class=\"data row215 col7\" >5</td>\n",
       "      <td id=\"T_4964f_row215_col8\" class=\"data row215 col8\" >1</td>\n",
       "      <td id=\"T_4964f_row215_col9\" class=\"data row215 col9\" >4</td>\n",
       "    </tr>\n",
       "    <tr>\n",
       "      <th id=\"T_4964f_level0_row216\" class=\"row_heading level0 row216\" >3257</th>\n",
       "      <td id=\"T_4964f_row216_col0\" class=\"data row216 col0\" >2025-03-06 07:47:00</td>\n",
       "      <td id=\"T_4964f_row216_col1\" class=\"data row216 col1\" >CRM</td>\n",
       "      <td id=\"T_4964f_row216_col2\" class=\"data row216 col2\" >Simply Wall St.</td>\n",
       "      <td id=\"T_4964f_row216_col3\" class=\"data row216 col3\" >22 days ago</td>\n",
       "      <td id=\"T_4964f_row216_col4\" class=\"data row216 col4\" >Statutory Profit Doesn't Reflect How Good Salesforce's (NYSE:CRM) Earnings Are</td>\n",
       "      <td id=\"T_4964f_row216_col5\" class=\"data row216 col5\" >Investors were underwhelmed by the solid earnings posted by Salesforce, Inc. ( NYSE:CRM ) recently. Our analysis says...</td>\n",
       "      <td id=\"T_4964f_row216_col6\" class=\"data row216 col6\" >4</td>\n",
       "      <td id=\"T_4964f_row216_col7\" class=\"data row216 col7\" >5</td>\n",
       "      <td id=\"T_4964f_row216_col8\" class=\"data row216 col8\" >5</td>\n",
       "      <td id=\"T_4964f_row216_col9\" class=\"data row216 col9\" >1</td>\n",
       "    </tr>\n",
       "    <tr>\n",
       "      <th id=\"T_4964f_level0_row217\" class=\"row_heading level0 row217\" >3272</th>\n",
       "      <td id=\"T_4964f_row217_col0\" class=\"data row217 col0\" >2025-02-28 07:47:00</td>\n",
       "      <td id=\"T_4964f_row217_col1\" class=\"data row217 col1\" >CRM</td>\n",
       "      <td id=\"T_4964f_row217_col2\" class=\"data row217 col2\" >Investopedia</td>\n",
       "      <td id=\"T_4964f_row217_col3\" class=\"data row217 col3\" >28 days ago</td>\n",
       "      <td id=\"T_4964f_row217_col4\" class=\"data row217 col4\" >Why Analysts Are Bullish After Salesforce Earnings Missed Estimates</td>\n",
       "      <td id=\"T_4964f_row217_col5\" class=\"data row217 col5\" >Morgan Stanley analysts said Salesforce stock has “significant room for upside” this year despite the company's weaker-than-expected earnings and outlook.</td>\n",
       "      <td id=\"T_4964f_row217_col6\" class=\"data row217 col6\" >1</td>\n",
       "      <td id=\"T_4964f_row217_col7\" class=\"data row217 col7\" >5</td>\n",
       "      <td id=\"T_4964f_row217_col8\" class=\"data row217 col8\" >5</td>\n",
       "      <td id=\"T_4964f_row217_col9\" class=\"data row217 col9\" >1</td>\n",
       "    </tr>\n",
       "    <tr>\n",
       "      <th id=\"T_4964f_level0_row218\" class=\"row_heading level0 row218\" >3277</th>\n",
       "      <td id=\"T_4964f_row218_col0\" class=\"data row218 col0\" >2025-02-28 07:47:00</td>\n",
       "      <td id=\"T_4964f_row218_col1\" class=\"data row218 col1\" >CRM</td>\n",
       "      <td id=\"T_4964f_row218_col2\" class=\"data row218 col2\" >Yahoo Finance Video</td>\n",
       "      <td id=\"T_4964f_row218_col3\" class=\"data row218 col3\" >28 days ago</td>\n",
       "      <td id=\"T_4964f_row218_col4\" class=\"data row218 col4\" >Nvidia, Snowflake, Salesforce: Market Minute</td>\n",
       "      <td id=\"T_4964f_row218_col5\" class=\"data row218 col5\" >In today's Market Minute, host Josh Lipton highlights the top moving stocks on Yahoo Finance Thursday morning. Nvidia (NVDA) stock is declining despite the company exceeding expectations in its fourth quarter results. Investors appear concerned about the semiconductor giant's gross margin forecast, overshadowing the otherwise strong performance. Snowflake (SNOW) shares are surging after the company provided better-than-expected revenue growth projections for 2026, driven by continued strong demand for its artificial intelligence (AI) products. Meanwhile, Salesforce (CRM) shares are dropping following the company's disappointing outlook for fiscal year 2025. Even with the introduction of its AI product Agentforce, the company expects only a \"modest\" increase in overall revenue in the near term. Stay up to date on the latest market action, minute-by-minute, with&nbsp;Yahoo Finance's Market Minute. This post was written by Angel Smith</td>\n",
       "      <td id=\"T_4964f_row218_col6\" class=\"data row218 col6\" >1</td>\n",
       "      <td id=\"T_4964f_row218_col7\" class=\"data row218 col7\" >5</td>\n",
       "      <td id=\"T_4964f_row218_col8\" class=\"data row218 col8\" >5</td>\n",
       "      <td id=\"T_4964f_row218_col9\" class=\"data row218 col9\" >1</td>\n",
       "    </tr>\n",
       "    <tr>\n",
       "      <th id=\"T_4964f_level0_row219\" class=\"row_heading level0 row219\" >3280</th>\n",
       "      <td id=\"T_4964f_row219_col0\" class=\"data row219 col0\" >2025-02-28 07:47:00</td>\n",
       "      <td id=\"T_4964f_row219_col1\" class=\"data row219 col1\" >CRM</td>\n",
       "      <td id=\"T_4964f_row219_col2\" class=\"data row219 col2\" >GuruFocus.com</td>\n",
       "      <td id=\"T_4964f_row219_col3\" class=\"data row219 col3\" >28 days ago</td>\n",
       "      <td id=\"T_4964f_row219_col4\" class=\"data row219 col4\" >Salesforce Drops 3.7%--Wall Street Sees AI Goldmine, But One Analyst Says It's Overvalued</td>\n",
       "      <td id=\"T_4964f_row219_col5\" class=\"data row219 col5\" >Salesforce's AI-powered Agentforce is gaining momentum, but its stock just took a hit. Should investors buy the dip?</td>\n",
       "      <td id=\"T_4964f_row219_col6\" class=\"data row219 col6\" >2</td>\n",
       "      <td id=\"T_4964f_row219_col7\" class=\"data row219 col7\" >5</td>\n",
       "      <td id=\"T_4964f_row219_col8\" class=\"data row219 col8\" >1</td>\n",
       "      <td id=\"T_4964f_row219_col9\" class=\"data row219 col9\" >1</td>\n",
       "    </tr>\n",
       "    <tr>\n",
       "      <th id=\"T_4964f_level0_row220\" class=\"row_heading level0 row220\" >3282</th>\n",
       "      <td id=\"T_4964f_row220_col0\" class=\"data row220 col0\" >2025-02-28 07:47:00</td>\n",
       "      <td id=\"T_4964f_row220_col1\" class=\"data row220 col1\" >CRM</td>\n",
       "      <td id=\"T_4964f_row220_col2\" class=\"data row220 col2\" >Yahoo Finance Video</td>\n",
       "      <td id=\"T_4964f_row220_col3\" class=\"data row220 col3\" >28 days ago</td>\n",
       "      <td id=\"T_4964f_row220_col4\" class=\"data row220 col4\" >Salesforce's Agentforce won't contribute much to 2025 revenue</td>\n",
       "      <td id=\"T_4964f_row220_col5\" class=\"data row220 col5\" >Salesforce's (CRM) disappointing outlook for 2025 is related to its new artificial intelligence (AI) product, Agentforce, being expected to only modestly contribute to revenue. Yahoo Finance Executive Editor Brian Sozzi joins Morning Brief hosts Seana Smith and Brad Smith to discuss his interview with Salesforce CEO Marc Benioff. While some analysts have cut price targets, many maintain a Buy rating, anticipating stronger results from Agentforce next year. To watch more expert insights and analysis on the latest market action, check out more Morning Brief&nbsp;here. This post was written by Josh Lynch</td>\n",
       "      <td id=\"T_4964f_row220_col6\" class=\"data row220 col6\" >3</td>\n",
       "      <td id=\"T_4964f_row220_col7\" class=\"data row220 col7\" >5</td>\n",
       "      <td id=\"T_4964f_row220_col8\" class=\"data row220 col8\" >4</td>\n",
       "      <td id=\"T_4964f_row220_col9\" class=\"data row220 col9\" >1</td>\n",
       "    </tr>\n",
       "    <tr>\n",
       "      <th id=\"T_4964f_level0_row221\" class=\"row_heading level0 row221\" >3283</th>\n",
       "      <td id=\"T_4964f_row221_col0\" class=\"data row221 col0\" >2025-02-28 07:47:00</td>\n",
       "      <td id=\"T_4964f_row221_col1\" class=\"data row221 col1\" >CRM</td>\n",
       "      <td id=\"T_4964f_row221_col2\" class=\"data row221 col2\" >Bloomberg</td>\n",
       "      <td id=\"T_4964f_row221_col3\" class=\"data row221 col3\" >28 days ago</td>\n",
       "      <td id=\"T_4964f_row221_col4\" class=\"data row221 col4\" >Salesforce Gives Tepid Outlook While Touting AI; Shares Decline</td>\n",
       "      <td id=\"T_4964f_row221_col5\" class=\"data row221 col5\" >(Bloomberg) -- Salesforce Inc. gave a fiscal-year revenue forecast that fell short of estimates, dimming optimism that the company’s new artificial intelligence product would spur faster sales growth.Most Read from BloombergCuts to Section 8 Housing Assistance Loom Amid HUD UncertaintyHow Upzoning in Cambridge Broke the YIMBY MoldRemembering the Landscape Architect Who Embraced the CityNYC Office Buildings See Resurgence as Investors Pile Into BondsHong Kong Joins Global Stadium Race With New $4</td>\n",
       "      <td id=\"T_4964f_row221_col6\" class=\"data row221 col6\" >1</td>\n",
       "      <td id=\"T_4964f_row221_col7\" class=\"data row221 col7\" >1</td>\n",
       "      <td id=\"T_4964f_row221_col8\" class=\"data row221 col8\" >5</td>\n",
       "      <td id=\"T_4964f_row221_col9\" class=\"data row221 col9\" >1</td>\n",
       "    </tr>\n",
       "    <tr>\n",
       "      <th id=\"T_4964f_level0_row222\" class=\"row_heading level0 row222\" >3295</th>\n",
       "      <td id=\"T_4964f_row222_col0\" class=\"data row222 col0\" >2025-02-27 07:47:00</td>\n",
       "      <td id=\"T_4964f_row222_col1\" class=\"data row222 col1\" >CRM</td>\n",
       "      <td id=\"T_4964f_row222_col2\" class=\"data row222 col2\" >Motley Fool</td>\n",
       "      <td id=\"T_4964f_row222_col3\" class=\"data row222 col3\" >29 days ago</td>\n",
       "      <td id=\"T_4964f_row222_col4\" class=\"data row222 col4\" >CRM: AI Questions Not Yet Fully Answered</td>\n",
       "      <td id=\"T_4964f_row222_col5\" class=\"data row222 col5\" >Salesforce posted nearly 8% revenue growth and 21% growth in earnings per share in the last three months of its fiscal 2025, but the revenue number fell a bit short of expectations.  The company, a maker of a range of customer management and related corporate software tools, said it was the highest-cash-flow-quarter in corporate history.  Much of the focus these days is on Agentforce, Salesforce's AI-powered tools that are designed to solve multistep problems without human supervision.</td>\n",
       "      <td id=\"T_4964f_row222_col6\" class=\"data row222 col6\" >4</td>\n",
       "      <td id=\"T_4964f_row222_col7\" class=\"data row222 col7\" >5</td>\n",
       "      <td id=\"T_4964f_row222_col8\" class=\"data row222 col8\" >5</td>\n",
       "      <td id=\"T_4964f_row222_col9\" class=\"data row222 col9\" >1</td>\n",
       "    </tr>\n",
       "    <tr>\n",
       "      <th id=\"T_4964f_level0_row223\" class=\"row_heading level0 row223\" >3298</th>\n",
       "      <td id=\"T_4964f_row223_col0\" class=\"data row223 col0\" >2025-02-27 07:47:00</td>\n",
       "      <td id=\"T_4964f_row223_col1\" class=\"data row223 col1\" >CRM</td>\n",
       "      <td id=\"T_4964f_row223_col2\" class=\"data row223 col2\" >The Wall Street Journal</td>\n",
       "      <td id=\"T_4964f_row223_col3\" class=\"data row223 col3\" >29 days ago</td>\n",
       "      <td id=\"T_4964f_row223_col4\" class=\"data row223 col4\" >Salesforce Shares Fall After Revenue Outlook Misses</td>\n",
       "      <td id=\"T_4964f_row223_col5\" class=\"data row223 col5\" >The customer-relationship management company posted a higher profit and revenue for the fourth quarter.</td>\n",
       "      <td id=\"T_4964f_row223_col6\" class=\"data row223 col6\" >1</td>\n",
       "      <td id=\"T_4964f_row223_col7\" class=\"data row223 col7\" >1</td>\n",
       "      <td id=\"T_4964f_row223_col8\" class=\"data row223 col8\" >5</td>\n",
       "      <td id=\"T_4964f_row223_col9\" class=\"data row223 col9\" >1</td>\n",
       "    </tr>\n",
       "    <tr>\n",
       "      <th id=\"T_4964f_level0_row224\" class=\"row_heading level0 row224\" >3303</th>\n",
       "      <td id=\"T_4964f_row224_col0\" class=\"data row224 col0\" >2025-02-27 07:47:00</td>\n",
       "      <td id=\"T_4964f_row224_col1\" class=\"data row224 col1\" >CRM</td>\n",
       "      <td id=\"T_4964f_row224_col2\" class=\"data row224 col2\" >StockStory</td>\n",
       "      <td id=\"T_4964f_row224_col3\" class=\"data row224 col3\" >29 days ago</td>\n",
       "      <td id=\"T_4964f_row224_col4\" class=\"data row224 col4\" >Salesforce (NYSE:CRM) Reports Sales Below Analyst Estimates In Q4 Earnings</td>\n",
       "      <td id=\"T_4964f_row224_col5\" class=\"data row224 col5\" >Customer relationship management software maker Salesforce (NYSE:CRM) missed Wall Street’s revenue expectations in Q4 CY2024, but sales rose 7.6% year on year to $9.99 billion. Next quarter’s revenue guidance of $9.74 billion underwhelmed, coming in 1.7% below analysts’ estimates. Its non-GAAP profit of $2.78 per share was 6.4% above analysts’ consensus estimates.</td>\n",
       "      <td id=\"T_4964f_row224_col6\" class=\"data row224 col6\" >4</td>\n",
       "      <td id=\"T_4964f_row224_col7\" class=\"data row224 col7\" >1</td>\n",
       "      <td id=\"T_4964f_row224_col8\" class=\"data row224 col8\" >5</td>\n",
       "      <td id=\"T_4964f_row224_col9\" class=\"data row224 col9\" >1</td>\n",
       "    </tr>\n",
       "    <tr>\n",
       "      <th id=\"T_4964f_level0_row225\" class=\"row_heading level0 row225\" >3314</th>\n",
       "      <td id=\"T_4964f_row225_col0\" class=\"data row225 col0\" >2025-02-26 07:47:00</td>\n",
       "      <td id=\"T_4964f_row225_col1\" class=\"data row225 col1\" >CRM</td>\n",
       "      <td id=\"T_4964f_row225_col2\" class=\"data row225 col2\" >Insider Monkey</td>\n",
       "      <td id=\"T_4964f_row225_col3\" class=\"data row225 col3\" >30 days ago</td>\n",
       "      <td id=\"T_4964f_row225_col4\" class=\"data row225 col4\" >Salesforce (CRM) Analyst Update: AI-Powered Growth Faces Competitive Challenges</td>\n",
       "      <td id=\"T_4964f_row225_col5\" class=\"data row225 col5\" >We recently published a list of 10 AI Stocks Taking Wall Street by Storm. In this article, we are going to take a look at where Salesforce, Inc. (NYSE:CRM) stands against other AI stocks taking Wall Street by storm. The race to gain a competitive edge in the generative artificial intelligence industry fiercely continues, and […]</td>\n",
       "      <td id=\"T_4964f_row225_col6\" class=\"data row225 col6\" >3</td>\n",
       "      <td id=\"T_4964f_row225_col7\" class=\"data row225 col7\" >1</td>\n",
       "      <td id=\"T_4964f_row225_col8\" class=\"data row225 col8\" >3</td>\n",
       "      <td id=\"T_4964f_row225_col9\" class=\"data row225 col9\" >5</td>\n",
       "    </tr>\n",
       "    <tr>\n",
       "      <th id=\"T_4964f_level0_row226\" class=\"row_heading level0 row226\" >3317</th>\n",
       "      <td id=\"T_4964f_row226_col0\" class=\"data row226 col0\" >2025-02-26 07:47:00</td>\n",
       "      <td id=\"T_4964f_row226_col1\" class=\"data row226 col1\" >CRM</td>\n",
       "      <td id=\"T_4964f_row226_col2\" class=\"data row226 col2\" >Insider Monkey</td>\n",
       "      <td id=\"T_4964f_row226_col3\" class=\"data row226 col3\" >30 days ago</td>\n",
       "      <td id=\"T_4964f_row226_col4\" class=\"data row226 col4\" >Salesforce, Inc. (CRM) Secures Strong Analyst Backing Amid AI Expansion Plans</td>\n",
       "      <td id=\"T_4964f_row226_col5\" class=\"data row226 col5\" >We recently published a list of 10 AI News Updates Making Waves on Wall Street. In this article, we are going to take a look at where Salesforce, Inc. (NYSE:CRM) stands against the other AI news stocks making waves on Wall Street. OpenAI has recently said that it has removed accounts of users from China […]</td>\n",
       "      <td id=\"T_4964f_row226_col6\" class=\"data row226 col6\" >1</td>\n",
       "      <td id=\"T_4964f_row226_col7\" class=\"data row226 col7\" >5</td>\n",
       "      <td id=\"T_4964f_row226_col8\" class=\"data row226 col8\" >3</td>\n",
       "      <td id=\"T_4964f_row226_col9\" class=\"data row226 col9\" >1</td>\n",
       "    </tr>\n",
       "    <tr>\n",
       "      <th id=\"T_4964f_level0_row227\" class=\"row_heading level0 row227\" >3369</th>\n",
       "      <td id=\"T_4964f_row227_col0\" class=\"data row227 col0\" >2025-02-28 07:47:00</td>\n",
       "      <td id=\"T_4964f_row227_col1\" class=\"data row227 col1\" >CRM</td>\n",
       "      <td id=\"T_4964f_row227_col2\" class=\"data row227 col2\" >Simply Wall St.</td>\n",
       "      <td id=\"T_4964f_row227_col3\" class=\"data row227 col3\" >last month</td>\n",
       "      <td id=\"T_4964f_row227_col4\" class=\"data row227 col4\" >Institutional investors may overlook Salesforce, Inc.'s (NYSE:CRM) recent US$19b market cap drop as long-term gains remain positive</td>\n",
       "      <td id=\"T_4964f_row227_col5\" class=\"data row227 col5\" >Key Insights Institutions' substantial holdings in Salesforce implies that they have significant influence over the...</td>\n",
       "      <td id=\"T_4964f_row227_col6\" class=\"data row227 col6\" >1</td>\n",
       "      <td id=\"T_4964f_row227_col7\" class=\"data row227 col7\" >5</td>\n",
       "      <td id=\"T_4964f_row227_col8\" class=\"data row227 col8\" >4</td>\n",
       "      <td id=\"T_4964f_row227_col9\" class=\"data row227 col9\" >1</td>\n",
       "    </tr>\n",
       "    <tr>\n",
       "      <th id=\"T_4964f_level0_row228\" class=\"row_heading level0 row228\" >3394</th>\n",
       "      <td id=\"T_4964f_row228_col0\" class=\"data row228 col0\" >2025-03-27 07:47:00</td>\n",
       "      <td id=\"T_4964f_row228_col1\" class=\"data row228 col1\" >BAC</td>\n",
       "      <td id=\"T_4964f_row228_col2\" class=\"data row228 col2\" >The Wall Street Journal</td>\n",
       "      <td id=\"T_4964f_row228_col3\" class=\"data row228 col3\" >yesterday</td>\n",
       "      <td id=\"T_4964f_row228_col4\" class=\"data row228 col4\" >Comex Gold Settles 0.09% Lower at $3020.90</td>\n",
       "      <td id=\"T_4964f_row228_col5\" class=\"data row228 col5\" >Gold settled nearly 0.1% lower, down three of the past four sessions, and silver rose nearly 0.1%, up for a second consecutive session.</td>\n",
       "      <td id=\"T_4964f_row228_col6\" class=\"data row228 col6\" >1</td>\n",
       "      <td id=\"T_4964f_row228_col7\" class=\"data row228 col7\" >5</td>\n",
       "      <td id=\"T_4964f_row228_col8\" class=\"data row228 col8\" >5</td>\n",
       "      <td id=\"T_4964f_row228_col9\" class=\"data row228 col9\" >1</td>\n",
       "    </tr>\n",
       "    <tr>\n",
       "      <th id=\"T_4964f_level0_row229\" class=\"row_heading level0 row229\" >3399</th>\n",
       "      <td id=\"T_4964f_row229_col0\" class=\"data row229 col0\" >2025-03-27 07:47:00</td>\n",
       "      <td id=\"T_4964f_row229_col1\" class=\"data row229 col1\" >BAC</td>\n",
       "      <td id=\"T_4964f_row229_col2\" class=\"data row229 col2\" >Reuters</td>\n",
       "      <td id=\"T_4964f_row229_col3\" class=\"data row229 col3\" >yesterday</td>\n",
       "      <td id=\"T_4964f_row229_col4\" class=\"data row229 col4\" >Wall Street bonuses jump 32% as total surges to record, NY comptroller says</td>\n",
       "      <td id=\"T_4964f_row229_col5\" class=\"data row229 col5\" >NEW YORK (Reuters) -Wall Street banker bonuses rose 31.5% to an average $244,700 last year as dealmaking rebounded, but the boom times may wane as economic uncertainty rises, New York State Comptroller Thomas DiNapoli said on Wednesday.  Deals have slowed this quarter as companies navigate changing policies from President Donald Trump's administration, including tariffs and personnel changes atop regulatory agencies.  \"This financial market strength is good news for New York's economy and our fiscal position, which relies on the tax revenue it generates,\" DiNapoli said in a statement.</td>\n",
       "      <td id=\"T_4964f_row229_col6\" class=\"data row229 col6\" >1</td>\n",
       "      <td id=\"T_4964f_row229_col7\" class=\"data row229 col7\" >5</td>\n",
       "      <td id=\"T_4964f_row229_col8\" class=\"data row229 col8\" >5</td>\n",
       "      <td id=\"T_4964f_row229_col9\" class=\"data row229 col9\" >1</td>\n",
       "    </tr>\n",
       "    <tr>\n",
       "      <th id=\"T_4964f_level0_row230\" class=\"row_heading level0 row230\" >3408</th>\n",
       "      <td id=\"T_4964f_row230_col0\" class=\"data row230 col0\" >2025-03-23 07:47:00</td>\n",
       "      <td id=\"T_4964f_row230_col1\" class=\"data row230 col1\" >BAC</td>\n",
       "      <td id=\"T_4964f_row230_col2\" class=\"data row230 col2\" >Simply Wall St.</td>\n",
       "      <td id=\"T_4964f_row230_col3\" class=\"data row230 col3\" >5 days ago</td>\n",
       "      <td id=\"T_4964f_row230_col4\" class=\"data row230 col4\" >Bank of America's (NYSE:BAC) five-year earnings growth trails the 17% YoY shareholder returns</td>\n",
       "      <td id=\"T_4964f_row230_col5\" class=\"data row230 col5\" >When you buy and hold a stock for the long term, you definitely want it to provide a positive return. But more than...</td>\n",
       "      <td id=\"T_4964f_row230_col6\" class=\"data row230 col6\" >5</td>\n",
       "      <td id=\"T_4964f_row230_col7\" class=\"data row230 col7\" >1</td>\n",
       "      <td id=\"T_4964f_row230_col8\" class=\"data row230 col8\" >3</td>\n",
       "      <td id=\"T_4964f_row230_col9\" class=\"data row230 col9\" >5</td>\n",
       "    </tr>\n",
       "    <tr>\n",
       "      <th id=\"T_4964f_level0_row231\" class=\"row_heading level0 row231\" >3413</th>\n",
       "      <td id=\"T_4964f_row231_col0\" class=\"data row231 col0\" >2025-03-21 07:47:00</td>\n",
       "      <td id=\"T_4964f_row231_col1\" class=\"data row231 col1\" >BAC</td>\n",
       "      <td id=\"T_4964f_row231_col2\" class=\"data row231 col2\" >Insider Monkey</td>\n",
       "      <td id=\"T_4964f_row231_col3\" class=\"data row231 col3\" >7 days ago</td>\n",
       "      <td id=\"T_4964f_row231_col4\" class=\"data row231 col4\" >Bank of America (BAC): One of the Best Low Priced Dividend Stocks to Buy Now</td>\n",
       "      <td id=\"T_4964f_row231_col5\" class=\"data row231 col5\" >We recently published a list of 15 Best Low Priced Dividend Stocks to Buy Now. In this article, we are going to take a look at where Bank of America Corporation (NYSE:BAC) stands against other best low priced dividend stocks to buy now. Concerns over an escalating trade war and rising geopolitical tensions have triggered […]</td>\n",
       "      <td id=\"T_4964f_row231_col6\" class=\"data row231 col6\" >3</td>\n",
       "      <td id=\"T_4964f_row231_col7\" class=\"data row231 col7\" >5</td>\n",
       "      <td id=\"T_4964f_row231_col8\" class=\"data row231 col8\" >1</td>\n",
       "      <td id=\"T_4964f_row231_col9\" class=\"data row231 col9\" >1</td>\n",
       "    </tr>\n",
       "    <tr>\n",
       "      <th id=\"T_4964f_level0_row232\" class=\"row_heading level0 row232\" >3415</th>\n",
       "      <td id=\"T_4964f_row232_col0\" class=\"data row232 col0\" >2025-03-21 07:47:00</td>\n",
       "      <td id=\"T_4964f_row232_col1\" class=\"data row232 col1\" >BAC</td>\n",
       "      <td id=\"T_4964f_row232_col2\" class=\"data row232 col2\" >Motley Fool</td>\n",
       "      <td id=\"T_4964f_row232_col3\" class=\"data row232 col3\" >7 days ago</td>\n",
       "      <td id=\"T_4964f_row232_col4\" class=\"data row232 col4\" >Why Carvana Stock Is Surging Today</td>\n",
       "      <td id=\"T_4964f_row232_col5\" class=\"data row232 col5\" >Carvana (NYSE: CVNA) stock is posting big gains in Thursday's trading thanks to bullish analyst coverage.  Before the market opened this morning, Piper Sandler published new coverage on Carvana and upgraded its rating on the stock.  Bank of America also issued coverage suggesting that Carvana is unlikely to face big pressures from Amazon's entry into the auto market.</td>\n",
       "      <td id=\"T_4964f_row232_col6\" class=\"data row232 col6\" >5</td>\n",
       "      <td id=\"T_4964f_row232_col7\" class=\"data row232 col7\" >5</td>\n",
       "      <td id=\"T_4964f_row232_col8\" class=\"data row232 col8\" >1</td>\n",
       "      <td id=\"T_4964f_row232_col9\" class=\"data row232 col9\" >5</td>\n",
       "    </tr>\n",
       "    <tr>\n",
       "      <th id=\"T_4964f_level0_row233\" class=\"row_heading level0 row233\" >3425</th>\n",
       "      <td id=\"T_4964f_row233_col0\" class=\"data row233 col0\" >2025-03-18 07:47:00</td>\n",
       "      <td id=\"T_4964f_row233_col1\" class=\"data row233 col1\" >BAC</td>\n",
       "      <td id=\"T_4964f_row233_col2\" class=\"data row233 col2\" >Insider Monkey</td>\n",
       "      <td id=\"T_4964f_row233_col3\" class=\"data row233 col3\" >10 days ago</td>\n",
       "      <td id=\"T_4964f_row233_col4\" class=\"data row233 col4\" >Why Bank of America Corporation (BAC) is One of the Best Strong Buy Stocks to Buy Right Now</td>\n",
       "      <td id=\"T_4964f_row233_col5\" class=\"data row233 col5\" >We recently published a list of the 10 Best Strong Buy Stocks To Buy Right Now. In this article, we are going to take a look at where Bank of America Corporation (NYSE:BAC) stands against the other best strong buy stocks to buy right now. Fears of a slowing economy have hit stocks recently, along […]</td>\n",
       "      <td id=\"T_4964f_row233_col6\" class=\"data row233 col6\" >3</td>\n",
       "      <td id=\"T_4964f_row233_col7\" class=\"data row233 col7\" >5</td>\n",
       "      <td id=\"T_4964f_row233_col8\" class=\"data row233 col8\" >1</td>\n",
       "      <td id=\"T_4964f_row233_col9\" class=\"data row233 col9\" >1</td>\n",
       "    </tr>\n",
       "    <tr>\n",
       "      <th id=\"T_4964f_level0_row234\" class=\"row_heading level0 row234\" >3432</th>\n",
       "      <td id=\"T_4964f_row234_col0\" class=\"data row234 col0\" >2025-03-18 07:47:00</td>\n",
       "      <td id=\"T_4964f_row234_col1\" class=\"data row234 col1\" >BAC</td>\n",
       "      <td id=\"T_4964f_row234_col2\" class=\"data row234 col2\" >Insider Monkey</td>\n",
       "      <td id=\"T_4964f_row234_col3\" class=\"data row234 col3\" >10 days ago</td>\n",
       "      <td id=\"T_4964f_row234_col4\" class=\"data row234 col4\" >Bank of America Corporation (BAC) Rose on Improved Sentiment Around Banks</td>\n",
       "      <td id=\"T_4964f_row234_col5\" class=\"data row234 col5\" >Diamond Hill Capital, an investment management company, released its “Large Cap Concentrated Fund” fourth-quarter 2024 investor letter. A copy of the letter can be downloaded here. Q4 saw an uneven increase in markets, capping off yet another strong year for the markets. Stocks broadly increased after the US election, but some gave up most or […]</td>\n",
       "      <td id=\"T_4964f_row234_col6\" class=\"data row234 col6\" >5</td>\n",
       "      <td id=\"T_4964f_row234_col7\" class=\"data row234 col7\" >5</td>\n",
       "      <td id=\"T_4964f_row234_col8\" class=\"data row234 col8\" >1</td>\n",
       "      <td id=\"T_4964f_row234_col9\" class=\"data row234 col9\" >5</td>\n",
       "    </tr>\n",
       "    <tr>\n",
       "      <th id=\"T_4964f_level0_row235\" class=\"row_heading level0 row235\" >3476</th>\n",
       "      <td id=\"T_4964f_row235_col0\" class=\"data row235 col0\" >2025-02-28 07:47:00</td>\n",
       "      <td id=\"T_4964f_row235_col1\" class=\"data row235 col1\" >BAC</td>\n",
       "      <td id=\"T_4964f_row235_col2\" class=\"data row235 col2\" >Bloomberg</td>\n",
       "      <td id=\"T_4964f_row235_col3\" class=\"data row235 col3\" >28 days ago</td>\n",
       "      <td id=\"T_4964f_row235_col4\" class=\"data row235 col4\" >Treasury Yields Linger Near 2025 Lows on Economic Doubts</td>\n",
       "      <td id=\"T_4964f_row235_col5\" class=\"data row235 col5\" >(Bloomberg) -- US government bonds trimmed their losses late in Thursday trading as equities came under pressure, leaving yields near the lowest levels since December.Most Read from BloombergCuts to Section 8 Housing Assistance Loom Amid HUD UncertaintyThe Trump Administration Takes Aim at Transportation ResearchShelters Await Billions in Federal Money for Homelessness ProvidersNYC’s Congestion Pricing Pulls In $48.6 Million in First MonthNYC Office Buildings See Resurgence as Investors Pile Int</td>\n",
       "      <td id=\"T_4964f_row235_col6\" class=\"data row235 col6\" >1</td>\n",
       "      <td id=\"T_4964f_row235_col7\" class=\"data row235 col7\" >5</td>\n",
       "      <td id=\"T_4964f_row235_col8\" class=\"data row235 col8\" >5</td>\n",
       "      <td id=\"T_4964f_row235_col9\" class=\"data row235 col9\" >1</td>\n",
       "    </tr>\n",
       "    <tr>\n",
       "      <th id=\"T_4964f_level0_row236\" class=\"row_heading level0 row236\" >3497</th>\n",
       "      <td id=\"T_4964f_row236_col0\" class=\"data row236 col0\" >2025-02-28 07:47:00</td>\n",
       "      <td id=\"T_4964f_row236_col1\" class=\"data row236 col1\" >BAC</td>\n",
       "      <td id=\"T_4964f_row236_col2\" class=\"data row236 col2\" >The Wall Street Journal</td>\n",
       "      <td id=\"T_4964f_row236_col3\" class=\"data row236 col3\" >last month</td>\n",
       "      <td id=\"T_4964f_row236_col4\" class=\"data row236 col4\" >Canadian Bank Earnings to Land Under Cloud of Trade Uncertainty</td>\n",
       "      <td id=\"T_4964f_row236_col5\" class=\"data row236 col5\" >Analysts expect the group to post modest earnings growth, but threats of U.S. tariffs cloudy the remainder of fiscal 2025.</td>\n",
       "      <td id=\"T_4964f_row236_col6\" class=\"data row236 col6\" >5</td>\n",
       "      <td id=\"T_4964f_row236_col7\" class=\"data row236 col7\" >1</td>\n",
       "      <td id=\"T_4964f_row236_col8\" class=\"data row236 col8\" >1</td>\n",
       "      <td id=\"T_4964f_row236_col9\" class=\"data row236 col9\" >5</td>\n",
       "    </tr>\n",
       "    <tr>\n",
       "      <th id=\"T_4964f_level0_row237\" class=\"row_heading level0 row237\" >3530</th>\n",
       "      <td id=\"T_4964f_row237_col0\" class=\"data row237 col0\" >2025-02-28 07:47:00</td>\n",
       "      <td id=\"T_4964f_row237_col1\" class=\"data row237 col1\" >BAC</td>\n",
       "      <td id=\"T_4964f_row237_col2\" class=\"data row237 col2\" >Zacks</td>\n",
       "      <td id=\"T_4964f_row237_col3\" class=\"data row237 col3\" >last month</td>\n",
       "      <td id=\"T_4964f_row237_col4\" class=\"data row237 col4\" >JPM Expects Q1 IB Fees to Rise by Mid-Teens, NII to Trough by Mid-2025</td>\n",
       "      <td id=\"T_4964f_row237_col5\" class=\"data row237 col5\" >JPMorgan provides an upbeat Q1 outlook for IB and markets revenues. The company also reiterates that NII is expected to trough by the middle of the year.</td>\n",
       "      <td id=\"T_4964f_row237_col6\" class=\"data row237 col6\" >1</td>\n",
       "      <td id=\"T_4964f_row237_col7\" class=\"data row237 col7\" >5</td>\n",
       "      <td id=\"T_4964f_row237_col8\" class=\"data row237 col8\" >5</td>\n",
       "      <td id=\"T_4964f_row237_col9\" class=\"data row237 col9\" >1</td>\n",
       "    </tr>\n",
       "    <tr>\n",
       "      <th id=\"T_4964f_level0_row238\" class=\"row_heading level0 row238\" >3553</th>\n",
       "      <td id=\"T_4964f_row238_col0\" class=\"data row238 col0\" >2025-02-28 07:47:00</td>\n",
       "      <td id=\"T_4964f_row238_col1\" class=\"data row238 col1\" >BAC</td>\n",
       "      <td id=\"T_4964f_row238_col2\" class=\"data row238 col2\" >Zacks</td>\n",
       "      <td id=\"T_4964f_row238_col3\" class=\"data row238 col3\" >last month</td>\n",
       "      <td id=\"T_4964f_row238_col4\" class=\"data row238 col4\" >Wall Street Analysts Think Bank of America (BAC) Is a Good Investment: Is It?</td>\n",
       "      <td id=\"T_4964f_row238_col5\" class=\"data row238 col5\" >The average brokerage recommendation (ABR) for Bank of America (BAC) is equivalent to a Buy. The overly optimistic recommendations of Wall Street analysts make the effectiveness of this highly sought-after metric questionable. So, is it worth buying the stock?</td>\n",
       "      <td id=\"T_4964f_row238_col6\" class=\"data row238 col6\" >3</td>\n",
       "      <td id=\"T_4964f_row238_col7\" class=\"data row238 col7\" >1</td>\n",
       "      <td id=\"T_4964f_row238_col8\" class=\"data row238 col8\" >3</td>\n",
       "      <td id=\"T_4964f_row238_col9\" class=\"data row238 col9\" >5</td>\n",
       "    </tr>\n",
       "    <tr>\n",
       "      <th id=\"T_4964f_level0_row239\" class=\"row_heading level0 row239\" >3559</th>\n",
       "      <td id=\"T_4964f_row239_col0\" class=\"data row239 col0\" >2025-02-28 07:47:00</td>\n",
       "      <td id=\"T_4964f_row239_col1\" class=\"data row239 col1\" >BAC</td>\n",
       "      <td id=\"T_4964f_row239_col2\" class=\"data row239 col2\" >Yahoo Finance</td>\n",
       "      <td id=\"T_4964f_row239_col3\" class=\"data row239 col3\" >last month</td>\n",
       "      <td id=\"T_4964f_row239_col4\" class=\"data row239 col4\" >Warren says Trump was 'on to a real problem' when he blasted BofA for debanking customers</td>\n",
       "      <td id=\"T_4964f_row239_col5\" class=\"data row239 col5\" >Donald Trump and the GOP have a surprising new ally in their push to clamp down on 'debanking': Elizabeth Warren.</td>\n",
       "      <td id=\"T_4964f_row239_col6\" class=\"data row239 col6\" >4</td>\n",
       "      <td id=\"T_4964f_row239_col7\" class=\"data row239 col7\" >1</td>\n",
       "      <td id=\"T_4964f_row239_col8\" class=\"data row239 col8\" >2</td>\n",
       "      <td id=\"T_4964f_row239_col9\" class=\"data row239 col9\" >5</td>\n",
       "    </tr>\n",
       "    <tr>\n",
       "      <th id=\"T_4964f_level0_row240\" class=\"row_heading level0 row240\" >3570</th>\n",
       "      <td id=\"T_4964f_row240_col0\" class=\"data row240 col0\" >2025-02-28 07:47:00</td>\n",
       "      <td id=\"T_4964f_row240_col1\" class=\"data row240 col1\" >BAC</td>\n",
       "      <td id=\"T_4964f_row240_col2\" class=\"data row240 col2\" >Barrons.com</td>\n",
       "      <td id=\"T_4964f_row240_col3\" class=\"data row240 col3\" >last month</td>\n",
       "      <td id=\"T_4964f_row240_col4\" class=\"data row240 col4\" >DeepSeek Tripped Up ‘Momentum’ Stocks, Too. Here Are New Plays for the Strategy.</td>\n",
       "      <td id=\"T_4964f_row240_col5\" class=\"data row240 col5\" >Investors betting on the “momentum” strategy have had it good lately—until this week.  Momentum investors buy stocks that have outperformed in the recent past, in a bet that their upward momentum will continue in the near future.  “The sell-off in the long Momentum factor on Monday was…the third-largest decline in 40 years,” wrote  JPMorgan  strategist Dubravko Lakos-Bujas in a note Tuesday.</td>\n",
       "      <td id=\"T_4964f_row240_col6\" class=\"data row240 col6\" >1</td>\n",
       "      <td id=\"T_4964f_row240_col7\" class=\"data row240 col7\" >5</td>\n",
       "      <td id=\"T_4964f_row240_col8\" class=\"data row240 col8\" >3</td>\n",
       "      <td id=\"T_4964f_row240_col9\" class=\"data row240 col9\" >1</td>\n",
       "    </tr>\n",
       "    <tr>\n",
       "      <th id=\"T_4964f_level0_row241\" class=\"row_heading level0 row241\" >3586</th>\n",
       "      <td id=\"T_4964f_row241_col0\" class=\"data row241 col0\" >2025-02-28 07:47:00</td>\n",
       "      <td id=\"T_4964f_row241_col1\" class=\"data row241 col1\" >BAC</td>\n",
       "      <td id=\"T_4964f_row241_col2\" class=\"data row241 col2\" >The Wall Street Journal</td>\n",
       "      <td id=\"T_4964f_row241_col3\" class=\"data row241 col3\" >last month</td>\n",
       "      <td id=\"T_4964f_row241_col4\" class=\"data row241 col4\" >Trump Adds Fuel to Claims That Big Banks Discriminate Against Conservatives</td>\n",
       "      <td id=\"T_4964f_row241_col5\" class=\"data row241 col5\" >The president has told Bank of America and JPMorgan Chase to stop cutting conservatives off from doing business.</td>\n",
       "      <td id=\"T_4964f_row241_col6\" class=\"data row241 col6\" >1</td>\n",
       "      <td id=\"T_4964f_row241_col7\" class=\"data row241 col7\" >5</td>\n",
       "      <td id=\"T_4964f_row241_col8\" class=\"data row241 col8\" >1</td>\n",
       "      <td id=\"T_4964f_row241_col9\" class=\"data row241 col9\" >1</td>\n",
       "    </tr>\n",
       "    <tr>\n",
       "      <th id=\"T_4964f_level0_row242\" class=\"row_heading level0 row242\" >3599</th>\n",
       "      <td id=\"T_4964f_row242_col0\" class=\"data row242 col0\" >2025-03-27 17:47:00</td>\n",
       "      <td id=\"T_4964f_row242_col1\" class=\"data row242 col1\" >BA</td>\n",
       "      <td id=\"T_4964f_row242_col2\" class=\"data row242 col2\" >StockStory</td>\n",
       "      <td id=\"T_4964f_row242_col3\" class=\"data row242 col3\" >14 hours ago</td>\n",
       "      <td id=\"T_4964f_row242_col4\" class=\"data row242 col4\" >Aerospace Stocks Q4 Results: Benchmarking Hexcel (NYSE:HXL)</td>\n",
       "      <td id=\"T_4964f_row242_col5\" class=\"data row242 col5\" >As the Q4 earnings season comes to a close, it’s time to take stock of this quarter’s best and worst performers in the aerospace industry, including Hexcel (NYSE:HXL) and its peers.</td>\n",
       "      <td id=\"T_4964f_row242_col6\" class=\"data row242 col6\" >2</td>\n",
       "      <td id=\"T_4964f_row242_col7\" class=\"data row242 col7\" >5</td>\n",
       "      <td id=\"T_4964f_row242_col8\" class=\"data row242 col8\" >4</td>\n",
       "      <td id=\"T_4964f_row242_col9\" class=\"data row242 col9\" >1</td>\n",
       "    </tr>\n",
       "    <tr>\n",
       "      <th id=\"T_4964f_level0_row243\" class=\"row_heading level0 row243\" >3600</th>\n",
       "      <td id=\"T_4964f_row243_col0\" class=\"data row243 col0\" >2025-03-27 07:47:00</td>\n",
       "      <td id=\"T_4964f_row243_col1\" class=\"data row243 col1\" >BA</td>\n",
       "      <td id=\"T_4964f_row243_col2\" class=\"data row243 col2\" >Motley Fool</td>\n",
       "      <td id=\"T_4964f_row243_col3\" class=\"data row243 col3\" >yesterday</td>\n",
       "      <td id=\"T_4964f_row243_col4\" class=\"data row243 col4\" >Boeing Stock: Bull vs. Bear; 2 Wall Street Analysts Battle It Out</td>\n",
       "      <td id=\"T_4964f_row243_col5\" class=\"data row243 col5\" >Boeing (NYSE: BA) has become a battleground among investors and Wall Street analysts.  As the Wells Fargo analyst notes, Boeing is nowhere near the outlook given on its investor day in 2025.  The outlook's cornerstone was that Boeing would hit $10 billion in free cash flow (FCF) in the 2025/2026 time frame.</td>\n",
       "      <td id=\"T_4964f_row243_col6\" class=\"data row243 col6\" >1</td>\n",
       "      <td id=\"T_4964f_row243_col7\" class=\"data row243 col7\" >5</td>\n",
       "      <td id=\"T_4964f_row243_col8\" class=\"data row243 col8\" >3</td>\n",
       "      <td id=\"T_4964f_row243_col9\" class=\"data row243 col9\" >1</td>\n",
       "    </tr>\n",
       "    <tr>\n",
       "      <th id=\"T_4964f_level0_row244\" class=\"row_heading level0 row244\" >3605</th>\n",
       "      <td id=\"T_4964f_row244_col0\" class=\"data row244 col0\" >2025-03-27 07:47:00</td>\n",
       "      <td id=\"T_4964f_row244_col1\" class=\"data row244 col1\" >BA</td>\n",
       "      <td id=\"T_4964f_row244_col2\" class=\"data row244 col2\" >GuruFocus.com</td>\n",
       "      <td id=\"T_4964f_row244_col3\" class=\"data row244 col3\" >yesterday</td>\n",
       "      <td id=\"T_4964f_row244_col4\" class=\"data row244 col4\" >Boeing Just Stole Lockheed's Crown--And Wall Street's Watching</td>\n",
       "      <td id=\"T_4964f_row244_col5\" class=\"data row244 col5\" >A shocking defense win, a $7B market swing, and a potential comeback story investors can't ignore.</td>\n",
       "      <td id=\"T_4964f_row244_col6\" class=\"data row244 col6\" >3</td>\n",
       "      <td id=\"T_4964f_row244_col7\" class=\"data row244 col7\" >5</td>\n",
       "      <td id=\"T_4964f_row244_col8\" class=\"data row244 col8\" >1</td>\n",
       "      <td id=\"T_4964f_row244_col9\" class=\"data row244 col9\" >4</td>\n",
       "    </tr>\n",
       "    <tr>\n",
       "      <th id=\"T_4964f_level0_row245\" class=\"row_heading level0 row245\" >3619</th>\n",
       "      <td id=\"T_4964f_row245_col0\" class=\"data row245 col0\" >2025-03-26 07:47:00</td>\n",
       "      <td id=\"T_4964f_row245_col1\" class=\"data row245 col1\" >BA</td>\n",
       "      <td id=\"T_4964f_row245_col2\" class=\"data row245 col2\" >GuruFocus.com</td>\n",
       "      <td id=\"T_4964f_row245_col3\" class=\"data row245 col3\" >2 days ago</td>\n",
       "      <td id=\"T_4964f_row245_col4\" class=\"data row245 col4\" >Boeing or Northrop? Pentagon Nears Decision on Stealth Jet Deal Worth Hundreds of Billions</td>\n",
       "      <td id=\"T_4964f_row245_col5\" class=\"data row245 col5\" >One winner. Trillions in future wars. The Navy's biggest airpower bet in decades is about to drop</td>\n",
       "      <td id=\"T_4964f_row245_col6\" class=\"data row245 col6\" >1</td>\n",
       "      <td id=\"T_4964f_row245_col7\" class=\"data row245 col7\" >5</td>\n",
       "      <td id=\"T_4964f_row245_col8\" class=\"data row245 col8\" >3</td>\n",
       "      <td id=\"T_4964f_row245_col9\" class=\"data row245 col9\" >1</td>\n",
       "    </tr>\n",
       "    <tr>\n",
       "      <th id=\"T_4964f_level0_row246\" class=\"row_heading level0 row246\" >3630</th>\n",
       "      <td id=\"T_4964f_row246_col0\" class=\"data row246 col0\" >2025-03-26 07:47:00</td>\n",
       "      <td id=\"T_4964f_row246_col1\" class=\"data row246 col1\" >BA</td>\n",
       "      <td id=\"T_4964f_row246_col2\" class=\"data row246 col2\" >StockStory</td>\n",
       "      <td id=\"T_4964f_row246_col3\" class=\"data row246 col3\" >2 days ago</td>\n",
       "      <td id=\"T_4964f_row246_col4\" class=\"data row246 col4\" >Aerospace and Defense Stocks Q4 Highlights: Byrna (NASDAQ:BYRN)</td>\n",
       "      <td id=\"T_4964f_row246_col5\" class=\"data row246 col5\" >Quarterly earnings results are a good time to check in on a company’s progress, especially compared to its peers in the same sector. Today we are looking at Byrna (NASDAQ:BYRN) and the best and worst performers in the aerospace and defense industry.</td>\n",
       "      <td id=\"T_4964f_row246_col6\" class=\"data row246 col6\" >1</td>\n",
       "      <td id=\"T_4964f_row246_col7\" class=\"data row246 col7\" >5</td>\n",
       "      <td id=\"T_4964f_row246_col8\" class=\"data row246 col8\" >5</td>\n",
       "      <td id=\"T_4964f_row246_col9\" class=\"data row246 col9\" >1</td>\n",
       "    </tr>\n",
       "    <tr>\n",
       "      <th id=\"T_4964f_level0_row247\" class=\"row_heading level0 row247\" >3636</th>\n",
       "      <td id=\"T_4964f_row247_col0\" class=\"data row247 col0\" >2025-03-25 07:47:00</td>\n",
       "      <td id=\"T_4964f_row247_col1\" class=\"data row247 col1\" >BA</td>\n",
       "      <td id=\"T_4964f_row247_col2\" class=\"data row247 col2\" >Barrons.com</td>\n",
       "      <td id=\"T_4964f_row247_col3\" class=\"data row247 col3\" >3 days ago</td>\n",
       "      <td id=\"T_4964f_row247_col4\" class=\"data row247 col4\" >Boeing Gains and Lockheed Stock Falls Further After Fighter Jet Upset</td>\n",
       "      <td id=\"T_4964f_row247_col5\" class=\"data row247 col5\" >President Donald Trump announced Friday that Boeing would build a sixth-generation jet fighter for the Air Force.</td>\n",
       "      <td id=\"T_4964f_row247_col6\" class=\"data row247 col6\" >1</td>\n",
       "      <td id=\"T_4964f_row247_col7\" class=\"data row247 col7\" >5</td>\n",
       "      <td id=\"T_4964f_row247_col8\" class=\"data row247 col8\" >4</td>\n",
       "      <td id=\"T_4964f_row247_col9\" class=\"data row247 col9\" >1</td>\n",
       "    </tr>\n",
       "    <tr>\n",
       "      <th id=\"T_4964f_level0_row248\" class=\"row_heading level0 row248\" >3653</th>\n",
       "      <td id=\"T_4964f_row248_col0\" class=\"data row248 col0\" >2025-03-22 07:47:00</td>\n",
       "      <td id=\"T_4964f_row248_col1\" class=\"data row248 col1\" >BA</td>\n",
       "      <td id=\"T_4964f_row248_col2\" class=\"data row248 col2\" >The Wall Street Journal</td>\n",
       "      <td id=\"T_4964f_row248_col3\" class=\"data row248 col3\" >6 days ago</td>\n",
       "      <td id=\"T_4964f_row248_col4\" class=\"data row248 col4\" >Boeing Beat Lockheed Martin for the Pentagon’s Jet Fighter Contract. Here’s What to Know.</td>\n",
       "      <td id=\"T_4964f_row248_col5\" class=\"data row248 col5\" >Boeing  scored a contract to build the Pentagon’s next-generation jet fighter, beating out rival  Lockheed Martin   The deal has big implications for Boeing’s bottom line, its beleaguered defense unit and the jet maker’s strained relationship with the Trump administration.  Boeing shares rose 3% following the decision Friday, while Lockheed shares fell nearly 6%.  The Pentagon wants the new F-47 jet fighter to replace the stealthy F-22, a Lockheed aircraft, and fly alongside semiautonomous drones that are already well into development.</td>\n",
       "      <td id=\"T_4964f_row248_col6\" class=\"data row248 col6\" >5</td>\n",
       "      <td id=\"T_4964f_row248_col7\" class=\"data row248 col7\" >1</td>\n",
       "      <td id=\"T_4964f_row248_col8\" class=\"data row248 col8\" >5</td>\n",
       "      <td id=\"T_4964f_row248_col9\" class=\"data row248 col9\" >5</td>\n",
       "    </tr>\n",
       "    <tr>\n",
       "      <th id=\"T_4964f_level0_row249\" class=\"row_heading level0 row249\" >3691</th>\n",
       "      <td id=\"T_4964f_row249_col0\" class=\"data row249 col0\" >2025-03-20 07:47:00</td>\n",
       "      <td id=\"T_4964f_row249_col1\" class=\"data row249 col1\" >BA</td>\n",
       "      <td id=\"T_4964f_row249_col2\" class=\"data row249 col2\" >Investopedia</td>\n",
       "      <td id=\"T_4964f_row249_col3\" class=\"data row249 col3\" >8 days ago</td>\n",
       "      <td id=\"T_4964f_row249_col4\" class=\"data row249 col4\" >S&P 500 Gains and Losses Today: Boeing Surges on Several Positive Signals</td>\n",
       "      <td id=\"T_4964f_row249_col5\" class=\"data row249 col5\" >The S&P 500 added 1.1% on Wednesday, March 19, 2025, as the Fed held interest rates steady, reaffirming plans for future cuts but expressing caution on inflation and growth.</td>\n",
       "      <td id=\"T_4964f_row249_col6\" class=\"data row249 col6\" >5</td>\n",
       "      <td id=\"T_4964f_row249_col7\" class=\"data row249 col7\" >5</td>\n",
       "      <td id=\"T_4964f_row249_col8\" class=\"data row249 col8\" >1</td>\n",
       "      <td id=\"T_4964f_row249_col9\" class=\"data row249 col9\" >5</td>\n",
       "    </tr>\n",
       "    <tr>\n",
       "      <th id=\"T_4964f_level0_row250\" class=\"row_heading level0 row250\" >3695</th>\n",
       "      <td id=\"T_4964f_row250_col0\" class=\"data row250 col0\" >2025-03-20 07:47:00</td>\n",
       "      <td id=\"T_4964f_row250_col1\" class=\"data row250 col1\" >BA</td>\n",
       "      <td id=\"T_4964f_row250_col2\" class=\"data row250 col2\" >GuruFocus.com</td>\n",
       "      <td id=\"T_4964f_row250_col3\" class=\"data row250 col3\" >8 days ago</td>\n",
       "      <td id=\"T_4964f_row250_col4\" class=\"data row250 col4\" >Boeing Stock Climbs 7% as CFO Projects Lower Q1 Cash Burn</td>\n",
       "      <td id=\"T_4964f_row250_col5\" class=\"data row250 col5\" >Boeing Shares Jump on Promising Production and Reduced Cash Outflows</td>\n",
       "      <td id=\"T_4964f_row250_col6\" class=\"data row250 col6\" >5</td>\n",
       "      <td id=\"T_4964f_row250_col7\" class=\"data row250 col7\" >5</td>\n",
       "      <td id=\"T_4964f_row250_col8\" class=\"data row250 col8\" >5</td>\n",
       "      <td id=\"T_4964f_row250_col9\" class=\"data row250 col9\" >1</td>\n",
       "    </tr>\n",
       "    <tr>\n",
       "      <th id=\"T_4964f_level0_row251\" class=\"row_heading level0 row251\" >3699</th>\n",
       "      <td id=\"T_4964f_row251_col0\" class=\"data row251 col0\" >2025-03-20 07:47:00</td>\n",
       "      <td id=\"T_4964f_row251_col1\" class=\"data row251 col1\" >BA</td>\n",
       "      <td id=\"T_4964f_row251_col2\" class=\"data row251 col2\" >StockStory</td>\n",
       "      <td id=\"T_4964f_row251_col3\" class=\"data row251 col3\" >8 days ago</td>\n",
       "      <td id=\"T_4964f_row251_col4\" class=\"data row251 col4\" >Why Boeing (BA) Stock Is Trading Up Today</td>\n",
       "      <td id=\"T_4964f_row251_col5\" class=\"data row251 col5\" >Shares of aerospace and defense company Boeing (NYSE:BA) jumped 7% in the morning session after CFO Brian West provided constructive updates about the company's financial position at an investor conference. He added that the business was \"broadly tracking to expectations\" with the March 2025 delivery of 787 jets similar to the previous month. These updates suggested that the company's operations may be stabilizing.</td>\n",
       "      <td id=\"T_4964f_row251_col6\" class=\"data row251 col6\" >5</td>\n",
       "      <td id=\"T_4964f_row251_col7\" class=\"data row251 col7\" >5</td>\n",
       "      <td id=\"T_4964f_row251_col8\" class=\"data row251 col8\" >1</td>\n",
       "      <td id=\"T_4964f_row251_col9\" class=\"data row251 col9\" >5</td>\n",
       "    </tr>\n",
       "    <tr>\n",
       "      <th id=\"T_4964f_level0_row252\" class=\"row_heading level0 row252\" >3702</th>\n",
       "      <td id=\"T_4964f_row252_col0\" class=\"data row252 col0\" >2025-03-20 07:47:00</td>\n",
       "      <td id=\"T_4964f_row252_col1\" class=\"data row252 col1\" >BA</td>\n",
       "      <td id=\"T_4964f_row252_col2\" class=\"data row252 col2\" >Investopedia</td>\n",
       "      <td id=\"T_4964f_row252_col3\" class=\"data row252 col3\" >8 days ago</td>\n",
       "      <td id=\"T_4964f_row252_col4\" class=\"data row252 col4\" >Top Stock Movers Now: Boeing, Tesla, General Mills, and More</td>\n",
       "      <td id=\"T_4964f_row252_col5\" class=\"data row252 col5\" >U.S. equities rose at midday as investors awaited word from the Federal Reserve about the future of interest rates.</td>\n",
       "      <td id=\"T_4964f_row252_col6\" class=\"data row252 col6\" >5</td>\n",
       "      <td id=\"T_4964f_row252_col7\" class=\"data row252 col7\" >1</td>\n",
       "      <td id=\"T_4964f_row252_col8\" class=\"data row252 col8\" >1</td>\n",
       "      <td id=\"T_4964f_row252_col9\" class=\"data row252 col9\" >5</td>\n",
       "    </tr>\n",
       "    <tr>\n",
       "      <th id=\"T_4964f_level0_row253\" class=\"row_heading level0 row253\" >3706</th>\n",
       "      <td id=\"T_4964f_row253_col0\" class=\"data row253 col0\" >2025-03-20 07:47:00</td>\n",
       "      <td id=\"T_4964f_row253_col1\" class=\"data row253 col1\" >BA</td>\n",
       "      <td id=\"T_4964f_row253_col2\" class=\"data row253 col2\" >Bloomberg</td>\n",
       "      <td id=\"T_4964f_row253_col3\" class=\"data row253 col3\" >8 days ago</td>\n",
       "      <td id=\"T_4964f_row253_col4\" class=\"data row253 col4\" >Boeing Sees Cash Flow Improve as Jet Factories Stabilize</td>\n",
       "      <td id=\"T_4964f_row253_col5\" class=\"data row253 col5\" >(Bloomberg) -- Boeing Co.’s cash outflows are likely to be smaller than forecast this quarter as the planemaker continues to stabilize work in its factories and clears out its inventory of already-built jets. Most Read from BloombergDespite Cost-Cutting Moves, Trump Plans to Remake DC in His StyleAmtrak CEO Departs Amid Threats of a Transit Funding PullbackThe Scary Thing About the Wildfire That Was StoppedNYC Plans for Flood Protection Without Federal FundsA Malibu Model for Residents on the Fi</td>\n",
       "      <td id=\"T_4964f_row253_col6\" class=\"data row253 col6\" >1</td>\n",
       "      <td id=\"T_4964f_row253_col7\" class=\"data row253 col7\" >5</td>\n",
       "      <td id=\"T_4964f_row253_col8\" class=\"data row253 col8\" >1</td>\n",
       "      <td id=\"T_4964f_row253_col9\" class=\"data row253 col9\" >1</td>\n",
       "    </tr>\n",
       "    <tr>\n",
       "      <th id=\"T_4964f_level0_row254\" class=\"row_heading level0 row254\" >3735</th>\n",
       "      <td id=\"T_4964f_row254_col0\" class=\"data row254 col0\" >2025-03-14 07:47:00</td>\n",
       "      <td id=\"T_4964f_row254_col1\" class=\"data row254 col1\" >BA</td>\n",
       "      <td id=\"T_4964f_row254_col2\" class=\"data row254 col2\" >Investor's Business Daily</td>\n",
       "      <td id=\"T_4964f_row254_col3\" class=\"data row254 col3\" >14 days ago</td>\n",
       "      <td id=\"T_4964f_row254_col4\" class=\"data row254 col4\" >As The Dow Skids, Nvidia And This Aerospace Leader Rebound</td>\n",
       "      <td id=\"T_4964f_row254_col5\" class=\"data row254 col5\" >The Dow Jones Industrial Average retreated 3.5% this week. Nvidia, Boeing climb to buck the trend. Analysts see 50% upside to Boeing stock.</td>\n",
       "      <td id=\"T_4964f_row254_col6\" class=\"data row254 col6\" >1</td>\n",
       "      <td id=\"T_4964f_row254_col7\" class=\"data row254 col7\" >5</td>\n",
       "      <td id=\"T_4964f_row254_col8\" class=\"data row254 col8\" >5</td>\n",
       "      <td id=\"T_4964f_row254_col9\" class=\"data row254 col9\" >1</td>\n",
       "    </tr>\n",
       "    <tr>\n",
       "      <th id=\"T_4964f_level0_row255\" class=\"row_heading level0 row255\" >3738</th>\n",
       "      <td id=\"T_4964f_row255_col0\" class=\"data row255 col0\" >2025-03-14 07:47:00</td>\n",
       "      <td id=\"T_4964f_row255_col1\" class=\"data row255 col1\" >BA</td>\n",
       "      <td id=\"T_4964f_row255_col2\" class=\"data row255 col2\" >Investing.com</td>\n",
       "      <td id=\"T_4964f_row255_col3\" class=\"data row255 col3\" >14 days ago</td>\n",
       "      <td id=\"T_4964f_row255_col4\" class=\"data row255 col4\" >Boeing stock: Market is undervaluing long-term growth potential - Citi</td>\n",
       "      <td id=\"T_4964f_row255_col5\" class=\"data row255 col5\" >Investing.com -- Citi analysts reaffirmed their Buy rating on Boeing (NYSE:BA), arguing that “the market is undervaluing Boeing’s long-term growth potential, pricing in less than 1% FCF growth in perpetuity.”</td>\n",
       "      <td id=\"T_4964f_row255_col6\" class=\"data row255 col6\" >5</td>\n",
       "      <td id=\"T_4964f_row255_col7\" class=\"data row255 col7\" >5</td>\n",
       "      <td id=\"T_4964f_row255_col8\" class=\"data row255 col8\" >3</td>\n",
       "      <td id=\"T_4964f_row255_col9\" class=\"data row255 col9\" >1</td>\n",
       "    </tr>\n",
       "    <tr>\n",
       "      <th id=\"T_4964f_level0_row256\" class=\"row_heading level0 row256\" >3742</th>\n",
       "      <td id=\"T_4964f_row256_col0\" class=\"data row256 col0\" >2025-03-13 07:47:00</td>\n",
       "      <td id=\"T_4964f_row256_col1\" class=\"data row256 col1\" >BA</td>\n",
       "      <td id=\"T_4964f_row256_col2\" class=\"data row256 col2\" >Quartz</td>\n",
       "      <td id=\"T_4964f_row256_col3\" class=\"data row256 col3\" >15 days ago</td>\n",
       "      <td id=\"T_4964f_row256_col4\" class=\"data row256 col4\" >Boeing could get hit hard by Trump's trade war. Airbus could get a boost</td>\n",
       "      <td id=\"T_4964f_row256_col5\" class=\"data row256 col5\" >President Donald Trump’s trade war could become a major problem for Boeing (BA), and give European rival Airbus (AIR) a leg up on the competition.</td>\n",
       "      <td id=\"T_4964f_row256_col6\" class=\"data row256 col6\" >4</td>\n",
       "      <td id=\"T_4964f_row256_col7\" class=\"data row256 col7\" >5</td>\n",
       "      <td id=\"T_4964f_row256_col8\" class=\"data row256 col8\" >2</td>\n",
       "      <td id=\"T_4964f_row256_col9\" class=\"data row256 col9\" >1</td>\n",
       "    </tr>\n",
       "    <tr>\n",
       "      <th id=\"T_4964f_level0_row257\" class=\"row_heading level0 row257\" >3748</th>\n",
       "      <td id=\"T_4964f_row257_col0\" class=\"data row257 col0\" >2025-03-12 07:47:00</td>\n",
       "      <td id=\"T_4964f_row257_col1\" class=\"data row257 col1\" >BA</td>\n",
       "      <td id=\"T_4964f_row257_col2\" class=\"data row257 col2\" >MT Newswires</td>\n",
       "      <td id=\"T_4964f_row257_col3\" class=\"data row257 col3\" >16 days ago</td>\n",
       "      <td id=\"T_4964f_row257_col4\" class=\"data row257 col4\" >Boeing Reports Higher Deliveries, Lower Orders for February Annually</td>\n",
       "      <td id=\"T_4964f_row257_col5\" class=\"data row257 col5\" >Boeing (BA) on Tuesday logged an increase in deliveries for February on a yearly basis, while its or</td>\n",
       "      <td id=\"T_4964f_row257_col6\" class=\"data row257 col6\" >2</td>\n",
       "      <td id=\"T_4964f_row257_col7\" class=\"data row257 col7\" >5</td>\n",
       "      <td id=\"T_4964f_row257_col8\" class=\"data row257 col8\" >3</td>\n",
       "      <td id=\"T_4964f_row257_col9\" class=\"data row257 col9\" >1</td>\n",
       "    </tr>\n",
       "    <tr>\n",
       "      <th id=\"T_4964f_level0_row258\" class=\"row_heading level0 row258\" >3749</th>\n",
       "      <td id=\"T_4964f_row258_col0\" class=\"data row258 col0\" >2025-03-12 07:47:00</td>\n",
       "      <td id=\"T_4964f_row258_col1\" class=\"data row258 col1\" >BA</td>\n",
       "      <td id=\"T_4964f_row258_col2\" class=\"data row258 col2\" >Yahoo Finance Video</td>\n",
       "      <td id=\"T_4964f_row258_col3\" class=\"data row258 col3\" >16 days ago</td>\n",
       "      <td id=\"T_4964f_row258_col4\" class=\"data row258 col4\" >Disney drops, Boeing rises, Asana CEO to retire: Market Minute</td>\n",
       "      <td id=\"T_4964f_row258_col5\" class=\"data row258 col5\" >US stocks (^GSPC,&nbsp;^IXIC,&nbsp;^DJI)&nbsp;extended declines from Monday's tech rout, with the Dow Jones Industrial dropping over 600 points. Disney (DIS) shares face pressure due to cautious airline guidance, marking its biggest intraday fall since May. Meanwhile Boeing (BA) received a boost as Fitch highlighted its progress post-strike. Shares of Asana (ASAN) sank after CEO Dustin Moskovitz announced his retirement plans. Watch the video above to hear Yahoo Finance's Julie Hyman highlights these market movements in today's update. Stay up to date on the latest market action, minute-by-minute, with Yahoo Finance's Market Minute. This post was written by Josh Lynch</td>\n",
       "      <td id=\"T_4964f_row258_col6\" class=\"data row258 col6\" >1</td>\n",
       "      <td id=\"T_4964f_row258_col7\" class=\"data row258 col7\" >5</td>\n",
       "      <td id=\"T_4964f_row258_col8\" class=\"data row258 col8\" >5</td>\n",
       "      <td id=\"T_4964f_row258_col9\" class=\"data row258 col9\" >1</td>\n",
       "    </tr>\n",
       "    <tr>\n",
       "      <th id=\"T_4964f_level0_row259\" class=\"row_heading level0 row259\" >3766</th>\n",
       "      <td id=\"T_4964f_row259_col0\" class=\"data row259 col0\" >2025-03-08 07:47:00</td>\n",
       "      <td id=\"T_4964f_row259_col1\" class=\"data row259 col1\" >BA</td>\n",
       "      <td id=\"T_4964f_row259_col2\" class=\"data row259 col2\" >GuruFocus.com</td>\n",
       "      <td id=\"T_4964f_row259_col3\" class=\"data row259 col3\" >20 days ago</td>\n",
       "      <td id=\"T_4964f_row259_col4\" class=\"data row259 col4\" >Boeing's Delivery Woes: Lufthansa Hopes U.S. Will Intervene</td>\n",
       "      <td id=\"T_4964f_row259_col5\" class=\"data row259 col5\" >Lufthansa's CEO expects U.S. support to ease Boeing's delivery setbacks as airlines struggle with fleet delays</td>\n",
       "      <td id=\"T_4964f_row259_col6\" class=\"data row259 col6\" >5</td>\n",
       "      <td id=\"T_4964f_row259_col7\" class=\"data row259 col7\" >1</td>\n",
       "      <td id=\"T_4964f_row259_col8\" class=\"data row259 col8\" >1</td>\n",
       "      <td id=\"T_4964f_row259_col9\" class=\"data row259 col9\" >5</td>\n",
       "    </tr>\n",
       "    <tr>\n",
       "      <th id=\"T_4964f_level0_row260\" class=\"row_heading level0 row260\" >3767</th>\n",
       "      <td id=\"T_4964f_row260_col0\" class=\"data row260 col0\" >2025-03-07 07:47:00</td>\n",
       "      <td id=\"T_4964f_row260_col1\" class=\"data row260 col1\" >BA</td>\n",
       "      <td id=\"T_4964f_row260_col2\" class=\"data row260 col2\" >Barrons.com</td>\n",
       "      <td id=\"T_4964f_row260_col3\" class=\"data row260 col3\" >21 days ago</td>\n",
       "      <td id=\"T_4964f_row260_col4\" class=\"data row260 col4\" >Boeing Stock Fell. A CEO’s Vision Can’t Overcome Tariff Fears.</td>\n",
       "      <td id=\"T_4964f_row260_col5\" class=\"data row260 col5\" >Boeing CEO Kelly Ortberg had an upbeat message for employees, but the plane maker is a big exporter, and exposed to retaliatory tariffs.</td>\n",
       "      <td id=\"T_4964f_row260_col6\" class=\"data row260 col6\" >1</td>\n",
       "      <td id=\"T_4964f_row260_col7\" class=\"data row260 col7\" >5</td>\n",
       "      <td id=\"T_4964f_row260_col8\" class=\"data row260 col8\" >1</td>\n",
       "      <td id=\"T_4964f_row260_col9\" class=\"data row260 col9\" >1</td>\n",
       "    </tr>\n",
       "    <tr>\n",
       "      <th id=\"T_4964f_level0_row261\" class=\"row_heading level0 row261\" >3789</th>\n",
       "      <td id=\"T_4964f_row261_col0\" class=\"data row261 col0\" >2025-03-01 07:47:00</td>\n",
       "      <td id=\"T_4964f_row261_col1\" class=\"data row261 col1\" >BA</td>\n",
       "      <td id=\"T_4964f_row261_col2\" class=\"data row261 col2\" >Zacks</td>\n",
       "      <td id=\"T_4964f_row261_col3\" class=\"data row261 col3\" >27 days ago</td>\n",
       "      <td id=\"T_4964f_row261_col4\" class=\"data row261 col4\" >Boeing Outperforms Aerospace Sector in 6 Months: Should You Buy the Stock Now?</td>\n",
       "      <td id=\"T_4964f_row261_col5\" class=\"data row261 col5\" >Investors interested in BA stock should wait for a better entry point, considering the stock's poor ROIC.</td>\n",
       "      <td id=\"T_4964f_row261_col6\" class=\"data row261 col6\" >3</td>\n",
       "      <td id=\"T_4964f_row261_col7\" class=\"data row261 col7\" >5</td>\n",
       "      <td id=\"T_4964f_row261_col8\" class=\"data row261 col8\" >2</td>\n",
       "      <td id=\"T_4964f_row261_col9\" class=\"data row261 col9\" >1</td>\n",
       "    </tr>\n",
       "  </tbody>\n",
       "</table>\n"
      ],
      "text/plain": [
       "<pandas.io.formats.style.Styler at 0x7889dc8691d0>"
      ]
     },
     "execution_count": 13,
     "metadata": {},
     "output_type": "execute_result"
    }
   ],
   "source": [
    "utils.display_divergent_rating(df)"
   ]
  },
  {
   "cell_type": "markdown",
   "metadata": {},
   "source": [
    "# [Trade Results](#table-of-contents)\n"
   ]
  },
  {
   "cell_type": "code",
   "execution_count": 105,
   "metadata": {},
   "outputs": [
    {
     "data": {
      "text/html": [
       "<div>\n",
       "<style scoped>\n",
       "    .dataframe tbody tr th:only-of-type {\n",
       "        vertical-align: middle;\n",
       "    }\n",
       "\n",
       "    .dataframe tbody tr th {\n",
       "        vertical-align: top;\n",
       "    }\n",
       "\n",
       "    .dataframe thead th {\n",
       "        text-align: right;\n",
       "    }\n",
       "</style>\n",
       "<table border=\"1\" class=\"dataframe\">\n",
       "  <thead>\n",
       "    <tr style=\"text-align: right;\">\n",
       "      <th></th>\n",
       "      <th>ticker</th>\n",
       "      <th>coint_ticker</th>\n",
       "      <th>action</th>\n",
       "      <th>entry_date</th>\n",
       "      <th>entry_price</th>\n",
       "      <th>exit_date</th>\n",
       "      <th>exit_price</th>\n",
       "      <th>profit_loss</th>\n",
       "      <th>days_held</th>\n",
       "      <th>win</th>\n",
       "    </tr>\n",
       "  </thead>\n",
       "  <tbody>\n",
       "    <tr>\n",
       "      <th>0</th>\n",
       "      <td>HD</td>\n",
       "      <td>MSI</td>\n",
       "      <td>buy</td>\n",
       "      <td>2025-01-28</td>\n",
       "      <td>464.02</td>\n",
       "      <td>2025-03-06</td>\n",
       "      <td>422.2</td>\n",
       "      <td>-41.82</td>\n",
       "      <td>37</td>\n",
       "      <td>0</td>\n",
       "    </tr>\n",
       "    <tr>\n",
       "      <th>1</th>\n",
       "      <td>HD</td>\n",
       "      <td>MSI</td>\n",
       "      <td>buy</td>\n",
       "      <td>2025-02-26</td>\n",
       "      <td>425.15</td>\n",
       "      <td>2025-03-06</td>\n",
       "      <td>422.2</td>\n",
       "      <td>-2.95</td>\n",
       "      <td>8</td>\n",
       "      <td>0</td>\n",
       "    </tr>\n",
       "    <tr>\n",
       "      <th>2</th>\n",
       "      <td>HD</td>\n",
       "      <td>MSI</td>\n",
       "      <td>buy</td>\n",
       "      <td>2025-02-27</td>\n",
       "      <td>428.42</td>\n",
       "      <td>2025-03-06</td>\n",
       "      <td>422.2</td>\n",
       "      <td>-6.22</td>\n",
       "      <td>7</td>\n",
       "      <td>0</td>\n",
       "    </tr>\n",
       "    <tr>\n",
       "      <th>3</th>\n",
       "      <td>HD</td>\n",
       "      <td>MSI</td>\n",
       "      <td>buy</td>\n",
       "      <td>2025-02-28</td>\n",
       "      <td>439.06</td>\n",
       "      <td>2025-03-06</td>\n",
       "      <td>422.2</td>\n",
       "      <td>-16.86</td>\n",
       "      <td>6</td>\n",
       "      <td>0</td>\n",
       "    </tr>\n",
       "    <tr>\n",
       "      <th>4</th>\n",
       "      <td>HD</td>\n",
       "      <td>MSI</td>\n",
       "      <td>buy</td>\n",
       "      <td>2025-03-03</td>\n",
       "      <td>426.23</td>\n",
       "      <td>2025-03-06</td>\n",
       "      <td>422.2</td>\n",
       "      <td>-4.03</td>\n",
       "      <td>3</td>\n",
       "      <td>0</td>\n",
       "    </tr>\n",
       "    <tr>\n",
       "      <th>...</th>\n",
       "      <td>...</td>\n",
       "      <td>...</td>\n",
       "      <td>...</td>\n",
       "      <td>...</td>\n",
       "      <td>...</td>\n",
       "      <td>...</td>\n",
       "      <td>...</td>\n",
       "      <td>...</td>\n",
       "      <td>...</td>\n",
       "      <td>...</td>\n",
       "    </tr>\n",
       "    <tr>\n",
       "      <th>1166</th>\n",
       "      <td>BA</td>\n",
       "      <td>CMCSA</td>\n",
       "      <td>buy</td>\n",
       "      <td>2025-03-12</td>\n",
       "      <td>35.19</td>\n",
       "      <td>2025-03-13</td>\n",
       "      <td>34.7</td>\n",
       "      <td>-0.49</td>\n",
       "      <td>1</td>\n",
       "      <td>0</td>\n",
       "    </tr>\n",
       "    <tr>\n",
       "      <th>1167</th>\n",
       "      <td>BA</td>\n",
       "      <td>CMCSA</td>\n",
       "      <td>buy</td>\n",
       "      <td>2025-03-14</td>\n",
       "      <td>35.43</td>\n",
       "      <td>2025-03-19</td>\n",
       "      <td>36.09</td>\n",
       "      <td>0.66</td>\n",
       "      <td>5</td>\n",
       "      <td>1</td>\n",
       "    </tr>\n",
       "    <tr>\n",
       "      <th>1168</th>\n",
       "      <td>BA</td>\n",
       "      <td>CMCSA</td>\n",
       "      <td>buy</td>\n",
       "      <td>2025-03-18</td>\n",
       "      <td>36.01</td>\n",
       "      <td>2025-03-19</td>\n",
       "      <td>36.09</td>\n",
       "      <td>0.08</td>\n",
       "      <td>1</td>\n",
       "      <td>1</td>\n",
       "    </tr>\n",
       "    <tr>\n",
       "      <th>1169</th>\n",
       "      <td>BA</td>\n",
       "      <td>CMCSA</td>\n",
       "      <td>buy</td>\n",
       "      <td>2025-03-20</td>\n",
       "      <td>36.5</td>\n",
       "      <td>2025-03-25</td>\n",
       "      <td>36.94</td>\n",
       "      <td>0.44</td>\n",
       "      <td>5</td>\n",
       "      <td>1</td>\n",
       "    </tr>\n",
       "    <tr>\n",
       "      <th>1170</th>\n",
       "      <td>BA</td>\n",
       "      <td>CMCSA</td>\n",
       "      <td>buy</td>\n",
       "      <td>2025-03-26</td>\n",
       "      <td>37.37</td>\n",
       "      <td>2025-03-27</td>\n",
       "      <td>37.37</td>\n",
       "      <td>0.0</td>\n",
       "      <td>1</td>\n",
       "      <td>0</td>\n",
       "    </tr>\n",
       "  </tbody>\n",
       "</table>\n",
       "<p>1171 rows × 10 columns</p>\n",
       "</div>"
      ],
      "text/plain": [
       "     ticker coint_ticker action  entry_date entry_price   exit_date  \\\n",
       "0        HD          MSI    buy  2025-01-28      464.02  2025-03-06   \n",
       "1        HD          MSI    buy  2025-02-26      425.15  2025-03-06   \n",
       "2        HD          MSI    buy  2025-02-27      428.42  2025-03-06   \n",
       "3        HD          MSI    buy  2025-02-28      439.06  2025-03-06   \n",
       "4        HD          MSI    buy  2025-03-03      426.23  2025-03-06   \n",
       "...     ...          ...    ...         ...         ...         ...   \n",
       "1166     BA        CMCSA    buy  2025-03-12       35.19  2025-03-13   \n",
       "1167     BA        CMCSA    buy  2025-03-14       35.43  2025-03-19   \n",
       "1168     BA        CMCSA    buy  2025-03-18       36.01  2025-03-19   \n",
       "1169     BA        CMCSA    buy  2025-03-20        36.5  2025-03-25   \n",
       "1170     BA        CMCSA    buy  2025-03-26       37.37  2025-03-27   \n",
       "\n",
       "     exit_price profit_loss  days_held  win  \n",
       "0         422.2      -41.82         37    0  \n",
       "1         422.2       -2.95          8    0  \n",
       "2         422.2       -6.22          7    0  \n",
       "3         422.2      -16.86          6    0  \n",
       "4         422.2       -4.03          3    0  \n",
       "...         ...         ...        ...  ...  \n",
       "1166       34.7       -0.49          1    0  \n",
       "1167      36.09        0.66          5    1  \n",
       "1168      36.09        0.08          1    1  \n",
       "1169      36.94        0.44          5    1  \n",
       "1170      37.37         0.0          1    0  \n",
       "\n",
       "[1171 rows x 10 columns]"
      ]
     },
     "execution_count": 105,
     "metadata": {},
     "output_type": "execute_result"
    }
   ],
   "source": [
    "results = utils.load_csv(\"./data/results/2025-03-28/trade_results.csv\")\n",
    "results"
   ]
  },
  {
   "cell_type": "markdown",
   "metadata": {},
   "source": [
    "# [Overall Summary](#table-of-contents)\n"
   ]
  },
  {
   "cell_type": "code",
   "execution_count": 16,
   "metadata": {},
   "outputs": [
    {
     "data": {
      "text/html": [
       "<div>\n",
       "<style scoped>\n",
       "    .dataframe tbody tr th:only-of-type {\n",
       "        vertical-align: middle;\n",
       "    }\n",
       "\n",
       "    .dataframe tbody tr th {\n",
       "        vertical-align: top;\n",
       "    }\n",
       "\n",
       "    .dataframe thead th {\n",
       "        text-align: right;\n",
       "    }\n",
       "</style>\n",
       "<table border=\"1\" class=\"dataframe\">\n",
       "  <thead>\n",
       "    <tr style=\"text-align: right;\">\n",
       "      <th></th>\n",
       "      <th>Overall Statistics</th>\n",
       "    </tr>\n",
       "  </thead>\n",
       "  <tbody>\n",
       "    <tr>\n",
       "      <th>stock_ticker_without_trades</th>\n",
       "      <td>AAPL</td>\n",
       "    </tr>\n",
       "    <tr>\n",
       "      <th>stock_ticker_with_trades</th>\n",
       "      <td>HD, CRM, TSLA, AMZN, V, NVDA, BA, JNJ, PG, JPM...</td>\n",
       "    </tr>\n",
       "    <tr>\n",
       "      <th>total_num_trades</th>\n",
       "      <td>1171</td>\n",
       "    </tr>\n",
       "    <tr>\n",
       "      <th>total_num_wins</th>\n",
       "      <td>597</td>\n",
       "    </tr>\n",
       "    <tr>\n",
       "      <th>total_num_loss</th>\n",
       "      <td>574</td>\n",
       "    </tr>\n",
       "    <tr>\n",
       "      <th>total_profit</th>\n",
       "      <td>-293.94</td>\n",
       "    </tr>\n",
       "    <tr>\n",
       "      <th>max_loss</th>\n",
       "      <td>-84.56</td>\n",
       "    </tr>\n",
       "    <tr>\n",
       "      <th>max_profit</th>\n",
       "      <td>32.61</td>\n",
       "    </tr>\n",
       "    <tr>\n",
       "      <th>mean_profit</th>\n",
       "      <td>-0.25101622544833474</td>\n",
       "    </tr>\n",
       "    <tr>\n",
       "      <th>median_profit</th>\n",
       "      <td>0.02</td>\n",
       "    </tr>\n",
       "    <tr>\n",
       "      <th>total_investment</th>\n",
       "      <td>194224.93</td>\n",
       "    </tr>\n",
       "    <tr>\n",
       "      <th>first_trade</th>\n",
       "      <td>2025-01-28</td>\n",
       "    </tr>\n",
       "    <tr>\n",
       "      <th>last_trade</th>\n",
       "      <td>2025-03-26</td>\n",
       "    </tr>\n",
       "    <tr>\n",
       "      <th>trading_period</th>\n",
       "      <td>58</td>\n",
       "    </tr>\n",
       "    <tr>\n",
       "      <th>percent_return</th>\n",
       "      <td>-0.001513</td>\n",
       "    </tr>\n",
       "    <tr>\n",
       "      <th>annualized_return</th>\n",
       "      <td>-0.009483</td>\n",
       "    </tr>\n",
       "  </tbody>\n",
       "</table>\n",
       "</div>"
      ],
      "text/plain": [
       "                                                            Overall Statistics\n",
       "stock_ticker_without_trades                                               AAPL\n",
       "stock_ticker_with_trades     HD, CRM, TSLA, AMZN, V, NVDA, BA, JNJ, PG, JPM...\n",
       "total_num_trades                                                          1171\n",
       "total_num_wins                                                             597\n",
       "total_num_loss                                                             574\n",
       "total_profit                                                           -293.94\n",
       "max_loss                                                                -84.56\n",
       "max_profit                                                               32.61\n",
       "mean_profit                                               -0.25101622544833474\n",
       "median_profit                                                             0.02\n",
       "total_investment                                                     194224.93\n",
       "first_trade                                                         2025-01-28\n",
       "last_trade                                                          2025-03-26\n",
       "trading_period                                                              58\n",
       "percent_return                                                       -0.001513\n",
       "annualized_return                                                    -0.009483"
      ]
     },
     "execution_count": 16,
     "metadata": {},
     "output_type": "execute_result"
    }
   ],
   "source": [
    "overall = utils.load_csv(\"./data/results/2025-03-28/overall_summary.csv\", index_col=0)\n",
    "overall"
   ]
  },
  {
   "cell_type": "markdown",
   "metadata": {},
   "source": [
    "# [Breakdown Summary](#table-of-contents)\n"
   ]
  },
  {
   "cell_type": "code",
   "execution_count": 101,
   "metadata": {},
   "outputs": [
    {
     "data": {
      "text/html": [
       "<div>\n",
       "<style scoped>\n",
       "    .dataframe tbody tr th:only-of-type {\n",
       "        vertical-align: middle;\n",
       "    }\n",
       "\n",
       "    .dataframe tbody tr th {\n",
       "        vertical-align: top;\n",
       "    }\n",
       "\n",
       "    .dataframe thead tr th {\n",
       "        text-align: left;\n",
       "    }\n",
       "\n",
       "    .dataframe thead tr:last-of-type th {\n",
       "        text-align: right;\n",
       "    }\n",
       "</style>\n",
       "<table border=\"1\" class=\"dataframe\">\n",
       "  <thead>\n",
       "    <tr>\n",
       "      <th></th>\n",
       "      <th></th>\n",
       "      <th colspan=\"2\" halign=\"left\">entry_date</th>\n",
       "      <th>exit_date</th>\n",
       "      <th colspan=\"4\" halign=\"left\">days_held</th>\n",
       "      <th>entry_price</th>\n",
       "      <th colspan=\"5\" halign=\"left\">profit_loss</th>\n",
       "      <th colspan=\"2\" halign=\"left\">win</th>\n",
       "      <th>trading_period</th>\n",
       "      <th>percent_ret</th>\n",
       "      <th>annual_ret</th>\n",
       "    </tr>\n",
       "    <tr>\n",
       "      <th></th>\n",
       "      <th></th>\n",
       "      <th>min</th>\n",
       "      <th>max</th>\n",
       "      <th>max</th>\n",
       "      <th>min</th>\n",
       "      <th>max</th>\n",
       "      <th>mean</th>\n",
       "      <th>median</th>\n",
       "      <th>sum</th>\n",
       "      <th>min</th>\n",
       "      <th>max</th>\n",
       "      <th>mean</th>\n",
       "      <th>median</th>\n",
       "      <th>sum</th>\n",
       "      <th>count</th>\n",
       "      <th>sum</th>\n",
       "      <th></th>\n",
       "      <th></th>\n",
       "      <th></th>\n",
       "    </tr>\n",
       "    <tr>\n",
       "      <th>ticker</th>\n",
       "      <th>coint_ticker</th>\n",
       "      <th></th>\n",
       "      <th></th>\n",
       "      <th></th>\n",
       "      <th></th>\n",
       "      <th></th>\n",
       "      <th></th>\n",
       "      <th></th>\n",
       "      <th></th>\n",
       "      <th></th>\n",
       "      <th></th>\n",
       "      <th></th>\n",
       "      <th></th>\n",
       "      <th></th>\n",
       "      <th></th>\n",
       "      <th></th>\n",
       "      <th></th>\n",
       "      <th></th>\n",
       "      <th></th>\n",
       "    </tr>\n",
       "  </thead>\n",
       "  <tbody>\n",
       "    <tr>\n",
       "      <th rowspan=\"5\" valign=\"top\">AMZN</th>\n",
       "      <th>BAC</th>\n",
       "      <td>2025-03-20</td>\n",
       "      <td>2025-03-26</td>\n",
       "      <td>2025-03-27</td>\n",
       "      <td>1</td>\n",
       "      <td>7</td>\n",
       "      <td>4.25</td>\n",
       "      <td>4.5</td>\n",
       "      <td>170.84</td>\n",
       "      <td>-0.51</td>\n",
       "      <td>0.09</td>\n",
       "      <td>-0.15</td>\n",
       "      <td>-0.09</td>\n",
       "      <td>-0.6</td>\n",
       "      <td>4</td>\n",
       "      <td>2</td>\n",
       "      <td>7</td>\n",
       "      <td>-0.003512</td>\n",
       "      <td>0.832393</td>\n",
       "    </tr>\n",
       "    <tr>\n",
       "      <th>CI</th>\n",
       "      <td>2025-03-20</td>\n",
       "      <td>2025-03-26</td>\n",
       "      <td>2025-03-27</td>\n",
       "      <td>1</td>\n",
       "      <td>7</td>\n",
       "      <td>4.25</td>\n",
       "      <td>4.5</td>\n",
       "      <td>1279.67</td>\n",
       "      <td>3.35</td>\n",
       "      <td>8.09</td>\n",
       "      <td>4.8225</td>\n",
       "      <td>3.925</td>\n",
       "      <td>19.29</td>\n",
       "      <td>4</td>\n",
       "      <td>4</td>\n",
       "      <td>7</td>\n",
       "      <td>0.015074</td>\n",
       "      <td>2.181792</td>\n",
       "    </tr>\n",
       "    <tr>\n",
       "      <th>HII</th>\n",
       "      <td>2025-03-20</td>\n",
       "      <td>2025-03-26</td>\n",
       "      <td>2025-03-27</td>\n",
       "      <td>1</td>\n",
       "      <td>7</td>\n",
       "      <td>4.25</td>\n",
       "      <td>4.5</td>\n",
       "      <td>812.34</td>\n",
       "      <td>-2.74</td>\n",
       "      <td>1.68</td>\n",
       "      <td>0.065</td>\n",
       "      <td>0.66</td>\n",
       "      <td>0.26</td>\n",
       "      <td>4</td>\n",
       "      <td>2</td>\n",
       "      <td>7</td>\n",
       "      <td>0.00032</td>\n",
       "      <td>1.016826</td>\n",
       "    </tr>\n",
       "    <tr>\n",
       "      <th>HSY</th>\n",
       "      <td>2025-03-20</td>\n",
       "      <td>2025-03-26</td>\n",
       "      <td>2025-03-27</td>\n",
       "      <td>1</td>\n",
       "      <td>7</td>\n",
       "      <td>4.25</td>\n",
       "      <td>4.5</td>\n",
       "      <td>668.18</td>\n",
       "      <td>2.1</td>\n",
       "      <td>6.15</td>\n",
       "      <td>3.575</td>\n",
       "      <td>3.025</td>\n",
       "      <td>14.3</td>\n",
       "      <td>4</td>\n",
       "      <td>4</td>\n",
       "      <td>7</td>\n",
       "      <td>0.021401</td>\n",
       "      <td>3.016682</td>\n",
       "    </tr>\n",
       "    <tr>\n",
       "      <th>INVH</th>\n",
       "      <td>2025-03-20</td>\n",
       "      <td>2025-03-26</td>\n",
       "      <td>2025-03-27</td>\n",
       "      <td>1</td>\n",
       "      <td>7</td>\n",
       "      <td>4.25</td>\n",
       "      <td>4.5</td>\n",
       "      <td>136.52</td>\n",
       "      <td>-0.21</td>\n",
       "      <td>0.29</td>\n",
       "      <td>0.03</td>\n",
       "      <td>0.02</td>\n",
       "      <td>0.12</td>\n",
       "      <td>4</td>\n",
       "      <td>2</td>\n",
       "      <td>7</td>\n",
       "      <td>0.000879</td>\n",
       "      <td>1.046879</td>\n",
       "    </tr>\n",
       "    <tr>\n",
       "      <th>...</th>\n",
       "      <th>...</th>\n",
       "      <td>...</td>\n",
       "      <td>...</td>\n",
       "      <td>...</td>\n",
       "      <td>...</td>\n",
       "      <td>...</td>\n",
       "      <td>...</td>\n",
       "      <td>...</td>\n",
       "      <td>...</td>\n",
       "      <td>...</td>\n",
       "      <td>...</td>\n",
       "      <td>...</td>\n",
       "      <td>...</td>\n",
       "      <td>...</td>\n",
       "      <td>...</td>\n",
       "      <td>...</td>\n",
       "      <td>...</td>\n",
       "      <td>...</td>\n",
       "      <td>...</td>\n",
       "    </tr>\n",
       "    <tr>\n",
       "      <th rowspan=\"5\" valign=\"top\">XOM</th>\n",
       "      <th>GOOG</th>\n",
       "      <td>2025-02-26</td>\n",
       "      <td>2025-03-26</td>\n",
       "      <td>2025-03-27</td>\n",
       "      <td>1</td>\n",
       "      <td>10</td>\n",
       "      <td>4.7</td>\n",
       "      <td>3.5</td>\n",
       "      <td>1675.28</td>\n",
       "      <td>-4.48</td>\n",
       "      <td>3.58</td>\n",
       "      <td>-0.896</td>\n",
       "      <td>-0.845</td>\n",
       "      <td>-8.96</td>\n",
       "      <td>10</td>\n",
       "      <td>4</td>\n",
       "      <td>29</td>\n",
       "      <td>-0.005348</td>\n",
       "      <td>0.934731</td>\n",
       "    </tr>\n",
       "    <tr>\n",
       "      <th>GOOGL</th>\n",
       "      <td>2025-02-26</td>\n",
       "      <td>2025-03-26</td>\n",
       "      <td>2025-03-27</td>\n",
       "      <td>1</td>\n",
       "      <td>10</td>\n",
       "      <td>4.7</td>\n",
       "      <td>3.5</td>\n",
       "      <td>1654.83</td>\n",
       "      <td>-4.22</td>\n",
       "      <td>3.32</td>\n",
       "      <td>-0.953</td>\n",
       "      <td>-0.9</td>\n",
       "      <td>-9.53</td>\n",
       "      <td>10</td>\n",
       "      <td>3</td>\n",
       "      <td>29</td>\n",
       "      <td>-0.005759</td>\n",
       "      <td>0.929887</td>\n",
       "    </tr>\n",
       "    <tr>\n",
       "      <th>SJM</th>\n",
       "      <td>2025-02-26</td>\n",
       "      <td>2025-03-26</td>\n",
       "      <td>2025-03-27</td>\n",
       "      <td>1</td>\n",
       "      <td>10</td>\n",
       "      <td>4.7</td>\n",
       "      <td>3.5</td>\n",
       "      <td>1114.87</td>\n",
       "      <td>-4.56</td>\n",
       "      <td>2.25</td>\n",
       "      <td>-0.901</td>\n",
       "      <td>-1.25</td>\n",
       "      <td>-9.01</td>\n",
       "      <td>10</td>\n",
       "      <td>3</td>\n",
       "      <td>29</td>\n",
       "      <td>-0.008082</td>\n",
       "      <td>0.902912</td>\n",
       "    </tr>\n",
       "    <tr>\n",
       "      <th>WSM</th>\n",
       "      <td>2025-02-26</td>\n",
       "      <td>2025-03-26</td>\n",
       "      <td>2025-03-27</td>\n",
       "      <td>1</td>\n",
       "      <td>10</td>\n",
       "      <td>4.7</td>\n",
       "      <td>3.5</td>\n",
       "      <td>1752.93</td>\n",
       "      <td>-11.35</td>\n",
       "      <td>-0.94</td>\n",
       "      <td>-6.299</td>\n",
       "      <td>-6.47</td>\n",
       "      <td>-62.99</td>\n",
       "      <td>10</td>\n",
       "      <td>0</td>\n",
       "      <td>29</td>\n",
       "      <td>-0.035934</td>\n",
       "      <td>0.630905</td>\n",
       "    </tr>\n",
       "    <tr>\n",
       "      <th>WY</th>\n",
       "      <td>2025-02-26</td>\n",
       "      <td>2025-03-26</td>\n",
       "      <td>2025-03-27</td>\n",
       "      <td>1</td>\n",
       "      <td>10</td>\n",
       "      <td>4.7</td>\n",
       "      <td>3.5</td>\n",
       "      <td>296.13</td>\n",
       "      <td>-0.93</td>\n",
       "      <td>1.28</td>\n",
       "      <td>-0.126</td>\n",
       "      <td>-0.19</td>\n",
       "      <td>-1.26</td>\n",
       "      <td>10</td>\n",
       "      <td>4</td>\n",
       "      <td>29</td>\n",
       "      <td>-0.004255</td>\n",
       "      <td>0.947748</td>\n",
       "    </tr>\n",
       "  </tbody>\n",
       "</table>\n",
       "<p>177 rows × 18 columns</p>\n",
       "</div>"
      ],
      "text/plain": [
       "                     entry_date               exit_date days_held            \\\n",
       "                            min         max         max       min max  mean   \n",
       "ticker coint_ticker                                                           \n",
       "AMZN   BAC           2025-03-20  2025-03-26  2025-03-27         1   7  4.25   \n",
       "       CI            2025-03-20  2025-03-26  2025-03-27         1   7  4.25   \n",
       "       HII           2025-03-20  2025-03-26  2025-03-27         1   7  4.25   \n",
       "       HSY           2025-03-20  2025-03-26  2025-03-27         1   7  4.25   \n",
       "       INVH          2025-03-20  2025-03-26  2025-03-27         1   7  4.25   \n",
       "...                         ...         ...         ...       ...  ..   ...   \n",
       "XOM    GOOG          2025-02-26  2025-03-26  2025-03-27         1  10   4.7   \n",
       "       GOOGL         2025-02-26  2025-03-26  2025-03-27         1  10   4.7   \n",
       "       SJM           2025-02-26  2025-03-26  2025-03-27         1  10   4.7   \n",
       "       WSM           2025-02-26  2025-03-26  2025-03-27         1  10   4.7   \n",
       "       WY            2025-02-26  2025-03-26  2025-03-27         1  10   4.7   \n",
       "\n",
       "                           entry_price profit_loss                         \\\n",
       "                    median         sum         min    max    mean  median   \n",
       "ticker coint_ticker                                                         \n",
       "AMZN   BAC             4.5      170.84       -0.51   0.09   -0.15   -0.09   \n",
       "       CI              4.5     1279.67        3.35   8.09  4.8225   3.925   \n",
       "       HII             4.5      812.34       -2.74   1.68   0.065    0.66   \n",
       "       HSY             4.5      668.18         2.1   6.15   3.575   3.025   \n",
       "       INVH            4.5      136.52       -0.21   0.29    0.03    0.02   \n",
       "...                    ...         ...         ...    ...     ...     ...   \n",
       "XOM    GOOG            3.5     1675.28       -4.48   3.58  -0.896  -0.845   \n",
       "       GOOGL           3.5     1654.83       -4.22   3.32  -0.953    -0.9   \n",
       "       SJM             3.5     1114.87       -4.56   2.25  -0.901   -1.25   \n",
       "       WSM             3.5     1752.93      -11.35  -0.94  -6.299   -6.47   \n",
       "       WY              3.5      296.13       -0.93   1.28  -0.126   -0.19   \n",
       "\n",
       "                              win     trading_period percent_ret annual_ret  \n",
       "                        sum count sum                                        \n",
       "ticker coint_ticker                                                          \n",
       "AMZN   BAC             -0.6     4   2              7   -0.003512   0.832393  \n",
       "       CI             19.29     4   4              7    0.015074   2.181792  \n",
       "       HII             0.26     4   2              7     0.00032   1.016826  \n",
       "       HSY             14.3     4   4              7    0.021401   3.016682  \n",
       "       INVH            0.12     4   2              7    0.000879   1.046879  \n",
       "...                     ...   ...  ..            ...         ...        ...  \n",
       "XOM    GOOG           -8.96    10   4             29   -0.005348   0.934731  \n",
       "       GOOGL          -9.53    10   3             29   -0.005759   0.929887  \n",
       "       SJM            -9.01    10   3             29   -0.008082   0.902912  \n",
       "       WSM           -62.99    10   0             29   -0.035934   0.630905  \n",
       "       WY             -1.26    10   4             29   -0.004255   0.947748  \n",
       "\n",
       "[177 rows x 18 columns]"
      ]
     },
     "execution_count": 101,
     "metadata": {},
     "output_type": "execute_result"
    }
   ],
   "source": [
    "breakdown = utils.load_csv(\n",
    "    \"./data/results/2025-03-28/breakdown_summary.csv\", header=[0, 1], index_col=[0, 1]\n",
    ")\n",
    "breakdown"
   ]
  },
  {
   "cell_type": "code",
   "execution_count": 3,
   "metadata": {},
   "outputs": [
    {
     "data": {
      "text/html": [
       "<div>\n",
       "<style scoped>\n",
       "    .dataframe tbody tr th:only-of-type {\n",
       "        vertical-align: middle;\n",
       "    }\n",
       "\n",
       "    .dataframe tbody tr th {\n",
       "        vertical-align: top;\n",
       "    }\n",
       "\n",
       "    .dataframe thead th {\n",
       "        text-align: right;\n",
       "    }\n",
       "</style>\n",
       "<table border=\"1\" class=\"dataframe\">\n",
       "  <thead>\n",
       "    <tr style=\"text-align: right;\">\n",
       "      <th></th>\n",
       "      <th>date</th>\n",
       "      <th>ticker</th>\n",
       "      <th>day_name</th>\n",
       "      <th>is_holiday</th>\n",
       "      <th>av_rating</th>\n",
       "      <th>median_rating_excl</th>\n",
       "      <th>TSLA_close</th>\n",
       "      <th>CAG_close</th>\n",
       "      <th>action</th>\n",
       "    </tr>\n",
       "  </thead>\n",
       "  <tbody>\n",
       "    <tr>\n",
       "      <th>0</th>\n",
       "      <td>2025-03-25</td>\n",
       "      <td>TSLA</td>\n",
       "      <td>Tuesday</td>\n",
       "      <td>False</td>\n",
       "      <td>2.764706</td>\n",
       "      <td>1.5</td>\n",
       "      <td>288.14</td>\n",
       "      <td>25.35</td>\n",
       "      <td>sell</td>\n",
       "    </tr>\n",
       "    <tr>\n",
       "      <th>1</th>\n",
       "      <td>2025-03-26</td>\n",
       "      <td>TSLA</td>\n",
       "      <td>Wednesday</td>\n",
       "      <td>False</td>\n",
       "      <td>3.163636</td>\n",
       "      <td>4.5</td>\n",
       "      <td>272.06</td>\n",
       "      <td>25.92</td>\n",
       "      <td>buy</td>\n",
       "    </tr>\n",
       "    <tr>\n",
       "      <th>2</th>\n",
       "      <td>2025-03-27</td>\n",
       "      <td>TSLA</td>\n",
       "      <td>Thursday</td>\n",
       "      <td>False</td>\n",
       "      <td>2.800000</td>\n",
       "      <td>2.0</td>\n",
       "      <td>273.13</td>\n",
       "      <td>26.46</td>\n",
       "      <td>sell</td>\n",
       "    </tr>\n",
       "    <tr>\n",
       "      <th>3</th>\n",
       "      <td>2025-03-28</td>\n",
       "      <td>TSLA</td>\n",
       "      <td>Friday</td>\n",
       "      <td>False</td>\n",
       "      <td>2.530612</td>\n",
       "      <td>1.0</td>\n",
       "      <td>NaN</td>\n",
       "      <td>NaN</td>\n",
       "      <td>sell</td>\n",
       "    </tr>\n",
       "  </tbody>\n",
       "</table>\n",
       "</div>"
      ],
      "text/plain": [
       "         date ticker   day_name  is_holiday  av_rating  median_rating_excl  \\\n",
       "0  2025-03-25   TSLA    Tuesday       False   2.764706                 1.5   \n",
       "1  2025-03-26   TSLA  Wednesday       False   3.163636                 4.5   \n",
       "2  2025-03-27   TSLA   Thursday       False   2.800000                 2.0   \n",
       "3  2025-03-28   TSLA     Friday       False   2.530612                 1.0   \n",
       "\n",
       "   TSLA_close  CAG_close action  \n",
       "0      288.14      25.35   sell  \n",
       "1      272.06      25.92    buy  \n",
       "2      273.13      26.46   sell  \n",
       "3         NaN        NaN   sell  "
      ]
     },
     "execution_count": 3,
     "metadata": {},
     "output_type": "execute_result"
    }
   ],
   "source": [
    "tsla_cag = pd.read_csv(\n",
    "    \"./data/results/2025-03-28/ziweichen_5/price_actions/TSLA_CAG.csv\"\n",
    ")\n",
    "tsla_cag"
   ]
  },
  {
   "cell_type": "markdown",
   "metadata": {},
   "source": [
    "# [Future Works](#table-of-contents)\n",
    "\n",
    "- Determine if news title suffice in sentiment analysis.\n",
    "- Determine pvalue threshold for cointegration studies (Is lowest pvalue = highest profit)\n",
    "- Abberation studies using profit/loss generated based on sentiment rating:\n",
    "\n",
    "| S/N | Component            | Description                                                                                                               |\n",
    "| --- | -------------------- | ------------------------------------------------------------------------------------------------------------------------- |\n",
    "| 1.  | FinBert model        | &bull; Prosus AI, finbert-tone, FinBERT-FOMC, finbert-sentiment-analysis. <br>&bull; Currently tested on 'FinBERT-FOMC'.  |\n",
    "| 2.  | News info            | &bull; news title, news content, both news title and content. <br>&bull; Currently tested on both news title and content. |\n",
    "| 3.  | cointegration        | &bull; 1, 3 and 5 years. <br>&bull; Currently tested on 5 years.                                                          |\n",
    "| 4.  | correlation analysis | &bull; Pearson (Linear correlation), Spearman & Kendall (monotonic correlation). <br>&bull; Currently not tested.         |\n"
   ]
  }
 ],
 "metadata": {
  "kernelspec": {
   "display_name": "web",
   "language": "python",
   "name": "python3"
  },
  "language_info": {
   "codemirror_mode": {
    "name": "ipython",
    "version": 3
   },
   "file_extension": ".py",
   "mimetype": "text/x-python",
   "name": "python",
   "nbconvert_exporter": "python",
   "pygments_lexer": "ipython3",
   "version": "3.13.2"
  }
 },
 "nbformat": 4,
 "nbformat_minor": 2
}
