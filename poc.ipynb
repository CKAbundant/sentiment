{
 "cells": [
  {
   "cell_type": "markdown",
   "metadata": {},
   "source": [
    "# POC\n",
    "\n",
    "Methodology for POC:\n",
    "\n",
    "1. Choose \"AAPL\".\n",
    "2. Scrape news (from Yahoo Finance), for Apple stock via scrapling\n",
    "3. Use ChatGPT to determine the sentiment of each news on scale of 1 to 5:\n",
    "\n",
    "- 1 -> Negative\n",
    "- 2 -> Moderate negative\n",
    "- 3 -> Neutral\n",
    "- 4 -> Moderate positive\n",
    "- 5 -> Positive\n",
    "\n",
    "4. Use ChatGPT to determine the stock that has highest cointegration with Apple\n",
    "\n",
    "5. Use Selenium to load more news article\n"
   ]
  },
  {
   "cell_type": "markdown",
   "metadata": {},
   "source": [
    "# Table of Contents\n",
    "\n",
    "1. [Select Stocks](#select-stocks)\n",
    "2. [Extract News](#extract-news)\n",
    "3. [Perplexity Results](#perplexity-results-gpt-4o)\n",
    "   - 3.1 [Prompt](#prompt)\n",
    "   - 3.2 [Response](#response)\n",
    "   - 3.3 [Cointegration](#cointegration)\n",
    "   - 3.4 [Correlation](#correlation)\n",
    "4. [Selenium](#selenium)\n"
   ]
  },
  {
   "cell_type": "code",
   "execution_count": 1,
   "metadata": {},
   "outputs": [],
   "source": [
    "import pandas as pd\n",
    "import random\n",
    "import sys\n",
    "from pathlib import Path\n",
    "import scrapling\n",
    "from scrapling import Fetcher\n",
    "from selenium import webdriver\n",
    "from selenium.webdriver.common.by import By\n",
    "import time\n",
    "\n",
    "repo_dir = Path.cwd().as_posix()\n",
    "\n",
    "if repo_dir not in sys.path:\n",
    "    sys.path.append(repo_dir)\n",
    "\n",
    "%load_ext autoreload\n",
    "%autoreload 2\n",
    "\n",
    "from src import utils\n"
   ]
  },
  {
   "cell_type": "markdown",
   "metadata": {},
   "source": [
    "# [Select Stocks](#table-of-contents)\n",
    "\n",
    "- Test \"AAPL\", \"NVDA\", and \"PG\" for POC.\n",
    "- If time permits, then test the randomly selected stocks for each GICS Sector: ['PWR', 'INCY', 'CDW', 'CEG', 'BAC', 'LIN', 'BWA', 'ARE', 'CHTR', 'KDP', 'PSX']\n"
   ]
  },
  {
   "cell_type": "code",
   "execution_count": 33,
   "metadata": {},
   "outputs": [
    {
     "data": {
      "text/plain": [
       "{'Industrials': 'PWR',\n",
       " 'Health Care': 'INCY',\n",
       " 'Information Technology': 'CDW',\n",
       " 'Utilities': 'CEG',\n",
       " 'Financials': 'BAC',\n",
       " 'Materials': 'LIN',\n",
       " 'Consumer Discretionary': 'BWA',\n",
       " 'Real Estate': 'ARE',\n",
       " 'Communication Services': 'CHTR',\n",
       " 'Consumer Staples': 'KDP',\n",
       " 'Energy': 'PSX'}"
      ]
     },
     "execution_count": 33,
     "metadata": {},
     "output_type": "execute_result"
    }
   ],
   "source": [
    "stock_list = utils.gen_stock_list()\n",
    "stock_list"
   ]
  },
  {
   "cell_type": "code",
   "execution_count": 36,
   "metadata": {},
   "outputs": [
    {
     "data": {
      "text/plain": [
       "{'AAPL': 'Information Technology',\n",
       " 'MSFT': 'Information Technology',\n",
       " 'NVDA': 'Information Technology',\n",
       " 'GOOGL': 'Communication Services',\n",
       " 'META': 'Communication Services',\n",
       " 'XOM': 'Energy',\n",
       " 'CRM': 'Information Technology',\n",
       " 'HD': 'Consumer Discretionary',\n",
       " 'PG': 'Consumer Staples'}"
      ]
     },
     "execution_count": 36,
     "metadata": {},
     "output_type": "execute_result"
    }
   ],
   "source": [
    "utils.get_gics_sector(\n",
    "    [\"AAPL\", \"MSFT\", \"NVDA\", \"GOOGL\", \"META\", \"XOM\", \"CRM\", \"HD\", \"PG\"]\n",
    ")"
   ]
  },
  {
   "cell_type": "markdown",
   "metadata": {},
   "source": [
    "# [Extract News](#table-of-contents)\n",
    "\n",
    "- https://finance.yahoo.com/quote/AAPL/news/\n",
    "- Scrapling aren't able to web scrap fully since the news are loaded when user scroll to the end of screen.\n"
   ]
  },
  {
   "cell_type": "code",
   "execution_count": 98,
   "metadata": {},
   "outputs": [
    {
     "name": "stderr",
     "output_type": "stream",
     "text": [
      "[2025-03-08 21:01:29] INFO: Fetched (200) <GET https://finance.yahoo.com/quote/AAPL/news/> (referer: https://www.google.com/search?q=yahoo)\n"
     ]
    },
    {
     "data": {
      "text/plain": [
       "[{'publisher': 'Motley Fool',\n",
       "  'period': datetime.timedelta(seconds=7200),\n",
       "  'title': 'Could Apple Be a Millionaire-Maker Stock?',\n",
       "  'content': 'During its rise to become a dominant tech enterprise, Apple (NASDAQ: AAPL) has certainly made its early investors some serious money. In the past two decades, shares have generated a total return of greater than 18,000%, boosted by the introduction of popular hardware devices and services. Could Apple be a millionaire-maker stock?'},\n",
       " {'publisher': 'Insider Monkey',\n",
       "  'period': datetime.timedelta(seconds=43200),\n",
       "  'title': 'Apple Inc. (AAPL) Unveils AI-Powered MacBook Air with M4 Chip',\n",
       "  'content': 'We recently compiled a list of the 10 Hot AI News Updates Analysts are Monitoring. In this article, we are going to take a look at where Apple Inc. (NASDAQ:AAPL) stands against the other AI stocks. According to Goldman Sachs, the AI-powered rally in Chinese equities could boost other markets as well. Consequently, the firm has […]'},\n",
       " {'publisher': 'Zacks',\n",
       "  'period': datetime.timedelta(seconds=50400),\n",
       "  'title': 'Apple (AAPL) Beats Stock Market Upswing: What Investors Need to Know',\n",
       "  'content': 'In the most recent trading session, Apple (AAPL) closed at $239.07, indicating a +1.59% shift from the previous trading day.'},\n",
       " {'publisher': 'Bloomberg',\n",
       "  'period': datetime.timedelta(seconds=50400),\n",
       "  'title': 'Apple Delays Siri Upgrade Indefinitely as AI Concerns Escalate',\n",
       "  'content': '(Bloomberg) -- Apple Inc.’s turmoil in its AI division reached new heights on Friday, with the company delaying promised updates to the Siri digital assistant for the foreseeable future. Most Read from BloombergNJ College to Merge With State School After Financial StressTrump Administration Plans to Eliminate Dozens of Housing OfficesRepublican Mayor Braces for Tariffs: ‘We Didn’t Budget for This’How Upzoning in Cambridge Broke the YIMBY MoldNYC’s Finances Are Sinking With Gauge Falling to 11-Ye'},\n",
       " {'publisher': 'Investopedia',\n",
       "  'period': datetime.timedelta(seconds=54000),\n",
       "  'title': 'Apple Is Pushing Back AI-Driven Siri Features to 2026, Report Says',\n",
       "  'content': 'Apple plans to push back the launch of certain AI-driven Siri features until 2026, including one that would allow the voice assistant to perform tasks within other apps.'},\n",
       " {'publisher': 'The Wall Street Journal',\n",
       "  'period': datetime.timedelta(seconds=54000),\n",
       "  'title': 'Apple Says Some AI-Powered Enhancements to Siri to Be Delayed',\n",
       "  'content': 'The company, which has faced slumping iPhone sales in recent months, said that it would take it longer than expected to make Siri more personalized.'},\n",
       " {'publisher': 'MT Newswires',\n",
       "  'period': datetime.timedelta(seconds=57600),\n",
       "  'title': 'Sector Update: Tech Stocks Advance Late Afternoon',\n",
       "  'content': 'Tech stocks rose late Friday afternoon, with the Technology Select Sector SPDR Fund (XLK) adding 1.2'},\n",
       " {'publisher': \"Investor's Business Daily\",\n",
       "  'period': datetime.timedelta(seconds=64800),\n",
       "  'title': 'Magnificent Seven Stocks: Nvidia Reverses Higher; Amazon, Meta, Tesla Slide',\n",
       "  'content': 'Dubbed the Magnificent Seven stocks, Apple, Microsoft, Google parent Alphabet, Amazon.com, Nvidia, Meta Platforms and Tesla lived up to their name in 2024 with solid gains. Through the first two months of 2025, however, performance for these mega-cap stocks has been mostly negative thus far.'},\n",
       " {'publisher': 'Reuters',\n",
       "  'period': datetime.timedelta(seconds=68400),\n",
       "  'title': 'Apple says some AI improvements to Siri delayed to 2026',\n",
       "  'content': \"Some artificial intelligence improvements to Apple's voice assistant Siri will be delayed until 2026, the company said on Friday. Apple did not give a reason for the delays. Last year, Apple announced a range of AI-driven features called Apple Intelligence that included new capabilities such as rewriting emails and summarizing a cluttered inbox.\"},\n",
       " {'publisher': 'GuruFocus.com',\n",
       "  'period': datetime.timedelta(seconds=68400),\n",
       "  'title': \"Apple's First Foldable iPhone Could Launch in 2026 With Premium Pricing and AI Features\",\n",
       "  'content': 'The device could be priced above $2,000 and up to $2,500.'},\n",
       " {'publisher': 'Insider Monkey',\n",
       "  'period': datetime.timedelta(seconds=72000),\n",
       "  'title': 'Apple Inc. (AAPL): Jim Cramer Cautions – ‘I Could See the Stock Going Lower!’',\n",
       "  'content': 'We recently published a list of Jim Cramer Discusses These 13 Stocks & Criticizes Billionaires. In this article, we are going to take a look at where Apple Inc. (NASDAQ:AAPL) stands against other stocks that Jim Cramer discusses. In a recent appearance on CNBC’s Squawk on the Street, Jim Cramer continued to warn users to […]'},\n",
       " {'publisher': 'GuruFocus.com',\n",
       "  'period': datetime.timedelta(seconds=75600),\n",
       "  'title': 'Apple Secures Local Content Certifications in Indonesia but Faces Additional Regulatory Hurdles',\n",
       "  'content': 'Apple secures local content certificates for 20 products in Indonesia, including the iPhone 16.'},\n",
       " {'publisher': 'Insider Monkey',\n",
       "  'period': datetime.timedelta(seconds=75600),\n",
       "  'title': 'Is Apple Inc. (AAPL) Among the Best Warren Buffett Stock to Buy Right Now?',\n",
       "  'content': 'We recently compiled a list of the 10 Best Warren Buffett Stocks to Buy Right Now. In this article, we are going to take a look at where Apple Inc. (NASDAQ:AAPL) stands against the other Warren Buffett Stocks. Warren Buffett is one of the most successful investors the world has known. Additionally, he is arguably one […]'},\n",
       " {'publisher': 'Barrons.com',\n",
       "  'period': datetime.timedelta(seconds=79200),\n",
       "  'title': 'The Mag 7 Stocks Are No Longer Magnificent. Where the Charts Say They Go Next.',\n",
       "  'content': 'The good news for the tech heavyweights is that the stocks look due for a bounce. Here’s the technical case for buying the Mag 7.'},\n",
       " {'publisher': 'Bloomberg',\n",
       "  'period': datetime.timedelta(seconds=79200),\n",
       "  'title': 'Broadcom Shares Jump as AI Growth Fuels Upbeat Forecast',\n",
       "  'content': '(Bloomberg) -- Broadcom Inc. shares jumped after the chip supplier for Apple Inc. and other big tech companies gave an upbeat forecast, reassuring investors that spending on artificial intelligence computing remains healthy.Most Read from BloombergTrump Administration Plans to Eliminate Dozens of Housing OfficesNJ College to Merge With State School After Financial StressRepublican Mayor Braces for Tariffs: ‘We Didn’t Budget for This’How Upzoning in Cambridge Broke the YIMBY MoldNYC’s Finances Ar'},\n",
       " {'publisher': 'GuruFocus.com',\n",
       "  'period': datetime.timedelta(seconds=79200),\n",
       "  'title': 'Major Breakthrough: New Certificates Propel Apple iPhone 16 into Indonesia',\n",
       "  'content': 'Apple Certifies 20 Products, Paving the Way for iPhone 16 in Indonesia'},\n",
       " {'publisher': \"Investor's Business Daily\",\n",
       "  'period': datetime.timedelta(days=1),\n",
       "  'title': 'In Rotten Market, Top Funds Harvest Apple Stock — And 10 Others',\n",
       "  'content': 'The best mutual funds bet big on Apple stock, Meta, Robinhood, Walmart and seven others while Nasdaq turns bearish.'},\n",
       " {'publisher': 'GuruFocus.com',\n",
       "  'period': datetime.timedelta(days=1),\n",
       "  'title': \"Apple's iPhone 16 Still on Hold in Indonesia Despite Key Certification Win\",\n",
       "  'content': 'Apple clears a regulatory hurdle in Indonesia but must obtain more permits before selling its latest devices'},\n",
       " {'publisher': 'Simply Wall St.',\n",
       "  'period': datetime.timedelta(days=1),\n",
       "  'title': 'Cloud AI Today - Cirrascale Launches Inference Cloud For Scalable AI Integration',\n",
       "  'content': 'Cirrascale Cloud Services has introduced an Inference Cloud powered by the Qualcomm AI Inference Suite, enabling businesses to deploy AI models and applications efficiently with a single click. This new offering addresses the increasing demand for generative AI, providing scalable AI solutions from the cloud. The suite supports a variety of AI workloads including large language models. With cost-effective access through API interfaces, companies can integrate AI capabilities into applications...'},\n",
       " {'publisher': 'Motley Fool',\n",
       "  'period': datetime.timedelta(days=1),\n",
       "  'title': \"38% of Berkshire Hathaway's Portfolio Is Invested in These 3 Unstoppable Dividend Stocks\",\n",
       "  'content': 'There are several things Warren Buffett is known for as an investor. First, the Oracle of Omaha has consistently emphasized the importance of having a long-term mindset when investing in stocks. Second, he famously loves dividends.'}]"
      ]
     },
     "execution_count": 98,
     "metadata": {},
     "output_type": "execute_result"
    }
   ],
   "source": [
    "# Extract news related to AAPL from Yahoo Finance\n",
    "news_info = utils.extract_news_briefs(\"https://finance.yahoo.com/quote/AAPL/news/\")\n",
    "news_info"
   ]
  },
  {
   "cell_type": "markdown",
   "metadata": {},
   "source": [
    "# [Perplexity Results (GPT-4o)](#table-of-contents)\n"
   ]
  },
  {
   "cell_type": "markdown",
   "metadata": {},
   "source": [
    "## [Prompt](#table-of-contents)\n",
    "\n",
    "The list of dictionaries are attached with the following prompt in Perplexity:\n",
    "\n",
    "```\n",
    "You are a stock analysis expert.\n",
    "\n",
    "I've attached list of dictionaries containing news info specifically:\n",
    "\n",
    "1. publisher = Source where news are generated\n",
    "2. period = Amount of time lapsed after news release\n",
    "3. title = News title\n",
    "4. content = News content in brief\n",
    "\n",
    "Each dictionary is supposed to be related to Apple stock.\n",
    "\n",
    "Your task:\n",
    "1. Review the 'title' and 'content' keys in each dictionary to access the sentiment related to Apple stock.\n",
    "2. Use ONLY following rating:\n",
    "\n",
    "    1 = Negative\n",
    "    2 = Moderate negative\n",
    "    3 = Neutral\n",
    "    4 = Moderate positive\n",
    "    5 = Positive\n",
    "\n",
    "3. If the news are not related to a Apple stock, please give a rating of 3.\n",
    "4. Please review all dictionary items in the attached list and provide the corresponding rating.\n",
    "5. After reviewing all dictionary items, kindly provide an overall sentiment rating for Apple stock.\n",
    "```\n"
   ]
  },
  {
   "cell_type": "markdown",
   "metadata": {},
   "source": [
    "## [Response](#table-of-contents)\n",
    "\n",
    "Response from Perplexity (ChatGPT 4-o):\n",
    "\n",
    "```\n",
    "Sentiment Ratings for Each News Item\n",
    "Title: \"Could Apple Be a Millionaire-Maker Stock?\"\n",
    "Content: Highlights Apple's historical success and potential for future gains.\n",
    "Rating: 5 (Positive)\n",
    "\n",
    "Title: \"Apple Inc. (AAPL) Unveils AI-Powered MacBook Air with M4 Chip\"\n",
    "Content: Discusses the launch of an innovative product, indicating progress in AI.\n",
    "Rating: 5 (Positive)\n",
    "\n",
    "Title: \"Apple (AAPL) Beats Stock Market Upswing: What Investors Need to Know\"\n",
    "Content: Reports a positive trading session for Apple stock.\n",
    "Rating: 4 (Moderate positive)\n",
    "\n",
    "Title: \"Apple Delays Siri Upgrade Indefinitely as AI Concerns Escalate\"\n",
    "Content: Focuses on delays in Apple's AI projects, raising concerns.\n",
    "Rating: 2 (Moderate negative)\n",
    "\n",
    "Title: \"Apple Is Pushing Back AI-Driven Siri Features to 2026, Report Says\"\n",
    "Content: Similar to the previous item, emphasizes delays in Siri enhancements.\n",
    "Rating: 2 (Moderate negative)\n",
    "\n",
    "Title: \"Apple Says Some AI-Powered Enhancements to Siri to Be Delayed\"\n",
    "Content: Mentions delays in Siri updates amid slumping iPhone sales.\n",
    "Rating: 2 (Moderate negative)\n",
    "\n",
    "Title: \"Sector Update: Tech Stocks Advance Late Afternoon\"\n",
    "Content: General update on tech stocks without specific focus on Apple.\n",
    "Rating: 3 (Neutral)\n",
    "\n",
    "Title: \"Magnificent Seven Stocks: Nvidia Reverses Higher; Amazon, Meta, Tesla Slide\"\n",
    "Content: Discusses multiple tech stocks, with a brief mention of Apple’s mixed performance in 2025.\n",
    "Rating: 3 (Neutral)\n",
    "\n",
    "Title: \"Apple says some AI improvements to Siri delayed to 2026\"\n",
    "Content: Reiterates delays in Siri's AI features, consistent with earlier reports.\n",
    "Rating: 2 (Moderate negative)\n",
    "\n",
    "Title: \"Apple's First Foldable iPhone Could Launch in 2026 With Premium Pricing and AI Features\"\n",
    "Content: Speculates on a high-priced foldable iPhone with advanced features, suggesting innovation but no immediate impact.\n",
    "Rating: 4 (Moderate positive)\n",
    "\n",
    "Title: \"Apple Inc. (AAPL): Jim Cramer Cautions – ‘I Could See the Stock Going Lower!’\"\n",
    "Content: Warns of potential downside for Apple stock, reflecting negativity.\n",
    "Rating: 1 (Negative)\n",
    "\n",
    "Title: \"Apple Secures Local Content Certifications in Indonesia but Faces Additional Regulatory Hurdles\"\n",
    "Content: Notes progress in regulatory compliance but highlights challenges ahead.\n",
    "Rating: 3 (Neutral)\n",
    "\n",
    "Title: \"Is Apple Inc. (AAPL) Among the Best Warren Buffett Stock to Buy Right Now?\"\n",
    "Content: Discusses Apple's position as a strong investment option under Warren Buffett’s philosophy, implying positivity.\n",
    "Rating: 4 (Moderate positive)\n",
    "\n",
    "Title: \"The Mag 7 Stocks Are No Longer Magnificent. Where the Charts Say They Go Next.\"\n",
    "Content: Broad commentary on tech stocks, including Apple, with no clear sentiment focus on Apple itself.\n",
    "Rating: 3 (Neutral)\n",
    "\n",
    "Title: \"Broadcom Shares Jump as AI Growth Fuels Upbeat Forecast\"\n",
    "Content: Primarily about Broadcom, with indirect relevance to Apple as a client company.\n",
    "Rating: 3 (Neutral)\n",
    "\n",
    "Title: \"Major Breakthrough: New Certificates Propel Apple iPhone 16 into Indonesia\"\n",
    "Content: Highlights progress in regulatory certification for iPhone sales in Indonesia, indicating positive developments for Apple’s market expansion.\n",
    "Rating: 4 (Moderate positive)\n",
    "\n",
    "Title: \"In Rotten Market, Top Funds Harvest Apple Stock — And 10 Others\"\n",
    "Content: Indicates institutional confidence in Apple stock despite broader market challenges, reflecting positivity.\n",
    "Rating: 4 (Moderate positive)\n",
    "\n",
    "Title: \"Apple's iPhone 16 Still on Hold in Indonesia Despite Key Certification Win\"\n",
    "Content: Acknowledges regulatory progress but emphasizes ongoing hurdles for product launch in Indonesia.\n",
    "Rating: 3 (Neutral)\n",
    "\n",
    "Title: \"Cloud AI Today - Cirrascale Launches Inference Cloud For Scalable AI Integration\"\n",
    "Content: Not related to Apple stock specifically but mentions general AI developments in the industry.\n",
    "Rating: 3 (Neutral)\n",
    "\n",
    "Title: \"38% of Berkshire Hathaway's Portfolio Is Invested in These 3 Unstoppable Dividend Stocks\"\n",
    "Content: General commentary on Warren Buffett’s portfolio with no specific focus on Apple stock sentiment.\n",
    "Rating: 3 (Neutral)\n",
    "\n",
    "Overall Sentiment Rating for Apple Stock\n",
    "The individual ratings suggest a mix of sentiments:\n",
    "\n",
    "Positive/Moderate Positive Ratings (5 or 4): 8 items\n",
    "\n",
    "Neutral Ratings (3): 8 items\n",
    "\n",
    "Negative/Moderate Negative Ratings (1 or 2): 4 items\n",
    "\n",
    "The overall sentiment leans toward moderately positive for Apple stock, reflecting optimism tempered by some concerns over delays and market challenges.\n",
    "\n",
    "Final Overall Sentiment Rating:\n",
    "4 (Moderate positive)\n",
    "```\n"
   ]
  },
  {
   "cell_type": "markdown",
   "metadata": {},
   "source": [
    "## [Cointegration](#table-of-contents)\n",
    "\n",
    "ChatGPT is not able to provide the stock with highest cointegration value with Apple stock:\n",
    "\n",
    "```\n",
    "The query about which S&P 500 stock has the highest cointegration value with Apple stock cannot be answered directly using the provided search results. Cointegration analysis requires statistical computations based on historical price data of Apple stock and other S&P 500 stocks. This involves time-series analysis to determine the long-term equilibrium relationship between Apple and other stocks.\n",
    "\n",
    "If you have access to historical price data for Apple and other S&P 500 stocks, you can calculate cointegration values using statistical software or programming languages such as Python or R. The process typically involves:\n",
    "\n",
    "Collecting Data: Obtain historical price data for Apple (AAPL) and other S&P 500 stocks over a specific period.\n",
    "\n",
    "Stationarity Testing: Use tests like the Augmented Dickey-Fuller (ADF) test to ensure the time series are stationary.\n",
    "\n",
    "Cointegration Testing: Apply tests such as the Engle-Granger two-step method or Johansen test to identify stocks with high cointegration values with Apple.\n",
    "\n",
    "If you provide relevant price data or specify tools available, I can guide you further on how to perform this analysis.\n",
    "```\n"
   ]
  },
  {
   "cell_type": "markdown",
   "metadata": {},
   "source": [
    "## [Correlation](#table-of-contents)\n",
    "\n",
    "ChatGPT 4-o stated Microsoft has the highest degree of correlation:\n",
    "\n",
    "```\n",
    "The stock most correlated with Apple (AAPL) among S&P 500 companies is Microsoft (MSFT). Historically, Apple and Microsoft have shown a high degree of correlation due to their positions as leading technology companies and their exposure to similar market dynamics, such as consumer electronics, cloud computing, and software services.\n",
    "\n",
    "While specific numerical correlation values for S&P 500 stocks are not provided in the search results, Microsoft is widely recognized as one of Apple’s closest peers in terms of performance trends and market behavior. If you need precise correlation coefficients, you would need to calculate them using historical price data for Apple and other S&P 500 stocks over a specific period. Tools like Python, R, or financial platforms can help generate a correlation matrix for this purpose.\n",
    "```\n"
   ]
  },
  {
   "cell_type": "markdown",
   "metadata": {},
   "source": [
    "# [Selenium](#table-of-contents)\n",
    "\n",
    "- Selenium is not suitable as it occasionally run into ReadTimeoutError causing the code to break. Hence we are not able to perform scrolling to required level.\n",
    "- Running in Jupyter Notebook causes timeout error due to async operation of Jupyter Notebook.\n"
   ]
  },
  {
   "cell_type": "code",
   "execution_count": null,
   "metadata": {},
   "outputs": [
    {
     "ename": "ReadTimeoutError",
     "evalue": "HTTPConnectionPool(host='localhost', port=37797): Read timed out. (read timeout=120)",
     "output_type": "error",
     "traceback": [
      "\u001b[31m---------------------------------------------------------------------------\u001b[39m",
      "\u001b[31mTimeoutError\u001b[39m                              Traceback (most recent call last)",
      "\u001b[36mFile \u001b[39m\u001b[32m~/miniconda3/envs/web/lib/python3.13/site-packages/urllib3/connectionpool.py:534\u001b[39m, in \u001b[36mHTTPConnectionPool._make_request\u001b[39m\u001b[34m(self, conn, method, url, body, headers, retries, timeout, chunked, response_conn, preload_content, decode_content, enforce_content_length)\u001b[39m\n\u001b[32m    533\u001b[39m \u001b[38;5;28;01mtry\u001b[39;00m:\n\u001b[32m--> \u001b[39m\u001b[32m534\u001b[39m     response = \u001b[43mconn\u001b[49m\u001b[43m.\u001b[49m\u001b[43mgetresponse\u001b[49m\u001b[43m(\u001b[49m\u001b[43m)\u001b[49m\n\u001b[32m    535\u001b[39m \u001b[38;5;28;01mexcept\u001b[39;00m (BaseSSLError, \u001b[38;5;167;01mOSError\u001b[39;00m) \u001b[38;5;28;01mas\u001b[39;00m e:\n",
      "\u001b[36mFile \u001b[39m\u001b[32m~/miniconda3/envs/web/lib/python3.13/site-packages/urllib3/connection.py:516\u001b[39m, in \u001b[36mHTTPConnection.getresponse\u001b[39m\u001b[34m(self)\u001b[39m\n\u001b[32m    515\u001b[39m \u001b[38;5;66;03m# Get the response from http.client.HTTPConnection\u001b[39;00m\n\u001b[32m--> \u001b[39m\u001b[32m516\u001b[39m httplib_response = \u001b[38;5;28;43msuper\u001b[39;49m\u001b[43m(\u001b[49m\u001b[43m)\u001b[49m\u001b[43m.\u001b[49m\u001b[43mgetresponse\u001b[49m\u001b[43m(\u001b[49m\u001b[43m)\u001b[49m\n\u001b[32m    518\u001b[39m \u001b[38;5;28;01mtry\u001b[39;00m:\n",
      "\u001b[36mFile \u001b[39m\u001b[32m~/miniconda3/envs/web/lib/python3.13/http/client.py:1430\u001b[39m, in \u001b[36mHTTPConnection.getresponse\u001b[39m\u001b[34m(self)\u001b[39m\n\u001b[32m   1429\u001b[39m \u001b[38;5;28;01mtry\u001b[39;00m:\n\u001b[32m-> \u001b[39m\u001b[32m1430\u001b[39m     \u001b[43mresponse\u001b[49m\u001b[43m.\u001b[49m\u001b[43mbegin\u001b[49m\u001b[43m(\u001b[49m\u001b[43m)\u001b[49m\n\u001b[32m   1431\u001b[39m \u001b[38;5;28;01mexcept\u001b[39;00m \u001b[38;5;167;01mConnectionError\u001b[39;00m:\n",
      "\u001b[36mFile \u001b[39m\u001b[32m~/miniconda3/envs/web/lib/python3.13/http/client.py:331\u001b[39m, in \u001b[36mHTTPResponse.begin\u001b[39m\u001b[34m(self)\u001b[39m\n\u001b[32m    330\u001b[39m \u001b[38;5;28;01mwhile\u001b[39;00m \u001b[38;5;28;01mTrue\u001b[39;00m:\n\u001b[32m--> \u001b[39m\u001b[32m331\u001b[39m     version, status, reason = \u001b[38;5;28;43mself\u001b[39;49m\u001b[43m.\u001b[49m\u001b[43m_read_status\u001b[49m\u001b[43m(\u001b[49m\u001b[43m)\u001b[49m\n\u001b[32m    332\u001b[39m     \u001b[38;5;28;01mif\u001b[39;00m status != CONTINUE:\n",
      "\u001b[36mFile \u001b[39m\u001b[32m~/miniconda3/envs/web/lib/python3.13/http/client.py:292\u001b[39m, in \u001b[36mHTTPResponse._read_status\u001b[39m\u001b[34m(self)\u001b[39m\n\u001b[32m    291\u001b[39m \u001b[38;5;28;01mdef\u001b[39;00m\u001b[38;5;250m \u001b[39m\u001b[34m_read_status\u001b[39m(\u001b[38;5;28mself\u001b[39m):\n\u001b[32m--> \u001b[39m\u001b[32m292\u001b[39m     line = \u001b[38;5;28mstr\u001b[39m(\u001b[38;5;28;43mself\u001b[39;49m\u001b[43m.\u001b[49m\u001b[43mfp\u001b[49m\u001b[43m.\u001b[49m\u001b[43mreadline\u001b[49m\u001b[43m(\u001b[49m\u001b[43m_MAXLINE\u001b[49m\u001b[43m \u001b[49m\u001b[43m+\u001b[49m\u001b[43m \u001b[49m\u001b[32;43m1\u001b[39;49m\u001b[43m)\u001b[49m, \u001b[33m\"\u001b[39m\u001b[33miso-8859-1\u001b[39m\u001b[33m\"\u001b[39m)\n\u001b[32m    293\u001b[39m     \u001b[38;5;28;01mif\u001b[39;00m \u001b[38;5;28mlen\u001b[39m(line) > _MAXLINE:\n",
      "\u001b[36mFile \u001b[39m\u001b[32m~/miniconda3/envs/web/lib/python3.13/socket.py:719\u001b[39m, in \u001b[36mSocketIO.readinto\u001b[39m\u001b[34m(self, b)\u001b[39m\n\u001b[32m    718\u001b[39m \u001b[38;5;28;01mtry\u001b[39;00m:\n\u001b[32m--> \u001b[39m\u001b[32m719\u001b[39m     \u001b[38;5;28;01mreturn\u001b[39;00m \u001b[38;5;28;43mself\u001b[39;49m\u001b[43m.\u001b[49m\u001b[43m_sock\u001b[49m\u001b[43m.\u001b[49m\u001b[43mrecv_into\u001b[49m\u001b[43m(\u001b[49m\u001b[43mb\u001b[49m\u001b[43m)\u001b[49m\n\u001b[32m    720\u001b[39m \u001b[38;5;28;01mexcept\u001b[39;00m timeout:\n",
      "\u001b[31mTimeoutError\u001b[39m: timed out",
      "\nThe above exception was the direct cause of the following exception:\n",
      "\u001b[31mReadTimeoutError\u001b[39m                          Traceback (most recent call last)",
      "\u001b[36mCell\u001b[39m\u001b[36m \u001b[39m\u001b[32mIn[2]\u001b[39m\u001b[32m, line 5\u001b[39m\n\u001b[32m      2\u001b[39m scroll_limit = \u001b[32m5\u001b[39m\n\u001b[32m      4\u001b[39m driver = webdriver.Chrome()\n\u001b[32m----> \u001b[39m\u001b[32m5\u001b[39m \u001b[43mdriver\u001b[49m\u001b[43m.\u001b[49m\u001b[43mget\u001b[49m\u001b[43m(\u001b[49m\u001b[43murl\u001b[49m\u001b[43m)\u001b[49m\n\u001b[32m      7\u001b[39m \u001b[38;5;66;03m# Locate <a> tag and navigate to its parent <div>\u001b[39;00m\n\u001b[32m      8\u001b[39m parent_div = driver.find_elements(\n\u001b[32m      9\u001b[39m     By.XPATH,\n\u001b[32m     10\u001b[39m     \u001b[33m\"\u001b[39m\u001b[33m//div[@class=\u001b[39m\u001b[33m'\u001b[39m\u001b[33mcontent yf-82qtw3\u001b[39m\u001b[33m'\u001b[39m\u001b[33m]\u001b[39m\u001b[33m\"\u001b[39m\n\u001b[32m     11\u001b[39m )\n",
      "\u001b[36mFile \u001b[39m\u001b[32m~/miniconda3/envs/web/lib/python3.13/site-packages/selenium/webdriver/remote/webdriver.py:454\u001b[39m, in \u001b[36mWebDriver.get\u001b[39m\u001b[34m(self, url)\u001b[39m\n\u001b[32m    436\u001b[39m \u001b[38;5;28;01mdef\u001b[39;00m\u001b[38;5;250m \u001b[39m\u001b[34mget\u001b[39m(\u001b[38;5;28mself\u001b[39m, url: \u001b[38;5;28mstr\u001b[39m) -> \u001b[38;5;28;01mNone\u001b[39;00m:\n\u001b[32m    437\u001b[39m \u001b[38;5;250m    \u001b[39m\u001b[33;03m\"\"\"Navigate the browser to the specified URL in the current window or\u001b[39;00m\n\u001b[32m    438\u001b[39m \u001b[33;03m    tab.\u001b[39;00m\n\u001b[32m    439\u001b[39m \n\u001b[32m   (...)\u001b[39m\u001b[32m    452\u001b[39m \u001b[33;03m    >>> driver.get(\"https://example.com\")\u001b[39;00m\n\u001b[32m    453\u001b[39m \u001b[33;03m    \"\"\"\u001b[39;00m\n\u001b[32m--> \u001b[39m\u001b[32m454\u001b[39m     \u001b[38;5;28;43mself\u001b[39;49m\u001b[43m.\u001b[49m\u001b[43mexecute\u001b[49m\u001b[43m(\u001b[49m\u001b[43mCommand\u001b[49m\u001b[43m.\u001b[49m\u001b[43mGET\u001b[49m\u001b[43m,\u001b[49m\u001b[43m \u001b[49m\u001b[43m{\u001b[49m\u001b[33;43m\"\u001b[39;49m\u001b[33;43murl\u001b[39;49m\u001b[33;43m\"\u001b[39;49m\u001b[43m:\u001b[49m\u001b[43m \u001b[49m\u001b[43murl\u001b[49m\u001b[43m}\u001b[49m\u001b[43m)\u001b[49m\n",
      "\u001b[36mFile \u001b[39m\u001b[32m~/miniconda3/envs/web/lib/python3.13/site-packages/selenium/webdriver/remote/webdriver.py:427\u001b[39m, in \u001b[36mWebDriver.execute\u001b[39m\u001b[34m(self, driver_command, params)\u001b[39m\n\u001b[32m    424\u001b[39m     \u001b[38;5;28;01melif\u001b[39;00m \u001b[33m\"\u001b[39m\u001b[33msessionId\u001b[39m\u001b[33m\"\u001b[39m \u001b[38;5;129;01mnot\u001b[39;00m \u001b[38;5;129;01min\u001b[39;00m params:\n\u001b[32m    425\u001b[39m         params[\u001b[33m\"\u001b[39m\u001b[33msessionId\u001b[39m\u001b[33m\"\u001b[39m] = \u001b[38;5;28mself\u001b[39m.session_id\n\u001b[32m--> \u001b[39m\u001b[32m427\u001b[39m response = \u001b[38;5;28;43mself\u001b[39;49m\u001b[43m.\u001b[49m\u001b[43mcommand_executor\u001b[49m\u001b[43m.\u001b[49m\u001b[43mexecute\u001b[49m\u001b[43m(\u001b[49m\u001b[43mdriver_command\u001b[49m\u001b[43m,\u001b[49m\u001b[43m \u001b[49m\u001b[43mparams\u001b[49m\u001b[43m)\u001b[49m\n\u001b[32m    428\u001b[39m \u001b[38;5;28;01mif\u001b[39;00m response:\n\u001b[32m    429\u001b[39m     \u001b[38;5;28mself\u001b[39m.error_handler.check_response(response)\n",
      "\u001b[36mFile \u001b[39m\u001b[32m~/miniconda3/envs/web/lib/python3.13/site-packages/selenium/webdriver/remote/remote_connection.py:404\u001b[39m, in \u001b[36mRemoteConnection.execute\u001b[39m\u001b[34m(self, command, params)\u001b[39m\n\u001b[32m    402\u001b[39m trimmed = \u001b[38;5;28mself\u001b[39m._trim_large_entries(params)\n\u001b[32m    403\u001b[39m LOGGER.debug(\u001b[33m\"\u001b[39m\u001b[38;5;132;01m%s\u001b[39;00m\u001b[33m \u001b[39m\u001b[38;5;132;01m%s\u001b[39;00m\u001b[33m \u001b[39m\u001b[38;5;132;01m%s\u001b[39;00m\u001b[33m\"\u001b[39m, command_info[\u001b[32m0\u001b[39m], url, \u001b[38;5;28mstr\u001b[39m(trimmed))\n\u001b[32m--> \u001b[39m\u001b[32m404\u001b[39m \u001b[38;5;28;01mreturn\u001b[39;00m \u001b[38;5;28;43mself\u001b[39;49m\u001b[43m.\u001b[49m\u001b[43m_request\u001b[49m\u001b[43m(\u001b[49m\u001b[43mcommand_info\u001b[49m\u001b[43m[\u001b[49m\u001b[32;43m0\u001b[39;49m\u001b[43m]\u001b[49m\u001b[43m,\u001b[49m\u001b[43m \u001b[49m\u001b[43murl\u001b[49m\u001b[43m,\u001b[49m\u001b[43m \u001b[49m\u001b[43mbody\u001b[49m\u001b[43m=\u001b[49m\u001b[43mdata\u001b[49m\u001b[43m)\u001b[49m\n",
      "\u001b[36mFile \u001b[39m\u001b[32m~/miniconda3/envs/web/lib/python3.13/site-packages/selenium/webdriver/remote/remote_connection.py:428\u001b[39m, in \u001b[36mRemoteConnection._request\u001b[39m\u001b[34m(self, method, url, body)\u001b[39m\n\u001b[32m    425\u001b[39m     body = \u001b[38;5;28;01mNone\u001b[39;00m\n\u001b[32m    427\u001b[39m \u001b[38;5;28;01mif\u001b[39;00m \u001b[38;5;28mself\u001b[39m._client_config.keep_alive:\n\u001b[32m--> \u001b[39m\u001b[32m428\u001b[39m     response = \u001b[38;5;28;43mself\u001b[39;49m\u001b[43m.\u001b[49m\u001b[43m_conn\u001b[49m\u001b[43m.\u001b[49m\u001b[43mrequest\u001b[49m\u001b[43m(\u001b[49m\u001b[43mmethod\u001b[49m\u001b[43m,\u001b[49m\u001b[43m \u001b[49m\u001b[43murl\u001b[49m\u001b[43m,\u001b[49m\u001b[43m \u001b[49m\u001b[43mbody\u001b[49m\u001b[43m=\u001b[49m\u001b[43mbody\u001b[49m\u001b[43m,\u001b[49m\u001b[43m \u001b[49m\u001b[43mheaders\u001b[49m\u001b[43m=\u001b[49m\u001b[43mheaders\u001b[49m\u001b[43m,\u001b[49m\u001b[43m \u001b[49m\u001b[43mtimeout\u001b[49m\u001b[43m=\u001b[49m\u001b[38;5;28;43mself\u001b[39;49m\u001b[43m.\u001b[49m\u001b[43m_client_config\u001b[49m\u001b[43m.\u001b[49m\u001b[43mtimeout\u001b[49m\u001b[43m)\u001b[49m\n\u001b[32m    429\u001b[39m     statuscode = response.status\n\u001b[32m    430\u001b[39m \u001b[38;5;28;01melse\u001b[39;00m:\n",
      "\u001b[36mFile \u001b[39m\u001b[32m~/miniconda3/envs/web/lib/python3.13/site-packages/urllib3/_request_methods.py:143\u001b[39m, in \u001b[36mRequestMethods.request\u001b[39m\u001b[34m(self, method, url, body, fields, headers, json, **urlopen_kw)\u001b[39m\n\u001b[32m    135\u001b[39m     \u001b[38;5;28;01mreturn\u001b[39;00m \u001b[38;5;28mself\u001b[39m.request_encode_url(\n\u001b[32m    136\u001b[39m         method,\n\u001b[32m    137\u001b[39m         url,\n\u001b[32m   (...)\u001b[39m\u001b[32m    140\u001b[39m         **urlopen_kw,\n\u001b[32m    141\u001b[39m     )\n\u001b[32m    142\u001b[39m \u001b[38;5;28;01melse\u001b[39;00m:\n\u001b[32m--> \u001b[39m\u001b[32m143\u001b[39m     \u001b[38;5;28;01mreturn\u001b[39;00m \u001b[38;5;28;43mself\u001b[39;49m\u001b[43m.\u001b[49m\u001b[43mrequest_encode_body\u001b[49m\u001b[43m(\u001b[49m\n\u001b[32m    144\u001b[39m \u001b[43m        \u001b[49m\u001b[43mmethod\u001b[49m\u001b[43m,\u001b[49m\u001b[43m \u001b[49m\u001b[43murl\u001b[49m\u001b[43m,\u001b[49m\u001b[43m \u001b[49m\u001b[43mfields\u001b[49m\u001b[43m=\u001b[49m\u001b[43mfields\u001b[49m\u001b[43m,\u001b[49m\u001b[43m \u001b[49m\u001b[43mheaders\u001b[49m\u001b[43m=\u001b[49m\u001b[43mheaders\u001b[49m\u001b[43m,\u001b[49m\u001b[43m \u001b[49m\u001b[43m*\u001b[49m\u001b[43m*\u001b[49m\u001b[43murlopen_kw\u001b[49m\n\u001b[32m    145\u001b[39m \u001b[43m    \u001b[49m\u001b[43m)\u001b[49m\n",
      "\u001b[36mFile \u001b[39m\u001b[32m~/miniconda3/envs/web/lib/python3.13/site-packages/urllib3/_request_methods.py:278\u001b[39m, in \u001b[36mRequestMethods.request_encode_body\u001b[39m\u001b[34m(self, method, url, fields, headers, encode_multipart, multipart_boundary, **urlopen_kw)\u001b[39m\n\u001b[32m    274\u001b[39m     extra_kw[\u001b[33m\"\u001b[39m\u001b[33mheaders\u001b[39m\u001b[33m\"\u001b[39m].setdefault(\u001b[33m\"\u001b[39m\u001b[33mContent-Type\u001b[39m\u001b[33m\"\u001b[39m, content_type)\n\u001b[32m    276\u001b[39m extra_kw.update(urlopen_kw)\n\u001b[32m--> \u001b[39m\u001b[32m278\u001b[39m \u001b[38;5;28;01mreturn\u001b[39;00m \u001b[38;5;28;43mself\u001b[39;49m\u001b[43m.\u001b[49m\u001b[43murlopen\u001b[49m\u001b[43m(\u001b[49m\u001b[43mmethod\u001b[49m\u001b[43m,\u001b[49m\u001b[43m \u001b[49m\u001b[43murl\u001b[49m\u001b[43m,\u001b[49m\u001b[43m \u001b[49m\u001b[43m*\u001b[49m\u001b[43m*\u001b[49m\u001b[43mextra_kw\u001b[49m\u001b[43m)\u001b[49m\n",
      "\u001b[36mFile \u001b[39m\u001b[32m~/miniconda3/envs/web/lib/python3.13/site-packages/urllib3/poolmanager.py:443\u001b[39m, in \u001b[36mPoolManager.urlopen\u001b[39m\u001b[34m(self, method, url, redirect, **kw)\u001b[39m\n\u001b[32m    441\u001b[39m     response = conn.urlopen(method, url, **kw)\n\u001b[32m    442\u001b[39m \u001b[38;5;28;01melse\u001b[39;00m:\n\u001b[32m--> \u001b[39m\u001b[32m443\u001b[39m     response = \u001b[43mconn\u001b[49m\u001b[43m.\u001b[49m\u001b[43murlopen\u001b[49m\u001b[43m(\u001b[49m\u001b[43mmethod\u001b[49m\u001b[43m,\u001b[49m\u001b[43m \u001b[49m\u001b[43mu\u001b[49m\u001b[43m.\u001b[49m\u001b[43mrequest_uri\u001b[49m\u001b[43m,\u001b[49m\u001b[43m \u001b[49m\u001b[43m*\u001b[49m\u001b[43m*\u001b[49m\u001b[43mkw\u001b[49m\u001b[43m)\u001b[49m\n\u001b[32m    445\u001b[39m redirect_location = redirect \u001b[38;5;129;01mand\u001b[39;00m response.get_redirect_location()\n\u001b[32m    446\u001b[39m \u001b[38;5;28;01mif\u001b[39;00m \u001b[38;5;129;01mnot\u001b[39;00m redirect_location:\n",
      "\u001b[36mFile \u001b[39m\u001b[32m~/miniconda3/envs/web/lib/python3.13/site-packages/urllib3/connectionpool.py:841\u001b[39m, in \u001b[36mHTTPConnectionPool.urlopen\u001b[39m\u001b[34m(self, method, url, body, headers, retries, redirect, assert_same_host, timeout, pool_timeout, release_conn, chunked, body_pos, preload_content, decode_content, **response_kw)\u001b[39m\n\u001b[32m    838\u001b[39m \u001b[38;5;28;01melif\u001b[39;00m \u001b[38;5;28misinstance\u001b[39m(new_e, (\u001b[38;5;167;01mOSError\u001b[39;00m, HTTPException)):\n\u001b[32m    839\u001b[39m     new_e = ProtocolError(\u001b[33m\"\u001b[39m\u001b[33mConnection aborted.\u001b[39m\u001b[33m\"\u001b[39m, new_e)\n\u001b[32m--> \u001b[39m\u001b[32m841\u001b[39m retries = \u001b[43mretries\u001b[49m\u001b[43m.\u001b[49m\u001b[43mincrement\u001b[49m\u001b[43m(\u001b[49m\n\u001b[32m    842\u001b[39m \u001b[43m    \u001b[49m\u001b[43mmethod\u001b[49m\u001b[43m,\u001b[49m\u001b[43m \u001b[49m\u001b[43murl\u001b[49m\u001b[43m,\u001b[49m\u001b[43m \u001b[49m\u001b[43merror\u001b[49m\u001b[43m=\u001b[49m\u001b[43mnew_e\u001b[49m\u001b[43m,\u001b[49m\u001b[43m \u001b[49m\u001b[43m_pool\u001b[49m\u001b[43m=\u001b[49m\u001b[38;5;28;43mself\u001b[39;49m\u001b[43m,\u001b[49m\u001b[43m \u001b[49m\u001b[43m_stacktrace\u001b[49m\u001b[43m=\u001b[49m\u001b[43msys\u001b[49m\u001b[43m.\u001b[49m\u001b[43mexc_info\u001b[49m\u001b[43m(\u001b[49m\u001b[43m)\u001b[49m\u001b[43m[\u001b[49m\u001b[32;43m2\u001b[39;49m\u001b[43m]\u001b[49m\n\u001b[32m    843\u001b[39m \u001b[43m\u001b[49m\u001b[43m)\u001b[49m\n\u001b[32m    844\u001b[39m retries.sleep()\n\u001b[32m    846\u001b[39m \u001b[38;5;66;03m# Keep track of the error for the retry warning.\u001b[39;00m\n",
      "\u001b[36mFile \u001b[39m\u001b[32m~/miniconda3/envs/web/lib/python3.13/site-packages/urllib3/util/retry.py:474\u001b[39m, in \u001b[36mRetry.increment\u001b[39m\u001b[34m(self, method, url, response, error, _pool, _stacktrace)\u001b[39m\n\u001b[32m    471\u001b[39m \u001b[38;5;28;01melif\u001b[39;00m error \u001b[38;5;129;01mand\u001b[39;00m \u001b[38;5;28mself\u001b[39m._is_read_error(error):\n\u001b[32m    472\u001b[39m     \u001b[38;5;66;03m# Read retry?\u001b[39;00m\n\u001b[32m    473\u001b[39m     \u001b[38;5;28;01mif\u001b[39;00m read \u001b[38;5;129;01mis\u001b[39;00m \u001b[38;5;28;01mFalse\u001b[39;00m \u001b[38;5;129;01mor\u001b[39;00m method \u001b[38;5;129;01mis\u001b[39;00m \u001b[38;5;28;01mNone\u001b[39;00m \u001b[38;5;129;01mor\u001b[39;00m \u001b[38;5;129;01mnot\u001b[39;00m \u001b[38;5;28mself\u001b[39m._is_method_retryable(method):\n\u001b[32m--> \u001b[39m\u001b[32m474\u001b[39m         \u001b[38;5;28;01mraise\u001b[39;00m \u001b[43mreraise\u001b[49m\u001b[43m(\u001b[49m\u001b[38;5;28;43mtype\u001b[39;49m\u001b[43m(\u001b[49m\u001b[43merror\u001b[49m\u001b[43m)\u001b[49m\u001b[43m,\u001b[49m\u001b[43m \u001b[49m\u001b[43merror\u001b[49m\u001b[43m,\u001b[49m\u001b[43m \u001b[49m\u001b[43m_stacktrace\u001b[49m\u001b[43m)\u001b[49m\n\u001b[32m    475\u001b[39m     \u001b[38;5;28;01melif\u001b[39;00m read \u001b[38;5;129;01mis\u001b[39;00m \u001b[38;5;129;01mnot\u001b[39;00m \u001b[38;5;28;01mNone\u001b[39;00m:\n\u001b[32m    476\u001b[39m         read -= \u001b[32m1\u001b[39m\n",
      "\u001b[36mFile \u001b[39m\u001b[32m~/miniconda3/envs/web/lib/python3.13/site-packages/urllib3/util/util.py:39\u001b[39m, in \u001b[36mreraise\u001b[39m\u001b[34m(tp, value, tb)\u001b[39m\n\u001b[32m     37\u001b[39m     \u001b[38;5;28;01mif\u001b[39;00m value.__traceback__ \u001b[38;5;129;01mis\u001b[39;00m \u001b[38;5;129;01mnot\u001b[39;00m tb:\n\u001b[32m     38\u001b[39m         \u001b[38;5;28;01mraise\u001b[39;00m value.with_traceback(tb)\n\u001b[32m---> \u001b[39m\u001b[32m39\u001b[39m     \u001b[38;5;28;01mraise\u001b[39;00m value\n\u001b[32m     40\u001b[39m \u001b[38;5;28;01mfinally\u001b[39;00m:\n\u001b[32m     41\u001b[39m     value = \u001b[38;5;28;01mNone\u001b[39;00m  \u001b[38;5;66;03m# type: ignore[assignment]\u001b[39;00m\n",
      "\u001b[36mFile \u001b[39m\u001b[32m~/miniconda3/envs/web/lib/python3.13/site-packages/urllib3/connectionpool.py:787\u001b[39m, in \u001b[36mHTTPConnectionPool.urlopen\u001b[39m\u001b[34m(self, method, url, body, headers, retries, redirect, assert_same_host, timeout, pool_timeout, release_conn, chunked, body_pos, preload_content, decode_content, **response_kw)\u001b[39m\n\u001b[32m    784\u001b[39m response_conn = conn \u001b[38;5;28;01mif\u001b[39;00m \u001b[38;5;129;01mnot\u001b[39;00m release_conn \u001b[38;5;28;01melse\u001b[39;00m \u001b[38;5;28;01mNone\u001b[39;00m\n\u001b[32m    786\u001b[39m \u001b[38;5;66;03m# Make the request on the HTTPConnection object\u001b[39;00m\n\u001b[32m--> \u001b[39m\u001b[32m787\u001b[39m response = \u001b[38;5;28;43mself\u001b[39;49m\u001b[43m.\u001b[49m\u001b[43m_make_request\u001b[49m\u001b[43m(\u001b[49m\n\u001b[32m    788\u001b[39m \u001b[43m    \u001b[49m\u001b[43mconn\u001b[49m\u001b[43m,\u001b[49m\n\u001b[32m    789\u001b[39m \u001b[43m    \u001b[49m\u001b[43mmethod\u001b[49m\u001b[43m,\u001b[49m\n\u001b[32m    790\u001b[39m \u001b[43m    \u001b[49m\u001b[43murl\u001b[49m\u001b[43m,\u001b[49m\n\u001b[32m    791\u001b[39m \u001b[43m    \u001b[49m\u001b[43mtimeout\u001b[49m\u001b[43m=\u001b[49m\u001b[43mtimeout_obj\u001b[49m\u001b[43m,\u001b[49m\n\u001b[32m    792\u001b[39m \u001b[43m    \u001b[49m\u001b[43mbody\u001b[49m\u001b[43m=\u001b[49m\u001b[43mbody\u001b[49m\u001b[43m,\u001b[49m\n\u001b[32m    793\u001b[39m \u001b[43m    \u001b[49m\u001b[43mheaders\u001b[49m\u001b[43m=\u001b[49m\u001b[43mheaders\u001b[49m\u001b[43m,\u001b[49m\n\u001b[32m    794\u001b[39m \u001b[43m    \u001b[49m\u001b[43mchunked\u001b[49m\u001b[43m=\u001b[49m\u001b[43mchunked\u001b[49m\u001b[43m,\u001b[49m\n\u001b[32m    795\u001b[39m \u001b[43m    \u001b[49m\u001b[43mretries\u001b[49m\u001b[43m=\u001b[49m\u001b[43mretries\u001b[49m\u001b[43m,\u001b[49m\n\u001b[32m    796\u001b[39m \u001b[43m    \u001b[49m\u001b[43mresponse_conn\u001b[49m\u001b[43m=\u001b[49m\u001b[43mresponse_conn\u001b[49m\u001b[43m,\u001b[49m\n\u001b[32m    797\u001b[39m \u001b[43m    \u001b[49m\u001b[43mpreload_content\u001b[49m\u001b[43m=\u001b[49m\u001b[43mpreload_content\u001b[49m\u001b[43m,\u001b[49m\n\u001b[32m    798\u001b[39m \u001b[43m    \u001b[49m\u001b[43mdecode_content\u001b[49m\u001b[43m=\u001b[49m\u001b[43mdecode_content\u001b[49m\u001b[43m,\u001b[49m\n\u001b[32m    799\u001b[39m \u001b[43m    \u001b[49m\u001b[43m*\u001b[49m\u001b[43m*\u001b[49m\u001b[43mresponse_kw\u001b[49m\u001b[43m,\u001b[49m\n\u001b[32m    800\u001b[39m \u001b[43m\u001b[49m\u001b[43m)\u001b[49m\n\u001b[32m    802\u001b[39m \u001b[38;5;66;03m# Everything went great!\u001b[39;00m\n\u001b[32m    803\u001b[39m clean_exit = \u001b[38;5;28;01mTrue\u001b[39;00m\n",
      "\u001b[36mFile \u001b[39m\u001b[32m~/miniconda3/envs/web/lib/python3.13/site-packages/urllib3/connectionpool.py:536\u001b[39m, in \u001b[36mHTTPConnectionPool._make_request\u001b[39m\u001b[34m(self, conn, method, url, body, headers, retries, timeout, chunked, response_conn, preload_content, decode_content, enforce_content_length)\u001b[39m\n\u001b[32m    534\u001b[39m     response = conn.getresponse()\n\u001b[32m    535\u001b[39m \u001b[38;5;28;01mexcept\u001b[39;00m (BaseSSLError, \u001b[38;5;167;01mOSError\u001b[39;00m) \u001b[38;5;28;01mas\u001b[39;00m e:\n\u001b[32m--> \u001b[39m\u001b[32m536\u001b[39m     \u001b[38;5;28;43mself\u001b[39;49m\u001b[43m.\u001b[49m\u001b[43m_raise_timeout\u001b[49m\u001b[43m(\u001b[49m\u001b[43merr\u001b[49m\u001b[43m=\u001b[49m\u001b[43me\u001b[49m\u001b[43m,\u001b[49m\u001b[43m \u001b[49m\u001b[43murl\u001b[49m\u001b[43m=\u001b[49m\u001b[43murl\u001b[49m\u001b[43m,\u001b[49m\u001b[43m \u001b[49m\u001b[43mtimeout_value\u001b[49m\u001b[43m=\u001b[49m\u001b[43mread_timeout\u001b[49m\u001b[43m)\u001b[49m\n\u001b[32m    537\u001b[39m     \u001b[38;5;28;01mraise\u001b[39;00m\n\u001b[32m    539\u001b[39m \u001b[38;5;66;03m# Set properties that are used by the pooling layer.\u001b[39;00m\n",
      "\u001b[36mFile \u001b[39m\u001b[32m~/miniconda3/envs/web/lib/python3.13/site-packages/urllib3/connectionpool.py:367\u001b[39m, in \u001b[36mHTTPConnectionPool._raise_timeout\u001b[39m\u001b[34m(self, err, url, timeout_value)\u001b[39m\n\u001b[32m    364\u001b[39m \u001b[38;5;250m\u001b[39m\u001b[33;03m\"\"\"Is the error actually a timeout? Will raise a ReadTimeout or pass\"\"\"\u001b[39;00m\n\u001b[32m    366\u001b[39m \u001b[38;5;28;01mif\u001b[39;00m \u001b[38;5;28misinstance\u001b[39m(err, SocketTimeout):\n\u001b[32m--> \u001b[39m\u001b[32m367\u001b[39m     \u001b[38;5;28;01mraise\u001b[39;00m ReadTimeoutError(\n\u001b[32m    368\u001b[39m         \u001b[38;5;28mself\u001b[39m, url, \u001b[33mf\u001b[39m\u001b[33m\"\u001b[39m\u001b[33mRead timed out. (read timeout=\u001b[39m\u001b[38;5;132;01m{\u001b[39;00mtimeout_value\u001b[38;5;132;01m}\u001b[39;00m\u001b[33m)\u001b[39m\u001b[33m\"\u001b[39m\n\u001b[32m    369\u001b[39m     ) \u001b[38;5;28;01mfrom\u001b[39;00m\u001b[38;5;250m \u001b[39m\u001b[34;01merr\u001b[39;00m\n\u001b[32m    371\u001b[39m \u001b[38;5;66;03m# See the above comment about EAGAIN in Python 3.\u001b[39;00m\n\u001b[32m    372\u001b[39m \u001b[38;5;28;01mif\u001b[39;00m \u001b[38;5;28mhasattr\u001b[39m(err, \u001b[33m\"\u001b[39m\u001b[33merrno\u001b[39m\u001b[33m\"\u001b[39m) \u001b[38;5;129;01mand\u001b[39;00m err.errno \u001b[38;5;129;01min\u001b[39;00m _blocking_errnos:\n",
      "\u001b[31mReadTimeoutError\u001b[39m: HTTPConnectionPool(host='localhost', port=37797): Read timed out. (read timeout=120)"
     ]
    }
   ],
   "source": [
    "url = \"https://finance.yahoo.com/quote/AAPL/news/\"\n",
    "scroll_limit = 5\n",
    "\n",
    "driver = webdriver.Chrome()\n",
    "driver.get(url)\n",
    "\n",
    "# Locate <a> tag and navigate to its parent <div>\n",
    "parent_div = driver.find_elements(By.XPATH, \"//div[@class='content yf-82qtw3']\")\n",
    "\n",
    "# parent_div.get_attribute(\"class\")\n",
    "\n",
    "# # Print the class attribute of the parent <div>\n",
    "# title_element = parent_div.find_element(By.XPATH, \".//h3[contains(@class, 'yf-82qtw3)]\")\n",
    "# title_element.text"
   ]
  },
  {
   "cell_type": "markdown",
   "metadata": {},
   "source": [
    "# Playwright\n"
   ]
  },
  {
   "cell_type": "code",
   "execution_count": null,
   "metadata": {
    "vscode": {
     "languageId": "html"
    }
   },
   "outputs": [],
   "source": [
    "<div class=\"\" content yf-82qtw3><a class=\"subtle-link fin-size-small titles noUnderline yf-1xqzjha\"\n",
    "        data-ylk=\"elm:hdln;elmt:link;itc:0;ct:story;slk:Shareholders%20are%20showing%20signs%20of%20DEI%20fatigue%20as%20activists%20push%20for%20more%20votes;sec:qsp-news;subsec:all;cpos:1;g:a42c9cba-3739-4dae-8402-e5acaa0ad944\"\n",
    "        href=\"https://finance.yahoo.com/news/shareholders-are-showing-signs-of-dei-fatigue-as-activists-push-for-more-votes-140136546.html\"\n",
    "        aria-label=\"Shareholders are showing signs of DEI fatigue as activists push for more votes\"\n",
    "        title=\"Shareholders are showing signs of DEI fatigue as activists push for more votes\" data-rapid_p=\"23\"\n",
    "        data-v9y=\"1\">\n",
    "        <h3 class=\"clamp  yf-82qtw3\">Shareholders are showing signs of DEI fatigue as activists push for more votes</h3>\n",
    "        <p class=\"clamp  yf-82qtw3\">Champions and critics of DEI policies are again pushing American companies to either\n",
    "            bolster or diminish their diversity policies. But so far this year, none of the proposals are garnering\n",
    "            shareholder support.</p>\n",
    "    </a>\n",
    "    <div class=\"footer yf-82qtw3\">\n",
    "        <div class=\"publishing yf-1weyqlp\">Yahoo Finance <i aria-hidden=\"true\" data-svelte-h=\"svelte-sg6bkb\">•</i> 13\n",
    "            hours ago</div>\n",
    "        <div class=\"taxonomy-links yf-13tszyc\"><a data-testid=\"ticker-container\"\n",
    "                class=\"ticker x-small hover2 border streaming yf-1fqyif7\" aria-label=\"DE\"\n",
    "                data-ylk=\"elm:qte;elmt:link;itc:0;sec:qsp-news;slk:DE;subsec:all;cpos:1\" href=\"/quote/DE/\" title=\"DE\"\n",
    "                data-rapid_p=\"24\" data-v9y=\"1\">\n",
    "                <div class=\"name yf-1fqyif7\"><span class=\"symbol yf-1fqyif7\">DE </span> </div> <fin-streamer\n",
    "                    class=\"percentChange yf-1fqyif7\" data-symbol=\"DE\" data-field=\"regularMarketChangePercent\"\n",
    "                    data-trend=\"txt\" data-pricehint=\"2\" data-tstyle=\"default\" active=\"\"><span\n",
    "                        class=\"d60f3b00 c4af00a5\">+3.48%</span></fin-streamer>\n",
    "            </a> <a data-testid=\"ticker-container\" class=\"ticker x-small hover2 border streaming yf-1fqyif7\"\n",
    "                aria-label=\"COST\" data-ylk=\"elm:qte;elmt:link;itc:0;sec:qsp-news;slk:COST;subsec:all;cpos:1\"\n",
    "                href=\"/quote/COST/\" title=\"COST\" data-rapid_p=\"25\" data-v9y=\"1\">\n",
    "                <div class=\"name yf-1fqyif7\"><span class=\"symbol yf-1fqyif7\">COST </span> </div> <fin-streamer\n",
    "                    class=\"percentChange yf-1fqyif7\" data-symbol=\"COST\" data-field=\"regularMarketChangePercent\"\n",
    "                    data-trend=\"txt\" data-pricehint=\"2\" data-tstyle=\"default\" active=\"\"><span\n",
    "                        class=\"d60f3b00 d5882186\">-6.07%</span></fin-streamer>\n",
    "            </a> <a data-testid=\"ticker-container\" class=\"ticker x-small hover2 border streaming yf-1fqyif7\"\n",
    "                aria-label=\"AAPL\" data-ylk=\"elm:qte;elmt:link;itc:0;sec:qsp-news;slk:AAPL;subsec:all;cpos:1\"\n",
    "                href=\"/quote/AAPL/\" title=\"AAPL\" data-rapid_p=\"26\" data-v9y=\"1\">\n",
    "                <div class=\"name yf-1fqyif7\"><span class=\"symbol yf-1fqyif7\">AAPL </span> </div> <fin-streamer\n",
    "                    class=\"percentChange yf-1fqyif7\" data-symbol=\"AAPL\" data-field=\"regularMarketChangePercent\"\n",
    "                    data-trend=\"txt\" data-pricehint=\"2\" data-tstyle=\"default\" active=\"\"><span\n",
    "                        class=\"d60f3b00 c4af00a5\">+1.59%</span></fin-streamer>\n",
    "            </a> </div>\n",
    "    </div>\n",
    "</div>"
   ]
  }
 ],
 "metadata": {
  "kernelspec": {
   "display_name": "web",
   "language": "python",
   "name": "python3"
  },
  "language_info": {
   "codemirror_mode": {
    "name": "ipython",
    "version": 3
   },
   "file_extension": ".py",
   "mimetype": "text/x-python",
   "name": "python",
   "nbconvert_exporter": "python",
   "pygments_lexer": "ipython3",
   "version": "3.13.2"
  }
 },
 "nbformat": 4,
 "nbformat_minor": 2
}
