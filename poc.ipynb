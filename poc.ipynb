{
 "cells": [
  {
   "cell_type": "markdown",
   "metadata": {},
   "source": [
    "# POC\n",
    "\n",
    "Methodology for POC:\n",
    "\n",
    "1. Choose \"AAPL\".\n",
    "2. Scrape news (from Yahoo Finance), for Apple stock via scrapling\n",
    "3. Use ChatGPT to determine the sentiment of each news on scale of 1 to 5:\n",
    "\n",
    "- 1 -> Negative\n",
    "- 2 -> Moderate negative\n",
    "- 3 -> Neutral\n",
    "- 4 -> Moderate positive\n",
    "- 5 -> Positive\n",
    "\n",
    "4. Use ChatGPT to determine the stock that has highest cointegration with Apple\n",
    "\n",
    "5. Compute the mean sentiment score:\n",
    "\n",
    "- Long highest cointegrated stock at closing if mean sentiment score of stock > 4\n",
    "- Sell highest cointegrated stocks at closing if mean sentiment score < 2\n"
   ]
  },
  {
   "cell_type": "code",
   "execution_count": 63,
   "metadata": {},
   "outputs": [
    {
     "name": "stdout",
     "output_type": "stream",
     "text": [
      "The autoreload extension is already loaded. To reload it, use:\n",
      "  %reload_ext autoreload\n"
     ]
    }
   ],
   "source": [
    "import pandas as pd\n",
    "import random\n",
    "import sys\n",
    "from pathlib import Path\n",
    "from scrapling import Fetcher\n",
    "\n",
    "repo_dir = Path.cwd().as_posix()\n",
    "\n",
    "if repo_dir not in sys.path:\n",
    "    sys.path.append(repo_dir)\n",
    "\n",
    "%load_ext autoreload\n",
    "%autoreload 2\n",
    "\n",
    "from src import utils\n"
   ]
  },
  {
   "cell_type": "markdown",
   "metadata": {},
   "source": [
    "# Select Stocks\n",
    "\n",
    "- Test \"AAPL\", \"NVDA\", and \"PG\" for POC.\n",
    "- If time permits, then test the randomly selected stocks for each GICS Sector: ['PWR', 'INCY', 'CDW', 'CEG', 'BAC', 'LIN', 'BWA', 'ARE', 'CHTR', 'KDP', 'PSX']\n"
   ]
  },
  {
   "cell_type": "code",
   "execution_count": 33,
   "metadata": {},
   "outputs": [
    {
     "data": {
      "text/plain": [
       "{'Industrials': 'PWR',\n",
       " 'Health Care': 'INCY',\n",
       " 'Information Technology': 'CDW',\n",
       " 'Utilities': 'CEG',\n",
       " 'Financials': 'BAC',\n",
       " 'Materials': 'LIN',\n",
       " 'Consumer Discretionary': 'BWA',\n",
       " 'Real Estate': 'ARE',\n",
       " 'Communication Services': 'CHTR',\n",
       " 'Consumer Staples': 'KDP',\n",
       " 'Energy': 'PSX'}"
      ]
     },
     "execution_count": 33,
     "metadata": {},
     "output_type": "execute_result"
    }
   ],
   "source": [
    "stock_list = utils.gen_stock_list()\n",
    "stock_list"
   ]
  },
  {
   "cell_type": "code",
   "execution_count": 36,
   "metadata": {},
   "outputs": [
    {
     "data": {
      "text/plain": [
       "{'AAPL': 'Information Technology',\n",
       " 'MSFT': 'Information Technology',\n",
       " 'NVDA': 'Information Technology',\n",
       " 'GOOGL': 'Communication Services',\n",
       " 'META': 'Communication Services',\n",
       " 'XOM': 'Energy',\n",
       " 'CRM': 'Information Technology',\n",
       " 'HD': 'Consumer Discretionary',\n",
       " 'PG': 'Consumer Staples'}"
      ]
     },
     "execution_count": 36,
     "metadata": {},
     "output_type": "execute_result"
    }
   ],
   "source": [
    "utils.get_gics_sector(\n",
    "    [\"AAPL\", \"MSFT\", \"NVDA\", \"GOOGL\", \"META\", \"XOM\", \"CRM\", \"HD\", \"PG\"]\n",
    ")"
   ]
  },
  {
   "cell_type": "markdown",
   "metadata": {},
   "source": [
    "## AAPL\n",
    "\n",
    "- https://finance.yahoo.com/quote/AAPL/news/\n",
    "- Scrapling aren't able to web scrap fully since the news are loaded when user scroll to the end of screen.\n"
   ]
  },
  {
   "cell_type": "code",
   "execution_count": 98,
   "metadata": {},
   "outputs": [
    {
     "name": "stderr",
     "output_type": "stream",
     "text": [
      "[2025-03-08 21:01:29] INFO: Fetched (200) <GET https://finance.yahoo.com/quote/AAPL/news/> (referer: https://www.google.com/search?q=yahoo)\n"
     ]
    },
    {
     "data": {
      "text/plain": [
       "[{'publisher': 'Motley Fool',\n",
       "  'period': datetime.timedelta(seconds=7200),\n",
       "  'title': 'Could Apple Be a Millionaire-Maker Stock?',\n",
       "  'content': 'During its rise to become a dominant tech enterprise, Apple (NASDAQ: AAPL) has certainly made its early investors some serious money. In the past two decades, shares have generated a total return of greater than 18,000%, boosted by the introduction of popular hardware devices and services. Could Apple be a millionaire-maker stock?'},\n",
       " {'publisher': 'Insider Monkey',\n",
       "  'period': datetime.timedelta(seconds=43200),\n",
       "  'title': 'Apple Inc. (AAPL) Unveils AI-Powered MacBook Air with M4 Chip',\n",
       "  'content': 'We recently compiled a list of the 10 Hot AI News Updates Analysts are Monitoring. In this article, we are going to take a look at where Apple Inc. (NASDAQ:AAPL) stands against the other AI stocks. According to Goldman Sachs, the AI-powered rally in Chinese equities could boost other markets as well. Consequently, the firm has […]'},\n",
       " {'publisher': 'Zacks',\n",
       "  'period': datetime.timedelta(seconds=50400),\n",
       "  'title': 'Apple (AAPL) Beats Stock Market Upswing: What Investors Need to Know',\n",
       "  'content': 'In the most recent trading session, Apple (AAPL) closed at $239.07, indicating a +1.59% shift from the previous trading day.'},\n",
       " {'publisher': 'Bloomberg',\n",
       "  'period': datetime.timedelta(seconds=50400),\n",
       "  'title': 'Apple Delays Siri Upgrade Indefinitely as AI Concerns Escalate',\n",
       "  'content': '(Bloomberg) -- Apple Inc.’s turmoil in its AI division reached new heights on Friday, with the company delaying promised updates to the Siri digital assistant for the foreseeable future. Most Read from BloombergNJ College to Merge With State School After Financial StressTrump Administration Plans to Eliminate Dozens of Housing OfficesRepublican Mayor Braces for Tariffs: ‘We Didn’t Budget for This’How Upzoning in Cambridge Broke the YIMBY MoldNYC’s Finances Are Sinking With Gauge Falling to 11-Ye'},\n",
       " {'publisher': 'Investopedia',\n",
       "  'period': datetime.timedelta(seconds=54000),\n",
       "  'title': 'Apple Is Pushing Back AI-Driven Siri Features to 2026, Report Says',\n",
       "  'content': 'Apple plans to push back the launch of certain AI-driven Siri features until 2026, including one that would allow the voice assistant to perform tasks within other apps.'},\n",
       " {'publisher': 'The Wall Street Journal',\n",
       "  'period': datetime.timedelta(seconds=54000),\n",
       "  'title': 'Apple Says Some AI-Powered Enhancements to Siri to Be Delayed',\n",
       "  'content': 'The company, which has faced slumping iPhone sales in recent months, said that it would take it longer than expected to make Siri more personalized.'},\n",
       " {'publisher': 'MT Newswires',\n",
       "  'period': datetime.timedelta(seconds=57600),\n",
       "  'title': 'Sector Update: Tech Stocks Advance Late Afternoon',\n",
       "  'content': 'Tech stocks rose late Friday afternoon, with the Technology Select Sector SPDR Fund (XLK) adding 1.2'},\n",
       " {'publisher': \"Investor's Business Daily\",\n",
       "  'period': datetime.timedelta(seconds=64800),\n",
       "  'title': 'Magnificent Seven Stocks: Nvidia Reverses Higher; Amazon, Meta, Tesla Slide',\n",
       "  'content': 'Dubbed the Magnificent Seven stocks, Apple, Microsoft, Google parent Alphabet, Amazon.com, Nvidia, Meta Platforms and Tesla lived up to their name in 2024 with solid gains. Through the first two months of 2025, however, performance for these mega-cap stocks has been mostly negative thus far.'},\n",
       " {'publisher': 'Reuters',\n",
       "  'period': datetime.timedelta(seconds=68400),\n",
       "  'title': 'Apple says some AI improvements to Siri delayed to 2026',\n",
       "  'content': \"Some artificial intelligence improvements to Apple's voice assistant Siri will be delayed until 2026, the company said on Friday. Apple did not give a reason for the delays. Last year, Apple announced a range of AI-driven features called Apple Intelligence that included new capabilities such as rewriting emails and summarizing a cluttered inbox.\"},\n",
       " {'publisher': 'GuruFocus.com',\n",
       "  'period': datetime.timedelta(seconds=68400),\n",
       "  'title': \"Apple's First Foldable iPhone Could Launch in 2026 With Premium Pricing and AI Features\",\n",
       "  'content': 'The device could be priced above $2,000 and up to $2,500.'},\n",
       " {'publisher': 'Insider Monkey',\n",
       "  'period': datetime.timedelta(seconds=72000),\n",
       "  'title': 'Apple Inc. (AAPL): Jim Cramer Cautions – ‘I Could See the Stock Going Lower!’',\n",
       "  'content': 'We recently published a list of Jim Cramer Discusses These 13 Stocks & Criticizes Billionaires. In this article, we are going to take a look at where Apple Inc. (NASDAQ:AAPL) stands against other stocks that Jim Cramer discusses. In a recent appearance on CNBC’s Squawk on the Street, Jim Cramer continued to warn users to […]'},\n",
       " {'publisher': 'GuruFocus.com',\n",
       "  'period': datetime.timedelta(seconds=75600),\n",
       "  'title': 'Apple Secures Local Content Certifications in Indonesia but Faces Additional Regulatory Hurdles',\n",
       "  'content': 'Apple secures local content certificates for 20 products in Indonesia, including the iPhone 16.'},\n",
       " {'publisher': 'Insider Monkey',\n",
       "  'period': datetime.timedelta(seconds=75600),\n",
       "  'title': 'Is Apple Inc. (AAPL) Among the Best Warren Buffett Stock to Buy Right Now?',\n",
       "  'content': 'We recently compiled a list of the 10 Best Warren Buffett Stocks to Buy Right Now. In this article, we are going to take a look at where Apple Inc. (NASDAQ:AAPL) stands against the other Warren Buffett Stocks. Warren Buffett is one of the most successful investors the world has known. Additionally, he is arguably one […]'},\n",
       " {'publisher': 'Barrons.com',\n",
       "  'period': datetime.timedelta(seconds=79200),\n",
       "  'title': 'The Mag 7 Stocks Are No Longer Magnificent. Where the Charts Say They Go Next.',\n",
       "  'content': 'The good news for the tech heavyweights is that the stocks look due for a bounce. Here’s the technical case for buying the Mag 7.'},\n",
       " {'publisher': 'Bloomberg',\n",
       "  'period': datetime.timedelta(seconds=79200),\n",
       "  'title': 'Broadcom Shares Jump as AI Growth Fuels Upbeat Forecast',\n",
       "  'content': '(Bloomberg) -- Broadcom Inc. shares jumped after the chip supplier for Apple Inc. and other big tech companies gave an upbeat forecast, reassuring investors that spending on artificial intelligence computing remains healthy.Most Read from BloombergTrump Administration Plans to Eliminate Dozens of Housing OfficesNJ College to Merge With State School After Financial StressRepublican Mayor Braces for Tariffs: ‘We Didn’t Budget for This’How Upzoning in Cambridge Broke the YIMBY MoldNYC’s Finances Ar'},\n",
       " {'publisher': 'GuruFocus.com',\n",
       "  'period': datetime.timedelta(seconds=79200),\n",
       "  'title': 'Major Breakthrough: New Certificates Propel Apple iPhone 16 into Indonesia',\n",
       "  'content': 'Apple Certifies 20 Products, Paving the Way for iPhone 16 in Indonesia'},\n",
       " {'publisher': \"Investor's Business Daily\",\n",
       "  'period': datetime.timedelta(days=1),\n",
       "  'title': 'In Rotten Market, Top Funds Harvest Apple Stock — And 10 Others',\n",
       "  'content': 'The best mutual funds bet big on Apple stock, Meta, Robinhood, Walmart and seven others while Nasdaq turns bearish.'},\n",
       " {'publisher': 'GuruFocus.com',\n",
       "  'period': datetime.timedelta(days=1),\n",
       "  'title': \"Apple's iPhone 16 Still on Hold in Indonesia Despite Key Certification Win\",\n",
       "  'content': 'Apple clears a regulatory hurdle in Indonesia but must obtain more permits before selling its latest devices'},\n",
       " {'publisher': 'Simply Wall St.',\n",
       "  'period': datetime.timedelta(days=1),\n",
       "  'title': 'Cloud AI Today - Cirrascale Launches Inference Cloud For Scalable AI Integration',\n",
       "  'content': 'Cirrascale Cloud Services has introduced an Inference Cloud powered by the Qualcomm AI Inference Suite, enabling businesses to deploy AI models and applications efficiently with a single click. This new offering addresses the increasing demand for generative AI, providing scalable AI solutions from the cloud. The suite supports a variety of AI workloads including large language models. With cost-effective access through API interfaces, companies can integrate AI capabilities into applications...'},\n",
       " {'publisher': 'Motley Fool',\n",
       "  'period': datetime.timedelta(days=1),\n",
       "  'title': \"38% of Berkshire Hathaway's Portfolio Is Invested in These 3 Unstoppable Dividend Stocks\",\n",
       "  'content': 'There are several things Warren Buffett is known for as an investor. First, the Oracle of Omaha has consistently emphasized the importance of having a long-term mindset when investing in stocks. Second, he famously loves dividends.'}]"
      ]
     },
     "execution_count": 98,
     "metadata": {},
     "output_type": "execute_result"
    }
   ],
   "source": [
    "# Extract news related to AAPL from Yahoo Finance\n",
    "news_info = utils.extract_news_briefs(\"https://finance.yahoo.com/quote/AAPL/news/\")\n",
    "news_info"
   ]
  },
  {
   "cell_type": "markdown",
   "metadata": {},
   "source": [
    "# Perplexity Results (GPT-4o)\n",
    "\n",
    "The list of dictionaries are attached with the following prompt in Perplexity:\n",
    "\n",
    "```\n",
    "You are a stock analysis expert.\n",
    "\n",
    "I've attached list of dictionaries containing news info specifically:\n",
    "\n",
    "1. publisher = Source where news are generated\n",
    "2. period = Amount of time lapsed after news release\n",
    "3. title = News title\n",
    "4. content = News content in brief\n",
    "\n",
    "Each dictionary is supposed to be related to Apple stock.\n",
    "\n",
    "Your task:\n",
    "1. Review the 'title' and 'content' keys in each dictionary to access the sentiment related to Apple stock.\n",
    "2. Use ONLY following rating:\n",
    "\n",
    "    1 = Negative\n",
    "    2 = Moderate negative\n",
    "    3 = Neutral\n",
    "    4 = Moderate positive\n",
    "    5 = Positive\n",
    "\n",
    "3. If the news are not related to a Apple stock, please give a rating of 3.\n",
    "4. Please review all dictionary items in the attached list and provide the corresponding rating.\n",
    "5. After reviewing all dictionary items, kindly provide an overall sentiment rating for Apple stock.\n",
    "```\n",
    "\n",
    "Response:\n",
    "\n",
    "```\n",
    "Sentiment Ratings for Each News Item\n",
    "Title: \"Could Apple Be a Millionaire-Maker Stock?\"\n",
    "Content: Highlights Apple's historical success and potential for future gains.\n",
    "Rating: 5 (Positive)\n",
    "\n",
    "Title: \"Apple Inc. (AAPL) Unveils AI-Powered MacBook Air with M4 Chip\"\n",
    "Content: Discusses the launch of an innovative product, indicating progress in AI.\n",
    "Rating: 5 (Positive)\n",
    "\n",
    "Title: \"Apple (AAPL) Beats Stock Market Upswing: What Investors Need to Know\"\n",
    "Content: Reports a positive trading session for Apple stock.\n",
    "Rating: 4 (Moderate positive)\n",
    "\n",
    "Title: \"Apple Delays Siri Upgrade Indefinitely as AI Concerns Escalate\"\n",
    "Content: Focuses on delays in Apple's AI projects, raising concerns.\n",
    "Rating: 2 (Moderate negative)\n",
    "\n",
    "Title: \"Apple Is Pushing Back AI-Driven Siri Features to 2026, Report Says\"\n",
    "Content: Similar to the previous item, emphasizes delays in Siri enhancements.\n",
    "Rating: 2 (Moderate negative)\n",
    "\n",
    "Title: \"Apple Says Some AI-Powered Enhancements to Siri to Be Delayed\"\n",
    "Content: Mentions delays in Siri updates amid slumping iPhone sales.\n",
    "Rating: 2 (Moderate negative)\n",
    "\n",
    "Title: \"Sector Update: Tech Stocks Advance Late Afternoon\"\n",
    "Content: General update on tech stocks without specific focus on Apple.\n",
    "Rating: 3 (Neutral)\n",
    "\n",
    "Title: \"Magnificent Seven Stocks: Nvidia Reverses Higher; Amazon, Meta, Tesla Slide\"\n",
    "Content: Discusses multiple tech stocks, with a brief mention of Apple’s mixed performance in 2025.\n",
    "Rating: 3 (Neutral)\n",
    "\n",
    "Title: \"Apple says some AI improvements to Siri delayed to 2026\"\n",
    "Content: Reiterates delays in Siri's AI features, consistent with earlier reports.\n",
    "Rating: 2 (Moderate negative)\n",
    "\n",
    "Title: \"Apple's First Foldable iPhone Could Launch in 2026 With Premium Pricing and AI Features\"\n",
    "Content: Speculates on a high-priced foldable iPhone with advanced features, suggesting innovation but no immediate impact.\n",
    "Rating: 4 (Moderate positive)\n",
    "\n",
    "Title: \"Apple Inc. (AAPL): Jim Cramer Cautions – ‘I Could See the Stock Going Lower!’\"\n",
    "Content: Warns of potential downside for Apple stock, reflecting negativity.\n",
    "Rating: 1 (Negative)\n",
    "\n",
    "Title: \"Apple Secures Local Content Certifications in Indonesia but Faces Additional Regulatory Hurdles\"\n",
    "Content: Notes progress in regulatory compliance but highlights challenges ahead.\n",
    "Rating: 3 (Neutral)\n",
    "\n",
    "Title: \"Is Apple Inc. (AAPL) Among the Best Warren Buffett Stock to Buy Right Now?\"\n",
    "Content: Discusses Apple's position as a strong investment option under Warren Buffett’s philosophy, implying positivity.\n",
    "Rating: 4 (Moderate positive)\n",
    "\n",
    "Title: \"The Mag 7 Stocks Are No Longer Magnificent. Where the Charts Say They Go Next.\"\n",
    "Content: Broad commentary on tech stocks, including Apple, with no clear sentiment focus on Apple itself.\n",
    "Rating: 3 (Neutral)\n",
    "\n",
    "Title: \"Broadcom Shares Jump as AI Growth Fuels Upbeat Forecast\"\n",
    "Content: Primarily about Broadcom, with indirect relevance to Apple as a client company.\n",
    "Rating: 3 (Neutral)\n",
    "\n",
    "Title: \"Major Breakthrough: New Certificates Propel Apple iPhone 16 into Indonesia\"\n",
    "Content: Highlights progress in regulatory certification for iPhone sales in Indonesia, indicating positive developments for Apple’s market expansion.\n",
    "Rating: 4 (Moderate positive)\n",
    "\n",
    "Title: \"In Rotten Market, Top Funds Harvest Apple Stock — And 10 Others\"\n",
    "Content: Indicates institutional confidence in Apple stock despite broader market challenges, reflecting positivity.\n",
    "Rating: 4 (Moderate positive)\n",
    "\n",
    "Title: \"Apple's iPhone 16 Still on Hold in Indonesia Despite Key Certification Win\"\n",
    "Content: Acknowledges regulatory progress but emphasizes ongoing hurdles for product launch in Indonesia.\n",
    "Rating: 3 (Neutral)\n",
    "\n",
    "Title: \"Cloud AI Today - Cirrascale Launches Inference Cloud For Scalable AI Integration\"\n",
    "Content: Not related to Apple stock specifically but mentions general AI developments in the industry.\n",
    "Rating: 3 (Neutral)\n",
    "\n",
    "Title: \"38% of Berkshire Hathaway's Portfolio Is Invested in These 3 Unstoppable Dividend Stocks\"\n",
    "Content: General commentary on Warren Buffett’s portfolio with no specific focus on Apple stock sentiment.\n",
    "Rating: 3 (Neutral)\n",
    "\n",
    "Overall Sentiment Rating for Apple Stock\n",
    "The individual ratings suggest a mix of sentiments:\n",
    "\n",
    "Positive/Moderate Positive Ratings (5 or 4): 8 items\n",
    "\n",
    "Neutral Ratings (3): 8 items\n",
    "\n",
    "Negative/Moderate Negative Ratings (1 or 2): 4 items\n",
    "\n",
    "The overall sentiment leans toward moderately positive for Apple stock, reflecting optimism tempered by some concerns over delays and market challenges.\n",
    "\n",
    "Final Overall Sentiment Rating:\n",
    "4 (Moderate positive)\n",
    "```\n"
   ]
  },
  {
   "cell_type": "markdown",
   "metadata": {},
   "source": [
    "# Cointegration\n",
    "\n",
    "ChatGPT is not able to provide the stock with highest cointegration value with Apple stock:\n",
    "\n",
    "```\n",
    "The query about which S&P 500 stock has the highest cointegration value with Apple stock cannot be answered directly using the provided search results. Cointegration analysis requires statistical computations based on historical price data of Apple stock and other S&P 500 stocks. This involves time-series analysis to determine the long-term equilibrium relationship between Apple and other stocks.\n",
    "\n",
    "If you have access to historical price data for Apple and other S&P 500 stocks, you can calculate cointegration values using statistical software or programming languages such as Python or R. The process typically involves:\n",
    "\n",
    "Collecting Data: Obtain historical price data for Apple (AAPL) and other S&P 500 stocks over a specific period.\n",
    "\n",
    "Stationarity Testing: Use tests like the Augmented Dickey-Fuller (ADF) test to ensure the time series are stationary.\n",
    "\n",
    "Cointegration Testing: Apply tests such as the Engle-Granger two-step method or Johansen test to identify stocks with high cointegration values with Apple.\n",
    "\n",
    "If you provide relevant price data or specify tools available, I can guide you further on how to perform this analysis.\n",
    "```\n"
   ]
  },
  {
   "cell_type": "markdown",
   "metadata": {},
   "source": [
    "# Correlation\n",
    "\n",
    "ChatGPT 4-o stated Microsoft has the highest degree of correlation:\n",
    "\n",
    "```\n",
    "The stock most correlated with Apple (AAPL) among S&P 500 companies is Microsoft (MSFT). Historically, Apple and Microsoft have shown a high degree of correlation due to their positions as leading technology companies and their exposure to similar market dynamics, such as consumer electronics, cloud computing, and software services.\n",
    "\n",
    "While specific numerical correlation values for S&P 500 stocks are not provided in the search results, Microsoft is widely recognized as one of Apple’s closest peers in terms of performance trends and market behavior. If you need precise correlation coefficients, you would need to calculate them using historical price data for Apple and other S&P 500 stocks over a specific period. Tools like Python, R, or financial platforms can help generate a correlation matrix for this purpose.\n",
    "```\n"
   ]
  },
  {
   "cell_type": "markdown",
   "metadata": {},
   "source": []
  },
  {
   "cell_type": "markdown",
   "metadata": {},
   "source": []
  }
 ],
 "metadata": {
  "kernelspec": {
   "display_name": "web",
   "language": "python",
   "name": "python3"
  },
  "language_info": {
   "codemirror_mode": {
    "name": "ipython",
    "version": 3
   },
   "file_extension": ".py",
   "mimetype": "text/x-python",
   "name": "python",
   "nbconvert_exporter": "python",
   "pygments_lexer": "ipython3",
   "version": "3.13.2"
  }
 },
 "nbformat": 4,
 "nbformat_minor": 2
}
